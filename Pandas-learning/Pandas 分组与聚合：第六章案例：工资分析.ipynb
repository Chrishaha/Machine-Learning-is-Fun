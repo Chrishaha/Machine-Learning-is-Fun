{
 "cells": [
  {
   "cell_type": "code",
   "execution_count": 1,
   "metadata": {
    "collapsed": true
   },
   "outputs": [],
   "source": [
    "import numpy as np\n",
    "import pandas as pd\n",
    "import matplotlib.pyplot as plt \n",
    "%matplotlib inline"
   ]
  },
  {
   "cell_type": "code",
   "execution_count": 1,
   "metadata": {},
   "outputs": [
    {
     "data": {
      "text/html": [
       "<div>\n",
       "<style scoped>\n",
       "    .dataframe tbody tr th:only-of-type {\n",
       "        vertical-align: middle;\n",
       "    }\n",
       "\n",
       "    .dataframe tbody tr th {\n",
       "        vertical-align: top;\n",
       "    }\n",
       "\n",
       "    .dataframe thead th {\n",
       "        text-align: right;\n",
       "    }\n",
       "</style>\n",
       "<table border=\"1\" class=\"dataframe\">\n",
       "  <thead>\n",
       "    <tr style=\"text-align: right;\">\n",
       "      <th></th>\n",
       "      <th>Name</th>\n",
       "      <th>JobTitle</th>\n",
       "      <th>AgencyID</th>\n",
       "      <th>Agency</th>\n",
       "      <th>HireDate</th>\n",
       "      <th>AnnualSalary</th>\n",
       "      <th>GrossPay</th>\n",
       "    </tr>\n",
       "  </thead>\n",
       "  <tbody>\n",
       "    <tr>\n",
       "      <th>0</th>\n",
       "      <td>Aaron,Patricia G</td>\n",
       "      <td>Facilities/Office Services II</td>\n",
       "      <td>A03031</td>\n",
       "      <td>OED-Employment Dev (031)</td>\n",
       "      <td>10/24/1979 12:00:00 AM</td>\n",
       "      <td>$56705.00</td>\n",
       "      <td>$54135.44</td>\n",
       "    </tr>\n",
       "    <tr>\n",
       "      <th>1</th>\n",
       "      <td>Aaron,Petra L</td>\n",
       "      <td>ASSISTANT STATE'S ATTORNEY</td>\n",
       "      <td>A29045</td>\n",
       "      <td>States Attorneys Office (045)</td>\n",
       "      <td>09/25/2006 12:00:00 AM</td>\n",
       "      <td>$75500.00</td>\n",
       "      <td>$72445.87</td>\n",
       "    </tr>\n",
       "    <tr>\n",
       "      <th>2</th>\n",
       "      <td>Abbey,Emmanuel</td>\n",
       "      <td>CONTRACT SERV SPEC II</td>\n",
       "      <td>A40001</td>\n",
       "      <td>M-R Info Technology (001)</td>\n",
       "      <td>05/01/2013 12:00:00 AM</td>\n",
       "      <td>$60060.00</td>\n",
       "      <td>$59602.58</td>\n",
       "    </tr>\n",
       "    <tr>\n",
       "      <th>3</th>\n",
       "      <td>Abbott-Cole,Michelle</td>\n",
       "      <td>Operations Officer III</td>\n",
       "      <td>A90005</td>\n",
       "      <td>TRANS-Traffic (005)</td>\n",
       "      <td>11/28/2014 12:00:00 AM</td>\n",
       "      <td>$70000.00</td>\n",
       "      <td>$59517.21</td>\n",
       "    </tr>\n",
       "    <tr>\n",
       "      <th>4</th>\n",
       "      <td>Abdal-Rahim,Naim A</td>\n",
       "      <td>EMT Firefighter Suppression</td>\n",
       "      <td>A64120</td>\n",
       "      <td>Fire Department (120)</td>\n",
       "      <td>03/30/2011 12:00:00 AM</td>\n",
       "      <td>$64365.00</td>\n",
       "      <td>$74770.82</td>\n",
       "    </tr>\n",
       "  </tbody>\n",
       "</table>\n",
       "</div>"
      ],
      "text/plain": [
       "                   Name                       JobTitle AgencyID  \\\n",
       "0      Aaron,Patricia G  Facilities/Office Services II   A03031   \n",
       "1         Aaron,Petra L     ASSISTANT STATE'S ATTORNEY   A29045   \n",
       "2        Abbey,Emmanuel          CONTRACT SERV SPEC II   A40001   \n",
       "3  Abbott-Cole,Michelle         Operations Officer III   A90005   \n",
       "4    Abdal-Rahim,Naim A    EMT Firefighter Suppression   A64120   \n",
       "\n",
       "                          Agency                HireDate AnnualSalary  \\\n",
       "0       OED-Employment Dev (031)  10/24/1979 12:00:00 AM    $56705.00   \n",
       "1  States Attorneys Office (045)  09/25/2006 12:00:00 AM    $75500.00   \n",
       "2      M-R Info Technology (001)  05/01/2013 12:00:00 AM    $60060.00   \n",
       "3            TRANS-Traffic (005)  11/28/2014 12:00:00 AM    $70000.00   \n",
       "4          Fire Department (120)  03/30/2011 12:00:00 AM    $64365.00   \n",
       "\n",
       "    GrossPay  \n",
       "0  $54135.44  \n",
       "1  $72445.87  \n",
       "2  $59602.58  \n",
       "3  $59517.21  \n",
       "4  $74770.82  "
      ]
     },
     "execution_count": 1,
     "metadata": {},
     "output_type": "execute_result"
    }
   ],
   "source": [
    "salary = pd.read_csv('./Baltimore_City_Employee_Salaries_FY2016.csv')\n",
    "salary.head()"
   ]
  },
  {
   "cell_type": "code",
   "execution_count": 2,
   "metadata": {},
   "outputs": [
    {
     "data": {
      "text/plain": [
       "(13818, 7)"
      ]
     },
     "execution_count": 2,
     "metadata": {},
     "output_type": "execute_result"
    }
   ],
   "source": [
    "salary.shape"
   ]
  },
  {
   "cell_type": "code",
   "execution_count": 3,
   "metadata": {},
   "outputs": [
    {
     "data": {
      "text/plain": [
       "Name              0\n",
       "JobTitle          0\n",
       "AgencyID          0\n",
       "Agency            0\n",
       "HireDate          0\n",
       "AnnualSalary      0\n",
       "GrossPay        272\n",
       "dtype: int64"
      ]
     },
     "execution_count": 3,
     "metadata": {},
     "output_type": "execute_result"
    }
   ],
   "source": [
    "# GrossPay 总薪资（税前）\n",
    "salary.isnull().sum()"
   ]
  },
  {
   "cell_type": "code",
   "execution_count": 5,
   "metadata": {
    "collapsed": true
   },
   "outputs": [],
   "source": [
    "# 缺失值所在行直接去掉\n",
    "salary = salary.dropna()"
   ]
  },
  {
   "cell_type": "code",
   "execution_count": 7,
   "metadata": {},
   "outputs": [
    {
     "data": {
      "text/plain": [
       "(13546, 7)"
      ]
     },
     "execution_count": 7,
     "metadata": {},
     "output_type": "execute_result"
    }
   ],
   "source": [
    "salary.shape"
   ]
  },
  {
   "cell_type": "markdown",
   "metadata": {},
   "source": [
    "再查看一下，就没有缺失值了。"
   ]
  },
  {
   "cell_type": "code",
   "execution_count": 11,
   "metadata": {},
   "outputs": [
    {
     "data": {
      "text/plain": [
       "Name            0\n",
       "JobTitle        0\n",
       "AgencyID        0\n",
       "Agency          0\n",
       "HireDate        0\n",
       "AnnualSalary    0\n",
       "GrossPay        0\n",
       "dtype: int64"
      ]
     },
     "execution_count": 11,
     "metadata": {},
     "output_type": "execute_result"
    }
   ],
   "source": [
    "salary.isnull().sum()"
   ]
  },
  {
   "cell_type": "markdown",
   "metadata": {},
   "source": [
    "## 字符串处理方法"
   ]
  },
  {
   "cell_type": "code",
   "execution_count": 12,
   "metadata": {},
   "outputs": [
    {
     "data": {
      "text/html": [
       "<div>\n",
       "<style scoped>\n",
       "    .dataframe tbody tr th:only-of-type {\n",
       "        vertical-align: middle;\n",
       "    }\n",
       "\n",
       "    .dataframe tbody tr th {\n",
       "        vertical-align: top;\n",
       "    }\n",
       "\n",
       "    .dataframe thead th {\n",
       "        text-align: right;\n",
       "    }\n",
       "</style>\n",
       "<table border=\"1\" class=\"dataframe\">\n",
       "  <thead>\n",
       "    <tr style=\"text-align: right;\">\n",
       "      <th></th>\n",
       "      <th>AnnualSalary</th>\n",
       "      <th>GrossPay</th>\n",
       "    </tr>\n",
       "  </thead>\n",
       "  <tbody>\n",
       "    <tr>\n",
       "      <th>0</th>\n",
       "      <td>56705.00</td>\n",
       "      <td>54135.44</td>\n",
       "    </tr>\n",
       "    <tr>\n",
       "      <th>1</th>\n",
       "      <td>75500.00</td>\n",
       "      <td>72445.87</td>\n",
       "    </tr>\n",
       "    <tr>\n",
       "      <th>2</th>\n",
       "      <td>60060.00</td>\n",
       "      <td>59602.58</td>\n",
       "    </tr>\n",
       "    <tr>\n",
       "      <th>3</th>\n",
       "      <td>70000.00</td>\n",
       "      <td>59517.21</td>\n",
       "    </tr>\n",
       "    <tr>\n",
       "      <th>4</th>\n",
       "      <td>64365.00</td>\n",
       "      <td>74770.82</td>\n",
       "    </tr>\n",
       "  </tbody>\n",
       "</table>\n",
       "</div>"
      ],
      "text/plain": [
       "  AnnualSalary  GrossPay\n",
       "0     56705.00  54135.44\n",
       "1     75500.00  72445.87\n",
       "2     60060.00  59602.58\n",
       "3     70000.00  59517.21\n",
       "4     64365.00  74770.82"
      ]
     },
     "execution_count": 12,
     "metadata": {},
     "output_type": "execute_result"
    }
   ],
   "source": [
    "# 把字符串前面的美元符号去掉，并且将字符串转换成数值类型\n",
    "salary['AnnualSalary'] = salary['AnnualSalary'].str.strip('$')\n",
    "salary['GrossPay'] = salary['GrossPay'].str.strip('$')\n",
    "salary[['AnnualSalary','GrossPay']].head()"
   ]
  },
  {
   "cell_type": "code",
   "execution_count": 13,
   "metadata": {},
   "outputs": [
    {
     "data": {
      "text/plain": [
       "dtype('O')"
      ]
     },
     "execution_count": 13,
     "metadata": {},
     "output_type": "execute_result"
    }
   ],
   "source": [
    "salary['GrossPay'].dtype"
   ]
  },
  {
   "cell_type": "code",
   "execution_count": 14,
   "metadata": {},
   "outputs": [
    {
     "data": {
      "text/plain": [
       "dtype('float64')"
      ]
     },
     "execution_count": 14,
     "metadata": {},
     "output_type": "execute_result"
    }
   ],
   "source": [
    "salary['AnnualSalary'] = salary['AnnualSalary'].astype(float)\n",
    "salary['GrossPay'] = salary['GrossPay'].astype(float)\n",
    "salary['GrossPay'].dtype"
   ]
  },
  {
   "cell_type": "code",
   "execution_count": 15,
   "metadata": {},
   "outputs": [
    {
     "data": {
      "text/html": [
       "<div>\n",
       "<style scoped>\n",
       "    .dataframe tbody tr th:only-of-type {\n",
       "        vertical-align: middle;\n",
       "    }\n",
       "\n",
       "    .dataframe tbody tr th {\n",
       "        vertical-align: top;\n",
       "    }\n",
       "\n",
       "    .dataframe thead th {\n",
       "        text-align: right;\n",
       "    }\n",
       "</style>\n",
       "<table border=\"1\" class=\"dataframe\">\n",
       "  <thead>\n",
       "    <tr style=\"text-align: right;\">\n",
       "      <th></th>\n",
       "      <th>HireDate</th>\n",
       "      <th>month</th>\n",
       "    </tr>\n",
       "  </thead>\n",
       "  <tbody>\n",
       "    <tr>\n",
       "      <th>0</th>\n",
       "      <td>10/24/1979 12:00:00 AM</td>\n",
       "      <td>10</td>\n",
       "    </tr>\n",
       "    <tr>\n",
       "      <th>1</th>\n",
       "      <td>09/25/2006 12:00:00 AM</td>\n",
       "      <td>09</td>\n",
       "    </tr>\n",
       "    <tr>\n",
       "      <th>2</th>\n",
       "      <td>05/01/2013 12:00:00 AM</td>\n",
       "      <td>05</td>\n",
       "    </tr>\n",
       "    <tr>\n",
       "      <th>3</th>\n",
       "      <td>11/28/2014 12:00:00 AM</td>\n",
       "      <td>11</td>\n",
       "    </tr>\n",
       "    <tr>\n",
       "      <th>4</th>\n",
       "      <td>03/30/2011 12:00:00 AM</td>\n",
       "      <td>03</td>\n",
       "    </tr>\n",
       "  </tbody>\n",
       "</table>\n",
       "</div>"
      ],
      "text/plain": [
       "                 HireDate month\n",
       "0  10/24/1979 12:00:00 AM    10\n",
       "1  09/25/2006 12:00:00 AM    09\n",
       "2  05/01/2013 12:00:00 AM    05\n",
       "3  11/28/2014 12:00:00 AM    11\n",
       "4  03/30/2011 12:00:00 AM    03"
      ]
     },
     "execution_count": 15,
     "metadata": {},
     "output_type": "execute_result"
    }
   ],
   "source": [
    "# 单独拿出一列，存放入职的月份\n",
    "salary['month'] = salary['HireDate'].str.split('/').str[0]\n",
    "salary[['HireDate','month']].head()"
   ]
  },
  {
   "cell_type": "code",
   "execution_count": 17,
   "metadata": {},
   "outputs": [
    {
     "data": {
      "image/png": "[encoded data removed]",
      "text/plain": [
       "<Figure size 432x288 with 1 Axes>"
      ]
     },
     "metadata": {
      "image/png": {
       "height": 250,
       "width": 400
      },
      "needs_background": "light"
     },
     "output_type": "display_data"
    }
   ],
   "source": [
    "# 说明高薪的职务还是比较少的\n",
    "salary['AnnualSalary'].hist(bins=20)\n",
    "plt.show()"
   ]
  },
  {
   "cell_type": "code",
   "execution_count": 19,
   "metadata": {},
   "outputs": [
    {
     "data": {
      "text/plain": [
       "06    1468\n",
       "08    1283\n",
       "09    1227\n",
       "07    1198\n",
       "10    1185\n",
       "11    1099\n",
       "01    1097\n",
       "12    1035\n",
       "05    1023\n",
       "03    1018\n",
       "04     967\n",
       "02     946\n",
       "Name: month, dtype: int64"
      ]
     },
     "execution_count": 19,
     "metadata": {},
     "output_type": "execute_result"
    }
   ],
   "source": [
    "month_count = salary['month'].value_counts()\n",
    "month_count"
   ]
  },
  {
   "cell_type": "code",
   "execution_count": 20,
   "metadata": {},
   "outputs": [
    {
     "data": {
      "text/plain": [
       "<matplotlib.axes._subplots.AxesSubplot at 0x125c379e8>"
      ]
     },
     "execution_count": 20,
     "metadata": {},
     "output_type": "execute_result"
    },
    {
     "data": {
      "image/png": "[encoded data removed]",
      "text/plain": [
       "<Figure size 432x288 with 1 Axes>"
      ]
     },
     "metadata": {
      "image/png": {
       "height": 250,
       "width": 370
      },
      "needs_background": "light"
     },
     "output_type": "display_data"
    }
   ],
   "source": [
    "# 入职月份绘制柱状图，入职高峰期为 9 月、8 月、6 月\n",
    "month_count.plot(kind='barh')"
   ]
  },
  {
   "cell_type": "code",
   "execution_count": 21,
   "metadata": {},
   "outputs": [
    {
     "data": {
      "text/html": [
       "<div>\n",
       "<style scoped>\n",
       "    .dataframe tbody tr th:only-of-type {\n",
       "        vertical-align: middle;\n",
       "    }\n",
       "\n",
       "    .dataframe tbody tr th {\n",
       "        vertical-align: top;\n",
       "    }\n",
       "\n",
       "    .dataframe thead th {\n",
       "        text-align: right;\n",
       "    }\n",
       "</style>\n",
       "<table border=\"1\" class=\"dataframe\">\n",
       "  <thead>\n",
       "    <tr style=\"text-align: right;\">\n",
       "      <th></th>\n",
       "      <th>mean</th>\n",
       "      <th>count</th>\n",
       "    </tr>\n",
       "    <tr>\n",
       "      <th>JobTitle</th>\n",
       "      <th></th>\n",
       "      <th></th>\n",
       "    </tr>\n",
       "  </thead>\n",
       "  <tbody>\n",
       "    <tr>\n",
       "      <th>911 LEAD OPERATOR</th>\n",
       "      <td>49816.750000</td>\n",
       "      <td>4</td>\n",
       "    </tr>\n",
       "    <tr>\n",
       "      <th>911 OPERATOR</th>\n",
       "      <td>44829.461538</td>\n",
       "      <td>65</td>\n",
       "    </tr>\n",
       "    <tr>\n",
       "      <th>911 OPERATOR SUPERVISOR</th>\n",
       "      <td>57203.500000</td>\n",
       "      <td>4</td>\n",
       "    </tr>\n",
       "    <tr>\n",
       "      <th>ACCOUNT EXECUTIVE</th>\n",
       "      <td>57200.000000</td>\n",
       "      <td>4</td>\n",
       "    </tr>\n",
       "    <tr>\n",
       "      <th>ACCOUNTANT I</th>\n",
       "      <td>49065.866667</td>\n",
       "      <td>15</td>\n",
       "    </tr>\n",
       "    <tr>\n",
       "      <th>ACCOUNTANT II</th>\n",
       "      <td>58172.640000</td>\n",
       "      <td>25</td>\n",
       "    </tr>\n",
       "    <tr>\n",
       "      <th>ACCOUNTANT SUPV</th>\n",
       "      <td>67417.142857</td>\n",
       "      <td>7</td>\n",
       "    </tr>\n",
       "    <tr>\n",
       "      <th>ACCOUNTANT TRAINEE</th>\n",
       "      <td>36681.000000</td>\n",
       "      <td>1</td>\n",
       "    </tr>\n",
       "    <tr>\n",
       "      <th>ACCOUNTING ASST I</th>\n",
       "      <td>29226.333333</td>\n",
       "      <td>6</td>\n",
       "    </tr>\n",
       "    <tr>\n",
       "      <th>ACCOUNTING ASST II</th>\n",
       "      <td>34281.533333</td>\n",
       "      <td>15</td>\n",
       "    </tr>\n",
       "    <tr>\n",
       "      <th>ACCOUNTING ASST III</th>\n",
       "      <td>43187.818182</td>\n",
       "      <td>33</td>\n",
       "    </tr>\n",
       "    <tr>\n",
       "      <th>ACCOUNTING MANAGER</th>\n",
       "      <td>78155.500000</td>\n",
       "      <td>2</td>\n",
       "    </tr>\n",
       "    <tr>\n",
       "      <th>ACCOUNTING OPERATIONS OFFICER</th>\n",
       "      <td>76100.000000</td>\n",
       "      <td>1</td>\n",
       "    </tr>\n",
       "    <tr>\n",
       "      <th>ACCOUNTING SYSTEMS ADMINISTRAT</th>\n",
       "      <td>92400.000000</td>\n",
       "      <td>3</td>\n",
       "    </tr>\n",
       "    <tr>\n",
       "      <th>ACCOUNTING SYSTEMS ANALYST</th>\n",
       "      <td>63657.142857</td>\n",
       "      <td>21</td>\n",
       "    </tr>\n",
       "    <tr>\n",
       "      <th>ADM COORDINATOR</th>\n",
       "      <td>46005.500000</td>\n",
       "      <td>2</td>\n",
       "    </tr>\n",
       "    <tr>\n",
       "      <th>ADMINISTRATIVE AIDE, SHERIFF</th>\n",
       "      <td>43212.636364</td>\n",
       "      <td>11</td>\n",
       "    </tr>\n",
       "    <tr>\n",
       "      <th>ADMINISTRATIVE ANALYST I</th>\n",
       "      <td>43697.000000</td>\n",
       "      <td>8</td>\n",
       "    </tr>\n",
       "    <tr>\n",
       "      <th>ADMINISTRATIVE ANALYST II</th>\n",
       "      <td>58533.333333</td>\n",
       "      <td>3</td>\n",
       "    </tr>\n",
       "    <tr>\n",
       "      <th>ADMINISTRATIVE COORDINATOR</th>\n",
       "      <td>50036.500000</td>\n",
       "      <td>10</td>\n",
       "    </tr>\n",
       "    <tr>\n",
       "      <th>ADMINISTRATIVE POLICY ANALYST</th>\n",
       "      <td>77500.000000</td>\n",
       "      <td>1</td>\n",
       "    </tr>\n",
       "    <tr>\n",
       "      <th>ALCOHOL ASSESSMENT COUNSELOR I</th>\n",
       "      <td>35731.000000</td>\n",
       "      <td>1</td>\n",
       "    </tr>\n",
       "    <tr>\n",
       "      <th>ALCOHOL ASSESSMENT DIRECTOR CO</th>\n",
       "      <td>64000.000000</td>\n",
       "      <td>1</td>\n",
       "    </tr>\n",
       "    <tr>\n",
       "      <th>ALCOHOL ASSESSMT COUNSELOR II</th>\n",
       "      <td>38331.000000</td>\n",
       "      <td>1</td>\n",
       "    </tr>\n",
       "    <tr>\n",
       "      <th>ALCOHOL ASSESSMT COUNSELOR III</th>\n",
       "      <td>39701.000000</td>\n",
       "      <td>1</td>\n",
       "    </tr>\n",
       "    <tr>\n",
       "      <th>ANALYST/PROGRAMMER II</th>\n",
       "      <td>60947.166667</td>\n",
       "      <td>6</td>\n",
       "    </tr>\n",
       "    <tr>\n",
       "      <th>ANALYST/PROGRAMMER,LEAD</th>\n",
       "      <td>61200.000000</td>\n",
       "      <td>1</td>\n",
       "    </tr>\n",
       "    <tr>\n",
       "      <th>ANIMAL CONTROL INVESTIGATOR</th>\n",
       "      <td>47214.000000</td>\n",
       "      <td>1</td>\n",
       "    </tr>\n",
       "    <tr>\n",
       "      <th>ANIMAL ENFORCEMENT OFCR SUPV</th>\n",
       "      <td>50482.000000</td>\n",
       "      <td>2</td>\n",
       "    </tr>\n",
       "    <tr>\n",
       "      <th>ANIMAL ENFORCEMENT OFFICER</th>\n",
       "      <td>39882.230769</td>\n",
       "      <td>13</td>\n",
       "    </tr>\n",
       "    <tr>\n",
       "      <th>...</th>\n",
       "      <td>...</td>\n",
       "      <td>...</td>\n",
       "    </tr>\n",
       "    <tr>\n",
       "      <th>WATERSHED MANAGER</th>\n",
       "      <td>85900.000000</td>\n",
       "      <td>1</td>\n",
       "    </tr>\n",
       "    <tr>\n",
       "      <th>WATERSHED RANGER II</th>\n",
       "      <td>52070.400000</td>\n",
       "      <td>5</td>\n",
       "    </tr>\n",
       "    <tr>\n",
       "      <th>WATERSHED RANGER III</th>\n",
       "      <td>57084.000000</td>\n",
       "      <td>3</td>\n",
       "    </tr>\n",
       "    <tr>\n",
       "      <th>WATERSHED RANGER SUPERVISOR</th>\n",
       "      <td>76100.000000</td>\n",
       "      <td>1</td>\n",
       "    </tr>\n",
       "    <tr>\n",
       "      <th>WEB DEVELOPER</th>\n",
       "      <td>54200.000000</td>\n",
       "      <td>1</td>\n",
       "    </tr>\n",
       "    <tr>\n",
       "      <th>WELDER</th>\n",
       "      <td>43763.250000</td>\n",
       "      <td>8</td>\n",
       "    </tr>\n",
       "    <tr>\n",
       "      <th>WHITEPRINT MACHINE OPR</th>\n",
       "      <td>41355.000000</td>\n",
       "      <td>1</td>\n",
       "    </tr>\n",
       "    <tr>\n",
       "      <th>WORK STUDY STUDENT</th>\n",
       "      <td>25243.416667</td>\n",
       "      <td>12</td>\n",
       "    </tr>\n",
       "    <tr>\n",
       "      <th>WORKER'S COMPENSATION CONTRACT</th>\n",
       "      <td>81800.000000</td>\n",
       "      <td>1</td>\n",
       "    </tr>\n",
       "    <tr>\n",
       "      <th>WWW Chief of Engineering</th>\n",
       "      <td>135000.000000</td>\n",
       "      <td>1</td>\n",
       "    </tr>\n",
       "    <tr>\n",
       "      <th>WWW Division  Manager I</th>\n",
       "      <td>132600.000000</td>\n",
       "      <td>1</td>\n",
       "    </tr>\n",
       "    <tr>\n",
       "      <th>WWW Division Manager II</th>\n",
       "      <td>118920.000000</td>\n",
       "      <td>5</td>\n",
       "    </tr>\n",
       "    <tr>\n",
       "      <th>Waste Water Maint Mgr Instrum</th>\n",
       "      <td>77800.000000</td>\n",
       "      <td>1</td>\n",
       "    </tr>\n",
       "    <tr>\n",
       "      <th>Waste Water Maintenance Mgr Me</th>\n",
       "      <td>74400.000000</td>\n",
       "      <td>1</td>\n",
       "    </tr>\n",
       "    <tr>\n",
       "      <th>Waste Water Opns Tech II Pump</th>\n",
       "      <td>43404.400000</td>\n",
       "      <td>10</td>\n",
       "    </tr>\n",
       "    <tr>\n",
       "      <th>Waste Water Opns Tech II Sanit</th>\n",
       "      <td>44176.802469</td>\n",
       "      <td>81</td>\n",
       "    </tr>\n",
       "    <tr>\n",
       "      <th>Waste Water Tech Supv I Pump</th>\n",
       "      <td>54550.000000</td>\n",
       "      <td>6</td>\n",
       "    </tr>\n",
       "    <tr>\n",
       "      <th>Waste Water Tech Supv II Pump</th>\n",
       "      <td>63790.000000</td>\n",
       "      <td>1</td>\n",
       "    </tr>\n",
       "    <tr>\n",
       "      <th>Waste Water Tech Supv II Sanit</th>\n",
       "      <td>62141.400000</td>\n",
       "      <td>10</td>\n",
       "    </tr>\n",
       "    <tr>\n",
       "      <th>Waste Water Techn Supv I Sanit</th>\n",
       "      <td>53021.157895</td>\n",
       "      <td>19</td>\n",
       "    </tr>\n",
       "    <tr>\n",
       "      <th>Water Systems Pumping Supv</th>\n",
       "      <td>62700.000000</td>\n",
       "      <td>1</td>\n",
       "    </tr>\n",
       "    <tr>\n",
       "      <th>Water Systems Treatment Manage</th>\n",
       "      <td>81700.000000</td>\n",
       "      <td>1</td>\n",
       "    </tr>\n",
       "    <tr>\n",
       "      <th>Water Systems Treatment Supv</th>\n",
       "      <td>66292.500000</td>\n",
       "      <td>2</td>\n",
       "    </tr>\n",
       "    <tr>\n",
       "      <th>YOUTH DEVELOPMENT TECH</th>\n",
       "      <td>39591.000000</td>\n",
       "      <td>3</td>\n",
       "    </tr>\n",
       "    <tr>\n",
       "      <th>ZONING ADMINISTRATOR</th>\n",
       "      <td>87100.000000</td>\n",
       "      <td>1</td>\n",
       "    </tr>\n",
       "    <tr>\n",
       "      <th>ZONING APPEALS ADVISOR BMZA</th>\n",
       "      <td>53636.000000</td>\n",
       "      <td>1</td>\n",
       "    </tr>\n",
       "    <tr>\n",
       "      <th>ZONING APPEALS OFFICER</th>\n",
       "      <td>67800.000000</td>\n",
       "      <td>1</td>\n",
       "    </tr>\n",
       "    <tr>\n",
       "      <th>ZONING ENFORCEMENT OFFICER</th>\n",
       "      <td>65800.000000</td>\n",
       "      <td>1</td>\n",
       "    </tr>\n",
       "    <tr>\n",
       "      <th>ZONING EXAMINER I</th>\n",
       "      <td>45628.500000</td>\n",
       "      <td>2</td>\n",
       "    </tr>\n",
       "    <tr>\n",
       "      <th>ZONING EXAMINER II</th>\n",
       "      <td>56150.000000</td>\n",
       "      <td>1</td>\n",
       "    </tr>\n",
       "  </tbody>\n",
       "</table>\n",
       "<p>1034 rows × 2 columns</p>\n",
       "</div>"
      ],
      "text/plain": [
       "                                         mean  count\n",
       "JobTitle                                            \n",
       "911 LEAD OPERATOR                49816.750000      4\n",
       "911 OPERATOR                     44829.461538     65\n",
       "911 OPERATOR SUPERVISOR          57203.500000      4\n",
       "ACCOUNT EXECUTIVE                57200.000000      4\n",
       "ACCOUNTANT I                     49065.866667     15\n",
       "ACCOUNTANT II                    58172.640000     25\n",
       "ACCOUNTANT SUPV                  67417.142857      7\n",
       "ACCOUNTANT TRAINEE               36681.000000      1\n",
       "ACCOUNTING ASST I                29226.333333      6\n",
       "ACCOUNTING ASST II               34281.533333     15\n",
       "ACCOUNTING ASST III              43187.818182     33\n",
       "ACCOUNTING MANAGER               78155.500000      2\n",
       "ACCOUNTING OPERATIONS OFFICER    76100.000000      1\n",
       "ACCOUNTING SYSTEMS ADMINISTRAT   92400.000000      3\n",
       "ACCOUNTING SYSTEMS ANALYST       63657.142857     21\n",
       "ADM COORDINATOR                  46005.500000      2\n",
       "ADMINISTRATIVE AIDE, SHERIFF     43212.636364     11\n",
       "ADMINISTRATIVE ANALYST I         43697.000000      8\n",
       "ADMINISTRATIVE ANALYST II        58533.333333      3\n",
       "ADMINISTRATIVE COORDINATOR       50036.500000     10\n",
       "ADMINISTRATIVE POLICY ANALYST    77500.000000      1\n",
       "ALCOHOL ASSESSMENT COUNSELOR I   35731.000000      1\n",
       "ALCOHOL ASSESSMENT DIRECTOR CO   64000.000000      1\n",
       "ALCOHOL ASSESSMT COUNSELOR II    38331.000000      1\n",
       "ALCOHOL ASSESSMT COUNSELOR III   39701.000000      1\n",
       "ANALYST/PROGRAMMER II            60947.166667      6\n",
       "ANALYST/PROGRAMMER,LEAD          61200.000000      1\n",
       "ANIMAL CONTROL INVESTIGATOR      47214.000000      1\n",
       "ANIMAL ENFORCEMENT OFCR SUPV     50482.000000      2\n",
       "ANIMAL ENFORCEMENT OFFICER       39882.230769     13\n",
       "...                                       ...    ...\n",
       "WATERSHED MANAGER                85900.000000      1\n",
       "WATERSHED RANGER II              52070.400000      5\n",
       "WATERSHED RANGER III             57084.000000      3\n",
       "WATERSHED RANGER SUPERVISOR      76100.000000      1\n",
       "WEB DEVELOPER                    54200.000000      1\n",
       "WELDER                           43763.250000      8\n",
       "WHITEPRINT MACHINE OPR           41355.000000      1\n",
       "WORK STUDY STUDENT               25243.416667     12\n",
       "WORKER'S COMPENSATION CONTRACT   81800.000000      1\n",
       "WWW Chief of Engineering        135000.000000      1\n",
       "WWW Division  Manager I         132600.000000      1\n",
       "WWW Division Manager II         118920.000000      5\n",
       "Waste Water Maint Mgr Instrum    77800.000000      1\n",
       "Waste Water Maintenance Mgr Me   74400.000000      1\n",
       "Waste Water Opns Tech II Pump    43404.400000     10\n",
       "Waste Water Opns Tech II Sanit   44176.802469     81\n",
       "Waste Water Tech Supv I Pump     54550.000000      6\n",
       "Waste Water Tech Supv II Pump    63790.000000      1\n",
       "Waste Water Tech Supv II Sanit   62141.400000     10\n",
       "Waste Water Techn Supv I Sanit   53021.157895     19\n",
       "Water Systems Pumping Supv       62700.000000      1\n",
       "Water Systems Treatment Manage   81700.000000      1\n",
       "Water Systems Treatment Supv     66292.500000      2\n",
       "YOUTH DEVELOPMENT TECH           39591.000000      3\n",
       "ZONING ADMINISTRATOR             87100.000000      1\n",
       "ZONING APPEALS ADVISOR BMZA      53636.000000      1\n",
       "ZONING APPEALS OFFICER           67800.000000      1\n",
       "ZONING ENFORCEMENT OFFICER       65800.000000      1\n",
       "ZONING EXAMINER I                45628.500000      2\n",
       "ZONING EXAMINER II               56150.000000      1\n",
       "\n",
       "[1034 rows x 2 columns]"
      ]
     },
     "execution_count": 21,
     "metadata": {},
     "output_type": "execute_result"
    }
   ],
   "source": [
    "# 计算各个职位，年薪的平均值和职位个数\n",
    "agg_salary = salary.groupby('JobTitle')['AnnualSalary'].agg(['mean','count'])\n",
    "agg_salary"
   ]
  },
  {
   "cell_type": "code",
   "execution_count": 20,
   "metadata": {},
   "outputs": [
    {
     "data": {
      "text/html": [
       "<div>\n",
       "<style scoped>\n",
       "    .dataframe tbody tr th:only-of-type {\n",
       "        vertical-align: middle;\n",
       "    }\n",
       "\n",
       "    .dataframe tbody tr th {\n",
       "        vertical-align: top;\n",
       "    }\n",
       "\n",
       "    .dataframe thead th {\n",
       "        text-align: right;\n",
       "    }\n",
       "</style>\n",
       "<table border=\"1\" class=\"dataframe\">\n",
       "  <thead>\n",
       "    <tr style=\"text-align: right;\">\n",
       "      <th></th>\n",
       "      <th>mean</th>\n",
       "      <th>count</th>\n",
       "    </tr>\n",
       "    <tr>\n",
       "      <th>JobTitle</th>\n",
       "      <th></th>\n",
       "      <th></th>\n",
       "    </tr>\n",
       "  </thead>\n",
       "  <tbody>\n",
       "    <tr>\n",
       "      <th>STATE'S ATTORNEY</th>\n",
       "      <td>238772.0</td>\n",
       "      <td>1</td>\n",
       "    </tr>\n",
       "    <tr>\n",
       "      <th>Police Commissioner</th>\n",
       "      <td>200000.0</td>\n",
       "      <td>1</td>\n",
       "    </tr>\n",
       "    <tr>\n",
       "      <th>Executive Director V</th>\n",
       "      <td>182500.0</td>\n",
       "      <td>1</td>\n",
       "    </tr>\n",
       "    <tr>\n",
       "      <th>MAYOR</th>\n",
       "      <td>171635.0</td>\n",
       "      <td>1</td>\n",
       "    </tr>\n",
       "    <tr>\n",
       "      <th>Executive Director III</th>\n",
       "      <td>171306.5</td>\n",
       "      <td>10</td>\n",
       "    </tr>\n",
       "  </tbody>\n",
       "</table>\n",
       "</div>"
      ],
      "text/plain": [
       "                            mean  count\n",
       "JobTitle                               \n",
       "STATE'S ATTORNEY        238772.0      1\n",
       "Police Commissioner     200000.0      1\n",
       "Executive Director V    182500.0      1\n",
       "MAYOR                   171635.0      1\n",
       "Executive Director III  171306.5     10"
      ]
     },
     "execution_count": 20,
     "metadata": {},
     "output_type": "execute_result"
    }
   ],
   "source": [
    "sort_salary = agg_salary.sort_values(by='mean',ascending=False)[:5]\n",
    "sort_salary"
   ]
  },
  {
   "cell_type": "code",
   "execution_count": 21,
   "metadata": {},
   "outputs": [
    {
     "data": {
      "text/plain": [
       "<matplotlib.axes._subplots.AxesSubplot at 0x12253fe10>"
      ]
     },
     "execution_count": 21,
     "metadata": {},
     "output_type": "execute_result"
    },
    {
     "data": {
      "image/png": "[encoded data removed]",
      "text/plain": [
       "<Figure size 432x288 with 1 Axes>"
      ]
     },
     "metadata": {
      "image/png": {
       "height": 360,
       "width": 396
      },
      "needs_background": "light"
     },
     "output_type": "display_data"
    }
   ],
   "source": [
    "sort_salary['mean'].plot(kind='bar')"
   ]
  },
  {
   "cell_type": "code",
   "execution_count": 22,
   "metadata": {},
   "outputs": [
    {
     "data": {
      "text/html": [
       "<div>\n",
       "<style scoped>\n",
       "    .dataframe tbody tr th:only-of-type {\n",
       "        vertical-align: middle;\n",
       "    }\n",
       "\n",
       "    .dataframe tbody tr th {\n",
       "        vertical-align: top;\n",
       "    }\n",
       "\n",
       "    .dataframe thead th {\n",
       "        text-align: right;\n",
       "    }\n",
       "</style>\n",
       "<table border=\"1\" class=\"dataframe\">\n",
       "  <thead>\n",
       "    <tr style=\"text-align: right;\">\n",
       "      <th></th>\n",
       "      <th>mean</th>\n",
       "      <th>count</th>\n",
       "    </tr>\n",
       "    <tr>\n",
       "      <th>JobTitle</th>\n",
       "      <th></th>\n",
       "      <th></th>\n",
       "    </tr>\n",
       "  </thead>\n",
       "  <tbody>\n",
       "    <tr>\n",
       "      <th>POLICE OFFICER</th>\n",
       "      <td>70396.973804</td>\n",
       "      <td>1756</td>\n",
       "    </tr>\n",
       "    <tr>\n",
       "      <th>LABORER (Hourly)</th>\n",
       "      <td>31274.818512</td>\n",
       "      <td>551</td>\n",
       "    </tr>\n",
       "    <tr>\n",
       "      <th>EMT Firefighter Suppression</th>\n",
       "      <td>63688.088319</td>\n",
       "      <td>351</td>\n",
       "    </tr>\n",
       "    <tr>\n",
       "      <th>RECREATION ARTS INSTRUCTOR</th>\n",
       "      <td>24420.313480</td>\n",
       "      <td>319</td>\n",
       "    </tr>\n",
       "    <tr>\n",
       "      <th>OFFICE SUPPORT SPECIALIST III</th>\n",
       "      <td>35560.003300</td>\n",
       "      <td>303</td>\n",
       "    </tr>\n",
       "  </tbody>\n",
       "</table>\n",
       "</div>"
      ],
      "text/plain": [
       "                                       mean  count\n",
       "JobTitle                                          \n",
       "POLICE OFFICER                 70396.973804   1756\n",
       "LABORER (Hourly)               31274.818512    551\n",
       "EMT Firefighter Suppression    63688.088319    351\n",
       "RECREATION ARTS INSTRUCTOR     24420.313480    319\n",
       "OFFICE SUPPORT SPECIALIST III  35560.003300    303"
      ]
     },
     "execution_count": 22,
     "metadata": {},
     "output_type": "execute_result"
    }
   ],
   "source": [
    "sort_count = agg_salary.sort_values(by='count', ascending=False)[:5]\n",
    "sort_count"
   ]
  },
  {
   "cell_type": "code",
   "execution_count": 28,
   "metadata": {},
   "outputs": [
    {
     "data": {
      "text/plain": [
       "<matplotlib.axes._subplots.AxesSubplot at 0x125145a20>"
      ]
     },
     "execution_count": 28,
     "metadata": {},
     "output_type": "execute_result"
    },
    {
     "data": {
      "image/png": "[encoded data removed]",
      "text/plain": [
       "<Figure size 432x288 with 1 Axes>"
      ]
     },
     "metadata": {
      "image/png": {
       "height": 359,
       "width": 370
      },
      "needs_background": "light"
     },
     "output_type": "display_data"
    }
   ],
   "source": [
    "sort_salary['count'].plot(kind='bar')"
   ]
  },
  {
   "cell_type": "code",
   "execution_count": 24,
   "metadata": {
    "collapsed": true
   },
   "outputs": [],
   "source": [
    "plt.bar?\n"
   ]
  },
  {
   "cell_type": "code",
   "execution_count": 29,
   "metadata": {},
   "outputs": [
    {
     "data": {
      "text/plain": [
       "<matplotlib.axes._subplots.AxesSubplot at 0x1251528d0>"
      ]
     },
     "execution_count": 29,
     "metadata": {},
     "output_type": "execute_result"
    },
    {
     "data": {
      "image/png": "[encoded data removed]",
      "text/plain": [
       "<Figure size 432x288 with 1 Axes>"
      ]
     },
     "metadata": {
      "image/png": {
       "height": 416,
       "width": 383
      },
      "needs_background": "light"
     },
     "output_type": "display_data"
    }
   ],
   "source": [
    "sort_count['count'].plot(kind='bar')"
   ]
  },
  {
   "cell_type": "code",
   "execution_count": 27,
   "metadata": {},
   "outputs": [
    {
     "data": {
      "text/plain": [
       "Index(['POLICE OFFICER', 'LABORER (Hourly)', 'EMT Firefighter Suppression',\n",
       "       'RECREATION ARTS INSTRUCTOR', 'OFFICE SUPPORT SPECIALIST III'],\n",
       "      dtype='object', name='JobTitle')"
      ]
     },
     "execution_count": 27,
     "metadata": {},
     "output_type": "execute_result"
    }
   ],
   "source": [
    "sort_count.index"
   ]
  },
  {
   "cell_type": "code",
   "execution_count": null,
   "metadata": {
    "collapsed": true
   },
   "outputs": [],
   "source": []
  }
 ],
 "metadata": {
  "kernelspec": {
   "display_name": "Python 3",
   "language": "python",
   "name": "python3"
  },
  "language_info": {
   "codemirror_mode": {
    "name": "ipython",
    "version": 3
   },
   "file_extension": ".py",
   "mimetype": "text/x-python",
   "name": "python",
   "nbconvert_exporter": "python",
   "pygments_lexer": "ipython3",
   "version": "3.6.1"
  },
  "toc": {
   "nav_menu": {},
   "number_sections": true,
   "sideBar": true,
   "skip_h1_title": false,
   "toc_cell": false,
   "toc_position": {},
   "toc_section_display": "block",
   "toc_window_display": false
  }
 },
 "nbformat": 4,
 "nbformat_minor": 2
}
