{
 "cells": [
  {
   "cell_type": "markdown",
   "metadata": {},
   "source": [
    "Kaggle入门之房屋价格预测\n",
    "\n",
    "参考资料：\n",
    "\n",
    "https://blog.csdn.net/qq_26658823/article/details/79085736"
   ]
  },
  {
   "cell_type": "code",
   "execution_count": 54,
   "metadata": {
    "collapsed": true
   },
   "outputs": [],
   "source": [
    "import numpy as np\n",
    "import pandas as pd\n",
    "\n",
    "import matplotlib.pyplot as plt\n",
    "import seaborn as sns\n",
    "%matplotlib inline"
   ]
  },
  {
   "cell_type": "code",
   "execution_count": 63,
   "metadata": {
    "collapsed": true
   },
   "outputs": [],
   "source": [
    "train_df = pd.read_csv('./input/train.csv', index_col=0)\n",
    "test_df = pd.read_csv('./input/test.csv', index_col=0)"
   ]
  },
  {
   "cell_type": "code",
   "execution_count": 74,
   "metadata": {},
   "outputs": [
    {
     "data": {
      "text/plain": [
       "(1460, 79)"
      ]
     },
     "execution_count": 74,
     "metadata": {},
     "output_type": "execute_result"
    }
   ],
   "source": [
    "train_df.shape"
   ]
  },
  {
   "cell_type": "code",
   "execution_count": 75,
   "metadata": {},
   "outputs": [
    {
     "data": {
      "text/plain": [
       "(1459, 79)"
      ]
     },
     "execution_count": 75,
     "metadata": {},
     "output_type": "execute_result"
    }
   ],
   "source": [
    "test_df.shape"
   ]
  },
  {
   "cell_type": "code",
   "execution_count": 69,
   "metadata": {
    "collapsed": true
   },
   "outputs": [],
   "source": [
    "# train_df.head()\n",
    "# test_df.head()"
   ]
  },
  {
   "cell_type": "code",
   "execution_count": 70,
   "metadata": {},
   "outputs": [
    {
     "data": {
      "image/png": "[encoded data removed]",
      "text/plain": [
       "<Figure size 432x288 with 2 Axes>"
      ]
     },
     "metadata": {
      "image/png": {
       "height": 263,
       "width": 372
      },
      "needs_background": "light"
     },
     "output_type": "display_data"
    }
   ],
   "source": [
    "prices = DataFrame({\n",
    "    \"price\": train_df.SalePrice,\n",
    "    \"log(price + 1)\": np.log1p(train_df.SalePrice)\n",
    "})\n",
    "prices.hist()\n",
    "plt.show()"
   ]
  },
  {
   "cell_type": "code",
   "execution_count": 71,
   "metadata": {
    "collapsed": true
   },
   "outputs": [],
   "source": [
    "y_train = np.log1p(train_df['SalePrice'])\n",
    "# train_df.drop(['SalePrice'], axis=1, inplace=True)\n",
    "del train_df['SalePrice']"
   ]
  },
  {
   "cell_type": "code",
   "execution_count": 73,
   "metadata": {},
   "outputs": [
    {
     "data": {
      "text/plain": [
       "(2919, 79)"
      ]
     },
     "execution_count": 73,
     "metadata": {},
     "output_type": "execute_result"
    }
   ],
   "source": [
    "all_df = pd.concat((train_df, test_df), axis=0)\n",
    "all_df.shape"
   ]
  },
  {
   "cell_type": "markdown",
   "metadata": {},
   "source": [
    "MSSubClass 这个字段是字符型。"
   ]
  },
  {
   "cell_type": "code",
   "execution_count": 76,
   "metadata": {},
   "outputs": [
    {
     "data": {
      "text/plain": [
       "dtype('int64')"
      ]
     },
     "execution_count": 76,
     "metadata": {},
     "output_type": "execute_result"
    }
   ],
   "source": [
    "all_df.MSSubClass.dtypes"
   ]
  },
  {
   "cell_type": "code",
   "execution_count": 77,
   "metadata": {
    "collapsed": true
   },
   "outputs": [],
   "source": [
    "all_df.MSSubClass = all_df.MSSubClass.astype(str)"
   ]
  },
  {
   "cell_type": "code",
   "execution_count": 78,
   "metadata": {},
   "outputs": [
    {
     "data": {
      "text/plain": [
       "20     1079\n",
       "60      575\n",
       "50      287\n",
       "120     182\n",
       "30      139\n",
       "160     128\n",
       "70      128\n",
       "80      118\n",
       "90      109\n",
       "190      61\n",
       "85       48\n",
       "75       23\n",
       "45       18\n",
       "180      17\n",
       "40        6\n",
       "150       1\n",
       "Name: MSSubClass, dtype: int64"
      ]
     },
     "execution_count": 78,
     "metadata": {},
     "output_type": "execute_result"
    }
   ],
   "source": [
    "all_df.MSSubClass.value_counts()"
   ]
  },
  {
   "cell_type": "code",
   "execution_count": 79,
   "metadata": {},
   "outputs": [
    {
     "data": {
      "text/html": [
       "<div>\n",
       "<style scoped>\n",
       "    .dataframe tbody tr th:only-of-type {\n",
       "        vertical-align: middle;\n",
       "    }\n",
       "\n",
       "    .dataframe tbody tr th {\n",
       "        vertical-align: top;\n",
       "    }\n",
       "\n",
       "    .dataframe thead th {\n",
       "        text-align: right;\n",
       "    }\n",
       "</style>\n",
       "<table border=\"1\" class=\"dataframe\">\n",
       "  <thead>\n",
       "    <tr style=\"text-align: right;\">\n",
       "      <th></th>\n",
       "      <th>MSSubClass_120</th>\n",
       "      <th>MSSubClass_150</th>\n",
       "      <th>MSSubClass_160</th>\n",
       "      <th>MSSubClass_180</th>\n",
       "      <th>MSSubClass_190</th>\n",
       "      <th>MSSubClass_20</th>\n",
       "      <th>MSSubClass_30</th>\n",
       "      <th>MSSubClass_40</th>\n",
       "      <th>MSSubClass_45</th>\n",
       "      <th>MSSubClass_50</th>\n",
       "      <th>MSSubClass_60</th>\n",
       "      <th>MSSubClass_70</th>\n",
       "      <th>MSSubClass_75</th>\n",
       "      <th>MSSubClass_80</th>\n",
       "      <th>MSSubClass_85</th>\n",
       "      <th>MSSubClass_90</th>\n",
       "    </tr>\n",
       "    <tr>\n",
       "      <th>Id</th>\n",
       "      <th></th>\n",
       "      <th></th>\n",
       "      <th></th>\n",
       "      <th></th>\n",
       "      <th></th>\n",
       "      <th></th>\n",
       "      <th></th>\n",
       "      <th></th>\n",
       "      <th></th>\n",
       "      <th></th>\n",
       "      <th></th>\n",
       "      <th></th>\n",
       "      <th></th>\n",
       "      <th></th>\n",
       "      <th></th>\n",
       "      <th></th>\n",
       "    </tr>\n",
       "  </thead>\n",
       "  <tbody>\n",
       "    <tr>\n",
       "      <th>1</th>\n",
       "      <td>0</td>\n",
       "      <td>0</td>\n",
       "      <td>0</td>\n",
       "      <td>0</td>\n",
       "      <td>0</td>\n",
       "      <td>0</td>\n",
       "      <td>0</td>\n",
       "      <td>0</td>\n",
       "      <td>0</td>\n",
       "      <td>0</td>\n",
       "      <td>1</td>\n",
       "      <td>0</td>\n",
       "      <td>0</td>\n",
       "      <td>0</td>\n",
       "      <td>0</td>\n",
       "      <td>0</td>\n",
       "    </tr>\n",
       "    <tr>\n",
       "      <th>2</th>\n",
       "      <td>0</td>\n",
       "      <td>0</td>\n",
       "      <td>0</td>\n",
       "      <td>0</td>\n",
       "      <td>0</td>\n",
       "      <td>1</td>\n",
       "      <td>0</td>\n",
       "      <td>0</td>\n",
       "      <td>0</td>\n",
       "      <td>0</td>\n",
       "      <td>0</td>\n",
       "      <td>0</td>\n",
       "      <td>0</td>\n",
       "      <td>0</td>\n",
       "      <td>0</td>\n",
       "      <td>0</td>\n",
       "    </tr>\n",
       "    <tr>\n",
       "      <th>3</th>\n",
       "      <td>0</td>\n",
       "      <td>0</td>\n",
       "      <td>0</td>\n",
       "      <td>0</td>\n",
       "      <td>0</td>\n",
       "      <td>0</td>\n",
       "      <td>0</td>\n",
       "      <td>0</td>\n",
       "      <td>0</td>\n",
       "      <td>0</td>\n",
       "      <td>1</td>\n",
       "      <td>0</td>\n",
       "      <td>0</td>\n",
       "      <td>0</td>\n",
       "      <td>0</td>\n",
       "      <td>0</td>\n",
       "    </tr>\n",
       "    <tr>\n",
       "      <th>4</th>\n",
       "      <td>0</td>\n",
       "      <td>0</td>\n",
       "      <td>0</td>\n",
       "      <td>0</td>\n",
       "      <td>0</td>\n",
       "      <td>0</td>\n",
       "      <td>0</td>\n",
       "      <td>0</td>\n",
       "      <td>0</td>\n",
       "      <td>0</td>\n",
       "      <td>0</td>\n",
       "      <td>1</td>\n",
       "      <td>0</td>\n",
       "      <td>0</td>\n",
       "      <td>0</td>\n",
       "      <td>0</td>\n",
       "    </tr>\n",
       "    <tr>\n",
       "      <th>5</th>\n",
       "      <td>0</td>\n",
       "      <td>0</td>\n",
       "      <td>0</td>\n",
       "      <td>0</td>\n",
       "      <td>0</td>\n",
       "      <td>0</td>\n",
       "      <td>0</td>\n",
       "      <td>0</td>\n",
       "      <td>0</td>\n",
       "      <td>0</td>\n",
       "      <td>1</td>\n",
       "      <td>0</td>\n",
       "      <td>0</td>\n",
       "      <td>0</td>\n",
       "      <td>0</td>\n",
       "      <td>0</td>\n",
       "    </tr>\n",
       "  </tbody>\n",
       "</table>\n",
       "</div>"
      ],
      "text/plain": [
       "    MSSubClass_120  MSSubClass_150  MSSubClass_160  MSSubClass_180  \\\n",
       "Id                                                                   \n",
       "1                0               0               0               0   \n",
       "2                0               0               0               0   \n",
       "3                0               0               0               0   \n",
       "4                0               0               0               0   \n",
       "5                0               0               0               0   \n",
       "\n",
       "    MSSubClass_190  MSSubClass_20  MSSubClass_30  MSSubClass_40  \\\n",
       "Id                                                                \n",
       "1                0              0              0              0   \n",
       "2                0              1              0              0   \n",
       "3                0              0              0              0   \n",
       "4                0              0              0              0   \n",
       "5                0              0              0              0   \n",
       "\n",
       "    MSSubClass_45  MSSubClass_50  MSSubClass_60  MSSubClass_70  MSSubClass_75  \\\n",
       "Id                                                                              \n",
       "1               0              0              1              0              0   \n",
       "2               0              0              0              0              0   \n",
       "3               0              0              1              0              0   \n",
       "4               0              0              0              1              0   \n",
       "5               0              0              1              0              0   \n",
       "\n",
       "    MSSubClass_80  MSSubClass_85  MSSubClass_90  \n",
       "Id                                               \n",
       "1               0              0              0  \n",
       "2               0              0              0  \n",
       "3               0              0              0  \n",
       "4               0              0              0  \n",
       "5               0              0              0  "
      ]
     },
     "execution_count": 79,
     "metadata": {},
     "output_type": "execute_result"
    }
   ],
   "source": [
    "pd.get_dummies(all_df.MSSubClass, prefix='MSSubClass').head()"
   ]
  },
  {
   "cell_type": "code",
   "execution_count": 13,
   "metadata": {},
   "outputs": [
    {
     "data": {
      "text/html": [
       "<div>\n",
       "<style scoped>\n",
       "    .dataframe tbody tr th:only-of-type {\n",
       "        vertical-align: middle;\n",
       "    }\n",
       "\n",
       "    .dataframe tbody tr th {\n",
       "        vertical-align: top;\n",
       "    }\n",
       "\n",
       "    .dataframe thead th {\n",
       "        text-align: right;\n",
       "    }\n",
       "</style>\n",
       "<table border=\"1\" class=\"dataframe\">\n",
       "  <thead>\n",
       "    <tr style=\"text-align: right;\">\n",
       "      <th></th>\n",
       "      <th>LotFrontage</th>\n",
       "      <th>LotArea</th>\n",
       "      <th>OverallQual</th>\n",
       "      <th>OverallCond</th>\n",
       "      <th>YearBuilt</th>\n",
       "      <th>YearRemodAdd</th>\n",
       "      <th>MasVnrArea</th>\n",
       "      <th>BsmtFinSF1</th>\n",
       "      <th>BsmtFinSF2</th>\n",
       "      <th>BsmtUnfSF</th>\n",
       "      <th>...</th>\n",
       "      <th>SaleType_ConLw</th>\n",
       "      <th>SaleType_New</th>\n",
       "      <th>SaleType_Oth</th>\n",
       "      <th>SaleType_WD</th>\n",
       "      <th>SaleCondition_Abnorml</th>\n",
       "      <th>SaleCondition_AdjLand</th>\n",
       "      <th>SaleCondition_Alloca</th>\n",
       "      <th>SaleCondition_Family</th>\n",
       "      <th>SaleCondition_Normal</th>\n",
       "      <th>SaleCondition_Partial</th>\n",
       "    </tr>\n",
       "    <tr>\n",
       "      <th>Id</th>\n",
       "      <th></th>\n",
       "      <th></th>\n",
       "      <th></th>\n",
       "      <th></th>\n",
       "      <th></th>\n",
       "      <th></th>\n",
       "      <th></th>\n",
       "      <th></th>\n",
       "      <th></th>\n",
       "      <th></th>\n",
       "      <th></th>\n",
       "      <th></th>\n",
       "      <th></th>\n",
       "      <th></th>\n",
       "      <th></th>\n",
       "      <th></th>\n",
       "      <th></th>\n",
       "      <th></th>\n",
       "      <th></th>\n",
       "      <th></th>\n",
       "      <th></th>\n",
       "    </tr>\n",
       "  </thead>\n",
       "  <tbody>\n",
       "    <tr>\n",
       "      <th>1</th>\n",
       "      <td>65.0</td>\n",
       "      <td>8450</td>\n",
       "      <td>7</td>\n",
       "      <td>5</td>\n",
       "      <td>2003</td>\n",
       "      <td>2003</td>\n",
       "      <td>196.0</td>\n",
       "      <td>706.0</td>\n",
       "      <td>0.0</td>\n",
       "      <td>150.0</td>\n",
       "      <td>...</td>\n",
       "      <td>0</td>\n",
       "      <td>0</td>\n",
       "      <td>0</td>\n",
       "      <td>1</td>\n",
       "      <td>0</td>\n",
       "      <td>0</td>\n",
       "      <td>0</td>\n",
       "      <td>0</td>\n",
       "      <td>1</td>\n",
       "      <td>0</td>\n",
       "    </tr>\n",
       "    <tr>\n",
       "      <th>2</th>\n",
       "      <td>80.0</td>\n",
       "      <td>9600</td>\n",
       "      <td>6</td>\n",
       "      <td>8</td>\n",
       "      <td>1976</td>\n",
       "      <td>1976</td>\n",
       "      <td>0.0</td>\n",
       "      <td>978.0</td>\n",
       "      <td>0.0</td>\n",
       "      <td>284.0</td>\n",
       "      <td>...</td>\n",
       "      <td>0</td>\n",
       "      <td>0</td>\n",
       "      <td>0</td>\n",
       "      <td>1</td>\n",
       "      <td>0</td>\n",
       "      <td>0</td>\n",
       "      <td>0</td>\n",
       "      <td>0</td>\n",
       "      <td>1</td>\n",
       "      <td>0</td>\n",
       "    </tr>\n",
       "    <tr>\n",
       "      <th>3</th>\n",
       "      <td>68.0</td>\n",
       "      <td>11250</td>\n",
       "      <td>7</td>\n",
       "      <td>5</td>\n",
       "      <td>2001</td>\n",
       "      <td>2002</td>\n",
       "      <td>162.0</td>\n",
       "      <td>486.0</td>\n",
       "      <td>0.0</td>\n",
       "      <td>434.0</td>\n",
       "      <td>...</td>\n",
       "      <td>0</td>\n",
       "      <td>0</td>\n",
       "      <td>0</td>\n",
       "      <td>1</td>\n",
       "      <td>0</td>\n",
       "      <td>0</td>\n",
       "      <td>0</td>\n",
       "      <td>0</td>\n",
       "      <td>1</td>\n",
       "      <td>0</td>\n",
       "    </tr>\n",
       "    <tr>\n",
       "      <th>4</th>\n",
       "      <td>60.0</td>\n",
       "      <td>9550</td>\n",
       "      <td>7</td>\n",
       "      <td>5</td>\n",
       "      <td>1915</td>\n",
       "      <td>1970</td>\n",
       "      <td>0.0</td>\n",
       "      <td>216.0</td>\n",
       "      <td>0.0</td>\n",
       "      <td>540.0</td>\n",
       "      <td>...</td>\n",
       "      <td>0</td>\n",
       "      <td>0</td>\n",
       "      <td>0</td>\n",
       "      <td>1</td>\n",
       "      <td>1</td>\n",
       "      <td>0</td>\n",
       "      <td>0</td>\n",
       "      <td>0</td>\n",
       "      <td>0</td>\n",
       "      <td>0</td>\n",
       "    </tr>\n",
       "    <tr>\n",
       "      <th>5</th>\n",
       "      <td>84.0</td>\n",
       "      <td>14260</td>\n",
       "      <td>8</td>\n",
       "      <td>5</td>\n",
       "      <td>2000</td>\n",
       "      <td>2000</td>\n",
       "      <td>350.0</td>\n",
       "      <td>655.0</td>\n",
       "      <td>0.0</td>\n",
       "      <td>490.0</td>\n",
       "      <td>...</td>\n",
       "      <td>0</td>\n",
       "      <td>0</td>\n",
       "      <td>0</td>\n",
       "      <td>1</td>\n",
       "      <td>0</td>\n",
       "      <td>0</td>\n",
       "      <td>0</td>\n",
       "      <td>0</td>\n",
       "      <td>1</td>\n",
       "      <td>0</td>\n",
       "    </tr>\n",
       "  </tbody>\n",
       "</table>\n",
       "<p>5 rows × 303 columns</p>\n",
       "</div>"
      ],
      "text/plain": [
       "    LotFrontage  LotArea  OverallQual  OverallCond  YearBuilt  YearRemodAdd  \\\n",
       "Id                                                                            \n",
       "1          65.0     8450            7            5       2003          2003   \n",
       "2          80.0     9600            6            8       1976          1976   \n",
       "3          68.0    11250            7            5       2001          2002   \n",
       "4          60.0     9550            7            5       1915          1970   \n",
       "5          84.0    14260            8            5       2000          2000   \n",
       "\n",
       "    MasVnrArea  BsmtFinSF1  BsmtFinSF2  BsmtUnfSF          ...            \\\n",
       "Id                                                         ...             \n",
       "1        196.0       706.0         0.0      150.0          ...             \n",
       "2          0.0       978.0         0.0      284.0          ...             \n",
       "3        162.0       486.0         0.0      434.0          ...             \n",
       "4          0.0       216.0         0.0      540.0          ...             \n",
       "5        350.0       655.0         0.0      490.0          ...             \n",
       "\n",
       "    SaleType_ConLw  SaleType_New  SaleType_Oth  SaleType_WD  \\\n",
       "Id                                                            \n",
       "1                0             0             0            1   \n",
       "2                0             0             0            1   \n",
       "3                0             0             0            1   \n",
       "4                0             0             0            1   \n",
       "5                0             0             0            1   \n",
       "\n",
       "    SaleCondition_Abnorml  SaleCondition_AdjLand  SaleCondition_Alloca  \\\n",
       "Id                                                                       \n",
       "1                       0                      0                     0   \n",
       "2                       0                      0                     0   \n",
       "3                       0                      0                     0   \n",
       "4                       1                      0                     0   \n",
       "5                       0                      0                     0   \n",
       "\n",
       "    SaleCondition_Family  SaleCondition_Normal  SaleCondition_Partial  \n",
       "Id                                                                     \n",
       "1                      0                     1                      0  \n",
       "2                      0                     1                      0  \n",
       "3                      0                     1                      0  \n",
       "4                      0                     0                      0  \n",
       "5                      0                     1                      0  \n",
       "\n",
       "[5 rows x 303 columns]"
      ]
     },
     "execution_count": 13,
     "metadata": {},
     "output_type": "execute_result"
    }
   ],
   "source": [
    "all_dummy_df = pd.get_dummies(all_df)\n",
    "all_dummy_df.head()"
   ]
  },
  {
   "cell_type": "markdown",
   "metadata": {},
   "source": [
    "统计空值。"
   ]
  },
  {
   "cell_type": "code",
   "execution_count": 80,
   "metadata": {},
   "outputs": [
    {
     "data": {
      "text/plain": [
       "SaleCondition_Partial    0\n",
       "Neighborhood_NridgHt     0\n",
       "Neighborhood_SWISU       0\n",
       "Neighborhood_Sawyer      0\n",
       "Neighborhood_SawyerW     0\n",
       "dtype: int64"
      ]
     },
     "execution_count": 80,
     "metadata": {},
     "output_type": "execute_result"
    }
   ],
   "source": [
    "all_dummy_df.isnull().sum().sort_values(ascending=False).head()"
   ]
  },
  {
   "cell_type": "code",
   "execution_count": 84,
   "metadata": {},
   "outputs": [
    {
     "data": {
      "text/plain": [
       "LotFrontage   -1.792482e-14\n",
       "LotArea        8.035234e-17\n",
       "OverallQual    5.682334e-17\n",
       "OverallCond    1.263502e-16\n",
       "YearBuilt     -5.845121e-16\n",
       "dtype: float64"
      ]
     },
     "execution_count": 84,
     "metadata": {},
     "output_type": "execute_result"
    }
   ],
   "source": [
    "mean_cols = all_dummy_df.mean()\n",
    "mean_cols.head()"
   ]
  },
  {
   "cell_type": "markdown",
   "metadata": {},
   "source": [
    "使用均值填充所有字段。"
   ]
  },
  {
   "cell_type": "code",
   "execution_count": 85,
   "metadata": {},
   "outputs": [
    {
     "name": "stderr",
     "output_type": "stream",
     "text": [
      "/Users/liwei/anaconda3/envs/ipykernel_py3/lib/python3.6/site-packages/sklearn/utils/deprecation.py:58: DeprecationWarning: Class Imputer is deprecated; Imputer was deprecated in version 0.20 and will be removed in 0.22. Import impute.SimpleImputer from sklearn instead.\n",
      "  warnings.warn(msg, category=DeprecationWarning)\n"
     ]
    },
    {
     "data": {
      "text/plain": [
       "array([[-0.20203292, -0.21784137,  0.6460727 , ...,  0.        ,\n",
       "         1.        ,  0.        ],\n",
       "       [ 0.5017845 , -0.07203174, -0.06317371, ...,  0.        ,\n",
       "         1.        ,  0.        ],\n",
       "       [-0.06126943,  0.13717338,  0.6460727 , ...,  0.        ,\n",
       "         1.        ,  0.        ],\n",
       "       ...,\n",
       "       [ 4.25547741,  1.24659445, -0.77242013, ...,  0.        ,\n",
       "         0.        ,  0.        ],\n",
       "       [-0.3427964 ,  0.03459947, -0.77242013, ...,  0.        ,\n",
       "         1.        ,  0.        ],\n",
       "       [ 0.22025754, -0.06860838,  0.6460727 , ...,  0.        ,\n",
       "         1.        ,  0.        ]])"
      ]
     },
     "execution_count": 85,
     "metadata": {},
     "output_type": "execute_result"
    }
   ],
   "source": [
    "from sklearn.preprocessing import Imputer\n",
    "\n",
    "# 使用这一行的平均值来填充，使用 axis 参数指定\n",
    "imr = Imputer(missing_values='NaN', strategy='mean', axis=1)\n",
    "imr.fit(all_dummy_df)\n",
    "imputed_data = imr.transform(all_dummy_df)\n",
    "imputed_data"
   ]
  },
  {
   "cell_type": "code",
   "execution_count": 88,
   "metadata": {},
   "outputs": [
    {
     "data": {
      "text/html": [
       "<div>\n",
       "<style scoped>\n",
       "    .dataframe tbody tr th:only-of-type {\n",
       "        vertical-align: middle;\n",
       "    }\n",
       "\n",
       "    .dataframe tbody tr th {\n",
       "        vertical-align: top;\n",
       "    }\n",
       "\n",
       "    .dataframe thead th {\n",
       "        text-align: right;\n",
       "    }\n",
       "</style>\n",
       "<table border=\"1\" class=\"dataframe\">\n",
       "  <thead>\n",
       "    <tr style=\"text-align: right;\">\n",
       "      <th></th>\n",
       "      <th>LotFrontage</th>\n",
       "      <th>LotArea</th>\n",
       "      <th>OverallQual</th>\n",
       "      <th>OverallCond</th>\n",
       "      <th>YearBuilt</th>\n",
       "      <th>YearRemodAdd</th>\n",
       "      <th>MasVnrArea</th>\n",
       "      <th>BsmtFinSF1</th>\n",
       "      <th>BsmtFinSF2</th>\n",
       "      <th>BsmtUnfSF</th>\n",
       "      <th>...</th>\n",
       "      <th>SaleType_ConLw</th>\n",
       "      <th>SaleType_New</th>\n",
       "      <th>SaleType_Oth</th>\n",
       "      <th>SaleType_WD</th>\n",
       "      <th>SaleCondition_Abnorml</th>\n",
       "      <th>SaleCondition_AdjLand</th>\n",
       "      <th>SaleCondition_Alloca</th>\n",
       "      <th>SaleCondition_Family</th>\n",
       "      <th>SaleCondition_Normal</th>\n",
       "      <th>SaleCondition_Partial</th>\n",
       "    </tr>\n",
       "    <tr>\n",
       "      <th>Id</th>\n",
       "      <th></th>\n",
       "      <th></th>\n",
       "      <th></th>\n",
       "      <th></th>\n",
       "      <th></th>\n",
       "      <th></th>\n",
       "      <th></th>\n",
       "      <th></th>\n",
       "      <th></th>\n",
       "      <th></th>\n",
       "      <th></th>\n",
       "      <th></th>\n",
       "      <th></th>\n",
       "      <th></th>\n",
       "      <th></th>\n",
       "      <th></th>\n",
       "      <th></th>\n",
       "      <th></th>\n",
       "      <th></th>\n",
       "      <th></th>\n",
       "      <th></th>\n",
       "    </tr>\n",
       "  </thead>\n",
       "  <tbody>\n",
       "    <tr>\n",
       "      <th>1</th>\n",
       "      <td>-0.202033</td>\n",
       "      <td>-0.217841</td>\n",
       "      <td>0.646073</td>\n",
       "      <td>-0.507197</td>\n",
       "      <td>1.046078</td>\n",
       "      <td>0.896679</td>\n",
       "      <td>0.525112</td>\n",
       "      <td>0.580807</td>\n",
       "      <td>-0.29308</td>\n",
       "      <td>-0.934702</td>\n",
       "      <td>...</td>\n",
       "      <td>0</td>\n",
       "      <td>0</td>\n",
       "      <td>0</td>\n",
       "      <td>1</td>\n",
       "      <td>0</td>\n",
       "      <td>0</td>\n",
       "      <td>0</td>\n",
       "      <td>0</td>\n",
       "      <td>1</td>\n",
       "      <td>0</td>\n",
       "    </tr>\n",
       "    <tr>\n",
       "      <th>2</th>\n",
       "      <td>0.501785</td>\n",
       "      <td>-0.072032</td>\n",
       "      <td>-0.063174</td>\n",
       "      <td>2.187904</td>\n",
       "      <td>0.154737</td>\n",
       "      <td>-0.395536</td>\n",
       "      <td>-0.572152</td>\n",
       "      <td>1.177910</td>\n",
       "      <td>-0.29308</td>\n",
       "      <td>-0.629788</td>\n",
       "      <td>...</td>\n",
       "      <td>0</td>\n",
       "      <td>0</td>\n",
       "      <td>0</td>\n",
       "      <td>1</td>\n",
       "      <td>0</td>\n",
       "      <td>0</td>\n",
       "      <td>0</td>\n",
       "      <td>0</td>\n",
       "      <td>1</td>\n",
       "      <td>0</td>\n",
       "    </tr>\n",
       "    <tr>\n",
       "      <th>3</th>\n",
       "      <td>-0.061269</td>\n",
       "      <td>0.137173</td>\n",
       "      <td>0.646073</td>\n",
       "      <td>-0.507197</td>\n",
       "      <td>0.980053</td>\n",
       "      <td>0.848819</td>\n",
       "      <td>0.334770</td>\n",
       "      <td>0.097856</td>\n",
       "      <td>-0.29308</td>\n",
       "      <td>-0.288467</td>\n",
       "      <td>...</td>\n",
       "      <td>0</td>\n",
       "      <td>0</td>\n",
       "      <td>0</td>\n",
       "      <td>1</td>\n",
       "      <td>0</td>\n",
       "      <td>0</td>\n",
       "      <td>0</td>\n",
       "      <td>0</td>\n",
       "      <td>1</td>\n",
       "      <td>0</td>\n",
       "    </tr>\n",
       "    <tr>\n",
       "      <th>4</th>\n",
       "      <td>-0.436639</td>\n",
       "      <td>-0.078371</td>\n",
       "      <td>0.646073</td>\n",
       "      <td>-0.507197</td>\n",
       "      <td>-1.859033</td>\n",
       "      <td>-0.682695</td>\n",
       "      <td>-0.572152</td>\n",
       "      <td>-0.494856</td>\n",
       "      <td>-0.29308</td>\n",
       "      <td>-0.047266</td>\n",
       "      <td>...</td>\n",
       "      <td>0</td>\n",
       "      <td>0</td>\n",
       "      <td>0</td>\n",
       "      <td>1</td>\n",
       "      <td>1</td>\n",
       "      <td>0</td>\n",
       "      <td>0</td>\n",
       "      <td>0</td>\n",
       "      <td>0</td>\n",
       "      <td>0</td>\n",
       "    </tr>\n",
       "    <tr>\n",
       "      <th>5</th>\n",
       "      <td>0.689469</td>\n",
       "      <td>0.518814</td>\n",
       "      <td>1.355319</td>\n",
       "      <td>-0.507197</td>\n",
       "      <td>0.947040</td>\n",
       "      <td>0.753100</td>\n",
       "      <td>1.387248</td>\n",
       "      <td>0.468851</td>\n",
       "      <td>-0.29308</td>\n",
       "      <td>-0.161040</td>\n",
       "      <td>...</td>\n",
       "      <td>0</td>\n",
       "      <td>0</td>\n",
       "      <td>0</td>\n",
       "      <td>1</td>\n",
       "      <td>0</td>\n",
       "      <td>0</td>\n",
       "      <td>0</td>\n",
       "      <td>0</td>\n",
       "      <td>1</td>\n",
       "      <td>0</td>\n",
       "    </tr>\n",
       "  </tbody>\n",
       "</table>\n",
       "<p>5 rows × 303 columns</p>\n",
       "</div>"
      ],
      "text/plain": [
       "    LotFrontage   LotArea  OverallQual  OverallCond  YearBuilt  YearRemodAdd  \\\n",
       "Id                                                                             \n",
       "1     -0.202033 -0.217841     0.646073    -0.507197   1.046078      0.896679   \n",
       "2      0.501785 -0.072032    -0.063174     2.187904   0.154737     -0.395536   \n",
       "3     -0.061269  0.137173     0.646073    -0.507197   0.980053      0.848819   \n",
       "4     -0.436639 -0.078371     0.646073    -0.507197  -1.859033     -0.682695   \n",
       "5      0.689469  0.518814     1.355319    -0.507197   0.947040      0.753100   \n",
       "\n",
       "    MasVnrArea  BsmtFinSF1  BsmtFinSF2  BsmtUnfSF          ...            \\\n",
       "Id                                                         ...             \n",
       "1     0.525112    0.580807    -0.29308  -0.934702          ...             \n",
       "2    -0.572152    1.177910    -0.29308  -0.629788          ...             \n",
       "3     0.334770    0.097856    -0.29308  -0.288467          ...             \n",
       "4    -0.572152   -0.494856    -0.29308  -0.047266          ...             \n",
       "5     1.387248    0.468851    -0.29308  -0.161040          ...             \n",
       "\n",
       "    SaleType_ConLw  SaleType_New  SaleType_Oth  SaleType_WD  \\\n",
       "Id                                                            \n",
       "1                0             0             0            1   \n",
       "2                0             0             0            1   \n",
       "3                0             0             0            1   \n",
       "4                0             0             0            1   \n",
       "5                0             0             0            1   \n",
       "\n",
       "    SaleCondition_Abnorml  SaleCondition_AdjLand  SaleCondition_Alloca  \\\n",
       "Id                                                                       \n",
       "1                       0                      0                     0   \n",
       "2                       0                      0                     0   \n",
       "3                       0                      0                     0   \n",
       "4                       1                      0                     0   \n",
       "5                       0                      0                     0   \n",
       "\n",
       "    SaleCondition_Family  SaleCondition_Normal  SaleCondition_Partial  \n",
       "Id                                                                     \n",
       "1                      0                     1                      0  \n",
       "2                      0                     1                      0  \n",
       "3                      0                     1                      0  \n",
       "4                      0                     0                      0  \n",
       "5                      0                     1                      0  \n",
       "\n",
       "[5 rows x 303 columns]"
      ]
     },
     "execution_count": 88,
     "metadata": {},
     "output_type": "execute_result"
    }
   ],
   "source": [
    "all_dummy_df = all_dummy_df.fillna(mean_cols)\n",
    "all_dummy_df.head()"
   ]
  },
  {
   "cell_type": "code",
   "execution_count": 17,
   "metadata": {},
   "outputs": [
    {
     "data": {
      "text/plain": [
       "0"
      ]
     },
     "execution_count": 17,
     "metadata": {},
     "output_type": "execute_result"
    }
   ],
   "source": [
    "all_dummy_df.isnull().sum().sum()"
   ]
  },
  {
   "cell_type": "code",
   "execution_count": 18,
   "metadata": {},
   "outputs": [
    {
     "data": {
      "text/plain": [
       "Index(['LotFrontage', 'LotArea', 'OverallQual', 'OverallCond', 'YearBuilt',\n",
       "       'YearRemodAdd', 'MasVnrArea', 'BsmtFinSF1', 'BsmtFinSF2', 'BsmtUnfSF',\n",
       "       'TotalBsmtSF', '1stFlrSF', '2ndFlrSF', 'LowQualFinSF', 'GrLivArea',\n",
       "       'BsmtFullBath', 'BsmtHalfBath', 'FullBath', 'HalfBath', 'BedroomAbvGr',\n",
       "       'KitchenAbvGr', 'TotRmsAbvGrd', 'Fireplaces', 'GarageYrBlt',\n",
       "       'GarageCars', 'GarageArea', 'WoodDeckSF', 'OpenPorchSF',\n",
       "       'EnclosedPorch', '3SsnPorch', 'ScreenPorch', 'PoolArea', 'MiscVal',\n",
       "       'MoSold', 'YrSold'],\n",
       "      dtype='object')"
      ]
     },
     "execution_count": 18,
     "metadata": {},
     "output_type": "execute_result"
    }
   ],
   "source": [
    "numeric_cols = all_df.columns[all_df.dtypes != 'object']\n",
    "numeric_cols"
   ]
  },
  {
   "cell_type": "markdown",
   "metadata": {},
   "source": [
    "数值型变量标准化。"
   ]
  },
  {
   "cell_type": "code",
   "execution_count": 19,
   "metadata": {
    "collapsed": true
   },
   "outputs": [],
   "source": [
    "numeric_col_means = all_dummy_df.loc[:, numeric_cols].mean()\n",
    "numeric_col_std = all_dummy_df.loc[:, numeric_cols].std()\n",
    "all_dummy_df.loc[:, numeric_cols] = (all_dummy_df.loc[:, numeric_cols] - numeric_col_means) / numeric_col_std"
   ]
  },
  {
   "cell_type": "code",
   "execution_count": 20,
   "metadata": {
    "collapsed": true
   },
   "outputs": [],
   "source": [
    "dummy_train_df = all_dummy_df.loc[train_df.index]\n",
    "dummy_test_df = all_dummy_df.loc[test_df.index]"
   ]
  },
  {
   "cell_type": "markdown",
   "metadata": {},
   "source": [
    "这么多特征。"
   ]
  },
  {
   "cell_type": "code",
   "execution_count": 21,
   "metadata": {},
   "outputs": [
    {
     "data": {
      "text/plain": [
       "((1460, 303), (1459, 303))"
      ]
     },
     "execution_count": 21,
     "metadata": {},
     "output_type": "execute_result"
    }
   ],
   "source": [
    "dummy_train_df.shape, dummy_test_df.shape"
   ]
  },
  {
   "cell_type": "markdown",
   "metadata": {},
   "source": [
    "## 岭回归"
   ]
  },
  {
   "cell_type": "code",
   "execution_count": 22,
   "metadata": {
    "collapsed": true
   },
   "outputs": [],
   "source": [
    "from sklearn.linear_model import Ridge\n",
    "from sklearn.model_selection import cross_val_score"
   ]
  },
  {
   "cell_type": "code",
   "execution_count": 23,
   "metadata": {
    "collapsed": true
   },
   "outputs": [],
   "source": [
    "X_train = dummy_train_df.values\n",
    "X_test = dummy_test_df.values"
   ]
  },
  {
   "cell_type": "markdown",
   "metadata": {},
   "source": [
    "直接用交叉验证，没有分割训练集与测试集。"
   ]
  },
  {
   "cell_type": "code",
   "execution_count": 98,
   "metadata": {},
   "outputs": [
    {
     "name": "stdout",
     "output_type": "stream",
     "text": [
      "CPU times: user 28.6 s, sys: 3.97 s, total: 32.5 s\n",
      "Wall time: 4.89 s\n"
     ]
    }
   ],
   "source": [
    "%%time\n",
    "alphas = np.logspace(-3, 2, 50)\n",
    "test_scores = list()\n",
    "for alpha in alphas:\n",
    "    clf = Ridge(alpha)\n",
    "    test_score = np.sqrt(-cross_val_score(\n",
    "        clf, X_train, y_train, cv=10, scoring='neg_mean_squared_error'))\n",
    "    test_scores.append(np.mean(test_score))"
   ]
  },
  {
   "cell_type": "code",
   "execution_count": 99,
   "metadata": {},
   "outputs": [
    {
     "data": {
      "image/png": "[encoded data removed]",
      "text/plain": [
       "<Figure size 432x288 with 1 Axes>"
      ]
     },
     "metadata": {
      "image/png": {
       "height": 263,
       "width": 386
      },
      "needs_background": "light"
     },
     "output_type": "display_data"
    }
   ],
   "source": [
    "plt.plot(alphas, test_scores)\n",
    "plt.title(\"Alpha vs CV Error\")\n",
    "plt.show()"
   ]
  },
  {
   "cell_type": "markdown",
   "metadata": {},
   "source": [
    "用网格搜索试试看"
   ]
  },
  {
   "cell_type": "code",
   "execution_count": 119,
   "metadata": {
    "collapsed": true
   },
   "outputs": [],
   "source": [
    "np.set_printoptions(suppress=True, precision=4)"
   ]
  },
  {
   "cell_type": "code",
   "execution_count": 120,
   "metadata": {},
   "outputs": [
    {
     "data": {
      "text/plain": [
       "{'alpha': array([  0.001 ,   0.0013,   0.0016,   0.002 ,   0.0026,   0.0032,\n",
       "          0.0041,   0.0052,   0.0066,   0.0083,   0.0105,   0.0133,\n",
       "          0.0168,   0.0212,   0.0268,   0.0339,   0.0429,   0.0543,\n",
       "          0.0687,   0.0869,   0.1099,   0.1389,   0.1758,   0.2223,\n",
       "          0.2812,   0.3556,   0.4498,   0.569 ,   0.7197,   0.9103,\n",
       "          1.1514,   1.4563,   1.8421,   2.33  ,   2.9471,   3.7276,\n",
       "          4.7149,   5.9636,   7.5431,   9.541 ,  12.0679,  15.2642,\n",
       "         19.307 ,  24.4205,  30.8884,  39.0694,  49.4171,  62.5055,\n",
       "         79.0604, 100.    ])}"
      ]
     },
     "execution_count": 120,
     "metadata": {},
     "output_type": "execute_result"
    }
   ],
   "source": [
    "parameters"
   ]
  },
  {
   "cell_type": "code",
   "execution_count": 109,
   "metadata": {
    "collapsed": true
   },
   "outputs": [],
   "source": [
    "from sklearn.linear_model import Ridge\n",
    "from sklearn.model_selection import GridSearchCV\n",
    "\n",
    "parameters = {'alpha': np.logspace(-3, 2, 50)}  # 50 个数\n",
    "clf = Ridge()\n",
    "grid = GridSearchCV(\n",
    "    clf, parameters, cv=5, scoring='neg_mean_squared_error', verbose=2)"
   ]
  },
  {
   "cell_type": "code",
   "execution_count": 110,
   "metadata": {},
   "outputs": [
    {
     "name": "stdout",
     "output_type": "stream",
     "text": [
      "Fitting 5 folds for each of 50 candidates, totalling 250 fits\n",
      "[CV] alpha=0.001 .....................................................\n",
      "[CV] ...................................... alpha=0.001, total=   0.0s\n",
      "[CV] alpha=0.001 .....................................................\n",
      "[CV] ...................................... alpha=0.001, total=   0.0s\n",
      "[CV] alpha=0.001 .....................................................\n",
      "[CV] ...................................... alpha=0.001, total=   0.0s\n",
      "[CV] alpha=0.001 .....................................................\n",
      "[CV] ...................................... alpha=0.001, total=   0.0s\n",
      "[CV] alpha=0.001 .....................................................\n",
      "[CV] ...................................... alpha=0.001, total=   0.0s\n",
      "[CV] alpha=0.0012648552168552957 .....................................\n",
      "[CV] ...................... alpha=0.0012648552168552957, total=   0.0s\n",
      "[CV] alpha=0.0012648552168552957 .....................................\n",
      "[CV] ...................... alpha=0.0012648552168552957, total=   0.0s\n",
      "[CV] alpha=0.0012648552168552957 .....................................\n",
      "[CV] ...................... alpha=0.0012648552168552957, total=   0.0s\n",
      "[CV] alpha=0.0012648552168552957 .....................................\n",
      "[CV] ...................... alpha=0.0012648552168552957, total=   0.0s\n",
      "[CV] alpha=0.0012648552168552957 .....................................\n",
      "[CV] ...................... alpha=0.0012648552168552957, total=   0.0s\n",
      "[CV] alpha=0.0015998587196060573 .....................................\n",
      "[CV] ...................... alpha=0.0015998587196060573, total=   0.0s\n",
      "[CV] alpha=0.0015998587196060573 .....................................\n",
      "[CV] ...................... alpha=0.0015998587196060573, total=   0.0s\n",
      "[CV] alpha=0.0015998587196060573 .....................................\n",
      "[CV] ...................... alpha=0.0015998587196060573, total=   0.0s\n",
      "[CV] alpha=0.0015998587196060573 .....................................\n",
      "[CV] ...................... alpha=0.0015998587196060573, total=   0.0s\n",
      "[CV] alpha=0.0015998587196060573 .....................................\n",
      "[CV] ...................... alpha=0.0015998587196060573, total=   0.0s\n",
      "[CV] alpha=0.0020235896477251575 .....................................\n",
      "[CV] ...................... alpha=0.0020235896477251575, total=   0.0s\n",
      "[CV] alpha=0.0020235896477251575 .....................................\n",
      "[CV] ...................... alpha=0.0020235896477251575, total=   0.0s\n",
      "[CV] alpha=0.0020235896477251575 .....................................\n",
      "[CV] ...................... alpha=0.0020235896477251575, total=   0.0s\n",
      "[CV] alpha=0.0020235896477251575 .....................................\n",
      "[CV] ...................... alpha=0.0020235896477251575, total=   0.0s\n",
      "[CV] alpha=0.0020235896477251575 .....................................\n"
     ]
    },
    {
     "name": "stderr",
     "output_type": "stream",
     "text": [
      "[Parallel(n_jobs=1)]: Using backend SequentialBackend with 1 concurrent workers.\n",
      "[Parallel(n_jobs=1)]: Done   1 out of   1 | elapsed:    0.0s remaining:    0.0s\n"
     ]
    },
    {
     "name": "stdout",
     "output_type": "stream",
     "text": [
      "[CV] ...................... alpha=0.0020235896477251575, total=   0.0s\n",
      "[CV] alpha=0.002559547922699536 ......................................\n",
      "[CV] ....................... alpha=0.002559547922699536, total=   0.0s\n",
      "[CV] alpha=0.002559547922699536 ......................................\n",
      "[CV] ....................... alpha=0.002559547922699536, total=   0.0s\n",
      "[CV] alpha=0.002559547922699536 ......................................\n",
      "[CV] ....................... alpha=0.002559547922699536, total=   0.0s\n",
      "[CV] alpha=0.002559547922699536 ......................................\n",
      "[CV] ....................... alpha=0.002559547922699536, total=   0.0s\n",
      "[CV] alpha=0.002559547922699536 ......................................\n",
      "[CV] ....................... alpha=0.002559547922699536, total=   0.0s\n",
      "[CV] alpha=0.0032374575428176433 .....................................\n",
      "[CV] ...................... alpha=0.0032374575428176433, total=   0.0s\n",
      "[CV] alpha=0.0032374575428176433 .....................................\n",
      "[CV] ...................... alpha=0.0032374575428176433, total=   0.0s\n",
      "[CV] alpha=0.0032374575428176433 .....................................\n",
      "[CV] ...................... alpha=0.0032374575428176433, total=   0.0s\n",
      "[CV] alpha=0.0032374575428176433 .....................................\n",
      "[CV] ...................... alpha=0.0032374575428176433, total=   0.0s\n",
      "[CV] alpha=0.0032374575428176433 .....................................\n",
      "[CV] ...................... alpha=0.0032374575428176433, total=   0.0s\n",
      "[CV] alpha=0.004094915062380427 ......................................\n",
      "[CV] ....................... alpha=0.004094915062380427, total=   0.0s\n",
      "[CV] alpha=0.004094915062380427 ......................................\n",
      "[CV] ....................... alpha=0.004094915062380427, total=   0.0s\n",
      "[CV] alpha=0.004094915062380427 ......................................\n",
      "[CV] ....................... alpha=0.004094915062380427, total=   0.0s\n",
      "[CV] alpha=0.004094915062380427 ......................................\n",
      "[CV] ....................... alpha=0.004094915062380427, total=   0.0s\n",
      "[CV] alpha=0.004094915062380427 ......................................\n",
      "[CV] ....................... alpha=0.004094915062380427, total=   0.0s\n",
      "[CV] alpha=0.005179474679231213 ......................................\n",
      "[CV] ....................... alpha=0.005179474679231213, total=   0.0s\n",
      "[CV] alpha=0.005179474679231213 ......................................\n",
      "[CV] ....................... alpha=0.005179474679231213, total=   0.0s\n",
      "[CV] alpha=0.005179474679231213 ......................................\n",
      "[CV] ....................... alpha=0.005179474679231213, total=   0.0s\n",
      "[CV] alpha=0.005179474679231213 ......................................\n",
      "[CV] ....................... alpha=0.005179474679231213, total=   0.0s\n",
      "[CV] alpha=0.005179474679231213 ......................................\n",
      "[CV] ....................... alpha=0.005179474679231213, total=   0.0s\n",
      "[CV] alpha=0.006551285568595509 ......................................\n",
      "[CV] ....................... alpha=0.006551285568595509, total=   0.0s\n",
      "[CV] alpha=0.006551285568595509 ......................................\n",
      "[CV] ....................... alpha=0.006551285568595509, total=   0.0s\n",
      "[CV] alpha=0.006551285568595509 ......................................\n",
      "[CV] ....................... alpha=0.006551285568595509, total=   0.0s\n",
      "[CV] alpha=0.006551285568595509 ......................................\n",
      "[CV] ....................... alpha=0.006551285568595509, total=   0.0s\n",
      "[CV] alpha=0.006551285568595509 ......................................\n",
      "[CV] ....................... alpha=0.006551285568595509, total=   0.0s\n",
      "[CV] alpha=0.008286427728546842 ......................................\n",
      "[CV] ....................... alpha=0.008286427728546842, total=   0.0s\n",
      "[CV] alpha=0.008286427728546842 ......................................\n",
      "[CV] ....................... alpha=0.008286427728546842, total=   0.0s\n",
      "[CV] alpha=0.008286427728546842 ......................................\n",
      "[CV] ....................... alpha=0.008286427728546842, total=   0.0s\n",
      "[CV] alpha=0.008286427728546842 ......................................\n",
      "[CV] ....................... alpha=0.008286427728546842, total=   0.0s\n",
      "[CV] alpha=0.008286427728546842 ......................................\n",
      "[CV] ....................... alpha=0.008286427728546842, total=   0.0s\n",
      "[CV] alpha=0.010481131341546858 ......................................\n",
      "[CV] ....................... alpha=0.010481131341546858, total=   0.0s\n",
      "[CV] alpha=0.010481131341546858 ......................................\n",
      "[CV] ....................... alpha=0.010481131341546858, total=   0.0s\n",
      "[CV] alpha=0.010481131341546858 ......................................\n",
      "[CV] ....................... alpha=0.010481131341546858, total=   0.0s\n",
      "[CV] alpha=0.010481131341546858 ......................................\n",
      "[CV] ....................... alpha=0.010481131341546858, total=   0.0s\n",
      "[CV] alpha=0.010481131341546858 ......................................\n",
      "[CV] ....................... alpha=0.010481131341546858, total=   0.0s\n",
      "[CV] alpha=0.013257113655901095 ......................................\n",
      "[CV] ....................... alpha=0.013257113655901095, total=   0.0s\n",
      "[CV] alpha=0.013257113655901095 ......................................\n",
      "[CV] ....................... alpha=0.013257113655901095, total=   0.0s\n",
      "[CV] alpha=0.013257113655901095 ......................................\n",
      "[CV] ....................... alpha=0.013257113655901095, total=   0.0s\n",
      "[CV] alpha=0.013257113655901095 ......................................\n",
      "[CV] ....................... alpha=0.013257113655901095, total=   0.0s\n",
      "[CV] alpha=0.013257113655901095 ......................................\n",
      "[CV] ....................... alpha=0.013257113655901095, total=   0.0s\n",
      "[CV] alpha=0.016768329368110083 ......................................\n",
      "[CV] ....................... alpha=0.016768329368110083, total=   0.0s\n",
      "[CV] alpha=0.016768329368110083 ......................................\n",
      "[CV] ....................... alpha=0.016768329368110083, total=   0.0s\n",
      "[CV] alpha=0.016768329368110083 ......................................\n",
      "[CV] ....................... alpha=0.016768329368110083, total=   0.0s\n",
      "[CV] alpha=0.016768329368110083 ......................................\n",
      "[CV] ....................... alpha=0.016768329368110083, total=   0.0s\n",
      "[CV] alpha=0.016768329368110083 ......................................\n",
      "[CV] ....................... alpha=0.016768329368110083, total=   0.0s\n",
      "[CV] alpha=0.021209508879201904 ......................................\n",
      "[CV] ....................... alpha=0.021209508879201904, total=   0.0s\n",
      "[CV] alpha=0.021209508879201904 ......................................\n",
      "[CV] ....................... alpha=0.021209508879201904, total=   0.0s\n",
      "[CV] alpha=0.021209508879201904 ......................................\n",
      "[CV] ....................... alpha=0.021209508879201904, total=   0.0s\n",
      "[CV] alpha=0.021209508879201904 ......................................\n",
      "[CV] ....................... alpha=0.021209508879201904, total=   0.0s\n",
      "[CV] alpha=0.021209508879201904 ......................................\n",
      "[CV] ....................... alpha=0.021209508879201904, total=   0.0s\n",
      "[CV] alpha=0.02682695795279726 .......................................\n",
      "[CV] ........................ alpha=0.02682695795279726, total=   0.0s\n",
      "[CV] alpha=0.02682695795279726 .......................................\n",
      "[CV] ........................ alpha=0.02682695795279726, total=   0.0s\n",
      "[CV] alpha=0.02682695795279726 .......................................\n",
      "[CV] ........................ alpha=0.02682695795279726, total=   0.0s\n",
      "[CV] alpha=0.02682695795279726 .......................................\n",
      "[CV] ........................ alpha=0.02682695795279726, total=   0.0s\n",
      "[CV] alpha=0.02682695795279726 .......................................\n",
      "[CV] ........................ alpha=0.02682695795279726, total=   0.0s\n",
      "[CV] alpha=0.0339322177189533 ........................................\n",
      "[CV] ......................... alpha=0.0339322177189533, total=   0.0s\n",
      "[CV] alpha=0.0339322177189533 ........................................\n",
      "[CV] ......................... alpha=0.0339322177189533, total=   0.0s\n",
      "[CV] alpha=0.0339322177189533 ........................................\n"
     ]
    },
    {
     "name": "stdout",
     "output_type": "stream",
     "text": [
      "[CV] ......................... alpha=0.0339322177189533, total=   0.0s\n",
      "[CV] alpha=0.0339322177189533 ........................................\n",
      "[CV] ......................... alpha=0.0339322177189533, total=   0.0s\n",
      "[CV] alpha=0.0339322177189533 ........................................\n",
      "[CV] ......................... alpha=0.0339322177189533, total=   0.0s\n",
      "[CV] alpha=0.04291934260128778 .......................................\n",
      "[CV] ........................ alpha=0.04291934260128778, total=   0.0s\n",
      "[CV] alpha=0.04291934260128778 .......................................\n",
      "[CV] ........................ alpha=0.04291934260128778, total=   0.0s\n",
      "[CV] alpha=0.04291934260128778 .......................................\n",
      "[CV] ........................ alpha=0.04291934260128778, total=   0.0s\n",
      "[CV] alpha=0.04291934260128778 .......................................\n",
      "[CV] ........................ alpha=0.04291934260128778, total=   0.0s\n",
      "[CV] alpha=0.04291934260128778 .......................................\n",
      "[CV] ........................ alpha=0.04291934260128778, total=   0.0s\n",
      "[CV] alpha=0.054286754393238594 ......................................\n",
      "[CV] ....................... alpha=0.054286754393238594, total=   0.0s\n",
      "[CV] alpha=0.054286754393238594 ......................................\n",
      "[CV] ....................... alpha=0.054286754393238594, total=   0.0s\n",
      "[CV] alpha=0.054286754393238594 ......................................\n",
      "[CV] ....................... alpha=0.054286754393238594, total=   0.0s\n",
      "[CV] alpha=0.054286754393238594 ......................................\n",
      "[CV] ....................... alpha=0.054286754393238594, total=   0.0s\n",
      "[CV] alpha=0.054286754393238594 ......................................\n",
      "[CV] ....................... alpha=0.054286754393238594, total=   0.0s\n",
      "[CV] alpha=0.06866488450043001 .......................................\n",
      "[CV] ........................ alpha=0.06866488450043001, total=   0.0s\n",
      "[CV] alpha=0.06866488450043001 .......................................\n",
      "[CV] ........................ alpha=0.06866488450043001, total=   0.0s\n",
      "[CV] alpha=0.06866488450043001 .......................................\n",
      "[CV] ........................ alpha=0.06866488450043001, total=   0.0s\n",
      "[CV] alpha=0.06866488450043001 .......................................\n",
      "[CV] ........................ alpha=0.06866488450043001, total=   0.0s\n",
      "[CV] alpha=0.06866488450043001 .......................................\n",
      "[CV] ........................ alpha=0.06866488450043001, total=   0.0s\n",
      "[CV] alpha=0.08685113737513529 .......................................\n",
      "[CV] ........................ alpha=0.08685113737513529, total=   0.0s\n",
      "[CV] alpha=0.08685113737513529 .......................................\n",
      "[CV] ........................ alpha=0.08685113737513529, total=   0.0s\n",
      "[CV] alpha=0.08685113737513529 .......................................\n",
      "[CV] ........................ alpha=0.08685113737513529, total=   0.0s\n",
      "[CV] alpha=0.08685113737513529 .......................................\n",
      "[CV] ........................ alpha=0.08685113737513529, total=   0.0s\n",
      "[CV] alpha=0.08685113737513529 .......................................\n",
      "[CV] ........................ alpha=0.08685113737513529, total=   0.0s\n",
      "[CV] alpha=0.10985411419875583 .......................................\n",
      "[CV] ........................ alpha=0.10985411419875583, total=   0.0s\n",
      "[CV] alpha=0.10985411419875583 .......................................\n",
      "[CV] ........................ alpha=0.10985411419875583, total=   0.0s\n",
      "[CV] alpha=0.10985411419875583 .......................................\n",
      "[CV] ........................ alpha=0.10985411419875583, total=   0.0s\n",
      "[CV] alpha=0.10985411419875583 .......................................\n",
      "[CV] ........................ alpha=0.10985411419875583, total=   0.0s\n",
      "[CV] alpha=0.10985411419875583 .......................................\n",
      "[CV] ........................ alpha=0.10985411419875583, total=   0.0s\n",
      "[CV] alpha=0.13894954943731375 .......................................\n",
      "[CV] ........................ alpha=0.13894954943731375, total=   0.0s\n",
      "[CV] alpha=0.13894954943731375 .......................................\n",
      "[CV] ........................ alpha=0.13894954943731375, total=   0.0s\n",
      "[CV] alpha=0.13894954943731375 .......................................\n",
      "[CV] ........................ alpha=0.13894954943731375, total=   0.0s\n",
      "[CV] alpha=0.13894954943731375 .......................................\n",
      "[CV] ........................ alpha=0.13894954943731375, total=   0.0s\n",
      "[CV] alpha=0.13894954943731375 .......................................\n",
      "[CV] ........................ alpha=0.13894954943731375, total=   0.0s\n",
      "[CV] alpha=0.1757510624854793 ........................................\n",
      "[CV] ......................... alpha=0.1757510624854793, total=   0.0s\n",
      "[CV] alpha=0.1757510624854793 ........................................\n",
      "[CV] ......................... alpha=0.1757510624854793, total=   0.0s\n",
      "[CV] alpha=0.1757510624854793 ........................................\n",
      "[CV] ......................... alpha=0.1757510624854793, total=   0.0s\n",
      "[CV] alpha=0.1757510624854793 ........................................\n",
      "[CV] ......................... alpha=0.1757510624854793, total=   0.0s\n",
      "[CV] alpha=0.1757510624854793 ........................................\n",
      "[CV] ......................... alpha=0.1757510624854793, total=   0.0s\n",
      "[CV] alpha=0.22229964825261955 .......................................\n",
      "[CV] ........................ alpha=0.22229964825261955, total=   0.0s\n",
      "[CV] alpha=0.22229964825261955 .......................................\n",
      "[CV] ........................ alpha=0.22229964825261955, total=   0.0s\n",
      "[CV] alpha=0.22229964825261955 .......................................\n",
      "[CV] ........................ alpha=0.22229964825261955, total=   0.0s\n",
      "[CV] alpha=0.22229964825261955 .......................................\n",
      "[CV] ........................ alpha=0.22229964825261955, total=   0.0s\n",
      "[CV] alpha=0.22229964825261955 .......................................\n",
      "[CV] ........................ alpha=0.22229964825261955, total=   0.0s\n",
      "[CV] alpha=0.28117686979742307 .......................................\n",
      "[CV] ........................ alpha=0.28117686979742307, total=   0.0s\n",
      "[CV] alpha=0.28117686979742307 .......................................\n",
      "[CV] ........................ alpha=0.28117686979742307, total=   0.0s\n",
      "[CV] alpha=0.28117686979742307 .......................................\n",
      "[CV] ........................ alpha=0.28117686979742307, total=   0.0s\n",
      "[CV] alpha=0.28117686979742307 .......................................\n",
      "[CV] ........................ alpha=0.28117686979742307, total=   0.0s\n",
      "[CV] alpha=0.28117686979742307 .......................................\n",
      "[CV] ........................ alpha=0.28117686979742307, total=   0.0s\n",
      "[CV] alpha=0.35564803062231287 .......................................\n",
      "[CV] ........................ alpha=0.35564803062231287, total=   0.0s\n",
      "[CV] alpha=0.35564803062231287 .......................................\n",
      "[CV] ........................ alpha=0.35564803062231287, total=   0.0s\n",
      "[CV] alpha=0.35564803062231287 .......................................\n",
      "[CV] ........................ alpha=0.35564803062231287, total=   0.0s\n",
      "[CV] alpha=0.35564803062231287 .......................................\n",
      "[CV] ........................ alpha=0.35564803062231287, total=   0.0s\n",
      "[CV] alpha=0.35564803062231287 .......................................\n",
      "[CV] ........................ alpha=0.35564803062231287, total=   0.0s\n",
      "[CV] alpha=0.4498432668969444 ........................................\n",
      "[CV] ......................... alpha=0.4498432668969444, total=   0.0s\n",
      "[CV] alpha=0.4498432668969444 ........................................\n",
      "[CV] ......................... alpha=0.4498432668969444, total=   0.0s\n",
      "[CV] alpha=0.4498432668969444 ........................................\n",
      "[CV] ......................... alpha=0.4498432668969444, total=   0.0s\n",
      "[CV] alpha=0.4498432668969444 ........................................\n",
      "[CV] ......................... alpha=0.4498432668969444, total=   0.0s\n",
      "[CV] alpha=0.4498432668969444 ........................................\n",
      "[CV] ......................... alpha=0.4498432668969444, total=   0.0s\n",
      "[CV] alpha=0.5689866029018299 ........................................\n",
      "[CV] ......................... alpha=0.5689866029018299, total=   0.0s\n",
      "[CV] alpha=0.5689866029018299 ........................................\n",
      "[CV] ......................... alpha=0.5689866029018299, total=   0.0s\n",
      "[CV] alpha=0.5689866029018299 ........................................\n",
      "[CV] ......................... alpha=0.5689866029018299, total=   0.0s\n",
      "[CV] alpha=0.5689866029018299 ........................................\n",
      "[CV] ......................... alpha=0.5689866029018299, total=   0.0s\n",
      "[CV] alpha=0.5689866029018299 ........................................\n",
      "[CV] ......................... alpha=0.5689866029018299, total=   0.0s\n",
      "[CV] alpha=0.7196856730011522 ........................................\n",
      "[CV] ......................... alpha=0.7196856730011522, total=   0.0s\n",
      "[CV] alpha=0.7196856730011522 ........................................\n",
      "[CV] ......................... alpha=0.7196856730011522, total=   0.0s\n",
      "[CV] alpha=0.7196856730011522 ........................................\n",
      "[CV] ......................... alpha=0.7196856730011522, total=   0.0s\n",
      "[CV] alpha=0.7196856730011522 ........................................\n",
      "[CV] ......................... alpha=0.7196856730011522, total=   0.0s\n",
      "[CV] alpha=0.7196856730011522 ........................................\n",
      "[CV] ......................... alpha=0.7196856730011522, total=   0.0s\n",
      "[CV] alpha=0.9102981779915218 ........................................\n",
      "[CV] ......................... alpha=0.9102981779915218, total=   0.0s\n",
      "[CV] alpha=0.9102981779915218 ........................................\n",
      "[CV] ......................... alpha=0.9102981779915218, total=   0.0s\n",
      "[CV] alpha=0.9102981779915218 ........................................\n",
      "[CV] ......................... alpha=0.9102981779915218, total=   0.0s\n",
      "[CV] alpha=0.9102981779915218 ........................................\n",
      "[CV] ......................... alpha=0.9102981779915218, total=   0.0s\n",
      "[CV] alpha=0.9102981779915218 ........................................\n",
      "[CV] ......................... alpha=0.9102981779915218, total=   0.0s\n",
      "[CV] alpha=1.151395399326448 .........................................\n",
      "[CV] .......................... alpha=1.151395399326448, total=   0.0s\n",
      "[CV] alpha=1.151395399326448 .........................................\n",
      "[CV] .......................... alpha=1.151395399326448, total=   0.0s\n",
      "[CV] alpha=1.151395399326448 .........................................\n",
      "[CV] .......................... alpha=1.151395399326448, total=   0.0s\n",
      "[CV] alpha=1.151395399326448 .........................................\n",
      "[CV] .......................... alpha=1.151395399326448, total=   0.0s\n",
      "[CV] alpha=1.151395399326448 .........................................\n"
     ]
    },
    {
     "name": "stdout",
     "output_type": "stream",
     "text": [
      "[CV] .......................... alpha=1.151395399326448, total=   0.0s\n",
      "[CV] alpha=1.4563484775012443 ........................................\n",
      "[CV] ......................... alpha=1.4563484775012443, total=   0.0s\n",
      "[CV] alpha=1.4563484775012443 ........................................\n",
      "[CV] ......................... alpha=1.4563484775012443, total=   0.0s\n",
      "[CV] alpha=1.4563484775012443 ........................................\n",
      "[CV] ......................... alpha=1.4563484775012443, total=   0.0s\n",
      "[CV] alpha=1.4563484775012443 ........................................\n",
      "[CV] ......................... alpha=1.4563484775012443, total=   0.0s\n",
      "[CV] alpha=1.4563484775012443 ........................................\n",
      "[CV] ......................... alpha=1.4563484775012443, total=   0.0s\n",
      "[CV] alpha=1.8420699693267164 ........................................\n",
      "[CV] ......................... alpha=1.8420699693267164, total=   0.0s\n",
      "[CV] alpha=1.8420699693267164 ........................................\n",
      "[CV] ......................... alpha=1.8420699693267164, total=   0.0s\n",
      "[CV] alpha=1.8420699693267164 ........................................\n",
      "[CV] ......................... alpha=1.8420699693267164, total=   0.0s\n",
      "[CV] alpha=1.8420699693267164 ........................................\n",
      "[CV] ......................... alpha=1.8420699693267164, total=   0.0s\n",
      "[CV] alpha=1.8420699693267164 ........................................\n",
      "[CV] ......................... alpha=1.8420699693267164, total=   0.0s\n",
      "[CV] alpha=2.329951810515372 .........................................\n",
      "[CV] .......................... alpha=2.329951810515372, total=   0.0s\n",
      "[CV] alpha=2.329951810515372 .........................................\n",
      "[CV] .......................... alpha=2.329951810515372, total=   0.0s\n",
      "[CV] alpha=2.329951810515372 .........................................\n",
      "[CV] .......................... alpha=2.329951810515372, total=   0.0s\n",
      "[CV] alpha=2.329951810515372 .........................................\n",
      "[CV] .......................... alpha=2.329951810515372, total=   0.0s\n",
      "[CV] alpha=2.329951810515372 .........................................\n",
      "[CV] .......................... alpha=2.329951810515372, total=   0.0s\n",
      "[CV] alpha=2.9470517025518097 ........................................\n",
      "[CV] ......................... alpha=2.9470517025518097, total=   0.0s\n",
      "[CV] alpha=2.9470517025518097 ........................................\n",
      "[CV] ......................... alpha=2.9470517025518097, total=   0.0s\n",
      "[CV] alpha=2.9470517025518097 ........................................\n",
      "[CV] ......................... alpha=2.9470517025518097, total=   0.0s\n",
      "[CV] alpha=2.9470517025518097 ........................................\n",
      "[CV] ......................... alpha=2.9470517025518097, total=   0.0s\n",
      "[CV] alpha=2.9470517025518097 ........................................\n",
      "[CV] ......................... alpha=2.9470517025518097, total=   0.0s\n",
      "[CV] alpha=3.7275937203149416 ........................................\n",
      "[CV] ......................... alpha=3.7275937203149416, total=   0.0s\n",
      "[CV] alpha=3.7275937203149416 ........................................\n",
      "[CV] ......................... alpha=3.7275937203149416, total=   0.0s\n",
      "[CV] alpha=3.7275937203149416 ........................................\n",
      "[CV] ......................... alpha=3.7275937203149416, total=   0.0s\n",
      "[CV] alpha=3.7275937203149416 ........................................\n",
      "[CV] ......................... alpha=3.7275937203149416, total=   0.0s\n",
      "[CV] alpha=3.7275937203149416 ........................................\n",
      "[CV] ......................... alpha=3.7275937203149416, total=   0.0s\n",
      "[CV] alpha=4.714866363457395 .........................................\n",
      "[CV] .......................... alpha=4.714866363457395, total=   0.0s\n",
      "[CV] alpha=4.714866363457395 .........................................\n",
      "[CV] .......................... alpha=4.714866363457395, total=   0.0s\n",
      "[CV] alpha=4.714866363457395 .........................................\n",
      "[CV] .......................... alpha=4.714866363457395, total=   0.0s\n",
      "[CV] alpha=4.714866363457395 .........................................\n",
      "[CV] .......................... alpha=4.714866363457395, total=   0.0s\n",
      "[CV] alpha=4.714866363457395 .........................................\n",
      "[CV] .......................... alpha=4.714866363457395, total=   0.0s\n",
      "[CV] alpha=5.963623316594643 .........................................\n",
      "[CV] .......................... alpha=5.963623316594643, total=   0.0s\n",
      "[CV] alpha=5.963623316594643 .........................................\n",
      "[CV] .......................... alpha=5.963623316594643, total=   0.0s\n",
      "[CV] alpha=5.963623316594643 .........................................\n",
      "[CV] .......................... alpha=5.963623316594643, total=   0.0s\n",
      "[CV] alpha=5.963623316594643 .........................................\n",
      "[CV] .......................... alpha=5.963623316594643, total=   0.0s\n",
      "[CV] alpha=5.963623316594643 .........................................\n",
      "[CV] .......................... alpha=5.963623316594643, total=   0.0s\n",
      "[CV] alpha=7.543120063354623 .........................................\n",
      "[CV] .......................... alpha=7.543120063354623, total=   0.0s\n",
      "[CV] alpha=7.543120063354623 .........................................\n",
      "[CV] .......................... alpha=7.543120063354623, total=   0.0s\n",
      "[CV] alpha=7.543120063354623 .........................................\n",
      "[CV] .......................... alpha=7.543120063354623, total=   0.0s\n",
      "[CV] alpha=7.543120063354623 .........................................\n",
      "[CV] .......................... alpha=7.543120063354623, total=   0.0s\n",
      "[CV] alpha=7.543120063354623 .........................................\n",
      "[CV] .......................... alpha=7.543120063354623, total=   0.0s\n",
      "[CV] alpha=9.540954763499943 .........................................\n",
      "[CV] .......................... alpha=9.540954763499943, total=   0.0s\n",
      "[CV] alpha=9.540954763499943 .........................................\n",
      "[CV] .......................... alpha=9.540954763499943, total=   0.0s\n",
      "[CV] alpha=9.540954763499943 .........................................\n",
      "[CV] .......................... alpha=9.540954763499943, total=   0.0s\n",
      "[CV] alpha=9.540954763499943 .........................................\n",
      "[CV] .......................... alpha=9.540954763499943, total=   0.0s\n",
      "[CV] alpha=9.540954763499943 .........................................\n",
      "[CV] .......................... alpha=9.540954763499943, total=   0.0s\n",
      "[CV] alpha=12.067926406393289 ........................................\n",
      "[CV] ......................... alpha=12.067926406393289, total=   0.0s\n",
      "[CV] alpha=12.067926406393289 ........................................\n",
      "[CV] ......................... alpha=12.067926406393289, total=   0.0s\n",
      "[CV] alpha=12.067926406393289 ........................................\n",
      "[CV] ......................... alpha=12.067926406393289, total=   0.0s\n",
      "[CV] alpha=12.067926406393289 ........................................\n",
      "[CV] ......................... alpha=12.067926406393289, total=   0.0s\n",
      "[CV] alpha=12.067926406393289 ........................................\n",
      "[CV] ......................... alpha=12.067926406393289, total=   0.0s\n",
      "[CV] alpha=15.264179671752334 ........................................\n",
      "[CV] ......................... alpha=15.264179671752334, total=   0.0s\n",
      "[CV] alpha=15.264179671752334 ........................................\n",
      "[CV] ......................... alpha=15.264179671752334, total=   0.0s\n",
      "[CV] alpha=15.264179671752334 ........................................\n",
      "[CV] ......................... alpha=15.264179671752334, total=   0.0s\n",
      "[CV] alpha=15.264179671752334 ........................................\n",
      "[CV] ......................... alpha=15.264179671752334, total=   0.0s\n",
      "[CV] alpha=15.264179671752334 ........................................\n",
      "[CV] ......................... alpha=15.264179671752334, total=   0.0s\n",
      "[CV] alpha=19.306977288832496 ........................................\n",
      "[CV] ......................... alpha=19.306977288832496, total=   0.0s\n",
      "[CV] alpha=19.306977288832496 ........................................\n",
      "[CV] ......................... alpha=19.306977288832496, total=   0.0s\n",
      "[CV] alpha=19.306977288832496 ........................................\n",
      "[CV] ......................... alpha=19.306977288832496, total=   0.0s\n",
      "[CV] alpha=19.306977288832496 ........................................\n",
      "[CV] ......................... alpha=19.306977288832496, total=   0.0s\n",
      "[CV] alpha=19.306977288832496 ........................................\n",
      "[CV] ......................... alpha=19.306977288832496, total=   0.0s\n",
      "[CV] alpha=24.420530945486497 ........................................\n",
      "[CV] ......................... alpha=24.420530945486497, total=   0.0s\n",
      "[CV] alpha=24.420530945486497 ........................................\n",
      "[CV] ......................... alpha=24.420530945486497, total=   0.0s\n",
      "[CV] alpha=24.420530945486497 ........................................\n",
      "[CV] ......................... alpha=24.420530945486497, total=   0.0s\n",
      "[CV] alpha=24.420530945486497 ........................................\n",
      "[CV] ......................... alpha=24.420530945486497, total=   0.0s\n",
      "[CV] alpha=24.420530945486497 ........................................\n",
      "[CV] ......................... alpha=24.420530945486497, total=   0.0s\n",
      "[CV] alpha=30.88843596477485 .........................................\n",
      "[CV] .......................... alpha=30.88843596477485, total=   0.0s\n",
      "[CV] alpha=30.88843596477485 .........................................\n",
      "[CV] .......................... alpha=30.88843596477485, total=   0.0s\n",
      "[CV] alpha=30.88843596477485 .........................................\n",
      "[CV] .......................... alpha=30.88843596477485, total=   0.0s\n",
      "[CV] alpha=30.88843596477485 .........................................\n",
      "[CV] .......................... alpha=30.88843596477485, total=   0.0s\n",
      "[CV] alpha=30.88843596477485 .........................................\n",
      "[CV] .......................... alpha=30.88843596477485, total=   0.0s\n",
      "[CV] alpha=39.06939937054621 .........................................\n",
      "[CV] .......................... alpha=39.06939937054621, total=   0.0s\n",
      "[CV] alpha=39.06939937054621 .........................................\n",
      "[CV] .......................... alpha=39.06939937054621, total=   0.0s\n",
      "[CV] alpha=39.06939937054621 .........................................\n",
      "[CV] .......................... alpha=39.06939937054621, total=   0.0s\n",
      "[CV] alpha=39.06939937054621 .........................................\n",
      "[CV] .......................... alpha=39.06939937054621, total=   0.0s\n",
      "[CV] alpha=39.06939937054621 .........................................\n",
      "[CV] .......................... alpha=39.06939937054621, total=   0.0s\n",
      "[CV] alpha=49.417133613238384 ........................................\n"
     ]
    },
    {
     "name": "stdout",
     "output_type": "stream",
     "text": [
      "[CV] ......................... alpha=49.417133613238384, total=   0.0s\n",
      "[CV] alpha=49.417133613238384 ........................................\n",
      "[CV] ......................... alpha=49.417133613238384, total=   0.0s\n",
      "[CV] alpha=49.417133613238384 ........................................\n",
      "[CV] ......................... alpha=49.417133613238384, total=   0.0s\n",
      "[CV] alpha=49.417133613238384 ........................................\n",
      "[CV] ......................... alpha=49.417133613238384, total=   0.0s\n",
      "[CV] alpha=49.417133613238384 ........................................\n",
      "[CV] ......................... alpha=49.417133613238384, total=   0.0s\n",
      "[CV] alpha=62.50551925273976 .........................................\n",
      "[CV] .......................... alpha=62.50551925273976, total=   0.0s\n",
      "[CV] alpha=62.50551925273976 .........................................\n",
      "[CV] .......................... alpha=62.50551925273976, total=   0.0s\n",
      "[CV] alpha=62.50551925273976 .........................................\n",
      "[CV] .......................... alpha=62.50551925273976, total=   0.0s\n",
      "[CV] alpha=62.50551925273976 .........................................\n",
      "[CV] .......................... alpha=62.50551925273976, total=   0.0s\n",
      "[CV] alpha=62.50551925273976 .........................................\n",
      "[CV] .......................... alpha=62.50551925273976, total=   0.0s\n",
      "[CV] alpha=79.06043210907701 .........................................\n",
      "[CV] .......................... alpha=79.06043210907701, total=   0.0s\n",
      "[CV] alpha=79.06043210907701 .........................................\n",
      "[CV] .......................... alpha=79.06043210907701, total=   0.0s\n",
      "[CV] alpha=79.06043210907701 .........................................\n",
      "[CV] .......................... alpha=79.06043210907701, total=   0.0s\n",
      "[CV] alpha=79.06043210907701 .........................................\n",
      "[CV] .......................... alpha=79.06043210907701, total=   0.0s\n",
      "[CV] alpha=79.06043210907701 .........................................\n",
      "[CV] .......................... alpha=79.06043210907701, total=   0.0s\n",
      "[CV] alpha=100.0 .....................................................\n",
      "[CV] ...................................... alpha=100.0, total=   0.0s\n",
      "[CV] alpha=100.0 .....................................................\n",
      "[CV] ...................................... alpha=100.0, total=   0.0s\n",
      "[CV] alpha=100.0 .....................................................\n",
      "[CV] ...................................... alpha=100.0, total=   0.0s\n",
      "[CV] alpha=100.0 .....................................................\n",
      "[CV] ...................................... alpha=100.0, total=   0.0s\n",
      "[CV] alpha=100.0 .....................................................\n",
      "[CV] ...................................... alpha=100.0, total=   0.0s\n",
      "CPU times: user 14.7 s, sys: 2.66 s, total: 17.3 s\n",
      "Wall time: 2.71 s\n"
     ]
    },
    {
     "name": "stderr",
     "output_type": "stream",
     "text": [
      "[Parallel(n_jobs=1)]: Done 250 out of 250 | elapsed:    2.7s finished\n"
     ]
    },
    {
     "data": {
      "text/plain": [
       "GridSearchCV(cv=5, error_score='raise-deprecating',\n",
       "       estimator=Ridge(alpha=1.0, copy_X=True, fit_intercept=True, max_iter=None,\n",
       "   normalize=False, random_state=None, solver='auto', tol=0.001),\n",
       "       fit_params=None, iid='warn', n_jobs=None,\n",
       "       param_grid={'alpha': array([1.00000e-03, 1.26486e-03, 1.59986e-03, 2.02359e-03, 2.55955e-03,\n",
       "       3.23746e-03, 4.09492e-03, 5.17947e-03, 6.55129e-03, 8.28643e-03,\n",
       "       1.04811e-02, 1.32571e-02, 1.67683e-02, 2.12095e-02, 2.68270e-02,\n",
       "       3.39322e-02, 4.29193e-02, 5.42868e-02, 6.86649e-02, 8.68... 2.44205e+01, 3.08884e+01,\n",
       "       3.90694e+01, 4.94171e+01, 6.25055e+01, 7.90604e+01, 1.00000e+02])},\n",
       "       pre_dispatch='2*n_jobs', refit=True, return_train_score='warn',\n",
       "       scoring='neg_mean_squared_error', verbose=2)"
      ]
     },
     "execution_count": 110,
     "metadata": {},
     "output_type": "execute_result"
    }
   ],
   "source": [
    "%%time\n",
    "grid.fit(X_train, y_train)"
   ]
  },
  {
   "cell_type": "code",
   "execution_count": 111,
   "metadata": {},
   "outputs": [
    {
     "data": {
      "text/plain": [
       "Ridge(alpha=15.264179671752334, copy_X=True, fit_intercept=True,\n",
       "   max_iter=None, normalize=False, random_state=None, solver='auto',\n",
       "   tol=0.001)"
      ]
     },
     "execution_count": 111,
     "metadata": {},
     "output_type": "execute_result"
    }
   ],
   "source": [
    "grid.best_estimator_"
   ]
  },
  {
   "cell_type": "code",
   "execution_count": 121,
   "metadata": {},
   "outputs": [
    {
     "data": {
      "text/plain": [
       "-0.019796473387021507"
      ]
     },
     "execution_count": 121,
     "metadata": {},
     "output_type": "execute_result"
    }
   ],
   "source": [
    "grid.best_score_"
   ]
  },
  {
   "cell_type": "code",
   "execution_count": 122,
   "metadata": {},
   "outputs": [
    {
     "data": {
      "text/plain": [
       "{'alpha': 15.264179671752334}"
      ]
     },
     "execution_count": 122,
     "metadata": {},
     "output_type": "execute_result"
    }
   ],
   "source": [
    "grid.best_params_"
   ]
  },
  {
   "cell_type": "markdown",
   "metadata": {},
   "source": [
    "## 随机森林回归"
   ]
  },
  {
   "cell_type": "code",
   "execution_count": 123,
   "metadata": {},
   "outputs": [
    {
     "data": {
      "image/png": "[encoded data removed]",
      "text/plain": [
       "<Figure size 432x288 with 1 Axes>"
      ]
     },
     "metadata": {
      "image/png": {
       "height": 263,
       "width": 381
      },
      "needs_background": "light"
     },
     "output_type": "display_data"
    }
   ],
   "source": [
    "from sklearn.ensemble import RandomForestRegressor\n",
    "\n",
    "max_features = [.1, .3, .5, .7, .9, .99]\n",
    "test_scores = list()\n",
    "for max_feat in max_features:\n",
    "    clf = RandomForestRegressor(n_estimators=200, max_features=max_feat)\n",
    "    test_score = np.sqrt(-cross_val_score(\n",
    "        clf, X_train, y_train, cv=5, scoring='neg_mean_squared_error'))\n",
    "    test_scores.append(np.mean(test_score))\n",
    "plt.plot(max_features, test_scores)\n",
    "plt.title(\"Max Features vs CV Error\")\n",
    "plt.show()"
   ]
  },
  {
   "cell_type": "code",
   "execution_count": 124,
   "metadata": {},
   "outputs": [
    {
     "data": {
      "image/png": "[encoded data removed]",
      "text/plain": [
       "<Figure size 432x288 with 1 Axes>"
      ]
     },
     "metadata": {
      "image/png": {
       "height": 263,
       "width": 386
      },
      "needs_background": "light"
     },
     "output_type": "display_data"
    }
   ],
   "source": [
    "from sklearn.ensemble import AdaBoostRegressor\n",
    "\n",
    "params = [10, 15, 20, 25, 30, 35, 40, 45, 50]\n",
    "test_scores = list()\n",
    "for param in params:\n",
    "    clf = AdaBoostRegressor(n_estimators=param, base_estimator=Ridge(15))\n",
    "    test_score = np.sqrt(-cross_val_score(clf, X_train, y_train, cv=10, scoring='neg_mean_squared_error'))\n",
    "    test_scores.append(np.mean(test_score))\n",
    "plt.plot(params, test_scores)\n",
    "plt.title(\"Params vs CV Error\")\n",
    "plt.show()"
   ]
  },
  {
   "cell_type": "code",
   "execution_count": 125,
   "metadata": {
    "collapsed": true
   },
   "outputs": [],
   "source": [
    "from sklearn.ensemble import BaggingRegressor\n",
    "\n",
    "bg = BaggingRegressor(n_estimators=25, base_estimator=Ridge(15))\n",
    "bg.fit(X_train, y_train)\n",
    "y_final = np.expm1(bg.predict(X_test))"
   ]
  },
  {
   "cell_type": "markdown",
   "metadata": {},
   "source": [
    "最后使用岭回归的袋装集成方法。"
   ]
  },
  {
   "cell_type": "code",
   "execution_count": 126,
   "metadata": {},
   "outputs": [
    {
     "data": {
      "text/html": [
       "<div>\n",
       "<style scoped>\n",
       "    .dataframe tbody tr th:only-of-type {\n",
       "        vertical-align: middle;\n",
       "    }\n",
       "\n",
       "    .dataframe tbody tr th {\n",
       "        vertical-align: top;\n",
       "    }\n",
       "\n",
       "    .dataframe thead th {\n",
       "        text-align: right;\n",
       "    }\n",
       "</style>\n",
       "<table border=\"1\" class=\"dataframe\">\n",
       "  <thead>\n",
       "    <tr style=\"text-align: right;\">\n",
       "      <th></th>\n",
       "      <th>Id</th>\n",
       "      <th>SalePrice</th>\n",
       "    </tr>\n",
       "  </thead>\n",
       "  <tbody>\n",
       "    <tr>\n",
       "      <th>0</th>\n",
       "      <td>1461</td>\n",
       "      <td>113128.473976</td>\n",
       "    </tr>\n",
       "    <tr>\n",
       "      <th>1</th>\n",
       "      <td>1462</td>\n",
       "      <td>144929.184145</td>\n",
       "    </tr>\n",
       "    <tr>\n",
       "      <th>2</th>\n",
       "      <td>1463</td>\n",
       "      <td>171039.206834</td>\n",
       "    </tr>\n",
       "    <tr>\n",
       "      <th>3</th>\n",
       "      <td>1464</td>\n",
       "      <td>195607.518539</td>\n",
       "    </tr>\n",
       "    <tr>\n",
       "      <th>4</th>\n",
       "      <td>1465</td>\n",
       "      <td>195670.459078</td>\n",
       "    </tr>\n",
       "  </tbody>\n",
       "</table>\n",
       "</div>"
      ],
      "text/plain": [
       "     Id      SalePrice\n",
       "0  1461  113128.473976\n",
       "1  1462  144929.184145\n",
       "2  1463  171039.206834\n",
       "3  1464  195607.518539\n",
       "4  1465  195670.459078"
      ]
     },
     "execution_count": 126,
     "metadata": {},
     "output_type": "execute_result"
    }
   ],
   "source": [
    "submission_df = DataFrame(data={\"Id\": test_df.index, 'SalePrice': y_final})\n",
    "submission_df.head()"
   ]
  },
  {
   "cell_type": "code",
   "execution_count": 128,
   "metadata": {
    "collapsed": true
   },
   "outputs": [],
   "source": [
    "submission_df.to_csv('./submission_20190323.csv',index=False)"
   ]
  }
 ],
 "metadata": {
  "kernelspec": {
   "display_name": "Python 3",
   "language": "python",
   "name": "python3"
  },
  "language_info": {
   "codemirror_mode": {
    "name": "ipython",
    "version": 3
   },
   "file_extension": ".py",
   "mimetype": "text/x-python",
   "name": "python",
   "nbconvert_exporter": "python",
   "pygments_lexer": "ipython3",
   "version": "3.6.1"
  },
  "toc": {
   "nav_menu": {},
   "number_sections": true,
   "sideBar": true,
   "skip_h1_title": false,
   "toc_cell": false,
   "toc_position": {},
   "toc_section_display": "block",
   "toc_window_display": false
  }
 },
 "nbformat": 4,
 "nbformat_minor": 2
}
