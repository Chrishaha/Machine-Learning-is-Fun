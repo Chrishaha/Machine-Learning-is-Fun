{
 "cells": [
  {
   "cell_type": "markdown",
   "metadata": {},
   "source": [
    "# 《跟老齐学 Python》Python 的 class"
   ]
  },
  {
   "cell_type": "markdown",
   "metadata": {},
   "source": [
    "## 实例 1\n",
    "\n",
    "```python\n",
    "# 跟老齐学 Python\n",
    "# 查看类的所有属性，可以使用 dir。\n",
    "\n",
    "\n",
    "class A:\n",
    "    # 【直接写在类的里面，是类的属性】\n",
    "    # 类的属性，它的值不依赖于任何实例\n",
    "    # 也叫\"静态变量\"或者\"静态数据\"\n",
    "    x = 7\n",
    "\n",
    "\n",
    "if __name__ == '__main__':\n",
    "    print(A.x)\n",
    "    # 可以给类增加一个属性\n",
    "    A.y = 9\n",
    "    # 还可以删除已经有的类的属性\n",
    "    del A.x\n",
    "    print(A.y)\n",
    "    # print(A.x)\n",
    "\n",
    "    # 查看类的所有属性\n",
    "    print(\"查看类的所有属性:\")\n",
    "    print(dir(A))\n",
    "\n",
    "    # __dict__ 这种属性或者方法，都是\"特殊的\"\n",
    "    # 以字典的形式显示类的所有属性\n",
    "    print(\"以字典的形式显示类的所有属性:\")\n",
    "    print(A.__dict__)\n",
    "```"
   ]
  },
  {
   "cell_type": "markdown",
   "metadata": {},
   "source": [
    "## 实例 2\n",
    "\n",
    "```python\n",
    "class A:\n",
    "    x = 7\n",
    "\n",
    "\n",
    "if __name__ == '__main__':\n",
    "    # 此时就是实例的属性\n",
    "    foo = A()\n",
    "    foo.x = 100\n",
    "    print(\"实例的属性\", foo.x)  # 100\n",
    "\n",
    "    # 把实例的属性删去以后，打印出来的就是类的属性值\n",
    "    del foo.x\n",
    "    print('类的属性', foo.x)  # 7\n",
    "```"
   ]
  },
  {
   "cell_type": "markdown",
   "metadata": {},
   "source": [
    "## 实例 3\n",
    "\n",
    "```python\n",
    "class A:\n",
    "    x = 100\n",
    "\n",
    "\n",
    "if __name__ == '__main__':\n",
    "    foo = A()\n",
    "    # 这个时候就是类的属性\n",
    "    print(foo.x)  # 100\n",
    "    A.x = 1\n",
    "    # 类的属性值改了，对象的属性值也跟着变\n",
    "    print(foo.x)  # 1\n",
    "```"
   ]
  },
  {
   "cell_type": "markdown",
   "metadata": {},
   "source": [
    "## 实例 4\n",
    "\n",
    "```python\n",
    "class A:\n",
    "    x = [14, 19, 22]\n",
    "\n",
    "\n",
    "if __name__ == '__main__':\n",
    "    foo = A()\n",
    "    # 对象的属性值变了，也影响到了类的属性值，这是属性是 \"对象\" 类型的额时候\n",
    "    foo.x.append(28)\n",
    "    print(A.x)  # [14, 19, 22, 28]\n",
    "```\n"
   ]
  },
  {
   "cell_type": "markdown",
   "metadata": {},
   "source": [
    "## 实例 5\n",
    "\n",
    "```python\n",
    "# 装饰器 @classmethod 的使用\n",
    "\n",
    "\n",
    "class Foo:\n",
    "    lang = 'Java'\n",
    "\n",
    "    def __init__(self):\n",
    "        self.lang = 'Python'\n",
    "\n",
    "    # 装饰器\n",
    "    @classmethod\n",
    "    def get_class_attr(cls):\n",
    "        return cls.lang\n",
    "\n",
    "\n",
    "if __name__ == '__main__':\n",
    "    print(Foo.lang)  # Java\n",
    "    r = Foo.get_class_attr()\n",
    "    print('返回的是类的属性值', r)  # Java\n",
    "\n",
    "    f = Foo()\n",
    "    print('返回的是对象的属性值', f.lang)  # Python\n",
    "    print('返回的是类的属性值', f.get_class_attr())  # Java\n",
    "```"
   ]
  },
  {
   "cell_type": "markdown",
   "metadata": {},
   "source": [
    "## 实例 6\n",
    "\n",
    "```python\n",
    "import random\n",
    "\n",
    "\n",
    "class Foo:\n",
    "    def __init__(self, name):\n",
    "        self.name = name\n",
    "\n",
    "    def get_name(self, age):\n",
    "        if self.select(age):\n",
    "            return self.name\n",
    "        else:\n",
    "            return \"the name is secret.\"\n",
    "\n",
    "    @staticmethod\n",
    "    def select(n):\n",
    "        a = random.randint(1, 100)\n",
    "        return a - n > 0\n",
    "```"
   ]
  },
  {
   "cell_type": "markdown",
   "metadata": {},
   "source": [
    "## 实例 7\n",
    "\n",
    "```python\n",
    "class Person:\n",
    "    # __init__ 可以理解为 Java 的构造函数\n",
    "    # 第一个参数必须是 self\n",
    "    # 不能有 return 语句\n",
    "    def __init__(self, name):\n",
    "        self.name = name\n",
    "\n",
    "    def get_name(self):\n",
    "        return self.name\n",
    "\n",
    "    def color(self, color):\n",
    "        d = {}\n",
    "        d[self.name] = color\n",
    "        return d\n",
    "\n",
    "\n",
    "if __name__ == '__main__':\n",
    "    girl = Person(\"xieyi\")\n",
    "    print(girl.name)\n",
    "    her_color = girl.color(\"red\")\n",
    "    print(her_color)\n",
    "```"
   ]
  }
 ],
 "metadata": {
  "kernelspec": {
   "display_name": "Python 3",
   "language": "python",
   "name": "python3"
  },
  "language_info": {
   "codemirror_mode": {
    "name": "ipython",
    "version": 3
   },
   "file_extension": ".py",
   "mimetype": "text/x-python",
   "name": "python",
   "nbconvert_exporter": "python",
   "pygments_lexer": "ipython3",
   "version": "3.6.1"
  }
 },
 "nbformat": 4,
 "nbformat_minor": 2
}
