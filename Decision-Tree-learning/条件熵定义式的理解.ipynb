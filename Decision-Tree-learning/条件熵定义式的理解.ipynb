{
 "cells": [
  {
   "cell_type": "markdown",
   "metadata": {},
   "source": [
    "# 条件熵定义式的理解"
   ]
  },
  {
   "cell_type": "markdown",
   "metadata": {},
   "source": [
    "条件熵定义的如下，两种表示形式其实一模一样。\n",
    "\n",
    "$$\n",
    "H(Y|X)=\\sum_{x\\in X} p(x)H(Y|X=x)\n",
    "$$\n",
    "\n",
    "或者写成这样\n",
    "\n",
    "$$\n",
    "H(Y|X)=\\sum_{i=1}^{n} p(x_i)H(Y|X=x_i)\n",
    "$$"
   ]
  },
  {
   "cell_type": "markdown",
   "metadata": {},
   "source": [
    "说明：\n",
    "+ 这里 $n$ 表示随机变量 $X$ 取值的个数，不管是条件熵还是熵，都是计算 $Y$ （可以理解为因变量）的熵；\n",
    "+ $H(Y|X)$ 可以理解为在已知一些信息的情况下，因变量 $Y$ 的不纯度，即在 \n",
    " $X$ 的划分下，$Y$ 被分割越来越“纯”的程度。"
   ]
  },
  {
   "cell_type": "markdown",
   "metadata": {},
   "source": [
    "## 进一步理解"
   ]
  },
  {
   "cell_type": "markdown",
   "metadata": {},
   "source": [
    "这里又假设随机变量 $Y$ 有 $m$ 个取值，将 $H(Y|X=x_i)$ 用定义式 \n",
    "$$H(Y|X=x_i) = - \\sum_{j=1}^{m} p(y_j|X=x_i)\\log p(y_j|X=x_i)$$ 代入上式，得 \n",
    "\n",
    "$$\n",
    "\\begin{equation}\\begin{split} \n",
    "H(Y|X)&=\\sum_{i=1}^{n} p(x_i)H(Y|X=x_i) \\\\\n",
    "&=\\sum_{i=1}^{n} p(x_i)\\left(- \\sum_{j=1}^{m} p(y_j|X=x_i) \\log p(y_j|X=x_i)\\right)\\\\\n",
    "&=-\\sum_{i=1}^{n}p(x_i) \\sum_{j=1}^{m} p(y_j|x_i) \\log p(y_j|x_i)\n",
    "\\end{split}\\end{equation}\n",
    "$$"
   ]
  },
  {
   "cell_type": "markdown",
   "metadata": {},
   "source": [
    "\n",
    "即\n",
    "$$\n",
    "H(Y|X)=\\sum_{i=1}^{n} p(x_i)H(Y|X=x_i) =-\\sum_{i=1}^{n}p(x_i) \\sum_{j=1}^{m} p(y_j|x_i) \\log p(y_j|x_i)\n",
    "$$"
   ]
  },
  {
   "cell_type": "markdown",
   "metadata": {},
   "source": [
    "+ 其实就是把熵的定义式带进去了，熵的对象还是概率分布，只不过这里的概率分布是条件概率分布而已；\n",
    "+ 条件熵表示在已知随机变量 $X$ 的条件下，$Y$ 的**条件概率分布**的熵**对随机变量 $X$**的数学期望；\n",
    "+ 熵是数学期望（信息量的数学期望），条件熵也是数学期望，是数学期望的数学期望，有点拗口，不妨把定义多看几遍，就清楚了。\n",
    "\n",
    "---\n",
    "\n",
    "总结：为什么我写来写去发现这么简单的东西，我居然写了这么多字，真的是很神奇（认真脸）。"
   ]
  }
 ],
 "metadata": {
  "kernelspec": {
   "display_name": "Python 3",
   "language": "python",
   "name": "python3"
  },
  "language_info": {
   "codemirror_mode": {
    "name": "ipython",
    "version": 3
   },
   "file_extension": ".py",
   "mimetype": "text/x-python",
   "name": "python",
   "nbconvert_exporter": "python",
   "pygments_lexer": "ipython3",
   "version": "3.6.1"
  }
 },
 "nbformat": 4,
 "nbformat_minor": 2
}
