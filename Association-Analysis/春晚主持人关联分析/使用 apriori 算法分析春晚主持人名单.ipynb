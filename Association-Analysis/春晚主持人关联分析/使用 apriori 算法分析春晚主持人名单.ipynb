{
 "cells": [
  {
   "cell_type": "markdown",
   "metadata": {},
   "source": [
    "# 使用 apriori 算法分析春晚主持人名单"
   ]
  },
  {
   "cell_type": "markdown",
   "metadata": {},
   "source": [
    "本案例选取了 1983 年至 2019 年一共 37 年春晚的主持人列表，从 [这里](https://baike.baidu.com/item/%E4%B8%AD%E5%A4%AE%E5%B9%BF%E6%92%AD%E7%94%B5%E8%A7%86%E6%80%BB%E5%8F%B0%E6%98%A5%E8%8A%82%E8%81%94%E6%AC%A2%E6%99%9A%E4%BC%9A/23286677?fromtitle=%E4%B8%AD%E5%A4%AE%E7%94%B5%E8%A7%86%E5%8F%B0%E6%98%A5%E8%8A%82%E8%81%94%E6%AC%A2%E6%99%9A%E4%BC%9A&fromid=7622174&fr=aladdin) 得到。"
   ]
  },
  {
   "cell_type": "markdown",
   "metadata": {},
   "source": [
    "下面使用 apriori 算法分析一起出现的主持人名单，并得到关联规则"
   ]
  },
  {
   "cell_type": "code",
   "execution_count": 7,
   "metadata": {},
   "outputs": [],
   "source": [
    "import csv\n",
    "\n",
    "data = []\n",
    "\n",
    "with open('春晚主持人名单.csv') as f:\n",
    "    f_csv = csv.reader(f)\n",
    "    header = next(f_csv)\n",
    "    # print(header)\n",
    "    for row in f_csv:\n",
    "        data.append(row[1:])"
   ]
  },
  {
   "cell_type": "code",
   "execution_count": 6,
   "metadata": {},
   "outputs": [
    {
     "data": {
      "text/plain": [
       "[['马季', '姜昆', '王景愚', '刘晓庆'],\n",
       " ['姜昆', '赵忠祥', '卢静', '黄阿原', '\\xa0姜黎黎', '\\xa0陈思思'],\n",
       " ['马季', '姜昆', '张瑜', '朱苑宜', '斑斑'],\n",
       " ['姜昆', '赵忠祥', '刘晓庆', '王刚', '方舒', '顾永菲'],\n",
       " ['李默然', '姜昆', '王刚', '李小玢'],\n",
       " ['孙道临', '姜昆', '王刚', '侯耀文', '薛飞', '卫华', '鞠萍'],\n",
       " ['李默然', '姜昆', '赵忠祥', '阚丽君', '李扬'],\n",
       " ['赵忠祥'],\n",
       " ['赵忠祥', '倪萍', '张宏民', '李瑞英'],\n",
       " ['赵忠祥', '倪萍', '杨澜'],\n",
       " ['梁雁翎', '李庆安', '张永权', '赵忠祥', '倪萍', '杨澜'],\n",
       " ['倪萍', '程前'],\n",
       " ['赵忠祥', '倪萍', '许戈辉'],\n",
       " ['赵忠祥', '倪萍', '程前', '袁鸣', '张晓', '周涛'],\n",
       " ['赵忠祥', '倪萍', '程前', '周涛', '朱军', '亚宁'],\n",
       " ['赵忠祥', '倪萍', '朱军', '周涛', '亚宁', '王雪纯', '刘纯燕', '曾媛', '何炅'],\n",
       " ['赵忠祥', '倪萍', '周涛', '朱军'],\n",
       " ['姜昆',\n",
       "  '赵忠祥',\n",
       "  '倪萍',\n",
       "  '赵薇',\n",
       "  '温兆伦',\n",
       "  '王思懿',\n",
       "  '濮存昕',\n",
       "  '牛群',\n",
       "  '冯巩',\n",
       "  '杨澜',\n",
       "  '周涛',\n",
       "  '朱军',\n",
       "  '白岩松',\n",
       "  '曹颖',\n",
       "  '文清',\n",
       "  '赵琳',\n",
       "  '李小萌',\n",
       "  '崔永元',\n",
       "  '文兴宇',\n",
       "  '鞠萍'],\n",
       " ['朱军', '周涛', '张政', '曹颖'],\n",
       " ['倪萍', '朱军', '周涛', '李咏', '文清', '王小丫', '曹颖', '张政'],\n",
       " ['倪萍', '周涛', '朱军', '李咏', '张政', '文清'],\n",
       " ['倪萍', '周涛', '朱军', '李咏', '赵保乐', '文清'],\n",
       " ['朱军', '周涛', '李咏', '文清', '张泽群', '董卿'],\n",
       " ['朱军', '周涛', '李咏', '董卿', '刘芳菲', '张泽群'],\n",
       " ['朱军', '周涛', '李咏', '董卿', '刘芳菲', '张泽群'],\n",
       " ['白岩松', '朱军', '周涛', '李咏', '董卿', '张泽群', '刘芳菲'],\n",
       " ['白岩松', '周涛', '朱军', '董卿', '张泽群', '朱迅'],\n",
       " ['朱军', '周涛', '董卿', '张泽群', '任鲁豫', '欧阳夏丹'],\n",
       " ['朱军', '周涛', '李咏', '董卿', '张泽群', '朱迅'],\n",
       " ['朱军', '董卿', '李咏', '毕福剑', '李思思', '撒贝宁'],\n",
       " ['朱军', '董卿', '李咏', '毕福剑', '李思思', '撒贝宁'],\n",
       " ['张国立', '朱军', '董卿', '李思思', '毕福剑'],\n",
       " ['朱军', '董卿', '李思思', '康辉', '撒贝宁', '尼格买提', '毕福剑', '朱迅'],\n",
       " ['周涛',\n",
       "  '朱军',\n",
       "  '董卿',\n",
       "  '李思思',\n",
       "  '撒贝宁',\n",
       "  '尼格买提',\n",
       "  '李佳明',\n",
       "  '赵琳硕',\n",
       "  '朱迅',\n",
       "  '徐杰',\n",
       "  '任鲁豫',\n",
       "  '邓璐（广东广州分会场）',\n",
       "  '马跃',\n",
       "  '欧仁图雅'],\n",
       " ['朱军',\n",
       "  '董卿',\n",
       "  '康辉',\n",
       "  '朱迅',\n",
       "  '尼格买提',\n",
       "  '孟盛楠',\n",
       "  '曹可凡',\n",
       "  '杨帆',\n",
       "  '阿侯尔里',\n",
       "  '高枫',\n",
       "  '张蕾',\n",
       "  '管彤',\n",
       "  '周巍'],\n",
       " ['任鲁豫',\n",
       "  '李思思',\n",
       "  '康辉',\n",
       "  '朱迅',\n",
       "  '尼格买提',\n",
       "  '马跃',\n",
       "  '窦爱莉',\n",
       "  '杨帆',\n",
       "  '桂嘉晨',\n",
       "  '李佳明',\n",
       "  '李毅（山东泰安',\n",
       "  '曲阜分会场）',\n",
       "  '张泽群',\n",
       "  '王丝'],\n",
       " ['任鲁豫', '李思思', '康辉', '朱迅', '尼格买提', '张宇', '尹颂', '张泽群', '杨帆', '杨帆', '庞玮']]"
      ]
     },
     "execution_count": 6,
     "metadata": {},
     "output_type": "execute_result"
    }
   ],
   "source": [
    "data"
   ]
  },
  {
   "cell_type": "code",
   "execution_count": 8,
   "metadata": {
    "collapsed": true
   },
   "outputs": [],
   "source": [
    "from efficient_apriori import apriori"
   ]
  },
  {
   "cell_type": "markdown",
   "metadata": {},
   "source": [
    "设置 `min_confidence=1` ，表示 $A$ 出现的前提下 $B$ 出现的概率至少是 $100\\%$ ，就认为是强关联规则。"
   ]
  },
  {
   "cell_type": "code",
   "execution_count": 39,
   "metadata": {},
   "outputs": [
    {
     "name": "stdout",
     "output_type": "stream",
     "text": [
      "1-项集有：\n",
      "倪萍 \t主持春晚 13 次\n",
      "周涛 \t主持春晚 17 次\n",
      "朱军 \t主持春晚 21 次\n",
      "董卿 \t主持春晚 13 次\n",
      "赵忠祥 \t主持春晚 13 次\n",
      "\n",
      "2-项集有：\n",
      "周涛、朱军 \t主持春晚 16 次\n",
      "朱军、董卿 \t主持春晚 13 次\n",
      "\n",
      "{董卿} -> {朱军} (conf: 1.000, supp: 0.351, lift: 1.762, conv: 432432432.432)\n"
     ]
    }
   ],
   "source": [
    "itemsets, rules = apriori(data, min_support=0.3, min_confidence=1)\n",
    "\n",
    "for item_counter, item_frequency in itemsets.items():\n",
    "    print('{}-项集有：'.format(item_counter))\n",
    "    for item, fre in item_frequency.items():\n",
    "        print('、'.join(item), '\\t主持春晚 {} 次'.format(fre))\n",
    "    print()\n",
    "\n",
    "for rule in rules:\n",
    "    print(rule)"
   ]
  },
  {
   "cell_type": "markdown",
   "metadata": {},
   "source": [
    "我们把最小支持度改成 $0.2$，即主持超过过 $7.4$ 届春晚就认为是频繁项集，我们看看结果。"
   ]
  },
  {
   "cell_type": "code",
   "execution_count": 42,
   "metadata": {},
   "outputs": [
    {
     "name": "stdout",
     "output_type": "stream",
     "text": [
      "1-项集有：\n",
      "倪萍 \t主持春晚 13 次\n",
      "周涛 \t主持春晚 17 次\n",
      "姜昆 \t主持春晚 8 次\n",
      "张泽群 \t主持春晚 9 次\n",
      "朱军 \t主持春晚 21 次\n",
      "李咏 \t主持春晚 10 次\n",
      "董卿 \t主持春晚 13 次\n",
      "赵忠祥 \t主持春晚 13 次\n",
      "\n",
      "2-项集有：\n",
      "倪萍、周涛 \t主持春晚 8 次\n",
      "倪萍、赵忠祥 \t主持春晚 9 次\n",
      "周涛、朱军 \t主持春晚 16 次\n",
      "周涛、李咏 \t主持春晚 8 次\n",
      "周涛、董卿 \t主持春晚 8 次\n",
      "朱军、李咏 \t主持春晚 10 次\n",
      "朱军、董卿 \t主持春晚 13 次\n",
      "\n",
      "3-项集有：\n",
      "周涛、朱军、李咏 \t主持春晚 8 次\n",
      "周涛、朱军、董卿 \t主持春晚 8 次\n",
      "\n",
      "{李咏} -> {朱军} (conf: 1.000, supp: 0.270, lift: 1.762, conv: 432432432.432)\n",
      "{董卿} -> {朱军} (conf: 1.000, supp: 0.351, lift: 1.762, conv: 432432432.432)\n",
      "{周涛, 李咏} -> {朱军} (conf: 1.000, supp: 0.216, lift: 1.762, conv: 432432432.432)\n",
      "{周涛, 董卿} -> {朱军} (conf: 1.000, supp: 0.216, lift: 1.762, conv: 432432432.432)\n"
     ]
    }
   ],
   "source": [
    "itemsets, rules = apriori(data, min_support=0.2, min_confidence=1)\n",
    "\n",
    "for item_counter, item_frequency in itemsets.items():\n",
    "    print('{}-项集有：'.format(item_counter))\n",
    "    for item, fre in item_frequency.items():\n",
    "        print('、'.join(item), '\\t主持春晚 {} 次'.format(fre))\n",
    "    print()\n",
    "\n",
    "for rule in rules:\n",
    "    print(rule)"
   ]
  }
 ],
 "metadata": {
  "kernelspec": {
   "display_name": "Python 3",
   "language": "python",
   "name": "python3"
  },
  "language_info": {
   "codemirror_mode": {
    "name": "ipython",
    "version": 3
   },
   "file_extension": ".py",
   "mimetype": "text/x-python",
   "name": "python",
   "nbconvert_exporter": "python",
   "pygments_lexer": "ipython3",
   "version": "3.6.1"
  },
  "toc": {
   "nav_menu": {},
   "number_sections": true,
   "sideBar": true,
   "skip_h1_title": false,
   "toc_cell": false,
   "toc_position": {},
   "toc_section_display": "block",
   "toc_window_display": false
  }
 },
 "nbformat": 4,
 "nbformat_minor": 2
}
