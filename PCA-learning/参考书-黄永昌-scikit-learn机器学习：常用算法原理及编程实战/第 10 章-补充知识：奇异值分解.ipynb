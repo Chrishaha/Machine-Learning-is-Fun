{
 "cells": [
  {
   "cell_type": "markdown",
   "metadata": {},
   "source": [
    "# 第 10 章-补充知识：奇异值分解\n",
    "\n",
    "参考资料：https://blog.csdn.net/u010099080/article/details/68060274"
   ]
  },
  {
   "cell_type": "code",
   "execution_count": 1,
   "metadata": {},
   "outputs": [
    {
     "name": "stdout",
     "output_type": "stream",
     "text": [
      "(array([[-0.81741556, -0.57604844,  0.        ,  0.        ],\n",
      "       [-0.57604844,  0.81741556,  0.        ,  0.        ],\n",
      "       [ 0.        ,  0.        ,  1.        ,  0.        ],\n",
      "       [ 0.        ,  0.        ,  0.        ,  1.        ]]), array([5.4649857 , 0.36596619]), array([[-0.40455358, -0.9145143 ],\n",
      "       [-0.9145143 ,  0.40455358]]))\n"
     ]
    }
   ],
   "source": [
    "import numpy as np\n",
    "\n",
    "A = np.array([[2, 4], [1, 3], [0, 0], [0, 0]])\n",
    "print(np.linalg.svd(A))"
   ]
  },
  {
   "cell_type": "markdown",
   "metadata": {},
   "source": [
    "$$\n",
    "\\begin{pmatrix} 2 & 4 \\\\ 1 & 3 \\\\ 0 & 0 \\\\ 0 & 0 \\\\ \\end{pmatrix} = \\begin{pmatrix} 0.81741556 & -0.57604844 & 0 & 0 \\\\ 0.57604844 & 0.81741556 & 0 & 0 \\\\ 0 & 0 & 1 & 0 \\\\ 0 & 0 & 0 & 1 \\\\ \\end{pmatrix} \\begin{pmatrix} 5.4649857 & 0 \\\\ 0 & 0.36596619 \\\\ 0 & 0 \\\\ 0 & 0 \\\\ \\end{pmatrix} \\begin{pmatrix} 0.40455358 & -0.9145143 \\\\ 0.9145143 & 0.40455358 \\\\ \\end{pmatrix} ^ T\n",
    "$$"
   ]
  },
  {
   "cell_type": "code",
   "execution_count": null,
   "metadata": {
    "collapsed": true
   },
   "outputs": [],
   "source": []
  }
 ],
 "metadata": {
  "kernelspec": {
   "display_name": "Python 3",
   "language": "python",
   "name": "python3"
  },
  "language_info": {
   "codemirror_mode": {
    "name": "ipython",
    "version": 3
   },
   "file_extension": ".py",
   "mimetype": "text/x-python",
   "name": "python",
   "nbconvert_exporter": "python",
   "pygments_lexer": "ipython3",
   "version": "3.6.1"
  }
 },
 "nbformat": 4,
 "nbformat_minor": 2
}
