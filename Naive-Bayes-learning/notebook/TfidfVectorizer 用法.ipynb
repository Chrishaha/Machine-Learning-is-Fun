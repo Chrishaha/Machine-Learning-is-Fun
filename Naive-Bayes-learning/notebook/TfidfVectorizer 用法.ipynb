{
 "cells": [
  {
   "cell_type": "code",
   "execution_count": 6,
   "metadata": {},
   "outputs": [
    {
     "data": {
      "text/plain": [
       "array([[0.        , 0.        , 0.57973867, 0.81480247],\n",
       "       [0.6316672 , 0.6316672 , 0.44943642, 0.        ]])"
      ]
     },
     "execution_count": 6,
     "metadata": {},
     "output_type": "execute_result"
    }
   ],
   "source": [
    "from sklearn.feature_extraction.text import TfidfVectorizer\n",
    "\n",
    "document = [\"I have a pen.\", \"I have an apple.\"]\n",
    "tfidf_model = TfidfVectorizer().fit(document)\n",
    "sparse_result = tfidf_model.transform(document)  # 得到 tf-idf 矩阵，稀疏矩阵表示法\n",
    "sparse_result.toarray()"
   ]
  },
  {
   "cell_type": "code",
   "execution_count": 7,
   "metadata": {},
   "outputs": [
    {
     "data": {
      "text/plain": [
       "{'an': 0, 'apple': 1, 'have': 2, 'pen': 3}"
      ]
     },
     "execution_count": 7,
     "metadata": {},
     "output_type": "execute_result"
    }
   ],
   "source": [
    "tfidf_model.vocabulary_"
   ]
  },
  {
   "cell_type": "code",
   "execution_count": 2,
   "metadata": {},
   "outputs": [
    {
     "name": "stdout",
     "output_type": "stream",
     "text": [
      "  (0, 3)\t0.8148024746671689\n",
      "  (0, 2)\t0.5797386715376657\n",
      "  (1, 2)\t0.4494364165239821\n",
      "  (1, 1)\t0.6316672017376245\n",
      "  (1, 0)\t0.6316672017376245\n"
     ]
    }
   ],
   "source": [
    "# 第 1 个参数表示句子的编号\n",
    "# 其实就是转换成矩阵的时候，在第几句\n",
    "print(sparse_result)"
   ]
  },
  {
   "cell_type": "code",
   "execution_count": 12,
   "metadata": {},
   "outputs": [
    {
     "data": {
      "text/plain": [
       "matrix([[0.        , 0.        , 0.57973867, 0.81480247],\n",
       "        [0.6316672 , 0.6316672 , 0.44943642, 0.        ]])"
      ]
     },
     "execution_count": 12,
     "metadata": {},
     "output_type": "execute_result"
    }
   ],
   "source": [
    "sparse_result.todense()"
   ]
  }
 ],
 "metadata": {
  "kernelspec": {
   "display_name": "Python 3",
   "language": "python",
   "name": "python3"
  },
  "language_info": {
   "codemirror_mode": {
    "name": "ipython",
    "version": 3
   },
   "file_extension": ".py",
   "mimetype": "text/x-python",
   "name": "python",
   "nbconvert_exporter": "python",
   "pygments_lexer": "ipython3",
   "version": "3.6.1"
  },
  "toc": {
   "nav_menu": {},
   "number_sections": true,
   "sideBar": true,
   "skip_h1_title": false,
   "toc_cell": false,
   "toc_position": {},
   "toc_section_display": "block",
   "toc_window_display": false
  }
 },
 "nbformat": 4,
 "nbformat_minor": 2
}
