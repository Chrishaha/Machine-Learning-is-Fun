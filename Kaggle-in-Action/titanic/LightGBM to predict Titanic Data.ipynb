{
 "cells": [
  {
   "cell_type": "markdown",
   "metadata": {},
   "source": [
    "参考资料：\n",
    "\n",
    "https://www.kaggle.com/uchidamasatoshi/lightgbm-to-predict-titanic-data"
   ]
  },
  {
   "cell_type": "code",
   "execution_count": 88,
   "metadata": {},
   "outputs": [],
   "source": [
    "import pandas as pd\n",
    "import numpy as np\n",
    "\n",
    "from matplotlib import pyplot as plt"
   ]
  },
  {
   "cell_type": "code",
   "execution_count": 89,
   "metadata": {
    "collapsed": true
   },
   "outputs": [],
   "source": [
    "data_train = pd.read_csv('./input/train.csv')\n",
    "data_test = pd.read_csv('./input/test.csv')"
   ]
  },
  {
   "cell_type": "code",
   "execution_count": 90,
   "metadata": {
    "collapsed": true
   },
   "outputs": [],
   "source": [
    "y = data_train['Survived']\n",
    "ID = data_test['PassengerId']"
   ]
  },
  {
   "cell_type": "code",
   "execution_count": 91,
   "metadata": {
    "collapsed": true
   },
   "outputs": [],
   "source": [
    "data_train.drop(['PassengerId'], axis=1, inplace=True)\n",
    "data_test.drop(['PassengerId'], axis=1, inplace=True)"
   ]
  },
  {
   "cell_type": "code",
   "execution_count": 92,
   "metadata": {
    "collapsed": true
   },
   "outputs": [],
   "source": [
    "del data_train['Name'], data_train['Ticket'], data_train['Cabin'], data_train['Survived']\n",
    "del data_test['Name'], data_test['Ticket'], data_test['Cabin']"
   ]
  },
  {
   "cell_type": "markdown",
   "metadata": {},
   "source": [
    "或者用 map 函数也是可以的。"
   ]
  },
  {
   "cell_type": "code",
   "execution_count": 93,
   "metadata": {},
   "outputs": [],
   "source": [
    "data_train['Sex'].replace({'male': 0, 'female': 1}, inplace=True)\n",
    "data_train['Embarked'].replace({'Q': 0, 'S': 1, 'C': 1}, inplace=True)\n",
    "\n",
    "data_test['Sex'].replace({'male': 0, 'female': 1}, inplace=True)\n",
    "data_test['Embarked'].replace({'Q': 0, 'S': 1, 'C': 1}, inplace=True)"
   ]
  },
  {
   "cell_type": "code",
   "execution_count": 94,
   "metadata": {},
   "outputs": [
    {
     "data": {
      "text/html": [
       "<div>\n",
       "<style scoped>\n",
       "    .dataframe tbody tr th:only-of-type {\n",
       "        vertical-align: middle;\n",
       "    }\n",
       "\n",
       "    .dataframe tbody tr th {\n",
       "        vertical-align: top;\n",
       "    }\n",
       "\n",
       "    .dataframe thead th {\n",
       "        text-align: right;\n",
       "    }\n",
       "</style>\n",
       "<table border=\"1\" class=\"dataframe\">\n",
       "  <thead>\n",
       "    <tr style=\"text-align: right;\">\n",
       "      <th></th>\n",
       "      <th>Pclass</th>\n",
       "      <th>Sex</th>\n",
       "      <th>Age</th>\n",
       "      <th>SibSp</th>\n",
       "      <th>Parch</th>\n",
       "      <th>Fare</th>\n",
       "      <th>Embarked</th>\n",
       "    </tr>\n",
       "  </thead>\n",
       "  <tbody>\n",
       "    <tr>\n",
       "      <th>61</th>\n",
       "      <td>1</td>\n",
       "      <td>1</td>\n",
       "      <td>38.0</td>\n",
       "      <td>0</td>\n",
       "      <td>0</td>\n",
       "      <td>80.0</td>\n",
       "      <td>NaN</td>\n",
       "    </tr>\n",
       "    <tr>\n",
       "      <th>829</th>\n",
       "      <td>1</td>\n",
       "      <td>1</td>\n",
       "      <td>62.0</td>\n",
       "      <td>0</td>\n",
       "      <td>0</td>\n",
       "      <td>80.0</td>\n",
       "      <td>NaN</td>\n",
       "    </tr>\n",
       "  </tbody>\n",
       "</table>\n",
       "</div>"
      ],
      "text/plain": [
       "     Pclass  Sex   Age  SibSp  Parch  Fare  Embarked\n",
       "61        1    1  38.0      0      0  80.0       NaN\n",
       "829       1    1  62.0      0      0  80.0       NaN"
      ]
     },
     "execution_count": 94,
     "metadata": {},
     "output_type": "execute_result"
    }
   ],
   "source": [
    "# Check null data\n",
    "data_train[data_train['Pclass'].isnull()]\n",
    "data_train[data_train['Sex'].isnull()]\n",
    "data_train[data_train['Age'].isnull()]\n",
    "data_train[data_train['SibSp'].isnull()]\n",
    "data_train[data_train['Parch'].isnull()]\n",
    "data_train[data_train['Fare'].isnull()]\n",
    "data_train[data_train['Embarked'].isnull()]"
   ]
  },
  {
   "cell_type": "code",
   "execution_count": 95,
   "metadata": {},
   "outputs": [
    {
     "data": {
      "text/html": [
       "<div>\n",
       "<style scoped>\n",
       "    .dataframe tbody tr th:only-of-type {\n",
       "        vertical-align: middle;\n",
       "    }\n",
       "\n",
       "    .dataframe tbody tr th {\n",
       "        vertical-align: top;\n",
       "    }\n",
       "\n",
       "    .dataframe thead th {\n",
       "        text-align: right;\n",
       "    }\n",
       "</style>\n",
       "<table border=\"1\" class=\"dataframe\">\n",
       "  <thead>\n",
       "    <tr style=\"text-align: right;\">\n",
       "      <th></th>\n",
       "      <th>Pclass</th>\n",
       "      <th>Sex</th>\n",
       "      <th>Age</th>\n",
       "      <th>SibSp</th>\n",
       "      <th>Parch</th>\n",
       "      <th>Fare</th>\n",
       "      <th>Embarked</th>\n",
       "    </tr>\n",
       "  </thead>\n",
       "  <tbody>\n",
       "  </tbody>\n",
       "</table>\n",
       "</div>"
      ],
      "text/plain": [
       "Empty DataFrame\n",
       "Columns: [Pclass, Sex, Age, SibSp, Parch, Fare, Embarked]\n",
       "Index: []"
      ]
     },
     "execution_count": 95,
     "metadata": {},
     "output_type": "execute_result"
    }
   ],
   "source": [
    "data_test[data_test['Pclass'].isnull()]\n",
    "data_test[data_test['Sex'].isnull()]\n",
    "data_test[data_test['Age'].isnull()]\n",
    "data_test[data_test['SibSp'].isnull()]\n",
    "data_test[data_test['Parch'].isnull()]\n",
    "data_test[data_test['Fare'].isnull()]\n",
    "data_test[data_test['Embarked'].isnull()]"
   ]
  },
  {
   "cell_type": "code",
   "execution_count": 96,
   "metadata": {
    "collapsed": true
   },
   "outputs": [],
   "source": [
    "X = data_train"
   ]
  },
  {
   "cell_type": "code",
   "execution_count": 98,
   "metadata": {
    "collapsed": true
   },
   "outputs": [],
   "source": [
    "from sklearn.model_selection import train_test_split\n",
    "\n",
    "X_train, X_test, y_train, y_test = train_test_split(\n",
    "    X, y, test_size=0.2, random_state=666)"
   ]
  },
  {
   "cell_type": "code",
   "execution_count": 99,
   "metadata": {},
   "outputs": [
    {
     "data": {
      "text/plain": [
       "((712, 7), (179, 7))"
      ]
     },
     "execution_count": 99,
     "metadata": {},
     "output_type": "execute_result"
    }
   ],
   "source": [
    "X_train.shape, X_test.shape"
   ]
  },
  {
   "cell_type": "code",
   "execution_count": 100,
   "metadata": {},
   "outputs": [
    {
     "data": {
      "text/plain": [
       "((712,), (179,))"
      ]
     },
     "execution_count": 100,
     "metadata": {},
     "output_type": "execute_result"
    }
   ],
   "source": [
    "y_train.shape,y_test.shape"
   ]
  },
  {
   "cell_type": "code",
   "execution_count": 101,
   "metadata": {
    "collapsed": true
   },
   "outputs": [],
   "source": [
    "import lightgbm as lgb\n",
    "\n",
    "# generate dataset\n",
    "lgb_train = lgb.Dataset(X_train, y_train)\n",
    "lgb_eval = lgb.Dataset(X_test, y_test, reference=lgb_train)"
   ]
  },
  {
   "cell_type": "code",
   "execution_count": 102,
   "metadata": {
    "collapsed": true
   },
   "outputs": [],
   "source": [
    "# LightGBM Hyper Parameter\n",
    "lgbm_params = {\n",
    "    'objective': 'binary',\n",
    "    'metric': 'auc',\n",
    "}"
   ]
  },
  {
   "cell_type": "code",
   "execution_count": 103,
   "metadata": {},
   "outputs": [
    {
     "name": "stdout",
     "output_type": "stream",
     "text": [
      "[1]\tvalid_0's auc: 0.832045\n",
      "[2]\tvalid_0's auc: 0.829882\n",
      "[3]\tvalid_0's auc: 0.827851\n",
      "[4]\tvalid_0's auc: 0.830013\n",
      "[5]\tvalid_0's auc: 0.826999\n",
      "[6]\tvalid_0's auc: 0.826671\n",
      "[7]\tvalid_0's auc: 0.832176\n",
      "[8]\tvalid_0's auc: 0.832765\n",
      "[9]\tvalid_0's auc: 0.833421\n",
      "[10]\tvalid_0's auc: 0.829751\n",
      "[11]\tvalid_0's auc: 0.829423\n",
      "[12]\tvalid_0's auc: 0.827785\n",
      "[13]\tvalid_0's auc: 0.830144\n",
      "[14]\tvalid_0's auc: 0.82962\n",
      "[15]\tvalid_0's auc: 0.829161\n",
      "[16]\tvalid_0's auc: 0.828506\n",
      "[17]\tvalid_0's auc: 0.824705\n",
      "[18]\tvalid_0's auc: 0.824312\n",
      "[19]\tvalid_0's auc: 0.82772\n",
      "[20]\tvalid_0's auc: 0.830079\n",
      "[21]\tvalid_0's auc: 0.826868\n",
      "[22]\tvalid_0's auc: 0.830144\n",
      "[23]\tvalid_0's auc: 0.828702\n",
      "[24]\tvalid_0's auc: 0.826474\n",
      "[25]\tvalid_0's auc: 0.828834\n",
      "[26]\tvalid_0's auc: 0.830537\n",
      "[27]\tvalid_0's auc: 0.827654\n",
      "[28]\tvalid_0's auc: 0.831455\n",
      "[29]\tvalid_0's auc: 0.834862\n",
      "[30]\tvalid_0's auc: 0.835714\n",
      "[31]\tvalid_0's auc: 0.837025\n",
      "[32]\tvalid_0's auc: 0.836894\n",
      "[33]\tvalid_0's auc: 0.84017\n",
      "[34]\tvalid_0's auc: 0.84135\n",
      "[35]\tvalid_0's auc: 0.841219\n",
      "[36]\tvalid_0's auc: 0.840695\n",
      "[37]\tvalid_0's auc: 0.839253\n",
      "[38]\tvalid_0's auc: 0.84017\n",
      "[39]\tvalid_0's auc: 0.84135\n",
      "[40]\tvalid_0's auc: 0.841284\n",
      "[41]\tvalid_0's auc: 0.839187\n",
      "[42]\tvalid_0's auc: 0.83827\n",
      "[43]\tvalid_0's auc: 0.838532\n",
      "[44]\tvalid_0's auc: 0.838663\n",
      "[45]\tvalid_0's auc: 0.839974\n",
      "[46]\tvalid_0's auc: 0.839318\n",
      "[47]\tvalid_0's auc: 0.841022\n",
      "[48]\tvalid_0's auc: 0.839843\n",
      "[49]\tvalid_0's auc: 0.839318\n",
      "[50]\tvalid_0's auc: 0.840105\n",
      "[51]\tvalid_0's auc: 0.838794\n",
      "[52]\tvalid_0's auc: 0.837746\n",
      "[53]\tvalid_0's auc: 0.835518\n",
      "[54]\tvalid_0's auc: 0.834731\n",
      "[55]\tvalid_0's auc: 0.834469\n",
      "[56]\tvalid_0's auc: 0.836435\n",
      "[57]\tvalid_0's auc: 0.836697\n",
      "[58]\tvalid_0's auc: 0.835911\n",
      "[59]\tvalid_0's auc: 0.836828\n",
      "[60]\tvalid_0's auc: 0.839187\n",
      "[61]\tvalid_0's auc: 0.837746\n",
      "[62]\tvalid_0's auc: 0.837877\n",
      "[63]\tvalid_0's auc: 0.838794\n",
      "[64]\tvalid_0's auc: 0.837615\n",
      "[65]\tvalid_0's auc: 0.838663\n",
      "[66]\tvalid_0's auc: 0.837484\n",
      "[67]\tvalid_0's auc: 0.839318\n",
      "[68]\tvalid_0's auc: 0.839318\n",
      "[69]\tvalid_0's auc: 0.838925\n",
      "[70]\tvalid_0's auc: 0.839974\n",
      "[71]\tvalid_0's auc: 0.837484\n",
      "[72]\tvalid_0's auc: 0.83945\n",
      "[73]\tvalid_0's auc: 0.83945\n",
      "[74]\tvalid_0's auc: 0.839581\n",
      "[75]\tvalid_0's auc: 0.839712\n",
      "[76]\tvalid_0's auc: 0.840236\n",
      "[77]\tvalid_0's auc: 0.83945\n",
      "[78]\tvalid_0's auc: 0.840629\n",
      "[79]\tvalid_0's auc: 0.839581\n",
      "[80]\tvalid_0's auc: 0.840629\n",
      "[81]\tvalid_0's auc: 0.840367\n",
      "[82]\tvalid_0's auc: 0.842464\n",
      "[83]\tvalid_0's auc: 0.842988\n",
      "[84]\tvalid_0's auc: 0.841678\n",
      "[85]\tvalid_0's auc: 0.84194\n",
      "[86]\tvalid_0's auc: 0.840498\n",
      "[87]\tvalid_0's auc: 0.839843\n",
      "[88]\tvalid_0's auc: 0.840498\n",
      "[89]\tvalid_0's auc: 0.840367\n",
      "[90]\tvalid_0's auc: 0.841547\n",
      "[91]\tvalid_0's auc: 0.838925\n",
      "[92]\tvalid_0's auc: 0.839646\n",
      "[93]\tvalid_0's auc: 0.839646\n",
      "[94]\tvalid_0's auc: 0.839777\n",
      "[95]\tvalid_0's auc: 0.839515\n",
      "[96]\tvalid_0's auc: 0.840301\n",
      "[97]\tvalid_0's auc: 0.840433\n",
      "[98]\tvalid_0's auc: 0.840564\n",
      "[99]\tvalid_0's auc: 0.84017\n",
      "[100]\tvalid_0's auc: 0.840564\n",
      "CPU times: user 469 ms, sys: 812 ms, total: 1.28 s\n",
      "Wall time: 591 ms\n"
     ]
    }
   ],
   "source": [
    "%%time\n",
    "# train model\n",
    "model = lgb.train(lgbm_params, lgb_train, valid_sets=lgb_eval)"
   ]
  },
  {
   "cell_type": "code",
   "execution_count": 104,
   "metadata": {
    "collapsed": true
   },
   "outputs": [],
   "source": [
    "# predict X_test data\n",
    "y_pred = model.predict(X_test, num_iteration=model.best_iteration)"
   ]
  },
  {
   "cell_type": "code",
   "execution_count": 105,
   "metadata": {
    "collapsed": true
   },
   "outputs": [],
   "source": [
    "from sklearn.metrics import roc_curve\n",
    "\n",
    "# AUC (Area Under the Curve)\n",
    "fpr, tpr, thresholds = roc_curve(y_test, y_pred)"
   ]
  },
  {
   "cell_type": "code",
   "execution_count": 106,
   "metadata": {},
   "outputs": [
    {
     "data": {
      "text/plain": [
       "array([0.        , 0.        , 0.        , 0.00917431, 0.00917431,\n",
       "       0.00917431, 0.00917431, 0.01834862, 0.01834862, 0.02752294,\n",
       "       0.02752294, 0.03669725, 0.03669725, 0.04587156, 0.04587156,\n",
       "       0.05504587, 0.05504587, 0.0733945 , 0.0733945 , 0.09174312,\n",
       "       0.09174312, 0.11926606, 0.11926606, 0.14678899, 0.14678899,\n",
       "       0.20183486, 0.20183486, 0.2293578 , 0.2293578 , 0.23853211,\n",
       "       0.23853211, 0.24770642, 0.24770642, 0.30275229, 0.30275229,\n",
       "       0.40366972, 0.42201835, 0.49541284, 0.49541284, 0.52293578,\n",
       "       0.55045872, 0.65137615, 0.65137615, 0.69724771, 0.70642202,\n",
       "       0.74311927, 0.7706422 , 0.7706422 , 0.77981651, 0.79816514,\n",
       "       0.81651376, 0.83486239, 0.83486239, 0.85321101, 0.85321101,\n",
       "       0.88073394, 0.88073394, 0.89908257, 0.89908257, 0.9266055 ,\n",
       "       0.94495413, 0.97247706, 0.97247706, 1.        ])"
      ]
     },
     "execution_count": 106,
     "metadata": {},
     "output_type": "execute_result"
    }
   ],
   "source": [
    "fpr"
   ]
  },
  {
   "cell_type": "code",
   "execution_count": 107,
   "metadata": {},
   "outputs": [
    {
     "data": {
      "text/plain": [
       "array([0.        , 0.01428571, 0.05714286, 0.05714286, 0.15714286,\n",
       "       0.18571429, 0.35714286, 0.35714286, 0.38571429, 0.38571429,\n",
       "       0.42857143, 0.42857143, 0.47142857, 0.47142857, 0.65714286,\n",
       "       0.65714286, 0.67142857, 0.67142857, 0.68571429, 0.68571429,\n",
       "       0.72857143, 0.72857143, 0.74285714, 0.74285714, 0.75714286,\n",
       "       0.75714286, 0.78571429, 0.78571429, 0.8       , 0.8       ,\n",
       "       0.81428571, 0.81428571, 0.82857143, 0.82857143, 0.84285714,\n",
       "       0.84285714, 0.84285714, 0.84285714, 0.88571429, 0.88571429,\n",
       "       0.88571429, 0.88571429, 0.9       , 0.9       , 0.91428571,\n",
       "       0.91428571, 0.91428571, 0.92857143, 0.92857143, 0.92857143,\n",
       "       0.92857143, 0.92857143, 0.94285714, 0.94285714, 0.95714286,\n",
       "       0.95714286, 0.97142857, 0.97142857, 0.98571429, 0.98571429,\n",
       "       0.98571429, 0.98571429, 1.        , 1.        ])"
      ]
     },
     "execution_count": 107,
     "metadata": {},
     "output_type": "execute_result"
    }
   ],
   "source": [
    "tpr"
   ]
  },
  {
   "cell_type": "code",
   "execution_count": 108,
   "metadata": {},
   "outputs": [
    {
     "data": {
      "text/plain": [
       "array([1.99943121e+00, 9.99431206e-01, 9.98478791e-01, 9.97311050e-01,\n",
       "       9.93613773e-01, 9.92881586e-01, 9.84422317e-01, 9.84073719e-01,\n",
       "       9.79172115e-01, 9.78540840e-01, 9.64436553e-01, 9.60588113e-01,\n",
       "       9.23992958e-01, 9.17371171e-01, 7.50037141e-01, 7.33375585e-01,\n",
       "       7.16695508e-01, 6.59710121e-01, 6.42022315e-01, 5.72607613e-01,\n",
       "       4.93698931e-01, 4.81974381e-01, 4.69583395e-01, 4.49419427e-01,\n",
       "       4.47750930e-01, 3.56789326e-01, 3.35150742e-01, 2.79238385e-01,\n",
       "       2.76088713e-01, 2.75503816e-01, 2.59746582e-01, 2.52003973e-01,\n",
       "       2.40369031e-01, 1.82053151e-01, 1.72978109e-01, 1.28736995e-01,\n",
       "       1.19669382e-01, 9.52344957e-02, 8.77714396e-02, 7.40842395e-02,\n",
       "       6.85216581e-02, 3.61659389e-02, 3.51097469e-02, 3.00599867e-02,\n",
       "       2.95029382e-02, 2.37300501e-02, 2.02119796e-02, 2.01115008e-02,\n",
       "       1.99149544e-02, 1.96709403e-02, 1.89547952e-02, 1.86495787e-02,\n",
       "       1.81351871e-02, 1.25376227e-02, 1.21131975e-02, 1.18834393e-02,\n",
       "       1.08275112e-02, 1.04507604e-02, 7.16554097e-03, 5.04303929e-03,\n",
       "       3.20842654e-03, 2.67381823e-03, 9.39171889e-04, 4.15842638e-04])"
      ]
     },
     "execution_count": 108,
     "metadata": {},
     "output_type": "execute_result"
    }
   ],
   "source": [
    "thresholds"
   ]
  },
  {
   "cell_type": "code",
   "execution_count": 109,
   "metadata": {},
   "outputs": [
    {
     "data": {
      "text/plain": [
       "0.8405635648754913"
      ]
     },
     "execution_count": 109,
     "metadata": {},
     "output_type": "execute_result"
    }
   ],
   "source": [
    "from sklearn.metrics import auc\n",
    "\n",
    "auc(fpr, tpr)"
   ]
  },
  {
   "cell_type": "code",
   "execution_count": 110,
   "metadata": {},
   "outputs": [],
   "source": [
    "y_test_pred = model.predict(data_test, num_iteration=model.best_iteration)"
   ]
  },
  {
   "cell_type": "code",
   "execution_count": 111,
   "metadata": {},
   "outputs": [
    {
     "data": {
      "text/plain": [
       "array([0, 0, 0, 0, 0, 0, 0, 0, 1, 0, 0, 0, 1, 0, 1, 1, 0, 0, 1, 0, 0, 0,\n",
       "       1, 1, 1, 0, 1, 0, 1, 0, 0, 0, 0, 0, 0, 0, 0, 0, 0, 1, 0, 0, 0, 1,\n",
       "       1, 0, 0, 0, 1, 0, 0, 0, 1, 1, 0, 0, 0, 0, 0, 1, 0, 0, 0, 1, 1, 1,\n",
       "       1, 0, 1, 1, 1, 0, 1, 0, 1, 1, 0, 1, 0, 1, 1, 0, 0, 0, 0, 0, 1, 1,\n",
       "       1, 1, 0, 0, 1, 0, 1, 0, 1, 0, 1, 0, 1, 0, 0, 0, 1, 0, 0, 0, 0, 0,\n",
       "       0, 1, 1, 1, 1, 0, 0, 1, 1, 1, 1, 0, 1, 0, 0, 0, 0, 0, 0, 0, 0, 0,\n",
       "       0, 0, 0, 0, 1, 0, 0, 0, 0, 1, 0, 0, 1, 0, 0, 0, 0, 0, 1, 0, 0, 0,\n",
       "       0, 0, 1, 0, 1, 1, 1, 1, 1, 0, 0, 0, 0, 0, 1, 0, 0, 1, 0, 0, 0, 1,\n",
       "       1, 0, 1, 1, 0, 1, 1, 0, 1, 0, 1, 1, 0, 0, 0, 0, 1, 0, 1, 0, 1, 0,\n",
       "       0, 0, 1, 1, 0, 1, 0, 0, 0, 0, 1, 0, 1, 0, 0, 1, 0, 0, 1, 0, 1, 0,\n",
       "       1, 0, 1, 0, 1, 0, 0, 1, 0, 0, 0, 1, 0, 0, 1, 0, 1, 0, 1, 1, 1, 1,\n",
       "       0, 0, 0, 0, 1, 0, 1, 0, 1, 0, 0, 0, 0, 0, 0, 0, 1, 0, 0, 0, 1, 1,\n",
       "       0, 0, 0, 0, 0, 0, 0, 0, 1, 1, 0, 1, 0, 0, 0, 0, 0, 1, 1, 0, 1, 0,\n",
       "       0, 0, 0, 0, 0, 0, 0, 0, 0, 0, 1, 0, 0, 0, 0, 0, 0, 0, 1, 1, 0, 1,\n",
       "       0, 0, 0, 0, 0, 0, 1, 1, 0, 0, 0, 0, 0, 1, 0, 1, 1, 0, 1, 0, 0, 0,\n",
       "       1, 1, 0, 1, 0, 0, 0, 0, 1, 0, 0, 0, 0, 1, 0, 1, 0, 0, 0, 1, 1, 0,\n",
       "       0, 0, 1, 0, 1, 0, 0, 0, 0, 1, 1, 0, 1, 0, 0, 0, 1, 0, 0, 1, 0, 0,\n",
       "       1, 1, 0, 0, 0, 0, 0, 0, 0, 1, 0, 1, 0, 0, 0, 0, 0, 1, 1, 0, 0, 1,\n",
       "       0, 1, 0, 0, 1, 0, 1, 0, 0, 0, 0, 0, 1, 1, 1, 1, 0, 0, 1, 0, 0, 0])"
      ]
     },
     "execution_count": 111,
     "metadata": {},
     "output_type": "execute_result"
    }
   ],
   "source": [
    "preds = np.round(y_test_pred).astype(int)\n",
    "preds"
   ]
  },
  {
   "cell_type": "code",
   "execution_count": 113,
   "metadata": {},
   "outputs": [],
   "source": [
    "res = pd.DataFrame({'PassengerId': ID, 'Survived': preds})\n",
    "res.to_csv(\"LightGBM-submit.csv\", index=False)"
   ]
  },
  {
   "cell_type": "code",
   "execution_count": 114,
   "metadata": {},
   "outputs": [
    {
     "data": {
      "image/png": "[encoded data removed]",
      "text/plain": [
       "<Figure size 864x432 with 1 Axes>"
      ]
     },
     "metadata": {
      "image/png": {
       "height": 386,
       "width": 757
      },
      "needs_background": "light"
     },
     "output_type": "display_data"
    }
   ],
   "source": [
    "# Plot Feature Importance\n",
    "lgb.plot_importance(model, figsize=(12, 6))\n",
    "plt.show()"
   ]
  },
  {
   "cell_type": "code",
   "execution_count": 115,
   "metadata": {
    "collapsed": true
   },
   "outputs": [],
   "source": [
    "from xgboost import XGBClassifier\n",
    "xgbc = XGBClassifier()\n",
    "\n",
    "xgbc.fit(X, y)\n",
    "y_pred = xgbc.predict(data_test)"
   ]
  },
  {
   "cell_type": "code",
   "execution_count": 118,
   "metadata": {},
   "outputs": [],
   "source": [
    "res = pd.DataFrame({\n",
    "    'PassengerId': ID,\n",
    "    'Survived': y_pred\n",
    "})\n",
    "res.to_csv(\"xgbc.csv\", index=False)"
   ]
  },
  {
   "cell_type": "code",
   "execution_count": null,
   "metadata": {
    "collapsed": true
   },
   "outputs": [],
   "source": []
  }
 ],
 "metadata": {
  "kernelspec": {
   "display_name": "Python 3",
   "language": "python",
   "name": "python3"
  },
  "language_info": {
   "codemirror_mode": {
    "name": "ipython",
    "version": 3
   },
   "file_extension": ".py",
   "mimetype": "text/x-python",
   "name": "python",
   "nbconvert_exporter": "python",
   "pygments_lexer": "ipython3",
   "version": "3.6.1"
  },
  "toc": {
   "nav_menu": {},
   "number_sections": true,
   "sideBar": true,
   "skip_h1_title": false,
   "toc_cell": false,
   "toc_position": {},
   "toc_section_display": "block",
   "toc_window_display": false
  }
 },
 "nbformat": 4,
 "nbformat_minor": 2
}
