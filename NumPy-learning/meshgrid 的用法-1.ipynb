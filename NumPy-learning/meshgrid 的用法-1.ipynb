{
 "cells": [
  {
   "cell_type": "markdown",
   "metadata": {},
   "source": [
    "# np.meshgrid"
   ]
  },
  {
   "cell_type": "code",
   "execution_count": null,
   "metadata": {
    "collapsed": true
   },
   "outputs": [],
   "source": [
    "from sklearn.preprocessing import LabelEncoder"
   ]
  },
  {
   "cell_type": "markdown",
   "metadata": {},
   "source": [
    "## 快速回忆 np.meshgrid 函数"
   ]
  },
  {
   "cell_type": "code",
   "execution_count": 10,
   "metadata": {},
   "outputs": [],
   "source": [
    "import numpy as np\n",
    "\n",
    "n = np.arange(1, 9, 2)\n",
    "m = np.arange(10, 30, 3)"
   ]
  },
  {
   "cell_type": "code",
   "execution_count": 11,
   "metadata": {},
   "outputs": [
    {
     "name": "stdout",
     "output_type": "stream",
     "text": [
      "[1 3 5 7]\n",
      "[10 13 16 19 22 25 28]\n"
     ]
    }
   ],
   "source": [
    "print(n)\n",
    "print(m)"
   ]
  },
  {
   "cell_type": "code",
   "execution_count": 12,
   "metadata": {},
   "outputs": [
    {
     "name": "stdout",
     "output_type": "stream",
     "text": [
      "(7, 4)\n",
      "(7, 4)\n"
     ]
    }
   ],
   "source": [
    "x1, x2 = np.meshgrid(n, m)\n",
    "print(x1.shape)\n",
    "print(x2.shape)"
   ]
  },
  {
   "cell_type": "code",
   "execution_count": 13,
   "metadata": {},
   "outputs": [
    {
     "name": "stdout",
     "output_type": "stream",
     "text": [
      "[[1 3 5 7]\n",
      " [1 3 5 7]\n",
      " [1 3 5 7]\n",
      " [1 3 5 7]\n",
      " [1 3 5 7]\n",
      " [1 3 5 7]\n",
      " [1 3 5 7]]\n"
     ]
    }
   ],
   "source": [
    "print(x1)"
   ]
  },
  {
   "cell_type": "code",
   "execution_count": 14,
   "metadata": {},
   "outputs": [
    {
     "name": "stdout",
     "output_type": "stream",
     "text": [
      "[[10 10 10 10]\n",
      " [13 13 13 13]\n",
      " [16 16 16 16]\n",
      " [19 19 19 19]\n",
      " [22 22 22 22]\n",
      " [25 25 25 25]\n",
      " [28 28 28 28]]\n"
     ]
    }
   ],
   "source": [
    "print(x2)"
   ]
  },
  {
   "cell_type": "code",
   "execution_count": 15,
   "metadata": {},
   "outputs": [
    {
     "name": "stdout",
     "output_type": "stream",
     "text": [
      "[1, 3, 5, 7, 1, 3, 5, 7, 1, 3, 5, 7, 1, 3, 5, 7, 1, 3, 5, 7, 1, 3, 5, 7, 1, 3, 5, 7]\n",
      "[10, 10, 10, 10, 13, 13, 13, 13, 16, 16, 16, 16, 19, 19, 19, 19, 22, 22, 22, 22, 25, 25, 25, 25, 28, 28, 28, 28]\n"
     ]
    }
   ],
   "source": [
    "print(list(x1.flat))\n",
    "print(list(x2.flat))"
   ]
  },
  {
   "cell_type": "code",
   "execution_count": 17,
   "metadata": {},
   "outputs": [
    {
     "data": {
      "text/plain": [
       "array([[ 1, 10],\n",
       "       [ 3, 10],\n",
       "       [ 5, 10],\n",
       "       [ 7, 10],\n",
       "       [ 1, 13],\n",
       "       [ 3, 13],\n",
       "       [ 5, 13],\n",
       "       [ 7, 13],\n",
       "       [ 1, 16],\n",
       "       [ 3, 16],\n",
       "       [ 5, 16],\n",
       "       [ 7, 16],\n",
       "       [ 1, 19],\n",
       "       [ 3, 19],\n",
       "       [ 5, 19],\n",
       "       [ 7, 19],\n",
       "       [ 1, 22],\n",
       "       [ 3, 22],\n",
       "       [ 5, 22],\n",
       "       [ 7, 22],\n",
       "       [ 1, 25],\n",
       "       [ 3, 25],\n",
       "       [ 5, 25],\n",
       "       [ 7, 25],\n",
       "       [ 1, 28],\n",
       "       [ 3, 28],\n",
       "       [ 5, 28],\n",
       "       [ 7, 28]])"
      ]
     },
     "execution_count": 17,
     "metadata": {},
     "output_type": "execute_result"
    }
   ],
   "source": [
    "np.stack((x1.flat, x2.flat), axis=1)"
   ]
  },
  {
   "cell_type": "code",
   "execution_count": 20,
   "metadata": {},
   "outputs": [
    {
     "data": {
      "text/plain": [
       "array([[ 1,  3,  5,  7,  1,  3,  5,  7,  1,  3,  5,  7,  1,  3,  5,  7,\n",
       "         1,  3,  5,  7,  1,  3,  5,  7,  1,  3,  5,  7],\n",
       "       [10, 10, 10, 10, 13, 13, 13, 13, 16, 16, 16, 16, 19, 19, 19, 19,\n",
       "        22, 22, 22, 22, 25, 25, 25, 25, 28, 28, 28, 28]])"
      ]
     },
     "execution_count": 20,
     "metadata": {},
     "output_type": "execute_result"
    }
   ],
   "source": [
    "np.stack((x1.flat, x2.flat), axis=0)"
   ]
  },
  {
   "cell_type": "code",
   "execution_count": null,
   "metadata": {
    "collapsed": true
   },
   "outputs": [],
   "source": []
  },
  {
   "cell_type": "code",
   "execution_count": 14,
   "metadata": {
    "collapsed": true
   },
   "outputs": [],
   "source": [
    "x = np.arange(5)\n",
    "y = np.arange(3)\n",
    "X, Y = np.meshgrid(x, y)"
   ]
  },
  {
   "cell_type": "code",
   "execution_count": 15,
   "metadata": {},
   "outputs": [
    {
     "data": {
      "text/plain": [
       "array([[0, 1, 2, 3, 4],\n",
       "       [0, 1, 2, 3, 4],\n",
       "       [0, 1, 2, 3, 4]])"
      ]
     },
     "execution_count": 15,
     "metadata": {},
     "output_type": "execute_result"
    }
   ],
   "source": [
    "X"
   ]
  },
  {
   "cell_type": "code",
   "execution_count": 16,
   "metadata": {},
   "outputs": [
    {
     "data": {
      "text/plain": [
       "array([[0, 0, 0, 0, 0],\n",
       "       [1, 1, 1, 1, 1],\n",
       "       [2, 2, 2, 2, 2]])"
      ]
     },
     "execution_count": 16,
     "metadata": {},
     "output_type": "execute_result"
    }
   ],
   "source": [
    "Y"
   ]
  },
  {
   "cell_type": "code",
   "execution_count": 19,
   "metadata": {
    "collapsed": true
   },
   "outputs": [],
   "source": [
    "C = np.random.rand(len(x), len(y))"
   ]
  },
  {
   "cell_type": "code",
   "execution_count": 20,
   "metadata": {},
   "outputs": [
    {
     "data": {
      "text/plain": [
       "array([[ 0.22683315,  0.44976653,  0.76613503],\n",
       "       [ 0.92843123,  0.67552911,  0.94880275],\n",
       "       [ 0.94386289,  0.79604476,  0.1325085 ],\n",
       "       [ 0.15155947,  0.50119664,  0.38004219],\n",
       "       [ 0.87193685,  0.74342307,  0.16992743]])"
      ]
     },
     "execution_count": 20,
     "metadata": {},
     "output_type": "execute_result"
    }
   ],
   "source": [
    "C"
   ]
  },
  {
   "cell_type": "code",
   "execution_count": 21,
   "metadata": {},
   "outputs": [
    {
     "data": {
      "text/plain": [
       "array([[ 0.22683315,  0.92843123,  0.94386289,  0.15155947,  0.87193685],\n",
       "       [ 0.44976653,  0.67552911,  0.79604476,  0.50119664,  0.74342307],\n",
       "       [ 0.76613503,  0.94880275,  0.1325085 ,  0.38004219,  0.16992743]])"
      ]
     },
     "execution_count": 21,
     "metadata": {},
     "output_type": "execute_result"
    }
   ],
   "source": [
    "C.T"
   ]
  },
  {
   "cell_type": "code",
   "execution_count": 25,
   "metadata": {},
   "outputs": [
    {
     "data": {
      "image/png": "[encoded data removed]",
      "text/plain": [
       "<matplotlib.figure.Figure at 0x10b8137f0>"
      ]
     },
     "metadata": {
      "image/png": {
       "height": 251,
       "width": 382
      }
     },
     "output_type": "display_data"
    }
   ],
   "source": [
    "import matplotlib.pyplot as plt\n",
    "plt.pcolor(X, Y, C.T)\n",
    "plt.show()"
   ]
  },
  {
   "cell_type": "code",
   "execution_count": 27,
   "metadata": {},
   "outputs": [
    {
     "data": {
      "text/plain": [
       "<matplotlib.collections.PolyCollection at 0x10befe1d0>"
      ]
     },
     "execution_count": 27,
     "metadata": {},
     "output_type": "execute_result"
    },
    {
     "data": {
      "image/png": "[encoded data removed]",
      "text/plain": [
       "<matplotlib.figure.Figure at 0x10b8ceac8>"
      ]
     },
     "metadata": {
      "image/png": {
       "height": 251,
       "width": 372
      }
     },
     "output_type": "display_data"
    }
   ],
   "source": [
    "plt.pcolor(C.T)"
   ]
  },
  {
   "cell_type": "code",
   "execution_count": 28,
   "metadata": {},
   "outputs": [
    {
     "data": {
      "text/plain": [
       "<matplotlib.collections.PolyCollection at 0x10bf62978>"
      ]
     },
     "execution_count": 28,
     "metadata": {},
     "output_type": "execute_result"
    },
    {
     "data": {
      "image/png": "[encoded data removed]",
      "text/plain": [
       "<matplotlib.figure.Figure at 0x10bb3b358>"
      ]
     },
     "metadata": {
      "image/png": {
       "height": 251,
       "width": 368
      }
     },
     "output_type": "display_data"
    }
   ],
   "source": [
    "plt.pcolor(C)"
   ]
  },
  {
   "cell_type": "code",
   "execution_count": null,
   "metadata": {
    "collapsed": true
   },
   "outputs": [],
   "source": []
  }
 ],
 "metadata": {
  "kernelspec": {
   "display_name": "Python 3",
   "language": "python",
   "name": "python3"
  },
  "language_info": {
   "codemirror_mode": {
    "name": "ipython",
    "version": 3
   },
   "file_extension": ".py",
   "mimetype": "text/x-python",
   "name": "python",
   "nbconvert_exporter": "python",
   "pygments_lexer": "ipython3",
   "version": "3.6.1"
  }
 },
 "nbformat": 4,
 "nbformat_minor": 2
}
