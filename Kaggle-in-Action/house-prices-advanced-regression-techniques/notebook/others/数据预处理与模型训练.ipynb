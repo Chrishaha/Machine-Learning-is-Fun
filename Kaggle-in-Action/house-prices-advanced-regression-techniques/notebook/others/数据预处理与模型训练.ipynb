{
 "cells": [
  {
   "cell_type": "markdown",
   "metadata": {},
   "source": [
    "# 数据预处理"
   ]
  },
  {
   "cell_type": "code",
   "execution_count": 1,
   "metadata": {
    "collapsed": true
   },
   "outputs": [],
   "source": [
    "import numpy as np\n",
    "import pandas as pd"
   ]
  },
  {
   "cell_type": "code",
   "execution_count": 2,
   "metadata": {
    "collapsed": true
   },
   "outputs": [],
   "source": [
    "df_train = pd.read_csv('../input/train.csv', index_col=0)\n",
    "df_test = pd.read_csv('../input/test.csv', index_col=0)"
   ]
  },
  {
   "cell_type": "markdown",
   "metadata": {},
   "source": [
    "## 目标变量对数化"
   ]
  },
  {
   "cell_type": "code",
   "execution_count": 3,
   "metadata": {
    "collapsed": true
   },
   "outputs": [],
   "source": [
    "y_train = np.log1p(df_train['SalePrice'])\n",
    "# train_df.drop(['SalePrice'], axis=1, inplace=True)\n",
    "del df_train['SalePrice']"
   ]
  },
  {
   "cell_type": "markdown",
   "metadata": {},
   "source": [
    "## 训练数据和测试数据合并，一起处理\n",
    "\n",
    "注意：这是因为 Kaggle 问题的特殊性，测试数据集已知才可以这么做。\n",
    "\n",
    "一般情况下，应该分开处理，因为测试数据集很可能是随时来的，不是固定好的。"
   ]
  },
  {
   "cell_type": "code",
   "execution_count": 4,
   "metadata": {},
   "outputs": [
    {
     "data": {
      "text/plain": [
       "(2919, 79)"
      ]
     },
     "execution_count": 4,
     "metadata": {},
     "output_type": "execute_result"
    }
   ],
   "source": [
    "# axis=0 表示按行合并\n",
    "all_df = pd.concat([df_train, df_test], axis=0)\n",
    "all_df.shape"
   ]
  },
  {
   "cell_type": "markdown",
   "metadata": {},
   "source": [
    "## 处理 MSSubClass 字段\n",
    "\n",
    "这个字段虽然是数值，但其含义是字符型，所以要做独热编码处理。"
   ]
  },
  {
   "cell_type": "code",
   "execution_count": 5,
   "metadata": {},
   "outputs": [
    {
     "data": {
      "text/plain": [
       "dtype('int64')"
      ]
     },
     "execution_count": 5,
     "metadata": {},
     "output_type": "execute_result"
    }
   ],
   "source": [
    "all_df.MSSubClass.dtypes"
   ]
  },
  {
   "cell_type": "code",
   "execution_count": 6,
   "metadata": {
    "collapsed": true
   },
   "outputs": [],
   "source": [
    "all_df.MSSubClass = all_df.MSSubClass.astype(str)"
   ]
  },
  {
   "cell_type": "markdown",
   "metadata": {},
   "source": [
    "## 将离散型字段全部做独热编码处理"
   ]
  },
  {
   "cell_type": "code",
   "execution_count": 7,
   "metadata": {},
   "outputs": [
    {
     "data": {
      "text/html": [
       "<div>\n",
       "<style scoped>\n",
       "    .dataframe tbody tr th:only-of-type {\n",
       "        vertical-align: middle;\n",
       "    }\n",
       "\n",
       "    .dataframe tbody tr th {\n",
       "        vertical-align: top;\n",
       "    }\n",
       "\n",
       "    .dataframe thead th {\n",
       "        text-align: right;\n",
       "    }\n",
       "</style>\n",
       "<table border=\"1\" class=\"dataframe\">\n",
       "  <thead>\n",
       "    <tr style=\"text-align: right;\">\n",
       "      <th></th>\n",
       "      <th>LotFrontage</th>\n",
       "      <th>LotArea</th>\n",
       "      <th>OverallQual</th>\n",
       "      <th>OverallCond</th>\n",
       "      <th>YearBuilt</th>\n",
       "      <th>YearRemodAdd</th>\n",
       "      <th>MasVnrArea</th>\n",
       "      <th>BsmtFinSF1</th>\n",
       "      <th>BsmtFinSF2</th>\n",
       "      <th>BsmtUnfSF</th>\n",
       "      <th>...</th>\n",
       "      <th>SaleType_ConLw</th>\n",
       "      <th>SaleType_New</th>\n",
       "      <th>SaleType_Oth</th>\n",
       "      <th>SaleType_WD</th>\n",
       "      <th>SaleCondition_Abnorml</th>\n",
       "      <th>SaleCondition_AdjLand</th>\n",
       "      <th>SaleCondition_Alloca</th>\n",
       "      <th>SaleCondition_Family</th>\n",
       "      <th>SaleCondition_Normal</th>\n",
       "      <th>SaleCondition_Partial</th>\n",
       "    </tr>\n",
       "    <tr>\n",
       "      <th>Id</th>\n",
       "      <th></th>\n",
       "      <th></th>\n",
       "      <th></th>\n",
       "      <th></th>\n",
       "      <th></th>\n",
       "      <th></th>\n",
       "      <th></th>\n",
       "      <th></th>\n",
       "      <th></th>\n",
       "      <th></th>\n",
       "      <th></th>\n",
       "      <th></th>\n",
       "      <th></th>\n",
       "      <th></th>\n",
       "      <th></th>\n",
       "      <th></th>\n",
       "      <th></th>\n",
       "      <th></th>\n",
       "      <th></th>\n",
       "      <th></th>\n",
       "      <th></th>\n",
       "    </tr>\n",
       "  </thead>\n",
       "  <tbody>\n",
       "    <tr>\n",
       "      <th>1</th>\n",
       "      <td>65.0</td>\n",
       "      <td>8450</td>\n",
       "      <td>7</td>\n",
       "      <td>5</td>\n",
       "      <td>2003</td>\n",
       "      <td>2003</td>\n",
       "      <td>196.0</td>\n",
       "      <td>706.0</td>\n",
       "      <td>0.0</td>\n",
       "      <td>150.0</td>\n",
       "      <td>...</td>\n",
       "      <td>0</td>\n",
       "      <td>0</td>\n",
       "      <td>0</td>\n",
       "      <td>1</td>\n",
       "      <td>0</td>\n",
       "      <td>0</td>\n",
       "      <td>0</td>\n",
       "      <td>0</td>\n",
       "      <td>1</td>\n",
       "      <td>0</td>\n",
       "    </tr>\n",
       "    <tr>\n",
       "      <th>2</th>\n",
       "      <td>80.0</td>\n",
       "      <td>9600</td>\n",
       "      <td>6</td>\n",
       "      <td>8</td>\n",
       "      <td>1976</td>\n",
       "      <td>1976</td>\n",
       "      <td>0.0</td>\n",
       "      <td>978.0</td>\n",
       "      <td>0.0</td>\n",
       "      <td>284.0</td>\n",
       "      <td>...</td>\n",
       "      <td>0</td>\n",
       "      <td>0</td>\n",
       "      <td>0</td>\n",
       "      <td>1</td>\n",
       "      <td>0</td>\n",
       "      <td>0</td>\n",
       "      <td>0</td>\n",
       "      <td>0</td>\n",
       "      <td>1</td>\n",
       "      <td>0</td>\n",
       "    </tr>\n",
       "    <tr>\n",
       "      <th>3</th>\n",
       "      <td>68.0</td>\n",
       "      <td>11250</td>\n",
       "      <td>7</td>\n",
       "      <td>5</td>\n",
       "      <td>2001</td>\n",
       "      <td>2002</td>\n",
       "      <td>162.0</td>\n",
       "      <td>486.0</td>\n",
       "      <td>0.0</td>\n",
       "      <td>434.0</td>\n",
       "      <td>...</td>\n",
       "      <td>0</td>\n",
       "      <td>0</td>\n",
       "      <td>0</td>\n",
       "      <td>1</td>\n",
       "      <td>0</td>\n",
       "      <td>0</td>\n",
       "      <td>0</td>\n",
       "      <td>0</td>\n",
       "      <td>1</td>\n",
       "      <td>0</td>\n",
       "    </tr>\n",
       "    <tr>\n",
       "      <th>4</th>\n",
       "      <td>60.0</td>\n",
       "      <td>9550</td>\n",
       "      <td>7</td>\n",
       "      <td>5</td>\n",
       "      <td>1915</td>\n",
       "      <td>1970</td>\n",
       "      <td>0.0</td>\n",
       "      <td>216.0</td>\n",
       "      <td>0.0</td>\n",
       "      <td>540.0</td>\n",
       "      <td>...</td>\n",
       "      <td>0</td>\n",
       "      <td>0</td>\n",
       "      <td>0</td>\n",
       "      <td>1</td>\n",
       "      <td>1</td>\n",
       "      <td>0</td>\n",
       "      <td>0</td>\n",
       "      <td>0</td>\n",
       "      <td>0</td>\n",
       "      <td>0</td>\n",
       "    </tr>\n",
       "    <tr>\n",
       "      <th>5</th>\n",
       "      <td>84.0</td>\n",
       "      <td>14260</td>\n",
       "      <td>8</td>\n",
       "      <td>5</td>\n",
       "      <td>2000</td>\n",
       "      <td>2000</td>\n",
       "      <td>350.0</td>\n",
       "      <td>655.0</td>\n",
       "      <td>0.0</td>\n",
       "      <td>490.0</td>\n",
       "      <td>...</td>\n",
       "      <td>0</td>\n",
       "      <td>0</td>\n",
       "      <td>0</td>\n",
       "      <td>1</td>\n",
       "      <td>0</td>\n",
       "      <td>0</td>\n",
       "      <td>0</td>\n",
       "      <td>0</td>\n",
       "      <td>1</td>\n",
       "      <td>0</td>\n",
       "    </tr>\n",
       "  </tbody>\n",
       "</table>\n",
       "<p>5 rows × 303 columns</p>\n",
       "</div>"
      ],
      "text/plain": [
       "    LotFrontage  LotArea  OverallQual  OverallCond  YearBuilt  YearRemodAdd  \\\n",
       "Id                                                                            \n",
       "1          65.0     8450            7            5       2003          2003   \n",
       "2          80.0     9600            6            8       1976          1976   \n",
       "3          68.0    11250            7            5       2001          2002   \n",
       "4          60.0     9550            7            5       1915          1970   \n",
       "5          84.0    14260            8            5       2000          2000   \n",
       "\n",
       "    MasVnrArea  BsmtFinSF1  BsmtFinSF2  BsmtUnfSF          ...            \\\n",
       "Id                                                         ...             \n",
       "1        196.0       706.0         0.0      150.0          ...             \n",
       "2          0.0       978.0         0.0      284.0          ...             \n",
       "3        162.0       486.0         0.0      434.0          ...             \n",
       "4          0.0       216.0         0.0      540.0          ...             \n",
       "5        350.0       655.0         0.0      490.0          ...             \n",
       "\n",
       "    SaleType_ConLw  SaleType_New  SaleType_Oth  SaleType_WD  \\\n",
       "Id                                                            \n",
       "1                0             0             0            1   \n",
       "2                0             0             0            1   \n",
       "3                0             0             0            1   \n",
       "4                0             0             0            1   \n",
       "5                0             0             0            1   \n",
       "\n",
       "    SaleCondition_Abnorml  SaleCondition_AdjLand  SaleCondition_Alloca  \\\n",
       "Id                                                                       \n",
       "1                       0                      0                     0   \n",
       "2                       0                      0                     0   \n",
       "3                       0                      0                     0   \n",
       "4                       1                      0                     0   \n",
       "5                       0                      0                     0   \n",
       "\n",
       "    SaleCondition_Family  SaleCondition_Normal  SaleCondition_Partial  \n",
       "Id                                                                     \n",
       "1                      0                     1                      0  \n",
       "2                      0                     1                      0  \n",
       "3                      0                     1                      0  \n",
       "4                      0                     0                      0  \n",
       "5                      0                     1                      0  \n",
       "\n",
       "[5 rows x 303 columns]"
      ]
     },
     "execution_count": 7,
     "metadata": {},
     "output_type": "execute_result"
    }
   ],
   "source": [
    "all_dummy_df = pd.get_dummies(all_df)\n",
    "all_dummy_df.head()"
   ]
  },
  {
   "cell_type": "markdown",
   "metadata": {},
   "source": [
    "## 空值填充"
   ]
  },
  {
   "cell_type": "code",
   "execution_count": 16,
   "metadata": {},
   "outputs": [
    {
     "data": {
      "text/plain": [
       "LotFrontage     486\n",
       "GarageYrBlt     159\n",
       "MasVnrArea       23\n",
       "BsmtHalfBath      2\n",
       "BsmtFullBath      2\n",
       "GarageArea        1\n",
       "GarageCars        1\n",
       "TotalBsmtSF       1\n",
       "BsmtUnfSF         1\n",
       "BsmtFinSF2        1\n",
       "BsmtFinSF1        1\n",
       "dtype: int64"
      ]
     },
     "execution_count": 16,
     "metadata": {},
     "output_type": "execute_result"
    }
   ],
   "source": [
    "# 统计空值数量\n",
    "all_dummy_df.isnull().sum()[all_dummy_df.isnull().sum() != 0].sort_values(\n",
    "    ascending=False)"
   ]
  },
  {
   "cell_type": "markdown",
   "metadata": {},
   "source": [
    "### 使用每一列的均值填补空值"
   ]
  },
  {
   "cell_type": "code",
   "execution_count": 17,
   "metadata": {},
   "outputs": [
    {
     "data": {
      "text/plain": [
       "LotFrontage       69.305795\n",
       "LotArea        10168.114080\n",
       "OverallQual        6.089072\n",
       "OverallCond        5.564577\n",
       "YearBuilt       1971.312778\n",
       "dtype: float64"
      ]
     },
     "execution_count": 17,
     "metadata": {},
     "output_type": "execute_result"
    }
   ],
   "source": [
    "mean_cols = all_dummy_df.mean()"
   ]
  },
  {
   "cell_type": "markdown",
   "metadata": {},
   "source": [
    "使用 Pandas 的 fillna 方法。感觉上更简单一些，返回的是 DataFrame 对象，更方便后续处理。"
   ]
  },
  {
   "cell_type": "code",
   "execution_count": 19,
   "metadata": {},
   "outputs": [
    {
     "data": {
      "text/html": [
       "<div>\n",
       "<style scoped>\n",
       "    .dataframe tbody tr th:only-of-type {\n",
       "        vertical-align: middle;\n",
       "    }\n",
       "\n",
       "    .dataframe tbody tr th {\n",
       "        vertical-align: top;\n",
       "    }\n",
       "\n",
       "    .dataframe thead th {\n",
       "        text-align: right;\n",
       "    }\n",
       "</style>\n",
       "<table border=\"1\" class=\"dataframe\">\n",
       "  <thead>\n",
       "    <tr style=\"text-align: right;\">\n",
       "      <th></th>\n",
       "      <th>LotFrontage</th>\n",
       "      <th>LotArea</th>\n",
       "      <th>OverallQual</th>\n",
       "      <th>OverallCond</th>\n",
       "      <th>YearBuilt</th>\n",
       "      <th>YearRemodAdd</th>\n",
       "      <th>MasVnrArea</th>\n",
       "      <th>BsmtFinSF1</th>\n",
       "      <th>BsmtFinSF2</th>\n",
       "      <th>BsmtUnfSF</th>\n",
       "      <th>...</th>\n",
       "      <th>SaleType_ConLw</th>\n",
       "      <th>SaleType_New</th>\n",
       "      <th>SaleType_Oth</th>\n",
       "      <th>SaleType_WD</th>\n",
       "      <th>SaleCondition_Abnorml</th>\n",
       "      <th>SaleCondition_AdjLand</th>\n",
       "      <th>SaleCondition_Alloca</th>\n",
       "      <th>SaleCondition_Family</th>\n",
       "      <th>SaleCondition_Normal</th>\n",
       "      <th>SaleCondition_Partial</th>\n",
       "    </tr>\n",
       "    <tr>\n",
       "      <th>Id</th>\n",
       "      <th></th>\n",
       "      <th></th>\n",
       "      <th></th>\n",
       "      <th></th>\n",
       "      <th></th>\n",
       "      <th></th>\n",
       "      <th></th>\n",
       "      <th></th>\n",
       "      <th></th>\n",
       "      <th></th>\n",
       "      <th></th>\n",
       "      <th></th>\n",
       "      <th></th>\n",
       "      <th></th>\n",
       "      <th></th>\n",
       "      <th></th>\n",
       "      <th></th>\n",
       "      <th></th>\n",
       "      <th></th>\n",
       "      <th></th>\n",
       "      <th></th>\n",
       "    </tr>\n",
       "  </thead>\n",
       "  <tbody>\n",
       "    <tr>\n",
       "      <th>1</th>\n",
       "      <td>65.0</td>\n",
       "      <td>8450</td>\n",
       "      <td>7</td>\n",
       "      <td>5</td>\n",
       "      <td>2003</td>\n",
       "      <td>2003</td>\n",
       "      <td>196.0</td>\n",
       "      <td>706.0</td>\n",
       "      <td>0.0</td>\n",
       "      <td>150.0</td>\n",
       "      <td>...</td>\n",
       "      <td>0</td>\n",
       "      <td>0</td>\n",
       "      <td>0</td>\n",
       "      <td>1</td>\n",
       "      <td>0</td>\n",
       "      <td>0</td>\n",
       "      <td>0</td>\n",
       "      <td>0</td>\n",
       "      <td>1</td>\n",
       "      <td>0</td>\n",
       "    </tr>\n",
       "    <tr>\n",
       "      <th>2</th>\n",
       "      <td>80.0</td>\n",
       "      <td>9600</td>\n",
       "      <td>6</td>\n",
       "      <td>8</td>\n",
       "      <td>1976</td>\n",
       "      <td>1976</td>\n",
       "      <td>0.0</td>\n",
       "      <td>978.0</td>\n",
       "      <td>0.0</td>\n",
       "      <td>284.0</td>\n",
       "      <td>...</td>\n",
       "      <td>0</td>\n",
       "      <td>0</td>\n",
       "      <td>0</td>\n",
       "      <td>1</td>\n",
       "      <td>0</td>\n",
       "      <td>0</td>\n",
       "      <td>0</td>\n",
       "      <td>0</td>\n",
       "      <td>1</td>\n",
       "      <td>0</td>\n",
       "    </tr>\n",
       "    <tr>\n",
       "      <th>3</th>\n",
       "      <td>68.0</td>\n",
       "      <td>11250</td>\n",
       "      <td>7</td>\n",
       "      <td>5</td>\n",
       "      <td>2001</td>\n",
       "      <td>2002</td>\n",
       "      <td>162.0</td>\n",
       "      <td>486.0</td>\n",
       "      <td>0.0</td>\n",
       "      <td>434.0</td>\n",
       "      <td>...</td>\n",
       "      <td>0</td>\n",
       "      <td>0</td>\n",
       "      <td>0</td>\n",
       "      <td>1</td>\n",
       "      <td>0</td>\n",
       "      <td>0</td>\n",
       "      <td>0</td>\n",
       "      <td>0</td>\n",
       "      <td>1</td>\n",
       "      <td>0</td>\n",
       "    </tr>\n",
       "    <tr>\n",
       "      <th>4</th>\n",
       "      <td>60.0</td>\n",
       "      <td>9550</td>\n",
       "      <td>7</td>\n",
       "      <td>5</td>\n",
       "      <td>1915</td>\n",
       "      <td>1970</td>\n",
       "      <td>0.0</td>\n",
       "      <td>216.0</td>\n",
       "      <td>0.0</td>\n",
       "      <td>540.0</td>\n",
       "      <td>...</td>\n",
       "      <td>0</td>\n",
       "      <td>0</td>\n",
       "      <td>0</td>\n",
       "      <td>1</td>\n",
       "      <td>1</td>\n",
       "      <td>0</td>\n",
       "      <td>0</td>\n",
       "      <td>0</td>\n",
       "      <td>0</td>\n",
       "      <td>0</td>\n",
       "    </tr>\n",
       "    <tr>\n",
       "      <th>5</th>\n",
       "      <td>84.0</td>\n",
       "      <td>14260</td>\n",
       "      <td>8</td>\n",
       "      <td>5</td>\n",
       "      <td>2000</td>\n",
       "      <td>2000</td>\n",
       "      <td>350.0</td>\n",
       "      <td>655.0</td>\n",
       "      <td>0.0</td>\n",
       "      <td>490.0</td>\n",
       "      <td>...</td>\n",
       "      <td>0</td>\n",
       "      <td>0</td>\n",
       "      <td>0</td>\n",
       "      <td>1</td>\n",
       "      <td>0</td>\n",
       "      <td>0</td>\n",
       "      <td>0</td>\n",
       "      <td>0</td>\n",
       "      <td>1</td>\n",
       "      <td>0</td>\n",
       "    </tr>\n",
       "  </tbody>\n",
       "</table>\n",
       "<p>5 rows × 303 columns</p>\n",
       "</div>"
      ],
      "text/plain": [
       "    LotFrontage  LotArea  OverallQual  OverallCond  YearBuilt  YearRemodAdd  \\\n",
       "Id                                                                            \n",
       "1          65.0     8450            7            5       2003          2003   \n",
       "2          80.0     9600            6            8       1976          1976   \n",
       "3          68.0    11250            7            5       2001          2002   \n",
       "4          60.0     9550            7            5       1915          1970   \n",
       "5          84.0    14260            8            5       2000          2000   \n",
       "\n",
       "    MasVnrArea  BsmtFinSF1  BsmtFinSF2  BsmtUnfSF          ...            \\\n",
       "Id                                                         ...             \n",
       "1        196.0       706.0         0.0      150.0          ...             \n",
       "2          0.0       978.0         0.0      284.0          ...             \n",
       "3        162.0       486.0         0.0      434.0          ...             \n",
       "4          0.0       216.0         0.0      540.0          ...             \n",
       "5        350.0       655.0         0.0      490.0          ...             \n",
       "\n",
       "    SaleType_ConLw  SaleType_New  SaleType_Oth  SaleType_WD  \\\n",
       "Id                                                            \n",
       "1                0             0             0            1   \n",
       "2                0             0             0            1   \n",
       "3                0             0             0            1   \n",
       "4                0             0             0            1   \n",
       "5                0             0             0            1   \n",
       "\n",
       "    SaleCondition_Abnorml  SaleCondition_AdjLand  SaleCondition_Alloca  \\\n",
       "Id                                                                       \n",
       "1                       0                      0                     0   \n",
       "2                       0                      0                     0   \n",
       "3                       0                      0                     0   \n",
       "4                       1                      0                     0   \n",
       "5                       0                      0                     0   \n",
       "\n",
       "    SaleCondition_Family  SaleCondition_Normal  SaleCondition_Partial  \n",
       "Id                                                                     \n",
       "1                      0                     1                      0  \n",
       "2                      0                     1                      0  \n",
       "3                      0                     1                      0  \n",
       "4                      0                     0                      0  \n",
       "5                      0                     1                      0  \n",
       "\n",
       "[5 rows x 303 columns]"
      ]
     },
     "execution_count": 19,
     "metadata": {},
     "output_type": "execute_result"
    }
   ],
   "source": [
    "all_dummy_df.fillna(mean_cols, inplace=True)\n",
    "all_dummy_df.head()"
   ]
  },
  {
   "cell_type": "markdown",
   "metadata": {},
   "source": [
    "### 再检查一下是否还有空值"
   ]
  },
  {
   "cell_type": "code",
   "execution_count": 20,
   "metadata": {},
   "outputs": [
    {
     "data": {
      "text/plain": [
       "0"
      ]
     },
     "execution_count": 20,
     "metadata": {},
     "output_type": "execute_result"
    }
   ],
   "source": [
    "all_dummy_df.isnull().sum().sum()"
   ]
  },
  {
   "cell_type": "markdown",
   "metadata": {},
   "source": [
    "## 数值型变量全部做标准化处理\n",
    "\n",
    "即处理成均值为 0，标准差为 1 的情况。"
   ]
  },
  {
   "cell_type": "markdown",
   "metadata": {},
   "source": [
    "### 筛选出数值型变量"
   ]
  },
  {
   "cell_type": "code",
   "execution_count": 21,
   "metadata": {},
   "outputs": [
    {
     "data": {
      "text/plain": [
       "Index(['LotFrontage', 'LotArea', 'OverallQual', 'OverallCond', 'YearBuilt',\n",
       "       'YearRemodAdd', 'MasVnrArea', 'BsmtFinSF1', 'BsmtFinSF2', 'BsmtUnfSF',\n",
       "       'TotalBsmtSF', '1stFlrSF', '2ndFlrSF', 'LowQualFinSF', 'GrLivArea',\n",
       "       'BsmtFullBath', 'BsmtHalfBath', 'FullBath', 'HalfBath', 'BedroomAbvGr',\n",
       "       'KitchenAbvGr', 'TotRmsAbvGrd', 'Fireplaces', 'GarageYrBlt',\n",
       "       'GarageCars', 'GarageArea', 'WoodDeckSF', 'OpenPorchSF',\n",
       "       'EnclosedPorch', '3SsnPorch', 'ScreenPorch', 'PoolArea', 'MiscVal',\n",
       "       'MoSold', 'YrSold'],\n",
       "      dtype='object')"
      ]
     },
     "execution_count": 21,
     "metadata": {},
     "output_type": "execute_result"
    }
   ],
   "source": [
    "numeric_cols = all_df.columns[all_df.dtypes != 'object']\n",
    "numeric_cols"
   ]
  },
  {
   "cell_type": "markdown",
   "metadata": {},
   "source": [
    "### 数值型变量标准化"
   ]
  },
  {
   "cell_type": "code",
   "execution_count": 26,
   "metadata": {
    "collapsed": true
   },
   "outputs": [],
   "source": [
    "# 计算每一列的均值\n",
    "numeric_col_means = all_dummy_df.loc[:, numeric_cols].mean()"
   ]
  },
  {
   "cell_type": "code",
   "execution_count": 27,
   "metadata": {
    "collapsed": true
   },
   "outputs": [],
   "source": [
    "# 计算每一列的标准差\n",
    "numeric_col_std = all_dummy_df.loc[:, numeric_cols].std()"
   ]
  },
  {
   "cell_type": "code",
   "execution_count": 28,
   "metadata": {},
   "outputs": [],
   "source": [
    "all_dummy_df.loc[:, numeric_cols] = (\n",
    "    all_dummy_df.loc[:, numeric_cols] - numeric_col_means) / numeric_col_std"
   ]
  },
  {
   "cell_type": "markdown",
   "metadata": {},
   "source": [
    "## 分离训练集与测试集"
   ]
  },
  {
   "cell_type": "code",
   "execution_count": 29,
   "metadata": {
    "collapsed": true
   },
   "outputs": [],
   "source": [
    "dummy_train_df = all_dummy_df.loc[df_train.index]\n",
    "dummy_test_df = all_dummy_df.loc[df_test.index]"
   ]
  },
  {
   "cell_type": "markdown",
   "metadata": {},
   "source": [
    "## 模型训练"
   ]
  },
  {
   "cell_type": "code",
   "execution_count": 30,
   "metadata": {
    "collapsed": true
   },
   "outputs": [],
   "source": [
    "X_train = dummy_train_df\n",
    "X_test = dummy_test_df"
   ]
  },
  {
   "cell_type": "markdown",
   "metadata": {},
   "source": [
    "> 要使用交叉验证或者网格搜索，排除随机数据对模型评估的影响。"
   ]
  },
  {
   "cell_type": "markdown",
   "metadata": {},
   "source": [
    "### 岭回归"
   ]
  },
  {
   "cell_type": "code",
   "execution_count": 31,
   "metadata": {
    "collapsed": true
   },
   "outputs": [],
   "source": [
    "from sklearn.linear_model import Ridge\n",
    "\n",
    "ridge = Ridge()"
   ]
  },
  {
   "cell_type": "code",
   "execution_count": 33,
   "metadata": {
    "collapsed": true
   },
   "outputs": [],
   "source": [
    "np.set_printoptions(suppress=True, precision=4)"
   ]
  },
  {
   "cell_type": "code",
   "execution_count": 34,
   "metadata": {},
   "outputs": [
    {
     "data": {
      "text/plain": [
       "array([  0.001 ,   0.0013,   0.0016,   0.002 ,   0.0026,   0.0032,\n",
       "         0.0041,   0.0052,   0.0066,   0.0083,   0.0105,   0.0133,\n",
       "         0.0168,   0.0212,   0.0268,   0.0339,   0.0429,   0.0543,\n",
       "         0.0687,   0.0869,   0.1099,   0.1389,   0.1758,   0.2223,\n",
       "         0.2812,   0.3556,   0.4498,   0.569 ,   0.7197,   0.9103,\n",
       "         1.1514,   1.4563,   1.8421,   2.33  ,   2.9471,   3.7276,\n",
       "         4.7149,   5.9636,   7.5431,   9.541 ,  12.0679,  15.2642,\n",
       "        19.307 ,  24.4205,  30.8884,  39.0694,  49.4171,  62.5055,\n",
       "        79.0604, 100.    ])"
      ]
     },
     "execution_count": 34,
     "metadata": {},
     "output_type": "execute_result"
    }
   ],
   "source": [
    "np.logspace(-3, 2, 50)"
   ]
  },
  {
   "cell_type": "markdown",
   "metadata": {},
   "source": [
    "使用网格搜索得到最佳超参数。"
   ]
  },
  {
   "cell_type": "code",
   "execution_count": 40,
   "metadata": {
    "collapsed": true
   },
   "outputs": [],
   "source": [
    "from sklearn.model_selection import GridSearchCV\n",
    "\n",
    "parameters = {'alpha': np.logspace(-3, 2, 50)}  # 50 个数\n",
    "\n",
    "grid = GridSearchCV(\n",
    "    ridge, parameters, cv=10, scoring='neg_mean_squared_error', verbose=2)"
   ]
  },
  {
   "cell_type": "code",
   "execution_count": 41,
   "metadata": {},
   "outputs": [
    {
     "name": "stdout",
     "output_type": "stream",
     "text": [
      "Fitting 10 folds for each of 50 candidates, totalling 500 fits\n",
      "[CV] alpha=0.001 .....................................................\n",
      "[CV] ...................................... alpha=0.001, total=   0.0s\n",
      "[CV] alpha=0.001 .....................................................\n",
      "[CV] ...................................... alpha=0.001, total=   0.0s\n",
      "[CV] alpha=0.001 .....................................................\n",
      "[CV] ...................................... alpha=0.001, total=   0.0s\n",
      "[CV] alpha=0.001 .....................................................\n",
      "[CV] ...................................... alpha=0.001, total=   0.0s\n",
      "[CV] alpha=0.001 .....................................................\n",
      "[CV] ...................................... alpha=0.001, total=   0.0s\n",
      "[CV] alpha=0.001 .....................................................\n",
      "[CV] ...................................... alpha=0.001, total=   0.0s\n",
      "[CV] alpha=0.001 .....................................................\n",
      "[CV] ...................................... alpha=0.001, total=   0.0s\n",
      "[CV] alpha=0.001 .....................................................\n",
      "[CV] ...................................... alpha=0.001, total=   0.0s\n",
      "[CV] alpha=0.001 .....................................................\n",
      "[CV] ...................................... alpha=0.001, total=   0.0s\n",
      "[CV] alpha=0.001 .....................................................\n",
      "[CV] ...................................... alpha=0.001, total=   0.0s\n",
      "[CV] alpha=0.0012648552168552957 .....................................\n",
      "[CV] ...................... alpha=0.0012648552168552957, total=   0.0s\n",
      "[CV] alpha=0.0012648552168552957 .....................................\n",
      "[CV] ...................... alpha=0.0012648552168552957, total=   0.0s\n",
      "[CV] alpha=0.0012648552168552957 .....................................\n",
      "[CV] ...................... alpha=0.0012648552168552957, total=   0.0s\n",
      "[CV] alpha=0.0012648552168552957 .....................................\n"
     ]
    },
    {
     "name": "stderr",
     "output_type": "stream",
     "text": [
      "[Parallel(n_jobs=1)]: Using backend SequentialBackend with 1 concurrent workers.\n",
      "[Parallel(n_jobs=1)]: Done   1 out of   1 | elapsed:    0.0s remaining:    0.0s\n"
     ]
    },
    {
     "name": "stdout",
     "output_type": "stream",
     "text": [
      "[CV] ...................... alpha=0.0012648552168552957, total=   0.0s\n",
      "[CV] alpha=0.0012648552168552957 .....................................\n",
      "[CV] ...................... alpha=0.0012648552168552957, total=   0.0s\n",
      "[CV] alpha=0.0012648552168552957 .....................................\n",
      "[CV] ...................... alpha=0.0012648552168552957, total=   0.0s\n",
      "[CV] alpha=0.0012648552168552957 .....................................\n",
      "[CV] ...................... alpha=0.0012648552168552957, total=   0.0s\n",
      "[CV] alpha=0.0012648552168552957 .....................................\n",
      "[CV] ...................... alpha=0.0012648552168552957, total=   0.0s\n",
      "[CV] alpha=0.0012648552168552957 .....................................\n",
      "[CV] ...................... alpha=0.0012648552168552957, total=   0.0s\n",
      "[CV] alpha=0.0012648552168552957 .....................................\n",
      "[CV] ...................... alpha=0.0012648552168552957, total=   0.0s\n",
      "[CV] alpha=0.0015998587196060573 .....................................\n",
      "[CV] ...................... alpha=0.0015998587196060573, total=   0.0s\n",
      "[CV] alpha=0.0015998587196060573 .....................................\n",
      "[CV] ...................... alpha=0.0015998587196060573, total=   0.0s\n",
      "[CV] alpha=0.0015998587196060573 .....................................\n",
      "[CV] ...................... alpha=0.0015998587196060573, total=   0.0s\n",
      "[CV] alpha=0.0015998587196060573 .....................................\n",
      "[CV] ...................... alpha=0.0015998587196060573, total=   0.0s\n",
      "[CV] alpha=0.0015998587196060573 .....................................\n",
      "[CV] ...................... alpha=0.0015998587196060573, total=   0.0s\n",
      "[CV] alpha=0.0015998587196060573 .....................................\n",
      "[CV] ...................... alpha=0.0015998587196060573, total=   0.0s\n",
      "[CV] alpha=0.0015998587196060573 .....................................\n",
      "[CV] ...................... alpha=0.0015998587196060573, total=   0.0s\n",
      "[CV] alpha=0.0015998587196060573 .....................................\n",
      "[CV] ...................... alpha=0.0015998587196060573, total=   0.0s\n",
      "[CV] alpha=0.0015998587196060573 .....................................\n",
      "[CV] ...................... alpha=0.0015998587196060573, total=   0.0s\n",
      "[CV] alpha=0.0015998587196060573 .....................................\n",
      "[CV] ...................... alpha=0.0015998587196060573, total=   0.0s\n",
      "[CV] alpha=0.0020235896477251575 .....................................\n",
      "[CV] ...................... alpha=0.0020235896477251575, total=   0.0s\n",
      "[CV] alpha=0.0020235896477251575 .....................................\n",
      "[CV] ...................... alpha=0.0020235896477251575, total=   0.0s\n",
      "[CV] alpha=0.0020235896477251575 .....................................\n",
      "[CV] ...................... alpha=0.0020235896477251575, total=   0.0s\n",
      "[CV] alpha=0.0020235896477251575 .....................................\n",
      "[CV] ...................... alpha=0.0020235896477251575, total=   0.0s\n",
      "[CV] alpha=0.0020235896477251575 .....................................\n",
      "[CV] ...................... alpha=0.0020235896477251575, total=   0.0s\n",
      "[CV] alpha=0.0020235896477251575 .....................................\n",
      "[CV] ...................... alpha=0.0020235896477251575, total=   0.0s\n",
      "[CV] alpha=0.0020235896477251575 .....................................\n",
      "[CV] ...................... alpha=0.0020235896477251575, total=   0.0s\n",
      "[CV] alpha=0.0020235896477251575 .....................................\n",
      "[CV] ...................... alpha=0.0020235896477251575, total=   0.0s\n",
      "[CV] alpha=0.0020235896477251575 .....................................\n",
      "[CV] ...................... alpha=0.0020235896477251575, total=   0.0s\n",
      "[CV] alpha=0.0020235896477251575 .....................................\n",
      "[CV] ...................... alpha=0.0020235896477251575, total=   0.0s\n",
      "[CV] alpha=0.002559547922699536 ......................................\n",
      "[CV] ....................... alpha=0.002559547922699536, total=   0.0s\n",
      "[CV] alpha=0.002559547922699536 ......................................\n",
      "[CV] ....................... alpha=0.002559547922699536, total=   0.0s\n",
      "[CV] alpha=0.002559547922699536 ......................................\n",
      "[CV] ....................... alpha=0.002559547922699536, total=   0.0s\n",
      "[CV] alpha=0.002559547922699536 ......................................\n",
      "[CV] ....................... alpha=0.002559547922699536, total=   0.0s\n",
      "[CV] alpha=0.002559547922699536 ......................................\n",
      "[CV] ....................... alpha=0.002559547922699536, total=   0.0s\n",
      "[CV] alpha=0.002559547922699536 ......................................\n",
      "[CV] ....................... alpha=0.002559547922699536, total=   0.0s\n",
      "[CV] alpha=0.002559547922699536 ......................................\n",
      "[CV] ....................... alpha=0.002559547922699536, total=   0.0s\n",
      "[CV] alpha=0.002559547922699536 ......................................\n",
      "[CV] ....................... alpha=0.002559547922699536, total=   0.0s\n",
      "[CV] alpha=0.002559547922699536 ......................................\n",
      "[CV] ....................... alpha=0.002559547922699536, total=   0.0s\n",
      "[CV] alpha=0.002559547922699536 ......................................\n",
      "[CV] ....................... alpha=0.002559547922699536, total=   0.0s\n",
      "[CV] alpha=0.0032374575428176433 .....................................\n",
      "[CV] ...................... alpha=0.0032374575428176433, total=   0.0s\n",
      "[CV] alpha=0.0032374575428176433 .....................................\n",
      "[CV] ...................... alpha=0.0032374575428176433, total=   0.0s\n",
      "[CV] alpha=0.0032374575428176433 .....................................\n",
      "[CV] ...................... alpha=0.0032374575428176433, total=   0.0s\n",
      "[CV] alpha=0.0032374575428176433 .....................................\n",
      "[CV] ...................... alpha=0.0032374575428176433, total=   0.0s\n",
      "[CV] alpha=0.0032374575428176433 .....................................\n",
      "[CV] ...................... alpha=0.0032374575428176433, total=   0.0s\n",
      "[CV] alpha=0.0032374575428176433 .....................................\n",
      "[CV] ...................... alpha=0.0032374575428176433, total=   0.0s\n",
      "[CV] alpha=0.0032374575428176433 .....................................\n",
      "[CV] ...................... alpha=0.0032374575428176433, total=   0.0s\n",
      "[CV] alpha=0.0032374575428176433 .....................................\n",
      "[CV] ...................... alpha=0.0032374575428176433, total=   0.0s\n",
      "[CV] alpha=0.0032374575428176433 .....................................\n",
      "[CV] ...................... alpha=0.0032374575428176433, total=   0.0s\n",
      "[CV] alpha=0.0032374575428176433 .....................................\n",
      "[CV] ...................... alpha=0.0032374575428176433, total=   0.0s\n",
      "[CV] alpha=0.004094915062380427 ......................................\n",
      "[CV] ....................... alpha=0.004094915062380427, total=   0.0s\n",
      "[CV] alpha=0.004094915062380427 ......................................\n",
      "[CV] ....................... alpha=0.004094915062380427, total=   0.0s\n",
      "[CV] alpha=0.004094915062380427 ......................................\n",
      "[CV] ....................... alpha=0.004094915062380427, total=   0.0s\n",
      "[CV] alpha=0.004094915062380427 ......................................\n",
      "[CV] ....................... alpha=0.004094915062380427, total=   0.0s\n",
      "[CV] alpha=0.004094915062380427 ......................................\n",
      "[CV] ....................... alpha=0.004094915062380427, total=   0.0s\n",
      "[CV] alpha=0.004094915062380427 ......................................\n",
      "[CV] ....................... alpha=0.004094915062380427, total=   0.0s\n",
      "[CV] alpha=0.004094915062380427 ......................................\n",
      "[CV] ....................... alpha=0.004094915062380427, total=   0.0s\n",
      "[CV] alpha=0.004094915062380427 ......................................\n",
      "[CV] ....................... alpha=0.004094915062380427, total=   0.0s\n",
      "[CV] alpha=0.004094915062380427 ......................................\n",
      "[CV] ....................... alpha=0.004094915062380427, total=   0.0s\n",
      "[CV] alpha=0.004094915062380427 ......................................\n",
      "[CV] ....................... alpha=0.004094915062380427, total=   0.0s\n",
      "[CV] alpha=0.005179474679231213 ......................................\n",
      "[CV] ....................... alpha=0.005179474679231213, total=   0.0s\n",
      "[CV] alpha=0.005179474679231213 ......................................\n",
      "[CV] ....................... alpha=0.005179474679231213, total=   0.0s\n",
      "[CV] alpha=0.005179474679231213 ......................................\n"
     ]
    },
    {
     "name": "stdout",
     "output_type": "stream",
     "text": [
      "[CV] ....................... alpha=0.005179474679231213, total=   0.0s\n",
      "[CV] alpha=0.005179474679231213 ......................................\n",
      "[CV] ....................... alpha=0.005179474679231213, total=   0.0s\n",
      "[CV] alpha=0.005179474679231213 ......................................\n",
      "[CV] ....................... alpha=0.005179474679231213, total=   0.0s\n",
      "[CV] alpha=0.005179474679231213 ......................................\n",
      "[CV] ....................... alpha=0.005179474679231213, total=   0.0s\n",
      "[CV] alpha=0.005179474679231213 ......................................\n",
      "[CV] ....................... alpha=0.005179474679231213, total=   0.0s\n",
      "[CV] alpha=0.005179474679231213 ......................................\n",
      "[CV] ....................... alpha=0.005179474679231213, total=   0.0s\n",
      "[CV] alpha=0.005179474679231213 ......................................\n",
      "[CV] ....................... alpha=0.005179474679231213, total=   0.0s\n",
      "[CV] alpha=0.005179474679231213 ......................................\n",
      "[CV] ....................... alpha=0.005179474679231213, total=   0.0s\n",
      "[CV] alpha=0.006551285568595509 ......................................\n",
      "[CV] ....................... alpha=0.006551285568595509, total=   0.0s\n",
      "[CV] alpha=0.006551285568595509 ......................................\n",
      "[CV] ....................... alpha=0.006551285568595509, total=   0.0s\n",
      "[CV] alpha=0.006551285568595509 ......................................\n",
      "[CV] ....................... alpha=0.006551285568595509, total=   0.0s\n",
      "[CV] alpha=0.006551285568595509 ......................................\n",
      "[CV] ....................... alpha=0.006551285568595509, total=   0.0s\n",
      "[CV] alpha=0.006551285568595509 ......................................\n",
      "[CV] ....................... alpha=0.006551285568595509, total=   0.0s\n",
      "[CV] alpha=0.006551285568595509 ......................................\n",
      "[CV] ....................... alpha=0.006551285568595509, total=   0.0s\n",
      "[CV] alpha=0.006551285568595509 ......................................\n",
      "[CV] ....................... alpha=0.006551285568595509, total=   0.0s\n",
      "[CV] alpha=0.006551285568595509 ......................................\n",
      "[CV] ....................... alpha=0.006551285568595509, total=   0.0s\n",
      "[CV] alpha=0.006551285568595509 ......................................\n",
      "[CV] ....................... alpha=0.006551285568595509, total=   0.0s\n",
      "[CV] alpha=0.006551285568595509 ......................................\n",
      "[CV] ....................... alpha=0.006551285568595509, total=   0.0s\n",
      "[CV] alpha=0.008286427728546842 ......................................\n",
      "[CV] ....................... alpha=0.008286427728546842, total=   0.0s\n",
      "[CV] alpha=0.008286427728546842 ......................................\n",
      "[CV] ....................... alpha=0.008286427728546842, total=   0.0s\n",
      "[CV] alpha=0.008286427728546842 ......................................\n",
      "[CV] ....................... alpha=0.008286427728546842, total=   0.0s\n",
      "[CV] alpha=0.008286427728546842 ......................................\n",
      "[CV] ....................... alpha=0.008286427728546842, total=   0.0s\n",
      "[CV] alpha=0.008286427728546842 ......................................\n",
      "[CV] ....................... alpha=0.008286427728546842, total=   0.0s\n",
      "[CV] alpha=0.008286427728546842 ......................................\n",
      "[CV] ....................... alpha=0.008286427728546842, total=   0.0s\n",
      "[CV] alpha=0.008286427728546842 ......................................\n",
      "[CV] ....................... alpha=0.008286427728546842, total=   0.0s\n",
      "[CV] alpha=0.008286427728546842 ......................................\n",
      "[CV] ....................... alpha=0.008286427728546842, total=   0.0s\n",
      "[CV] alpha=0.008286427728546842 ......................................\n",
      "[CV] ....................... alpha=0.008286427728546842, total=   0.0s\n",
      "[CV] alpha=0.008286427728546842 ......................................\n",
      "[CV] ....................... alpha=0.008286427728546842, total=   0.0s\n",
      "[CV] alpha=0.010481131341546858 ......................................\n",
      "[CV] ....................... alpha=0.010481131341546858, total=   0.0s\n",
      "[CV] alpha=0.010481131341546858 ......................................\n",
      "[CV] ....................... alpha=0.010481131341546858, total=   0.0s\n",
      "[CV] alpha=0.010481131341546858 ......................................\n",
      "[CV] ....................... alpha=0.010481131341546858, total=   0.0s\n",
      "[CV] alpha=0.010481131341546858 ......................................\n",
      "[CV] ....................... alpha=0.010481131341546858, total=   0.0s\n",
      "[CV] alpha=0.010481131341546858 ......................................\n",
      "[CV] ....................... alpha=0.010481131341546858, total=   0.0s\n",
      "[CV] alpha=0.010481131341546858 ......................................\n",
      "[CV] ....................... alpha=0.010481131341546858, total=   0.0s\n",
      "[CV] alpha=0.010481131341546858 ......................................\n",
      "[CV] ....................... alpha=0.010481131341546858, total=   0.0s\n",
      "[CV] alpha=0.010481131341546858 ......................................\n",
      "[CV] ....................... alpha=0.010481131341546858, total=   0.0s\n",
      "[CV] alpha=0.010481131341546858 ......................................\n",
      "[CV] ....................... alpha=0.010481131341546858, total=   0.0s\n",
      "[CV] alpha=0.010481131341546858 ......................................\n",
      "[CV] ....................... alpha=0.010481131341546858, total=   0.0s\n",
      "[CV] alpha=0.013257113655901095 ......................................\n",
      "[CV] ....................... alpha=0.013257113655901095, total=   0.0s\n",
      "[CV] alpha=0.013257113655901095 ......................................\n",
      "[CV] ....................... alpha=0.013257113655901095, total=   0.0s\n",
      "[CV] alpha=0.013257113655901095 ......................................\n",
      "[CV] ....................... alpha=0.013257113655901095, total=   0.0s\n",
      "[CV] alpha=0.013257113655901095 ......................................\n",
      "[CV] ....................... alpha=0.013257113655901095, total=   0.0s\n",
      "[CV] alpha=0.013257113655901095 ......................................\n",
      "[CV] ....................... alpha=0.013257113655901095, total=   0.0s\n",
      "[CV] alpha=0.013257113655901095 ......................................\n",
      "[CV] ....................... alpha=0.013257113655901095, total=   0.0s\n",
      "[CV] alpha=0.013257113655901095 ......................................\n",
      "[CV] ....................... alpha=0.013257113655901095, total=   0.0s\n",
      "[CV] alpha=0.013257113655901095 ......................................\n",
      "[CV] ....................... alpha=0.013257113655901095, total=   0.0s\n",
      "[CV] alpha=0.013257113655901095 ......................................\n",
      "[CV] ....................... alpha=0.013257113655901095, total=   0.0s\n",
      "[CV] alpha=0.013257113655901095 ......................................\n",
      "[CV] ....................... alpha=0.013257113655901095, total=   0.0s\n",
      "[CV] alpha=0.016768329368110083 ......................................\n",
      "[CV] ....................... alpha=0.016768329368110083, total=   0.0s\n",
      "[CV] alpha=0.016768329368110083 ......................................\n",
      "[CV] ....................... alpha=0.016768329368110083, total=   0.0s\n",
      "[CV] alpha=0.016768329368110083 ......................................\n",
      "[CV] ....................... alpha=0.016768329368110083, total=   0.0s\n",
      "[CV] alpha=0.016768329368110083 ......................................\n",
      "[CV] ....................... alpha=0.016768329368110083, total=   0.0s\n",
      "[CV] alpha=0.016768329368110083 ......................................\n",
      "[CV] ....................... alpha=0.016768329368110083, total=   0.0s\n",
      "[CV] alpha=0.016768329368110083 ......................................\n",
      "[CV] ....................... alpha=0.016768329368110083, total=   0.0s\n",
      "[CV] alpha=0.016768329368110083 ......................................\n",
      "[CV] ....................... alpha=0.016768329368110083, total=   0.0s\n",
      "[CV] alpha=0.016768329368110083 ......................................\n",
      "[CV] ....................... alpha=0.016768329368110083, total=   0.0s\n",
      "[CV] alpha=0.016768329368110083 ......................................\n",
      "[CV] ....................... alpha=0.016768329368110083, total=   0.0s\n",
      "[CV] alpha=0.016768329368110083 ......................................\n",
      "[CV] ....................... alpha=0.016768329368110083, total=   0.0s\n",
      "[CV] alpha=0.021209508879201904 ......................................\n",
      "[CV] ....................... alpha=0.021209508879201904, total=   0.0s\n",
      "[CV] alpha=0.021209508879201904 ......................................\n",
      "[CV] ....................... alpha=0.021209508879201904, total=   0.0s\n",
      "[CV] alpha=0.021209508879201904 ......................................\n",
      "[CV] ....................... alpha=0.021209508879201904, total=   0.0s\n",
      "[CV] alpha=0.021209508879201904 ......................................\n",
      "[CV] ....................... alpha=0.021209508879201904, total=   0.0s\n",
      "[CV] alpha=0.021209508879201904 ......................................\n",
      "[CV] ....................... alpha=0.021209508879201904, total=   0.0s\n",
      "[CV] alpha=0.021209508879201904 ......................................\n",
      "[CV] ....................... alpha=0.021209508879201904, total=   0.0s\n",
      "[CV] alpha=0.021209508879201904 ......................................\n",
      "[CV] ....................... alpha=0.021209508879201904, total=   0.0s\n",
      "[CV] alpha=0.021209508879201904 ......................................\n",
      "[CV] ....................... alpha=0.021209508879201904, total=   0.0s\n",
      "[CV] alpha=0.021209508879201904 ......................................\n",
      "[CV] ....................... alpha=0.021209508879201904, total=   0.0s\n",
      "[CV] alpha=0.021209508879201904 ......................................\n",
      "[CV] ....................... alpha=0.021209508879201904, total=   0.0s\n",
      "[CV] alpha=0.02682695795279726 .......................................\n",
      "[CV] ........................ alpha=0.02682695795279726, total=   0.0s\n",
      "[CV] alpha=0.02682695795279726 .......................................\n",
      "[CV] ........................ alpha=0.02682695795279726, total=   0.0s\n",
      "[CV] alpha=0.02682695795279726 .......................................\n"
     ]
    },
    {
     "name": "stdout",
     "output_type": "stream",
     "text": [
      "[CV] ........................ alpha=0.02682695795279726, total=   0.0s\n",
      "[CV] alpha=0.02682695795279726 .......................................\n",
      "[CV] ........................ alpha=0.02682695795279726, total=   0.0s\n",
      "[CV] alpha=0.02682695795279726 .......................................\n",
      "[CV] ........................ alpha=0.02682695795279726, total=   0.0s\n",
      "[CV] alpha=0.02682695795279726 .......................................\n",
      "[CV] ........................ alpha=0.02682695795279726, total=   0.0s\n",
      "[CV] alpha=0.02682695795279726 .......................................\n",
      "[CV] ........................ alpha=0.02682695795279726, total=   0.0s\n",
      "[CV] alpha=0.02682695795279726 .......................................\n",
      "[CV] ........................ alpha=0.02682695795279726, total=   0.0s\n",
      "[CV] alpha=0.02682695795279726 .......................................\n",
      "[CV] ........................ alpha=0.02682695795279726, total=   0.0s\n",
      "[CV] alpha=0.02682695795279726 .......................................\n",
      "[CV] ........................ alpha=0.02682695795279726, total=   0.0s\n",
      "[CV] alpha=0.0339322177189533 ........................................\n",
      "[CV] ......................... alpha=0.0339322177189533, total=   0.0s\n",
      "[CV] alpha=0.0339322177189533 ........................................\n",
      "[CV] ......................... alpha=0.0339322177189533, total=   0.0s\n",
      "[CV] alpha=0.0339322177189533 ........................................\n",
      "[CV] ......................... alpha=0.0339322177189533, total=   0.0s\n",
      "[CV] alpha=0.0339322177189533 ........................................\n",
      "[CV] ......................... alpha=0.0339322177189533, total=   0.0s\n",
      "[CV] alpha=0.0339322177189533 ........................................\n",
      "[CV] ......................... alpha=0.0339322177189533, total=   0.0s\n",
      "[CV] alpha=0.0339322177189533 ........................................\n",
      "[CV] ......................... alpha=0.0339322177189533, total=   0.0s\n",
      "[CV] alpha=0.0339322177189533 ........................................\n",
      "[CV] ......................... alpha=0.0339322177189533, total=   0.0s\n",
      "[CV] alpha=0.0339322177189533 ........................................\n",
      "[CV] ......................... alpha=0.0339322177189533, total=   0.0s\n",
      "[CV] alpha=0.0339322177189533 ........................................\n",
      "[CV] ......................... alpha=0.0339322177189533, total=   0.0s\n",
      "[CV] alpha=0.0339322177189533 ........................................\n",
      "[CV] ......................... alpha=0.0339322177189533, total=   0.0s\n",
      "[CV] alpha=0.04291934260128778 .......................................\n",
      "[CV] ........................ alpha=0.04291934260128778, total=   0.0s\n",
      "[CV] alpha=0.04291934260128778 .......................................\n",
      "[CV] ........................ alpha=0.04291934260128778, total=   0.0s\n",
      "[CV] alpha=0.04291934260128778 .......................................\n",
      "[CV] ........................ alpha=0.04291934260128778, total=   0.0s\n",
      "[CV] alpha=0.04291934260128778 .......................................\n",
      "[CV] ........................ alpha=0.04291934260128778, total=   0.0s\n",
      "[CV] alpha=0.04291934260128778 .......................................\n",
      "[CV] ........................ alpha=0.04291934260128778, total=   0.0s\n",
      "[CV] alpha=0.04291934260128778 .......................................\n",
      "[CV] ........................ alpha=0.04291934260128778, total=   0.0s\n",
      "[CV] alpha=0.04291934260128778 .......................................\n",
      "[CV] ........................ alpha=0.04291934260128778, total=   0.0s\n",
      "[CV] alpha=0.04291934260128778 .......................................\n",
      "[CV] ........................ alpha=0.04291934260128778, total=   0.0s\n",
      "[CV] alpha=0.04291934260128778 .......................................\n",
      "[CV] ........................ alpha=0.04291934260128778, total=   0.0s\n",
      "[CV] alpha=0.04291934260128778 .......................................\n",
      "[CV] ........................ alpha=0.04291934260128778, total=   0.0s\n",
      "[CV] alpha=0.054286754393238594 ......................................\n",
      "[CV] ....................... alpha=0.054286754393238594, total=   0.0s\n",
      "[CV] alpha=0.054286754393238594 ......................................\n",
      "[CV] ....................... alpha=0.054286754393238594, total=   0.0s\n",
      "[CV] alpha=0.054286754393238594 ......................................\n",
      "[CV] ....................... alpha=0.054286754393238594, total=   0.0s\n",
      "[CV] alpha=0.054286754393238594 ......................................\n",
      "[CV] ....................... alpha=0.054286754393238594, total=   0.0s\n",
      "[CV] alpha=0.054286754393238594 ......................................\n",
      "[CV] ....................... alpha=0.054286754393238594, total=   0.0s\n",
      "[CV] alpha=0.054286754393238594 ......................................\n",
      "[CV] ....................... alpha=0.054286754393238594, total=   0.0s\n",
      "[CV] alpha=0.054286754393238594 ......................................\n",
      "[CV] ....................... alpha=0.054286754393238594, total=   0.0s\n",
      "[CV] alpha=0.054286754393238594 ......................................\n",
      "[CV] ....................... alpha=0.054286754393238594, total=   0.0s\n",
      "[CV] alpha=0.054286754393238594 ......................................\n",
      "[CV] ....................... alpha=0.054286754393238594, total=   0.0s\n",
      "[CV] alpha=0.054286754393238594 ......................................\n",
      "[CV] ....................... alpha=0.054286754393238594, total=   0.0s\n",
      "[CV] alpha=0.06866488450043001 .......................................\n",
      "[CV] ........................ alpha=0.06866488450043001, total=   0.0s\n",
      "[CV] alpha=0.06866488450043001 .......................................\n",
      "[CV] ........................ alpha=0.06866488450043001, total=   0.0s\n",
      "[CV] alpha=0.06866488450043001 .......................................\n",
      "[CV] ........................ alpha=0.06866488450043001, total=   0.0s\n",
      "[CV] alpha=0.06866488450043001 .......................................\n",
      "[CV] ........................ alpha=0.06866488450043001, total=   0.0s\n",
      "[CV] alpha=0.06866488450043001 .......................................\n",
      "[CV] ........................ alpha=0.06866488450043001, total=   0.0s\n",
      "[CV] alpha=0.06866488450043001 .......................................\n",
      "[CV] ........................ alpha=0.06866488450043001, total=   0.0s\n",
      "[CV] alpha=0.06866488450043001 .......................................\n",
      "[CV] ........................ alpha=0.06866488450043001, total=   0.0s\n",
      "[CV] alpha=0.06866488450043001 .......................................\n",
      "[CV] ........................ alpha=0.06866488450043001, total=   0.0s\n",
      "[CV] alpha=0.06866488450043001 .......................................\n",
      "[CV] ........................ alpha=0.06866488450043001, total=   0.0s\n",
      "[CV] alpha=0.06866488450043001 .......................................\n",
      "[CV] ........................ alpha=0.06866488450043001, total=   0.0s\n",
      "[CV] alpha=0.08685113737513529 .......................................\n",
      "[CV] ........................ alpha=0.08685113737513529, total=   0.0s\n",
      "[CV] alpha=0.08685113737513529 .......................................\n",
      "[CV] ........................ alpha=0.08685113737513529, total=   0.0s\n",
      "[CV] alpha=0.08685113737513529 .......................................\n",
      "[CV] ........................ alpha=0.08685113737513529, total=   0.0s\n",
      "[CV] alpha=0.08685113737513529 .......................................\n",
      "[CV] ........................ alpha=0.08685113737513529, total=   0.0s\n",
      "[CV] alpha=0.08685113737513529 .......................................\n",
      "[CV] ........................ alpha=0.08685113737513529, total=   0.0s\n",
      "[CV] alpha=0.08685113737513529 .......................................\n",
      "[CV] ........................ alpha=0.08685113737513529, total=   0.0s\n",
      "[CV] alpha=0.08685113737513529 .......................................\n",
      "[CV] ........................ alpha=0.08685113737513529, total=   0.0s\n",
      "[CV] alpha=0.08685113737513529 .......................................\n",
      "[CV] ........................ alpha=0.08685113737513529, total=   0.0s\n",
      "[CV] alpha=0.08685113737513529 .......................................\n",
      "[CV] ........................ alpha=0.08685113737513529, total=   0.0s\n",
      "[CV] alpha=0.08685113737513529 .......................................\n",
      "[CV] ........................ alpha=0.08685113737513529, total=   0.0s\n",
      "[CV] alpha=0.10985411419875583 .......................................\n",
      "[CV] ........................ alpha=0.10985411419875583, total=   0.0s\n",
      "[CV] alpha=0.10985411419875583 .......................................\n",
      "[CV] ........................ alpha=0.10985411419875583, total=   0.0s\n",
      "[CV] alpha=0.10985411419875583 .......................................\n",
      "[CV] ........................ alpha=0.10985411419875583, total=   0.0s\n",
      "[CV] alpha=0.10985411419875583 .......................................\n",
      "[CV] ........................ alpha=0.10985411419875583, total=   0.0s\n",
      "[CV] alpha=0.10985411419875583 .......................................\n",
      "[CV] ........................ alpha=0.10985411419875583, total=   0.0s\n",
      "[CV] alpha=0.10985411419875583 .......................................\n",
      "[CV] ........................ alpha=0.10985411419875583, total=   0.0s\n",
      "[CV] alpha=0.10985411419875583 .......................................\n",
      "[CV] ........................ alpha=0.10985411419875583, total=   0.0s\n",
      "[CV] alpha=0.10985411419875583 .......................................\n",
      "[CV] ........................ alpha=0.10985411419875583, total=   0.0s\n",
      "[CV] alpha=0.10985411419875583 .......................................\n",
      "[CV] ........................ alpha=0.10985411419875583, total=   0.0s\n",
      "[CV] alpha=0.10985411419875583 .......................................\n",
      "[CV] ........................ alpha=0.10985411419875583, total=   0.0s\n",
      "[CV] alpha=0.13894954943731375 .......................................\n",
      "[CV] ........................ alpha=0.13894954943731375, total=   0.0s\n",
      "[CV] alpha=0.13894954943731375 .......................................\n",
      "[CV] ........................ alpha=0.13894954943731375, total=   0.0s\n",
      "[CV] alpha=0.13894954943731375 .......................................\n",
      "[CV] ........................ alpha=0.13894954943731375, total=   0.0s\n",
      "[CV] alpha=0.13894954943731375 .......................................\n"
     ]
    },
    {
     "name": "stdout",
     "output_type": "stream",
     "text": [
      "[CV] ........................ alpha=0.13894954943731375, total=   0.0s\n",
      "[CV] alpha=0.13894954943731375 .......................................\n",
      "[CV] ........................ alpha=0.13894954943731375, total=   0.0s\n",
      "[CV] alpha=0.13894954943731375 .......................................\n",
      "[CV] ........................ alpha=0.13894954943731375, total=   0.0s\n",
      "[CV] alpha=0.13894954943731375 .......................................\n",
      "[CV] ........................ alpha=0.13894954943731375, total=   0.0s\n",
      "[CV] alpha=0.13894954943731375 .......................................\n",
      "[CV] ........................ alpha=0.13894954943731375, total=   0.0s\n",
      "[CV] alpha=0.13894954943731375 .......................................\n",
      "[CV] ........................ alpha=0.13894954943731375, total=   0.0s\n",
      "[CV] alpha=0.13894954943731375 .......................................\n",
      "[CV] ........................ alpha=0.13894954943731375, total=   0.0s\n",
      "[CV] alpha=0.1757510624854793 ........................................\n",
      "[CV] ......................... alpha=0.1757510624854793, total=   0.0s\n",
      "[CV] alpha=0.1757510624854793 ........................................\n",
      "[CV] ......................... alpha=0.1757510624854793, total=   0.0s\n",
      "[CV] alpha=0.1757510624854793 ........................................\n",
      "[CV] ......................... alpha=0.1757510624854793, total=   0.0s\n",
      "[CV] alpha=0.1757510624854793 ........................................\n",
      "[CV] ......................... alpha=0.1757510624854793, total=   0.0s\n",
      "[CV] alpha=0.1757510624854793 ........................................\n",
      "[CV] ......................... alpha=0.1757510624854793, total=   0.0s\n",
      "[CV] alpha=0.1757510624854793 ........................................\n",
      "[CV] ......................... alpha=0.1757510624854793, total=   0.0s\n",
      "[CV] alpha=0.1757510624854793 ........................................\n",
      "[CV] ......................... alpha=0.1757510624854793, total=   0.0s\n",
      "[CV] alpha=0.1757510624854793 ........................................\n",
      "[CV] ......................... alpha=0.1757510624854793, total=   0.0s\n",
      "[CV] alpha=0.1757510624854793 ........................................\n",
      "[CV] ......................... alpha=0.1757510624854793, total=   0.0s\n",
      "[CV] alpha=0.1757510624854793 ........................................\n",
      "[CV] ......................... alpha=0.1757510624854793, total=   0.0s\n",
      "[CV] alpha=0.22229964825261955 .......................................\n",
      "[CV] ........................ alpha=0.22229964825261955, total=   0.0s\n",
      "[CV] alpha=0.22229964825261955 .......................................\n",
      "[CV] ........................ alpha=0.22229964825261955, total=   0.0s\n",
      "[CV] alpha=0.22229964825261955 .......................................\n",
      "[CV] ........................ alpha=0.22229964825261955, total=   0.0s\n",
      "[CV] alpha=0.22229964825261955 .......................................\n",
      "[CV] ........................ alpha=0.22229964825261955, total=   0.0s\n",
      "[CV] alpha=0.22229964825261955 .......................................\n",
      "[CV] ........................ alpha=0.22229964825261955, total=   0.0s\n",
      "[CV] alpha=0.22229964825261955 .......................................\n",
      "[CV] ........................ alpha=0.22229964825261955, total=   0.0s\n",
      "[CV] alpha=0.22229964825261955 .......................................\n",
      "[CV] ........................ alpha=0.22229964825261955, total=   0.0s\n",
      "[CV] alpha=0.22229964825261955 .......................................\n",
      "[CV] ........................ alpha=0.22229964825261955, total=   0.0s\n",
      "[CV] alpha=0.22229964825261955 .......................................\n",
      "[CV] ........................ alpha=0.22229964825261955, total=   0.0s\n",
      "[CV] alpha=0.22229964825261955 .......................................\n",
      "[CV] ........................ alpha=0.22229964825261955, total=   0.0s\n",
      "[CV] alpha=0.28117686979742307 .......................................\n",
      "[CV] ........................ alpha=0.28117686979742307, total=   0.0s\n",
      "[CV] alpha=0.28117686979742307 .......................................\n",
      "[CV] ........................ alpha=0.28117686979742307, total=   0.0s\n",
      "[CV] alpha=0.28117686979742307 .......................................\n",
      "[CV] ........................ alpha=0.28117686979742307, total=   0.0s\n",
      "[CV] alpha=0.28117686979742307 .......................................\n",
      "[CV] ........................ alpha=0.28117686979742307, total=   0.0s\n",
      "[CV] alpha=0.28117686979742307 .......................................\n",
      "[CV] ........................ alpha=0.28117686979742307, total=   0.0s\n",
      "[CV] alpha=0.28117686979742307 .......................................\n",
      "[CV] ........................ alpha=0.28117686979742307, total=   0.0s\n",
      "[CV] alpha=0.28117686979742307 .......................................\n",
      "[CV] ........................ alpha=0.28117686979742307, total=   0.0s\n",
      "[CV] alpha=0.28117686979742307 .......................................\n",
      "[CV] ........................ alpha=0.28117686979742307, total=   0.0s\n",
      "[CV] alpha=0.28117686979742307 .......................................\n",
      "[CV] ........................ alpha=0.28117686979742307, total=   0.0s\n",
      "[CV] alpha=0.28117686979742307 .......................................\n",
      "[CV] ........................ alpha=0.28117686979742307, total=   0.0s\n",
      "[CV] alpha=0.35564803062231287 .......................................\n",
      "[CV] ........................ alpha=0.35564803062231287, total=   0.0s\n",
      "[CV] alpha=0.35564803062231287 .......................................\n",
      "[CV] ........................ alpha=0.35564803062231287, total=   0.0s\n",
      "[CV] alpha=0.35564803062231287 .......................................\n",
      "[CV] ........................ alpha=0.35564803062231287, total=   0.0s\n",
      "[CV] alpha=0.35564803062231287 .......................................\n",
      "[CV] ........................ alpha=0.35564803062231287, total=   0.0s\n",
      "[CV] alpha=0.35564803062231287 .......................................\n",
      "[CV] ........................ alpha=0.35564803062231287, total=   0.0s\n",
      "[CV] alpha=0.35564803062231287 .......................................\n",
      "[CV] ........................ alpha=0.35564803062231287, total=   0.0s\n",
      "[CV] alpha=0.35564803062231287 .......................................\n",
      "[CV] ........................ alpha=0.35564803062231287, total=   0.0s\n",
      "[CV] alpha=0.35564803062231287 .......................................\n",
      "[CV] ........................ alpha=0.35564803062231287, total=   0.0s\n",
      "[CV] alpha=0.35564803062231287 .......................................\n",
      "[CV] ........................ alpha=0.35564803062231287, total=   0.0s\n",
      "[CV] alpha=0.35564803062231287 .......................................\n",
      "[CV] ........................ alpha=0.35564803062231287, total=   0.0s\n",
      "[CV] alpha=0.4498432668969444 ........................................\n",
      "[CV] ......................... alpha=0.4498432668969444, total=   0.0s\n",
      "[CV] alpha=0.4498432668969444 ........................................\n",
      "[CV] ......................... alpha=0.4498432668969444, total=   0.0s\n",
      "[CV] alpha=0.4498432668969444 ........................................\n",
      "[CV] ......................... alpha=0.4498432668969444, total=   0.0s\n",
      "[CV] alpha=0.4498432668969444 ........................................\n",
      "[CV] ......................... alpha=0.4498432668969444, total=   0.0s\n",
      "[CV] alpha=0.4498432668969444 ........................................\n",
      "[CV] ......................... alpha=0.4498432668969444, total=   0.0s\n",
      "[CV] alpha=0.4498432668969444 ........................................\n",
      "[CV] ......................... alpha=0.4498432668969444, total=   0.0s\n",
      "[CV] alpha=0.4498432668969444 ........................................\n",
      "[CV] ......................... alpha=0.4498432668969444, total=   0.0s\n",
      "[CV] alpha=0.4498432668969444 ........................................\n",
      "[CV] ......................... alpha=0.4498432668969444, total=   0.0s\n",
      "[CV] alpha=0.4498432668969444 ........................................\n",
      "[CV] ......................... alpha=0.4498432668969444, total=   0.0s\n",
      "[CV] alpha=0.4498432668969444 ........................................\n",
      "[CV] ......................... alpha=0.4498432668969444, total=   0.0s\n",
      "[CV] alpha=0.5689866029018299 ........................................\n",
      "[CV] ......................... alpha=0.5689866029018299, total=   0.0s\n",
      "[CV] alpha=0.5689866029018299 ........................................\n"
     ]
    },
    {
     "name": "stdout",
     "output_type": "stream",
     "text": [
      "[CV] ......................... alpha=0.5689866029018299, total=   0.0s\n",
      "[CV] alpha=0.5689866029018299 ........................................\n",
      "[CV] ......................... alpha=0.5689866029018299, total=   0.0s\n",
      "[CV] alpha=0.5689866029018299 ........................................\n",
      "[CV] ......................... alpha=0.5689866029018299, total=   0.0s\n",
      "[CV] alpha=0.5689866029018299 ........................................\n",
      "[CV] ......................... alpha=0.5689866029018299, total=   0.0s\n",
      "[CV] alpha=0.5689866029018299 ........................................\n",
      "[CV] ......................... alpha=0.5689866029018299, total=   0.0s\n",
      "[CV] alpha=0.5689866029018299 ........................................\n",
      "[CV] ......................... alpha=0.5689866029018299, total=   0.0s\n",
      "[CV] alpha=0.5689866029018299 ........................................\n",
      "[CV] ......................... alpha=0.5689866029018299, total=   0.0s\n",
      "[CV] alpha=0.5689866029018299 ........................................\n",
      "[CV] ......................... alpha=0.5689866029018299, total=   0.0s\n",
      "[CV] alpha=0.5689866029018299 ........................................\n",
      "[CV] ......................... alpha=0.5689866029018299, total=   0.0s\n",
      "[CV] alpha=0.7196856730011522 ........................................\n",
      "[CV] ......................... alpha=0.7196856730011522, total=   0.0s\n",
      "[CV] alpha=0.7196856730011522 ........................................\n",
      "[CV] ......................... alpha=0.7196856730011522, total=   0.0s\n",
      "[CV] alpha=0.7196856730011522 ........................................\n",
      "[CV] ......................... alpha=0.7196856730011522, total=   0.0s\n",
      "[CV] alpha=0.7196856730011522 ........................................\n",
      "[CV] ......................... alpha=0.7196856730011522, total=   0.0s\n",
      "[CV] alpha=0.7196856730011522 ........................................\n",
      "[CV] ......................... alpha=0.7196856730011522, total=   0.0s\n",
      "[CV] alpha=0.7196856730011522 ........................................\n",
      "[CV] ......................... alpha=0.7196856730011522, total=   0.0s\n",
      "[CV] alpha=0.7196856730011522 ........................................\n",
      "[CV] ......................... alpha=0.7196856730011522, total=   0.0s\n",
      "[CV] alpha=0.7196856730011522 ........................................\n",
      "[CV] ......................... alpha=0.7196856730011522, total=   0.0s\n",
      "[CV] alpha=0.7196856730011522 ........................................\n",
      "[CV] ......................... alpha=0.7196856730011522, total=   0.0s\n",
      "[CV] alpha=0.7196856730011522 ........................................\n",
      "[CV] ......................... alpha=0.7196856730011522, total=   0.0s\n",
      "[CV] alpha=0.9102981779915218 ........................................\n",
      "[CV] ......................... alpha=0.9102981779915218, total=   0.0s\n",
      "[CV] alpha=0.9102981779915218 ........................................\n",
      "[CV] ......................... alpha=0.9102981779915218, total=   0.0s\n",
      "[CV] alpha=0.9102981779915218 ........................................\n",
      "[CV] ......................... alpha=0.9102981779915218, total=   0.0s\n",
      "[CV] alpha=0.9102981779915218 ........................................\n",
      "[CV] ......................... alpha=0.9102981779915218, total=   0.0s\n",
      "[CV] alpha=0.9102981779915218 ........................................\n",
      "[CV] ......................... alpha=0.9102981779915218, total=   0.0s\n",
      "[CV] alpha=0.9102981779915218 ........................................\n",
      "[CV] ......................... alpha=0.9102981779915218, total=   0.0s\n",
      "[CV] alpha=0.9102981779915218 ........................................\n",
      "[CV] ......................... alpha=0.9102981779915218, total=   0.0s\n",
      "[CV] alpha=0.9102981779915218 ........................................\n",
      "[CV] ......................... alpha=0.9102981779915218, total=   0.0s\n",
      "[CV] alpha=0.9102981779915218 ........................................\n",
      "[CV] ......................... alpha=0.9102981779915218, total=   0.0s\n",
      "[CV] alpha=0.9102981779915218 ........................................\n",
      "[CV] ......................... alpha=0.9102981779915218, total=   0.0s\n",
      "[CV] alpha=1.151395399326448 .........................................\n",
      "[CV] .......................... alpha=1.151395399326448, total=   0.0s\n",
      "[CV] alpha=1.151395399326448 .........................................\n",
      "[CV] .......................... alpha=1.151395399326448, total=   0.0s\n",
      "[CV] alpha=1.151395399326448 .........................................\n",
      "[CV] .......................... alpha=1.151395399326448, total=   0.0s\n",
      "[CV] alpha=1.151395399326448 .........................................\n",
      "[CV] .......................... alpha=1.151395399326448, total=   0.0s\n",
      "[CV] alpha=1.151395399326448 .........................................\n",
      "[CV] .......................... alpha=1.151395399326448, total=   0.0s\n",
      "[CV] alpha=1.151395399326448 .........................................\n",
      "[CV] .......................... alpha=1.151395399326448, total=   0.0s\n",
      "[CV] alpha=1.151395399326448 .........................................\n",
      "[CV] .......................... alpha=1.151395399326448, total=   0.0s\n",
      "[CV] alpha=1.151395399326448 .........................................\n",
      "[CV] .......................... alpha=1.151395399326448, total=   0.0s\n",
      "[CV] alpha=1.151395399326448 .........................................\n",
      "[CV] .......................... alpha=1.151395399326448, total=   0.0s\n",
      "[CV] alpha=1.151395399326448 .........................................\n",
      "[CV] .......................... alpha=1.151395399326448, total=   0.0s\n",
      "[CV] alpha=1.4563484775012443 ........................................\n",
      "[CV] ......................... alpha=1.4563484775012443, total=   0.0s\n",
      "[CV] alpha=1.4563484775012443 ........................................\n",
      "[CV] ......................... alpha=1.4563484775012443, total=   0.0s\n",
      "[CV] alpha=1.4563484775012443 ........................................\n",
      "[CV] ......................... alpha=1.4563484775012443, total=   0.0s\n",
      "[CV] alpha=1.4563484775012443 ........................................\n",
      "[CV] ......................... alpha=1.4563484775012443, total=   0.0s\n",
      "[CV] alpha=1.4563484775012443 ........................................\n",
      "[CV] ......................... alpha=1.4563484775012443, total=   0.0s\n",
      "[CV] alpha=1.4563484775012443 ........................................\n",
      "[CV] ......................... alpha=1.4563484775012443, total=   0.0s\n",
      "[CV] alpha=1.4563484775012443 ........................................\n",
      "[CV] ......................... alpha=1.4563484775012443, total=   0.0s\n",
      "[CV] alpha=1.4563484775012443 ........................................\n",
      "[CV] ......................... alpha=1.4563484775012443, total=   0.0s\n",
      "[CV] alpha=1.4563484775012443 ........................................\n",
      "[CV] ......................... alpha=1.4563484775012443, total=   0.0s\n",
      "[CV] alpha=1.4563484775012443 ........................................\n",
      "[CV] ......................... alpha=1.4563484775012443, total=   0.0s\n",
      "[CV] alpha=1.8420699693267164 ........................................\n",
      "[CV] ......................... alpha=1.8420699693267164, total=   0.0s\n",
      "[CV] alpha=1.8420699693267164 ........................................\n",
      "[CV] ......................... alpha=1.8420699693267164, total=   0.0s\n",
      "[CV] alpha=1.8420699693267164 ........................................\n",
      "[CV] ......................... alpha=1.8420699693267164, total=   0.0s\n",
      "[CV] alpha=1.8420699693267164 ........................................\n",
      "[CV] ......................... alpha=1.8420699693267164, total=   0.0s\n",
      "[CV] alpha=1.8420699693267164 ........................................\n",
      "[CV] ......................... alpha=1.8420699693267164, total=   0.0s\n",
      "[CV] alpha=1.8420699693267164 ........................................\n",
      "[CV] ......................... alpha=1.8420699693267164, total=   0.0s\n",
      "[CV] alpha=1.8420699693267164 ........................................\n",
      "[CV] ......................... alpha=1.8420699693267164, total=   0.0s\n",
      "[CV] alpha=1.8420699693267164 ........................................\n",
      "[CV] ......................... alpha=1.8420699693267164, total=   0.0s\n",
      "[CV] alpha=1.8420699693267164 ........................................\n",
      "[CV] ......................... alpha=1.8420699693267164, total=   0.0s\n",
      "[CV] alpha=1.8420699693267164 ........................................\n",
      "[CV] ......................... alpha=1.8420699693267164, total=   0.0s\n",
      "[CV] alpha=2.329951810515372 .........................................\n"
     ]
    },
    {
     "name": "stdout",
     "output_type": "stream",
     "text": [
      "[CV] .......................... alpha=2.329951810515372, total=   0.0s\n",
      "[CV] alpha=2.329951810515372 .........................................\n",
      "[CV] .......................... alpha=2.329951810515372, total=   0.0s\n",
      "[CV] alpha=2.329951810515372 .........................................\n",
      "[CV] .......................... alpha=2.329951810515372, total=   0.0s\n",
      "[CV] alpha=2.329951810515372 .........................................\n",
      "[CV] .......................... alpha=2.329951810515372, total=   0.0s\n",
      "[CV] alpha=2.329951810515372 .........................................\n",
      "[CV] .......................... alpha=2.329951810515372, total=   0.0s\n",
      "[CV] alpha=2.329951810515372 .........................................\n",
      "[CV] .......................... alpha=2.329951810515372, total=   0.0s\n",
      "[CV] alpha=2.329951810515372 .........................................\n",
      "[CV] .......................... alpha=2.329951810515372, total=   0.0s\n",
      "[CV] alpha=2.329951810515372 .........................................\n",
      "[CV] .......................... alpha=2.329951810515372, total=   0.0s\n",
      "[CV] alpha=2.329951810515372 .........................................\n",
      "[CV] .......................... alpha=2.329951810515372, total=   0.0s\n",
      "[CV] alpha=2.329951810515372 .........................................\n",
      "[CV] .......................... alpha=2.329951810515372, total=   0.0s\n",
      "[CV] alpha=2.9470517025518097 ........................................\n",
      "[CV] ......................... alpha=2.9470517025518097, total=   0.0s\n",
      "[CV] alpha=2.9470517025518097 ........................................\n",
      "[CV] ......................... alpha=2.9470517025518097, total=   0.0s\n",
      "[CV] alpha=2.9470517025518097 ........................................\n",
      "[CV] ......................... alpha=2.9470517025518097, total=   0.0s\n",
      "[CV] alpha=2.9470517025518097 ........................................\n",
      "[CV] ......................... alpha=2.9470517025518097, total=   0.0s\n",
      "[CV] alpha=2.9470517025518097 ........................................\n",
      "[CV] ......................... alpha=2.9470517025518097, total=   0.0s\n",
      "[CV] alpha=2.9470517025518097 ........................................\n",
      "[CV] ......................... alpha=2.9470517025518097, total=   0.0s\n",
      "[CV] alpha=2.9470517025518097 ........................................\n",
      "[CV] ......................... alpha=2.9470517025518097, total=   0.0s\n",
      "[CV] alpha=2.9470517025518097 ........................................\n",
      "[CV] ......................... alpha=2.9470517025518097, total=   0.0s\n",
      "[CV] alpha=2.9470517025518097 ........................................\n",
      "[CV] ......................... alpha=2.9470517025518097, total=   0.0s\n",
      "[CV] alpha=2.9470517025518097 ........................................\n",
      "[CV] ......................... alpha=2.9470517025518097, total=   0.0s\n",
      "[CV] alpha=3.7275937203149416 ........................................\n",
      "[CV] ......................... alpha=3.7275937203149416, total=   0.0s\n",
      "[CV] alpha=3.7275937203149416 ........................................\n",
      "[CV] ......................... alpha=3.7275937203149416, total=   0.0s\n",
      "[CV] alpha=3.7275937203149416 ........................................\n",
      "[CV] ......................... alpha=3.7275937203149416, total=   0.0s\n",
      "[CV] alpha=3.7275937203149416 ........................................\n",
      "[CV] ......................... alpha=3.7275937203149416, total=   0.0s\n",
      "[CV] alpha=3.7275937203149416 ........................................\n",
      "[CV] ......................... alpha=3.7275937203149416, total=   0.0s\n",
      "[CV] alpha=3.7275937203149416 ........................................\n",
      "[CV] ......................... alpha=3.7275937203149416, total=   0.0s\n",
      "[CV] alpha=3.7275937203149416 ........................................\n",
      "[CV] ......................... alpha=3.7275937203149416, total=   0.0s\n",
      "[CV] alpha=3.7275937203149416 ........................................\n",
      "[CV] ......................... alpha=3.7275937203149416, total=   0.0s\n",
      "[CV] alpha=3.7275937203149416 ........................................\n",
      "[CV] ......................... alpha=3.7275937203149416, total=   0.0s\n",
      "[CV] alpha=3.7275937203149416 ........................................\n",
      "[CV] ......................... alpha=3.7275937203149416, total=   0.0s\n",
      "[CV] alpha=4.714866363457395 .........................................\n",
      "[CV] .......................... alpha=4.714866363457395, total=   0.0s\n",
      "[CV] alpha=4.714866363457395 .........................................\n",
      "[CV] .......................... alpha=4.714866363457395, total=   0.0s\n",
      "[CV] alpha=4.714866363457395 .........................................\n",
      "[CV] .......................... alpha=4.714866363457395, total=   0.0s\n",
      "[CV] alpha=4.714866363457395 .........................................\n",
      "[CV] .......................... alpha=4.714866363457395, total=   0.0s\n",
      "[CV] alpha=4.714866363457395 .........................................\n",
      "[CV] .......................... alpha=4.714866363457395, total=   0.0s\n",
      "[CV] alpha=4.714866363457395 .........................................\n",
      "[CV] .......................... alpha=4.714866363457395, total=   0.0s\n",
      "[CV] alpha=4.714866363457395 .........................................\n",
      "[CV] .......................... alpha=4.714866363457395, total=   0.0s\n",
      "[CV] alpha=4.714866363457395 .........................................\n",
      "[CV] .......................... alpha=4.714866363457395, total=   0.0s\n",
      "[CV] alpha=4.714866363457395 .........................................\n",
      "[CV] .......................... alpha=4.714866363457395, total=   0.0s\n",
      "[CV] alpha=4.714866363457395 .........................................\n",
      "[CV] .......................... alpha=4.714866363457395, total=   0.0s\n",
      "[CV] alpha=5.963623316594643 .........................................\n",
      "[CV] .......................... alpha=5.963623316594643, total=   0.0s\n",
      "[CV] alpha=5.963623316594643 .........................................\n",
      "[CV] .......................... alpha=5.963623316594643, total=   0.0s\n",
      "[CV] alpha=5.963623316594643 .........................................\n",
      "[CV] .......................... alpha=5.963623316594643, total=   0.0s\n",
      "[CV] alpha=5.963623316594643 .........................................\n",
      "[CV] .......................... alpha=5.963623316594643, total=   0.0s\n",
      "[CV] alpha=5.963623316594643 .........................................\n",
      "[CV] .......................... alpha=5.963623316594643, total=   0.0s\n",
      "[CV] alpha=5.963623316594643 .........................................\n",
      "[CV] .......................... alpha=5.963623316594643, total=   0.0s\n",
      "[CV] alpha=5.963623316594643 .........................................\n",
      "[CV] .......................... alpha=5.963623316594643, total=   0.0s\n",
      "[CV] alpha=5.963623316594643 .........................................\n",
      "[CV] .......................... alpha=5.963623316594643, total=   0.0s\n",
      "[CV] alpha=5.963623316594643 .........................................\n",
      "[CV] .......................... alpha=5.963623316594643, total=   0.0s\n",
      "[CV] alpha=5.963623316594643 .........................................\n",
      "[CV] .......................... alpha=5.963623316594643, total=   0.0s\n",
      "[CV] alpha=7.543120063354623 .........................................\n",
      "[CV] .......................... alpha=7.543120063354623, total=   0.0s\n",
      "[CV] alpha=7.543120063354623 .........................................\n",
      "[CV] .......................... alpha=7.543120063354623, total=   0.0s\n",
      "[CV] alpha=7.543120063354623 .........................................\n",
      "[CV] .......................... alpha=7.543120063354623, total=   0.0s\n",
      "[CV] alpha=7.543120063354623 .........................................\n",
      "[CV] .......................... alpha=7.543120063354623, total=   0.0s\n",
      "[CV] alpha=7.543120063354623 .........................................\n",
      "[CV] .......................... alpha=7.543120063354623, total=   0.0s\n",
      "[CV] alpha=7.543120063354623 .........................................\n",
      "[CV] .......................... alpha=7.543120063354623, total=   0.0s\n",
      "[CV] alpha=7.543120063354623 .........................................\n",
      "[CV] .......................... alpha=7.543120063354623, total=   0.0s\n",
      "[CV] alpha=7.543120063354623 .........................................\n",
      "[CV] .......................... alpha=7.543120063354623, total=   0.0s\n",
      "[CV] alpha=7.543120063354623 .........................................\n",
      "[CV] .......................... alpha=7.543120063354623, total=   0.0s\n",
      "[CV] alpha=7.543120063354623 .........................................\n",
      "[CV] .......................... alpha=7.543120063354623, total=   0.0s\n",
      "[CV] alpha=9.540954763499943 .........................................\n"
     ]
    },
    {
     "name": "stdout",
     "output_type": "stream",
     "text": [
      "[CV] .......................... alpha=9.540954763499943, total=   0.0s\n",
      "[CV] alpha=9.540954763499943 .........................................\n",
      "[CV] .......................... alpha=9.540954763499943, total=   0.0s\n",
      "[CV] alpha=9.540954763499943 .........................................\n",
      "[CV] .......................... alpha=9.540954763499943, total=   0.0s\n",
      "[CV] alpha=9.540954763499943 .........................................\n",
      "[CV] .......................... alpha=9.540954763499943, total=   0.0s\n",
      "[CV] alpha=9.540954763499943 .........................................\n",
      "[CV] .......................... alpha=9.540954763499943, total=   0.0s\n",
      "[CV] alpha=9.540954763499943 .........................................\n",
      "[CV] .......................... alpha=9.540954763499943, total=   0.0s\n",
      "[CV] alpha=9.540954763499943 .........................................\n",
      "[CV] .......................... alpha=9.540954763499943, total=   0.0s\n",
      "[CV] alpha=9.540954763499943 .........................................\n",
      "[CV] .......................... alpha=9.540954763499943, total=   0.0s\n",
      "[CV] alpha=9.540954763499943 .........................................\n",
      "[CV] .......................... alpha=9.540954763499943, total=   0.0s\n",
      "[CV] alpha=9.540954763499943 .........................................\n",
      "[CV] .......................... alpha=9.540954763499943, total=   0.0s\n",
      "[CV] alpha=12.067926406393289 ........................................\n",
      "[CV] ......................... alpha=12.067926406393289, total=   0.0s\n",
      "[CV] alpha=12.067926406393289 ........................................\n",
      "[CV] ......................... alpha=12.067926406393289, total=   0.0s\n",
      "[CV] alpha=12.067926406393289 ........................................\n",
      "[CV] ......................... alpha=12.067926406393289, total=   0.0s\n",
      "[CV] alpha=12.067926406393289 ........................................\n",
      "[CV] ......................... alpha=12.067926406393289, total=   0.0s\n",
      "[CV] alpha=12.067926406393289 ........................................\n",
      "[CV] ......................... alpha=12.067926406393289, total=   0.0s\n",
      "[CV] alpha=12.067926406393289 ........................................\n",
      "[CV] ......................... alpha=12.067926406393289, total=   0.0s\n",
      "[CV] alpha=12.067926406393289 ........................................\n",
      "[CV] ......................... alpha=12.067926406393289, total=   0.0s\n",
      "[CV] alpha=12.067926406393289 ........................................\n",
      "[CV] ......................... alpha=12.067926406393289, total=   0.0s\n",
      "[CV] alpha=12.067926406393289 ........................................\n",
      "[CV] ......................... alpha=12.067926406393289, total=   0.0s\n",
      "[CV] alpha=12.067926406393289 ........................................\n",
      "[CV] ......................... alpha=12.067926406393289, total=   0.0s\n",
      "[CV] alpha=15.264179671752334 ........................................\n",
      "[CV] ......................... alpha=15.264179671752334, total=   0.0s\n",
      "[CV] alpha=15.264179671752334 ........................................\n",
      "[CV] ......................... alpha=15.264179671752334, total=   0.0s\n",
      "[CV] alpha=15.264179671752334 ........................................\n",
      "[CV] ......................... alpha=15.264179671752334, total=   0.0s\n",
      "[CV] alpha=15.264179671752334 ........................................\n",
      "[CV] ......................... alpha=15.264179671752334, total=   0.0s\n",
      "[CV] alpha=15.264179671752334 ........................................\n",
      "[CV] ......................... alpha=15.264179671752334, total=   0.0s\n",
      "[CV] alpha=15.264179671752334 ........................................\n",
      "[CV] ......................... alpha=15.264179671752334, total=   0.0s\n",
      "[CV] alpha=15.264179671752334 ........................................\n",
      "[CV] ......................... alpha=15.264179671752334, total=   0.0s\n",
      "[CV] alpha=15.264179671752334 ........................................\n",
      "[CV] ......................... alpha=15.264179671752334, total=   0.0s\n",
      "[CV] alpha=15.264179671752334 ........................................\n",
      "[CV] ......................... alpha=15.264179671752334, total=   0.0s\n",
      "[CV] alpha=15.264179671752334 ........................................\n",
      "[CV] ......................... alpha=15.264179671752334, total=   0.0s\n",
      "[CV] alpha=19.306977288832496 ........................................\n",
      "[CV] ......................... alpha=19.306977288832496, total=   0.0s\n",
      "[CV] alpha=19.306977288832496 ........................................\n",
      "[CV] ......................... alpha=19.306977288832496, total=   0.0s\n",
      "[CV] alpha=19.306977288832496 ........................................\n",
      "[CV] ......................... alpha=19.306977288832496, total=   0.0s\n",
      "[CV] alpha=19.306977288832496 ........................................\n",
      "[CV] ......................... alpha=19.306977288832496, total=   0.0s\n",
      "[CV] alpha=19.306977288832496 ........................................\n",
      "[CV] ......................... alpha=19.306977288832496, total=   0.0s\n",
      "[CV] alpha=19.306977288832496 ........................................\n",
      "[CV] ......................... alpha=19.306977288832496, total=   0.0s\n",
      "[CV] alpha=19.306977288832496 ........................................\n",
      "[CV] ......................... alpha=19.306977288832496, total=   0.0s\n",
      "[CV] alpha=19.306977288832496 ........................................\n",
      "[CV] ......................... alpha=19.306977288832496, total=   0.0s\n",
      "[CV] alpha=19.306977288832496 ........................................\n",
      "[CV] ......................... alpha=19.306977288832496, total=   0.0s\n",
      "[CV] alpha=19.306977288832496 ........................................\n",
      "[CV] ......................... alpha=19.306977288832496, total=   0.0s\n",
      "[CV] alpha=24.420530945486497 ........................................\n",
      "[CV] ......................... alpha=24.420530945486497, total=   0.0s\n",
      "[CV] alpha=24.420530945486497 ........................................\n",
      "[CV] ......................... alpha=24.420530945486497, total=   0.0s\n",
      "[CV] alpha=24.420530945486497 ........................................\n",
      "[CV] ......................... alpha=24.420530945486497, total=   0.0s\n",
      "[CV] alpha=24.420530945486497 ........................................\n",
      "[CV] ......................... alpha=24.420530945486497, total=   0.0s\n",
      "[CV] alpha=24.420530945486497 ........................................\n",
      "[CV] ......................... alpha=24.420530945486497, total=   0.0s\n",
      "[CV] alpha=24.420530945486497 ........................................\n",
      "[CV] ......................... alpha=24.420530945486497, total=   0.0s\n",
      "[CV] alpha=24.420530945486497 ........................................\n",
      "[CV] ......................... alpha=24.420530945486497, total=   0.0s\n",
      "[CV] alpha=24.420530945486497 ........................................\n",
      "[CV] ......................... alpha=24.420530945486497, total=   0.0s\n",
      "[CV] alpha=24.420530945486497 ........................................\n",
      "[CV] ......................... alpha=24.420530945486497, total=   0.0s\n",
      "[CV] alpha=24.420530945486497 ........................................\n",
      "[CV] ......................... alpha=24.420530945486497, total=   0.0s\n",
      "[CV] alpha=30.88843596477485 .........................................\n",
      "[CV] .......................... alpha=30.88843596477485, total=   0.0s\n",
      "[CV] alpha=30.88843596477485 .........................................\n",
      "[CV] .......................... alpha=30.88843596477485, total=   0.0s\n",
      "[CV] alpha=30.88843596477485 .........................................\n",
      "[CV] .......................... alpha=30.88843596477485, total=   0.0s\n",
      "[CV] alpha=30.88843596477485 .........................................\n",
      "[CV] .......................... alpha=30.88843596477485, total=   0.0s\n",
      "[CV] alpha=30.88843596477485 .........................................\n",
      "[CV] .......................... alpha=30.88843596477485, total=   0.0s\n",
      "[CV] alpha=30.88843596477485 .........................................\n",
      "[CV] .......................... alpha=30.88843596477485, total=   0.0s\n",
      "[CV] alpha=30.88843596477485 .........................................\n",
      "[CV] .......................... alpha=30.88843596477485, total=   0.0s\n",
      "[CV] alpha=30.88843596477485 .........................................\n",
      "[CV] .......................... alpha=30.88843596477485, total=   0.0s\n",
      "[CV] alpha=30.88843596477485 .........................................\n",
      "[CV] .......................... alpha=30.88843596477485, total=   0.0s\n",
      "[CV] alpha=30.88843596477485 .........................................\n",
      "[CV] .......................... alpha=30.88843596477485, total=   0.0s\n",
      "[CV] alpha=39.06939937054621 .........................................\n"
     ]
    },
    {
     "name": "stdout",
     "output_type": "stream",
     "text": [
      "[CV] .......................... alpha=39.06939937054621, total=   0.0s\n",
      "[CV] alpha=39.06939937054621 .........................................\n",
      "[CV] .......................... alpha=39.06939937054621, total=   0.0s\n",
      "[CV] alpha=39.06939937054621 .........................................\n",
      "[CV] .......................... alpha=39.06939937054621, total=   0.0s\n",
      "[CV] alpha=39.06939937054621 .........................................\n",
      "[CV] .......................... alpha=39.06939937054621, total=   0.0s\n",
      "[CV] alpha=39.06939937054621 .........................................\n",
      "[CV] .......................... alpha=39.06939937054621, total=   0.0s\n",
      "[CV] alpha=39.06939937054621 .........................................\n",
      "[CV] .......................... alpha=39.06939937054621, total=   0.0s\n",
      "[CV] alpha=39.06939937054621 .........................................\n",
      "[CV] .......................... alpha=39.06939937054621, total=   0.0s\n",
      "[CV] alpha=39.06939937054621 .........................................\n",
      "[CV] .......................... alpha=39.06939937054621, total=   0.0s\n",
      "[CV] alpha=39.06939937054621 .........................................\n",
      "[CV] .......................... alpha=39.06939937054621, total=   0.0s\n",
      "[CV] alpha=39.06939937054621 .........................................\n",
      "[CV] .......................... alpha=39.06939937054621, total=   0.0s\n",
      "[CV] alpha=49.417133613238384 ........................................\n",
      "[CV] ......................... alpha=49.417133613238384, total=   0.0s\n",
      "[CV] alpha=49.417133613238384 ........................................\n",
      "[CV] ......................... alpha=49.417133613238384, total=   0.0s\n",
      "[CV] alpha=49.417133613238384 ........................................\n",
      "[CV] ......................... alpha=49.417133613238384, total=   0.0s\n",
      "[CV] alpha=49.417133613238384 ........................................\n",
      "[CV] ......................... alpha=49.417133613238384, total=   0.0s\n",
      "[CV] alpha=49.417133613238384 ........................................\n",
      "[CV] ......................... alpha=49.417133613238384, total=   0.0s\n",
      "[CV] alpha=49.417133613238384 ........................................\n",
      "[CV] ......................... alpha=49.417133613238384, total=   0.0s\n",
      "[CV] alpha=49.417133613238384 ........................................\n",
      "[CV] ......................... alpha=49.417133613238384, total=   0.0s\n",
      "[CV] alpha=49.417133613238384 ........................................\n",
      "[CV] ......................... alpha=49.417133613238384, total=   0.0s\n",
      "[CV] alpha=49.417133613238384 ........................................\n",
      "[CV] ......................... alpha=49.417133613238384, total=   0.0s\n",
      "[CV] alpha=49.417133613238384 ........................................\n",
      "[CV] ......................... alpha=49.417133613238384, total=   0.0s\n",
      "[CV] alpha=62.50551925273976 .........................................\n",
      "[CV] .......................... alpha=62.50551925273976, total=   0.0s\n",
      "[CV] alpha=62.50551925273976 .........................................\n",
      "[CV] .......................... alpha=62.50551925273976, total=   0.0s\n",
      "[CV] alpha=62.50551925273976 .........................................\n",
      "[CV] .......................... alpha=62.50551925273976, total=   0.0s\n",
      "[CV] alpha=62.50551925273976 .........................................\n",
      "[CV] .......................... alpha=62.50551925273976, total=   0.0s\n",
      "[CV] alpha=62.50551925273976 .........................................\n",
      "[CV] .......................... alpha=62.50551925273976, total=   0.0s\n",
      "[CV] alpha=62.50551925273976 .........................................\n",
      "[CV] .......................... alpha=62.50551925273976, total=   0.0s\n",
      "[CV] alpha=62.50551925273976 .........................................\n",
      "[CV] .......................... alpha=62.50551925273976, total=   0.0s\n",
      "[CV] alpha=62.50551925273976 .........................................\n",
      "[CV] .......................... alpha=62.50551925273976, total=   0.0s\n",
      "[CV] alpha=62.50551925273976 .........................................\n",
      "[CV] .......................... alpha=62.50551925273976, total=   0.0s\n",
      "[CV] alpha=62.50551925273976 .........................................\n",
      "[CV] .......................... alpha=62.50551925273976, total=   0.0s\n",
      "[CV] alpha=79.06043210907701 .........................................\n",
      "[CV] .......................... alpha=79.06043210907701, total=   0.0s\n",
      "[CV] alpha=79.06043210907701 .........................................\n",
      "[CV] .......................... alpha=79.06043210907701, total=   0.0s\n",
      "[CV] alpha=79.06043210907701 .........................................\n",
      "[CV] .......................... alpha=79.06043210907701, total=   0.0s\n",
      "[CV] alpha=79.06043210907701 .........................................\n",
      "[CV] .......................... alpha=79.06043210907701, total=   0.0s\n",
      "[CV] alpha=79.06043210907701 .........................................\n",
      "[CV] .......................... alpha=79.06043210907701, total=   0.0s\n",
      "[CV] alpha=79.06043210907701 .........................................\n",
      "[CV] .......................... alpha=79.06043210907701, total=   0.0s\n",
      "[CV] alpha=79.06043210907701 .........................................\n",
      "[CV] .......................... alpha=79.06043210907701, total=   0.0s\n",
      "[CV] alpha=79.06043210907701 .........................................\n",
      "[CV] .......................... alpha=79.06043210907701, total=   0.0s\n",
      "[CV] alpha=79.06043210907701 .........................................\n",
      "[CV] .......................... alpha=79.06043210907701, total=   0.0s\n",
      "[CV] alpha=79.06043210907701 .........................................\n",
      "[CV] .......................... alpha=79.06043210907701, total=   0.0s\n",
      "[CV] alpha=100.0 .....................................................\n",
      "[CV] ...................................... alpha=100.0, total=   0.0s\n",
      "[CV] alpha=100.0 .....................................................\n",
      "[CV] ...................................... alpha=100.0, total=   0.0s\n",
      "[CV] alpha=100.0 .....................................................\n",
      "[CV] ...................................... alpha=100.0, total=   0.0s\n",
      "[CV] alpha=100.0 .....................................................\n",
      "[CV] ...................................... alpha=100.0, total=   0.0s\n",
      "[CV] alpha=100.0 .....................................................\n",
      "[CV] ...................................... alpha=100.0, total=   0.0s\n",
      "[CV] alpha=100.0 .....................................................\n",
      "[CV] ...................................... alpha=100.0, total=   0.0s\n",
      "[CV] alpha=100.0 .....................................................\n",
      "[CV] ...................................... alpha=100.0, total=   0.0s\n",
      "[CV] alpha=100.0 .....................................................\n",
      "[CV] ...................................... alpha=100.0, total=   0.0s\n",
      "[CV] alpha=100.0 .....................................................\n",
      "[CV] ...................................... alpha=100.0, total=   0.0s\n",
      "[CV] alpha=100.0 .....................................................\n",
      "[CV] ...................................... alpha=100.0, total=   0.0s\n",
      "CPU times: user 40.9 s, sys: 6.41 s, total: 47.3 s\n",
      "Wall time: 7.16 s\n"
     ]
    },
    {
     "name": "stderr",
     "output_type": "stream",
     "text": [
      "[Parallel(n_jobs=1)]: Done 500 out of 500 | elapsed:    7.2s finished\n"
     ]
    },
    {
     "data": {
      "text/plain": [
       "GridSearchCV(cv=10, error_score='raise-deprecating',\n",
       "       estimator=Ridge(alpha=1.0, copy_X=True, fit_intercept=True, max_iter=None,\n",
       "   normalize=False, random_state=None, solver='auto', tol=0.001),\n",
       "       fit_params=None, iid='warn', n_jobs=None,\n",
       "       param_grid={'alpha': array([  0.001  ,   0.00126,   0.0016 ,   0.00202,   0.00256,   0.00324,\n",
       "         0.00409,   0.00518,   0.00655,   0.00829,   0.01048,   0.01326,\n",
       "         0.01677,   0.02121,   0.02683,   0.03393,   0.04292,   0.05429,\n",
       "         0.06866,   0.08685,   0.10985,   0.13895,   0.17575...     19.30698,  24.42053,  30.88844,  39.0694 ,  49.41713,  62.50552,\n",
       "        79.06043, 100.     ])},\n",
       "       pre_dispatch='2*n_jobs', refit=True, return_train_score='warn',\n",
       "       scoring='neg_mean_squared_error', verbose=2)"
      ]
     },
     "execution_count": 41,
     "metadata": {},
     "output_type": "execute_result"
    }
   ],
   "source": [
    "%%time\n",
    "grid.fit(X_train, y_train)"
   ]
  },
  {
   "cell_type": "code",
   "execution_count": 42,
   "metadata": {},
   "outputs": [
    {
     "data": {
      "text/plain": [
       "Ridge(alpha=15.264179671752334, copy_X=True, fit_intercept=True,\n",
       "   max_iter=None, normalize=False, random_state=None, solver='auto',\n",
       "   tol=0.001)"
      ]
     },
     "execution_count": 42,
     "metadata": {},
     "output_type": "execute_result"
    }
   ],
   "source": [
    "grid.best_estimator_"
   ]
  },
  {
   "cell_type": "code",
   "execution_count": 43,
   "metadata": {},
   "outputs": [
    {
     "data": {
      "text/plain": [
       "-0.019678891497701724"
      ]
     },
     "execution_count": 43,
     "metadata": {},
     "output_type": "execute_result"
    }
   ],
   "source": [
    "grid.best_score_"
   ]
  },
  {
   "cell_type": "code",
   "execution_count": 44,
   "metadata": {},
   "outputs": [
    {
     "data": {
      "text/plain": [
       "{'alpha': 15.264179671752334}"
      ]
     },
     "execution_count": 44,
     "metadata": {},
     "output_type": "execute_result"
    }
   ],
   "source": [
    "grid.best_params_"
   ]
  },
  {
   "cell_type": "markdown",
   "metadata": {},
   "source": [
    "还可以用交叉验证试试看。"
   ]
  },
  {
   "cell_type": "code",
   "execution_count": 45,
   "metadata": {
    "collapsed": true
   },
   "outputs": [],
   "source": [
    "from sklearn.model_selection import cross_val_score\n",
    "\n",
    "alphas = np.logspace(-3, 2, 50)\n",
    "scores = []"
   ]
  },
  {
   "cell_type": "code",
   "execution_count": 47,
   "metadata": {},
   "outputs": [
    {
     "name": "stdout",
     "output_type": "stream",
     "text": [
      "CPU times: user 33.1 s, sys: 4.44 s, total: 37.6 s\n",
      "Wall time: 5.65 s\n"
     ]
    }
   ],
   "source": [
    "%%time\n",
    "for alpha in alphas:\n",
    "    ridge = Ridge(alpha)\n",
    "    score = np.sqrt(-cross_val_score(\n",
    "        ridge, X_train, y_train, cv=10, scoring='neg_mean_squared_error'))\n",
    "    scores.append(np.mean(score))"
   ]
  },
  {
   "cell_type": "markdown",
   "metadata": {},
   "source": [
    "绘图观察最佳超参数的值。"
   ]
  },
  {
   "cell_type": "code",
   "execution_count": 48,
   "metadata": {},
   "outputs": [
    {
     "name": "stderr",
     "output_type": "stream",
     "text": [
      "/Users/liwei/anaconda3/envs/ipykernel_py3/lib/python3.6/site-packages/matplotlib/font_manager.py:1241: UserWarning: findfont: Font family ['STHeiti'] not found. Falling back to DejaVu Sans.\n",
      "  (prop.get_family(), self.defaultFamily[fontext]))\n"
     ]
    },
    {
     "data": {
      "image/png": "[encoded data removed]",
      "text/plain": [
       "<Figure size 432x288 with 1 Axes>"
      ]
     },
     "metadata": {
      "image/png": {
       "height": 263,
       "width": 393
      },
      "needs_background": "light"
     },
     "output_type": "display_data"
    }
   ],
   "source": [
    "plt.plot(alphas, scores)\n",
    "plt.title(\"Alpha vs CV Error\")\n",
    "plt.show()"
   ]
  },
  {
   "cell_type": "markdown",
   "metadata": {},
   "source": [
    "最低点确实在 15 附近。"
   ]
  },
  {
   "cell_type": "markdown",
   "metadata": {},
   "source": [
    "### 使用随机森林回归"
   ]
  },
  {
   "cell_type": "code",
   "execution_count": 49,
   "metadata": {
    "collapsed": true
   },
   "outputs": [],
   "source": [
    "from sklearn.ensemble import RandomForestRegressor\n",
    "\n",
    "rfr = RandomForestRegressor(n_estimators=500)"
   ]
  },
  {
   "cell_type": "code",
   "execution_count": 50,
   "metadata": {
    "collapsed": true
   },
   "outputs": [],
   "source": [
    "parameters = {'max_features': [.1, .3, .5, .7, .9, .99]}\n",
    "\n",
    "grid_rfr = GridSearchCV(\n",
    "    rfr, parameters, cv=10, scoring='neg_mean_squared_error', verbose=2)"
   ]
  },
  {
   "cell_type": "code",
   "execution_count": 51,
   "metadata": {},
   "outputs": [
    {
     "name": "stdout",
     "output_type": "stream",
     "text": [
      "Fitting 10 folds for each of 6 candidates, totalling 60 fits\n",
      "[CV] max_features=0.1 ................................................\n"
     ]
    },
    {
     "name": "stderr",
     "output_type": "stream",
     "text": [
      "[Parallel(n_jobs=1)]: Using backend SequentialBackend with 1 concurrent workers.\n"
     ]
    },
    {
     "name": "stdout",
     "output_type": "stream",
     "text": [
      "[CV] ................................. max_features=0.1, total=   2.3s\n",
      "[CV] max_features=0.1 ................................................\n"
     ]
    },
    {
     "name": "stderr",
     "output_type": "stream",
     "text": [
      "[Parallel(n_jobs=1)]: Done   1 out of   1 | elapsed:    2.4s remaining:    0.0s\n"
     ]
    },
    {
     "name": "stdout",
     "output_type": "stream",
     "text": [
      "[CV] ................................. max_features=0.1, total=   2.2s\n",
      "[CV] max_features=0.1 ................................................\n",
      "[CV] ................................. max_features=0.1, total=   2.2s\n",
      "[CV] max_features=0.1 ................................................\n",
      "[CV] ................................. max_features=0.1, total=   2.2s\n",
      "[CV] max_features=0.1 ................................................\n",
      "[CV] ................................. max_features=0.1, total=   2.2s\n",
      "[CV] max_features=0.1 ................................................\n",
      "[CV] ................................. max_features=0.1, total=   2.2s\n",
      "[CV] max_features=0.1 ................................................\n",
      "[CV] ................................. max_features=0.1, total=   2.2s\n",
      "[CV] max_features=0.1 ................................................\n",
      "[CV] ................................. max_features=0.1, total=   2.2s\n",
      "[CV] max_features=0.1 ................................................\n",
      "[CV] ................................. max_features=0.1, total=   2.3s\n",
      "[CV] max_features=0.1 ................................................\n",
      "[CV] ................................. max_features=0.1, total=   2.2s\n",
      "[CV] max_features=0.3 ................................................\n",
      "[CV] ................................. max_features=0.3, total=   4.9s\n",
      "[CV] max_features=0.3 ................................................\n",
      "[CV] ................................. max_features=0.3, total=   4.9s\n",
      "[CV] max_features=0.3 ................................................\n",
      "[CV] ................................. max_features=0.3, total=   4.9s\n",
      "[CV] max_features=0.3 ................................................\n",
      "[CV] ................................. max_features=0.3, total=   4.9s\n",
      "[CV] max_features=0.3 ................................................\n",
      "[CV] ................................. max_features=0.3, total=   4.9s\n",
      "[CV] max_features=0.3 ................................................\n",
      "[CV] ................................. max_features=0.3, total=   4.9s\n",
      "[CV] max_features=0.3 ................................................\n",
      "[CV] ................................. max_features=0.3, total=   4.9s\n",
      "[CV] max_features=0.3 ................................................\n",
      "[CV] ................................. max_features=0.3, total=   4.8s\n",
      "[CV] max_features=0.3 ................................................\n",
      "[CV] ................................. max_features=0.3, total=   4.9s\n",
      "[CV] max_features=0.3 ................................................\n",
      "[CV] ................................. max_features=0.3, total=   4.8s\n",
      "[CV] max_features=0.5 ................................................\n",
      "[CV] ................................. max_features=0.5, total=   7.3s\n",
      "[CV] max_features=0.5 ................................................\n",
      "[CV] ................................. max_features=0.5, total=   7.4s\n",
      "[CV] max_features=0.5 ................................................\n",
      "[CV] ................................. max_features=0.5, total=   7.4s\n",
      "[CV] max_features=0.5 ................................................\n",
      "[CV] ................................. max_features=0.5, total=   7.2s\n",
      "[CV] max_features=0.5 ................................................\n",
      "[CV] ................................. max_features=0.5, total=   7.2s\n",
      "[CV] max_features=0.5 ................................................\n",
      "[CV] ................................. max_features=0.5, total=   7.2s\n",
      "[CV] max_features=0.5 ................................................\n",
      "[CV] ................................. max_features=0.5, total=   7.2s\n",
      "[CV] max_features=0.5 ................................................\n",
      "[CV] ................................. max_features=0.5, total=   7.2s\n",
      "[CV] max_features=0.5 ................................................\n",
      "[CV] ................................. max_features=0.5, total=   7.1s\n",
      "[CV] max_features=0.5 ................................................\n",
      "[CV] ................................. max_features=0.5, total=   7.2s\n",
      "[CV] max_features=0.7 ................................................\n",
      "[CV] ................................. max_features=0.7, total=   9.5s\n",
      "[CV] max_features=0.7 ................................................\n",
      "[CV] ................................. max_features=0.7, total=   9.5s\n",
      "[CV] max_features=0.7 ................................................\n",
      "[CV] ................................. max_features=0.7, total=   9.5s\n",
      "[CV] max_features=0.7 ................................................\n",
      "[CV] ................................. max_features=0.7, total=   9.5s\n",
      "[CV] max_features=0.7 ................................................\n",
      "[CV] ................................. max_features=0.7, total=   9.5s\n",
      "[CV] max_features=0.7 ................................................\n",
      "[CV] ................................. max_features=0.7, total=   9.5s\n",
      "[CV] max_features=0.7 ................................................\n",
      "[CV] ................................. max_features=0.7, total=   9.5s\n",
      "[CV] max_features=0.7 ................................................\n",
      "[CV] ................................. max_features=0.7, total=   9.5s\n",
      "[CV] max_features=0.7 ................................................\n",
      "[CV] ................................. max_features=0.7, total=   9.5s\n",
      "[CV] max_features=0.7 ................................................\n",
      "[CV] ................................. max_features=0.7, total=   9.5s\n",
      "[CV] max_features=0.9 ................................................\n",
      "[CV] ................................. max_features=0.9, total=  11.7s\n",
      "[CV] max_features=0.9 ................................................\n",
      "[CV] ................................. max_features=0.9, total=  23.8s\n",
      "[CV] max_features=0.9 ................................................\n",
      "[CV] ................................. max_features=0.9, total=  12.2s\n",
      "[CV] max_features=0.9 ................................................\n",
      "[CV] ................................. max_features=0.9, total=  12.0s\n",
      "[CV] max_features=0.9 ................................................\n",
      "[CV] ................................. max_features=0.9, total=  12.1s\n",
      "[CV] max_features=0.9 ................................................\n",
      "[CV] ................................. max_features=0.9, total=  12.0s\n",
      "[CV] max_features=0.9 ................................................\n",
      "[CV] ................................. max_features=0.9, total=  12.1s\n",
      "[CV] max_features=0.9 ................................................\n",
      "[CV] ................................. max_features=0.9, total=  12.0s\n",
      "[CV] max_features=0.9 ................................................\n",
      "[CV] ................................. max_features=0.9, total=  12.0s\n",
      "[CV] max_features=0.9 ................................................\n",
      "[CV] ................................. max_features=0.9, total=  12.0s\n",
      "[CV] max_features=0.99 ...............................................\n",
      "[CV] ................................ max_features=0.99, total=  12.9s\n",
      "[CV] max_features=0.99 ...............................................\n",
      "[CV] ................................ max_features=0.99, total=  13.0s\n",
      "[CV] max_features=0.99 ...............................................\n",
      "[CV] ................................ max_features=0.99, total=  13.1s\n",
      "[CV] max_features=0.99 ...............................................\n",
      "[CV] ................................ max_features=0.99, total=  12.9s\n",
      "[CV] max_features=0.99 ...............................................\n",
      "[CV] ................................ max_features=0.99, total=  12.8s\n",
      "[CV] max_features=0.99 ...............................................\n",
      "[CV] ................................ max_features=0.99, total=  12.8s\n",
      "[CV] max_features=0.99 ...............................................\n",
      "[CV] ................................ max_features=0.99, total=  12.8s\n",
      "[CV] max_features=0.99 ...............................................\n",
      "[CV] ................................ max_features=0.99, total=  12.8s\n",
      "[CV] max_features=0.99 ...............................................\n",
      "[CV] ................................ max_features=0.99, total=  12.8s\n",
      "[CV] max_features=0.99 ...............................................\n"
     ]
    },
    {
     "name": "stdout",
     "output_type": "stream",
     "text": [
      "[CV] ................................ max_features=0.99, total=  12.8s\n"
     ]
    },
    {
     "name": "stderr",
     "output_type": "stream",
     "text": [
      "[Parallel(n_jobs=1)]: Done  60 out of  60 | elapsed:  8.4min finished\n"
     ]
    },
    {
     "data": {
      "text/plain": [
       "GridSearchCV(cv=10, error_score='raise-deprecating',\n",
       "       estimator=RandomForestRegressor(bootstrap=True, criterion='mse', max_depth=None,\n",
       "           max_features='auto', max_leaf_nodes=None,\n",
       "           min_impurity_decrease=0.0, min_impurity_split=None,\n",
       "           min_samples_leaf=1, min_samples_split=2,\n",
       "           min_weight_fraction_leaf=0.0, n_estimators=500, n_jobs=None,\n",
       "           oob_score=False, random_state=None, verbose=0, warm_start=False),\n",
       "       fit_params=None, iid='warn', n_jobs=None,\n",
       "       param_grid={'max_features': [0.1, 0.3, 0.5, 0.7, 0.9, 0.99]},\n",
       "       pre_dispatch='2*n_jobs', refit=True, return_train_score='warn',\n",
       "       scoring='neg_mean_squared_error', verbose=2)"
      ]
     },
     "execution_count": 51,
     "metadata": {},
     "output_type": "execute_result"
    }
   ],
   "source": [
    "grid_rfr.fit(X_train, y_train)"
   ]
  },
  {
   "cell_type": "code",
   "execution_count": 53,
   "metadata": {},
   "outputs": [
    {
     "data": {
      "text/plain": [
       "RandomForestRegressor(bootstrap=True, criterion='mse', max_depth=None,\n",
       "           max_features=0.3, max_leaf_nodes=None,\n",
       "           min_impurity_decrease=0.0, min_impurity_split=None,\n",
       "           min_samples_leaf=1, min_samples_split=2,\n",
       "           min_weight_fraction_leaf=0.0, n_estimators=500, n_jobs=None,\n",
       "           oob_score=False, random_state=None, verbose=0, warm_start=False)"
      ]
     },
     "execution_count": 53,
     "metadata": {},
     "output_type": "execute_result"
    }
   ],
   "source": [
    "grid_rfr.best_estimator_"
   ]
  },
  {
   "cell_type": "code",
   "execution_count": 54,
   "metadata": {},
   "outputs": [
    {
     "data": {
      "text/plain": [
       "{'max_features': 0.3}"
      ]
     },
     "execution_count": 54,
     "metadata": {},
     "output_type": "execute_result"
    }
   ],
   "source": [
    "grid_rfr.best_params_"
   ]
  },
  {
   "cell_type": "code",
   "execution_count": 55,
   "metadata": {},
   "outputs": [
    {
     "data": {
      "text/plain": [
       "-0.018756494214390487"
      ]
     },
     "execution_count": 55,
     "metadata": {},
     "output_type": "execute_result"
    }
   ],
   "source": [
    "grid_rfr.best_score_"
   ]
  },
  {
   "cell_type": "markdown",
   "metadata": {},
   "source": [
    "使用交叉验证试试看。"
   ]
  },
  {
   "cell_type": "markdown",
   "metadata": {},
   "source": [
    "### AdaBoost 思想用于回归"
   ]
  },
  {
   "cell_type": "code",
   "execution_count": 58,
   "metadata": {},
   "outputs": [],
   "source": [
    "from sklearn.ensemble import AdaBoostRegressor\n",
    "\n",
    "abr = AdaBoostRegressor(base_estimator=Ridge(alpha= 15))\n",
    "params = {'n_estimators': [10, 15, 20, 25, 30, 35, 40, 45, 50]}\n",
    "\n",
    "grid_abr = GridSearchCV(\n",
    "    abr, params, cv=10, scoring='neg_mean_squared_error', verbose=1)"
   ]
  },
  {
   "cell_type": "code",
   "execution_count": 59,
   "metadata": {},
   "outputs": [
    {
     "name": "stdout",
     "output_type": "stream",
     "text": [
      "Fitting 10 folds for each of 9 candidates, totalling 90 fits\n"
     ]
    },
    {
     "name": "stderr",
     "output_type": "stream",
     "text": [
      "[Parallel(n_jobs=1)]: Using backend SequentialBackend with 1 concurrent workers.\n",
      "[Parallel(n_jobs=1)]: Done  90 out of  90 | elapsed:   22.8s finished\n"
     ]
    },
    {
     "data": {
      "text/plain": [
       "GridSearchCV(cv=10, error_score='raise-deprecating',\n",
       "       estimator=AdaBoostRegressor(base_estimator=Ridge(alpha=15, copy_X=True, fit_intercept=True, max_iter=None,\n",
       "   normalize=False, random_state=None, solver='auto', tol=0.001),\n",
       "         learning_rate=1.0, loss='linear', n_estimators=50,\n",
       "         random_state=None),\n",
       "       fit_params=None, iid='warn', n_jobs=None,\n",
       "       param_grid={'n_estimators': [10, 15, 20, 25, 30, 35, 40, 45, 50]},\n",
       "       pre_dispatch='2*n_jobs', refit=True, return_train_score='warn',\n",
       "       scoring='neg_mean_squared_error', verbose=1)"
      ]
     },
     "execution_count": 59,
     "metadata": {},
     "output_type": "execute_result"
    }
   ],
   "source": [
    "grid_abr.fit(X_train, y_train)"
   ]
  },
  {
   "cell_type": "code",
   "execution_count": 62,
   "metadata": {},
   "outputs": [
    {
     "data": {
      "text/plain": [
       "{'n_estimators': 10}"
      ]
     },
     "execution_count": 62,
     "metadata": {},
     "output_type": "execute_result"
    }
   ],
   "source": [
    "grid_abr.best_params_"
   ]
  },
  {
   "cell_type": "code",
   "execution_count": 61,
   "metadata": {},
   "outputs": [
    {
     "data": {
      "text/plain": [
       "-0.02323204300439075"
      ]
     },
     "execution_count": 61,
     "metadata": {},
     "output_type": "execute_result"
    }
   ],
   "source": [
    "grid_abr.best_score_"
   ]
  },
  {
   "cell_type": "markdown",
   "metadata": {},
   "source": [
    "效果不太好。"
   ]
  },
  {
   "cell_type": "markdown",
   "metadata": {},
   "source": [
    "### XGBoost"
   ]
  },
  {
   "cell_type": "code",
   "execution_count": 63,
   "metadata": {
    "collapsed": true
   },
   "outputs": [],
   "source": [
    "from xgboost import XGBRegressor\n",
    "\n",
    "xgbr = XGBRegressor(nthread=-1)"
   ]
  },
  {
   "cell_type": "markdown",
   "metadata": {},
   "source": [
    "参数列表来自 https://www.kaggle.com/omarito/gridsearchcv-xgbregressor-0-556-lb 。"
   ]
  },
  {
   "cell_type": "code",
   "execution_count": 65,
   "metadata": {
    "collapsed": true
   },
   "outputs": [],
   "source": [
    "# A parameter grid for XGBoost\n",
    "params = {\n",
    "    'min_child_weight': [4, 5],\n",
    "    'gamma': [i / 10.0 for i in range(3, 6)],\n",
    "    'subsample': [i / 10.0 for i in range(6, 11)],\n",
    "    'colsample_bytree': [i / 10.0 for i in range(6, 11)],\n",
    "    'max_depth': [2, 3, 4]\n",
    "}\n",
    "\n",
    "grid = GridSearchCV(\n",
    "    xgbr, params, cv=10, scoring='neg_mean_squared_error', verbose=1)"
   ]
  },
  {
   "cell_type": "code",
   "execution_count": 66,
   "metadata": {},
   "outputs": [
    {
     "name": "stdout",
     "output_type": "stream",
     "text": [
      "Fitting 10 folds for each of 450 candidates, totalling 4500 fits\n"
     ]
    },
    {
     "name": "stderr",
     "output_type": "stream",
     "text": [
      "[Parallel(n_jobs=1)]: Using backend SequentialBackend with 1 concurrent workers.\n",
      "[Parallel(n_jobs=1)]: Done 4500 out of 4500 | elapsed: 91.2min finished\n"
     ]
    },
    {
     "name": "stdout",
     "output_type": "stream",
     "text": [
      "CPU times: user 1h 6min 19s, sys: 12.3 s, total: 1h 6min 32s\n",
      "Wall time: 1h 31min 10s\n"
     ]
    },
    {
     "data": {
      "text/plain": [
       "GridSearchCV(cv=10, error_score='raise-deprecating',\n",
       "       estimator=XGBRegressor(base_score=0.5, booster='gbtree', colsample_bylevel=1,\n",
       "       colsample_bytree=1, gamma=0, learning_rate=0.1, max_delta_step=0,\n",
       "       max_depth=3, min_child_weight=1, missing=None, n_estimators=100,\n",
       "       n_jobs=1, nthread=-1, objective='reg:linear', random_state=0,\n",
       "       reg_alpha=0, reg_lambda=1, scale_pos_weight=1, seed=None,\n",
       "       silent=True, subsample=1),\n",
       "       fit_params=None, iid='warn', n_jobs=None,\n",
       "       param_grid={'min_child_weight': [4, 5], 'gamma': [0.3, 0.4, 0.5], 'subsample': [0.6, 0.7, 0.8, 0.9, 1.0], 'colsample_bytree': [0.6, 0.7, 0.8, 0.9, 1.0], 'max_depth': [2, 3, 4]},\n",
       "       pre_dispatch='2*n_jobs', refit=True, return_train_score='warn',\n",
       "       scoring='neg_mean_squared_error', verbose=1)"
      ]
     },
     "execution_count": 66,
     "metadata": {},
     "output_type": "execute_result"
    }
   ],
   "source": [
    "%%time\n",
    "grid.fit(X_train, y_train)"
   ]
  },
  {
   "cell_type": "code",
   "execution_count": 67,
   "metadata": {},
   "outputs": [
    {
     "data": {
      "text/plain": [
       "{'colsample_bytree': 0.7,\n",
       " 'gamma': 0.3,\n",
       " 'max_depth': 4,\n",
       " 'min_child_weight': 4,\n",
       " 'subsample': 0.8}"
      ]
     },
     "execution_count": 67,
     "metadata": {},
     "output_type": "execute_result"
    }
   ],
   "source": [
    "grid.best_params_"
   ]
  },
  {
   "cell_type": "code",
   "execution_count": 68,
   "metadata": {},
   "outputs": [
    {
     "data": {
      "text/plain": [
       "-0.01833594573652176"
      ]
     },
     "execution_count": 68,
     "metadata": {},
     "output_type": "execute_result"
    }
   ],
   "source": [
    "grid.best_score_"
   ]
  },
  {
   "cell_type": "code",
   "execution_count": 71,
   "metadata": {},
   "outputs": [],
   "source": [
    "y_pred = np.expm1(grid.best_estimator_.predict(X_test))"
   ]
  },
  {
   "cell_type": "code",
   "execution_count": 75,
   "metadata": {},
   "outputs": [],
   "source": [
    "res = pd.DataFrame({'ID':X_test.index,'SalePrice':y_pred})\n",
    "res.to_csv('xgbr-turning.csv',index=None)"
   ]
  },
  {
   "cell_type": "code",
   "execution_count": 76,
   "metadata": {
    "collapsed": true
   },
   "outputs": [],
   "source": [
    "xgbr = XGBRegressor()\n",
    "\n",
    "xgbr.fit(X_train, y_train)\n",
    "y_pred = np.expm1(xgbr.predict(X_test))\n",
    "res = pd.DataFrame({'ID':X_test.index,'SalePrice':y_pred})\n",
    "res.to_csv('xgbr.csv',index=None)"
   ]
  },
  {
   "cell_type": "code",
   "execution_count": null,
   "metadata": {
    "collapsed": true
   },
   "outputs": [],
   "source": []
  }
 ],
 "metadata": {
  "kernelspec": {
   "display_name": "Python 3",
   "language": "python",
   "name": "python3"
  },
  "language_info": {
   "codemirror_mode": {
    "name": "ipython",
    "version": 3
   },
   "file_extension": ".py",
   "mimetype": "text/x-python",
   "name": "python",
   "nbconvert_exporter": "python",
   "pygments_lexer": "ipython3",
   "version": "3.6.1"
  },
  "toc": {
   "nav_menu": {},
   "number_sections": true,
   "sideBar": true,
   "skip_h1_title": false,
   "toc_cell": false,
   "toc_position": {},
   "toc_section_display": "block",
   "toc_window_display": false
  }
 },
 "nbformat": 4,
 "nbformat_minor": 2
}
