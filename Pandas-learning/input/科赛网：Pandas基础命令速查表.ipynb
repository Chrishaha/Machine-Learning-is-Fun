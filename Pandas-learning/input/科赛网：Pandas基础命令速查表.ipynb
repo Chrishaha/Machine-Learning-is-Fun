{
 "cells": [
  {
   "cell_type": "markdown",
   "metadata": {},
   "source": [
    "# 创建测试对象\n",
    "\n",
    "参考资料：Pandas基础命令速查表\n",
    "https://www.kesci.com/home/project/59e389b54663f7655c48f518"
   ]
  },
  {
   "cell_type": "code",
   "execution_count": 2,
   "metadata": {},
   "outputs": [
    {
     "data": {
      "text/html": [
       "<div>\n",
       "<table border=\"1\" class=\"dataframe\">\n",
       "  <thead>\n",
       "    <tr style=\"text-align: right;\">\n",
       "      <th></th>\n",
       "      <th>0</th>\n",
       "      <th>1</th>\n",
       "      <th>2</th>\n",
       "      <th>3</th>\n",
       "      <th>4</th>\n",
       "    </tr>\n",
       "  </thead>\n",
       "  <tbody>\n",
       "    <tr>\n",
       "      <th>0</th>\n",
       "      <td>0.492040</td>\n",
       "      <td>0.999262</td>\n",
       "      <td>0.068336</td>\n",
       "      <td>0.455101</td>\n",
       "      <td>0.758681</td>\n",
       "    </tr>\n",
       "    <tr>\n",
       "      <th>1</th>\n",
       "      <td>0.028179</td>\n",
       "      <td>0.849519</td>\n",
       "      <td>0.755696</td>\n",
       "      <td>0.934344</td>\n",
       "      <td>0.930563</td>\n",
       "    </tr>\n",
       "    <tr>\n",
       "      <th>2</th>\n",
       "      <td>0.824295</td>\n",
       "      <td>0.898170</td>\n",
       "      <td>0.963445</td>\n",
       "      <td>0.083355</td>\n",
       "      <td>0.941677</td>\n",
       "    </tr>\n",
       "    <tr>\n",
       "      <th>3</th>\n",
       "      <td>0.851373</td>\n",
       "      <td>0.796041</td>\n",
       "      <td>0.052234</td>\n",
       "      <td>0.934958</td>\n",
       "      <td>0.942700</td>\n",
       "    </tr>\n",
       "    <tr>\n",
       "      <th>4</th>\n",
       "      <td>0.586627</td>\n",
       "      <td>0.219767</td>\n",
       "      <td>0.676747</td>\n",
       "      <td>0.862700</td>\n",
       "      <td>0.370225</td>\n",
       "    </tr>\n",
       "    <tr>\n",
       "      <th>5</th>\n",
       "      <td>0.996624</td>\n",
       "      <td>0.067942</td>\n",
       "      <td>0.752872</td>\n",
       "      <td>0.549842</td>\n",
       "      <td>0.735572</td>\n",
       "    </tr>\n",
       "    <tr>\n",
       "      <th>6</th>\n",
       "      <td>0.317516</td>\n",
       "      <td>0.881845</td>\n",
       "      <td>0.132022</td>\n",
       "      <td>0.412312</td>\n",
       "      <td>0.409534</td>\n",
       "    </tr>\n",
       "    <tr>\n",
       "      <th>7</th>\n",
       "      <td>0.141201</td>\n",
       "      <td>0.243939</td>\n",
       "      <td>0.701280</td>\n",
       "      <td>0.963205</td>\n",
       "      <td>0.170282</td>\n",
       "    </tr>\n",
       "    <tr>\n",
       "      <th>8</th>\n",
       "      <td>0.227767</td>\n",
       "      <td>0.048819</td>\n",
       "      <td>0.737653</td>\n",
       "      <td>0.995511</td>\n",
       "      <td>0.504743</td>\n",
       "    </tr>\n",
       "    <tr>\n",
       "      <th>9</th>\n",
       "      <td>0.565052</td>\n",
       "      <td>0.699472</td>\n",
       "      <td>0.657619</td>\n",
       "      <td>0.282562</td>\n",
       "      <td>0.365974</td>\n",
       "    </tr>\n",
       "  </tbody>\n",
       "</table>\n",
       "</div>"
      ],
      "text/plain": [
       "          0         1         2         3         4\n",
       "0  0.492040  0.999262  0.068336  0.455101  0.758681\n",
       "1  0.028179  0.849519  0.755696  0.934344  0.930563\n",
       "2  0.824295  0.898170  0.963445  0.083355  0.941677\n",
       "3  0.851373  0.796041  0.052234  0.934958  0.942700\n",
       "4  0.586627  0.219767  0.676747  0.862700  0.370225\n",
       "5  0.996624  0.067942  0.752872  0.549842  0.735572\n",
       "6  0.317516  0.881845  0.132022  0.412312  0.409534\n",
       "7  0.141201  0.243939  0.701280  0.963205  0.170282\n",
       "8  0.227767  0.048819  0.737653  0.995511  0.504743\n",
       "9  0.565052  0.699472  0.657619  0.282562  0.365974"
      ]
     },
     "execution_count": 2,
     "metadata": {},
     "output_type": "execute_result"
    }
   ],
   "source": [
    "df = pd.DataFrame(np.random.rand(10, 5))\n",
    "df"
   ]
  },
  {
   "cell_type": "code",
   "execution_count": 5,
   "metadata": {},
   "outputs": [
    {
     "data": {
      "text/plain": [
       "0      Kesci\n",
       "1        100\n",
       "2    欢迎来到科赛网\n",
       "dtype: object"
      ]
     },
     "execution_count": 5,
     "metadata": {},
     "output_type": "execute_result"
    }
   ],
   "source": [
    "my_list = ['Kesci', 100, '欢迎来到科赛网']\n",
    "s = pd.Series(my_list)\n",
    "s"
   ]
  },
  {
   "cell_type": "code",
   "execution_count": 6,
   "metadata": {
    "collapsed": true
   },
   "outputs": [],
   "source": [
    "# 添加一个日期索引 index\n",
    "df.index = pd.date_range('2017/1/1', periods=df.shape[0])"
   ]
  },
  {
   "cell_type": "code",
   "execution_count": 9,
   "metadata": {},
   "outputs": [
    {
     "data": {
      "text/html": [
       "<div>\n",
       "<table border=\"1\" class=\"dataframe\">\n",
       "  <thead>\n",
       "    <tr style=\"text-align: right;\">\n",
       "      <th></th>\n",
       "      <th>0</th>\n",
       "      <th>1</th>\n",
       "      <th>2</th>\n",
       "      <th>3</th>\n",
       "      <th>4</th>\n",
       "    </tr>\n",
       "  </thead>\n",
       "  <tbody>\n",
       "    <tr>\n",
       "      <th>2017-01-01</th>\n",
       "      <td>0.492040</td>\n",
       "      <td>0.999262</td>\n",
       "      <td>0.068336</td>\n",
       "      <td>0.455101</td>\n",
       "      <td>0.758681</td>\n",
       "    </tr>\n",
       "    <tr>\n",
       "      <th>2017-01-02</th>\n",
       "      <td>0.028179</td>\n",
       "      <td>0.849519</td>\n",
       "      <td>0.755696</td>\n",
       "      <td>0.934344</td>\n",
       "      <td>0.930563</td>\n",
       "    </tr>\n",
       "    <tr>\n",
       "      <th>2017-01-03</th>\n",
       "      <td>0.824295</td>\n",
       "      <td>0.898170</td>\n",
       "      <td>0.963445</td>\n",
       "      <td>0.083355</td>\n",
       "      <td>0.941677</td>\n",
       "    </tr>\n",
       "    <tr>\n",
       "      <th>2017-01-04</th>\n",
       "      <td>0.851373</td>\n",
       "      <td>0.796041</td>\n",
       "      <td>0.052234</td>\n",
       "      <td>0.934958</td>\n",
       "      <td>0.942700</td>\n",
       "    </tr>\n",
       "    <tr>\n",
       "      <th>2017-01-05</th>\n",
       "      <td>0.586627</td>\n",
       "      <td>0.219767</td>\n",
       "      <td>0.676747</td>\n",
       "      <td>0.862700</td>\n",
       "      <td>0.370225</td>\n",
       "    </tr>\n",
       "    <tr>\n",
       "      <th>2017-01-06</th>\n",
       "      <td>0.996624</td>\n",
       "      <td>0.067942</td>\n",
       "      <td>0.752872</td>\n",
       "      <td>0.549842</td>\n",
       "      <td>0.735572</td>\n",
       "    </tr>\n",
       "    <tr>\n",
       "      <th>2017-01-07</th>\n",
       "      <td>0.317516</td>\n",
       "      <td>0.881845</td>\n",
       "      <td>0.132022</td>\n",
       "      <td>0.412312</td>\n",
       "      <td>0.409534</td>\n",
       "    </tr>\n",
       "    <tr>\n",
       "      <th>2017-01-08</th>\n",
       "      <td>0.141201</td>\n",
       "      <td>0.243939</td>\n",
       "      <td>0.701280</td>\n",
       "      <td>0.963205</td>\n",
       "      <td>0.170282</td>\n",
       "    </tr>\n",
       "    <tr>\n",
       "      <th>2017-01-09</th>\n",
       "      <td>0.227767</td>\n",
       "      <td>0.048819</td>\n",
       "      <td>0.737653</td>\n",
       "      <td>0.995511</td>\n",
       "      <td>0.504743</td>\n",
       "    </tr>\n",
       "    <tr>\n",
       "      <th>2017-01-10</th>\n",
       "      <td>0.565052</td>\n",
       "      <td>0.699472</td>\n",
       "      <td>0.657619</td>\n",
       "      <td>0.282562</td>\n",
       "      <td>0.365974</td>\n",
       "    </tr>\n",
       "  </tbody>\n",
       "</table>\n",
       "</div>"
      ],
      "text/plain": [
       "                   0         1         2         3         4\n",
       "2017-01-01  0.492040  0.999262  0.068336  0.455101  0.758681\n",
       "2017-01-02  0.028179  0.849519  0.755696  0.934344  0.930563\n",
       "2017-01-03  0.824295  0.898170  0.963445  0.083355  0.941677\n",
       "2017-01-04  0.851373  0.796041  0.052234  0.934958  0.942700\n",
       "2017-01-05  0.586627  0.219767  0.676747  0.862700  0.370225\n",
       "2017-01-06  0.996624  0.067942  0.752872  0.549842  0.735572\n",
       "2017-01-07  0.317516  0.881845  0.132022  0.412312  0.409534\n",
       "2017-01-08  0.141201  0.243939  0.701280  0.963205  0.170282\n",
       "2017-01-09  0.227767  0.048819  0.737653  0.995511  0.504743\n",
       "2017-01-10  0.565052  0.699472  0.657619  0.282562  0.365974"
      ]
     },
     "execution_count": 9,
     "metadata": {},
     "output_type": "execute_result"
    }
   ],
   "source": [
    "df"
   ]
  },
  {
   "cell_type": "code",
   "execution_count": 23,
   "metadata": {},
   "outputs": [
    {
     "data": {
      "text/html": [
       "<div>\n",
       "<table border=\"1\" class=\"dataframe\">\n",
       "  <thead>\n",
       "    <tr style=\"text-align: right;\">\n",
       "      <th></th>\n",
       "      <th>A</th>\n",
       "      <th>B</th>\n",
       "      <th>C</th>\n",
       "      <th>D</th>\n",
       "      <th>E</th>\n",
       "    </tr>\n",
       "  </thead>\n",
       "  <tbody>\n",
       "    <tr>\n",
       "      <th>2017-01-01 00:00:00</th>\n",
       "      <td>0.106657</td>\n",
       "      <td>0.758120</td>\n",
       "      <td>0.318637</td>\n",
       "      <td>0.625626</td>\n",
       "      <td>0.804699</td>\n",
       "    </tr>\n",
       "    <tr>\n",
       "      <th>2017-01-02 00:00:00</th>\n",
       "      <td>0.244824</td>\n",
       "      <td>0.204403</td>\n",
       "      <td>0.055356</td>\n",
       "      <td>0.214074</td>\n",
       "      <td>0.775164</td>\n",
       "    </tr>\n",
       "    <tr>\n",
       "      <th>2017-01-03 00:00:00</th>\n",
       "      <td>0.917824</td>\n",
       "      <td>0.472936</td>\n",
       "      <td>0.595361</td>\n",
       "      <td>0.981097</td>\n",
       "      <td>0.203531</td>\n",
       "    </tr>\n",
       "    <tr>\n",
       "      <th>2017-01-04 00:00:00</th>\n",
       "      <td>0.953917</td>\n",
       "      <td>0.942834</td>\n",
       "      <td>0.411406</td>\n",
       "      <td>0.221718</td>\n",
       "      <td>0.290516</td>\n",
       "    </tr>\n",
       "    <tr>\n",
       "      <th>2017-01-05 00:00:00</th>\n",
       "      <td>0.954554</td>\n",
       "      <td>0.969843</td>\n",
       "      <td>0.808572</td>\n",
       "      <td>0.482765</td>\n",
       "      <td>0.903510</td>\n",
       "    </tr>\n",
       "    <tr>\n",
       "      <th>2017-01-09</th>\n",
       "      <td>NaN</td>\n",
       "      <td>NaN</td>\n",
       "      <td>NaN</td>\n",
       "      <td>NaN</td>\n",
       "      <td>NaN</td>\n",
       "    </tr>\n",
       "  </tbody>\n",
       "</table>\n",
       "</div>"
      ],
      "text/plain": [
       "                            A         B         C         D         E\n",
       "2017-01-01 00:00:00  0.106657  0.758120  0.318637  0.625626  0.804699\n",
       "2017-01-02 00:00:00  0.244824  0.204403  0.055356  0.214074  0.775164\n",
       "2017-01-03 00:00:00  0.917824  0.472936  0.595361  0.981097  0.203531\n",
       "2017-01-04 00:00:00  0.953917  0.942834  0.411406  0.221718  0.290516\n",
       "2017-01-05 00:00:00  0.954554  0.969843  0.808572  0.482765  0.903510\n",
       "2017-01-09                NaN       NaN       NaN       NaN       NaN"
      ]
     },
     "execution_count": 23,
     "metadata": {},
     "output_type": "execute_result"
    }
   ],
   "source": [
    "df"
   ]
  },
  {
   "cell_type": "code",
   "execution_count": 12,
   "metadata": {},
   "outputs": [
    {
     "data": {
      "text/html": [
       "<div>\n",
       "<table border=\"1\" class=\"dataframe\">\n",
       "  <thead>\n",
       "    <tr style=\"text-align: right;\">\n",
       "      <th></th>\n",
       "      <th>0</th>\n",
       "      <th>1</th>\n",
       "      <th>2</th>\n",
       "      <th>3</th>\n",
       "      <th>4</th>\n",
       "    </tr>\n",
       "  </thead>\n",
       "  <tbody>\n",
       "    <tr>\n",
       "      <th>count</th>\n",
       "      <td>10.000000</td>\n",
       "      <td>10.000000</td>\n",
       "      <td>10.000000</td>\n",
       "      <td>10.000000</td>\n",
       "      <td>10.000000</td>\n",
       "    </tr>\n",
       "    <tr>\n",
       "      <th>mean</th>\n",
       "      <td>0.503068</td>\n",
       "      <td>0.570478</td>\n",
       "      <td>0.549790</td>\n",
       "      <td>0.647389</td>\n",
       "      <td>0.612995</td>\n",
       "    </tr>\n",
       "    <tr>\n",
       "      <th>std</th>\n",
       "      <td>0.324163</td>\n",
       "      <td>0.378280</td>\n",
       "      <td>0.332437</td>\n",
       "      <td>0.330876</td>\n",
       "      <td>0.283412</td>\n",
       "    </tr>\n",
       "    <tr>\n",
       "      <th>min</th>\n",
       "      <td>0.028179</td>\n",
       "      <td>0.048819</td>\n",
       "      <td>0.052234</td>\n",
       "      <td>0.083355</td>\n",
       "      <td>0.170282</td>\n",
       "    </tr>\n",
       "    <tr>\n",
       "      <th>25%</th>\n",
       "      <td>0.250204</td>\n",
       "      <td>0.225810</td>\n",
       "      <td>0.263421</td>\n",
       "      <td>0.423009</td>\n",
       "      <td>0.380053</td>\n",
       "    </tr>\n",
       "    <tr>\n",
       "      <th>50%</th>\n",
       "      <td>0.528546</td>\n",
       "      <td>0.747757</td>\n",
       "      <td>0.689013</td>\n",
       "      <td>0.706271</td>\n",
       "      <td>0.620158</td>\n",
       "    </tr>\n",
       "    <tr>\n",
       "      <th>75%</th>\n",
       "      <td>0.764878</td>\n",
       "      <td>0.873763</td>\n",
       "      <td>0.749067</td>\n",
       "      <td>0.934805</td>\n",
       "      <td>0.887592</td>\n",
       "    </tr>\n",
       "    <tr>\n",
       "      <th>max</th>\n",
       "      <td>0.996624</td>\n",
       "      <td>0.999262</td>\n",
       "      <td>0.963445</td>\n",
       "      <td>0.995511</td>\n",
       "      <td>0.942700</td>\n",
       "    </tr>\n",
       "  </tbody>\n",
       "</table>\n",
       "</div>"
      ],
      "text/plain": [
       "               0          1          2          3          4\n",
       "count  10.000000  10.000000  10.000000  10.000000  10.000000\n",
       "mean    0.503068   0.570478   0.549790   0.647389   0.612995\n",
       "std     0.324163   0.378280   0.332437   0.330876   0.283412\n",
       "min     0.028179   0.048819   0.052234   0.083355   0.170282\n",
       "25%     0.250204   0.225810   0.263421   0.423009   0.380053\n",
       "50%     0.528546   0.747757   0.689013   0.706271   0.620158\n",
       "75%     0.764878   0.873763   0.749067   0.934805   0.887592\n",
       "max     0.996624   0.999262   0.963445   0.995511   0.942700"
      ]
     },
     "execution_count": 12,
     "metadata": {},
     "output_type": "execute_result"
    }
   ],
   "source": [
    "df.describe() # 对于数据类型为数值型的列，查询其描述性统计的内容"
   ]
  },
  {
   "cell_type": "code",
   "execution_count": 13,
   "metadata": {},
   "outputs": [
    {
     "data": {
      "text/plain": [
       " 5.0    3\n",
       " 3.0    2\n",
       " 7.0    1\n",
       " 6.0    1\n",
       "NaN     1\n",
       " 4.0    1\n",
       " 2.0    1\n",
       " 1.0    1\n",
       "dtype: int64"
      ]
     },
     "execution_count": 13,
     "metadata": {},
     "output_type": "execute_result"
    }
   ],
   "source": [
    "s = pd.Series([1, 2, 3, 3, 4, np.nan, 5, 5, 5, 6, 7])\n",
    "s.value_counts(dropna=False)"
   ]
  },
  {
   "cell_type": "code",
   "execution_count": 28,
   "metadata": {},
   "outputs": [
    {
     "data": {
      "text/plain": [
       "A       I\n",
       "B    Love\n",
       "C    Data\n",
       "dtype: object"
      ]
     },
     "execution_count": 28,
     "metadata": {},
     "output_type": "execute_result"
    }
   ],
   "source": [
    "s = pd.Series(np.array(['I','Love','Data']),index=list('ABC'))\n",
    "s"
   ]
  },
  {
   "cell_type": "code",
   "execution_count": 29,
   "metadata": {},
   "outputs": [
    {
     "data": {
      "text/plain": [
       "'Love'"
      ]
     },
     "execution_count": 29,
     "metadata": {},
     "output_type": "execute_result"
    }
   ],
   "source": [
    "s.loc['B']"
   ]
  },
  {
   "cell_type": "code",
   "execution_count": 31,
   "metadata": {},
   "outputs": [
    {
     "data": {
      "text/plain": [
       "'Love'"
      ]
     },
     "execution_count": 31,
     "metadata": {},
     "output_type": "execute_result"
    }
   ],
   "source": [
    "s.iloc[1]"
   ]
  },
  {
   "cell_type": "code",
   "execution_count": 37,
   "metadata": {},
   "outputs": [
    {
     "data": {
      "text/html": [
       "<div>\n",
       "<table border=\"1\" class=\"dataframe\">\n",
       "  <thead>\n",
       "    <tr style=\"text-align: right;\">\n",
       "      <th></th>\n",
       "      <th>0</th>\n",
       "      <th>1</th>\n",
       "      <th>2</th>\n",
       "      <th>3</th>\n",
       "      <th>4</th>\n",
       "    </tr>\n",
       "  </thead>\n",
       "  <tbody>\n",
       "    <tr>\n",
       "      <th>2018-09-01</th>\n",
       "      <td>1.027175</td>\n",
       "      <td>0.377386</td>\n",
       "      <td>-1.404809</td>\n",
       "      <td>-1.160236</td>\n",
       "      <td>-1.556277</td>\n",
       "    </tr>\n",
       "    <tr>\n",
       "      <th>2018-09-02</th>\n",
       "      <td>-0.908819</td>\n",
       "      <td>-1.367277</td>\n",
       "      <td>-0.247405</td>\n",
       "      <td>-0.379120</td>\n",
       "      <td>-0.790414</td>\n",
       "    </tr>\n",
       "    <tr>\n",
       "      <th>2018-09-03</th>\n",
       "      <td>1.036031</td>\n",
       "      <td>-0.017665</td>\n",
       "      <td>0.289285</td>\n",
       "      <td>0.291233</td>\n",
       "      <td>-0.126151</td>\n",
       "    </tr>\n",
       "    <tr>\n",
       "      <th>2018-09-04</th>\n",
       "      <td>1.224113</td>\n",
       "      <td>0.513400</td>\n",
       "      <td>-0.358068</td>\n",
       "      <td>-0.732288</td>\n",
       "      <td>0.718371</td>\n",
       "    </tr>\n",
       "    <tr>\n",
       "      <th>2018-09-05</th>\n",
       "      <td>-0.151933</td>\n",
       "      <td>-1.674926</td>\n",
       "      <td>1.637634</td>\n",
       "      <td>0.200434</td>\n",
       "      <td>-1.414628</td>\n",
       "    </tr>\n",
       "    <tr>\n",
       "      <th>2018-09-06</th>\n",
       "      <td>0.480703</td>\n",
       "      <td>0.856692</td>\n",
       "      <td>-0.058047</td>\n",
       "      <td>-0.746230</td>\n",
       "      <td>-0.149757</td>\n",
       "    </tr>\n",
       "    <tr>\n",
       "      <th>2018-09-07</th>\n",
       "      <td>-0.359480</td>\n",
       "      <td>2.830788</td>\n",
       "      <td>-1.044119</td>\n",
       "      <td>0.191905</td>\n",
       "      <td>0.590085</td>\n",
       "    </tr>\n",
       "    <tr>\n",
       "      <th>2018-09-08</th>\n",
       "      <td>-1.921659</td>\n",
       "      <td>0.626341</td>\n",
       "      <td>0.504343</td>\n",
       "      <td>-1.190342</td>\n",
       "      <td>1.178351</td>\n",
       "    </tr>\n",
       "    <tr>\n",
       "      <th>2018-09-09</th>\n",
       "      <td>0.013908</td>\n",
       "      <td>-0.596552</td>\n",
       "      <td>-0.283824</td>\n",
       "      <td>0.780118</td>\n",
       "      <td>-0.310985</td>\n",
       "    </tr>\n",
       "    <tr>\n",
       "      <th>2018-09-10</th>\n",
       "      <td>0.142201</td>\n",
       "      <td>-0.294838</td>\n",
       "      <td>0.321263</td>\n",
       "      <td>0.652704</td>\n",
       "      <td>-1.893697</td>\n",
       "    </tr>\n",
       "  </tbody>\n",
       "</table>\n",
       "</div>"
      ],
      "text/plain": [
       "                   0         1         2         3         4\n",
       "2018-09-01  1.027175  0.377386 -1.404809 -1.160236 -1.556277\n",
       "2018-09-02 -0.908819 -1.367277 -0.247405 -0.379120 -0.790414\n",
       "2018-09-03  1.036031 -0.017665  0.289285  0.291233 -0.126151\n",
       "2018-09-04  1.224113  0.513400 -0.358068 -0.732288  0.718371\n",
       "2018-09-05 -0.151933 -1.674926  1.637634  0.200434 -1.414628\n",
       "2018-09-06  0.480703  0.856692 -0.058047 -0.746230 -0.149757\n",
       "2018-09-07 -0.359480  2.830788 -1.044119  0.191905  0.590085\n",
       "2018-09-08 -1.921659  0.626341  0.504343 -1.190342  1.178351\n",
       "2018-09-09  0.013908 -0.596552 -0.283824  0.780118 -0.310985\n",
       "2018-09-10  0.142201 -0.294838  0.321263  0.652704 -1.893697"
      ]
     },
     "execution_count": 37,
     "metadata": {},
     "output_type": "execute_result"
    }
   ],
   "source": [
    "df = pd.DataFrame(np.random.randn(10, 5))\n",
    "df.index = pd.date_range('2018-09-01', periods=df.shape[0])\n",
    "df"
   ]
  },
  {
   "cell_type": "code",
   "execution_count": 43,
   "metadata": {},
   "outputs": [
    {
     "data": {
      "text/plain": [
       " 5.0    3\n",
       " 3.0    2\n",
       " 7.0    1\n",
       " 6.0    1\n",
       "NaN     1\n",
       " 4.0    1\n",
       " 2.0    1\n",
       " 1.0    1\n",
       "dtype: int64"
      ]
     },
     "execution_count": 43,
     "metadata": {},
     "output_type": "execute_result"
    }
   ],
   "source": [
    "s = pd.Series([1, 2, 3, 3, 4, np.nan, 5, 5, 5, 6, 7])\n",
    "s.value_counts(dropna=False)"
   ]
  },
  {
   "cell_type": "code",
   "execution_count": 53,
   "metadata": {},
   "outputs": [
    {
     "data": {
      "text/html": [
       "<div>\n",
       "<table border=\"1\" class=\"dataframe\">\n",
       "  <thead>\n",
       "    <tr style=\"text-align: right;\">\n",
       "      <th></th>\n",
       "      <th>A</th>\n",
       "      <th>B</th>\n",
       "      <th>C</th>\n",
       "      <th>D</th>\n",
       "      <th>E</th>\n",
       "    </tr>\n",
       "  </thead>\n",
       "  <tbody>\n",
       "    <tr>\n",
       "      <th>2018-09-01</th>\n",
       "      <td>3</td>\n",
       "      <td>4</td>\n",
       "      <td>4</td>\n",
       "      <td>3</td>\n",
       "      <td>3</td>\n",
       "    </tr>\n",
       "    <tr>\n",
       "      <th>2018-09-02</th>\n",
       "      <td>4</td>\n",
       "      <td>4</td>\n",
       "      <td>4</td>\n",
       "      <td>4</td>\n",
       "      <td>4</td>\n",
       "    </tr>\n",
       "    <tr>\n",
       "      <th>2018-09-03</th>\n",
       "      <td>4</td>\n",
       "      <td>4</td>\n",
       "      <td>3</td>\n",
       "      <td>3</td>\n",
       "      <td>4</td>\n",
       "    </tr>\n",
       "    <tr>\n",
       "      <th>2018-09-04</th>\n",
       "      <td>3</td>\n",
       "      <td>4</td>\n",
       "      <td>4</td>\n",
       "      <td>3</td>\n",
       "      <td>3</td>\n",
       "    </tr>\n",
       "    <tr>\n",
       "      <th>2018-09-05</th>\n",
       "      <td>4</td>\n",
       "      <td>4</td>\n",
       "      <td>3</td>\n",
       "      <td>4</td>\n",
       "      <td>4</td>\n",
       "    </tr>\n",
       "    <tr>\n",
       "      <th>2018-09-06</th>\n",
       "      <td>3</td>\n",
       "      <td>4</td>\n",
       "      <td>4</td>\n",
       "      <td>4</td>\n",
       "      <td>4</td>\n",
       "    </tr>\n",
       "    <tr>\n",
       "      <th>2018-09-07</th>\n",
       "      <td>4</td>\n",
       "      <td>3</td>\n",
       "      <td>3</td>\n",
       "      <td>4</td>\n",
       "      <td>3</td>\n",
       "    </tr>\n",
       "    <tr>\n",
       "      <th>2018-09-08</th>\n",
       "      <td>3</td>\n",
       "      <td>4</td>\n",
       "      <td>3</td>\n",
       "      <td>4</td>\n",
       "      <td>3</td>\n",
       "    </tr>\n",
       "    <tr>\n",
       "      <th>2018-09-09</th>\n",
       "      <td>3</td>\n",
       "      <td>3</td>\n",
       "      <td>4</td>\n",
       "      <td>3</td>\n",
       "      <td>4</td>\n",
       "    </tr>\n",
       "    <tr>\n",
       "      <th>2018-09-10</th>\n",
       "      <td>3</td>\n",
       "      <td>3</td>\n",
       "      <td>4</td>\n",
       "      <td>4</td>\n",
       "      <td>4</td>\n",
       "    </tr>\n",
       "  </tbody>\n",
       "</table>\n",
       "</div>"
      ],
      "text/plain": [
       "            A  B  C  D  E\n",
       "2018-09-01  3  4  4  3  3\n",
       "2018-09-02  4  4  4  4  4\n",
       "2018-09-03  4  4  3  3  4\n",
       "2018-09-04  3  4  4  3  3\n",
       "2018-09-05  4  4  3  4  4\n",
       "2018-09-06  3  4  4  4  4\n",
       "2018-09-07  4  3  3  4  3\n",
       "2018-09-08  3  4  3  4  3\n",
       "2018-09-09  3  3  4  3  4\n",
       "2018-09-10  3  3  4  4  4"
      ]
     },
     "execution_count": 53,
     "metadata": {},
     "output_type": "execute_result"
    }
   ],
   "source": [
    "df = pd.DataFrame(np.random.randint(3, 5, (10, 5)), columns=list(\"ABCDE\"),\n",
    "                  index=pd.date_range('2018-09-01', periods=10))\n",
    "df"
   ]
  },
  {
   "cell_type": "code",
   "execution_count": 51,
   "metadata": {},
   "outputs": [
    {
     "data": {
      "text/html": [
       "<div>\n",
       "<table border=\"1\" class=\"dataframe\">\n",
       "  <thead>\n",
       "    <tr style=\"text-align: right;\">\n",
       "      <th></th>\n",
       "      <th>0</th>\n",
       "      <th>1</th>\n",
       "      <th>2</th>\n",
       "      <th>3</th>\n",
       "      <th>4</th>\n",
       "    </tr>\n",
       "  </thead>\n",
       "  <tbody>\n",
       "    <tr>\n",
       "      <th>3</th>\n",
       "      <td>5</td>\n",
       "      <td>5</td>\n",
       "      <td>5</td>\n",
       "      <td>6</td>\n",
       "      <td>4</td>\n",
       "    </tr>\n",
       "    <tr>\n",
       "      <th>4</th>\n",
       "      <td>5</td>\n",
       "      <td>5</td>\n",
       "      <td>5</td>\n",
       "      <td>4</td>\n",
       "      <td>6</td>\n",
       "    </tr>\n",
       "  </tbody>\n",
       "</table>\n",
       "</div>"
      ],
      "text/plain": [
       "   0  1  2  3  4\n",
       "3  5  5  5  6  4\n",
       "4  5  5  5  4  6"
      ]
     },
     "execution_count": 51,
     "metadata": {},
     "output_type": "execute_result"
    }
   ],
   "source": [
    "df.apply(pd.Series.value_counts)"
   ]
  },
  {
   "cell_type": "code",
   "execution_count": 55,
   "metadata": {},
   "outputs": [
    {
     "data": {
      "text/html": [
       "<div>\n",
       "<table border=\"1\" class=\"dataframe\">\n",
       "  <thead>\n",
       "    <tr style=\"text-align: right;\">\n",
       "      <th></th>\n",
       "      <th>A</th>\n",
       "      <th>B</th>\n",
       "      <th>C</th>\n",
       "    </tr>\n",
       "  </thead>\n",
       "  <tbody>\n",
       "    <tr>\n",
       "      <th>0</th>\n",
       "      <td>1.0</td>\n",
       "      <td>NaN</td>\n",
       "      <td>foo</td>\n",
       "    </tr>\n",
       "    <tr>\n",
       "      <th>1</th>\n",
       "      <td>NaN</td>\n",
       "      <td>4.0</td>\n",
       "      <td>foo</td>\n",
       "    </tr>\n",
       "    <tr>\n",
       "      <th>2</th>\n",
       "      <td>2.0</td>\n",
       "      <td>NaN</td>\n",
       "      <td>foo</td>\n",
       "    </tr>\n",
       "    <tr>\n",
       "      <th>3</th>\n",
       "      <td>3.0</td>\n",
       "      <td>5.0</td>\n",
       "      <td>foo</td>\n",
       "    </tr>\n",
       "    <tr>\n",
       "      <th>4</th>\n",
       "      <td>6.0</td>\n",
       "      <td>9.0</td>\n",
       "      <td>foo</td>\n",
       "    </tr>\n",
       "    <tr>\n",
       "      <th>5</th>\n",
       "      <td>NaN</td>\n",
       "      <td>NaN</td>\n",
       "      <td>foo</td>\n",
       "    </tr>\n",
       "  </tbody>\n",
       "</table>\n",
       "</div>"
      ],
      "text/plain": [
       "     A    B    C\n",
       "0  1.0  NaN  foo\n",
       "1  NaN  4.0  foo\n",
       "2  2.0  NaN  foo\n",
       "3  3.0  5.0  foo\n",
       "4  6.0  9.0  foo\n",
       "5  NaN  NaN  foo"
      ]
     },
     "execution_count": 55,
     "metadata": {},
     "output_type": "execute_result"
    }
   ],
   "source": [
    "df = pd.DataFrame({'A': np.array([1, np.nan, 2, 3, 6, np.nan]),\n",
    "                   'B': np.array([np.nan, 4, np.nan, 5, 9, np.nan]),\n",
    "                   'C': 'foo'})\n",
    "df"
   ]
  },
  {
   "cell_type": "code",
   "execution_count": 57,
   "metadata": {},
   "outputs": [
    {
     "data": {
      "text/html": [
       "<div>\n",
       "<table border=\"1\" class=\"dataframe\">\n",
       "  <thead>\n",
       "    <tr style=\"text-align: right;\">\n",
       "      <th></th>\n",
       "      <th>A</th>\n",
       "      <th>B</th>\n",
       "      <th>C</th>\n",
       "    </tr>\n",
       "  </thead>\n",
       "  <tbody>\n",
       "    <tr>\n",
       "      <th>0</th>\n",
       "      <td>False</td>\n",
       "      <td>True</td>\n",
       "      <td>False</td>\n",
       "    </tr>\n",
       "    <tr>\n",
       "      <th>1</th>\n",
       "      <td>True</td>\n",
       "      <td>False</td>\n",
       "      <td>False</td>\n",
       "    </tr>\n",
       "    <tr>\n",
       "      <th>2</th>\n",
       "      <td>False</td>\n",
       "      <td>True</td>\n",
       "      <td>False</td>\n",
       "    </tr>\n",
       "    <tr>\n",
       "      <th>3</th>\n",
       "      <td>False</td>\n",
       "      <td>False</td>\n",
       "      <td>False</td>\n",
       "    </tr>\n",
       "    <tr>\n",
       "      <th>4</th>\n",
       "      <td>False</td>\n",
       "      <td>False</td>\n",
       "      <td>False</td>\n",
       "    </tr>\n",
       "    <tr>\n",
       "      <th>5</th>\n",
       "      <td>True</td>\n",
       "      <td>True</td>\n",
       "      <td>False</td>\n",
       "    </tr>\n",
       "  </tbody>\n",
       "</table>\n",
       "</div>"
      ],
      "text/plain": [
       "       A      B      C\n",
       "0  False   True  False\n",
       "1   True  False  False\n",
       "2  False   True  False\n",
       "3  False  False  False\n",
       "4  False  False  False\n",
       "5   True   True  False"
      ]
     },
     "execution_count": 57,
     "metadata": {},
     "output_type": "execute_result"
    }
   ],
   "source": [
    "pd.isnull(df) "
   ]
  },
  {
   "cell_type": "code",
   "execution_count": 58,
   "metadata": {},
   "outputs": [
    {
     "data": {
      "text/html": [
       "<div>\n",
       "<table border=\"1\" class=\"dataframe\">\n",
       "  <thead>\n",
       "    <tr style=\"text-align: right;\">\n",
       "      <th></th>\n",
       "      <th>A</th>\n",
       "      <th>B</th>\n",
       "      <th>C</th>\n",
       "    </tr>\n",
       "  </thead>\n",
       "  <tbody>\n",
       "    <tr>\n",
       "      <th>0</th>\n",
       "      <td>True</td>\n",
       "      <td>False</td>\n",
       "      <td>True</td>\n",
       "    </tr>\n",
       "    <tr>\n",
       "      <th>1</th>\n",
       "      <td>False</td>\n",
       "      <td>True</td>\n",
       "      <td>True</td>\n",
       "    </tr>\n",
       "    <tr>\n",
       "      <th>2</th>\n",
       "      <td>True</td>\n",
       "      <td>False</td>\n",
       "      <td>True</td>\n",
       "    </tr>\n",
       "    <tr>\n",
       "      <th>3</th>\n",
       "      <td>True</td>\n",
       "      <td>True</td>\n",
       "      <td>True</td>\n",
       "    </tr>\n",
       "    <tr>\n",
       "      <th>4</th>\n",
       "      <td>True</td>\n",
       "      <td>True</td>\n",
       "      <td>True</td>\n",
       "    </tr>\n",
       "    <tr>\n",
       "      <th>5</th>\n",
       "      <td>False</td>\n",
       "      <td>False</td>\n",
       "      <td>True</td>\n",
       "    </tr>\n",
       "  </tbody>\n",
       "</table>\n",
       "</div>"
      ],
      "text/plain": [
       "       A      B     C\n",
       "0   True  False  True\n",
       "1  False   True  True\n",
       "2   True  False  True\n",
       "3   True   True  True\n",
       "4   True   True  True\n",
       "5  False  False  True"
      ]
     },
     "execution_count": 58,
     "metadata": {},
     "output_type": "execute_result"
    }
   ],
   "source": [
    "pd.notnull(df)"
   ]
  },
  {
   "cell_type": "code",
   "execution_count": 66,
   "metadata": {},
   "outputs": [
    {
     "data": {
      "text/html": [
       "<div>\n",
       "<table border=\"1\" class=\"dataframe\">\n",
       "  <thead>\n",
       "    <tr style=\"text-align: right;\">\n",
       "      <th></th>\n",
       "      <th>C</th>\n",
       "    </tr>\n",
       "  </thead>\n",
       "  <tbody>\n",
       "    <tr>\n",
       "      <th>0</th>\n",
       "      <td>foo</td>\n",
       "    </tr>\n",
       "    <tr>\n",
       "      <th>1</th>\n",
       "      <td>foo</td>\n",
       "    </tr>\n",
       "    <tr>\n",
       "      <th>2</th>\n",
       "      <td>foo</td>\n",
       "    </tr>\n",
       "    <tr>\n",
       "      <th>3</th>\n",
       "      <td>foo</td>\n",
       "    </tr>\n",
       "    <tr>\n",
       "      <th>4</th>\n",
       "      <td>foo</td>\n",
       "    </tr>\n",
       "    <tr>\n",
       "      <th>5</th>\n",
       "      <td>foo</td>\n",
       "    </tr>\n",
       "  </tbody>\n",
       "</table>\n",
       "</div>"
      ],
      "text/plain": [
       "     C\n",
       "0  foo\n",
       "1  foo\n",
       "2  foo\n",
       "3  foo\n",
       "4  foo\n",
       "5  foo"
      ]
     },
     "execution_count": 66,
     "metadata": {},
     "output_type": "execute_result"
    }
   ],
   "source": [
    "df = pd.DataFrame({'A': np.array([1, np.nan, 2, 3, 6, np.nan]),\n",
    "                   'B': np.array([np.nan, 4, np.nan, 5, 9, np.nan]),\n",
    "                   'C': 'foo'})\n",
    "df\n",
    "# 移除包含空值的列\n",
    "df.dropna(how='any', axis=1)"
   ]
  },
  {
   "cell_type": "code",
   "execution_count": 69,
   "metadata": {},
   "outputs": [
    {
     "data": {
      "text/html": [
       "<div>\n",
       "<table border=\"1\" class=\"dataframe\">\n",
       "  <thead>\n",
       "    <tr style=\"text-align: right;\">\n",
       "      <th></th>\n",
       "      <th>A</th>\n",
       "      <th>B</th>\n",
       "      <th>C</th>\n",
       "    </tr>\n",
       "  </thead>\n",
       "  <tbody>\n",
       "    <tr>\n",
       "      <th>0</th>\n",
       "      <td>1.0</td>\n",
       "      <td>100000000.0</td>\n",
       "      <td>foo</td>\n",
       "    </tr>\n",
       "    <tr>\n",
       "      <th>1</th>\n",
       "      <td>100000000.0</td>\n",
       "      <td>4.0</td>\n",
       "      <td>foo</td>\n",
       "    </tr>\n",
       "    <tr>\n",
       "      <th>2</th>\n",
       "      <td>2.0</td>\n",
       "      <td>100000000.0</td>\n",
       "      <td>foo</td>\n",
       "    </tr>\n",
       "    <tr>\n",
       "      <th>3</th>\n",
       "      <td>3.0</td>\n",
       "      <td>5.0</td>\n",
       "      <td>foo</td>\n",
       "    </tr>\n",
       "    <tr>\n",
       "      <th>4</th>\n",
       "      <td>6.0</td>\n",
       "      <td>9.0</td>\n",
       "      <td>foo</td>\n",
       "    </tr>\n",
       "    <tr>\n",
       "      <th>5</th>\n",
       "      <td>100000000.0</td>\n",
       "      <td>100000000.0</td>\n",
       "      <td>foo</td>\n",
       "    </tr>\n",
       "  </tbody>\n",
       "</table>\n",
       "</div>"
      ],
      "text/plain": [
       "             A            B    C\n",
       "0          1.0  100000000.0  foo\n",
       "1  100000000.0          4.0  foo\n",
       "2          2.0  100000000.0  foo\n",
       "3          3.0          5.0  foo\n",
       "4          6.0          9.0  foo\n",
       "5  100000000.0  100000000.0  foo"
      ]
     },
     "execution_count": 69,
     "metadata": {},
     "output_type": "execute_result"
    }
   ],
   "source": [
    "df = pd.DataFrame({'A': np.array([1, np.nan, 2, 3, 6, np.nan]),\n",
    "                   'B': np.array([np.nan, 4, np.nan, 5, 9, np.nan]),\n",
    "                   'C': 'foo'})\n",
    "\n",
    "df.fillna(1e8)"
   ]
  },
  {
   "cell_type": "code",
   "execution_count": 70,
   "metadata": {},
   "outputs": [
    {
     "name": "stdout",
     "output_type": "stream",
     "text": [
      "<class 'pandas.core.frame.DataFrame'>\n",
      "RangeIndex: 6 entries, 0 to 5\n",
      "Data columns (total 3 columns):\n",
      "A    4 non-null float64\n",
      "B    3 non-null float64\n",
      "C    6 non-null object\n",
      "dtypes: float64(2), object(1)\n",
      "memory usage: 224.0+ bytes\n"
     ]
    }
   ],
   "source": [
    "df.info()"
   ]
  },
  {
   "cell_type": "code",
   "execution_count": 79,
   "metadata": {},
   "outputs": [
    {
     "data": {
      "text/plain": [
       "0       1.0\n",
       "1       2.0\n",
       "2       3.0\n",
       "3       3.0\n",
       "4       4.0\n",
       "5     100.0\n",
       "6       5.0\n",
       "7       5.0\n",
       "8       5.0\n",
       "9       6.0\n",
       "10      7.0\n",
       "dtype: float64"
      ]
     },
     "execution_count": 79,
     "metadata": {},
     "output_type": "execute_result"
    }
   ],
   "source": [
    "s.fillna(100,inplace=True)\n",
    "s"
   ]
  },
  {
   "cell_type": "code",
   "execution_count": 80,
   "metadata": {},
   "outputs": [
    {
     "data": {
      "text/plain": [
       "0       1\n",
       "1       2\n",
       "2       3\n",
       "3       3\n",
       "4       4\n",
       "5     100\n",
       "6       5\n",
       "7       5\n",
       "8       5\n",
       "9       6\n",
       "10      7\n",
       "dtype: int64"
      ]
     },
     "execution_count": 80,
     "metadata": {},
     "output_type": "execute_result"
    }
   ],
   "source": [
    "s.astype(np.int) # 将数组(Series)的格式转化为浮点数"
   ]
  },
  {
   "cell_type": "code",
   "execution_count": 81,
   "metadata": {},
   "outputs": [
    {
     "data": {
      "text/html": [
       "<div>\n",
       "<table border=\"1\" class=\"dataframe\">\n",
       "  <thead>\n",
       "    <tr style=\"text-align: right;\">\n",
       "      <th></th>\n",
       "      <th>A</th>\n",
       "      <th>B</th>\n",
       "      <th>C</th>\n",
       "    </tr>\n",
       "  </thead>\n",
       "  <tbody>\n",
       "    <tr>\n",
       "      <th>0</th>\n",
       "      <td>1.0</td>\n",
       "      <td>NaN</td>\n",
       "      <td>foo</td>\n",
       "    </tr>\n",
       "    <tr>\n",
       "      <th>1</th>\n",
       "      <td>NaN</td>\n",
       "      <td>4.0</td>\n",
       "      <td>foo</td>\n",
       "    </tr>\n",
       "    <tr>\n",
       "      <th>2</th>\n",
       "      <td>2.0</td>\n",
       "      <td>NaN</td>\n",
       "      <td>foo</td>\n",
       "    </tr>\n",
       "    <tr>\n",
       "      <th>3</th>\n",
       "      <td>3.0</td>\n",
       "      <td>5.0</td>\n",
       "      <td>foo</td>\n",
       "    </tr>\n",
       "    <tr>\n",
       "      <th>4</th>\n",
       "      <td>6.0</td>\n",
       "      <td>9.0</td>\n",
       "      <td>foo</td>\n",
       "    </tr>\n",
       "    <tr>\n",
       "      <th>5</th>\n",
       "      <td>NaN</td>\n",
       "      <td>NaN</td>\n",
       "      <td>foo</td>\n",
       "    </tr>\n",
       "  </tbody>\n",
       "</table>\n",
       "</div>"
      ],
      "text/plain": [
       "     A    B    C\n",
       "0  1.0  NaN  foo\n",
       "1  NaN  4.0  foo\n",
       "2  2.0  NaN  foo\n",
       "3  3.0  5.0  foo\n",
       "4  6.0  9.0  foo\n",
       "5  NaN  NaN  foo"
      ]
     },
     "execution_count": 81,
     "metadata": {},
     "output_type": "execute_result"
    }
   ],
   "source": [
    "df"
   ]
  },
  {
   "cell_type": "code",
   "execution_count": 91,
   "metadata": {
    "collapsed": true
   },
   "outputs": [],
   "source": [
    "# 将全体列重命名\n",
    "# df.rename(columns=lambda x: x+ 2)\n",
    "df.rename(columns=lambda x: x + str(len(x)), inplace=True)"
   ]
  },
  {
   "cell_type": "code",
   "execution_count": 92,
   "metadata": {},
   "outputs": [
    {
     "data": {
      "text/html": [
       "<div>\n",
       "<table border=\"1\" class=\"dataframe\">\n",
       "  <thead>\n",
       "    <tr style=\"text-align: right;\">\n",
       "      <th></th>\n",
       "      <th>A123</th>\n",
       "      <th>B123</th>\n",
       "      <th>C123</th>\n",
       "    </tr>\n",
       "  </thead>\n",
       "  <tbody>\n",
       "    <tr>\n",
       "      <th>0</th>\n",
       "      <td>1.0</td>\n",
       "      <td>NaN</td>\n",
       "      <td>foo</td>\n",
       "    </tr>\n",
       "    <tr>\n",
       "      <th>1</th>\n",
       "      <td>NaN</td>\n",
       "      <td>4.0</td>\n",
       "      <td>foo</td>\n",
       "    </tr>\n",
       "    <tr>\n",
       "      <th>2</th>\n",
       "      <td>2.0</td>\n",
       "      <td>NaN</td>\n",
       "      <td>foo</td>\n",
       "    </tr>\n",
       "    <tr>\n",
       "      <th>3</th>\n",
       "      <td>3.0</td>\n",
       "      <td>5.0</td>\n",
       "      <td>foo</td>\n",
       "    </tr>\n",
       "    <tr>\n",
       "      <th>4</th>\n",
       "      <td>6.0</td>\n",
       "      <td>9.0</td>\n",
       "      <td>foo</td>\n",
       "    </tr>\n",
       "    <tr>\n",
       "      <th>5</th>\n",
       "      <td>NaN</td>\n",
       "      <td>NaN</td>\n",
       "      <td>foo</td>\n",
       "    </tr>\n",
       "  </tbody>\n",
       "</table>\n",
       "</div>"
      ],
      "text/plain": [
       "   A123  B123 C123\n",
       "0   1.0   NaN  foo\n",
       "1   NaN   4.0  foo\n",
       "2   2.0   NaN  foo\n",
       "3   3.0   5.0  foo\n",
       "4   6.0   9.0  foo\n",
       "5   NaN   NaN  foo"
      ]
     },
     "execution_count": 92,
     "metadata": {},
     "output_type": "execute_result"
    }
   ],
   "source": [
    "df"
   ]
  },
  {
   "cell_type": "code",
   "execution_count": 101,
   "metadata": {
    "collapsed": true
   },
   "outputs": [],
   "source": [
    "df.rename(index=lambda x: x + 1000, inplace=True)"
   ]
  },
  {
   "cell_type": "code",
   "execution_count": 102,
   "metadata": {},
   "outputs": [
    {
     "data": {
      "text/html": [
       "<div>\n",
       "<table border=\"1\" class=\"dataframe\">\n",
       "  <thead>\n",
       "    <tr style=\"text-align: right;\">\n",
       "      <th></th>\n",
       "      <th>A123</th>\n",
       "      <th>B123</th>\n",
       "      <th>C123</th>\n",
       "    </tr>\n",
       "  </thead>\n",
       "  <tbody>\n",
       "    <tr>\n",
       "      <th>3000</th>\n",
       "      <td>1.0</td>\n",
       "      <td>NaN</td>\n",
       "      <td>foo</td>\n",
       "    </tr>\n",
       "    <tr>\n",
       "      <th>3001</th>\n",
       "      <td>NaN</td>\n",
       "      <td>4.0</td>\n",
       "      <td>foo</td>\n",
       "    </tr>\n",
       "    <tr>\n",
       "      <th>3002</th>\n",
       "      <td>2.0</td>\n",
       "      <td>NaN</td>\n",
       "      <td>foo</td>\n",
       "    </tr>\n",
       "    <tr>\n",
       "      <th>3003</th>\n",
       "      <td>3.0</td>\n",
       "      <td>5.0</td>\n",
       "      <td>foo</td>\n",
       "    </tr>\n",
       "    <tr>\n",
       "      <th>3004</th>\n",
       "      <td>6.0</td>\n",
       "      <td>9.0</td>\n",
       "      <td>foo</td>\n",
       "    </tr>\n",
       "    <tr>\n",
       "      <th>3005</th>\n",
       "      <td>NaN</td>\n",
       "      <td>NaN</td>\n",
       "      <td>foo</td>\n",
       "    </tr>\n",
       "  </tbody>\n",
       "</table>\n",
       "</div>"
      ],
      "text/plain": [
       "      A123  B123 C123\n",
       "3000   1.0   NaN  foo\n",
       "3001   NaN   4.0  foo\n",
       "3002   2.0   NaN  foo\n",
       "3003   3.0   5.0  foo\n",
       "3004   6.0   9.0  foo\n",
       "3005   NaN   NaN  foo"
      ]
     },
     "execution_count": 102,
     "metadata": {},
     "output_type": "execute_result"
    }
   ],
   "source": [
    "df"
   ]
  },
  {
   "cell_type": "code",
   "execution_count": 104,
   "metadata": {},
   "outputs": [
    {
     "data": {
      "text/html": [
       "<div>\n",
       "<table border=\"1\" class=\"dataframe\">\n",
       "  <thead>\n",
       "    <tr style=\"text-align: right;\">\n",
       "      <th></th>\n",
       "      <th>A</th>\n",
       "      <th>B</th>\n",
       "      <th>C</th>\n",
       "      <th>D</th>\n",
       "      <th>E</th>\n",
       "    </tr>\n",
       "  </thead>\n",
       "  <tbody>\n",
       "    <tr>\n",
       "      <th>0</th>\n",
       "      <td>0.593266</td>\n",
       "      <td>0.646115</td>\n",
       "      <td>0.214182</td>\n",
       "      <td>0.174002</td>\n",
       "      <td>0.954884</td>\n",
       "    </tr>\n",
       "    <tr>\n",
       "      <th>1</th>\n",
       "      <td>0.145459</td>\n",
       "      <td>0.901715</td>\n",
       "      <td>0.197148</td>\n",
       "      <td>0.841460</td>\n",
       "      <td>0.680454</td>\n",
       "    </tr>\n",
       "    <tr>\n",
       "      <th>2</th>\n",
       "      <td>0.537994</td>\n",
       "      <td>0.518613</td>\n",
       "      <td>0.279865</td>\n",
       "      <td>0.699619</td>\n",
       "      <td>0.890893</td>\n",
       "    </tr>\n",
       "    <tr>\n",
       "      <th>3</th>\n",
       "      <td>0.089397</td>\n",
       "      <td>0.095813</td>\n",
       "      <td>0.063833</td>\n",
       "      <td>0.517787</td>\n",
       "      <td>0.709486</td>\n",
       "    </tr>\n",
       "    <tr>\n",
       "      <th>4</th>\n",
       "      <td>0.076106</td>\n",
       "      <td>0.548120</td>\n",
       "      <td>0.835588</td>\n",
       "      <td>0.540574</td>\n",
       "      <td>0.554889</td>\n",
       "    </tr>\n",
       "    <tr>\n",
       "      <th>5</th>\n",
       "      <td>0.643453</td>\n",
       "      <td>0.074499</td>\n",
       "      <td>0.569368</td>\n",
       "      <td>0.237825</td>\n",
       "      <td>0.063873</td>\n",
       "    </tr>\n",
       "    <tr>\n",
       "      <th>6</th>\n",
       "      <td>0.806761</td>\n",
       "      <td>0.863302</td>\n",
       "      <td>0.730876</td>\n",
       "      <td>0.602253</td>\n",
       "      <td>0.551565</td>\n",
       "    </tr>\n",
       "    <tr>\n",
       "      <th>7</th>\n",
       "      <td>0.053880</td>\n",
       "      <td>0.550620</td>\n",
       "      <td>0.808715</td>\n",
       "      <td>0.510137</td>\n",
       "      <td>0.178632</td>\n",
       "    </tr>\n",
       "    <tr>\n",
       "      <th>8</th>\n",
       "      <td>0.056600</td>\n",
       "      <td>0.086561</td>\n",
       "      <td>0.758134</td>\n",
       "      <td>0.845162</td>\n",
       "      <td>0.897482</td>\n",
       "    </tr>\n",
       "    <tr>\n",
       "      <th>9</th>\n",
       "      <td>0.028825</td>\n",
       "      <td>0.083205</td>\n",
       "      <td>0.573613</td>\n",
       "      <td>0.007306</td>\n",
       "      <td>0.711500</td>\n",
       "    </tr>\n",
       "  </tbody>\n",
       "</table>\n",
       "</div>"
      ],
      "text/plain": [
       "          A         B         C         D         E\n",
       "0  0.593266  0.646115  0.214182  0.174002  0.954884\n",
       "1  0.145459  0.901715  0.197148  0.841460  0.680454\n",
       "2  0.537994  0.518613  0.279865  0.699619  0.890893\n",
       "3  0.089397  0.095813  0.063833  0.517787  0.709486\n",
       "4  0.076106  0.548120  0.835588  0.540574  0.554889\n",
       "5  0.643453  0.074499  0.569368  0.237825  0.063873\n",
       "6  0.806761  0.863302  0.730876  0.602253  0.551565\n",
       "7  0.053880  0.550620  0.808715  0.510137  0.178632\n",
       "8  0.056600  0.086561  0.758134  0.845162  0.897482\n",
       "9  0.028825  0.083205  0.573613  0.007306  0.711500"
      ]
     },
     "execution_count": 104,
     "metadata": {},
     "output_type": "execute_result"
    }
   ],
   "source": [
    "df = pd.DataFrame(np.random.rand(10,5),columns=list('ABCDE'))\n",
    "df"
   ]
  },
  {
   "cell_type": "markdown",
   "metadata": {},
   "source": [
    "### 还可以这样改类名，使用键值对的方式"
   ]
  },
  {
   "cell_type": "code",
   "execution_count": 106,
   "metadata": {},
   "outputs": [
    {
     "data": {
      "text/html": [
       "<div>\n",
       "<table border=\"1\" class=\"dataframe\">\n",
       "  <thead>\n",
       "    <tr style=\"text-align: right;\">\n",
       "      <th></th>\n",
       "      <th>A</th>\n",
       "      <th>B</th>\n",
       "      <th>C</th>\n",
       "      <th>D</th>\n",
       "      <th>E</th>\n",
       "    </tr>\n",
       "  </thead>\n",
       "  <tbody>\n",
       "    <tr>\n",
       "      <th>0</th>\n",
       "      <td>0.851163</td>\n",
       "      <td>0.556323</td>\n",
       "      <td>0.425149</td>\n",
       "      <td>0.022482</td>\n",
       "      <td>0.414644</td>\n",
       "    </tr>\n",
       "    <tr>\n",
       "      <th>1</th>\n",
       "      <td>0.471457</td>\n",
       "      <td>0.225144</td>\n",
       "      <td>0.850317</td>\n",
       "      <td>0.425423</td>\n",
       "      <td>0.073775</td>\n",
       "    </tr>\n",
       "    <tr>\n",
       "      <th>2</th>\n",
       "      <td>0.292533</td>\n",
       "      <td>0.680643</td>\n",
       "      <td>0.907607</td>\n",
       "      <td>0.365054</td>\n",
       "      <td>0.802461</td>\n",
       "    </tr>\n",
       "    <tr>\n",
       "      <th>3</th>\n",
       "      <td>0.997356</td>\n",
       "      <td>0.919213</td>\n",
       "      <td>0.553785</td>\n",
       "      <td>0.618283</td>\n",
       "      <td>0.619206</td>\n",
       "    </tr>\n",
       "    <tr>\n",
       "      <th>4</th>\n",
       "      <td>0.461528</td>\n",
       "      <td>0.925798</td>\n",
       "      <td>0.279196</td>\n",
       "      <td>0.022940</td>\n",
       "      <td>0.454806</td>\n",
       "    </tr>\n",
       "    <tr>\n",
       "      <th>5</th>\n",
       "      <td>0.395671</td>\n",
       "      <td>0.100481</td>\n",
       "      <td>0.805533</td>\n",
       "      <td>0.281423</td>\n",
       "      <td>0.519440</td>\n",
       "    </tr>\n",
       "    <tr>\n",
       "      <th>6</th>\n",
       "      <td>0.755910</td>\n",
       "      <td>0.954503</td>\n",
       "      <td>0.826173</td>\n",
       "      <td>0.667878</td>\n",
       "      <td>0.443153</td>\n",
       "    </tr>\n",
       "    <tr>\n",
       "      <th>7</th>\n",
       "      <td>0.089434</td>\n",
       "      <td>0.211686</td>\n",
       "      <td>0.328778</td>\n",
       "      <td>0.285604</td>\n",
       "      <td>0.382615</td>\n",
       "    </tr>\n",
       "    <tr>\n",
       "      <th>8</th>\n",
       "      <td>0.540877</td>\n",
       "      <td>0.944312</td>\n",
       "      <td>0.363491</td>\n",
       "      <td>0.713583</td>\n",
       "      <td>0.238567</td>\n",
       "    </tr>\n",
       "    <tr>\n",
       "      <th>9</th>\n",
       "      <td>0.192059</td>\n",
       "      <td>0.334937</td>\n",
       "      <td>0.154395</td>\n",
       "      <td>0.528822</td>\n",
       "      <td>0.668624</td>\n",
       "    </tr>\n",
       "  </tbody>\n",
       "</table>\n",
       "</div>"
      ],
      "text/plain": [
       "          A         B         C         D         E\n",
       "0  0.851163  0.556323  0.425149  0.022482  0.414644\n",
       "1  0.471457  0.225144  0.850317  0.425423  0.073775\n",
       "2  0.292533  0.680643  0.907607  0.365054  0.802461\n",
       "3  0.997356  0.919213  0.553785  0.618283  0.619206\n",
       "4  0.461528  0.925798  0.279196  0.022940  0.454806\n",
       "5  0.395671  0.100481  0.805533  0.281423  0.519440\n",
       "6  0.755910  0.954503  0.826173  0.667878  0.443153\n",
       "7  0.089434  0.211686  0.328778  0.285604  0.382615\n",
       "8  0.540877  0.944312  0.363491  0.713583  0.238567\n",
       "9  0.192059  0.334937  0.154395  0.528822  0.668624"
      ]
     },
     "execution_count": 106,
     "metadata": {},
     "output_type": "execute_result"
    }
   ],
   "source": [
    "df = pd.DataFrame(np.random.rand(10, 5), columns=list('ABCDE'))\n",
    "df"
   ]
  },
  {
   "cell_type": "code",
   "execution_count": 110,
   "metadata": {
    "collapsed": true
   },
   "outputs": [],
   "source": [
    "df.rename(columns={'A': 'name', 'B': 'age'}, inplace=True)"
   ]
  },
  {
   "cell_type": "code",
   "execution_count": 113,
   "metadata": {},
   "outputs": [
    {
     "data": {
      "text/html": [
       "<div>\n",
       "<table border=\"1\" class=\"dataframe\">\n",
       "  <thead>\n",
       "    <tr style=\"text-align: right;\">\n",
       "      <th></th>\n",
       "      <th>name</th>\n",
       "      <th>age</th>\n",
       "      <th>C</th>\n",
       "      <th>D</th>\n",
       "      <th>E</th>\n",
       "    </tr>\n",
       "  </thead>\n",
       "  <tbody>\n",
       "    <tr>\n",
       "      <th>0</th>\n",
       "      <td>0.851163</td>\n",
       "      <td>0.556323</td>\n",
       "      <td>0.425149</td>\n",
       "      <td>0.022482</td>\n",
       "      <td>0.414644</td>\n",
       "    </tr>\n",
       "    <tr>\n",
       "      <th>1</th>\n",
       "      <td>0.471457</td>\n",
       "      <td>0.225144</td>\n",
       "      <td>0.850317</td>\n",
       "      <td>0.425423</td>\n",
       "      <td>0.073775</td>\n",
       "    </tr>\n",
       "    <tr>\n",
       "      <th>2</th>\n",
       "      <td>0.292533</td>\n",
       "      <td>0.680643</td>\n",
       "      <td>0.907607</td>\n",
       "      <td>0.365054</td>\n",
       "      <td>0.802461</td>\n",
       "    </tr>\n",
       "    <tr>\n",
       "      <th>3</th>\n",
       "      <td>0.997356</td>\n",
       "      <td>0.919213</td>\n",
       "      <td>0.553785</td>\n",
       "      <td>0.618283</td>\n",
       "      <td>0.619206</td>\n",
       "    </tr>\n",
       "    <tr>\n",
       "      <th>4</th>\n",
       "      <td>0.461528</td>\n",
       "      <td>0.925798</td>\n",
       "      <td>0.279196</td>\n",
       "      <td>0.022940</td>\n",
       "      <td>0.454806</td>\n",
       "    </tr>\n",
       "    <tr>\n",
       "      <th>5</th>\n",
       "      <td>0.395671</td>\n",
       "      <td>0.100481</td>\n",
       "      <td>0.805533</td>\n",
       "      <td>0.281423</td>\n",
       "      <td>0.519440</td>\n",
       "    </tr>\n",
       "    <tr>\n",
       "      <th>6</th>\n",
       "      <td>0.755910</td>\n",
       "      <td>0.954503</td>\n",
       "      <td>0.826173</td>\n",
       "      <td>0.667878</td>\n",
       "      <td>0.443153</td>\n",
       "    </tr>\n",
       "    <tr>\n",
       "      <th>7</th>\n",
       "      <td>0.089434</td>\n",
       "      <td>0.211686</td>\n",
       "      <td>0.328778</td>\n",
       "      <td>0.285604</td>\n",
       "      <td>0.382615</td>\n",
       "    </tr>\n",
       "    <tr>\n",
       "      <th>8</th>\n",
       "      <td>0.540877</td>\n",
       "      <td>0.944312</td>\n",
       "      <td>0.363491</td>\n",
       "      <td>0.713583</td>\n",
       "      <td>0.238567</td>\n",
       "    </tr>\n",
       "    <tr>\n",
       "      <th>9</th>\n",
       "      <td>0.192059</td>\n",
       "      <td>0.334937</td>\n",
       "      <td>0.154395</td>\n",
       "      <td>0.528822</td>\n",
       "      <td>0.668624</td>\n",
       "    </tr>\n",
       "  </tbody>\n",
       "</table>\n",
       "</div>"
      ],
      "text/plain": [
       "       name       age         C         D         E\n",
       "0  0.851163  0.556323  0.425149  0.022482  0.414644\n",
       "1  0.471457  0.225144  0.850317  0.425423  0.073775\n",
       "2  0.292533  0.680643  0.907607  0.365054  0.802461\n",
       "3  0.997356  0.919213  0.553785  0.618283  0.619206\n",
       "4  0.461528  0.925798  0.279196  0.022940  0.454806\n",
       "5  0.395671  0.100481  0.805533  0.281423  0.519440\n",
       "6  0.755910  0.954503  0.826173  0.667878  0.443153\n",
       "7  0.089434  0.211686  0.328778  0.285604  0.382615\n",
       "8  0.540877  0.944312  0.363491  0.713583  0.238567\n",
       "9  0.192059  0.334937  0.154395  0.528822  0.668624"
      ]
     },
     "execution_count": 113,
     "metadata": {},
     "output_type": "execute_result"
    }
   ],
   "source": [
    "df"
   ]
  },
  {
   "cell_type": "code",
   "execution_count": 112,
   "metadata": {
    "collapsed": true
   },
   "outputs": [],
   "source": [
    "# 改变其中一列的值成为索引\n",
    "# df.set_index('column_one')"
   ]
  },
  {
   "cell_type": "code",
   "execution_count": 114,
   "metadata": {},
   "outputs": [
    {
     "data": {
      "text/html": [
       "<div>\n",
       "<table border=\"1\" class=\"dataframe\">\n",
       "  <thead>\n",
       "    <tr style=\"text-align: right;\">\n",
       "      <th></th>\n",
       "      <th>age</th>\n",
       "      <th>C</th>\n",
       "      <th>D</th>\n",
       "      <th>E</th>\n",
       "    </tr>\n",
       "    <tr>\n",
       "      <th>name</th>\n",
       "      <th></th>\n",
       "      <th></th>\n",
       "      <th></th>\n",
       "      <th></th>\n",
       "    </tr>\n",
       "  </thead>\n",
       "  <tbody>\n",
       "    <tr>\n",
       "      <th>0.851163</th>\n",
       "      <td>0.556323</td>\n",
       "      <td>0.425149</td>\n",
       "      <td>0.022482</td>\n",
       "      <td>0.414644</td>\n",
       "    </tr>\n",
       "    <tr>\n",
       "      <th>0.471457</th>\n",
       "      <td>0.225144</td>\n",
       "      <td>0.850317</td>\n",
       "      <td>0.425423</td>\n",
       "      <td>0.073775</td>\n",
       "    </tr>\n",
       "    <tr>\n",
       "      <th>0.292533</th>\n",
       "      <td>0.680643</td>\n",
       "      <td>0.907607</td>\n",
       "      <td>0.365054</td>\n",
       "      <td>0.802461</td>\n",
       "    </tr>\n",
       "    <tr>\n",
       "      <th>0.997356</th>\n",
       "      <td>0.919213</td>\n",
       "      <td>0.553785</td>\n",
       "      <td>0.618283</td>\n",
       "      <td>0.619206</td>\n",
       "    </tr>\n",
       "    <tr>\n",
       "      <th>0.461528</th>\n",
       "      <td>0.925798</td>\n",
       "      <td>0.279196</td>\n",
       "      <td>0.022940</td>\n",
       "      <td>0.454806</td>\n",
       "    </tr>\n",
       "    <tr>\n",
       "      <th>0.395671</th>\n",
       "      <td>0.100481</td>\n",
       "      <td>0.805533</td>\n",
       "      <td>0.281423</td>\n",
       "      <td>0.519440</td>\n",
       "    </tr>\n",
       "    <tr>\n",
       "      <th>0.755910</th>\n",
       "      <td>0.954503</td>\n",
       "      <td>0.826173</td>\n",
       "      <td>0.667878</td>\n",
       "      <td>0.443153</td>\n",
       "    </tr>\n",
       "    <tr>\n",
       "      <th>0.089434</th>\n",
       "      <td>0.211686</td>\n",
       "      <td>0.328778</td>\n",
       "      <td>0.285604</td>\n",
       "      <td>0.382615</td>\n",
       "    </tr>\n",
       "    <tr>\n",
       "      <th>0.540877</th>\n",
       "      <td>0.944312</td>\n",
       "      <td>0.363491</td>\n",
       "      <td>0.713583</td>\n",
       "      <td>0.238567</td>\n",
       "    </tr>\n",
       "    <tr>\n",
       "      <th>0.192059</th>\n",
       "      <td>0.334937</td>\n",
       "      <td>0.154395</td>\n",
       "      <td>0.528822</td>\n",
       "      <td>0.668624</td>\n",
       "    </tr>\n",
       "  </tbody>\n",
       "</table>\n",
       "</div>"
      ],
      "text/plain": [
       "               age         C         D         E\n",
       "name                                            \n",
       "0.851163  0.556323  0.425149  0.022482  0.414644\n",
       "0.471457  0.225144  0.850317  0.425423  0.073775\n",
       "0.292533  0.680643  0.907607  0.365054  0.802461\n",
       "0.997356  0.919213  0.553785  0.618283  0.619206\n",
       "0.461528  0.925798  0.279196  0.022940  0.454806\n",
       "0.395671  0.100481  0.805533  0.281423  0.519440\n",
       "0.755910  0.954503  0.826173  0.667878  0.443153\n",
       "0.089434  0.211686  0.328778  0.285604  0.382615\n",
       "0.540877  0.944312  0.363491  0.713583  0.238567\n",
       "0.192059  0.334937  0.154395  0.528822  0.668624"
      ]
     },
     "execution_count": 114,
     "metadata": {},
     "output_type": "execute_result"
    }
   ],
   "source": [
    "df.set_index('name')"
   ]
  },
  {
   "cell_type": "code",
   "execution_count": 126,
   "metadata": {
    "collapsed": true
   },
   "outputs": [],
   "source": [
    "df = pd.DataFrame(np.random.randint(3, 7, (10, 5)),columns=list(\"ABCDE\"))\n",
    "df.rename(inplace=True, index=lambda x: x + 1000)"
   ]
  },
  {
   "cell_type": "code",
   "execution_count": 127,
   "metadata": {},
   "outputs": [
    {
     "data": {
      "text/html": [
       "<div>\n",
       "<table border=\"1\" class=\"dataframe\">\n",
       "  <thead>\n",
       "    <tr style=\"text-align: right;\">\n",
       "      <th></th>\n",
       "      <th>A</th>\n",
       "      <th>B</th>\n",
       "      <th>C</th>\n",
       "      <th>D</th>\n",
       "      <th>E</th>\n",
       "    </tr>\n",
       "  </thead>\n",
       "  <tbody>\n",
       "    <tr>\n",
       "      <th>1000</th>\n",
       "      <td>3</td>\n",
       "      <td>5</td>\n",
       "      <td>5</td>\n",
       "      <td>6</td>\n",
       "      <td>4</td>\n",
       "    </tr>\n",
       "    <tr>\n",
       "      <th>1001</th>\n",
       "      <td>6</td>\n",
       "      <td>4</td>\n",
       "      <td>3</td>\n",
       "      <td>6</td>\n",
       "      <td>5</td>\n",
       "    </tr>\n",
       "    <tr>\n",
       "      <th>1002</th>\n",
       "      <td>3</td>\n",
       "      <td>6</td>\n",
       "      <td>5</td>\n",
       "      <td>3</td>\n",
       "      <td>5</td>\n",
       "    </tr>\n",
       "    <tr>\n",
       "      <th>1003</th>\n",
       "      <td>3</td>\n",
       "      <td>6</td>\n",
       "      <td>5</td>\n",
       "      <td>4</td>\n",
       "      <td>6</td>\n",
       "    </tr>\n",
       "    <tr>\n",
       "      <th>1004</th>\n",
       "      <td>3</td>\n",
       "      <td>5</td>\n",
       "      <td>5</td>\n",
       "      <td>5</td>\n",
       "      <td>6</td>\n",
       "    </tr>\n",
       "    <tr>\n",
       "      <th>1005</th>\n",
       "      <td>6</td>\n",
       "      <td>6</td>\n",
       "      <td>4</td>\n",
       "      <td>4</td>\n",
       "      <td>6</td>\n",
       "    </tr>\n",
       "    <tr>\n",
       "      <th>1006</th>\n",
       "      <td>3</td>\n",
       "      <td>6</td>\n",
       "      <td>5</td>\n",
       "      <td>4</td>\n",
       "      <td>5</td>\n",
       "    </tr>\n",
       "    <tr>\n",
       "      <th>1007</th>\n",
       "      <td>4</td>\n",
       "      <td>4</td>\n",
       "      <td>3</td>\n",
       "      <td>3</td>\n",
       "      <td>6</td>\n",
       "    </tr>\n",
       "    <tr>\n",
       "      <th>1008</th>\n",
       "      <td>4</td>\n",
       "      <td>6</td>\n",
       "      <td>5</td>\n",
       "      <td>3</td>\n",
       "      <td>5</td>\n",
       "    </tr>\n",
       "    <tr>\n",
       "      <th>1009</th>\n",
       "      <td>5</td>\n",
       "      <td>4</td>\n",
       "      <td>3</td>\n",
       "      <td>6</td>\n",
       "      <td>6</td>\n",
       "    </tr>\n",
       "  </tbody>\n",
       "</table>\n",
       "</div>"
      ],
      "text/plain": [
       "      A  B  C  D  E\n",
       "1000  3  5  5  6  4\n",
       "1001  6  4  3  6  5\n",
       "1002  3  6  5  3  5\n",
       "1003  3  6  5  4  6\n",
       "1004  3  5  5  5  6\n",
       "1005  6  6  4  4  6\n",
       "1006  3  6  5  4  5\n",
       "1007  4  4  3  3  6\n",
       "1008  4  6  5  3  5\n",
       "1009  5  4  3  6  6"
      ]
     },
     "execution_count": 127,
     "metadata": {},
     "output_type": "execute_result"
    }
   ],
   "source": [
    "df"
   ]
  },
  {
   "cell_type": "code",
   "execution_count": 128,
   "metadata": {},
   "outputs": [
    {
     "data": {
      "text/plain": [
       "A    6\n",
       "B    4\n",
       "C    3\n",
       "D    6\n",
       "E    5\n",
       "Name: 1001, dtype: int64"
      ]
     },
     "execution_count": 128,
     "metadata": {},
     "output_type": "execute_result"
    }
   ],
   "source": [
    "df.loc[1001]"
   ]
  },
  {
   "cell_type": "code",
   "execution_count": 130,
   "metadata": {},
   "outputs": [
    {
     "data": {
      "text/html": [
       "<div>\n",
       "<table border=\"1\" class=\"dataframe\">\n",
       "  <thead>\n",
       "    <tr style=\"text-align: right;\">\n",
       "      <th></th>\n",
       "      <th>A</th>\n",
       "      <th>B</th>\n",
       "      <th>C</th>\n",
       "      <th>D</th>\n",
       "    </tr>\n",
       "  </thead>\n",
       "  <tbody>\n",
       "    <tr>\n",
       "      <th>0</th>\n",
       "      <td>foo</td>\n",
       "      <td>one</td>\n",
       "      <td>small</td>\n",
       "      <td>1</td>\n",
       "    </tr>\n",
       "    <tr>\n",
       "      <th>1</th>\n",
       "      <td>foo</td>\n",
       "      <td>one</td>\n",
       "      <td>medium</td>\n",
       "      <td>2</td>\n",
       "    </tr>\n",
       "    <tr>\n",
       "      <th>2</th>\n",
       "      <td>foo</td>\n",
       "      <td>two</td>\n",
       "      <td>large</td>\n",
       "      <td>2</td>\n",
       "    </tr>\n",
       "    <tr>\n",
       "      <th>3</th>\n",
       "      <td>foo</td>\n",
       "      <td>two</td>\n",
       "      <td>large</td>\n",
       "      <td>3</td>\n",
       "    </tr>\n",
       "    <tr>\n",
       "      <th>4</th>\n",
       "      <td>bar</td>\n",
       "      <td>three</td>\n",
       "      <td>small</td>\n",
       "      <td>3</td>\n",
       "    </tr>\n",
       "    <tr>\n",
       "      <th>5</th>\n",
       "      <td>bar</td>\n",
       "      <td>three</td>\n",
       "      <td>small</td>\n",
       "      <td>5</td>\n",
       "    </tr>\n",
       "  </tbody>\n",
       "</table>\n",
       "</div>"
      ],
      "text/plain": [
       "     A      B       C  D\n",
       "0  foo    one   small  1\n",
       "1  foo    one  medium  2\n",
       "2  foo    two   large  2\n",
       "3  foo    two   large  3\n",
       "4  bar  three   small  3\n",
       "5  bar  three   small  5"
      ]
     },
     "execution_count": 130,
     "metadata": {},
     "output_type": "execute_result"
    }
   ],
   "source": [
    "df = pd.DataFrame({'A': np.array(['foo', 'foo', 'foo', 'foo', 'bar', 'bar']),\n",
    "                   'B': np.array(['one', 'one', 'two', 'two', 'three', 'three']),\n",
    "                   'C': np.array(['small', 'medium', 'large', 'large', 'small', 'small']),\n",
    "                   'D': np.array([1, 2, 2, 3, 3, 5])})\n",
    "\n",
    "df"
   ]
  },
  {
   "cell_type": "code",
   "execution_count": 131,
   "metadata": {},
   "outputs": [
    {
     "data": {
      "text/html": [
       "<div>\n",
       "<table border=\"1\" class=\"dataframe\">\n",
       "  <thead>\n",
       "    <tr style=\"text-align: right;\">\n",
       "      <th></th>\n",
       "      <th>B</th>\n",
       "      <th>C</th>\n",
       "      <th>D</th>\n",
       "    </tr>\n",
       "    <tr>\n",
       "      <th>A</th>\n",
       "      <th></th>\n",
       "      <th></th>\n",
       "      <th></th>\n",
       "    </tr>\n",
       "  </thead>\n",
       "  <tbody>\n",
       "    <tr>\n",
       "      <th>bar</th>\n",
       "      <td>2</td>\n",
       "      <td>2</td>\n",
       "      <td>2</td>\n",
       "    </tr>\n",
       "    <tr>\n",
       "      <th>foo</th>\n",
       "      <td>4</td>\n",
       "      <td>4</td>\n",
       "      <td>4</td>\n",
       "    </tr>\n",
       "  </tbody>\n",
       "</table>\n",
       "</div>"
      ],
      "text/plain": [
       "     B  C  D\n",
       "A           \n",
       "bar  2  2  2\n",
       "foo  4  4  4"
      ]
     },
     "execution_count": 131,
     "metadata": {},
     "output_type": "execute_result"
    }
   ],
   "source": [
    "df.groupby('A').count()"
   ]
  },
  {
   "cell_type": "code",
   "execution_count": 133,
   "metadata": {},
   "outputs": [
    {
     "data": {
      "text/html": [
       "<div>\n",
       "<table border=\"1\" class=\"dataframe\">\n",
       "  <thead>\n",
       "    <tr style=\"text-align: right;\">\n",
       "      <th></th>\n",
       "      <th>A</th>\n",
       "      <th>B</th>\n",
       "      <th>C</th>\n",
       "      <th>D</th>\n",
       "    </tr>\n",
       "  </thead>\n",
       "  <tbody>\n",
       "    <tr>\n",
       "      <th>0</th>\n",
       "      <td>foo</td>\n",
       "      <td>one</td>\n",
       "      <td>small</td>\n",
       "      <td>1</td>\n",
       "    </tr>\n",
       "    <tr>\n",
       "      <th>1</th>\n",
       "      <td>foo</td>\n",
       "      <td>one</td>\n",
       "      <td>medium</td>\n",
       "      <td>2</td>\n",
       "    </tr>\n",
       "    <tr>\n",
       "      <th>2</th>\n",
       "      <td>foo</td>\n",
       "      <td>two</td>\n",
       "      <td>large</td>\n",
       "      <td>2</td>\n",
       "    </tr>\n",
       "    <tr>\n",
       "      <th>3</th>\n",
       "      <td>foo</td>\n",
       "      <td>two</td>\n",
       "      <td>large</td>\n",
       "      <td>3</td>\n",
       "    </tr>\n",
       "    <tr>\n",
       "      <th>4</th>\n",
       "      <td>bar</td>\n",
       "      <td>three</td>\n",
       "      <td>small</td>\n",
       "      <td>3</td>\n",
       "    </tr>\n",
       "    <tr>\n",
       "      <th>5</th>\n",
       "      <td>bar</td>\n",
       "      <td>three</td>\n",
       "      <td>small</td>\n",
       "      <td>5</td>\n",
       "    </tr>\n",
       "  </tbody>\n",
       "</table>\n",
       "</div>"
      ],
      "text/plain": [
       "     A      B       C  D\n",
       "0  foo    one   small  1\n",
       "1  foo    one  medium  2\n",
       "2  foo    two   large  2\n",
       "3  foo    two   large  3\n",
       "4  bar  three   small  3\n",
       "5  bar  three   small  5"
      ]
     },
     "execution_count": 133,
     "metadata": {},
     "output_type": "execute_result"
    }
   ],
   "source": [
    "df = pd.DataFrame({'A': np.array(['foo', 'foo', 'foo', 'foo', 'bar', 'bar']),\n",
    "                   'B': np.array(['one', 'one', 'two', 'two', 'three', 'three']),\n",
    "                   'C': np.array(['small', 'medium', 'large', 'large', 'small', 'small']),\n",
    "                   'D': np.array([1, 2, 2, 3, 3, 5])})\n",
    "df"
   ]
  },
  {
   "cell_type": "code",
   "execution_count": 135,
   "metadata": {},
   "outputs": [
    {
     "data": {
      "text/html": [
       "<div>\n",
       "<table border=\"1\" class=\"dataframe\">\n",
       "  <thead>\n",
       "    <tr style=\"text-align: right;\">\n",
       "      <th></th>\n",
       "      <th></th>\n",
       "      <th>A</th>\n",
       "      <th>D</th>\n",
       "    </tr>\n",
       "    <tr>\n",
       "      <th>B</th>\n",
       "      <th>C</th>\n",
       "      <th></th>\n",
       "      <th></th>\n",
       "    </tr>\n",
       "  </thead>\n",
       "  <tbody>\n",
       "    <tr>\n",
       "      <th rowspan=\"2\" valign=\"top\">one</th>\n",
       "      <th>medium</th>\n",
       "      <td>1</td>\n",
       "      <td>1</td>\n",
       "    </tr>\n",
       "    <tr>\n",
       "      <th>small</th>\n",
       "      <td>1</td>\n",
       "      <td>1</td>\n",
       "    </tr>\n",
       "    <tr>\n",
       "      <th>three</th>\n",
       "      <th>small</th>\n",
       "      <td>2</td>\n",
       "      <td>2</td>\n",
       "    </tr>\n",
       "    <tr>\n",
       "      <th>two</th>\n",
       "      <th>large</th>\n",
       "      <td>2</td>\n",
       "      <td>2</td>\n",
       "    </tr>\n",
       "  </tbody>\n",
       "</table>\n",
       "</div>"
      ],
      "text/plain": [
       "              A  D\n",
       "B     C           \n",
       "one   medium  1  1\n",
       "      small   1  1\n",
       "three small   2  2\n",
       "two   large   2  2"
      ]
     },
     "execution_count": 135,
     "metadata": {},
     "output_type": "execute_result"
    }
   ],
   "source": [
    "df.groupby(['B', 'C']).count()"
   ]
  },
  {
   "cell_type": "code",
   "execution_count": 137,
   "metadata": {},
   "outputs": [
    {
     "data": {
      "text/html": [
       "<div>\n",
       "<table border=\"1\" class=\"dataframe\">\n",
       "  <thead>\n",
       "    <tr style=\"text-align: right;\">\n",
       "      <th></th>\n",
       "      <th>A</th>\n",
       "      <th>B</th>\n",
       "      <th>C</th>\n",
       "      <th>D</th>\n",
       "    </tr>\n",
       "  </thead>\n",
       "  <tbody>\n",
       "    <tr>\n",
       "      <th>0</th>\n",
       "      <td>foo</td>\n",
       "      <td>one</td>\n",
       "      <td>small</td>\n",
       "      <td>1</td>\n",
       "    </tr>\n",
       "    <tr>\n",
       "      <th>1</th>\n",
       "      <td>foo</td>\n",
       "      <td>one</td>\n",
       "      <td>medium</td>\n",
       "      <td>2</td>\n",
       "    </tr>\n",
       "    <tr>\n",
       "      <th>2</th>\n",
       "      <td>foo</td>\n",
       "      <td>two</td>\n",
       "      <td>large</td>\n",
       "      <td>2</td>\n",
       "    </tr>\n",
       "    <tr>\n",
       "      <th>3</th>\n",
       "      <td>foo</td>\n",
       "      <td>two</td>\n",
       "      <td>large</td>\n",
       "      <td>3</td>\n",
       "    </tr>\n",
       "    <tr>\n",
       "      <th>4</th>\n",
       "      <td>bar</td>\n",
       "      <td>three</td>\n",
       "      <td>small</td>\n",
       "      <td>3</td>\n",
       "    </tr>\n",
       "    <tr>\n",
       "      <th>5</th>\n",
       "      <td>bar</td>\n",
       "      <td>three</td>\n",
       "      <td>small</td>\n",
       "      <td>5</td>\n",
       "    </tr>\n",
       "  </tbody>\n",
       "</table>\n",
       "</div>"
      ],
      "text/plain": [
       "     A      B       C  D\n",
       "0  foo    one   small  1\n",
       "1  foo    one  medium  2\n",
       "2  foo    two   large  2\n",
       "3  foo    two   large  3\n",
       "4  bar  three   small  3\n",
       "5  bar  three   small  5"
      ]
     },
     "execution_count": 137,
     "metadata": {},
     "output_type": "execute_result"
    }
   ],
   "source": [
    "df = pd.DataFrame({'A': np.array(['foo', 'foo', 'foo', 'foo', 'bar', 'bar']),\n",
    "                   'B': np.array(['one', 'one', 'two', 'two', 'three', 'three']),\n",
    "                   'C': np.array(['small', 'medium', 'large', 'large', 'small', 'small']),\n",
    "                   'D': np.array([1, 2, 2, 3, 3, 5])})\n",
    "df"
   ]
  },
  {
   "cell_type": "code",
   "execution_count": 138,
   "metadata": {},
   "outputs": [
    {
     "data": {
      "text/plain": [
       "B\n",
       "one      1.5\n",
       "three    4.0\n",
       "two      2.5\n",
       "Name: D, dtype: float64"
      ]
     },
     "execution_count": 138,
     "metadata": {},
     "output_type": "execute_result"
    }
   ],
   "source": [
    "df.groupby('B')['D'].mean()"
   ]
  },
  {
   "cell_type": "code",
   "execution_count": 139,
   "metadata": {},
   "outputs": [
    {
     "data": {
      "text/plain": [
       "<pandas.core.groupby.DataFrameGroupBy object at 0x120de0630>"
      ]
     },
     "execution_count": 139,
     "metadata": {},
     "output_type": "execute_result"
    }
   ],
   "source": [
    "df.groupby('B')"
   ]
  },
  {
   "cell_type": "code",
   "execution_count": 142,
   "metadata": {},
   "outputs": [
    {
     "data": {
      "text/html": [
       "<div>\n",
       "<table border=\"1\" class=\"dataframe\">\n",
       "  <thead>\n",
       "    <tr style=\"text-align: right;\">\n",
       "      <th></th>\n",
       "      <th>A</th>\n",
       "      <th>B</th>\n",
       "      <th>C</th>\n",
       "      <th>D</th>\n",
       "      <th>E</th>\n",
       "    </tr>\n",
       "  </thead>\n",
       "  <tbody>\n",
       "    <tr>\n",
       "      <th>0</th>\n",
       "      <td>0.221092</td>\n",
       "      <td>0.713371</td>\n",
       "      <td>0.762740</td>\n",
       "      <td>0.685290</td>\n",
       "      <td>0.670438</td>\n",
       "    </tr>\n",
       "    <tr>\n",
       "      <th>1</th>\n",
       "      <td>0.321329</td>\n",
       "      <td>0.567826</td>\n",
       "      <td>0.003137</td>\n",
       "      <td>0.799035</td>\n",
       "      <td>0.834801</td>\n",
       "    </tr>\n",
       "    <tr>\n",
       "      <th>2</th>\n",
       "      <td>0.103024</td>\n",
       "      <td>0.476569</td>\n",
       "      <td>0.551838</td>\n",
       "      <td>0.092224</td>\n",
       "      <td>0.680237</td>\n",
       "    </tr>\n",
       "    <tr>\n",
       "      <th>3</th>\n",
       "      <td>0.788913</td>\n",
       "      <td>0.998963</td>\n",
       "      <td>0.995510</td>\n",
       "      <td>0.985308</td>\n",
       "      <td>0.023313</td>\n",
       "    </tr>\n",
       "    <tr>\n",
       "      <th>4</th>\n",
       "      <td>0.743651</td>\n",
       "      <td>0.400000</td>\n",
       "      <td>0.604530</td>\n",
       "      <td>0.387314</td>\n",
       "      <td>0.084087</td>\n",
       "    </tr>\n",
       "    <tr>\n",
       "      <th>5</th>\n",
       "      <td>0.722428</td>\n",
       "      <td>0.955087</td>\n",
       "      <td>0.815200</td>\n",
       "      <td>0.095908</td>\n",
       "      <td>0.849588</td>\n",
       "    </tr>\n",
       "    <tr>\n",
       "      <th>6</th>\n",
       "      <td>0.362909</td>\n",
       "      <td>0.140219</td>\n",
       "      <td>0.969593</td>\n",
       "      <td>0.983634</td>\n",
       "      <td>0.948947</td>\n",
       "    </tr>\n",
       "    <tr>\n",
       "      <th>7</th>\n",
       "      <td>0.249975</td>\n",
       "      <td>0.442121</td>\n",
       "      <td>0.707411</td>\n",
       "      <td>0.071103</td>\n",
       "      <td>0.839770</td>\n",
       "    </tr>\n",
       "    <tr>\n",
       "      <th>8</th>\n",
       "      <td>0.086310</td>\n",
       "      <td>0.095723</td>\n",
       "      <td>0.068590</td>\n",
       "      <td>0.569932</td>\n",
       "      <td>0.714338</td>\n",
       "    </tr>\n",
       "    <tr>\n",
       "      <th>9</th>\n",
       "      <td>0.087610</td>\n",
       "      <td>0.133812</td>\n",
       "      <td>0.208445</td>\n",
       "      <td>0.644377</td>\n",
       "      <td>0.961420</td>\n",
       "    </tr>\n",
       "  </tbody>\n",
       "</table>\n",
       "</div>"
      ],
      "text/plain": [
       "          A         B         C         D         E\n",
       "0  0.221092  0.713371  0.762740  0.685290  0.670438\n",
       "1  0.321329  0.567826  0.003137  0.799035  0.834801\n",
       "2  0.103024  0.476569  0.551838  0.092224  0.680237\n",
       "3  0.788913  0.998963  0.995510  0.985308  0.023313\n",
       "4  0.743651  0.400000  0.604530  0.387314  0.084087\n",
       "5  0.722428  0.955087  0.815200  0.095908  0.849588\n",
       "6  0.362909  0.140219  0.969593  0.983634  0.948947\n",
       "7  0.249975  0.442121  0.707411  0.071103  0.839770\n",
       "8  0.086310  0.095723  0.068590  0.569932  0.714338\n",
       "9  0.087610  0.133812  0.208445  0.644377  0.961420"
      ]
     },
     "execution_count": 142,
     "metadata": {},
     "output_type": "execute_result"
    }
   ],
   "source": [
    "df = pd.DataFrame(np.random.rand(10, 5), columns=list('ABCDE'))\n",
    "df"
   ]
  },
  {
   "cell_type": "code",
   "execution_count": 143,
   "metadata": {},
   "outputs": [
    {
     "data": {
      "text/plain": [
       "A    3.687242\n",
       "B    4.923691\n",
       "C    5.686994\n",
       "D    5.314125\n",
       "E    6.606940\n",
       "dtype: float64"
      ]
     },
     "execution_count": 143,
     "metadata": {},
     "output_type": "execute_result"
    }
   ],
   "source": [
    "df.sum()"
   ]
  },
  {
   "cell_type": "code",
   "execution_count": 144,
   "metadata": {},
   "outputs": [
    {
     "data": {
      "text/plain": [
       "A    0.368724\n",
       "B    0.492369\n",
       "C    0.568699\n",
       "D    0.531412\n",
       "E    0.660694\n",
       "dtype: float64"
      ]
     },
     "execution_count": 144,
     "metadata": {},
     "output_type": "execute_result"
    }
   ],
   "source": [
    "df.mean()"
   ]
  },
  {
   "cell_type": "code",
   "execution_count": 145,
   "metadata": {},
   "outputs": [
    {
     "data": {
      "text/plain": [
       "A    0.368724\n",
       "B    0.492369\n",
       "C    0.568699\n",
       "D    0.531412\n",
       "E    0.660694\n",
       "dtype: float64"
      ]
     },
     "execution_count": 145,
     "metadata": {},
     "output_type": "execute_result"
    }
   ],
   "source": [
    "df.sum() / 10"
   ]
  },
  {
   "cell_type": "code",
   "execution_count": 146,
   "metadata": {},
   "outputs": [
    {
     "data": {
      "text/plain": [
       "A    0.280830\n",
       "B    0.324292\n",
       "C    0.359299\n",
       "D    0.355164\n",
       "E    0.335604\n",
       "dtype: float64"
      ]
     },
     "execution_count": 146,
     "metadata": {},
     "output_type": "execute_result"
    }
   ],
   "source": [
    "df.std()"
   ]
  },
  {
   "cell_type": "code",
   "execution_count": 147,
   "metadata": {
    "collapsed": true
   },
   "outputs": [],
   "source": [
    "df = pd.DataFrame(np.random.rand(10, 5), columns=list('ABCDE'))"
   ]
  },
  {
   "cell_type": "code",
   "execution_count": 149,
   "metadata": {},
   "outputs": [
    {
     "data": {
      "text/html": [
       "<div>\n",
       "<table border=\"1\" class=\"dataframe\">\n",
       "  <thead>\n",
       "    <tr style=\"text-align: right;\">\n",
       "      <th></th>\n",
       "      <th>A</th>\n",
       "      <th>B</th>\n",
       "      <th>C</th>\n",
       "      <th>D</th>\n",
       "      <th>E</th>\n",
       "    </tr>\n",
       "  </thead>\n",
       "  <tbody>\n",
       "    <tr>\n",
       "      <th>A</th>\n",
       "      <td>1.000000</td>\n",
       "      <td>0.188606</td>\n",
       "      <td>-0.084732</td>\n",
       "      <td>-0.009098</td>\n",
       "      <td>-0.222957</td>\n",
       "    </tr>\n",
       "    <tr>\n",
       "      <th>B</th>\n",
       "      <td>0.188606</td>\n",
       "      <td>1.000000</td>\n",
       "      <td>-0.199684</td>\n",
       "      <td>-0.207559</td>\n",
       "      <td>0.338477</td>\n",
       "    </tr>\n",
       "    <tr>\n",
       "      <th>C</th>\n",
       "      <td>-0.084732</td>\n",
       "      <td>-0.199684</td>\n",
       "      <td>1.000000</td>\n",
       "      <td>-0.582091</td>\n",
       "      <td>-0.554040</td>\n",
       "    </tr>\n",
       "    <tr>\n",
       "      <th>D</th>\n",
       "      <td>-0.009098</td>\n",
       "      <td>-0.207559</td>\n",
       "      <td>-0.582091</td>\n",
       "      <td>1.000000</td>\n",
       "      <td>0.374010</td>\n",
       "    </tr>\n",
       "    <tr>\n",
       "      <th>E</th>\n",
       "      <td>-0.222957</td>\n",
       "      <td>0.338477</td>\n",
       "      <td>-0.554040</td>\n",
       "      <td>0.374010</td>\n",
       "      <td>1.000000</td>\n",
       "    </tr>\n",
       "  </tbody>\n",
       "</table>\n",
       "</div>"
      ],
      "text/plain": [
       "          A         B         C         D         E\n",
       "A  1.000000  0.188606 -0.084732 -0.009098 -0.222957\n",
       "B  0.188606  1.000000 -0.199684 -0.207559  0.338477\n",
       "C -0.084732 -0.199684  1.000000 -0.582091 -0.554040\n",
       "D -0.009098 -0.207559 -0.582091  1.000000  0.374010\n",
       "E -0.222957  0.338477 -0.554040  0.374010  1.000000"
      ]
     },
     "execution_count": 149,
     "metadata": {},
     "output_type": "execute_result"
    }
   ],
   "source": [
    "df.corr()"
   ]
  },
  {
   "cell_type": "code",
   "execution_count": 150,
   "metadata": {},
   "outputs": [
    {
     "data": {
      "text/plain": [
       "array([[1.        , 0.18860623],\n",
       "       [0.18860623, 1.        ]])"
      ]
     },
     "execution_count": 150,
     "metadata": {},
     "output_type": "execute_result"
    }
   ],
   "source": [
    "np.corrcoef(df['A'],df['B'])"
   ]
  },
  {
   "cell_type": "code",
   "execution_count": null,
   "metadata": {
    "collapsed": true
   },
   "outputs": [],
   "source": []
  }
 ],
 "metadata": {
  "gist": {
   "data": {
    "description": "Untitled.ipynb",
    "public": false
   },
   "id": ""
  },
  "kernelspec": {
   "display_name": "Python 3",
   "language": "python",
   "name": "python3"
  },
  "language_info": {
   "codemirror_mode": {
    "name": "ipython",
    "version": 3
   },
   "file_extension": ".py",
   "mimetype": "text/x-python",
   "name": "python",
   "nbconvert_exporter": "python",
   "pygments_lexer": "ipython3",
   "version": "3.6.1"
  }
 },
 "nbformat": 4,
 "nbformat_minor": 2
}
