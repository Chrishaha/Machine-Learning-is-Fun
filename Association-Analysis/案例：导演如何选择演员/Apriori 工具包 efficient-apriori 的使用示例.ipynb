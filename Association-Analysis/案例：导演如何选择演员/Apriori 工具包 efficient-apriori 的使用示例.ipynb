{
 "cells": [
  {
   "cell_type": "markdown",
   "metadata": {},
   "source": [
    "# Apriori 工具包 efficient-apriori 的使用示例"
   ]
  },
  {
   "cell_type": "markdown",
   "metadata": {},
   "source": [
    "在 https://pypi.org/ 上搜索 apriori 关键字。"
   ]
  },
  {
   "cell_type": "code",
   "execution_count": 1,
   "metadata": {
    "collapsed": true
   },
   "outputs": [],
   "source": [
    "from efficient_apriori import apriori"
   ]
  },
  {
   "cell_type": "code",
   "execution_count": 3,
   "metadata": {
    "collapsed": true
   },
   "outputs": [],
   "source": [
    "# 设置数据集\n",
    "data = [('牛奶', '面包', '尿布'),\n",
    "        ('可乐', '面包', '尿布', '啤酒'),\n",
    "        ('牛奶', '尿布', '啤酒', '鸡蛋'),\n",
    "        ('面包', '牛奶', '尿布', '啤酒'),\n",
    "        ('面包', '牛奶', '尿布', '可乐')]"
   ]
  },
  {
   "cell_type": "code",
   "execution_count": 4,
   "metadata": {
    "collapsed": true
   },
   "outputs": [],
   "source": [
    "# 挖掘频繁项集和频繁关联规则\n",
    "# 支持度：频数\n",
    "# 置信度：A 发生的前提下，B 发生的概率，是一个条件概率\n",
    "itemsets, rules = apriori(data, min_support=0.5, min_confidence=1)"
   ]
  },
  {
   "cell_type": "code",
   "execution_count": 5,
   "metadata": {},
   "outputs": [
    {
     "name": "stdout",
     "output_type": "stream",
     "text": [
      "频繁项集：\n",
      "1-项集有： {('啤酒',): 3, ('尿布',): 5, ('牛奶',): 4, ('面包',): 4}\n",
      "2-项集有： {('啤酒', '尿布'): 3, ('尿布', '牛奶'): 4, ('尿布', '面包'): 4, ('牛奶', '面包'): 3}\n",
      "3-项集有： {('尿布', '牛奶', '面包'): 3}\n"
     ]
    }
   ],
   "source": [
    "print('频繁项集：')\n",
    "for count, vals in itemsets.items():\n",
    "    print('{}-项集有：'.format(count), vals)"
   ]
  },
  {
   "cell_type": "code",
   "execution_count": 6,
   "metadata": {},
   "outputs": [
    {
     "name": "stdout",
     "output_type": "stream",
     "text": [
      "关联规则：\n",
      "{啤酒} -> {尿布} (conf: 1.000, supp: 0.600, lift: 1.000, conv: 0.000)\n",
      "{牛奶} -> {尿布} (conf: 1.000, supp: 0.800, lift: 1.000, conv: 0.000)\n",
      "{面包} -> {尿布} (conf: 1.000, supp: 0.800, lift: 1.000, conv: 0.000)\n",
      "{牛奶, 面包} -> {尿布} (conf: 1.000, supp: 0.600, lift: 1.000, conv: 0.000)\n"
     ]
    }
   ],
   "source": [
    "print('关联规则：')\n",
    "for rule in rules:\n",
    "    print(rule)"
   ]
  },
  {
   "cell_type": "code",
   "execution_count": null,
   "metadata": {
    "collapsed": true
   },
   "outputs": [],
   "source": []
  }
 ],
 "metadata": {
  "kernelspec": {
   "display_name": "Python 3",
   "language": "python",
   "name": "python3"
  },
  "language_info": {
   "codemirror_mode": {
    "name": "ipython",
    "version": 3
   },
   "file_extension": ".py",
   "mimetype": "text/x-python",
   "name": "python",
   "nbconvert_exporter": "python",
   "pygments_lexer": "ipython3",
   "version": "3.6.1"
  },
  "toc": {
   "nav_menu": {},
   "number_sections": true,
   "sideBar": true,
   "skip_h1_title": false,
   "toc_cell": false,
   "toc_position": {},
   "toc_section_display": "block",
   "toc_window_display": false
  }
 },
 "nbformat": 4,
 "nbformat_minor": 2
}
