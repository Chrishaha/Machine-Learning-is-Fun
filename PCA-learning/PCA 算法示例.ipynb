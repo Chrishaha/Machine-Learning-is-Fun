{
 "cells": [
  {
   "cell_type": "markdown",
   "metadata": {},
   "source": [
    "# PCA 算法示例"
   ]
  },
  {
   "cell_type": "code",
   "execution_count": 69,
   "metadata": {},
   "outputs": [
    {
     "data": {
      "text/plain": [
       "array([[-0.16609096, -0.18050758],\n",
       "       [-0.19766479, -0.21482201],\n",
       "       [ 0.19766479,  0.21482201],\n",
       "       [ 0.56142055,  0.6101516 ],\n",
       "       [-0.39532959, -0.42964402]])"
      ]
     },
     "execution_count": 69,
     "metadata": {},
     "output_type": "execute_result"
    }
   ],
   "source": [
    "from sklearn.decomposition import PCA\n",
    "\n",
    "np.set_printoptions(suppress=True)\n",
    "A = np.array([[3,2000],[2,3000],[4,5000],[5,8000],[1,2000]],dtype='float')\n",
    "mean = np.mean(A,axis=0)# 计算每一列的均值\n",
    "# 可以看到去掉均值以后方差还很大\n",
    "norm = A - mean\n",
    "norm\n",
    "scope = np.max(norm,axis=0) - np.min(norm,axis=0)\n",
    "max_min_std = norm/scope\n",
    "\n",
    "U,S,V = np.linalg.svd(np.dot(max_min_std.T,max_min_std))\n",
    "U_reduce = U[:,0].reshape(2,1)\n",
    "U_reduce\n",
    "R = np.dot(max_min_std,U_reduce)\n",
    "R\n",
    "Z = np.dot(R,U_reduce.T)\n",
    "Z"
   ]
  },
  {
   "cell_type": "code",
   "execution_count": 71,
   "metadata": {},
   "outputs": [
    {
     "data": {
      "text/plain": [
       "array([ 1.2589664 ,  0.08825582])"
      ]
     },
     "execution_count": 71,
     "metadata": {},
     "output_type": "execute_result"
    }
   ],
   "source": [
    "S"
   ]
  },
  {
   "cell_type": "code",
   "execution_count": 70,
   "metadata": {},
   "outputs": [
    {
     "data": {
      "text/plain": [
       "array([[ 0.33390904,  0.15282575],\n",
       "       [ 0.30233521,  0.11851132],\n",
       "       [ 0.69766479,  0.54815534],\n",
       "       [ 1.06142055,  0.94348493],\n",
       "       [ 0.10467041, -0.09631069]])"
      ]
     },
     "execution_count": 70,
     "metadata": {},
     "output_type": "execute_result"
    }
   ],
   "source": [
    "from sklearn.preprocessing import MinMaxScaler\n",
    "from sklearn.decomposition import PCA\n",
    "\n",
    "min_max_scaler = MinMaxScaler()\n",
    "st =  min_max_scaler.fit_transform(A)\n",
    "pca = PCA(n_components=1)\n",
    "R2 = pca.fit_transform(st)\n",
    "pca.inverse_transform(R2)"
   ]
  },
  {
   "cell_type": "code",
   "execution_count": 64,
   "metadata": {},
   "outputs": [
    {
     "data": {
      "text/plain": [
       "array([[-0.2452941 ],\n",
       "       [-0.29192442],\n",
       "       [ 0.29192442],\n",
       "       [ 0.82914294],\n",
       "       [-0.58384884]])"
      ]
     },
     "execution_count": 64,
     "metadata": {},
     "output_type": "execute_result"
    }
   ],
   "source": [
    "from sklearn.decomposition import PCA\n",
    "from sklearn.pipeline import Pipeline\n",
    "from sklearn.preprocessing import MinMaxScaler\n",
    "\n",
    "def std_PCA(**argv):\n",
    "    scaler = MinMaxScaler()\n",
    "    pca = PCA(**argv)\n",
    "    pipeline = Pipeline(\n",
    "        [\n",
    "            ('scaler',scaler),\n",
    "            ('pca',pca)\n",
    "        ]\n",
    "    )\n",
    "    return pipeline\n",
    "\n",
    "pca = std_PCA(n_components=1)\n",
    "R2 = pca.fit_transform(A)\n",
    "R2"
   ]
  },
  {
   "cell_type": "code",
   "execution_count": 52,
   "metadata": {
    "scrolled": true
   },
   "outputs": [
    {
     "data": {
      "text/plain": [
       "array([[-0.2452941 ],\n",
       "       [-0.29192442],\n",
       "       [ 0.29192442],\n",
       "       [ 0.82914294],\n",
       "       [-0.58384884]])"
      ]
     },
     "execution_count": 52,
     "metadata": {},
     "output_type": "execute_result"
    }
   ],
   "source": [
    "\n"
   ]
  },
  {
   "cell_type": "code",
   "execution_count": 46,
   "metadata": {},
   "outputs": [
    {
     "data": {
      "text/plain": [
       "array([[-0.2452941 ],\n",
       "       [-0.29192442],\n",
       "       [ 0.29192442],\n",
       "       [ 0.82914294],\n",
       "       [-0.58384884]])"
      ]
     },
     "execution_count": 46,
     "metadata": {},
     "output_type": "execute_result"
    }
   ],
   "source": []
  },
  {
   "cell_type": "code",
   "execution_count": 39,
   "metadata": {},
   "outputs": [
    {
     "data": {
      "text/plain": [
       "array([[-0.2452941 ],\n",
       "       [-0.29192442],\n",
       "       [ 0.29192442],\n",
       "       [ 0.82914294],\n",
       "       [-0.58384884]])"
      ]
     },
     "execution_count": 39,
     "metadata": {},
     "output_type": "execute_result"
    }
   ],
   "source": []
  },
  {
   "cell_type": "code",
   "execution_count": null,
   "metadata": {},
   "outputs": [],
   "source": []
  },
  {
   "cell_type": "code",
   "execution_count": 20,
   "metadata": {},
   "outputs": [],
   "source": []
  },
  {
   "cell_type": "code",
   "execution_count": 24,
   "metadata": {},
   "outputs": [],
   "source": []
  },
  {
   "cell_type": "code",
   "execution_count": 27,
   "metadata": {},
   "outputs": [
    {
     "data": {
      "text/plain": [
       "array([-0.67710949, -0.73588229])"
      ]
     },
     "execution_count": 27,
     "metadata": {},
     "output_type": "execute_result"
    }
   ],
   "source": []
  },
  {
   "cell_type": "code",
   "execution_count": 28,
   "metadata": {},
   "outputs": [],
   "source": []
  },
  {
   "cell_type": "code",
   "execution_count": 29,
   "metadata": {},
   "outputs": [
    {
     "data": {
      "text/plain": [
       "array([[ 0.2452941 ],\n",
       "       [ 0.29192442],\n",
       "       [-0.29192442],\n",
       "       [-0.82914294],\n",
       "       [ 0.58384884]])"
      ]
     },
     "execution_count": 29,
     "metadata": {},
     "output_type": "execute_result"
    }
   ],
   "source": [
    "# 降维以后的数据\n",
    "R"
   ]
  },
  {
   "cell_type": "code",
   "execution_count": 30,
   "metadata": {},
   "outputs": [],
   "source": []
  },
  {
   "cell_type": "code",
   "execution_count": 31,
   "metadata": {},
   "outputs": [
    {
     "data": {
      "text/plain": [
       "array([[-0.16609096, -0.18050758],\n",
       "       [-0.19766479, -0.21482201],\n",
       "       [ 0.19766479,  0.21482201],\n",
       "       [ 0.56142055,  0.6101516 ],\n",
       "       [-0.39532959, -0.42964402]])"
      ]
     },
     "execution_count": 31,
     "metadata": {},
     "output_type": "execute_result"
    }
   ],
   "source": [
    "# “恢复的数据”\n",
    "Z"
   ]
  },
  {
   "cell_type": "code",
   "execution_count": 32,
   "metadata": {},
   "outputs": [
    {
     "data": {
      "text/plain": [
       "array([[    2.33563616,  2916.95452015],\n",
       "       [    2.20934082,  2711.06794139],\n",
       "       [    3.79065918,  5288.93205861],\n",
       "       [    5.2456822 ,  7660.90959707],\n",
       "       [    1.41868164,  1422.13588278]])"
      ]
     },
     "execution_count": 32,
     "metadata": {},
     "output_type": "execute_result"
    }
   ],
   "source": [
    "np.multiply(Z,scope) + mean"
   ]
  },
  {
   "cell_type": "markdown",
   "metadata": {},
   "source": [
    "使用"
   ]
  }
 ],
 "metadata": {
  "kernelspec": {
   "display_name": "Python 3",
   "language": "python",
   "name": "python3"
  },
  "language_info": {
   "codemirror_mode": {
    "name": "ipython",
    "version": 3
   },
   "file_extension": ".py",
   "mimetype": "text/x-python",
   "name": "python",
   "nbconvert_exporter": "python",
   "pygments_lexer": "ipython3",
   "version": "3.6.1"
  }
 },
 "nbformat": 4,
 "nbformat_minor": 2
}
