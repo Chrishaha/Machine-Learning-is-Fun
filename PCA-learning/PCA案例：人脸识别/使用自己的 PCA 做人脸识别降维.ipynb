{
 "cells": [
  {
   "cell_type": "code",
   "execution_count": 1,
   "metadata": {
    "collapsed": true
   },
   "outputs": [],
   "source": [
    "from sklearn.datasets import fetch_olivetti_faces\n",
    "\n",
    "data_home = './datasets/'\n",
    "\n",
    "faces = fetch_olivetti_faces(data_home=data_home)\n",
    "X = faces.data\n",
    "y = faces.target\n",
    "\n",
    "# 划分训练集和测试数据集\n",
    "from sklearn.model_selection import train_test_split\n",
    "\n",
    "X_train, X_test, y_train, y_test = train_test_split(\n",
    "    X, y, test_size=.2, random_state=666)"
   ]
  },
  {
   "cell_type": "code",
   "execution_count": 2,
   "metadata": {},
   "outputs": [
    {
     "name": "stdout",
     "output_type": "stream",
     "text": [
      "CPU times: user 988 µs, sys: 1.26 ms, total: 2.24 ms\n",
      "Wall time: 1.19 ms\n"
     ]
    }
   ],
   "source": [
    "%%time\n",
    "\n",
    "from mypca import PCA2\n",
    "\n",
    "pca = PCA2(n_components=112)"
   ]
  },
  {
   "cell_type": "code",
   "execution_count": 3,
   "metadata": {},
   "outputs": [
    {
     "name": "stdout",
     "output_type": "stream",
     "text": [
      "CPU times: user 7.09 s, sys: 414 ms, total: 7.51 s\n",
      "Wall time: 2.09 s\n"
     ]
    }
   ],
   "source": [
    "%%time\n",
    "pca.fit(X_train)\n"
   ]
  },
  {
   "cell_type": "code",
   "execution_count": 4,
   "metadata": {},
   "outputs": [],
   "source": [
    "X_train_pca = pca.transform()"
   ]
  },
  {
   "cell_type": "code",
   "execution_count": 5,
   "metadata": {
    "collapsed": true
   },
   "outputs": [],
   "source": [
    "X_train_pca = X_train_pca[:,:112]"
   ]
  },
  {
   "cell_type": "code",
   "execution_count": 6,
   "metadata": {},
   "outputs": [
    {
     "data": {
      "text/plain": [
       "(320, 112)"
      ]
     },
     "execution_count": 6,
     "metadata": {},
     "output_type": "execute_result"
    }
   ],
   "source": [
    "X_train_pca.shape"
   ]
  },
  {
   "cell_type": "code",
   "execution_count": 7,
   "metadata": {},
   "outputs": [
    {
     "name": "stdout",
     "output_type": "stream",
     "text": [
      "CPU times: user 319 ms, sys: 74.2 ms, total: 393 ms\n",
      "Wall time: 102 ms\n"
     ]
    }
   ],
   "source": [
    "%%time\n",
    "from sklearn.svm import SVC\n",
    "\n",
    "svc = SVC(class_weight='balanced')\n",
    "\n",
    "svc.fit(X_train_pca, y_train)\n",
    "y_pred = svc.predict(X_train_pca)"
   ]
  },
  {
   "cell_type": "code",
   "execution_count": 8,
   "metadata": {},
   "outputs": [
    {
     "name": "stdout",
     "output_type": "stream",
     "text": [
      "             precision    recall  f1-score   support\n",
      "\n",
      "          0       1.00      1.00      1.00         8\n",
      "          1       1.00      1.00      1.00         8\n",
      "          2       1.00      1.00      1.00         7\n",
      "          3       0.89      1.00      0.94         8\n",
      "          4       1.00      1.00      1.00         7\n",
      "          5       1.00      1.00      1.00         6\n",
      "          6       1.00      1.00      1.00         8\n",
      "          7       1.00      1.00      1.00        10\n",
      "          8       1.00      1.00      1.00        10\n",
      "          9       1.00      1.00      1.00         8\n",
      "         10       1.00      1.00      1.00        10\n",
      "         11       1.00      1.00      1.00         8\n",
      "         12       1.00      0.86      0.92         7\n",
      "         13       1.00      1.00      1.00         9\n",
      "         14       1.00      1.00      1.00         9\n",
      "         15       1.00      1.00      1.00         8\n",
      "         16       1.00      1.00      1.00         7\n",
      "         17       1.00      1.00      1.00         9\n",
      "         18       1.00      1.00      1.00         8\n",
      "         19       1.00      1.00      1.00         8\n",
      "         20       1.00      1.00      1.00         8\n",
      "         21       1.00      1.00      1.00         8\n",
      "         22       1.00      1.00      1.00         8\n",
      "         23       1.00      1.00      1.00         7\n",
      "         24       1.00      1.00      1.00         8\n",
      "         25       1.00      1.00      1.00         5\n",
      "         26       1.00      1.00      1.00         7\n",
      "         27       1.00      1.00      1.00         8\n",
      "         28       1.00      1.00      1.00         7\n",
      "         29       1.00      1.00      1.00         9\n",
      "         30       1.00      1.00      1.00         8\n",
      "         31       1.00      1.00      1.00        10\n",
      "         32       1.00      1.00      1.00         9\n",
      "         33       1.00      1.00      1.00         8\n",
      "         34       1.00      1.00      1.00         8\n",
      "         35       1.00      1.00      1.00         9\n",
      "         36       1.00      1.00      1.00         7\n",
      "         37       1.00      1.00      1.00         7\n",
      "         38       1.00      1.00      1.00         9\n",
      "         39       1.00      1.00      1.00         7\n",
      "\n",
      "avg / total       1.00      1.00      1.00       320\n",
      "\n"
     ]
    }
   ],
   "source": [
    "from sklearn.metrics import classification_report\n",
    "\n",
    "print(classification_report(y_train,y_pred))"
   ]
  }
 ],
 "metadata": {
  "kernelspec": {
   "display_name": "Python 3",
   "language": "python",
   "name": "python3"
  },
  "language_info": {
   "codemirror_mode": {
    "name": "ipython",
    "version": 3
   },
   "file_extension": ".py",
   "mimetype": "text/x-python",
   "name": "python",
   "nbconvert_exporter": "python",
   "pygments_lexer": "ipython3",
   "version": "3.6.1"
  },
  "toc": {
   "nav_menu": {},
   "number_sections": true,
   "sideBar": true,
   "skip_h1_title": false,
   "toc_cell": false,
   "toc_position": {},
   "toc_section_display": "block",
   "toc_window_display": false
  }
 },
 "nbformat": 4,
 "nbformat_minor": 2
}
