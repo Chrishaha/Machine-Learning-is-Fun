{
 "cells": [
  {
   "attachments": {},
   "cell_type": "markdown",
   "metadata": {},
   "source": [
    "知乎 Kaggle  \n",
    "作者：包大人  \n",
    "链接：https://www.zhihu.com/question/24533374/answer/317125642  \n",
    "来源：知乎  \n",
    "著作权归作者所有。商业转载请联系作者获得授权，非商业转载请注明出处。  \n",
    "\n",
    "转眼到了2018了，大家能明显得感受到，kaggle上data mining的比重越来越少，CV,NLP，优化赛，承办会议赛题越来越多，比如非常有意思的NIPS的对抗攻防，知名度和整体水平都越来越好，体验就是，拿奖牌越来越难。绝不是xgb融合就能轻松搞定的打一个比赛，往往需要无所不用其极，需要你对这个问题相关的方法非常熟悉，并且能够实践。比如去年的quora提供的赛题，中科院师兄的方案就让人叹为观止，你能感受到，他们<b><font size='3' color='ff0000'>对信息检索中文本相似度相关的研究如数家珍</font></b>。对具体的任务也有非常深刻的见解，比赛中提出的pipeline也与中科院的自动化框架一脉相承，看罢收获颇丰。在这个方向上的研究又在CIkM的workshop上拿了best。这两者往往是相互促进的。如果说做科研需要你对问题有insight的理解，那么打比赛比的就是需要你对数据有insight的理解。通过打比赛，能够培养你的科研审美，更能深刻的理解什么是在数据上的过拟合，你会熟知论文中的方法是不是有良好的泛化性能，是不是真的stateofart，在别的数据集上能否经得起考验。很多东西通过比赛中在学界和工业界产出了非常好的影响力。比如imagine net带来深度学习的风潮。Netflix中的分解机。kdd cup以kaggle中天奇大佬的xgboost, 微软的lightgbm。Kaggle是一个非常友好的社区，大家都乐于分享，这与国内的平台形成了鲜明的对比。如果你是一个机器学习初学者，想快速提升实践能力，那么kaggle是个非常好的地方。如果你想拿大厂的sp，我觉得master的影响力也足够，毕竟全球才1000个，可以堪比ijcai和aaai这两个国人热衷的顶会，滑稽"
   ]
  },
  {
   "cell_type": "code",
   "execution_count": null,
   "metadata": {
    "collapsed": true
   },
   "outputs": [],
   "source": []
  }
 ],
 "metadata": {
  "kernelspec": {
   "display_name": "Python 3",
   "language": "python",
   "name": "python3"
  },
  "language_info": {
   "codemirror_mode": {
    "name": "ipython",
    "version": 3
   },
   "file_extension": ".py",
   "mimetype": "text/x-python",
   "name": "python",
   "nbconvert_exporter": "python",
   "pygments_lexer": "ipython3",
   "version": "3.6.1"
  }
 },
 "nbformat": 4,
 "nbformat_minor": 2
}
