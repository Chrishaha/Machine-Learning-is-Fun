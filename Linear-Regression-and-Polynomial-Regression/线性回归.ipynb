{
 "cells": [
  {
   "cell_type": "markdown",
   "metadata": {},
   "source": []
  },
  {
   "cell_type": "markdown",
   "metadata": {},
   "source": [
    "线性回归算法揭示了一类机器学习算法的基本思路：近乎所有的参数学习算法都是下面的套路，即找到一组参数（例如 $a$ 和 $b$），使得训练数据集在这组参数下，使得目标函数（即损失函数）尽可能小。\n",
    "\n",
    "+ 通过分析问题，确定问题的损失函数或者效用函数。\n",
    "+ 通过最优化损失函数或者效用函数，获得机器学习的模型。\n",
    "\n",
    "简单线性回归的解决方法：简单线性回归是典型的最小二乘法问题：通过求解最小化误差的平方，得到参数 a 和 b 关于训练数据集（特征和标签）的数学表达式。\n",
    "\n",
    "分类算法使用衡量算法好坏：“分类准确度”。\n",
    "回归算法使用衡量算法好坏：要使用平均。\n",
    "（1）均方误差（MSE）\n",
    "```\n",
    "mse_test = np.sum((y_predict - y_test) ** 2) / len(y_test)\n",
    "```\n",
    "（2）均方根误差（RMSE）\n",
    "```\n",
    "rmse_test = sqrt(mse_test)\n",
    "```\n",
    "（3）平均绝对误差\n",
    "```\n",
    "mae_test = np.sum(np.abs(y_predict - y_test)) / len(y_test)\n",
    "```\n",
    "\n",
    "把极端值去掉：\n",
    "```\n",
    "x = x[y < 50.0] \n",
    "y = y[y < 50.0]\n",
    "```\n",
    "\n",
    "使用 scikit-learn 中计算 MSE 和 MAE\n",
    "```\n",
    "from sklearn.metrics import mean_squared_error\n",
    "from sklearn.metrics import mean_absolute_error\n",
    "\n",
    "mean_squared_error(y_test, y_predict)\n",
    "mean_absolute_error(y_test, y_predict)\n",
    "```\n",
    "\n",
    "注意事项：\n",
    "使用梯度下降法的时候，一定不要忘记特征“归一化”。\n",
    "求解析解的时候的矩阵求导。\n",
    "\n",
    "\n",
    "## 使用线性回归算法的基本假设\n",
    "+ 假设特征和回归结果有线性关系。\n",
    "\n",
    "## 理解 $R^2$，即 R Squared\n",
    "\n",
    "+ R2 是一个衡量线性回归算法的最最重要的指标，如果 R2 < 0 ，就说明比基准模型还要差，因此，说明不存在线性关系，假设不成立。\n",
    "\n",
    "\n",
    "\n",
    "## 如何使用网格搜索 CV：\n",
    "+ 网格搜索，确定超参数，和最优模型。CV 在这里是交叉验证的意思。看看自己能不能说清楚交叉验证。\n",
    "+ 交叉验证：每次从训练数据集里分离出一部分作为验证数据集，用于调整超参数，即“交叉验证法用于得到最优超参数”。\n",
    "\n",
    "## 回归系数的解释性\n",
    "+ 从正相关和负相关的大小的角度去理解回归系数。\n",
    "\n",
    "\n"
   ]
  },
  {
   "cell_type": "code",
   "execution_count": null,
   "metadata": {
    "collapsed": true
   },
   "outputs": [],
   "source": []
  }
 ],
 "metadata": {
  "kernelspec": {
   "display_name": "Python 3",
   "language": "python",
   "name": "python3"
  },
  "language_info": {
   "codemirror_mode": {
    "name": "ipython",
    "version": 3
   },
   "file_extension": ".py",
   "mimetype": "text/x-python",
   "name": "python",
   "nbconvert_exporter": "python",
   "pygments_lexer": "ipython3",
   "version": "3.6.1"
  }
 },
 "nbformat": 4,
 "nbformat_minor": 2
}
