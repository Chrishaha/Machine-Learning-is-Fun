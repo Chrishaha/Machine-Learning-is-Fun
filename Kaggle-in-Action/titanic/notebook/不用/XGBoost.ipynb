{
 "cells": [
  {
   "cell_type": "code",
   "execution_count": 17,
   "metadata": {
    "collapsed": true
   },
   "outputs": [],
   "source": [
    "import pandas as pd\n",
    "\n",
    "data_train = pd.read_csv('../input/train.csv')\n",
    "data_test = pd.read_csv('../input/test.csv')"
   ]
  },
  {
   "cell_type": "code",
   "execution_count": 18,
   "metadata": {
    "collapsed": true
   },
   "outputs": [],
   "source": [
    "# 提交文件的时候使用\n",
    "passenger_id = data_test.PassengerId"
   ]
  },
  {
   "cell_type": "code",
   "execution_count": 19,
   "metadata": {
    "collapsed": true
   },
   "outputs": [],
   "source": [
    "# 训练模型的时候，要使用到 target\n",
    "y = data_train['Survived']\n",
    "del data_train['Survived']"
   ]
  },
  {
   "cell_type": "markdown",
   "metadata": {},
   "source": [
    "特征工程，封装成函数。"
   ]
  },
  {
   "cell_type": "code",
   "execution_count": 20,
   "metadata": {
    "collapsed": true
   },
   "outputs": [],
   "source": [
    "def feature_preprocessing(data):\n",
    "    # 性别\n",
    "    data['Sex'] = data['Sex'].map(lambda x: 1 if x == 'male' else 0)\n",
    "\n",
    "    # 缺失值填充\n",
    "    data['Embarked'] = data['Embarked'].fillna(\n",
    "        data['Embarked'].mode().values[0])\n",
    "\n",
    "    # Fare 船票价格，使用平均数填充\n",
    "    data['Fare'] = data['Fare'].fillna(data['Fare'].mean())\n",
    "\n",
    "    Pclass_dummies = pd.get_dummies(data['Pclass'], prefix='Pclass')\n",
    "    Embarked_dummies = pd.get_dummies(data['Embarked'], prefix='Embarked')\n",
    "\n",
    "    # 丢弃姓名、客舱 Cabin 、船票信息 Ticket\n",
    "    data.drop(\n",
    "        columns=['Cabin', 'Ticket', 'Pclass', 'Embarked', 'PassengerId'],\n",
    "        inplace=True)\n",
    "\n",
    "    data = pd.concat([data, Pclass_dummies, Embarked_dummies], axis=1)\n",
    "    return data\n",
    "\n",
    "\n",
    "data_train = feature_preprocessing(data_train)\n",
    "data_test = feature_preprocessing(data_test)"
   ]
  },
  {
   "cell_type": "code",
   "execution_count": 21,
   "metadata": {},
   "outputs": [
    {
     "name": "stdout",
     "output_type": "stream",
     "text": [
      "<class 'pandas.core.frame.DataFrame'>\n",
      "RangeIndex: 891 entries, 0 to 890\n",
      "Data columns (total 12 columns):\n",
      "Name          891 non-null object\n",
      "Sex           891 non-null int64\n",
      "Age           714 non-null float64\n",
      "SibSp         891 non-null int64\n",
      "Parch         891 non-null int64\n",
      "Fare          891 non-null float64\n",
      "Pclass_1      891 non-null uint8\n",
      "Pclass_2      891 non-null uint8\n",
      "Pclass_3      891 non-null uint8\n",
      "Embarked_C    891 non-null uint8\n",
      "Embarked_Q    891 non-null uint8\n",
      "Embarked_S    891 non-null uint8\n",
      "dtypes: float64(2), int64(3), object(1), uint8(6)\n",
      "memory usage: 47.1+ KB\n"
     ]
    }
   ],
   "source": [
    "data_train.info()"
   ]
  },
  {
   "cell_type": "code",
   "execution_count": 22,
   "metadata": {},
   "outputs": [
    {
     "name": "stdout",
     "output_type": "stream",
     "text": [
      "<class 'pandas.core.frame.DataFrame'>\n",
      "RangeIndex: 418 entries, 0 to 417\n",
      "Data columns (total 12 columns):\n",
      "Name          418 non-null object\n",
      "Sex           418 non-null int64\n",
      "Age           332 non-null float64\n",
      "SibSp         418 non-null int64\n",
      "Parch         418 non-null int64\n",
      "Fare          418 non-null float64\n",
      "Pclass_1      418 non-null uint8\n",
      "Pclass_2      418 non-null uint8\n",
      "Pclass_3      418 non-null uint8\n",
      "Embarked_C    418 non-null uint8\n",
      "Embarked_Q    418 non-null uint8\n",
      "Embarked_S    418 non-null uint8\n",
      "dtypes: float64(2), int64(3), object(1), uint8(6)\n",
      "memory usage: 22.1+ KB\n"
     ]
    }
   ],
   "source": [
    "data_test.info()"
   ]
  },
  {
   "cell_type": "markdown",
   "metadata": {},
   "source": [
    "训练数据集和测试数据集各自建立 `RandomForestRegressor` 填充 Age 缺失值。"
   ]
  },
  {
   "cell_type": "code",
   "execution_count": 23,
   "metadata": {
    "collapsed": true
   },
   "outputs": [],
   "source": [
    "from sklearn.ensemble import RandomForestRegressor\n",
    "\n",
    "\n",
    "def predict_age_by_rfr(data):\n",
    "\n",
    "    columns = data.columns\n",
    "    cols = columns.tolist()\n",
    "    if 'Survived' in cols:\n",
    "        cols.remove('Survived')\n",
    "    cols.remove('Name')\n",
    "    cols.remove('Age')\n",
    "    X_train_for_age = data.loc[data['Age'].notnull(), cols].values\n",
    "    y_train_for_age = data.loc[data['Age'].notnull(), 'Age'].values\n",
    "\n",
    "    rfr = RandomForestRegressor(random_state=666, n_estimators=100)\n",
    "    rfr.fit(X_train_for_age, y_train_for_age)\n",
    "\n",
    "    X_test_for_age = data.loc[data['Age'].isnull(), cols].values\n",
    "    y_pred_for_age = rfr.predict(X_test_for_age)\n",
    "\n",
    "    data.loc[data['Age'].isnull(), 'Age'] = y_pred_for_age\n",
    "\n",
    "\n",
    "predict_age_by_rfr(data_train)\n",
    "predict_age_by_rfr(data_test)"
   ]
  },
  {
   "cell_type": "markdown",
   "metadata": {},
   "source": [
    "## 从姓名中抽取特征 Title"
   ]
  },
  {
   "cell_type": "code",
   "execution_count": 24,
   "metadata": {
    "collapsed": true
   },
   "outputs": [],
   "source": [
    "def feature_extract_Title(data):\n",
    "\n",
    "    data['Title'] = data['Name'].map(\n",
    "        lambda x: x.split(',')[1].split('.')[0].strip())\n",
    "    Title_Dictionary = {\n",
    "        \"Mr\": \"Mr\",\n",
    "        \"Mrs\": \"Mrs\",\n",
    "        \"Miss\": \"Miss\",\n",
    "        \"Master\": \"Master\",\n",
    "        \"Don\": \"Royalty\",\n",
    "        \"Rev\": \"Officer\",\n",
    "        \"Dr\": \"Officer\",\n",
    "        \"Mme\": \"Mrs\",\n",
    "        \"Ms\": \"Mrs\",\n",
    "        \"Major\": \"Officer\",\n",
    "        \"Lady\": \"Royalty\",\n",
    "        \"Sir\": \"Royalty\",\n",
    "        \"Mlle\": \"Miss\",\n",
    "        \"Col\": \"Officer\",\n",
    "        \"Capt\": \"Officer\",\n",
    "        \"the Countess\": \"Royalty\",\n",
    "        \"Jonkheer\": \"Royalty\",\n",
    "        \"Dona\": 'Mrs'\n",
    "    }\n",
    "    data['Title'] = data['Title'].map(Title_Dictionary)\n",
    "\n",
    "    Title_dummies = pd.get_dummies(data['Title'], prefix='Title')\n",
    "    data = pd.concat([data, Title_dummies], axis=1)\n",
    "    # 丢弃姓名、客舱 Cabin 、船票信息 Ticket\n",
    "    data.drop(columns=['Name', 'Title'], inplace=True)\n",
    "    return data\n",
    "\n",
    "\n",
    "combined_data = pd.concat([data_train, data_test], axis=0, sort=True)\n",
    "combined_data = feature_extract_Title(combined_data)\n",
    "data_train = combined_data.iloc[:data_train.shape[0], :]\n",
    "data_test = combined_data.iloc[data_train.shape[0]:, :]"
   ]
  },
  {
   "cell_type": "code",
   "execution_count": 25,
   "metadata": {},
   "outputs": [
    {
     "data": {
      "text/plain": [
       "(891, 17)"
      ]
     },
     "execution_count": 25,
     "metadata": {},
     "output_type": "execute_result"
    }
   ],
   "source": [
    "data_train.shape"
   ]
  },
  {
   "cell_type": "code",
   "execution_count": 26,
   "metadata": {},
   "outputs": [
    {
     "data": {
      "text/plain": [
       "(418, 17)"
      ]
     },
     "execution_count": 26,
     "metadata": {},
     "output_type": "execute_result"
    }
   ],
   "source": [
    "data_test.shape"
   ]
  },
  {
   "cell_type": "code",
   "execution_count": 27,
   "metadata": {
    "collapsed": true
   },
   "outputs": [],
   "source": [
    "from sklearn.model_selection import train_test_split\n",
    "\n",
    "X_train, X_test, y_train, y_test = train_test_split(\n",
    "    data_train, y, test_size=0.2, random_state=666)"
   ]
  },
  {
   "cell_type": "markdown",
   "metadata": {},
   "source": [
    "## 模型训练"
   ]
  },
  {
   "cell_type": "code",
   "execution_count": 34,
   "metadata": {
    "collapsed": true
   },
   "outputs": [],
   "source": [
    "from sklearn.tree import DecisionTreeClassifier\n",
    "from sklearn.linear_model import LogisticRegression\n",
    "from sklearn.ensemble import RandomForestClassifier\n",
    "from sklearn.svm import SVC\n",
    "from sklearn.ensemble import AdaBoostClassifier\n",
    "from sklearn.ensemble import GradientBoostingClassifier\n",
    "from xgboost import XGBClassifier\n",
    "\n",
    "dt = DecisionTreeClassifier(random_state=666)\n",
    "lr = LogisticRegression(solver='newton-cg')\n",
    "rfc = RandomForestClassifier(random_state=666, n_estimators=100)\n",
    "svc = SVC(kernel='rbf', gamma='scale')\n",
    "ada = AdaBoostClassifier()\n",
    "gbc = GradientBoostingClassifier()\n",
    "xgb = XGBClassifier()\n",
    "\n",
    "models = [('DecisionTreeClassifier', dt), ('LogisticRegression', lr),\n",
    "          ('RandomForestClassifier', rfc), ('svc', svc),\n",
    "          ('AdaBoostClassifier', ada), ('GradientBoostingClassifier',\n",
    "                                        gbc), ('XBClassifier', xgb)]\n",
    "\n",
    "\n",
    "def predict_by_different_models(models):\n",
    "    res = dict()\n",
    "    for model in models:\n",
    "        model_name = model[0]\n",
    "        clf = model[1]\n",
    "        clf.fit(X_train, y_train)\n",
    "        train_score = clf.score(X_train, y_train)\n",
    "        test_score = clf.score(X_test, y_test)\n",
    "        res[model_name] = {\n",
    "            'train_score': train_score,\n",
    "            'test_score': test_score\n",
    "        }\n",
    "    return res\n",
    "\n",
    "\n",
    "res = predict_by_different_models(models)"
   ]
  },
  {
   "cell_type": "code",
   "execution_count": 35,
   "metadata": {},
   "outputs": [
    {
     "data": {
      "text/html": [
       "<div>\n",
       "<style scoped>\n",
       "    .dataframe tbody tr th:only-of-type {\n",
       "        vertical-align: middle;\n",
       "    }\n",
       "\n",
       "    .dataframe tbody tr th {\n",
       "        vertical-align: top;\n",
       "    }\n",
       "\n",
       "    .dataframe thead th {\n",
       "        text-align: right;\n",
       "    }\n",
       "</style>\n",
       "<table border=\"1\" class=\"dataframe\">\n",
       "  <thead>\n",
       "    <tr style=\"text-align: right;\">\n",
       "      <th></th>\n",
       "      <th>train_score</th>\n",
       "      <th>test_score</th>\n",
       "    </tr>\n",
       "  </thead>\n",
       "  <tbody>\n",
       "    <tr>\n",
       "      <th>DecisionTreeClassifier</th>\n",
       "      <td>0.983146</td>\n",
       "      <td>0.787709</td>\n",
       "    </tr>\n",
       "    <tr>\n",
       "      <th>LogisticRegression</th>\n",
       "      <td>0.842697</td>\n",
       "      <td>0.793296</td>\n",
       "    </tr>\n",
       "    <tr>\n",
       "      <th>RandomForestClassifier</th>\n",
       "      <td>0.983146</td>\n",
       "      <td>0.832402</td>\n",
       "    </tr>\n",
       "    <tr>\n",
       "      <th>svc</th>\n",
       "      <td>0.691011</td>\n",
       "      <td>0.670391</td>\n",
       "    </tr>\n",
       "    <tr>\n",
       "      <th>AdaBoostClassifier</th>\n",
       "      <td>0.846910</td>\n",
       "      <td>0.793296</td>\n",
       "    </tr>\n",
       "    <tr>\n",
       "      <th>GradientBoostingClassifier</th>\n",
       "      <td>0.901685</td>\n",
       "      <td>0.821229</td>\n",
       "    </tr>\n",
       "    <tr>\n",
       "      <th>XBClassifier</th>\n",
       "      <td>0.886236</td>\n",
       "      <td>0.826816</td>\n",
       "    </tr>\n",
       "  </tbody>\n",
       "</table>\n",
       "</div>"
      ],
      "text/plain": [
       "                            train_score  test_score\n",
       "DecisionTreeClassifier         0.983146    0.787709\n",
       "LogisticRegression             0.842697    0.793296\n",
       "RandomForestClassifier         0.983146    0.832402\n",
       "svc                            0.691011    0.670391\n",
       "AdaBoostClassifier             0.846910    0.793296\n",
       "GradientBoostingClassifier     0.901685    0.821229\n",
       "XBClassifier                   0.886236    0.826816"
      ]
     },
     "execution_count": 35,
     "metadata": {},
     "output_type": "execute_result"
    }
   ],
   "source": [
    "res = pd.DataFrame(res).T\n",
    "res.reindex(columns=['train_score', 'test_score'])"
   ]
  },
  {
   "cell_type": "markdown",
   "metadata": {},
   "source": [
    "## 特征选择"
   ]
  },
  {
   "cell_type": "code",
   "execution_count": 48,
   "metadata": {},
   "outputs": [
    {
     "data": {
      "text/plain": [
       "array([0.00088398, 0.0088847 , 0.0088995 , 0.00997205, 0.01091166,\n",
       "       0.01383765, 0.01408951, 0.02414306, 0.02948171, 0.03645224,\n",
       "       0.04218361, 0.04814861, 0.05403489, 0.10296689, 0.1267766 ,\n",
       "       0.22248921, 0.24584414])"
      ]
     },
     "execution_count": 48,
     "metadata": {},
     "output_type": "execute_result"
    }
   ],
   "source": [
    "np.sort(rfc.feature_importances_)"
   ]
  },
  {
   "cell_type": "code",
   "execution_count": 44,
   "metadata": {},
   "outputs": [
    {
     "data": {
      "image/png": "[encoded data removed]",
      "text/plain": [
       "<Figure size 432x288 with 1 Axes>"
      ]
     },
     "metadata": {
      "image/png": {
       "height": 248,
       "width": 423
      },
      "needs_background": "light"
     },
     "output_type": "display_data"
    }
   ],
   "source": [
    "import seaborn as sns\n",
    "\n",
    "sns.barplot(y=X_train.columns, x=rfc.feature_importances_, orient='h')\n",
    "plt.show()"
   ]
  },
  {
   "cell_type": "code",
   "execution_count": 49,
   "metadata": {},
   "outputs": [
    {
     "data": {
      "text/plain": [
       "Index(['Age', 'Fare', 'Pclass_3', 'Sex', 'SibSp', 'Title_Miss', 'Title_Mr',\n",
       "       'Title_Mrs'],\n",
       "      dtype='object')"
      ]
     },
     "execution_count": 49,
     "metadata": {},
     "output_type": "execute_result"
    }
   ],
   "source": [
    "# 留下 8 个特征\n",
    "importance_feature = X_train.columns[rfc.feature_importances_ >= 0.03]\n",
    "importance_feature"
   ]
  },
  {
   "cell_type": "code",
   "execution_count": 51,
   "metadata": {},
   "outputs": [
    {
     "name": "stdout",
     "output_type": "stream",
     "text": [
      "Fitting 5 folds for each of 125 candidates, totalling 625 fits\n"
     ]
    },
    {
     "name": "stderr",
     "output_type": "stream",
     "text": [
      "[Parallel(n_jobs=-1)]: Using backend LokyBackend with 8 concurrent workers.\n",
      "[Parallel(n_jobs=-1)]: Done 124 tasks      | elapsed:    4.5s\n",
      "[Parallel(n_jobs=-1)]: Done 350 tasks      | elapsed:   11.4s\n",
      "[Parallel(n_jobs=-1)]: Done 600 tasks      | elapsed:   19.9s\n"
     ]
    },
    {
     "name": "stdout",
     "output_type": "stream",
     "text": [
      "CPU times: user 2.35 s, sys: 89.4 ms, total: 2.44 s\n",
      "Wall time: 21.1 s\n"
     ]
    },
    {
     "name": "stderr",
     "output_type": "stream",
     "text": [
      "[Parallel(n_jobs=-1)]: Done 625 out of 625 | elapsed:   21.1s finished\n"
     ]
    }
   ],
   "source": [
    "%%time\n",
    "from sklearn.model_selection import GridSearchCV\n",
    "\n",
    "params = {\n",
    "    'max_depth': list(range(2, 7)),\n",
    "    'n_estimators': list(range(100, 1100, 200)),\n",
    "    'learning_rate': [0.05, 0.1, 0.25, 0.5, 1.0]\n",
    "}\n",
    "\n",
    "xgbc = XGBClassifier()\n",
    "\n",
    "gs = GridSearchCV(xgbc, params, n_jobs=-1, cv=5, verbose=1)\n",
    "\n",
    "gs.fit(X_train[importance_feature], y_train)"
   ]
  },
  {
   "cell_type": "code",
   "execution_count": 52,
   "metadata": {},
   "outputs": [
    {
     "data": {
      "text/plain": [
       "{'learning_rate': 0.1, 'max_depth': 4, 'n_estimators': 100}"
      ]
     },
     "execution_count": 52,
     "metadata": {},
     "output_type": "execute_result"
    }
   ],
   "source": [
    "gs.best_params_"
   ]
  },
  {
   "cell_type": "code",
   "execution_count": 53,
   "metadata": {},
   "outputs": [
    {
     "data": {
      "text/plain": [
       "0.8356741573033708"
      ]
     },
     "execution_count": 53,
     "metadata": {},
     "output_type": "execute_result"
    }
   ],
   "source": [
    "gs.best_score_"
   ]
  },
  {
   "cell_type": "code",
   "execution_count": 54,
   "metadata": {},
   "outputs": [
    {
     "data": {
      "text/plain": [
       "0.7988826815642458"
      ]
     },
     "execution_count": 54,
     "metadata": {},
     "output_type": "execute_result"
    }
   ],
   "source": [
    "gs.best_estimator_.score(X_test[importance_feature], y_test)"
   ]
  },
  {
   "cell_type": "markdown",
   "metadata": {},
   "source": [
    "得到最佳超参数以后，再放到全部训练集上训练一次。\n",
    "\n",
    "+ `GridSearchCV` 可以设置 `refit=True`。"
   ]
  },
  {
   "cell_type": "code",
   "execution_count": 55,
   "metadata": {},
   "outputs": [
    {
     "data": {
      "text/plain": [
       "XGBClassifier(base_score=0.5, booster='gbtree', colsample_bylevel=1,\n",
       "       colsample_bytree=1, gamma=0, learning_rate=0.1, max_delta_step=0,\n",
       "       max_depth=4, min_child_weight=1, missing=None, n_estimators=100,\n",
       "       n_jobs=1, nthread=None, objective='binary:logistic', random_state=0,\n",
       "       reg_alpha=0, reg_lambda=1, scale_pos_weight=1, seed=None,\n",
       "       silent=True, subsample=1)"
      ]
     },
     "execution_count": 55,
     "metadata": {},
     "output_type": "execute_result"
    }
   ],
   "source": [
    "xgbc_best = XGBClassifier(learning_rate=0.1, max_depth=4, n_estimators=100)\n",
    "xgbc_best.fit(data_train[importance_feature], y)"
   ]
  },
  {
   "cell_type": "code",
   "execution_count": 56,
   "metadata": {
    "collapsed": true
   },
   "outputs": [],
   "source": [
    "y_pred = xgbc_best.predict(data_test[importance_feature])"
   ]
  },
  {
   "cell_type": "code",
   "execution_count": 58,
   "metadata": {
    "collapsed": true
   },
   "outputs": [],
   "source": [
    "result = pd.DataFrame({'PassengerId': passenger_id, 'Survived': y_pred})\n",
    "result.to_csv('../output/xgbc_submission.csv', index=None)"
   ]
  }
 ],
 "metadata": {
  "kernelspec": {
   "display_name": "Python 3",
   "language": "python",
   "name": "python3"
  },
  "language_info": {
   "codemirror_mode": {
    "name": "ipython",
    "version": 3
   },
   "file_extension": ".py",
   "mimetype": "text/x-python",
   "name": "python",
   "nbconvert_exporter": "python",
   "pygments_lexer": "ipython3",
   "version": "3.6.3"
  },
  "toc": {
   "nav_menu": {},
   "number_sections": true,
   "sideBar": true,
   "skip_h1_title": false,
   "toc_cell": false,
   "toc_position": {},
   "toc_section_display": "block",
   "toc_window_display": false
  }
 },
 "nbformat": 4,
 "nbformat_minor": 2
}
