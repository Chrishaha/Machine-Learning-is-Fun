{
 "cells": [
  {
   "cell_type": "markdown",
   "metadata": {},
   "source": [
    "# 11-6 到底什么是核函数\n",
    "\n",
    "\n",
    "\n",
    "+ SVM 的本质是一个有条件的最优化问题，它在推导的过程中，最终可以转化成下面的表达式\n",
    "\n",
    "\n",
    "+ 最重要的思想：1. 在低维空间中计算，得到高维空间中我们需要的结果；2. 核函数只是一种技巧，并非 SVM 专用\n"
   ]
  },
  {
   "cell_type": "markdown",
   "metadata": {},
   "source": [
    "下面看一个例子：\n",
    "\n",
    "$$\n",
    "K(x,y) = (x \\cdot y + 1)^2\n",
    "$$\n",
    "\n",
    "将数量积的形式展开：\n",
    "\n",
    "$$\n",
    "K(x,y) = (\\sum_{i=1}^n x_iy_i + 1)^2\n",
    "$$\n",
    "\n",
    "核函数的威力就在于，不用计算 $x'$ 和 $y'$，直接代入核函数，就能得到高维空间中我们所需要计算的结果。"
   ]
  },
  {
   "cell_type": "markdown",
   "metadata": {},
   "source": [
    "多项式核函数的表达式：\n",
    "\n",
    "$$\n",
    "K(x,y) = (x\\cdot y + C)^d\n",
    "$$"
   ]
  },
  {
   "cell_type": "markdown",
   "metadata": {},
   "source": [
    "**核函数的本质其实就是为了替换原来的 $x \\cdot y$ 在高维空间中的计算**。"
   ]
  },
  {
   "cell_type": "markdown",
   "metadata": {},
   "source": [
    "查看文档 SVC，有参数 kernel = 'poly' ，degree 即 d，coef0 就是 C"
   ]
  },
  {
   "cell_type": "markdown",
   "metadata": {},
   "source": [
    "线性 SVC 的核函数就是线性核函数：$K(x,y)=x\\cdot y$。"
   ]
  },
  {
   "cell_type": "code",
   "execution_count": null,
   "metadata": {
    "collapsed": true
   },
   "outputs": [],
   "source": []
  }
 ],
 "metadata": {
  "kernelspec": {
   "display_name": "Python 3",
   "language": "python",
   "name": "python3"
  },
  "language_info": {
   "codemirror_mode": {
    "name": "ipython",
    "version": 3
   },
   "file_extension": ".py",
   "mimetype": "text/x-python",
   "name": "python",
   "nbconvert_exporter": "python",
   "pygments_lexer": "ipython3",
   "version": "3.6.1"
  }
 },
 "nbformat": 4,
 "nbformat_minor": 2
}
