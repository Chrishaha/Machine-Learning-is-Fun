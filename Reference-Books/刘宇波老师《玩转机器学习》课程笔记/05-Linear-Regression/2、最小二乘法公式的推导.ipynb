{
 "cells": [
  {
   "cell_type": "markdown",
   "metadata": {},
   "source": [
    "# 2、最小二乘法公式的推导"
   ]
  },
  {
   "cell_type": "markdown",
   "metadata": {},
   "source": [
    "公式如下：\n",
    "\n",
    "$$\n",
    "a = \\cfrac{\\sum_{i=1}^{m}(x^{(i)}-\\overline x)(y^{(i)}-\\overline y)}{\\sum_{i=0}^{M} (x^{(i)}-\\overline x)^2}\n",
    "$$\n",
    "\n",
    "$$\n",
    "b = \\overline y - a \\overline x\n",
    "$$"
   ]
  },
  {
   "cell_type": "markdown",
   "metadata": {
    "collapsed": true
   },
   "source": [
    "方法是：分别求偏导数，令其等于 $0$。"
   ]
  }
 ],
 "metadata": {
  "kernelspec": {
   "display_name": "Python 3",
   "language": "python",
   "name": "python3"
  },
  "language_info": {
   "codemirror_mode": {
    "name": "ipython",
    "version": 3
   },
   "file_extension": ".py",
   "mimetype": "text/x-python",
   "name": "python",
   "nbconvert_exporter": "python",
   "pygments_lexer": "ipython3",
   "version": "3.6.1"
  },
  "toc": {
   "nav_menu": {},
   "number_sections": true,
   "sideBar": true,
   "skip_h1_title": false,
   "toc_cell": false,
   "toc_position": {},
   "toc_section_display": "block",
   "toc_window_display": false
  }
 },
 "nbformat": 4,
 "nbformat_minor": 2
}
