{
 "cells": [
  {
   "cell_type": "code",
   "execution_count": 1,
   "metadata": {
    "collapsed": true
   },
   "outputs": [],
   "source": [
    "import pandas as pd\n",
    "import numpy as np\n",
    "\n",
    "np.random.seed(123)"
   ]
  },
  {
   "cell_type": "code",
   "execution_count": 2,
   "metadata": {},
   "outputs": [
    {
     "data": {
      "text/html": [
       "<div>\n",
       "<style scoped>\n",
       "    .dataframe tbody tr th:only-of-type {\n",
       "        vertical-align: middle;\n",
       "    }\n",
       "\n",
       "    .dataframe tbody tr th {\n",
       "        vertical-align: top;\n",
       "    }\n",
       "\n",
       "    .dataframe thead th {\n",
       "        text-align: right;\n",
       "    }\n",
       "</style>\n",
       "<table border=\"1\" class=\"dataframe\">\n",
       "  <thead>\n",
       "    <tr style=\"text-align: right;\">\n",
       "      <th></th>\n",
       "      <th>X</th>\n",
       "      <th>Y</th>\n",
       "      <th>Z</th>\n",
       "    </tr>\n",
       "  </thead>\n",
       "  <tbody>\n",
       "    <tr>\n",
       "      <th>ID_0</th>\n",
       "      <td>6.964692</td>\n",
       "      <td>2.861393</td>\n",
       "      <td>2.268515</td>\n",
       "    </tr>\n",
       "    <tr>\n",
       "      <th>ID_1</th>\n",
       "      <td>5.513148</td>\n",
       "      <td>7.194690</td>\n",
       "      <td>4.231065</td>\n",
       "    </tr>\n",
       "    <tr>\n",
       "      <th>ID_2</th>\n",
       "      <td>9.807642</td>\n",
       "      <td>6.848297</td>\n",
       "      <td>4.809319</td>\n",
       "    </tr>\n",
       "    <tr>\n",
       "      <th>ID_3</th>\n",
       "      <td>3.921175</td>\n",
       "      <td>3.431780</td>\n",
       "      <td>7.290497</td>\n",
       "    </tr>\n",
       "    <tr>\n",
       "      <th>ID_4</th>\n",
       "      <td>4.385722</td>\n",
       "      <td>0.596779</td>\n",
       "      <td>3.980443</td>\n",
       "    </tr>\n",
       "  </tbody>\n",
       "</table>\n",
       "</div>"
      ],
      "text/plain": [
       "             X         Y         Z\n",
       "ID_0  6.964692  2.861393  2.268515\n",
       "ID_1  5.513148  7.194690  4.231065\n",
       "ID_2  9.807642  6.848297  4.809319\n",
       "ID_3  3.921175  3.431780  7.290497\n",
       "ID_4  4.385722  0.596779  3.980443"
      ]
     },
     "execution_count": 2,
     "metadata": {},
     "output_type": "execute_result"
    }
   ],
   "source": [
    "variables = ['X', 'Y', 'Z']\n",
    "labels = ['ID_0', 'ID_1', 'ID_2', 'ID_3', 'ID_4']\n",
    "\n",
    "X = np.random.random_sample([5, 3]) * 10\n",
    "df = pd.DataFrame(X, columns=variables, index=labels)\n",
    "df"
   ]
  },
  {
   "cell_type": "markdown",
   "metadata": {},
   "source": [
    "`pdist(df, metric='euclidean')` 返回成对的距离向量。"
   ]
  },
  {
   "cell_type": "code",
   "execution_count": 5,
   "metadata": {},
   "outputs": [
    {
     "data": {
      "text/plain": [
       "array([4.973534  , 5.51665266, 5.89988504, 3.83539555, 4.34707339,\n",
       "       5.10431109, 6.69823298, 7.24426159, 8.31659367, 4.382864  ])"
      ]
     },
     "execution_count": 5,
     "metadata": {},
     "output_type": "execute_result"
    }
   ],
   "source": [
    "pdist(df, metric='euclidean')"
   ]
  },
  {
   "cell_type": "code",
   "execution_count": 4,
   "metadata": {},
   "outputs": [
    {
     "data": {
      "text/html": [
       "<div>\n",
       "<style scoped>\n",
       "    .dataframe tbody tr th:only-of-type {\n",
       "        vertical-align: middle;\n",
       "    }\n",
       "\n",
       "    .dataframe tbody tr th {\n",
       "        vertical-align: top;\n",
       "    }\n",
       "\n",
       "    .dataframe thead th {\n",
       "        text-align: right;\n",
       "    }\n",
       "</style>\n",
       "<table border=\"1\" class=\"dataframe\">\n",
       "  <thead>\n",
       "    <tr style=\"text-align: right;\">\n",
       "      <th></th>\n",
       "      <th>ID_0</th>\n",
       "      <th>ID_1</th>\n",
       "      <th>ID_2</th>\n",
       "      <th>ID_3</th>\n",
       "      <th>ID_4</th>\n",
       "    </tr>\n",
       "  </thead>\n",
       "  <tbody>\n",
       "    <tr>\n",
       "      <th>ID_0</th>\n",
       "      <td>0.000000</td>\n",
       "      <td>4.973534</td>\n",
       "      <td>5.516653</td>\n",
       "      <td>5.899885</td>\n",
       "      <td>3.835396</td>\n",
       "    </tr>\n",
       "    <tr>\n",
       "      <th>ID_1</th>\n",
       "      <td>4.973534</td>\n",
       "      <td>0.000000</td>\n",
       "      <td>4.347073</td>\n",
       "      <td>5.104311</td>\n",
       "      <td>6.698233</td>\n",
       "    </tr>\n",
       "    <tr>\n",
       "      <th>ID_2</th>\n",
       "      <td>5.516653</td>\n",
       "      <td>4.347073</td>\n",
       "      <td>0.000000</td>\n",
       "      <td>7.244262</td>\n",
       "      <td>8.316594</td>\n",
       "    </tr>\n",
       "    <tr>\n",
       "      <th>ID_3</th>\n",
       "      <td>5.899885</td>\n",
       "      <td>5.104311</td>\n",
       "      <td>7.244262</td>\n",
       "      <td>0.000000</td>\n",
       "      <td>4.382864</td>\n",
       "    </tr>\n",
       "    <tr>\n",
       "      <th>ID_4</th>\n",
       "      <td>3.835396</td>\n",
       "      <td>6.698233</td>\n",
       "      <td>8.316594</td>\n",
       "      <td>4.382864</td>\n",
       "      <td>0.000000</td>\n",
       "    </tr>\n",
       "  </tbody>\n",
       "</table>\n",
       "</div>"
      ],
      "text/plain": [
       "          ID_0      ID_1      ID_2      ID_3      ID_4\n",
       "ID_0  0.000000  4.973534  5.516653  5.899885  3.835396\n",
       "ID_1  4.973534  0.000000  4.347073  5.104311  6.698233\n",
       "ID_2  5.516653  4.347073  0.000000  7.244262  8.316594\n",
       "ID_3  5.899885  5.104311  7.244262  0.000000  4.382864\n",
       "ID_4  3.835396  6.698233  8.316594  4.382864  0.000000"
      ]
     },
     "execution_count": 4,
     "metadata": {},
     "output_type": "execute_result"
    }
   ],
   "source": [
    "from scipy.spatial.distance import pdist, squareform\n",
    "\n",
    "row_dist = pd.DataFrame(\n",
    "    squareform(pdist(df, metric='euclidean')), columns=labels, index=labels)\n",
    "row_dist"
   ]
  },
  {
   "cell_type": "markdown",
   "metadata": {},
   "source": [
    "注意：**不要把 `row_dist` 这个“好看” 的矩阵输入到 scipy 中，进行层次聚类，而应该使用成对距离向量或者原始数据作为输入。 **"
   ]
  },
  {
   "cell_type": "markdown",
   "metadata": {},
   "source": [
    "最后一列返回每个集群成员的个数。"
   ]
  },
  {
   "cell_type": "code",
   "execution_count": 8,
   "metadata": {},
   "outputs": [
    {
     "data": {
      "text/html": [
       "<div>\n",
       "<style scoped>\n",
       "    .dataframe tbody tr th:only-of-type {\n",
       "        vertical-align: middle;\n",
       "    }\n",
       "\n",
       "    .dataframe tbody tr th {\n",
       "        vertical-align: top;\n",
       "    }\n",
       "\n",
       "    .dataframe thead th {\n",
       "        text-align: right;\n",
       "    }\n",
       "</style>\n",
       "<table border=\"1\" class=\"dataframe\">\n",
       "  <thead>\n",
       "    <tr style=\"text-align: right;\">\n",
       "      <th></th>\n",
       "      <th>row label 1</th>\n",
       "      <th>row label 2</th>\n",
       "      <th>distance</th>\n",
       "      <th>no. of items in clust.</th>\n",
       "    </tr>\n",
       "  </thead>\n",
       "  <tbody>\n",
       "    <tr>\n",
       "      <th>cluster 1</th>\n",
       "      <td>0.0</td>\n",
       "      <td>4.0</td>\n",
       "      <td>3.835396</td>\n",
       "      <td>2.0</td>\n",
       "    </tr>\n",
       "    <tr>\n",
       "      <th>cluster 2</th>\n",
       "      <td>1.0</td>\n",
       "      <td>2.0</td>\n",
       "      <td>4.347073</td>\n",
       "      <td>2.0</td>\n",
       "    </tr>\n",
       "    <tr>\n",
       "      <th>cluster 3</th>\n",
       "      <td>3.0</td>\n",
       "      <td>5.0</td>\n",
       "      <td>5.899885</td>\n",
       "      <td>3.0</td>\n",
       "    </tr>\n",
       "    <tr>\n",
       "      <th>cluster 4</th>\n",
       "      <td>6.0</td>\n",
       "      <td>7.0</td>\n",
       "      <td>8.316594</td>\n",
       "      <td>5.0</td>\n",
       "    </tr>\n",
       "  </tbody>\n",
       "</table>\n",
       "</div>"
      ],
      "text/plain": [
       "           row label 1  row label 2  distance  no. of items in clust.\n",
       "cluster 1          0.0          4.0  3.835396                     2.0\n",
       "cluster 2          1.0          2.0  4.347073                     2.0\n",
       "cluster 3          3.0          5.0  5.899885                     3.0\n",
       "cluster 4          6.0          7.0  8.316594                     5.0"
      ]
     },
     "execution_count": 8,
     "metadata": {},
     "output_type": "execute_result"
    }
   ],
   "source": [
    "from scipy.cluster.hierarchy import linkage\n",
    "\n",
    "row_clusters = linkage(pdist(df, metric='euclidean'), method='complete')\n",
    "pd.DataFrame(\n",
    "    row_clusters,\n",
    "    columns=[\n",
    "        'row label 1', 'row label 2', 'distance', 'no. of items in clust.'\n",
    "    ],\n",
    "    index=['cluster {}'.format(i + 1) for i in range(row_clusters.shape[0])])"
   ]
  },
  {
   "cell_type": "code",
   "execution_count": 9,
   "metadata": {},
   "outputs": [
    {
     "data": {
      "text/html": [
       "<div>\n",
       "<style scoped>\n",
       "    .dataframe tbody tr th:only-of-type {\n",
       "        vertical-align: middle;\n",
       "    }\n",
       "\n",
       "    .dataframe tbody tr th {\n",
       "        vertical-align: top;\n",
       "    }\n",
       "\n",
       "    .dataframe thead th {\n",
       "        text-align: right;\n",
       "    }\n",
       "</style>\n",
       "<table border=\"1\" class=\"dataframe\">\n",
       "  <thead>\n",
       "    <tr style=\"text-align: right;\">\n",
       "      <th></th>\n",
       "      <th>row label 1</th>\n",
       "      <th>row label 2</th>\n",
       "      <th>distance</th>\n",
       "      <th>no. of items in clust.</th>\n",
       "    </tr>\n",
       "  </thead>\n",
       "  <tbody>\n",
       "    <tr>\n",
       "      <th>cluster 1</th>\n",
       "      <td>0.0</td>\n",
       "      <td>4.0</td>\n",
       "      <td>3.835396</td>\n",
       "      <td>2.0</td>\n",
       "    </tr>\n",
       "    <tr>\n",
       "      <th>cluster 2</th>\n",
       "      <td>1.0</td>\n",
       "      <td>2.0</td>\n",
       "      <td>4.347073</td>\n",
       "      <td>2.0</td>\n",
       "    </tr>\n",
       "    <tr>\n",
       "      <th>cluster 3</th>\n",
       "      <td>3.0</td>\n",
       "      <td>5.0</td>\n",
       "      <td>5.899885</td>\n",
       "      <td>3.0</td>\n",
       "    </tr>\n",
       "    <tr>\n",
       "      <th>cluster 4</th>\n",
       "      <td>6.0</td>\n",
       "      <td>7.0</td>\n",
       "      <td>8.316594</td>\n",
       "      <td>5.0</td>\n",
       "    </tr>\n",
       "  </tbody>\n",
       "</table>\n",
       "</div>"
      ],
      "text/plain": [
       "           row label 1  row label 2  distance  no. of items in clust.\n",
       "cluster 1          0.0          4.0  3.835396                     2.0\n",
       "cluster 2          1.0          2.0  4.347073                     2.0\n",
       "cluster 3          3.0          5.0  5.899885                     3.0\n",
       "cluster 4          6.0          7.0  8.316594                     5.0"
      ]
     },
     "execution_count": 9,
     "metadata": {},
     "output_type": "execute_result"
    }
   ],
   "source": [
    "row_clusters = linkage(df.values, method='complete', metric='euclidean')\n",
    "pd.DataFrame(\n",
    "    row_clusters,\n",
    "    columns=[\n",
    "        'row label 1', 'row label 2', 'distance', 'no. of items in clust.'\n",
    "    ],\n",
    "    index=['cluster {}'.format(i + 1) for i in range(row_clusters.shape[0])])"
   ]
  },
  {
   "cell_type": "code",
   "execution_count": 19,
   "metadata": {},
   "outputs": [
    {
     "data": {
      "image/png": "[encoded data removed]",
      "text/plain": [
       "<Figure size 432x288 with 1 Axes>"
      ]
     },
     "metadata": {
      "image/png": {
       "height": 277,
       "width": 434
      },
      "needs_background": "light"
     },
     "output_type": "display_data"
    }
   ],
   "source": [
    "from scipy.cluster.hierarchy import dendrogram\n",
    "\n",
    "# make dendrogram black (part 1/2)\n",
    "# from scipy.cluster.hierarchy import set_link_color_palette\n",
    "# set_link_color_palette(['black'])\n",
    "\n",
    "row_dendr = dendrogram(\n",
    "    row_clusters,\n",
    "    labels=labels,\n",
    "    # make dendrogram black (part 2/2)\n",
    "    # color_threshold=np.inf\n",
    ")\n",
    "plt.tight_layout()\n",
    "plt.ylabel('Euclidean distance')\n",
    "# plt.savefig('images/11_11.png', dpi=300,\n",
    "#            bbox_inches='tight')\n",
    "plt.show()"
   ]
  },
  {
   "cell_type": "code",
   "execution_count": 29,
   "metadata": {},
   "outputs": [
    {
     "data": {
      "image/png": "[encoded data removed]",
      "text/plain": [
       "<Figure size 432x288 with 1 Axes>"
      ]
     },
     "metadata": {
      "image/png": {
       "height": 277,
       "width": 443
      },
      "needs_background": "light"
     },
     "output_type": "display_data"
    }
   ],
   "source": [
    "from scipy.cluster.hierarchy import dendrogram\n",
    "\n",
    "from scipy.cluster.hierarchy import set_link_color_palette\n",
    "set_link_color_palette(['black'])\n",
    "\n",
    "row_dendr = dendrogram(row_clusters, labels=labels, color_threshold=np.inf)\n",
    "plt.tight_layout()\n",
    "plt.ylabel('欧几里得距离', fontsize=18)\n",
    "# plt.savefig('images/11_11.png', dpi=300,\n",
    "#            bbox_inches='tight')\n",
    "plt.show()"
   ]
  },
  {
   "cell_type": "markdown",
   "metadata": {},
   "source": [
    "## 使用热力图"
   ]
  },
  {
   "cell_type": "code",
   "execution_count": 25,
   "metadata": {},
   "outputs": [
    {
     "data": {
      "text/html": [
       "<div>\n",
       "<style scoped>\n",
       "    .dataframe tbody tr th:only-of-type {\n",
       "        vertical-align: middle;\n",
       "    }\n",
       "\n",
       "    .dataframe tbody tr th {\n",
       "        vertical-align: top;\n",
       "    }\n",
       "\n",
       "    .dataframe thead th {\n",
       "        text-align: right;\n",
       "    }\n",
       "</style>\n",
       "<table border=\"1\" class=\"dataframe\">\n",
       "  <thead>\n",
       "    <tr style=\"text-align: right;\">\n",
       "      <th></th>\n",
       "      <th>X</th>\n",
       "      <th>Y</th>\n",
       "      <th>Z</th>\n",
       "    </tr>\n",
       "  </thead>\n",
       "  <tbody>\n",
       "    <tr>\n",
       "      <th>ID_4</th>\n",
       "      <td>4.385722</td>\n",
       "      <td>0.596779</td>\n",
       "      <td>3.980443</td>\n",
       "    </tr>\n",
       "    <tr>\n",
       "      <th>ID_0</th>\n",
       "      <td>6.964692</td>\n",
       "      <td>2.861393</td>\n",
       "      <td>2.268515</td>\n",
       "    </tr>\n",
       "    <tr>\n",
       "      <th>ID_3</th>\n",
       "      <td>3.921175</td>\n",
       "      <td>3.431780</td>\n",
       "      <td>7.290497</td>\n",
       "    </tr>\n",
       "    <tr>\n",
       "      <th>ID_2</th>\n",
       "      <td>9.807642</td>\n",
       "      <td>6.848297</td>\n",
       "      <td>4.809319</td>\n",
       "    </tr>\n",
       "    <tr>\n",
       "      <th>ID_1</th>\n",
       "      <td>5.513148</td>\n",
       "      <td>7.194690</td>\n",
       "      <td>4.231065</td>\n",
       "    </tr>\n",
       "  </tbody>\n",
       "</table>\n",
       "</div>"
      ],
      "text/plain": [
       "             X         Y         Z\n",
       "ID_4  4.385722  0.596779  3.980443\n",
       "ID_0  6.964692  2.861393  2.268515\n",
       "ID_3  3.921175  3.431780  7.290497\n",
       "ID_2  9.807642  6.848297  4.809319\n",
       "ID_1  5.513148  7.194690  4.231065"
      ]
     },
     "execution_count": 25,
     "metadata": {},
     "output_type": "execute_result"
    }
   ],
   "source": [
    "df.iloc[row_dendr['leaves'][::-1]]"
   ]
  },
  {
   "cell_type": "code",
   "execution_count": 15,
   "metadata": {},
   "outputs": [
    {
     "data": {
      "image/png": "[encoded data removed]",
      "text/plain": [
       "<Figure size 576x576 with 3 Axes>"
      ]
     },
     "metadata": {
      "image/png": {
       "height": 388,
       "width": 419
      }
     },
     "output_type": "display_data"
    }
   ],
   "source": [
    "# plot row dendrogram\n",
    "fig = plt.figure(figsize=(8, 8), facecolor='white')\n",
    "axd = fig.add_axes([0.09, 0.1, 0.2, 0.6])\n",
    "\n",
    "# note: for matplotlib < v1.5.1, please use orientation='right'\n",
    "# 画在左边\n",
    "row_dendr = dendrogram(row_clusters, orientation='left')\n",
    "\n",
    "# reorder data with respect to clustering\n",
    "df_rowclust = df.iloc[row_dendr['leaves'][::-1]]\n",
    "\n",
    "#axd.set_xticks([])\n",
    "#axd.set_yticks([])\n",
    "\n",
    "# remove axes spines from dendrogram\n",
    "for i in axd.spines.values():\n",
    "    i.set_visible(False)\n",
    "\n",
    "# plot heatmap\n",
    "axm = fig.add_axes([0.23, 0.1, 0.6, 0.6])  # x-pos, y-pos, width, height\n",
    "cax = axm.matshow(df_rowclust, interpolation='nearest', cmap='hot_r')\n",
    "fig.colorbar(cax)\n",
    "axm.set_xticklabels([''] + list(df_rowclust.columns))\n",
    "axm.set_yticklabels([''] + list(df_rowclust.index))\n",
    "\n",
    "plt.show()"
   ]
  },
  {
   "cell_type": "code",
   "execution_count": 18,
   "metadata": {},
   "outputs": [
    {
     "data": {
      "text/plain": [
       "{'color_list': ['g', 'r', 'b', 'b'],\n",
       " 'dcoord': [[0.0, 4.3470733871677325, 4.3470733871677325, 0.0],\n",
       "  [0.0, 3.835395554137081, 3.835395554137081, 0.0],\n",
       "  [0.0, 5.899885039085129, 5.899885039085129, 3.835395554137081],\n",
       "  [4.3470733871677325, 8.31659366611402, 8.31659366611402, 5.899885039085129]],\n",
       " 'icoord': [[5.0, 5.0, 15.0, 15.0],\n",
       "  [35.0, 35.0, 45.0, 45.0],\n",
       "  [25.0, 25.0, 40.0, 40.0],\n",
       "  [10.0, 10.0, 32.5, 32.5]],\n",
       " 'ivl': ['1', '2', '3', '0', '4'],\n",
       " 'leaves': [1, 2, 3, 0, 4]}"
      ]
     },
     "execution_count": 18,
     "metadata": {},
     "output_type": "execute_result"
    }
   ],
   "source": [
    "row_dendr"
   ]
  },
  {
   "cell_type": "code",
   "execution_count": 26,
   "metadata": {},
   "outputs": [
    {
     "data": {
      "text/html": [
       "<div>\n",
       "<style scoped>\n",
       "    .dataframe tbody tr th:only-of-type {\n",
       "        vertical-align: middle;\n",
       "    }\n",
       "\n",
       "    .dataframe tbody tr th {\n",
       "        vertical-align: top;\n",
       "    }\n",
       "\n",
       "    .dataframe thead th {\n",
       "        text-align: right;\n",
       "    }\n",
       "</style>\n",
       "<table border=\"1\" class=\"dataframe\">\n",
       "  <thead>\n",
       "    <tr style=\"text-align: right;\">\n",
       "      <th></th>\n",
       "      <th>X</th>\n",
       "      <th>Y</th>\n",
       "      <th>Z</th>\n",
       "    </tr>\n",
       "  </thead>\n",
       "  <tbody>\n",
       "    <tr>\n",
       "      <th>ID_4</th>\n",
       "      <td>4.385722</td>\n",
       "      <td>0.596779</td>\n",
       "      <td>3.980443</td>\n",
       "    </tr>\n",
       "    <tr>\n",
       "      <th>ID_0</th>\n",
       "      <td>6.964692</td>\n",
       "      <td>2.861393</td>\n",
       "      <td>2.268515</td>\n",
       "    </tr>\n",
       "    <tr>\n",
       "      <th>ID_3</th>\n",
       "      <td>3.921175</td>\n",
       "      <td>3.431780</td>\n",
       "      <td>7.290497</td>\n",
       "    </tr>\n",
       "    <tr>\n",
       "      <th>ID_2</th>\n",
       "      <td>9.807642</td>\n",
       "      <td>6.848297</td>\n",
       "      <td>4.809319</td>\n",
       "    </tr>\n",
       "    <tr>\n",
       "      <th>ID_1</th>\n",
       "      <td>5.513148</td>\n",
       "      <td>7.194690</td>\n",
       "      <td>4.231065</td>\n",
       "    </tr>\n",
       "  </tbody>\n",
       "</table>\n",
       "</div>"
      ],
      "text/plain": [
       "             X         Y         Z\n",
       "ID_4  4.385722  0.596779  3.980443\n",
       "ID_0  6.964692  2.861393  2.268515\n",
       "ID_3  3.921175  3.431780  7.290497\n",
       "ID_2  9.807642  6.848297  4.809319\n",
       "ID_1  5.513148  7.194690  4.231065"
      ]
     },
     "execution_count": 26,
     "metadata": {},
     "output_type": "execute_result"
    }
   ],
   "source": [
    "df_rowclust"
   ]
  },
  {
   "cell_type": "markdown",
   "metadata": {},
   "source": [
    "##  scikit-learn 中使用层次聚类"
   ]
  },
  {
   "cell_type": "code",
   "execution_count": 30,
   "metadata": {
    "collapsed": true
   },
   "outputs": [],
   "source": [
    "from sklearn.cluster import AgglomerativeClustering\n",
    "\n",
    "ac = AgglomerativeClustering(\n",
    "    n_clusters=3, affinity='euclidean', linkage='complete')"
   ]
  },
  {
   "cell_type": "code",
   "execution_count": 31,
   "metadata": {},
   "outputs": [
    {
     "data": {
      "text/plain": [
       "array([1, 0, 0, 2, 1])"
      ]
     },
     "execution_count": 31,
     "metadata": {},
     "output_type": "execute_result"
    }
   ],
   "source": [
    "labels = ac.fit_predict(X)\n",
    "labels"
   ]
  },
  {
   "cell_type": "code",
   "execution_count": 32,
   "metadata": {},
   "outputs": [
    {
     "data": {
      "text/plain": [
       "array([0, 1, 1, 0, 0])"
      ]
     },
     "execution_count": 32,
     "metadata": {},
     "output_type": "execute_result"
    }
   ],
   "source": [
    "ac = AgglomerativeClustering(\n",
    "    n_clusters=2, affinity='euclidean', linkage='complete')\n",
    "labels = ac.fit_predict(X)\n",
    "labels"
   ]
  }
 ],
 "metadata": {
  "kernelspec": {
   "display_name": "Python 3",
   "language": "python",
   "name": "python3"
  },
  "language_info": {
   "codemirror_mode": {
    "name": "ipython",
    "version": 3
   },
   "file_extension": ".py",
   "mimetype": "text/x-python",
   "name": "python",
   "nbconvert_exporter": "python",
   "pygments_lexer": "ipython3",
   "version": "3.6.3"
  }
 },
 "nbformat": 4,
 "nbformat_minor": 2
}
