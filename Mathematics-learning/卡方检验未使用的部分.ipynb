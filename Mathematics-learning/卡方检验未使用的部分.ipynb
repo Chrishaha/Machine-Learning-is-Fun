{
 "cells": [
  {
   "cell_type": "markdown",
   "metadata": {},
   "source": [
    "# 卡方检验未使用的部分"
   ]
  },
  {
   "cell_type": "markdown",
   "metadata": {},
   "source": [
    "卡方检验的公式：\n",
    "\n",
    "$$\n",
    "\\chi^2=\\sum \\frac{(O-E)^2}{E}\n",
    "$$\n",
    "\n",
    "说明：$O$ 是观测值（实际值），$E$ 是理论值（可以认为是期望值）。\n"
   ]
  },
  {
   "cell_type": "code",
   "execution_count": 34,
   "metadata": {
    "collapsed": true
   },
   "outputs": [],
   "source": [
    "from scipy import stats\n",
    "from scipy.stats import chi2_contingency\n",
    "\n",
    "\n",
    "def custom_chi2_contingency(observed):\n",
    "    \"\"\"\n",
    "    自己编写的卡方检验的函数，返回\n",
    "    \"\"\"\n",
    "    # 每一行求和\n",
    "    row = observed.sum(axis=1)\n",
    "    # 每一列求和\n",
    "    col = observed.sum(axis=0)\n",
    "    # 总数求和\n",
    "    all_sum = observed.sum()\n",
    "\n",
    "    # meshgrid 生成网格\n",
    "    x1, x2 = np.meshgrid(col, row)\n",
    "    # 期望频数\n",
    "    expected_count = x1 * x2 / all_sum\n",
    "    # 统计量，即卡方值\n",
    "    chi2 = ((observed - expected_count)**2 / expected_count).sum()\n",
    "    # 自由度\n",
    "    df = (len(row) - 1) * (len(col) - 1)\n",
    "    # 计算 p 值，这里用到了卡方分布的概率积累函数，\n",
    "    # 因为这个 cdf 是计算从左边到这点的累计积分，因此用 1 减它\n",
    "    p = 1 - stats.chi2.cdf(chi2, df=df)\n",
    "    return chi2, p, df, expected_count"
   ]
  },
  {
   "cell_type": "markdown",
   "metadata": {},
   "source": [
    "## 对比1：吴亦凡的例子\n",
    "\n",
    "参考资料：https://segmentfault.com/a/1190000003719712"
   ]
  },
  {
   "cell_type": "code",
   "execution_count": 10,
   "metadata": {},
   "outputs": [
    {
     "name": "stdout",
     "output_type": "stream",
     "text": [
      "(9.999815802502738, 0.0015655588405594223, 1, array([[26.1954023, 16.8045977],\n",
      "       [26.8045977, 17.1954023]]))\n",
      "(8.65835111269367, 0.0032556577008675054, 1, array([[26.1954023, 16.8045977],\n",
      "       [26.8045977, 17.1954023]]))\n"
     ]
    }
   ],
   "source": [
    "arr = np.array([[19, 24], [34, 10]])\n",
    "\n",
    "result1 = lw_chi2_contingency(arr)\n",
    "result2 = chi2_contingency(arr)\n",
    "print(result1)\n",
    "print(result2)"
   ]
  },
  {
   "cell_type": "markdown",
   "metadata": {},
   "source": [
    "## 对比2：官方文档给出的例子"
   ]
  },
  {
   "cell_type": "code",
   "execution_count": 11,
   "metadata": {},
   "outputs": [
    {
     "name": "stdout",
     "output_type": "stream",
     "text": [
      "(2.7777777777777777, 0.24935220877729614, 2, array([[12., 12., 16.],\n",
      "       [18., 18., 24.]]))\n",
      "(2.7777777777777777, 0.2493522087772962, 2, array([[12., 12., 16.],\n",
      "       [18., 18., 24.]]))\n"
     ]
    }
   ],
   "source": [
    "obs = np.array([[10, 10, 20], [20, 20, 20]])\n",
    "result1 = lw_chi2_contingency(obs)\n",
    "result2 = chi2_contingency(obs)\n",
    "print(result1)\n",
    "print(result2)"
   ]
  },
  {
   "cell_type": "markdown",
   "metadata": {},
   "source": [
    "## 对比3："
   ]
  },
  {
   "cell_type": "code",
   "execution_count": 37,
   "metadata": {},
   "outputs": [
    {
     "name": "stdout",
     "output_type": "stream",
     "text": [
      "自定义卡方检验的函数返回：\n",
      "(152.16271892047084, 0.0, 1, array([[ 98.18181818, 351.81818182],\n",
      "       [117.81818182, 422.18181818]]))\n",
      "\n",
      "scipy 提供的卡方检验返回：\n",
      "(150.2623232486362, 1.5192261812214016e-34, 1, array([[ 98.18181818, 351.81818182],\n",
      "       [117.81818182, 422.18181818]]))\n"
     ]
    }
   ],
   "source": [
    "obs = np.array([[178, 272], [38, 502]])\n",
    "result1 = custom_chi2_contingency(obs)\n",
    "result2 = chi2_contingency(obs)\n",
    "print('自定义卡方检验的函数返回：')\n",
    "print(result1)\n",
    "print()\n",
    "print('scipy 提供的卡方检验返回：')\n",
    "print(result2)"
   ]
  },
  {
   "cell_type": "markdown",
   "metadata": {},
   "source": [
    "这里 $p$ 值比 $0.05$ 小，所以应该拒绝原假设。"
   ]
  },
  {
   "cell_type": "markdown",
   "metadata": {},
   "source": [
    "## 对比4：\n",
    "\n",
    "参考资料：https://www.shuxuele.com/data/chi-square-test.html\n",
    "\n",
    "\n",
    "| 性别\\度假方式 | 沙滩  | 游轮  | 总计  |\n",
    "| ------------- | ----- | ----- | ----- |\n",
    "| 男            | $209$ | $280$ | $489$ |\n",
    "| 女            | $225$ | $248$ | $473$ |\n",
    "| 总计        | $434$ | $528$ | $962$ |\n",
    "\n",
    "理论分布：\n",
    "\n",
    "| 性别\\度假方式 | 沙滩  | 游轮  |\n",
    "| ------------- | ----- | ----- |\n",
    "| 男            | $434 \\times \\frac{489}{962} = 220.61$ | $528 \\times \\frac{489}{962} = 268.39 $ |\n",
    "| 女            | $434 \\times \\frac{473}{962} = 213.39$ | $528 \\times \\frac{473}{962} = 259.61$ |\n"
   ]
  },
  {
   "cell_type": "code",
   "execution_count": 13,
   "metadata": {},
   "outputs": [
    {
     "name": "stdout",
     "output_type": "stream",
     "text": [
      "(2.2637696373944167, 0.13243135094767922, 1, array([[220.60914761, 268.39085239],\n",
      "       [213.39085239, 259.60914761]]))\n",
      "(2.0729701044219957, 0.14992929199159188, 1, array([[220.60914761, 268.39085239],\n",
      "       [213.39085239, 259.60914761]]))\n"
     ]
    }
   ],
   "source": [
    "obs = np.array([[209, 280], [225, 248]])\n",
    "result1 = lw_chi2_contingency(obs)\n",
    "result2 = chi2_contingency(obs)\n",
    "print(result1)\n",
    "print(result2)"
   ]
  },
  {
   "cell_type": "markdown",
   "metadata": {},
   "source": [
    "返回：检验统计量，p 值，自由度，理论分布，这里 p 值比 0.05 大，所以不拒绝原假设。"
   ]
  },
  {
   "cell_type": "code",
   "execution_count": null,
   "metadata": {
    "collapsed": true
   },
   "outputs": [],
   "source": []
  },
  {
   "cell_type": "code",
   "execution_count": 25,
   "metadata": {},
   "outputs": [
    {
     "name": "stderr",
     "output_type": "stream",
     "text": [
      "/Users/liwei/anaconda3/envs/ipykernel_py3/lib/python3.6/site-packages/scipy/stats/stats.py:1626: FutureWarning: Using a non-tuple sequence for multidimensional indexing is deprecated; use `arr[tuple(seq)]` instead of `arr[seq]`. In the future this will be interpreted as an array index, `arr[np.array(seq)]`, which will result either in an error or a different result.\n",
      "  return np.add.reduce(sorted[indexer] * weights, axis=axis) / sumval\n",
      "/Users/liwei/anaconda3/envs/ipykernel_py3/lib/python3.6/site-packages/matplotlib/axes/_axes.py:6510: MatplotlibDeprecationWarning: \n",
      "The 'normed' kwarg was deprecated in Matplotlib 2.1 and will be removed in 3.1. Use 'density' instead.\n",
      "  alternative=\"'density'\", removal=\"3.1\")\n"
     ]
    },
    {
     "data": {
      "image/png": "[encoded data removed]",
      "text/plain": [
       "<Figure size 576x396 with 1 Axes>"
      ]
     },
     "metadata": {
      "image/png": {
       "height": 348,
       "width": 483
      }
     },
     "output_type": "display_data"
    }
   ],
   "source": [
    "from scipy import stats\n",
    "import seaborn as sns\n",
    "import matplotlib.pyplot as plt\n",
    "\n",
    "\n",
    "samples = stats.chi2.rvs(size=10000, df=1)\n",
    "sns.distplot(samples)\n",
    "plt.title('$\\chi^2$,df=1')\n",
    "plt.show()"
   ]
  },
  {
   "cell_type": "code",
   "execution_count": 26,
   "metadata": {},
   "outputs": [
    {
     "data": {
      "text/plain": [
       "2.956796099836173e-35"
      ]
     },
     "execution_count": 26,
     "metadata": {},
     "output_type": "execute_result"
    }
   ],
   "source": [
    "stats.chi2.pdf(152.15, df=1)"
   ]
  },
  {
   "cell_type": "markdown",
   "metadata": {
    "collapsed": true
   },
   "source": [
    "我自己总结的文章：\n",
    "\n",
    "白话“卡方检验”\n",
    "https://blog.csdn.net/lw_power/article/details/83958476\n",
    "\n",
    "---\n",
    "\n",
    "卡方检验用于文本分类中的特征提取\n",
    "https://blog.csdn.net/chuchus/article/details/44041375\n",
    "\n",
    "用python进行列联表卡方检验\n",
    "https://zhuanlan.zhihu.com/p/42470566\n",
    "\n",
    "卡方检验计算器：https://www.shuxuele.com/data/chi-square-test.html\n",
    "\n",
    "\n",
    "\n",
    "\n",
    "卡方检验原理及应用：https://segmentfault.com/a/1190000003719712\n",
    "https://www.cnblogs.com/emanlee/archive/2008/10/25/1319569.html\n",
    "\n",
    "\n",
    "\n",
    "\n",
    "![Jietu20180911-195948@2x.jpg](https://upload-images.jianshu.io/upload_images/414598-34f8a823e82a9e99.jpg?imageMogr2/auto-orient/strip%7CimageView2/2/w/1240)\n",
    "\n",
    "使用 Python 计算：\n",
    "![Jietu20180911-221645@2x.jpg](https://upload-images.jianshu.io/upload_images/414598-7bc219e6ae0a5154.jpg?imageMogr2/auto-orient/strip%7CimageView2/2/w/1240)\n",
    "\n",
    "参考资料：\n",
    "\n",
    "\n",
    "\n",
    "\n",
    "\n",
    "\n",
    "\n",
    "\n",
    "\n",
    "\n",
    "\n",
    "\n"
   ]
  },
  {
   "cell_type": "code",
   "execution_count": null,
   "metadata": {
    "collapsed": true
   },
   "outputs": [],
   "source": []
  }
 ],
 "metadata": {
  "kernelspec": {
   "display_name": "Python 3",
   "language": "python",
   "name": "python3"
  },
  "language_info": {
   "codemirror_mode": {
    "name": "ipython",
    "version": 3
   },
   "file_extension": ".py",
   "mimetype": "text/x-python",
   "name": "python",
   "nbconvert_exporter": "python",
   "pygments_lexer": "ipython3",
   "version": "3.6.1"
  },
  "toc": {
   "nav_menu": {},
   "number_sections": true,
   "sideBar": true,
   "skip_h1_title": false,
   "toc_cell": false,
   "toc_position": {},
   "toc_section_display": "block",
   "toc_window_display": false
  }
 },
 "nbformat": 4,
 "nbformat_minor": 2
}
