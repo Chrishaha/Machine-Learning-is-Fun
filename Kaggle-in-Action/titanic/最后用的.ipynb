{
 "cells": [
  {
   "cell_type": "code",
   "execution_count": 411,
   "metadata": {
    "collapsed": true
   },
   "outputs": [],
   "source": [
    "import pandas as pd\n",
    "\n",
    "data_train = pd.read_csv('./input/train.csv')\n",
    "data_test = pd.read_csv('./input/test.csv')\n",
    "PassengerId = data_test.PassengerId\n",
    "y = data_train['Survived']\n",
    "del data_train['Survived']"
   ]
  },
  {
   "cell_type": "code",
   "execution_count": 412,
   "metadata": {
    "collapsed": true
   },
   "outputs": [],
   "source": [
    "def feature_preprocessing(data):\n",
    "    # 性别\n",
    "    data['Sex'] = data['Sex'].map(lambda x: 1 if x == 'male' else 0)\n",
    "\n",
    "    # 缺失值填充\n",
    "    data['Embarked'] = data['Embarked'].fillna(\n",
    "        data['Embarked'].mode().values[0])\n",
    "\n",
    "    # Fare 船票价格，使用平均数填充\n",
    "    data['Fare'] = data['Fare'].fillna(data['Fare'].mean())\n",
    "\n",
    "    Pclass_dummies = pd.get_dummies(data['Pclass'], prefix='Pclass')\n",
    "    Embarked_dummies = pd.get_dummies(data['Embarked'], prefix='Embarked')\n",
    "\n",
    "    # 丢弃姓名、客舱 Cabin 、船票信息 Ticket\n",
    "    data.drop(\n",
    "        columns=[\n",
    "            'Cabin', 'Ticket', 'Pclass', 'Embarked', 'PassengerId'\n",
    "        ],\n",
    "        inplace=True)\n",
    "\n",
    "    data = pd.concat([data, Pclass_dummies, Embarked_dummies], axis=1)\n",
    "    return data\n",
    "\n",
    "\n",
    "data_train = feature_preprocessing(data_train)\n",
    "data_test = feature_preprocessing(data_test)"
   ]
  },
  {
   "cell_type": "code",
   "execution_count": 413,
   "metadata": {
    "collapsed": true
   },
   "outputs": [],
   "source": [
    "from sklearn.ensemble import RandomForestRegressor\n",
    "\n",
    "\n",
    "def predict_age_by_rfr(data):\n",
    "\n",
    "    columns = data.columns\n",
    "    cols = columns.tolist()\n",
    "    if 'Survived' in cols:\n",
    "        cols.remove('Survived')\n",
    "    cols.remove('Name')\n",
    "    cols.remove('Age')\n",
    "    X_train_for_age = data.loc[data['Age'].notnull(), cols].values\n",
    "    y_train_for_age = data.loc[data['Age'].notnull(), 'Age'].values\n",
    "\n",
    "    rfr = RandomForestRegressor(random_state=666, n_estimators=100)\n",
    "    rfr.fit(X_train_for_age, y_train_for_age)\n",
    "\n",
    "    X_test_for_age = data.loc[data['Age'].isnull(), cols].values\n",
    "    y_pred_for_age = rfr.predict(X_test_for_age)\n",
    "\n",
    "    data.loc[data['Age'].isnull(), 'Age'] = y_pred_for_age\n",
    "\n",
    "\n",
    "predict_age_by_rfr(data_train)\n",
    "predict_age_by_rfr(data_test)"
   ]
  },
  {
   "cell_type": "code",
   "execution_count": 414,
   "metadata": {
    "collapsed": true
   },
   "outputs": [],
   "source": [
    "def feature_extract_Title(data):\n",
    "\n",
    "    data['Title'] = data['Name'].map(\n",
    "        lambda x: x.split(',')[1].split('.')[0].strip())\n",
    "    Title_Dictionary = {\n",
    "        \"Mr\": \"Mr\",\n",
    "        \"Mrs\": \"Mrs\",\n",
    "        \"Miss\": \"Miss\",\n",
    "        \"Master\": \"Master\",\n",
    "        \"Don\": \"Royalty\",\n",
    "        \"Rev\": \"Officer\",\n",
    "        \"Dr\": \"Officer\",\n",
    "        \"Mme\": \"Mrs\",\n",
    "        \"Ms\": \"Mrs\",\n",
    "        \"Major\": \"Officer\",\n",
    "        \"Lady\": \"Royalty\",\n",
    "        \"Sir\": \"Royalty\",\n",
    "        \"Mlle\": \"Miss\",\n",
    "        \"Col\": \"Officer\",\n",
    "        \"Capt\": \"Officer\",\n",
    "        \"the Countess\": \"Royalty\",\n",
    "        \"Jonkheer\": \"Royalty\",\n",
    "        \"Dona\": 'Mrs'\n",
    "    }\n",
    "    data['Title'] = data['Title'].map(Title_Dictionary)\n",
    "\n",
    "    Title_dummies = pd.get_dummies(data['Title'], prefix='Title')\n",
    "    data = pd.concat([data, Title_dummies], axis=1)\n",
    "    # 丢弃姓名、客舱 Cabin 、船票信息 Ticket\n",
    "    data.drop(columns=['Name', 'Title'], inplace=True)\n",
    "    return data\n",
    "\n",
    "\n",
    "combined_data = pd.concat([data_train, data_test], axis=0, sort=True)\n",
    "combined_data = feature_extract_Title(combined_data)\n",
    "data_train = combined_data.iloc[:data_train.shape[0], :]\n",
    "data_test = combined_data.iloc[data_train.shape[0]:, :]"
   ]
  },
  {
   "cell_type": "code",
   "execution_count": 416,
   "metadata": {},
   "outputs": [
    {
     "data": {
      "text/plain": [
       "(891, 17)"
      ]
     },
     "execution_count": 416,
     "metadata": {},
     "output_type": "execute_result"
    }
   ],
   "source": [
    "data_train.shape"
   ]
  },
  {
   "cell_type": "code",
   "execution_count": 417,
   "metadata": {
    "collapsed": true
   },
   "outputs": [],
   "source": [
    "from sklearn.model_selection import train_test_split\n",
    "\n",
    "X_train, X_test, y_train, y_test = train_test_split(\n",
    "    data_train, y, test_size=0.2, random_state=666)"
   ]
  },
  {
   "cell_type": "code",
   "execution_count": 421,
   "metadata": {},
   "outputs": [
    {
     "data": {
      "text/html": [
       "<div>\n",
       "<style scoped>\n",
       "    .dataframe tbody tr th:only-of-type {\n",
       "        vertical-align: middle;\n",
       "    }\n",
       "\n",
       "    .dataframe tbody tr th {\n",
       "        vertical-align: top;\n",
       "    }\n",
       "\n",
       "    .dataframe thead th {\n",
       "        text-align: right;\n",
       "    }\n",
       "</style>\n",
       "<table border=\"1\" class=\"dataframe\">\n",
       "  <thead>\n",
       "    <tr style=\"text-align: right;\">\n",
       "      <th></th>\n",
       "      <th>train_score</th>\n",
       "      <th>test_score</th>\n",
       "    </tr>\n",
       "  </thead>\n",
       "  <tbody>\n",
       "    <tr>\n",
       "      <th>DecisionTreeClassifier</th>\n",
       "      <td>0.983146</td>\n",
       "      <td>0.787709</td>\n",
       "    </tr>\n",
       "    <tr>\n",
       "      <th>LogisticRegression</th>\n",
       "      <td>0.842697</td>\n",
       "      <td>0.793296</td>\n",
       "    </tr>\n",
       "    <tr>\n",
       "      <th>RandomForestClassifier</th>\n",
       "      <td>0.983146</td>\n",
       "      <td>0.832402</td>\n",
       "    </tr>\n",
       "    <tr>\n",
       "      <th>svc</th>\n",
       "      <td>0.762640</td>\n",
       "      <td>0.681564</td>\n",
       "    </tr>\n",
       "    <tr>\n",
       "      <th>AdaBoostClassifier</th>\n",
       "      <td>0.846910</td>\n",
       "      <td>0.793296</td>\n",
       "    </tr>\n",
       "    <tr>\n",
       "      <th>GradientBoostingClassifier</th>\n",
       "      <td>0.901685</td>\n",
       "      <td>0.821229</td>\n",
       "    </tr>\n",
       "    <tr>\n",
       "      <th>XBClassifier</th>\n",
       "      <td>0.886236</td>\n",
       "      <td>0.826816</td>\n",
       "    </tr>\n",
       "  </tbody>\n",
       "</table>\n",
       "</div>"
      ],
      "text/plain": [
       "                            train_score  test_score\n",
       "DecisionTreeClassifier         0.983146    0.787709\n",
       "LogisticRegression             0.842697    0.793296\n",
       "RandomForestClassifier         0.983146    0.832402\n",
       "svc                            0.762640    0.681564\n",
       "AdaBoostClassifier             0.846910    0.793296\n",
       "GradientBoostingClassifier     0.901685    0.821229\n",
       "XBClassifier                   0.886236    0.826816"
      ]
     },
     "execution_count": 421,
     "metadata": {},
     "output_type": "execute_result"
    }
   ],
   "source": [
    "# 各种模型一起用\n",
    "from sklearn.tree import DecisionTreeClassifier\n",
    "from sklearn.linear_model import LogisticRegression\n",
    "from sklearn.ensemble import RandomForestClassifier\n",
    "from sklearn.svm import SVC\n",
    "from sklearn.ensemble import AdaBoostClassifier\n",
    "from sklearn.ensemble import GradientBoostingClassifier\n",
    "from xgboost import XGBClassifier\n",
    "\n",
    "dt = DecisionTreeClassifier(random_state=666)\n",
    "lr = LogisticRegression(solver='newton-cg')\n",
    "rfc = RandomForestClassifier(random_state=666, n_estimators=100)\n",
    "svc = SVC(kernel='rbf', gamma='scale')\n",
    "ada = AdaBoostClassifier()\n",
    "gbc = GradientBoostingClassifier()\n",
    "xgb = XGBClassifier()\n",
    "\n",
    "models = [('DecisionTreeClassifier', dt), ('LogisticRegression', lr),\n",
    "          ('RandomForestClassifier', rfc), ('svc', svc),\n",
    "          ('AdaBoostClassifier', ada), ('GradientBoostingClassifier',\n",
    "                                        gbc), ('XBClassifier', xgb)]\n",
    "\n",
    "\n",
    "def predict_by_different_models(models):\n",
    "    res = dict()\n",
    "    for model in models:\n",
    "        model_name = model[0]\n",
    "        clf = model[1]\n",
    "        clf.fit(X_train, y_train)\n",
    "        train_score = clf.score(X_train, y_train)\n",
    "        test_score = clf.score(X_test, y_test)\n",
    "        res[model_name] = {\n",
    "            'train_score': train_score,\n",
    "            'test_score': test_score\n",
    "        }\n",
    "    return res\n",
    "\n",
    "\n",
    "res = predict_by_different_models(models)\n",
    "res = pd.DataFrame(res).T\n",
    "res.reindex(columns=['train_score', 'test_score'])"
   ]
  },
  {
   "cell_type": "markdown",
   "metadata": {},
   "source": [
    "## 特征选择"
   ]
  },
  {
   "cell_type": "code",
   "execution_count": 450,
   "metadata": {},
   "outputs": [
    {
     "data": {
      "text/plain": [
       "array([0.        , 0.        , 0.        , 0.00688468, 0.01032702,\n",
       "       0.01376936, 0.0172117 , 0.02237521, 0.02581756, 0.03098107,\n",
       "       0.03442341, 0.03614458, 0.04302926, 0.04302926, 0.07917384,\n",
       "       0.30636832, 0.33046472], dtype=float32)"
      ]
     },
     "execution_count": 450,
     "metadata": {},
     "output_type": "execute_result"
    }
   ],
   "source": [
    "np.sort(xgb.feature_importances_)"
   ]
  },
  {
   "cell_type": "code",
   "execution_count": 454,
   "metadata": {},
   "outputs": [
    {
     "data": {
      "text/plain": [
       "Index(['Age', 'Fare', 'Pclass_3', 'Sex', 'SibSp', 'Title_Miss', 'Title_Mr',\n",
       "       'Title_Mrs'],\n",
       "      dtype='object')"
      ]
     },
     "execution_count": 454,
     "metadata": {},
     "output_type": "execute_result"
    }
   ],
   "source": [
    "importance_feature = X_train.columns[rfc.feature_importances_ >= 0.03]\n",
    "importance_feature"
   ]
  },
  {
   "cell_type": "code",
   "execution_count": 455,
   "metadata": {},
   "outputs": [
    {
     "name": "stdout",
     "output_type": "stream",
     "text": [
      "Fitting 5 folds for each of 125 candidates, totalling 625 fits\n"
     ]
    },
    {
     "name": "stderr",
     "output_type": "stream",
     "text": [
      "[Parallel(n_jobs=-1)]: Using backend LokyBackend with 8 concurrent workers.\n",
      "[Parallel(n_jobs=-1)]: Done  34 tasks      | elapsed:    3.3s\n",
      "[Parallel(n_jobs=-1)]: Done 184 tasks      | elapsed:    8.2s\n",
      "[Parallel(n_jobs=-1)]: Done 434 tasks      | elapsed:   16.6s\n"
     ]
    },
    {
     "name": "stdout",
     "output_type": "stream",
     "text": [
      "CPU times: user 3.39 s, sys: 197 ms, total: 3.59 s\n",
      "Wall time: 23.4 s\n"
     ]
    },
    {
     "name": "stderr",
     "output_type": "stream",
     "text": [
      "[Parallel(n_jobs=-1)]: Done 625 out of 625 | elapsed:   23.3s finished\n"
     ]
    }
   ],
   "source": [
    "%%time\n",
    "from sklearn.model_selection import GridSearchCV\n",
    "\n",
    "params = {\n",
    "    'max_depth': list(range(2, 7)),\n",
    "    'n_estimators': list(range(100, 1100, 200)),\n",
    "    'learning_rate': [0.05, 0.1, 0.25, 0.5, 1.0]\n",
    "}\n",
    "\n",
    "xgbc= XGBClassifier()\n",
    "\n",
    "gs = GridSearchCV(xgbc, params, n_jobs=-1, cv=5, verbose=1)\n",
    "\n",
    "gs.fit(X_train[importance_feature], y_train)"
   ]
  },
  {
   "cell_type": "code",
   "execution_count": 456,
   "metadata": {},
   "outputs": [
    {
     "data": {
      "text/plain": [
       "{'learning_rate': 0.1, 'max_depth': 4, 'n_estimators': 100}"
      ]
     },
     "execution_count": 456,
     "metadata": {},
     "output_type": "execute_result"
    }
   ],
   "source": [
    "gs.best_params_"
   ]
  },
  {
   "cell_type": "code",
   "execution_count": 457,
   "metadata": {},
   "outputs": [
    {
     "data": {
      "text/plain": [
       "0.8356741573033708"
      ]
     },
     "execution_count": 457,
     "metadata": {},
     "output_type": "execute_result"
    }
   ],
   "source": [
    "gs.best_score_"
   ]
  },
  {
   "cell_type": "code",
   "execution_count": 459,
   "metadata": {},
   "outputs": [
    {
     "data": {
      "text/plain": [
       "0.7988826815642458"
      ]
     },
     "execution_count": 459,
     "metadata": {},
     "output_type": "execute_result"
    }
   ],
   "source": [
    "gs.best_estimator_.score(X_test[importance_feature], y_test)"
   ]
  },
  {
   "cell_type": "code",
   "execution_count": 460,
   "metadata": {},
   "outputs": [
    {
     "data": {
      "text/plain": [
       "XGBClassifier(base_score=0.5, booster='gbtree', colsample_bylevel=1,\n",
       "       colsample_bytree=1, gamma=0, learning_rate=0.1, max_delta_step=0,\n",
       "       max_depth=4, min_child_weight=1, missing=None, n_estimators=100,\n",
       "       n_jobs=1, nthread=None, objective='binary:logistic', random_state=0,\n",
       "       reg_alpha=0, reg_lambda=1, scale_pos_weight=1, seed=None,\n",
       "       silent=True, subsample=1)"
      ]
     },
     "execution_count": 460,
     "metadata": {},
     "output_type": "execute_result"
    }
   ],
   "source": [
    "xgbc_best = XGBClassifier(learning_rate=0.1, max_depth=4, n_estimators=100)\n",
    "xgbc_best.fit(data_train[importance_feature], y)"
   ]
  },
  {
   "cell_type": "code",
   "execution_count": 463,
   "metadata": {
    "collapsed": true
   },
   "outputs": [],
   "source": [
    "y_pred = xgbc_best.predict(data_test[importance_feature])"
   ]
  },
  {
   "cell_type": "code",
   "execution_count": 465,
   "metadata": {},
   "outputs": [
    {
     "name": "stderr",
     "output_type": "stream",
     "text": [
      "/Users/liwei/anaconda3/envs/ipykernel_py3/lib/python3.6/site-packages/sklearn/linear_model/logistic.py:433: FutureWarning: Default solver will be changed to 'lbfgs' in 0.22. Specify a solver to silence this warning.\n",
      "  FutureWarning)\n"
     ]
    }
   ],
   "source": [
    "from sklearn.linear_model import LogisticRegression\n",
    "\n",
    "lr = LogisticRegression()\n",
    "lr.fit(X,y)\n",
    "y_pred = lr.predict(data_test)"
   ]
  },
  {
   "cell_type": "code",
   "execution_count": 466,
   "metadata": {
    "collapsed": true
   },
   "outputs": [],
   "source": [
    "result = pd.DataFrame({'PassengerId': PassengerId, 'Survived': y_pred})\n",
    "result.to_csv('lr_submission.csv', index=None)"
   ]
  },
  {
   "cell_type": "code",
   "execution_count": null,
   "metadata": {
    "collapsed": true
   },
   "outputs": [],
   "source": []
  },
  {
   "cell_type": "code",
   "execution_count": 468,
   "metadata": {},
   "outputs": [
    {
     "data": {
      "text/plain": [
       "array([3, 3, 3, 5, 6, 7, 8, 8])"
      ]
     },
     "execution_count": 468,
     "metadata": {},
     "output_type": "execute_result"
    }
   ],
   "source": [
    "import numpy as np\n",
    "\n",
    "x = np.array([1, 2, 3, 5, 6, 7, 8, 9])\n",
    "\n",
    "np.clip(x, 3, 8)"
   ]
  },
  {
   "cell_type": "code",
   "execution_count": null,
   "metadata": {
    "collapsed": true
   },
   "outputs": [],
   "source": []
  }
 ],
 "metadata": {
  "kernelspec": {
   "display_name": "Python 3",
   "language": "python",
   "name": "python3"
  },
  "language_info": {
   "codemirror_mode": {
    "name": "ipython",
    "version": 3
   },
   "file_extension": ".py",
   "mimetype": "text/x-python",
   "name": "python",
   "nbconvert_exporter": "python",
   "pygments_lexer": "ipython3",
   "version": "3.6.1"
  },
  "toc": {
   "nav_menu": {},
   "number_sections": true,
   "sideBar": true,
   "skip_h1_title": false,
   "toc_cell": false,
   "toc_position": {},
   "toc_section_display": "block",
   "toc_window_display": false
  }
 },
 "nbformat": 4,
 "nbformat_minor": 2
}
