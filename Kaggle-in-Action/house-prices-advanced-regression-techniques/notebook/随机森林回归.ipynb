{
 "cells": [
  {
   "cell_type": "markdown",
   "metadata": {},
   "source": [
    "\n",
    "\n",
    "[参考](https://blog.csdn.net/qq_26658823/article/details/79085736)。\n",
    "\n",
    "得分：$0.12223$（目前我最好的分数）。\n",
    "\n",
    "\n",
    "总结和思考：\n",
    "\n",
    "\n",
    "1、数据平滑 log1p 以后，输出的时候要 expm1 回来；\n",
    "\n",
    "2、有的字段值是数字，但实际上字符型的，要处理成字符型，最终变成独热编码，否则会引入有序关系：\n",
    "\n",
    "```python\n",
    "all_df.MSSubClass.astype(str)\n",
    "```\n",
    "\n",
    "3、一般机器学习的问题都会使用集成学习，集成学习的效果比单一学习器要好，泛化能力更强；\n",
    "\n",
    "4、调参使用交叉验证，或者网格搜索。\n",
    "\n",
    "欢迎批评和指导，我的联系方式：\n",
    "\n",
    "1、电话、微信：13671597056；\n",
    "\n",
    "2、QQ：121088825；\n",
    "\n",
    "3、邮件地址：liweiwei1419@gmail.com。\n",
    "\n"
   ]
  },
  {
   "cell_type": "code",
   "execution_count": 1,
   "metadata": {
    "collapsed": true
   },
   "outputs": [],
   "source": [
    "import numpy as np\n",
    "import pandas as pd\n",
    "\n",
    "import matplotlib.pyplot as plt\n",
    "import seaborn as sns\n",
    "%matplotlib inline"
   ]
  },
  {
   "cell_type": "code",
   "execution_count": 2,
   "metadata": {
    "collapsed": true
   },
   "outputs": [],
   "source": [
    "train_df = pd.read_csv('../input/train.csv', index_col=0)\n",
    "test_df = pd.read_csv('../input/test.csv', index_col=0)"
   ]
  },
  {
   "cell_type": "code",
   "execution_count": 3,
   "metadata": {},
   "outputs": [
    {
     "data": {
      "text/plain": [
       "(1460, 80)"
      ]
     },
     "execution_count": 3,
     "metadata": {},
     "output_type": "execute_result"
    }
   ],
   "source": [
    "train_df.shape"
   ]
  },
  {
   "cell_type": "code",
   "execution_count": 4,
   "metadata": {},
   "outputs": [
    {
     "data": {
      "text/plain": [
       "(1459, 79)"
      ]
     },
     "execution_count": 4,
     "metadata": {},
     "output_type": "execute_result"
    }
   ],
   "source": [
    "test_df.shape"
   ]
  },
  {
   "cell_type": "code",
   "execution_count": 5,
   "metadata": {
    "collapsed": true
   },
   "outputs": [],
   "source": [
    "# train_df.head()\n",
    "# test_df.head()"
   ]
  },
  {
   "cell_type": "code",
   "execution_count": 6,
   "metadata": {},
   "outputs": [
    {
     "data": {
      "image/png": "[encoded data removed]",
      "text/plain": [
       "<Figure size 432x288 with 2 Axes>"
      ]
     },
     "metadata": {
      "image/png": {
       "height": 261,
       "width": 373
      },
      "needs_background": "light"
     },
     "output_type": "display_data"
    }
   ],
   "source": [
    "prices = pd.DataFrame({\n",
    "    \"price\": train_df.SalePrice,\n",
    "    \"log(price + 1)\": np.log1p(train_df.SalePrice)\n",
    "})\n",
    "prices.hist()\n",
    "plt.show()"
   ]
  },
  {
   "cell_type": "code",
   "execution_count": 7,
   "metadata": {
    "collapsed": true
   },
   "outputs": [],
   "source": [
    "y_train = np.log1p(train_df['SalePrice'])\n",
    "# train_df.drop(['SalePrice'], axis=1, inplace=True)\n",
    "del train_df['SalePrice']"
   ]
  },
  {
   "cell_type": "code",
   "execution_count": 8,
   "metadata": {},
   "outputs": [
    {
     "data": {
      "text/plain": [
       "(2919, 79)"
      ]
     },
     "execution_count": 8,
     "metadata": {},
     "output_type": "execute_result"
    }
   ],
   "source": [
    "all_df = pd.concat((train_df, test_df), axis=0)\n",
    "all_df.shape"
   ]
  },
  {
   "cell_type": "markdown",
   "metadata": {},
   "source": [
    "MSSubClass 这个字段是字符型。"
   ]
  },
  {
   "cell_type": "code",
   "execution_count": 9,
   "metadata": {},
   "outputs": [
    {
     "data": {
      "text/plain": [
       "dtype('int64')"
      ]
     },
     "execution_count": 9,
     "metadata": {},
     "output_type": "execute_result"
    }
   ],
   "source": [
    "all_df.MSSubClass.dtypes"
   ]
  },
  {
   "cell_type": "code",
   "execution_count": 10,
   "metadata": {
    "collapsed": true
   },
   "outputs": [],
   "source": [
    "all_df.MSSubClass = all_df.MSSubClass.astype(str)"
   ]
  },
  {
   "cell_type": "code",
   "execution_count": 11,
   "metadata": {},
   "outputs": [
    {
     "data": {
      "text/plain": [
       "20     1079\n",
       "60      575\n",
       "50      287\n",
       "120     182\n",
       "30      139\n",
       "70      128\n",
       "160     128\n",
       "80      118\n",
       "90      109\n",
       "190      61\n",
       "85       48\n",
       "75       23\n",
       "45       18\n",
       "180      17\n",
       "40        6\n",
       "150       1\n",
       "Name: MSSubClass, dtype: int64"
      ]
     },
     "execution_count": 11,
     "metadata": {},
     "output_type": "execute_result"
    }
   ],
   "source": [
    "all_df.MSSubClass.value_counts()"
   ]
  },
  {
   "cell_type": "code",
   "execution_count": 12,
   "metadata": {},
   "outputs": [
    {
     "data": {
      "text/html": [
       "<div>\n",
       "<style scoped>\n",
       "    .dataframe tbody tr th:only-of-type {\n",
       "        vertical-align: middle;\n",
       "    }\n",
       "\n",
       "    .dataframe tbody tr th {\n",
       "        vertical-align: top;\n",
       "    }\n",
       "\n",
       "    .dataframe thead th {\n",
       "        text-align: right;\n",
       "    }\n",
       "</style>\n",
       "<table border=\"1\" class=\"dataframe\">\n",
       "  <thead>\n",
       "    <tr style=\"text-align: right;\">\n",
       "      <th></th>\n",
       "      <th>MSSubClass_120</th>\n",
       "      <th>MSSubClass_150</th>\n",
       "      <th>MSSubClass_160</th>\n",
       "      <th>MSSubClass_180</th>\n",
       "      <th>MSSubClass_190</th>\n",
       "      <th>MSSubClass_20</th>\n",
       "      <th>MSSubClass_30</th>\n",
       "      <th>MSSubClass_40</th>\n",
       "      <th>MSSubClass_45</th>\n",
       "      <th>MSSubClass_50</th>\n",
       "      <th>MSSubClass_60</th>\n",
       "      <th>MSSubClass_70</th>\n",
       "      <th>MSSubClass_75</th>\n",
       "      <th>MSSubClass_80</th>\n",
       "      <th>MSSubClass_85</th>\n",
       "      <th>MSSubClass_90</th>\n",
       "    </tr>\n",
       "    <tr>\n",
       "      <th>Id</th>\n",
       "      <th></th>\n",
       "      <th></th>\n",
       "      <th></th>\n",
       "      <th></th>\n",
       "      <th></th>\n",
       "      <th></th>\n",
       "      <th></th>\n",
       "      <th></th>\n",
       "      <th></th>\n",
       "      <th></th>\n",
       "      <th></th>\n",
       "      <th></th>\n",
       "      <th></th>\n",
       "      <th></th>\n",
       "      <th></th>\n",
       "      <th></th>\n",
       "    </tr>\n",
       "  </thead>\n",
       "  <tbody>\n",
       "    <tr>\n",
       "      <th>1</th>\n",
       "      <td>0</td>\n",
       "      <td>0</td>\n",
       "      <td>0</td>\n",
       "      <td>0</td>\n",
       "      <td>0</td>\n",
       "      <td>0</td>\n",
       "      <td>0</td>\n",
       "      <td>0</td>\n",
       "      <td>0</td>\n",
       "      <td>0</td>\n",
       "      <td>1</td>\n",
       "      <td>0</td>\n",
       "      <td>0</td>\n",
       "      <td>0</td>\n",
       "      <td>0</td>\n",
       "      <td>0</td>\n",
       "    </tr>\n",
       "    <tr>\n",
       "      <th>2</th>\n",
       "      <td>0</td>\n",
       "      <td>0</td>\n",
       "      <td>0</td>\n",
       "      <td>0</td>\n",
       "      <td>0</td>\n",
       "      <td>1</td>\n",
       "      <td>0</td>\n",
       "      <td>0</td>\n",
       "      <td>0</td>\n",
       "      <td>0</td>\n",
       "      <td>0</td>\n",
       "      <td>0</td>\n",
       "      <td>0</td>\n",
       "      <td>0</td>\n",
       "      <td>0</td>\n",
       "      <td>0</td>\n",
       "    </tr>\n",
       "    <tr>\n",
       "      <th>3</th>\n",
       "      <td>0</td>\n",
       "      <td>0</td>\n",
       "      <td>0</td>\n",
       "      <td>0</td>\n",
       "      <td>0</td>\n",
       "      <td>0</td>\n",
       "      <td>0</td>\n",
       "      <td>0</td>\n",
       "      <td>0</td>\n",
       "      <td>0</td>\n",
       "      <td>1</td>\n",
       "      <td>0</td>\n",
       "      <td>0</td>\n",
       "      <td>0</td>\n",
       "      <td>0</td>\n",
       "      <td>0</td>\n",
       "    </tr>\n",
       "    <tr>\n",
       "      <th>4</th>\n",
       "      <td>0</td>\n",
       "      <td>0</td>\n",
       "      <td>0</td>\n",
       "      <td>0</td>\n",
       "      <td>0</td>\n",
       "      <td>0</td>\n",
       "      <td>0</td>\n",
       "      <td>0</td>\n",
       "      <td>0</td>\n",
       "      <td>0</td>\n",
       "      <td>0</td>\n",
       "      <td>1</td>\n",
       "      <td>0</td>\n",
       "      <td>0</td>\n",
       "      <td>0</td>\n",
       "      <td>0</td>\n",
       "    </tr>\n",
       "    <tr>\n",
       "      <th>5</th>\n",
       "      <td>0</td>\n",
       "      <td>0</td>\n",
       "      <td>0</td>\n",
       "      <td>0</td>\n",
       "      <td>0</td>\n",
       "      <td>0</td>\n",
       "      <td>0</td>\n",
       "      <td>0</td>\n",
       "      <td>0</td>\n",
       "      <td>0</td>\n",
       "      <td>1</td>\n",
       "      <td>0</td>\n",
       "      <td>0</td>\n",
       "      <td>0</td>\n",
       "      <td>0</td>\n",
       "      <td>0</td>\n",
       "    </tr>\n",
       "  </tbody>\n",
       "</table>\n",
       "</div>"
      ],
      "text/plain": [
       "    MSSubClass_120  MSSubClass_150  MSSubClass_160  MSSubClass_180  \\\n",
       "Id                                                                   \n",
       "1                0               0               0               0   \n",
       "2                0               0               0               0   \n",
       "3                0               0               0               0   \n",
       "4                0               0               0               0   \n",
       "5                0               0               0               0   \n",
       "\n",
       "    MSSubClass_190  MSSubClass_20  MSSubClass_30  MSSubClass_40  \\\n",
       "Id                                                                \n",
       "1                0              0              0              0   \n",
       "2                0              1              0              0   \n",
       "3                0              0              0              0   \n",
       "4                0              0              0              0   \n",
       "5                0              0              0              0   \n",
       "\n",
       "    MSSubClass_45  MSSubClass_50  MSSubClass_60  MSSubClass_70  MSSubClass_75  \\\n",
       "Id                                                                              \n",
       "1               0              0              1              0              0   \n",
       "2               0              0              0              0              0   \n",
       "3               0              0              1              0              0   \n",
       "4               0              0              0              1              0   \n",
       "5               0              0              1              0              0   \n",
       "\n",
       "    MSSubClass_80  MSSubClass_85  MSSubClass_90  \n",
       "Id                                               \n",
       "1               0              0              0  \n",
       "2               0              0              0  \n",
       "3               0              0              0  \n",
       "4               0              0              0  \n",
       "5               0              0              0  "
      ]
     },
     "execution_count": 12,
     "metadata": {},
     "output_type": "execute_result"
    }
   ],
   "source": [
    "pd.get_dummies(all_df.MSSubClass, prefix='MSSubClass').head()"
   ]
  },
  {
   "cell_type": "code",
   "execution_count": 13,
   "metadata": {},
   "outputs": [
    {
     "data": {
      "text/html": [
       "<div>\n",
       "<style scoped>\n",
       "    .dataframe tbody tr th:only-of-type {\n",
       "        vertical-align: middle;\n",
       "    }\n",
       "\n",
       "    .dataframe tbody tr th {\n",
       "        vertical-align: top;\n",
       "    }\n",
       "\n",
       "    .dataframe thead th {\n",
       "        text-align: right;\n",
       "    }\n",
       "</style>\n",
       "<table border=\"1\" class=\"dataframe\">\n",
       "  <thead>\n",
       "    <tr style=\"text-align: right;\">\n",
       "      <th></th>\n",
       "      <th>LotFrontage</th>\n",
       "      <th>LotArea</th>\n",
       "      <th>OverallQual</th>\n",
       "      <th>OverallCond</th>\n",
       "      <th>YearBuilt</th>\n",
       "      <th>YearRemodAdd</th>\n",
       "      <th>MasVnrArea</th>\n",
       "      <th>BsmtFinSF1</th>\n",
       "      <th>BsmtFinSF2</th>\n",
       "      <th>BsmtUnfSF</th>\n",
       "      <th>...</th>\n",
       "      <th>SaleType_ConLw</th>\n",
       "      <th>SaleType_New</th>\n",
       "      <th>SaleType_Oth</th>\n",
       "      <th>SaleType_WD</th>\n",
       "      <th>SaleCondition_Abnorml</th>\n",
       "      <th>SaleCondition_AdjLand</th>\n",
       "      <th>SaleCondition_Alloca</th>\n",
       "      <th>SaleCondition_Family</th>\n",
       "      <th>SaleCondition_Normal</th>\n",
       "      <th>SaleCondition_Partial</th>\n",
       "    </tr>\n",
       "    <tr>\n",
       "      <th>Id</th>\n",
       "      <th></th>\n",
       "      <th></th>\n",
       "      <th></th>\n",
       "      <th></th>\n",
       "      <th></th>\n",
       "      <th></th>\n",
       "      <th></th>\n",
       "      <th></th>\n",
       "      <th></th>\n",
       "      <th></th>\n",
       "      <th></th>\n",
       "      <th></th>\n",
       "      <th></th>\n",
       "      <th></th>\n",
       "      <th></th>\n",
       "      <th></th>\n",
       "      <th></th>\n",
       "      <th></th>\n",
       "      <th></th>\n",
       "      <th></th>\n",
       "      <th></th>\n",
       "    </tr>\n",
       "  </thead>\n",
       "  <tbody>\n",
       "    <tr>\n",
       "      <th>1</th>\n",
       "      <td>65.0</td>\n",
       "      <td>8450</td>\n",
       "      <td>7</td>\n",
       "      <td>5</td>\n",
       "      <td>2003</td>\n",
       "      <td>2003</td>\n",
       "      <td>196.0</td>\n",
       "      <td>706.0</td>\n",
       "      <td>0.0</td>\n",
       "      <td>150.0</td>\n",
       "      <td>...</td>\n",
       "      <td>0</td>\n",
       "      <td>0</td>\n",
       "      <td>0</td>\n",
       "      <td>1</td>\n",
       "      <td>0</td>\n",
       "      <td>0</td>\n",
       "      <td>0</td>\n",
       "      <td>0</td>\n",
       "      <td>1</td>\n",
       "      <td>0</td>\n",
       "    </tr>\n",
       "    <tr>\n",
       "      <th>2</th>\n",
       "      <td>80.0</td>\n",
       "      <td>9600</td>\n",
       "      <td>6</td>\n",
       "      <td>8</td>\n",
       "      <td>1976</td>\n",
       "      <td>1976</td>\n",
       "      <td>0.0</td>\n",
       "      <td>978.0</td>\n",
       "      <td>0.0</td>\n",
       "      <td>284.0</td>\n",
       "      <td>...</td>\n",
       "      <td>0</td>\n",
       "      <td>0</td>\n",
       "      <td>0</td>\n",
       "      <td>1</td>\n",
       "      <td>0</td>\n",
       "      <td>0</td>\n",
       "      <td>0</td>\n",
       "      <td>0</td>\n",
       "      <td>1</td>\n",
       "      <td>0</td>\n",
       "    </tr>\n",
       "    <tr>\n",
       "      <th>3</th>\n",
       "      <td>68.0</td>\n",
       "      <td>11250</td>\n",
       "      <td>7</td>\n",
       "      <td>5</td>\n",
       "      <td>2001</td>\n",
       "      <td>2002</td>\n",
       "      <td>162.0</td>\n",
       "      <td>486.0</td>\n",
       "      <td>0.0</td>\n",
       "      <td>434.0</td>\n",
       "      <td>...</td>\n",
       "      <td>0</td>\n",
       "      <td>0</td>\n",
       "      <td>0</td>\n",
       "      <td>1</td>\n",
       "      <td>0</td>\n",
       "      <td>0</td>\n",
       "      <td>0</td>\n",
       "      <td>0</td>\n",
       "      <td>1</td>\n",
       "      <td>0</td>\n",
       "    </tr>\n",
       "    <tr>\n",
       "      <th>4</th>\n",
       "      <td>60.0</td>\n",
       "      <td>9550</td>\n",
       "      <td>7</td>\n",
       "      <td>5</td>\n",
       "      <td>1915</td>\n",
       "      <td>1970</td>\n",
       "      <td>0.0</td>\n",
       "      <td>216.0</td>\n",
       "      <td>0.0</td>\n",
       "      <td>540.0</td>\n",
       "      <td>...</td>\n",
       "      <td>0</td>\n",
       "      <td>0</td>\n",
       "      <td>0</td>\n",
       "      <td>1</td>\n",
       "      <td>1</td>\n",
       "      <td>0</td>\n",
       "      <td>0</td>\n",
       "      <td>0</td>\n",
       "      <td>0</td>\n",
       "      <td>0</td>\n",
       "    </tr>\n",
       "    <tr>\n",
       "      <th>5</th>\n",
       "      <td>84.0</td>\n",
       "      <td>14260</td>\n",
       "      <td>8</td>\n",
       "      <td>5</td>\n",
       "      <td>2000</td>\n",
       "      <td>2000</td>\n",
       "      <td>350.0</td>\n",
       "      <td>655.0</td>\n",
       "      <td>0.0</td>\n",
       "      <td>490.0</td>\n",
       "      <td>...</td>\n",
       "      <td>0</td>\n",
       "      <td>0</td>\n",
       "      <td>0</td>\n",
       "      <td>1</td>\n",
       "      <td>0</td>\n",
       "      <td>0</td>\n",
       "      <td>0</td>\n",
       "      <td>0</td>\n",
       "      <td>1</td>\n",
       "      <td>0</td>\n",
       "    </tr>\n",
       "  </tbody>\n",
       "</table>\n",
       "<p>5 rows × 303 columns</p>\n",
       "</div>"
      ],
      "text/plain": [
       "    LotFrontage  LotArea  OverallQual  OverallCond  YearBuilt  YearRemodAdd  \\\n",
       "Id                                                                            \n",
       "1          65.0     8450            7            5       2003          2003   \n",
       "2          80.0     9600            6            8       1976          1976   \n",
       "3          68.0    11250            7            5       2001          2002   \n",
       "4          60.0     9550            7            5       1915          1970   \n",
       "5          84.0    14260            8            5       2000          2000   \n",
       "\n",
       "    MasVnrArea  BsmtFinSF1  BsmtFinSF2  BsmtUnfSF          ...            \\\n",
       "Id                                                         ...             \n",
       "1        196.0       706.0         0.0      150.0          ...             \n",
       "2          0.0       978.0         0.0      284.0          ...             \n",
       "3        162.0       486.0         0.0      434.0          ...             \n",
       "4          0.0       216.0         0.0      540.0          ...             \n",
       "5        350.0       655.0         0.0      490.0          ...             \n",
       "\n",
       "    SaleType_ConLw  SaleType_New  SaleType_Oth  SaleType_WD  \\\n",
       "Id                                                            \n",
       "1                0             0             0            1   \n",
       "2                0             0             0            1   \n",
       "3                0             0             0            1   \n",
       "4                0             0             0            1   \n",
       "5                0             0             0            1   \n",
       "\n",
       "    SaleCondition_Abnorml  SaleCondition_AdjLand  SaleCondition_Alloca  \\\n",
       "Id                                                                       \n",
       "1                       0                      0                     0   \n",
       "2                       0                      0                     0   \n",
       "3                       0                      0                     0   \n",
       "4                       1                      0                     0   \n",
       "5                       0                      0                     0   \n",
       "\n",
       "    SaleCondition_Family  SaleCondition_Normal  SaleCondition_Partial  \n",
       "Id                                                                     \n",
       "1                      0                     1                      0  \n",
       "2                      0                     1                      0  \n",
       "3                      0                     1                      0  \n",
       "4                      0                     0                      0  \n",
       "5                      0                     1                      0  \n",
       "\n",
       "[5 rows x 303 columns]"
      ]
     },
     "execution_count": 13,
     "metadata": {},
     "output_type": "execute_result"
    }
   ],
   "source": [
    "all_dummy_df = pd.get_dummies(all_df)\n",
    "all_dummy_df.head()"
   ]
  },
  {
   "cell_type": "markdown",
   "metadata": {},
   "source": [
    "统计空值。"
   ]
  },
  {
   "cell_type": "code",
   "execution_count": 14,
   "metadata": {},
   "outputs": [
    {
     "data": {
      "text/plain": [
       "LotFrontage     486\n",
       "GarageYrBlt     159\n",
       "MasVnrArea       23\n",
       "BsmtHalfBath      2\n",
       "BsmtFullBath      2\n",
       "dtype: int64"
      ]
     },
     "execution_count": 14,
     "metadata": {},
     "output_type": "execute_result"
    }
   ],
   "source": [
    "all_dummy_df.isnull().sum().sort_values(ascending=False).head()"
   ]
  },
  {
   "cell_type": "code",
   "execution_count": 15,
   "metadata": {},
   "outputs": [
    {
     "data": {
      "text/plain": [
       "LotFrontage       69.305795\n",
       "LotArea        10168.114080\n",
       "OverallQual        6.089072\n",
       "OverallCond        5.564577\n",
       "YearBuilt       1971.312778\n",
       "dtype: float64"
      ]
     },
     "execution_count": 15,
     "metadata": {},
     "output_type": "execute_result"
    }
   ],
   "source": [
    "mean_cols = all_dummy_df.mean()\n",
    "mean_cols.head()"
   ]
  },
  {
   "cell_type": "markdown",
   "metadata": {},
   "source": [
    "使用均值填充所有字段。"
   ]
  },
  {
   "cell_type": "code",
   "execution_count": 16,
   "metadata": {},
   "outputs": [
    {
     "name": "stderr",
     "output_type": "stream",
     "text": [
      "/Users/liwei/.local/lib/python3.6/site-packages/sklearn/utils/deprecation.py:58: DeprecationWarning: Class Imputer is deprecated; Imputer was deprecated in version 0.20 and will be removed in 0.22. Import impute.SimpleImputer from sklearn instead.\n",
      "  warnings.warn(msg, category=DeprecationWarning)\n"
     ]
    },
    {
     "data": {
      "text/plain": [
       "array([[6.5000e+01, 8.4500e+03, 7.0000e+00, ..., 0.0000e+00, 1.0000e+00,\n",
       "        0.0000e+00],\n",
       "       [8.0000e+01, 9.6000e+03, 6.0000e+00, ..., 0.0000e+00, 1.0000e+00,\n",
       "        0.0000e+00],\n",
       "       [6.8000e+01, 1.1250e+04, 7.0000e+00, ..., 0.0000e+00, 1.0000e+00,\n",
       "        0.0000e+00],\n",
       "       ...,\n",
       "       [1.6000e+02, 2.0000e+04, 5.0000e+00, ..., 0.0000e+00, 0.0000e+00,\n",
       "        0.0000e+00],\n",
       "       [6.2000e+01, 1.0441e+04, 5.0000e+00, ..., 0.0000e+00, 1.0000e+00,\n",
       "        0.0000e+00],\n",
       "       [7.4000e+01, 9.6270e+03, 7.0000e+00, ..., 0.0000e+00, 1.0000e+00,\n",
       "        0.0000e+00]])"
      ]
     },
     "execution_count": 16,
     "metadata": {},
     "output_type": "execute_result"
    }
   ],
   "source": [
    "from sklearn.preprocessing import Imputer\n",
    "\n",
    "# 使用这一行的平均值来填充，使用 axis 参数指定\n",
    "imr = Imputer(missing_values='NaN', strategy='mean', axis=1)\n",
    "imr.fit(all_dummy_df)\n",
    "imputed_data = imr.transform(all_dummy_df)\n",
    "imputed_data"
   ]
  },
  {
   "cell_type": "code",
   "execution_count": 17,
   "metadata": {},
   "outputs": [
    {
     "data": {
      "text/html": [
       "<div>\n",
       "<style scoped>\n",
       "    .dataframe tbody tr th:only-of-type {\n",
       "        vertical-align: middle;\n",
       "    }\n",
       "\n",
       "    .dataframe tbody tr th {\n",
       "        vertical-align: top;\n",
       "    }\n",
       "\n",
       "    .dataframe thead th {\n",
       "        text-align: right;\n",
       "    }\n",
       "</style>\n",
       "<table border=\"1\" class=\"dataframe\">\n",
       "  <thead>\n",
       "    <tr style=\"text-align: right;\">\n",
       "      <th></th>\n",
       "      <th>LotFrontage</th>\n",
       "      <th>LotArea</th>\n",
       "      <th>OverallQual</th>\n",
       "      <th>OverallCond</th>\n",
       "      <th>YearBuilt</th>\n",
       "      <th>YearRemodAdd</th>\n",
       "      <th>MasVnrArea</th>\n",
       "      <th>BsmtFinSF1</th>\n",
       "      <th>BsmtFinSF2</th>\n",
       "      <th>BsmtUnfSF</th>\n",
       "      <th>...</th>\n",
       "      <th>SaleType_ConLw</th>\n",
       "      <th>SaleType_New</th>\n",
       "      <th>SaleType_Oth</th>\n",
       "      <th>SaleType_WD</th>\n",
       "      <th>SaleCondition_Abnorml</th>\n",
       "      <th>SaleCondition_AdjLand</th>\n",
       "      <th>SaleCondition_Alloca</th>\n",
       "      <th>SaleCondition_Family</th>\n",
       "      <th>SaleCondition_Normal</th>\n",
       "      <th>SaleCondition_Partial</th>\n",
       "    </tr>\n",
       "    <tr>\n",
       "      <th>Id</th>\n",
       "      <th></th>\n",
       "      <th></th>\n",
       "      <th></th>\n",
       "      <th></th>\n",
       "      <th></th>\n",
       "      <th></th>\n",
       "      <th></th>\n",
       "      <th></th>\n",
       "      <th></th>\n",
       "      <th></th>\n",
       "      <th></th>\n",
       "      <th></th>\n",
       "      <th></th>\n",
       "      <th></th>\n",
       "      <th></th>\n",
       "      <th></th>\n",
       "      <th></th>\n",
       "      <th></th>\n",
       "      <th></th>\n",
       "      <th></th>\n",
       "      <th></th>\n",
       "    </tr>\n",
       "  </thead>\n",
       "  <tbody>\n",
       "    <tr>\n",
       "      <th>1</th>\n",
       "      <td>65.0</td>\n",
       "      <td>8450</td>\n",
       "      <td>7</td>\n",
       "      <td>5</td>\n",
       "      <td>2003</td>\n",
       "      <td>2003</td>\n",
       "      <td>196.0</td>\n",
       "      <td>706.0</td>\n",
       "      <td>0.0</td>\n",
       "      <td>150.0</td>\n",
       "      <td>...</td>\n",
       "      <td>0</td>\n",
       "      <td>0</td>\n",
       "      <td>0</td>\n",
       "      <td>1</td>\n",
       "      <td>0</td>\n",
       "      <td>0</td>\n",
       "      <td>0</td>\n",
       "      <td>0</td>\n",
       "      <td>1</td>\n",
       "      <td>0</td>\n",
       "    </tr>\n",
       "    <tr>\n",
       "      <th>2</th>\n",
       "      <td>80.0</td>\n",
       "      <td>9600</td>\n",
       "      <td>6</td>\n",
       "      <td>8</td>\n",
       "      <td>1976</td>\n",
       "      <td>1976</td>\n",
       "      <td>0.0</td>\n",
       "      <td>978.0</td>\n",
       "      <td>0.0</td>\n",
       "      <td>284.0</td>\n",
       "      <td>...</td>\n",
       "      <td>0</td>\n",
       "      <td>0</td>\n",
       "      <td>0</td>\n",
       "      <td>1</td>\n",
       "      <td>0</td>\n",
       "      <td>0</td>\n",
       "      <td>0</td>\n",
       "      <td>0</td>\n",
       "      <td>1</td>\n",
       "      <td>0</td>\n",
       "    </tr>\n",
       "    <tr>\n",
       "      <th>3</th>\n",
       "      <td>68.0</td>\n",
       "      <td>11250</td>\n",
       "      <td>7</td>\n",
       "      <td>5</td>\n",
       "      <td>2001</td>\n",
       "      <td>2002</td>\n",
       "      <td>162.0</td>\n",
       "      <td>486.0</td>\n",
       "      <td>0.0</td>\n",
       "      <td>434.0</td>\n",
       "      <td>...</td>\n",
       "      <td>0</td>\n",
       "      <td>0</td>\n",
       "      <td>0</td>\n",
       "      <td>1</td>\n",
       "      <td>0</td>\n",
       "      <td>0</td>\n",
       "      <td>0</td>\n",
       "      <td>0</td>\n",
       "      <td>1</td>\n",
       "      <td>0</td>\n",
       "    </tr>\n",
       "    <tr>\n",
       "      <th>4</th>\n",
       "      <td>60.0</td>\n",
       "      <td>9550</td>\n",
       "      <td>7</td>\n",
       "      <td>5</td>\n",
       "      <td>1915</td>\n",
       "      <td>1970</td>\n",
       "      <td>0.0</td>\n",
       "      <td>216.0</td>\n",
       "      <td>0.0</td>\n",
       "      <td>540.0</td>\n",
       "      <td>...</td>\n",
       "      <td>0</td>\n",
       "      <td>0</td>\n",
       "      <td>0</td>\n",
       "      <td>1</td>\n",
       "      <td>1</td>\n",
       "      <td>0</td>\n",
       "      <td>0</td>\n",
       "      <td>0</td>\n",
       "      <td>0</td>\n",
       "      <td>0</td>\n",
       "    </tr>\n",
       "    <tr>\n",
       "      <th>5</th>\n",
       "      <td>84.0</td>\n",
       "      <td>14260</td>\n",
       "      <td>8</td>\n",
       "      <td>5</td>\n",
       "      <td>2000</td>\n",
       "      <td>2000</td>\n",
       "      <td>350.0</td>\n",
       "      <td>655.0</td>\n",
       "      <td>0.0</td>\n",
       "      <td>490.0</td>\n",
       "      <td>...</td>\n",
       "      <td>0</td>\n",
       "      <td>0</td>\n",
       "      <td>0</td>\n",
       "      <td>1</td>\n",
       "      <td>0</td>\n",
       "      <td>0</td>\n",
       "      <td>0</td>\n",
       "      <td>0</td>\n",
       "      <td>1</td>\n",
       "      <td>0</td>\n",
       "    </tr>\n",
       "  </tbody>\n",
       "</table>\n",
       "<p>5 rows × 303 columns</p>\n",
       "</div>"
      ],
      "text/plain": [
       "    LotFrontage  LotArea  OverallQual  OverallCond  YearBuilt  YearRemodAdd  \\\n",
       "Id                                                                            \n",
       "1          65.0     8450            7            5       2003          2003   \n",
       "2          80.0     9600            6            8       1976          1976   \n",
       "3          68.0    11250            7            5       2001          2002   \n",
       "4          60.0     9550            7            5       1915          1970   \n",
       "5          84.0    14260            8            5       2000          2000   \n",
       "\n",
       "    MasVnrArea  BsmtFinSF1  BsmtFinSF2  BsmtUnfSF          ...            \\\n",
       "Id                                                         ...             \n",
       "1        196.0       706.0         0.0      150.0          ...             \n",
       "2          0.0       978.0         0.0      284.0          ...             \n",
       "3        162.0       486.0         0.0      434.0          ...             \n",
       "4          0.0       216.0         0.0      540.0          ...             \n",
       "5        350.0       655.0         0.0      490.0          ...             \n",
       "\n",
       "    SaleType_ConLw  SaleType_New  SaleType_Oth  SaleType_WD  \\\n",
       "Id                                                            \n",
       "1                0             0             0            1   \n",
       "2                0             0             0            1   \n",
       "3                0             0             0            1   \n",
       "4                0             0             0            1   \n",
       "5                0             0             0            1   \n",
       "\n",
       "    SaleCondition_Abnorml  SaleCondition_AdjLand  SaleCondition_Alloca  \\\n",
       "Id                                                                       \n",
       "1                       0                      0                     0   \n",
       "2                       0                      0                     0   \n",
       "3                       0                      0                     0   \n",
       "4                       1                      0                     0   \n",
       "5                       0                      0                     0   \n",
       "\n",
       "    SaleCondition_Family  SaleCondition_Normal  SaleCondition_Partial  \n",
       "Id                                                                     \n",
       "1                      0                     1                      0  \n",
       "2                      0                     1                      0  \n",
       "3                      0                     1                      0  \n",
       "4                      0                     0                      0  \n",
       "5                      0                     1                      0  \n",
       "\n",
       "[5 rows x 303 columns]"
      ]
     },
     "execution_count": 17,
     "metadata": {},
     "output_type": "execute_result"
    }
   ],
   "source": [
    "all_dummy_df = all_dummy_df.fillna(mean_cols)\n",
    "all_dummy_df.head()"
   ]
  },
  {
   "cell_type": "code",
   "execution_count": 18,
   "metadata": {},
   "outputs": [
    {
     "data": {
      "text/plain": [
       "0"
      ]
     },
     "execution_count": 18,
     "metadata": {},
     "output_type": "execute_result"
    }
   ],
   "source": [
    "all_dummy_df.isnull().sum().sum()"
   ]
  },
  {
   "cell_type": "code",
   "execution_count": 19,
   "metadata": {},
   "outputs": [
    {
     "data": {
      "text/plain": [
       "Index(['LotFrontage', 'LotArea', 'OverallQual', 'OverallCond', 'YearBuilt',\n",
       "       'YearRemodAdd', 'MasVnrArea', 'BsmtFinSF1', 'BsmtFinSF2', 'BsmtUnfSF',\n",
       "       'TotalBsmtSF', '1stFlrSF', '2ndFlrSF', 'LowQualFinSF', 'GrLivArea',\n",
       "       'BsmtFullBath', 'BsmtHalfBath', 'FullBath', 'HalfBath', 'BedroomAbvGr',\n",
       "       'KitchenAbvGr', 'TotRmsAbvGrd', 'Fireplaces', 'GarageYrBlt',\n",
       "       'GarageCars', 'GarageArea', 'WoodDeckSF', 'OpenPorchSF',\n",
       "       'EnclosedPorch', '3SsnPorch', 'ScreenPorch', 'PoolArea', 'MiscVal',\n",
       "       'MoSold', 'YrSold'],\n",
       "      dtype='object')"
      ]
     },
     "execution_count": 19,
     "metadata": {},
     "output_type": "execute_result"
    }
   ],
   "source": [
    "numeric_cols = all_df.columns[all_df.dtypes != 'object']\n",
    "numeric_cols"
   ]
  },
  {
   "cell_type": "markdown",
   "metadata": {},
   "source": [
    "数值型变量标准化。"
   ]
  },
  {
   "cell_type": "code",
   "execution_count": 20,
   "metadata": {
    "collapsed": true
   },
   "outputs": [],
   "source": [
    "numeric_col_means = all_dummy_df.loc[:, numeric_cols].mean()\n",
    "numeric_col_std = all_dummy_df.loc[:, numeric_cols].std()\n",
    "all_dummy_df.loc[:, numeric_cols] = (all_dummy_df.loc[:, numeric_cols] - numeric_col_means) / numeric_col_std"
   ]
  },
  {
   "cell_type": "code",
   "execution_count": 21,
   "metadata": {
    "collapsed": true
   },
   "outputs": [],
   "source": [
    "dummy_train_df = all_dummy_df.loc[train_df.index]\n",
    "dummy_test_df = all_dummy_df.loc[test_df.index]"
   ]
  },
  {
   "cell_type": "markdown",
   "metadata": {},
   "source": [
    "这么多特征。"
   ]
  },
  {
   "cell_type": "code",
   "execution_count": 22,
   "metadata": {},
   "outputs": [
    {
     "data": {
      "text/plain": [
       "((1460, 303), (1459, 303))"
      ]
     },
     "execution_count": 22,
     "metadata": {},
     "output_type": "execute_result"
    }
   ],
   "source": [
    "dummy_train_df.shape, dummy_test_df.shape"
   ]
  },
  {
   "cell_type": "markdown",
   "metadata": {},
   "source": [
    "## 岭回归"
   ]
  },
  {
   "cell_type": "code",
   "execution_count": 23,
   "metadata": {
    "collapsed": true
   },
   "outputs": [],
   "source": [
    "from sklearn.linear_model import Ridge\n",
    "from sklearn.model_selection import cross_val_score"
   ]
  },
  {
   "cell_type": "code",
   "execution_count": 24,
   "metadata": {
    "collapsed": true
   },
   "outputs": [],
   "source": [
    "X_train = dummy_train_df.values\n",
    "X_test = dummy_test_df.values"
   ]
  },
  {
   "cell_type": "markdown",
   "metadata": {},
   "source": [
    "直接用交叉验证，没有分割训练集与测试集。"
   ]
  },
  {
   "cell_type": "code",
   "execution_count": 25,
   "metadata": {},
   "outputs": [
    {
     "name": "stdout",
     "output_type": "stream",
     "text": [
      "CPU times: user 29.7 s, sys: 8.07 s, total: 37.8 s\n",
      "Wall time: 5.59 s\n"
     ]
    }
   ],
   "source": [
    "%%time\n",
    "alphas = np.logspace(-3, 2, 50)\n",
    "test_scores = list()\n",
    "for alpha in alphas:\n",
    "    clf = Ridge(alpha)\n",
    "    test_score = np.sqrt(-cross_val_score(\n",
    "        clf, X_train, y_train, cv=10, scoring='neg_mean_squared_error'))\n",
    "    test_scores.append(np.mean(test_score))"
   ]
  },
  {
   "cell_type": "code",
   "execution_count": 26,
   "metadata": {},
   "outputs": [
    {
     "data": {
      "image/png": "[encoded data removed]",
      "text/plain": [
       "<Figure size 432x288 with 1 Axes>"
      ]
     },
     "metadata": {
      "image/png": {
       "height": 260,
       "width": 387
      },
      "needs_background": "light"
     },
     "output_type": "display_data"
    }
   ],
   "source": [
    "plt.plot(alphas, test_scores)\n",
    "plt.title(\"Alpha vs CV Error\")\n",
    "plt.show()"
   ]
  },
  {
   "cell_type": "markdown",
   "metadata": {},
   "source": [
    "用网格搜索试试看"
   ]
  },
  {
   "cell_type": "code",
   "execution_count": 27,
   "metadata": {
    "collapsed": true
   },
   "outputs": [],
   "source": [
    "np.set_printoptions(suppress=True, precision=4)"
   ]
  },
  {
   "cell_type": "code",
   "execution_count": 28,
   "metadata": {
    "collapsed": true
   },
   "outputs": [],
   "source": [
    "from sklearn.linear_model import Ridge\n",
    "from sklearn.model_selection import GridSearchCV\n",
    "\n",
    "parameters = {'alpha': np.logspace(-3, 2, 50)}  # 50 个数\n",
    "clf = Ridge()\n",
    "grid = GridSearchCV(\n",
    "    clf, parameters, cv=5, scoring='neg_mean_squared_error', verbose=2)"
   ]
  },
  {
   "cell_type": "code",
   "execution_count": 29,
   "metadata": {},
   "outputs": [
    {
     "name": "stdout",
     "output_type": "stream",
     "text": [
      "Fitting 5 folds for each of 50 candidates, totalling 250 fits\n",
      "[CV] alpha=0.001 .....................................................\n",
      "[CV] ...................................... alpha=0.001, total=   0.0s\n",
      "[CV] alpha=0.001 .....................................................\n",
      "[CV] ...................................... alpha=0.001, total=   0.0s\n",
      "[CV] alpha=0.001 .....................................................\n",
      "[CV] ...................................... alpha=0.001, total=   0.0s\n",
      "[CV] alpha=0.001 .....................................................\n",
      "[CV] ...................................... alpha=0.001, total=   0.0s\n",
      "[CV] alpha=0.001 .....................................................\n",
      "[CV] ...................................... alpha=0.001, total=   0.0s\n",
      "[CV] alpha=0.0012648552168552957 .....................................\n",
      "[CV] ...................... alpha=0.0012648552168552957, total=   0.0s\n",
      "[CV] alpha=0.0012648552168552957 .....................................\n",
      "[CV] ...................... alpha=0.0012648552168552957, total=   0.0s\n",
      "[CV] alpha=0.0012648552168552957 .....................................\n",
      "[CV] ...................... alpha=0.0012648552168552957, total=   0.0s\n",
      "[CV] alpha=0.0012648552168552957 .....................................\n",
      "[CV] ...................... alpha=0.0012648552168552957, total=   0.0s\n",
      "[CV] alpha=0.0012648552168552957 .....................................\n",
      "[CV] ...................... alpha=0.0012648552168552957, total=   0.0s\n",
      "[CV] alpha=0.0015998587196060573 .....................................\n",
      "[CV] ...................... alpha=0.0015998587196060573, total=   0.0s\n",
      "[CV] alpha=0.0015998587196060573 .....................................\n",
      "[CV] ...................... alpha=0.0015998587196060573, total=   0.0s\n",
      "[CV] alpha=0.0015998587196060573 .....................................\n",
      "[CV] ...................... alpha=0.0015998587196060573, total=   0.0s\n",
      "[CV] alpha=0.0015998587196060573 .....................................\n",
      "[CV] ...................... alpha=0.0015998587196060573, total=   0.0s\n",
      "[CV] alpha=0.0015998587196060573 .....................................\n",
      "[CV] ...................... alpha=0.0015998587196060573, total=   0.0s\n",
      "[CV] alpha=0.0020235896477251575 .....................................\n",
      "[CV] ...................... alpha=0.0020235896477251575, total=   0.0s\n",
      "[CV] alpha=0.0020235896477251575 .....................................\n",
      "[CV] ...................... alpha=0.0020235896477251575, total=   0.0s\n",
      "[CV] alpha=0.0020235896477251575 .....................................\n",
      "[CV] ...................... alpha=0.0020235896477251575, total=   0.0s\n",
      "[CV] alpha=0.0020235896477251575 .....................................\n",
      "[CV] ...................... alpha=0.0020235896477251575, total=   0.0s\n",
      "[CV] alpha=0.0020235896477251575 .....................................\n",
      "[CV] ...................... alpha=0.0020235896477251575, total=   0.0s\n",
      "[CV] alpha=0.002559547922699536 ......................................\n"
     ]
    },
    {
     "name": "stderr",
     "output_type": "stream",
     "text": [
      "[Parallel(n_jobs=1)]: Using backend SequentialBackend with 1 concurrent workers.\n",
      "[Parallel(n_jobs=1)]: Done   1 out of   1 | elapsed:    0.0s remaining:    0.0s\n"
     ]
    },
    {
     "name": "stdout",
     "output_type": "stream",
     "text": [
      "[CV] ....................... alpha=0.002559547922699536, total=   0.0s\n",
      "[CV] alpha=0.002559547922699536 ......................................\n",
      "[CV] ....................... alpha=0.002559547922699536, total=   0.0s\n",
      "[CV] alpha=0.002559547922699536 ......................................\n",
      "[CV] ....................... alpha=0.002559547922699536, total=   0.0s\n",
      "[CV] alpha=0.002559547922699536 ......................................\n",
      "[CV] ....................... alpha=0.002559547922699536, total=   0.0s\n",
      "[CV] alpha=0.002559547922699536 ......................................\n",
      "[CV] ....................... alpha=0.002559547922699536, total=   0.0s\n",
      "[CV] alpha=0.0032374575428176433 .....................................\n",
      "[CV] ...................... alpha=0.0032374575428176433, total=   0.0s\n",
      "[CV] alpha=0.0032374575428176433 .....................................\n",
      "[CV] ...................... alpha=0.0032374575428176433, total=   0.0s\n",
      "[CV] alpha=0.0032374575428176433 .....................................\n",
      "[CV] ...................... alpha=0.0032374575428176433, total=   0.0s\n",
      "[CV] alpha=0.0032374575428176433 .....................................\n",
      "[CV] ...................... alpha=0.0032374575428176433, total=   0.0s\n",
      "[CV] alpha=0.0032374575428176433 .....................................\n",
      "[CV] ...................... alpha=0.0032374575428176433, total=   0.0s\n",
      "[CV] alpha=0.004094915062380427 ......................................\n",
      "[CV] ....................... alpha=0.004094915062380427, total=   0.0s\n",
      "[CV] alpha=0.004094915062380427 ......................................\n",
      "[CV] ....................... alpha=0.004094915062380427, total=   0.0s\n",
      "[CV] alpha=0.004094915062380427 ......................................\n",
      "[CV] ....................... alpha=0.004094915062380427, total=   0.0s\n",
      "[CV] alpha=0.004094915062380427 ......................................\n",
      "[CV] ....................... alpha=0.004094915062380427, total=   0.0s\n",
      "[CV] alpha=0.004094915062380427 ......................................\n",
      "[CV] ....................... alpha=0.004094915062380427, total=   0.0s\n",
      "[CV] alpha=0.005179474679231213 ......................................\n",
      "[CV] ....................... alpha=0.005179474679231213, total=   0.0s\n",
      "[CV] alpha=0.005179474679231213 ......................................\n",
      "[CV] ....................... alpha=0.005179474679231213, total=   0.0s\n",
      "[CV] alpha=0.005179474679231213 ......................................\n",
      "[CV] ....................... alpha=0.005179474679231213, total=   0.0s\n",
      "[CV] alpha=0.005179474679231213 ......................................\n",
      "[CV] ....................... alpha=0.005179474679231213, total=   0.0s\n",
      "[CV] alpha=0.005179474679231213 ......................................\n",
      "[CV] ....................... alpha=0.005179474679231213, total=   0.0s\n",
      "[CV] alpha=0.006551285568595509 ......................................\n",
      "[CV] ....................... alpha=0.006551285568595509, total=   0.0s\n",
      "[CV] alpha=0.006551285568595509 ......................................\n",
      "[CV] ....................... alpha=0.006551285568595509, total=   0.0s\n",
      "[CV] alpha=0.006551285568595509 ......................................\n",
      "[CV] ....................... alpha=0.006551285568595509, total=   0.0s\n",
      "[CV] alpha=0.006551285568595509 ......................................\n",
      "[CV] ....................... alpha=0.006551285568595509, total=   0.0s\n",
      "[CV] alpha=0.006551285568595509 ......................................\n",
      "[CV] ....................... alpha=0.006551285568595509, total=   0.0s\n",
      "[CV] alpha=0.008286427728546842 ......................................\n",
      "[CV] ....................... alpha=0.008286427728546842, total=   0.0s\n",
      "[CV] alpha=0.008286427728546842 ......................................\n",
      "[CV] ....................... alpha=0.008286427728546842, total=   0.0s\n",
      "[CV] alpha=0.008286427728546842 ......................................\n",
      "[CV] ....................... alpha=0.008286427728546842, total=   0.0s\n",
      "[CV] alpha=0.008286427728546842 ......................................\n",
      "[CV] ....................... alpha=0.008286427728546842, total=   0.0s\n",
      "[CV] alpha=0.008286427728546842 ......................................\n",
      "[CV] ....................... alpha=0.008286427728546842, total=   0.0s\n",
      "[CV] alpha=0.010481131341546858 ......................................\n",
      "[CV] ....................... alpha=0.010481131341546858, total=   0.0s\n",
      "[CV] alpha=0.010481131341546858 ......................................\n",
      "[CV] ....................... alpha=0.010481131341546858, total=   0.0s\n",
      "[CV] alpha=0.010481131341546858 ......................................\n",
      "[CV] ....................... alpha=0.010481131341546858, total=   0.0s\n",
      "[CV] alpha=0.010481131341546858 ......................................\n",
      "[CV] ....................... alpha=0.010481131341546858, total=   0.0s\n",
      "[CV] alpha=0.010481131341546858 ......................................\n",
      "[CV] ....................... alpha=0.010481131341546858, total=   0.0s\n",
      "[CV] alpha=0.013257113655901095 ......................................\n",
      "[CV] ....................... alpha=0.013257113655901095, total=   0.0s\n",
      "[CV] alpha=0.013257113655901095 ......................................\n",
      "[CV] ....................... alpha=0.013257113655901095, total=   0.0s\n",
      "[CV] alpha=0.013257113655901095 ......................................\n",
      "[CV] ....................... alpha=0.013257113655901095, total=   0.0s\n",
      "[CV] alpha=0.013257113655901095 ......................................\n",
      "[CV] ....................... alpha=0.013257113655901095, total=   0.0s\n",
      "[CV] alpha=0.013257113655901095 ......................................\n",
      "[CV] ....................... alpha=0.013257113655901095, total=   0.0s\n",
      "[CV] alpha=0.016768329368110083 ......................................\n",
      "[CV] ....................... alpha=0.016768329368110083, total=   0.0s\n",
      "[CV] alpha=0.016768329368110083 ......................................\n",
      "[CV] ....................... alpha=0.016768329368110083, total=   0.0s\n",
      "[CV] alpha=0.016768329368110083 ......................................\n",
      "[CV] ....................... alpha=0.016768329368110083, total=   0.0s\n",
      "[CV] alpha=0.016768329368110083 ......................................\n",
      "[CV] ....................... alpha=0.016768329368110083, total=   0.0s\n",
      "[CV] alpha=0.016768329368110083 ......................................\n",
      "[CV] ....................... alpha=0.016768329368110083, total=   0.0s\n",
      "[CV] alpha=0.021209508879201904 ......................................\n",
      "[CV] ....................... alpha=0.021209508879201904, total=   0.0s\n",
      "[CV] alpha=0.021209508879201904 ......................................\n",
      "[CV] ....................... alpha=0.021209508879201904, total=   0.0s\n",
      "[CV] alpha=0.021209508879201904 ......................................\n",
      "[CV] ....................... alpha=0.021209508879201904, total=   0.0s\n",
      "[CV] alpha=0.021209508879201904 ......................................\n",
      "[CV] ....................... alpha=0.021209508879201904, total=   0.0s\n",
      "[CV] alpha=0.021209508879201904 ......................................\n",
      "[CV] ....................... alpha=0.021209508879201904, total=   0.0s\n",
      "[CV] alpha=0.02682695795279726 .......................................\n",
      "[CV] ........................ alpha=0.02682695795279726, total=   0.0s\n",
      "[CV] alpha=0.02682695795279726 .......................................\n",
      "[CV] ........................ alpha=0.02682695795279726, total=   0.0s\n",
      "[CV] alpha=0.02682695795279726 .......................................\n",
      "[CV] ........................ alpha=0.02682695795279726, total=   0.0s\n",
      "[CV] alpha=0.02682695795279726 .......................................\n",
      "[CV] ........................ alpha=0.02682695795279726, total=   0.0s\n",
      "[CV] alpha=0.02682695795279726 .......................................\n",
      "[CV] ........................ alpha=0.02682695795279726, total=   0.0s\n",
      "[CV] alpha=0.0339322177189533 ........................................\n",
      "[CV] ......................... alpha=0.0339322177189533, total=   0.0s\n",
      "[CV] alpha=0.0339322177189533 ........................................\n",
      "[CV] ......................... alpha=0.0339322177189533, total=   0.0s\n",
      "[CV] alpha=0.0339322177189533 ........................................\n",
      "[CV] ......................... alpha=0.0339322177189533, total=   0.0s\n",
      "[CV] alpha=0.0339322177189533 ........................................\n",
      "[CV] ......................... alpha=0.0339322177189533, total=   0.0s\n",
      "[CV] alpha=0.0339322177189533 ........................................\n",
      "[CV] ......................... alpha=0.0339322177189533, total=   0.0s\n",
      "[CV] alpha=0.04291934260128778 .......................................\n",
      "[CV] ........................ alpha=0.04291934260128778, total=   0.0s\n",
      "[CV] alpha=0.04291934260128778 .......................................\n"
     ]
    },
    {
     "name": "stdout",
     "output_type": "stream",
     "text": [
      "[CV] ........................ alpha=0.04291934260128778, total=   0.0s\n",
      "[CV] alpha=0.04291934260128778 .......................................\n",
      "[CV] ........................ alpha=0.04291934260128778, total=   0.0s\n",
      "[CV] alpha=0.04291934260128778 .......................................\n",
      "[CV] ........................ alpha=0.04291934260128778, total=   0.0s\n",
      "[CV] alpha=0.04291934260128778 .......................................\n",
      "[CV] ........................ alpha=0.04291934260128778, total=   0.0s\n",
      "[CV] alpha=0.054286754393238594 ......................................\n",
      "[CV] ....................... alpha=0.054286754393238594, total=   0.0s\n",
      "[CV] alpha=0.054286754393238594 ......................................\n",
      "[CV] ....................... alpha=0.054286754393238594, total=   0.0s\n",
      "[CV] alpha=0.054286754393238594 ......................................\n",
      "[CV] ....................... alpha=0.054286754393238594, total=   0.0s\n",
      "[CV] alpha=0.054286754393238594 ......................................\n",
      "[CV] ....................... alpha=0.054286754393238594, total=   0.0s\n",
      "[CV] alpha=0.054286754393238594 ......................................\n",
      "[CV] ....................... alpha=0.054286754393238594, total=   0.0s\n",
      "[CV] alpha=0.06866488450043001 .......................................\n",
      "[CV] ........................ alpha=0.06866488450043001, total=   0.0s\n",
      "[CV] alpha=0.06866488450043001 .......................................\n",
      "[CV] ........................ alpha=0.06866488450043001, total=   0.0s\n",
      "[CV] alpha=0.06866488450043001 .......................................\n",
      "[CV] ........................ alpha=0.06866488450043001, total=   0.0s\n",
      "[CV] alpha=0.06866488450043001 .......................................\n",
      "[CV] ........................ alpha=0.06866488450043001, total=   0.0s\n",
      "[CV] alpha=0.06866488450043001 .......................................\n",
      "[CV] ........................ alpha=0.06866488450043001, total=   0.0s\n",
      "[CV] alpha=0.08685113737513529 .......................................\n",
      "[CV] ........................ alpha=0.08685113737513529, total=   0.0s\n",
      "[CV] alpha=0.08685113737513529 .......................................\n",
      "[CV] ........................ alpha=0.08685113737513529, total=   0.0s\n",
      "[CV] alpha=0.08685113737513529 .......................................\n",
      "[CV] ........................ alpha=0.08685113737513529, total=   0.0s\n",
      "[CV] alpha=0.08685113737513529 .......................................\n",
      "[CV] ........................ alpha=0.08685113737513529, total=   0.0s\n",
      "[CV] alpha=0.08685113737513529 .......................................\n",
      "[CV] ........................ alpha=0.08685113737513529, total=   0.0s\n",
      "[CV] alpha=0.10985411419875583 .......................................\n",
      "[CV] ........................ alpha=0.10985411419875583, total=   0.0s\n",
      "[CV] alpha=0.10985411419875583 .......................................\n",
      "[CV] ........................ alpha=0.10985411419875583, total=   0.0s\n",
      "[CV] alpha=0.10985411419875583 .......................................\n",
      "[CV] ........................ alpha=0.10985411419875583, total=   0.0s\n",
      "[CV] alpha=0.10985411419875583 .......................................\n",
      "[CV] ........................ alpha=0.10985411419875583, total=   0.0s\n",
      "[CV] alpha=0.10985411419875583 .......................................\n",
      "[CV] ........................ alpha=0.10985411419875583, total=   0.0s\n",
      "[CV] alpha=0.13894954943731375 .......................................\n",
      "[CV] ........................ alpha=0.13894954943731375, total=   0.0s\n",
      "[CV] alpha=0.13894954943731375 .......................................\n",
      "[CV] ........................ alpha=0.13894954943731375, total=   0.0s\n",
      "[CV] alpha=0.13894954943731375 .......................................\n",
      "[CV] ........................ alpha=0.13894954943731375, total=   0.0s\n",
      "[CV] alpha=0.13894954943731375 .......................................\n",
      "[CV] ........................ alpha=0.13894954943731375, total=   0.0s\n",
      "[CV] alpha=0.13894954943731375 .......................................\n",
      "[CV] ........................ alpha=0.13894954943731375, total=   0.0s\n",
      "[CV] alpha=0.1757510624854793 ........................................\n",
      "[CV] ......................... alpha=0.1757510624854793, total=   0.0s\n",
      "[CV] alpha=0.1757510624854793 ........................................\n",
      "[CV] ......................... alpha=0.1757510624854793, total=   0.0s\n",
      "[CV] alpha=0.1757510624854793 ........................................\n",
      "[CV] ......................... alpha=0.1757510624854793, total=   0.0s\n",
      "[CV] alpha=0.1757510624854793 ........................................\n",
      "[CV] ......................... alpha=0.1757510624854793, total=   0.0s\n",
      "[CV] alpha=0.1757510624854793 ........................................\n",
      "[CV] ......................... alpha=0.1757510624854793, total=   0.0s\n",
      "[CV] alpha=0.22229964825261955 .......................................\n",
      "[CV] ........................ alpha=0.22229964825261955, total=   0.0s\n",
      "[CV] alpha=0.22229964825261955 .......................................\n",
      "[CV] ........................ alpha=0.22229964825261955, total=   0.0s\n",
      "[CV] alpha=0.22229964825261955 .......................................\n",
      "[CV] ........................ alpha=0.22229964825261955, total=   0.0s\n",
      "[CV] alpha=0.22229964825261955 .......................................\n",
      "[CV] ........................ alpha=0.22229964825261955, total=   0.0s\n",
      "[CV] alpha=0.22229964825261955 .......................................\n",
      "[CV] ........................ alpha=0.22229964825261955, total=   0.0s\n",
      "[CV] alpha=0.28117686979742307 .......................................\n",
      "[CV] ........................ alpha=0.28117686979742307, total=   0.0s\n",
      "[CV] alpha=0.28117686979742307 .......................................\n",
      "[CV] ........................ alpha=0.28117686979742307, total=   0.0s\n",
      "[CV] alpha=0.28117686979742307 .......................................\n",
      "[CV] ........................ alpha=0.28117686979742307, total=   0.0s\n",
      "[CV] alpha=0.28117686979742307 .......................................\n",
      "[CV] ........................ alpha=0.28117686979742307, total=   0.0s\n",
      "[CV] alpha=0.28117686979742307 .......................................\n",
      "[CV] ........................ alpha=0.28117686979742307, total=   0.0s\n",
      "[CV] alpha=0.35564803062231287 .......................................\n",
      "[CV] ........................ alpha=0.35564803062231287, total=   0.0s\n",
      "[CV] alpha=0.35564803062231287 .......................................\n",
      "[CV] ........................ alpha=0.35564803062231287, total=   0.0s\n",
      "[CV] alpha=0.35564803062231287 .......................................\n",
      "[CV] ........................ alpha=0.35564803062231287, total=   0.0s\n",
      "[CV] alpha=0.35564803062231287 .......................................\n",
      "[CV] ........................ alpha=0.35564803062231287, total=   0.0s\n",
      "[CV] alpha=0.35564803062231287 .......................................\n",
      "[CV] ........................ alpha=0.35564803062231287, total=   0.0s\n",
      "[CV] alpha=0.4498432668969444 ........................................\n",
      "[CV] ......................... alpha=0.4498432668969444, total=   0.0s\n",
      "[CV] alpha=0.4498432668969444 ........................................\n",
      "[CV] ......................... alpha=0.4498432668969444, total=   0.0s\n",
      "[CV] alpha=0.4498432668969444 ........................................\n",
      "[CV] ......................... alpha=0.4498432668969444, total=   0.0s\n",
      "[CV] alpha=0.4498432668969444 ........................................\n",
      "[CV] ......................... alpha=0.4498432668969444, total=   0.0s\n",
      "[CV] alpha=0.4498432668969444 ........................................\n",
      "[CV] ......................... alpha=0.4498432668969444, total=   0.0s\n",
      "[CV] alpha=0.5689866029018299 ........................................\n",
      "[CV] ......................... alpha=0.5689866029018299, total=   0.0s\n",
      "[CV] alpha=0.5689866029018299 ........................................\n",
      "[CV] ......................... alpha=0.5689866029018299, total=   0.0s\n",
      "[CV] alpha=0.5689866029018299 ........................................\n",
      "[CV] ......................... alpha=0.5689866029018299, total=   0.0s\n",
      "[CV] alpha=0.5689866029018299 ........................................\n",
      "[CV] ......................... alpha=0.5689866029018299, total=   0.0s\n",
      "[CV] alpha=0.5689866029018299 ........................................\n",
      "[CV] ......................... alpha=0.5689866029018299, total=   0.0s\n",
      "[CV] alpha=0.7196856730011522 ........................................\n",
      "[CV] ......................... alpha=0.7196856730011522, total=   0.0s\n",
      "[CV] alpha=0.7196856730011522 ........................................\n",
      "[CV] ......................... alpha=0.7196856730011522, total=   0.0s\n",
      "[CV] alpha=0.7196856730011522 ........................................\n",
      "[CV] ......................... alpha=0.7196856730011522, total=   0.0s\n",
      "[CV] alpha=0.7196856730011522 ........................................\n",
      "[CV] ......................... alpha=0.7196856730011522, total=   0.0s\n",
      "[CV] alpha=0.7196856730011522 ........................................\n",
      "[CV] ......................... alpha=0.7196856730011522, total=   0.0s\n",
      "[CV] alpha=0.9102981779915218 ........................................\n",
      "[CV] ......................... alpha=0.9102981779915218, total=   0.0s\n",
      "[CV] alpha=0.9102981779915218 ........................................\n"
     ]
    },
    {
     "name": "stdout",
     "output_type": "stream",
     "text": [
      "[CV] ......................... alpha=0.9102981779915218, total=   0.0s\n",
      "[CV] alpha=0.9102981779915218 ........................................\n",
      "[CV] ......................... alpha=0.9102981779915218, total=   0.0s\n",
      "[CV] alpha=0.9102981779915218 ........................................\n",
      "[CV] ......................... alpha=0.9102981779915218, total=   0.0s\n",
      "[CV] alpha=0.9102981779915218 ........................................\n",
      "[CV] ......................... alpha=0.9102981779915218, total=   0.0s\n",
      "[CV] alpha=1.151395399326448 .........................................\n",
      "[CV] .......................... alpha=1.151395399326448, total=   0.0s\n",
      "[CV] alpha=1.151395399326448 .........................................\n",
      "[CV] .......................... alpha=1.151395399326448, total=   0.0s\n",
      "[CV] alpha=1.151395399326448 .........................................\n",
      "[CV] .......................... alpha=1.151395399326448, total=   0.0s\n",
      "[CV] alpha=1.151395399326448 .........................................\n",
      "[CV] .......................... alpha=1.151395399326448, total=   0.0s\n",
      "[CV] alpha=1.151395399326448 .........................................\n",
      "[CV] .......................... alpha=1.151395399326448, total=   0.0s\n",
      "[CV] alpha=1.4563484775012443 ........................................\n",
      "[CV] ......................... alpha=1.4563484775012443, total=   0.0s\n",
      "[CV] alpha=1.4563484775012443 ........................................\n",
      "[CV] ......................... alpha=1.4563484775012443, total=   0.0s\n",
      "[CV] alpha=1.4563484775012443 ........................................\n",
      "[CV] ......................... alpha=1.4563484775012443, total=   0.0s\n",
      "[CV] alpha=1.4563484775012443 ........................................\n",
      "[CV] ......................... alpha=1.4563484775012443, total=   0.0s\n",
      "[CV] alpha=1.4563484775012443 ........................................\n",
      "[CV] ......................... alpha=1.4563484775012443, total=   0.0s\n",
      "[CV] alpha=1.8420699693267164 ........................................\n",
      "[CV] ......................... alpha=1.8420699693267164, total=   0.0s\n",
      "[CV] alpha=1.8420699693267164 ........................................\n",
      "[CV] ......................... alpha=1.8420699693267164, total=   0.0s\n",
      "[CV] alpha=1.8420699693267164 ........................................\n",
      "[CV] ......................... alpha=1.8420699693267164, total=   0.0s\n",
      "[CV] alpha=1.8420699693267164 ........................................\n",
      "[CV] ......................... alpha=1.8420699693267164, total=   0.0s\n",
      "[CV] alpha=1.8420699693267164 ........................................\n",
      "[CV] ......................... alpha=1.8420699693267164, total=   0.0s\n",
      "[CV] alpha=2.329951810515372 .........................................\n",
      "[CV] .......................... alpha=2.329951810515372, total=   0.0s\n",
      "[CV] alpha=2.329951810515372 .........................................\n",
      "[CV] .......................... alpha=2.329951810515372, total=   0.0s\n",
      "[CV] alpha=2.329951810515372 .........................................\n",
      "[CV] .......................... alpha=2.329951810515372, total=   0.0s\n",
      "[CV] alpha=2.329951810515372 .........................................\n",
      "[CV] .......................... alpha=2.329951810515372, total=   0.0s\n",
      "[CV] alpha=2.329951810515372 .........................................\n",
      "[CV] .......................... alpha=2.329951810515372, total=   0.0s\n",
      "[CV] alpha=2.9470517025518097 ........................................\n",
      "[CV] ......................... alpha=2.9470517025518097, total=   0.0s\n",
      "[CV] alpha=2.9470517025518097 ........................................\n",
      "[CV] ......................... alpha=2.9470517025518097, total=   0.0s\n",
      "[CV] alpha=2.9470517025518097 ........................................\n",
      "[CV] ......................... alpha=2.9470517025518097, total=   0.0s\n",
      "[CV] alpha=2.9470517025518097 ........................................\n",
      "[CV] ......................... alpha=2.9470517025518097, total=   0.0s\n",
      "[CV] alpha=2.9470517025518097 ........................................\n",
      "[CV] ......................... alpha=2.9470517025518097, total=   0.0s\n",
      "[CV] alpha=3.7275937203149416 ........................................\n",
      "[CV] ......................... alpha=3.7275937203149416, total=   0.0s\n",
      "[CV] alpha=3.7275937203149416 ........................................\n",
      "[CV] ......................... alpha=3.7275937203149416, total=   0.0s\n",
      "[CV] alpha=3.7275937203149416 ........................................\n",
      "[CV] ......................... alpha=3.7275937203149416, total=   0.0s\n",
      "[CV] alpha=3.7275937203149416 ........................................\n",
      "[CV] ......................... alpha=3.7275937203149416, total=   0.0s\n",
      "[CV] alpha=3.7275937203149416 ........................................\n",
      "[CV] ......................... alpha=3.7275937203149416, total=   0.0s\n",
      "[CV] alpha=4.714866363457395 .........................................\n",
      "[CV] .......................... alpha=4.714866363457395, total=   0.0s\n",
      "[CV] alpha=4.714866363457395 .........................................\n",
      "[CV] .......................... alpha=4.714866363457395, total=   0.0s\n",
      "[CV] alpha=4.714866363457395 .........................................\n",
      "[CV] .......................... alpha=4.714866363457395, total=   0.0s\n",
      "[CV] alpha=4.714866363457395 .........................................\n",
      "[CV] .......................... alpha=4.714866363457395, total=   0.0s\n",
      "[CV] alpha=4.714866363457395 .........................................\n",
      "[CV] .......................... alpha=4.714866363457395, total=   0.0s\n",
      "[CV] alpha=5.963623316594643 .........................................\n",
      "[CV] .......................... alpha=5.963623316594643, total=   0.0s\n",
      "[CV] alpha=5.963623316594643 .........................................\n",
      "[CV] .......................... alpha=5.963623316594643, total=   0.0s\n",
      "[CV] alpha=5.963623316594643 .........................................\n",
      "[CV] .......................... alpha=5.963623316594643, total=   0.0s\n",
      "[CV] alpha=5.963623316594643 .........................................\n",
      "[CV] .......................... alpha=5.963623316594643, total=   0.0s\n",
      "[CV] alpha=5.963623316594643 .........................................\n",
      "[CV] .......................... alpha=5.963623316594643, total=   0.0s\n",
      "[CV] alpha=7.543120063354623 .........................................\n",
      "[CV] .......................... alpha=7.543120063354623, total=   0.0s\n",
      "[CV] alpha=7.543120063354623 .........................................\n",
      "[CV] .......................... alpha=7.543120063354623, total=   0.0s\n",
      "[CV] alpha=7.543120063354623 .........................................\n",
      "[CV] .......................... alpha=7.543120063354623, total=   0.0s\n",
      "[CV] alpha=7.543120063354623 .........................................\n",
      "[CV] .......................... alpha=7.543120063354623, total=   0.0s\n",
      "[CV] alpha=7.543120063354623 .........................................\n",
      "[CV] .......................... alpha=7.543120063354623, total=   0.0s\n",
      "[CV] alpha=9.540954763499943 .........................................\n",
      "[CV] .......................... alpha=9.540954763499943, total=   0.0s\n",
      "[CV] alpha=9.540954763499943 .........................................\n",
      "[CV] .......................... alpha=9.540954763499943, total=   0.0s\n",
      "[CV] alpha=9.540954763499943 .........................................\n",
      "[CV] .......................... alpha=9.540954763499943, total=   0.0s\n",
      "[CV] alpha=9.540954763499943 .........................................\n",
      "[CV] .......................... alpha=9.540954763499943, total=   0.0s\n",
      "[CV] alpha=9.540954763499943 .........................................\n",
      "[CV] .......................... alpha=9.540954763499943, total=   0.0s\n",
      "[CV] alpha=12.067926406393289 ........................................\n",
      "[CV] ......................... alpha=12.067926406393289, total=   0.0s\n",
      "[CV] alpha=12.067926406393289 ........................................\n",
      "[CV] ......................... alpha=12.067926406393289, total=   0.0s\n",
      "[CV] alpha=12.067926406393289 ........................................\n",
      "[CV] ......................... alpha=12.067926406393289, total=   0.0s\n",
      "[CV] alpha=12.067926406393289 ........................................\n",
      "[CV] ......................... alpha=12.067926406393289, total=   0.0s\n",
      "[CV] alpha=12.067926406393289 ........................................\n",
      "[CV] ......................... alpha=12.067926406393289, total=   0.0s\n",
      "[CV] alpha=15.264179671752334 ........................................\n",
      "[CV] ......................... alpha=15.264179671752334, total=   0.0s\n",
      "[CV] alpha=15.264179671752334 ........................................\n",
      "[CV] ......................... alpha=15.264179671752334, total=   0.0s\n",
      "[CV] alpha=15.264179671752334 ........................................\n",
      "[CV] ......................... alpha=15.264179671752334, total=   0.0s\n",
      "[CV] alpha=15.264179671752334 ........................................\n"
     ]
    },
    {
     "name": "stdout",
     "output_type": "stream",
     "text": [
      "[CV] ......................... alpha=15.264179671752334, total=   0.0s\n",
      "[CV] alpha=15.264179671752334 ........................................\n",
      "[CV] ......................... alpha=15.264179671752334, total=   0.0s\n",
      "[CV] alpha=19.306977288832496 ........................................\n",
      "[CV] ......................... alpha=19.306977288832496, total=   0.0s\n",
      "[CV] alpha=19.306977288832496 ........................................\n",
      "[CV] ......................... alpha=19.306977288832496, total=   0.0s\n",
      "[CV] alpha=19.306977288832496 ........................................\n",
      "[CV] ......................... alpha=19.306977288832496, total=   0.0s\n",
      "[CV] alpha=19.306977288832496 ........................................\n",
      "[CV] ......................... alpha=19.306977288832496, total=   0.0s\n",
      "[CV] alpha=19.306977288832496 ........................................\n",
      "[CV] ......................... alpha=19.306977288832496, total=   0.0s\n",
      "[CV] alpha=24.420530945486497 ........................................\n",
      "[CV] ......................... alpha=24.420530945486497, total=   0.0s\n",
      "[CV] alpha=24.420530945486497 ........................................\n",
      "[CV] ......................... alpha=24.420530945486497, total=   0.0s\n",
      "[CV] alpha=24.420530945486497 ........................................\n",
      "[CV] ......................... alpha=24.420530945486497, total=   0.0s\n",
      "[CV] alpha=24.420530945486497 ........................................\n",
      "[CV] ......................... alpha=24.420530945486497, total=   0.0s\n",
      "[CV] alpha=24.420530945486497 ........................................\n",
      "[CV] ......................... alpha=24.420530945486497, total=   0.0s\n",
      "[CV] alpha=30.88843596477485 .........................................\n",
      "[CV] .......................... alpha=30.88843596477485, total=   0.0s\n",
      "[CV] alpha=30.88843596477485 .........................................\n",
      "[CV] .......................... alpha=30.88843596477485, total=   0.0s\n",
      "[CV] alpha=30.88843596477485 .........................................\n",
      "[CV] .......................... alpha=30.88843596477485, total=   0.0s\n",
      "[CV] alpha=30.88843596477485 .........................................\n",
      "[CV] .......................... alpha=30.88843596477485, total=   0.0s\n",
      "[CV] alpha=30.88843596477485 .........................................\n",
      "[CV] .......................... alpha=30.88843596477485, total=   0.0s\n",
      "[CV] alpha=39.06939937054621 .........................................\n",
      "[CV] .......................... alpha=39.06939937054621, total=   0.0s\n",
      "[CV] alpha=39.06939937054621 .........................................\n",
      "[CV] .......................... alpha=39.06939937054621, total=   0.0s\n",
      "[CV] alpha=39.06939937054621 .........................................\n",
      "[CV] .......................... alpha=39.06939937054621, total=   0.0s\n",
      "[CV] alpha=39.06939937054621 .........................................\n",
      "[CV] .......................... alpha=39.06939937054621, total=   0.0s\n",
      "[CV] alpha=39.06939937054621 .........................................\n",
      "[CV] .......................... alpha=39.06939937054621, total=   0.0s\n",
      "[CV] alpha=49.417133613238384 ........................................\n",
      "[CV] ......................... alpha=49.417133613238384, total=   0.0s\n",
      "[CV] alpha=49.417133613238384 ........................................\n",
      "[CV] ......................... alpha=49.417133613238384, total=   0.0s\n",
      "[CV] alpha=49.417133613238384 ........................................\n",
      "[CV] ......................... alpha=49.417133613238384, total=   0.0s\n",
      "[CV] alpha=49.417133613238384 ........................................\n",
      "[CV] ......................... alpha=49.417133613238384, total=   0.0s\n",
      "[CV] alpha=49.417133613238384 ........................................\n",
      "[CV] ......................... alpha=49.417133613238384, total=   0.0s\n",
      "[CV] alpha=62.50551925273976 .........................................\n",
      "[CV] .......................... alpha=62.50551925273976, total=   0.0s\n",
      "[CV] alpha=62.50551925273976 .........................................\n",
      "[CV] .......................... alpha=62.50551925273976, total=   0.0s\n",
      "[CV] alpha=62.50551925273976 .........................................\n",
      "[CV] .......................... alpha=62.50551925273976, total=   0.0s\n",
      "[CV] alpha=62.50551925273976 .........................................\n",
      "[CV] .......................... alpha=62.50551925273976, total=   0.0s\n",
      "[CV] alpha=62.50551925273976 .........................................\n",
      "[CV] .......................... alpha=62.50551925273976, total=   0.0s\n",
      "[CV] alpha=79.06043210907701 .........................................\n",
      "[CV] .......................... alpha=79.06043210907701, total=   0.0s\n",
      "[CV] alpha=79.06043210907701 .........................................\n",
      "[CV] .......................... alpha=79.06043210907701, total=   0.0s\n",
      "[CV] alpha=79.06043210907701 .........................................\n",
      "[CV] .......................... alpha=79.06043210907701, total=   0.0s\n",
      "[CV] alpha=79.06043210907701 .........................................\n",
      "[CV] .......................... alpha=79.06043210907701, total=   0.0s\n",
      "[CV] alpha=79.06043210907701 .........................................\n",
      "[CV] .......................... alpha=79.06043210907701, total=   0.0s\n",
      "[CV] alpha=100.0 .....................................................\n",
      "[CV] ...................................... alpha=100.0, total=   0.0s\n",
      "[CV] alpha=100.0 .....................................................\n",
      "[CV] ...................................... alpha=100.0, total=   0.0s\n",
      "[CV] alpha=100.0 .....................................................\n",
      "[CV] ...................................... alpha=100.0, total=   0.0s\n",
      "[CV] alpha=100.0 .....................................................\n",
      "[CV] ...................................... alpha=100.0, total=   0.0s\n",
      "[CV] alpha=100.0 .....................................................\n",
      "[CV] ...................................... alpha=100.0, total=   0.0s\n",
      "CPU times: user 12.4 s, sys: 3.86 s, total: 16.3 s\n",
      "Wall time: 2.51 s\n"
     ]
    },
    {
     "name": "stderr",
     "output_type": "stream",
     "text": [
      "[Parallel(n_jobs=1)]: Done 250 out of 250 | elapsed:    2.5s finished\n"
     ]
    },
    {
     "data": {
      "text/plain": [
       "GridSearchCV(cv=5, error_score='raise-deprecating',\n",
       "       estimator=Ridge(alpha=1.0, copy_X=True, fit_intercept=True, max_iter=None,\n",
       "   normalize=False, random_state=None, solver='auto', tol=0.001),\n",
       "       fit_params=None, iid='warn', n_jobs=None,\n",
       "       param_grid={'alpha': array([  0.001  ,   0.00126,   0.0016 ,   0.00202,   0.00256,   0.00324,\n",
       "         0.00409,   0.00518,   0.00655,   0.00829,   0.01048,   0.01326,\n",
       "         0.01677,   0.02121,   0.02683,   0.03393,   0.04292,   0.05429,\n",
       "         0.06866,   0.08685,   0.10985,   0.13895,   0.17575...     19.30698,  24.42053,  30.88844,  39.0694 ,  49.41713,  62.50552,\n",
       "        79.06043, 100.     ])},\n",
       "       pre_dispatch='2*n_jobs', refit=True, return_train_score='warn',\n",
       "       scoring='neg_mean_squared_error', verbose=2)"
      ]
     },
     "execution_count": 29,
     "metadata": {},
     "output_type": "execute_result"
    }
   ],
   "source": [
    "%%time\n",
    "grid.fit(X_train, y_train)"
   ]
  },
  {
   "cell_type": "code",
   "execution_count": 30,
   "metadata": {},
   "outputs": [
    {
     "data": {
      "text/plain": [
       "Ridge(alpha=15.264179671752334, copy_X=True, fit_intercept=True,\n",
       "   max_iter=None, normalize=False, random_state=None, solver='auto',\n",
       "   tol=0.001)"
      ]
     },
     "execution_count": 30,
     "metadata": {},
     "output_type": "execute_result"
    }
   ],
   "source": [
    "grid.best_estimator_"
   ]
  },
  {
   "cell_type": "code",
   "execution_count": 31,
   "metadata": {},
   "outputs": [
    {
     "data": {
      "text/plain": [
       "-0.01979647338702152"
      ]
     },
     "execution_count": 31,
     "metadata": {},
     "output_type": "execute_result"
    }
   ],
   "source": [
    "grid.best_score_"
   ]
  },
  {
   "cell_type": "code",
   "execution_count": 32,
   "metadata": {},
   "outputs": [
    {
     "data": {
      "text/plain": [
       "{'alpha': 15.264179671752334}"
      ]
     },
     "execution_count": 32,
     "metadata": {},
     "output_type": "execute_result"
    }
   ],
   "source": [
    "grid.best_params_"
   ]
  },
  {
   "cell_type": "markdown",
   "metadata": {},
   "source": [
    "## 随机森林回归"
   ]
  },
  {
   "cell_type": "code",
   "execution_count": 33,
   "metadata": {},
   "outputs": [
    {
     "data": {
      "image/png": "[encoded data removed]",
      "text/plain": [
       "<Figure size 432x288 with 1 Axes>"
      ]
     },
     "metadata": {
      "image/png": {
       "height": 260,
       "width": 383
      },
      "needs_background": "light"
     },
     "output_type": "display_data"
    }
   ],
   "source": [
    "from sklearn.ensemble import RandomForestRegressor\n",
    "\n",
    "max_features = [.1, .3, .5, .7, .9, .99]\n",
    "test_scores = list()\n",
    "for max_feat in max_features:\n",
    "    clf = RandomForestRegressor(n_estimators=200, max_features=max_feat)\n",
    "    test_score = np.sqrt(-cross_val_score(\n",
    "        clf, X_train, y_train, cv=5, scoring='neg_mean_squared_error'))\n",
    "    test_scores.append(np.mean(test_score))\n",
    "plt.plot(max_features, test_scores)\n",
    "plt.title(\"Max Features vs CV Error\")\n",
    "plt.show()"
   ]
  },
  {
   "cell_type": "code",
   "execution_count": 34,
   "metadata": {},
   "outputs": [
    {
     "data": {
      "image/png": "[encoded data removed]",
      "text/plain": [
       "<Figure size 432x288 with 1 Axes>"
      ]
     },
     "metadata": {
      "image/png": {
       "height": 260,
       "width": 382
      },
      "needs_background": "light"
     },
     "output_type": "display_data"
    }
   ],
   "source": [
    "from sklearn.ensemble import AdaBoostRegressor\n",
    "\n",
    "params = [10, 15, 20, 25, 30, 35, 40, 45, 50]\n",
    "test_scores = list()\n",
    "for param in params:\n",
    "    clf = AdaBoostRegressor(n_estimators=param, base_estimator=Ridge(15))\n",
    "    test_score = np.sqrt(-cross_val_score(clf, X_train, y_train, cv=10, scoring='neg_mean_squared_error'))\n",
    "    test_scores.append(np.mean(test_score))\n",
    "plt.plot(params, test_scores)\n",
    "plt.title(\"Params vs CV Error\")\n",
    "plt.show()"
   ]
  },
  {
   "cell_type": "code",
   "execution_count": 35,
   "metadata": {
    "collapsed": true
   },
   "outputs": [],
   "source": [
    "from sklearn.ensemble import BaggingRegressor\n",
    "\n",
    "bg = BaggingRegressor(n_estimators=25, base_estimator=Ridge(15))\n",
    "bg.fit(X_train, y_train)\n",
    "y_final = np.expm1(bg.predict(X_test))"
   ]
  },
  {
   "cell_type": "markdown",
   "metadata": {},
   "source": [
    "最后使用岭回归的袋装集成方法。"
   ]
  },
  {
   "cell_type": "code",
   "execution_count": 36,
   "metadata": {},
   "outputs": [
    {
     "data": {
      "text/html": [
       "<div>\n",
       "<style scoped>\n",
       "    .dataframe tbody tr th:only-of-type {\n",
       "        vertical-align: middle;\n",
       "    }\n",
       "\n",
       "    .dataframe tbody tr th {\n",
       "        vertical-align: top;\n",
       "    }\n",
       "\n",
       "    .dataframe thead th {\n",
       "        text-align: right;\n",
       "    }\n",
       "</style>\n",
       "<table border=\"1\" class=\"dataframe\">\n",
       "  <thead>\n",
       "    <tr style=\"text-align: right;\">\n",
       "      <th></th>\n",
       "      <th>Id</th>\n",
       "      <th>SalePrice</th>\n",
       "    </tr>\n",
       "  </thead>\n",
       "  <tbody>\n",
       "    <tr>\n",
       "      <th>0</th>\n",
       "      <td>1461</td>\n",
       "      <td>115750.549064</td>\n",
       "    </tr>\n",
       "    <tr>\n",
       "      <th>1</th>\n",
       "      <td>1462</td>\n",
       "      <td>149124.542018</td>\n",
       "    </tr>\n",
       "    <tr>\n",
       "      <th>2</th>\n",
       "      <td>1463</td>\n",
       "      <td>172294.149456</td>\n",
       "    </tr>\n",
       "    <tr>\n",
       "      <th>3</th>\n",
       "      <td>1464</td>\n",
       "      <td>195866.118756</td>\n",
       "    </tr>\n",
       "    <tr>\n",
       "      <th>4</th>\n",
       "      <td>1465</td>\n",
       "      <td>195799.628771</td>\n",
       "    </tr>\n",
       "  </tbody>\n",
       "</table>\n",
       "</div>"
      ],
      "text/plain": [
       "     Id      SalePrice\n",
       "0  1461  115750.549064\n",
       "1  1462  149124.542018\n",
       "2  1463  172294.149456\n",
       "3  1464  195866.118756\n",
       "4  1465  195799.628771"
      ]
     },
     "execution_count": 36,
     "metadata": {},
     "output_type": "execute_result"
    }
   ],
   "source": [
    "submission_df = pd.DataFrame(data={\"Id\": test_df.index, 'SalePrice': y_final})\n",
    "submission_df.head()"
   ]
  },
  {
   "cell_type": "code",
   "execution_count": 37,
   "metadata": {
    "collapsed": true
   },
   "outputs": [],
   "source": [
    "submission_df.to_csv('../output/submission_20190323.csv',index=False)"
   ]
  }
 ],
 "metadata": {
  "kernelspec": {
   "display_name": "Python 3",
   "language": "python",
   "name": "python3"
  },
  "language_info": {
   "codemirror_mode": {
    "name": "ipython",
    "version": 3
   },
   "file_extension": ".py",
   "mimetype": "text/x-python",
   "name": "python",
   "nbconvert_exporter": "python",
   "pygments_lexer": "ipython3",
   "version": "3.6.3"
  },
  "toc": {
   "nav_menu": {},
   "number_sections": true,
   "sideBar": true,
   "skip_h1_title": false,
   "toc_cell": false,
   "toc_position": {},
   "toc_section_display": "block",
   "toc_window_display": false
  }
 },
 "nbformat": 4,
 "nbformat_minor": 2
}
