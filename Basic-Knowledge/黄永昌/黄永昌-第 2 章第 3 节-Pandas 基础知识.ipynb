{
 "cells": [
  {
   "cell_type": "markdown",
   "metadata": {},
   "source": [
    "# 第 2 章第 3 节-Pandas 基础知识"
   ]
  },
  {
   "cell_type": "markdown",
   "metadata": {},
   "source": [
    "说明：这部分内容在书本第 32 页。"
   ]
  },
  {
   "cell_type": "code",
   "execution_count": 1,
   "metadata": {
    "collapsed": true
   },
   "outputs": [],
   "source": [
    "%matplotlib inline\n",
    "import pandas as pd\n",
    "import numpy as np\n",
    "import matplotlib.pyplot as plt"
   ]
  },
  {
   "cell_type": "markdown",
   "metadata": {},
   "source": [
    "<b><font size='5' color='0000ff'>liwei 注：有了 NumPy 为什么还要 Series 和 DataFrame 呢？因为 Series 可以自定义 index，我们就可以发挥 index 的作用，而不仅仅只是用数字去索引我们要的数据了。</font></b>\n",
    "\n",
    "其中 DataFrame 是表格，Series 一方面可以看成单独的数组，另一反面可以认为是 DataFrame 的一行或者一列。"
   ]
  },
  {
   "cell_type": "code",
   "execution_count": 25,
   "metadata": {},
   "outputs": [
    {
     "data": {
      "text/plain": [
       "0    4\n",
       "1    2\n",
       "2    5\n",
       "3    0\n",
       "4    6\n",
       "5    3\n",
       "dtype: int64"
      ]
     },
     "execution_count": 25,
     "metadata": {},
     "output_type": "execute_result"
    }
   ],
   "source": [
    "# Series 对象可以理解为一维数组\n",
    "s = pd.Series([4, 2, 5, 0, 6, 3])\n",
    "s"
   ]
  },
  {
   "cell_type": "markdown",
   "metadata": {},
   "source": [
    "<b><font size='5' color='0000ff'>liwei 注：有了 DataFrame ，我们还可以定义 column，这也极大地方便了我们从列的方向上索引数据，试想一下，如果你的 data 只有数字，而没有列名，那会是多么恐怖的一件事情啊。 </font></b>"
   ]
  },
  {
   "cell_type": "code",
   "execution_count": 26,
   "metadata": {},
   "outputs": [
    {
     "data": {
      "text/html": [
       "<div>\n",
       "<style scoped>\n",
       "    .dataframe tbody tr th:only-of-type {\n",
       "        vertical-align: middle;\n",
       "    }\n",
       "\n",
       "    .dataframe tbody tr th {\n",
       "        vertical-align: top;\n",
       "    }\n",
       "\n",
       "    .dataframe thead th {\n",
       "        text-align: right;\n",
       "    }\n",
       "</style>\n",
       "<table border=\"1\" class=\"dataframe\">\n",
       "  <thead>\n",
       "    <tr style=\"text-align: right;\">\n",
       "      <th></th>\n",
       "      <th>A</th>\n",
       "      <th>B</th>\n",
       "      <th>C</th>\n",
       "      <th>D</th>\n",
       "    </tr>\n",
       "  </thead>\n",
       "  <tbody>\n",
       "    <tr>\n",
       "      <th>0</th>\n",
       "      <td>0.254013</td>\n",
       "      <td>-0.620303</td>\n",
       "      <td>0.082658</td>\n",
       "      <td>1.300437</td>\n",
       "    </tr>\n",
       "    <tr>\n",
       "      <th>1</th>\n",
       "      <td>-0.092307</td>\n",
       "      <td>0.961911</td>\n",
       "      <td>0.294819</td>\n",
       "      <td>0.756098</td>\n",
       "    </tr>\n",
       "    <tr>\n",
       "      <th>2</th>\n",
       "      <td>-1.192324</td>\n",
       "      <td>1.607205</td>\n",
       "      <td>-0.096637</td>\n",
       "      <td>-1.835685</td>\n",
       "    </tr>\n",
       "    <tr>\n",
       "      <th>3</th>\n",
       "      <td>1.560785</td>\n",
       "      <td>0.278674</td>\n",
       "      <td>0.786644</td>\n",
       "      <td>-0.379980</td>\n",
       "    </tr>\n",
       "    <tr>\n",
       "      <th>4</th>\n",
       "      <td>0.490676</td>\n",
       "      <td>-0.490781</td>\n",
       "      <td>-0.143141</td>\n",
       "      <td>-0.408220</td>\n",
       "    </tr>\n",
       "    <tr>\n",
       "      <th>5</th>\n",
       "      <td>0.507764</td>\n",
       "      <td>-0.365741</td>\n",
       "      <td>0.566505</td>\n",
       "      <td>-0.122626</td>\n",
       "    </tr>\n",
       "  </tbody>\n",
       "</table>\n",
       "</div>"
      ],
      "text/plain": [
       "          A         B         C         D\n",
       "0  0.254013 -0.620303  0.082658  1.300437\n",
       "1 -0.092307  0.961911  0.294819  0.756098\n",
       "2 -1.192324  1.607205 -0.096637 -1.835685\n",
       "3  1.560785  0.278674  0.786644 -0.379980\n",
       "4  0.490676 -0.490781 -0.143141 -0.408220\n",
       "5  0.507764 -0.365741  0.566505 -0.122626"
      ]
     },
     "execution_count": 26,
     "metadata": {},
     "output_type": "execute_result"
    }
   ],
   "source": [
    "# DataFrame 是二维数组对象\n",
    "df = pd.DataFrame(np.random.randn(6, 4), columns=list('ABCD'))\n",
    "df"
   ]
  },
  {
   "cell_type": "markdown",
   "metadata": {},
   "source": [
    "## 访问数据框一行数据"
   ]
  },
  {
   "cell_type": "markdown",
   "metadata": {},
   "source": [
    "### 你可以使用默认的数字索引，索引到一行数据。"
   ]
  },
  {
   "cell_type": "code",
   "execution_count": 27,
   "metadata": {},
   "outputs": [
    {
     "data": {
      "text/plain": [
       "A    0.254013\n",
       "B   -0.620303\n",
       "C    0.082658\n",
       "D    1.300437\n",
       "Name: 0, dtype: float64"
      ]
     },
     "execution_count": 27,
     "metadata": {},
     "output_type": "execute_result"
    }
   ],
   "source": [
    "df.iloc[0]"
   ]
  },
  {
   "cell_type": "markdown",
   "metadata": {},
   "source": [
    "### 也可以使用你自定义的”有意义“的列的名称选取一列"
   ]
  },
  {
   "cell_type": "code",
   "execution_count": 28,
   "metadata": {},
   "outputs": [
    {
     "data": {
      "text/plain": [
       "0    0.254013\n",
       "1   -0.092307\n",
       "2   -1.192324\n",
       "3    1.560785\n",
       "4    0.490676\n",
       "5    0.507764\n",
       "Name: A, dtype: float64"
      ]
     },
     "execution_count": 28,
     "metadata": {},
     "output_type": "execute_result"
    }
   ],
   "source": [
    "df.A"
   ]
  },
  {
   "cell_type": "code",
   "execution_count": 29,
   "metadata": {},
   "outputs": [
    {
     "data": {
      "text/plain": [
       "0    0.254013\n",
       "1   -0.092307\n",
       "2   -1.192324\n",
       "3    1.560785\n",
       "4    0.490676\n",
       "5    0.507764\n",
       "Name: A, dtype: float64"
      ]
     },
     "execution_count": 29,
     "metadata": {},
     "output_type": "execute_result"
    }
   ],
   "source": [
    "# 和上一种方式等价\n",
    "df['A']"
   ]
  },
  {
   "cell_type": "markdown",
   "metadata": {},
   "source": [
    "## DataFrame 的一行或者一列都是 Series 对象"
   ]
  },
  {
   "cell_type": "code",
   "execution_count": 30,
   "metadata": {},
   "outputs": [
    {
     "name": "stdout",
     "output_type": "stream",
     "text": [
      "Row data type: <class 'pandas.core.series.Series'>\n",
      "Column data type: <class 'pandas.core.series.Series'>\n"
     ]
    }
   ],
   "source": [
    "print(\"Row data type: {}\".format(type(df.iloc[0])))\n",
    "print(\"Column data type: {}\".format(type(df.A)))"
   ]
  },
  {
   "cell_type": "code",
   "execution_count": 31,
   "metadata": {},
   "outputs": [
    {
     "data": {
      "text/plain": [
       "(6, 4)"
      ]
     },
     "execution_count": 31,
     "metadata": {},
     "output_type": "execute_result"
    }
   ],
   "source": [
    "df.shape"
   ]
  },
  {
   "cell_type": "markdown",
   "metadata": {},
   "source": [
    "### 看头几行或者尾巴几行，概览，是很常用的额方法，尤其是 head()"
   ]
  },
  {
   "cell_type": "code",
   "execution_count": 32,
   "metadata": {},
   "outputs": [
    {
     "data": {
      "text/html": [
       "<div>\n",
       "<style scoped>\n",
       "    .dataframe tbody tr th:only-of-type {\n",
       "        vertical-align: middle;\n",
       "    }\n",
       "\n",
       "    .dataframe tbody tr th {\n",
       "        vertical-align: top;\n",
       "    }\n",
       "\n",
       "    .dataframe thead th {\n",
       "        text-align: right;\n",
       "    }\n",
       "</style>\n",
       "<table border=\"1\" class=\"dataframe\">\n",
       "  <thead>\n",
       "    <tr style=\"text-align: right;\">\n",
       "      <th></th>\n",
       "      <th>A</th>\n",
       "      <th>B</th>\n",
       "      <th>C</th>\n",
       "      <th>D</th>\n",
       "    </tr>\n",
       "  </thead>\n",
       "  <tbody>\n",
       "    <tr>\n",
       "      <th>0</th>\n",
       "      <td>0.254013</td>\n",
       "      <td>-0.620303</td>\n",
       "      <td>0.082658</td>\n",
       "      <td>1.300437</td>\n",
       "    </tr>\n",
       "    <tr>\n",
       "      <th>1</th>\n",
       "      <td>-0.092307</td>\n",
       "      <td>0.961911</td>\n",
       "      <td>0.294819</td>\n",
       "      <td>0.756098</td>\n",
       "    </tr>\n",
       "    <tr>\n",
       "      <th>2</th>\n",
       "      <td>-1.192324</td>\n",
       "      <td>1.607205</td>\n",
       "      <td>-0.096637</td>\n",
       "      <td>-1.835685</td>\n",
       "    </tr>\n",
       "  </tbody>\n",
       "</table>\n",
       "</div>"
      ],
      "text/plain": [
       "          A         B         C         D\n",
       "0  0.254013 -0.620303  0.082658  1.300437\n",
       "1 -0.092307  0.961911  0.294819  0.756098\n",
       "2 -1.192324  1.607205 -0.096637 -1.835685"
      ]
     },
     "execution_count": 32,
     "metadata": {},
     "output_type": "execute_result"
    }
   ],
   "source": [
    "df.head(3)"
   ]
  },
  {
   "cell_type": "code",
   "execution_count": 33,
   "metadata": {},
   "outputs": [
    {
     "data": {
      "text/html": [
       "<div>\n",
       "<style scoped>\n",
       "    .dataframe tbody tr th:only-of-type {\n",
       "        vertical-align: middle;\n",
       "    }\n",
       "\n",
       "    .dataframe tbody tr th {\n",
       "        vertical-align: top;\n",
       "    }\n",
       "\n",
       "    .dataframe thead th {\n",
       "        text-align: right;\n",
       "    }\n",
       "</style>\n",
       "<table border=\"1\" class=\"dataframe\">\n",
       "  <thead>\n",
       "    <tr style=\"text-align: right;\">\n",
       "      <th></th>\n",
       "      <th>A</th>\n",
       "      <th>B</th>\n",
       "      <th>C</th>\n",
       "      <th>D</th>\n",
       "    </tr>\n",
       "  </thead>\n",
       "  <tbody>\n",
       "    <tr>\n",
       "      <th>4</th>\n",
       "      <td>0.490676</td>\n",
       "      <td>-0.490781</td>\n",
       "      <td>-0.143141</td>\n",
       "      <td>-0.408220</td>\n",
       "    </tr>\n",
       "    <tr>\n",
       "      <th>5</th>\n",
       "      <td>0.507764</td>\n",
       "      <td>-0.365741</td>\n",
       "      <td>0.566505</td>\n",
       "      <td>-0.122626</td>\n",
       "    </tr>\n",
       "  </tbody>\n",
       "</table>\n",
       "</div>"
      ],
      "text/plain": [
       "          A         B         C         D\n",
       "4  0.490676 -0.490781 -0.143141 -0.408220\n",
       "5  0.507764 -0.365741  0.566505 -0.122626"
      ]
     },
     "execution_count": 33,
     "metadata": {},
     "output_type": "execute_result"
    }
   ],
   "source": [
    "df.tail(2)"
   ]
  },
  {
   "cell_type": "markdown",
   "metadata": {},
   "source": [
    "## 看看列索引 column，看看行索引，默认的行索引是 `RangeIndex` 对象"
   ]
  },
  {
   "cell_type": "code",
   "execution_count": 34,
   "metadata": {},
   "outputs": [
    {
     "data": {
      "text/plain": [
       "Index(['A', 'B', 'C', 'D'], dtype='object')"
      ]
     },
     "execution_count": 34,
     "metadata": {},
     "output_type": "execute_result"
    }
   ],
   "source": [
    "df.columns"
   ]
  },
  {
   "cell_type": "code",
   "execution_count": 35,
   "metadata": {},
   "outputs": [
    {
     "data": {
      "text/plain": [
       "RangeIndex(start=0, stop=6, step=1)"
      ]
     },
     "execution_count": 35,
     "metadata": {},
     "output_type": "execute_result"
    }
   ],
   "source": [
    "df.index"
   ]
  },
  {
   "cell_type": "code",
   "execution_count": 36,
   "metadata": {},
   "outputs": [
    {
     "data": {
      "text/html": [
       "<div>\n",
       "<style scoped>\n",
       "    .dataframe tbody tr th:only-of-type {\n",
       "        vertical-align: middle;\n",
       "    }\n",
       "\n",
       "    .dataframe tbody tr th {\n",
       "        vertical-align: top;\n",
       "    }\n",
       "\n",
       "    .dataframe thead th {\n",
       "        text-align: right;\n",
       "    }\n",
       "</style>\n",
       "<table border=\"1\" class=\"dataframe\">\n",
       "  <thead>\n",
       "    <tr style=\"text-align: right;\">\n",
       "      <th></th>\n",
       "      <th>A</th>\n",
       "      <th>B</th>\n",
       "      <th>C</th>\n",
       "      <th>D</th>\n",
       "    </tr>\n",
       "  </thead>\n",
       "  <tbody>\n",
       "    <tr>\n",
       "      <th>count</th>\n",
       "      <td>6.000000</td>\n",
       "      <td>6.000000</td>\n",
       "      <td>6.000000</td>\n",
       "      <td>6.000000</td>\n",
       "    </tr>\n",
       "    <tr>\n",
       "      <th>mean</th>\n",
       "      <td>0.254768</td>\n",
       "      <td>0.228494</td>\n",
       "      <td>0.248475</td>\n",
       "      <td>-0.114996</td>\n",
       "    </tr>\n",
       "    <tr>\n",
       "      <th>std</th>\n",
       "      <td>0.898875</td>\n",
       "      <td>0.898019</td>\n",
       "      <td>0.372257</td>\n",
       "      <td>1.084369</td>\n",
       "    </tr>\n",
       "    <tr>\n",
       "      <th>min</th>\n",
       "      <td>-1.192324</td>\n",
       "      <td>-0.620303</td>\n",
       "      <td>-0.143141</td>\n",
       "      <td>-1.835685</td>\n",
       "    </tr>\n",
       "    <tr>\n",
       "      <th>25%</th>\n",
       "      <td>-0.005727</td>\n",
       "      <td>-0.459521</td>\n",
       "      <td>-0.051813</td>\n",
       "      <td>-0.401160</td>\n",
       "    </tr>\n",
       "    <tr>\n",
       "      <th>50%</th>\n",
       "      <td>0.372345</td>\n",
       "      <td>-0.043533</td>\n",
       "      <td>0.188738</td>\n",
       "      <td>-0.251303</td>\n",
       "    </tr>\n",
       "    <tr>\n",
       "      <th>75%</th>\n",
       "      <td>0.503492</td>\n",
       "      <td>0.791102</td>\n",
       "      <td>0.498584</td>\n",
       "      <td>0.536417</td>\n",
       "    </tr>\n",
       "    <tr>\n",
       "      <th>max</th>\n",
       "      <td>1.560785</td>\n",
       "      <td>1.607205</td>\n",
       "      <td>0.786644</td>\n",
       "      <td>1.300437</td>\n",
       "    </tr>\n",
       "  </tbody>\n",
       "</table>\n",
       "</div>"
      ],
      "text/plain": [
       "              A         B         C         D\n",
       "count  6.000000  6.000000  6.000000  6.000000\n",
       "mean   0.254768  0.228494  0.248475 -0.114996\n",
       "std    0.898875  0.898019  0.372257  1.084369\n",
       "min   -1.192324 -0.620303 -0.143141 -1.835685\n",
       "25%   -0.005727 -0.459521 -0.051813 -0.401160\n",
       "50%    0.372345 -0.043533  0.188738 -0.251303\n",
       "75%    0.503492  0.791102  0.498584  0.536417\n",
       "max    1.560785  1.607205  0.786644  1.300437"
      ]
     },
     "execution_count": 36,
     "metadata": {},
     "output_type": "execute_result"
    }
   ],
   "source": [
    "df.describe()"
   ]
  },
  {
   "cell_type": "markdown",
   "metadata": {},
   "source": [
    "# DataFrame 的排序操作\n",
    "\n",
    "了解下面这两个方法。\n",
    "\n",
    "+ sort_index\n",
    "+ sort_values"
   ]
  },
  {
   "cell_type": "markdown",
   "metadata": {},
   "source": [
    "## 索引排序，axis=1 表示按照列索引，也就是 column 的“名称”排序"
   ]
  },
  {
   "cell_type": "code",
   "execution_count": 37,
   "metadata": {},
   "outputs": [
    {
     "data": {
      "text/html": [
       "<div>\n",
       "<style scoped>\n",
       "    .dataframe tbody tr th:only-of-type {\n",
       "        vertical-align: middle;\n",
       "    }\n",
       "\n",
       "    .dataframe tbody tr th {\n",
       "        vertical-align: top;\n",
       "    }\n",
       "\n",
       "    .dataframe thead th {\n",
       "        text-align: right;\n",
       "    }\n",
       "</style>\n",
       "<table border=\"1\" class=\"dataframe\">\n",
       "  <thead>\n",
       "    <tr style=\"text-align: right;\">\n",
       "      <th></th>\n",
       "      <th>A</th>\n",
       "      <th>B</th>\n",
       "      <th>C</th>\n",
       "      <th>D</th>\n",
       "    </tr>\n",
       "  </thead>\n",
       "  <tbody>\n",
       "    <tr>\n",
       "      <th>0</th>\n",
       "      <td>0.254013</td>\n",
       "      <td>-0.620303</td>\n",
       "      <td>0.082658</td>\n",
       "      <td>1.300437</td>\n",
       "    </tr>\n",
       "    <tr>\n",
       "      <th>1</th>\n",
       "      <td>-0.092307</td>\n",
       "      <td>0.961911</td>\n",
       "      <td>0.294819</td>\n",
       "      <td>0.756098</td>\n",
       "    </tr>\n",
       "    <tr>\n",
       "      <th>2</th>\n",
       "      <td>-1.192324</td>\n",
       "      <td>1.607205</td>\n",
       "      <td>-0.096637</td>\n",
       "      <td>-1.835685</td>\n",
       "    </tr>\n",
       "    <tr>\n",
       "      <th>3</th>\n",
       "      <td>1.560785</td>\n",
       "      <td>0.278674</td>\n",
       "      <td>0.786644</td>\n",
       "      <td>-0.379980</td>\n",
       "    </tr>\n",
       "    <tr>\n",
       "      <th>4</th>\n",
       "      <td>0.490676</td>\n",
       "      <td>-0.490781</td>\n",
       "      <td>-0.143141</td>\n",
       "      <td>-0.408220</td>\n",
       "    </tr>\n",
       "    <tr>\n",
       "      <th>5</th>\n",
       "      <td>0.507764</td>\n",
       "      <td>-0.365741</td>\n",
       "      <td>0.566505</td>\n",
       "      <td>-0.122626</td>\n",
       "    </tr>\n",
       "  </tbody>\n",
       "</table>\n",
       "</div>"
      ],
      "text/plain": [
       "          A         B         C         D\n",
       "0  0.254013 -0.620303  0.082658  1.300437\n",
       "1 -0.092307  0.961911  0.294819  0.756098\n",
       "2 -1.192324  1.607205 -0.096637 -1.835685\n",
       "3  1.560785  0.278674  0.786644 -0.379980\n",
       "4  0.490676 -0.490781 -0.143141 -0.408220\n",
       "5  0.507764 -0.365741  0.566505 -0.122626"
      ]
     },
     "execution_count": 37,
     "metadata": {},
     "output_type": "execute_result"
    }
   ],
   "source": [
    "df.sort_index(axis=1, ascending=True)"
   ]
  },
  {
   "cell_type": "code",
   "execution_count": 38,
   "metadata": {},
   "outputs": [
    {
     "data": {
      "text/html": [
       "<div>\n",
       "<style scoped>\n",
       "    .dataframe tbody tr th:only-of-type {\n",
       "        vertical-align: middle;\n",
       "    }\n",
       "\n",
       "    .dataframe tbody tr th {\n",
       "        vertical-align: top;\n",
       "    }\n",
       "\n",
       "    .dataframe thead th {\n",
       "        text-align: right;\n",
       "    }\n",
       "</style>\n",
       "<table border=\"1\" class=\"dataframe\">\n",
       "  <thead>\n",
       "    <tr style=\"text-align: right;\">\n",
       "      <th></th>\n",
       "      <th>D</th>\n",
       "      <th>C</th>\n",
       "      <th>B</th>\n",
       "      <th>A</th>\n",
       "    </tr>\n",
       "  </thead>\n",
       "  <tbody>\n",
       "    <tr>\n",
       "      <th>0</th>\n",
       "      <td>1.300437</td>\n",
       "      <td>0.082658</td>\n",
       "      <td>-0.620303</td>\n",
       "      <td>0.254013</td>\n",
       "    </tr>\n",
       "    <tr>\n",
       "      <th>1</th>\n",
       "      <td>0.756098</td>\n",
       "      <td>0.294819</td>\n",
       "      <td>0.961911</td>\n",
       "      <td>-0.092307</td>\n",
       "    </tr>\n",
       "    <tr>\n",
       "      <th>2</th>\n",
       "      <td>-1.835685</td>\n",
       "      <td>-0.096637</td>\n",
       "      <td>1.607205</td>\n",
       "      <td>-1.192324</td>\n",
       "    </tr>\n",
       "    <tr>\n",
       "      <th>3</th>\n",
       "      <td>-0.379980</td>\n",
       "      <td>0.786644</td>\n",
       "      <td>0.278674</td>\n",
       "      <td>1.560785</td>\n",
       "    </tr>\n",
       "    <tr>\n",
       "      <th>4</th>\n",
       "      <td>-0.408220</td>\n",
       "      <td>-0.143141</td>\n",
       "      <td>-0.490781</td>\n",
       "      <td>0.490676</td>\n",
       "    </tr>\n",
       "    <tr>\n",
       "      <th>5</th>\n",
       "      <td>-0.122626</td>\n",
       "      <td>0.566505</td>\n",
       "      <td>-0.365741</td>\n",
       "      <td>0.507764</td>\n",
       "    </tr>\n",
       "  </tbody>\n",
       "</table>\n",
       "</div>"
      ],
      "text/plain": [
       "          D         C         B         A\n",
       "0  1.300437  0.082658 -0.620303  0.254013\n",
       "1  0.756098  0.294819  0.961911 -0.092307\n",
       "2 -1.835685 -0.096637  1.607205 -1.192324\n",
       "3 -0.379980  0.786644  0.278674  1.560785\n",
       "4 -0.408220 -0.143141 -0.490781  0.490676\n",
       "5 -0.122626  0.566505 -0.365741  0.507764"
      ]
     },
     "execution_count": 38,
     "metadata": {},
     "output_type": "execute_result"
    }
   ],
   "source": [
    "df.sort_index(axis=1, ascending=False)"
   ]
  },
  {
   "cell_type": "markdown",
   "metadata": {},
   "source": [
    "---"
   ]
  },
  {
   "cell_type": "markdown",
   "metadata": {},
   "source": [
    "那么根据某一列的数值进行索引怎么操作呢？"
   ]
  },
  {
   "cell_type": "markdown",
   "metadata": {},
   "source": [
    "## 根据 B 这一列升序排序"
   ]
  },
  {
   "cell_type": "code",
   "execution_count": 39,
   "metadata": {},
   "outputs": [
    {
     "data": {
      "text/html": [
       "<div>\n",
       "<style scoped>\n",
       "    .dataframe tbody tr th:only-of-type {\n",
       "        vertical-align: middle;\n",
       "    }\n",
       "\n",
       "    .dataframe tbody tr th {\n",
       "        vertical-align: top;\n",
       "    }\n",
       "\n",
       "    .dataframe thead th {\n",
       "        text-align: right;\n",
       "    }\n",
       "</style>\n",
       "<table border=\"1\" class=\"dataframe\">\n",
       "  <thead>\n",
       "    <tr style=\"text-align: right;\">\n",
       "      <th></th>\n",
       "      <th>A</th>\n",
       "      <th>B</th>\n",
       "      <th>C</th>\n",
       "      <th>D</th>\n",
       "    </tr>\n",
       "  </thead>\n",
       "  <tbody>\n",
       "    <tr>\n",
       "      <th>0</th>\n",
       "      <td>0.254013</td>\n",
       "      <td>-0.620303</td>\n",
       "      <td>0.082658</td>\n",
       "      <td>1.300437</td>\n",
       "    </tr>\n",
       "    <tr>\n",
       "      <th>4</th>\n",
       "      <td>0.490676</td>\n",
       "      <td>-0.490781</td>\n",
       "      <td>-0.143141</td>\n",
       "      <td>-0.408220</td>\n",
       "    </tr>\n",
       "    <tr>\n",
       "      <th>5</th>\n",
       "      <td>0.507764</td>\n",
       "      <td>-0.365741</td>\n",
       "      <td>0.566505</td>\n",
       "      <td>-0.122626</td>\n",
       "    </tr>\n",
       "    <tr>\n",
       "      <th>3</th>\n",
       "      <td>1.560785</td>\n",
       "      <td>0.278674</td>\n",
       "      <td>0.786644</td>\n",
       "      <td>-0.379980</td>\n",
       "    </tr>\n",
       "    <tr>\n",
       "      <th>1</th>\n",
       "      <td>-0.092307</td>\n",
       "      <td>0.961911</td>\n",
       "      <td>0.294819</td>\n",
       "      <td>0.756098</td>\n",
       "    </tr>\n",
       "    <tr>\n",
       "      <th>2</th>\n",
       "      <td>-1.192324</td>\n",
       "      <td>1.607205</td>\n",
       "      <td>-0.096637</td>\n",
       "      <td>-1.835685</td>\n",
       "    </tr>\n",
       "  </tbody>\n",
       "</table>\n",
       "</div>"
      ],
      "text/plain": [
       "          A         B         C         D\n",
       "0  0.254013 -0.620303  0.082658  1.300437\n",
       "4  0.490676 -0.490781 -0.143141 -0.408220\n",
       "5  0.507764 -0.365741  0.566505 -0.122626\n",
       "3  1.560785  0.278674  0.786644 -0.379980\n",
       "1 -0.092307  0.961911  0.294819  0.756098\n",
       "2 -1.192324  1.607205 -0.096637 -1.835685"
      ]
     },
     "execution_count": 39,
     "metadata": {},
     "output_type": "execute_result"
    }
   ],
   "source": [
    "df.sort_values(by='B')"
   ]
  },
  {
   "cell_type": "markdown",
   "metadata": {},
   "source": [
    "<b><font size='5' color='ff0000'>注意：默认的数字行索引切片，是不包括尾巴结点的。</font></b>"
   ]
  },
  {
   "cell_type": "code",
   "execution_count": 40,
   "metadata": {},
   "outputs": [
    {
     "data": {
      "text/html": [
       "<div>\n",
       "<style scoped>\n",
       "    .dataframe tbody tr th:only-of-type {\n",
       "        vertical-align: middle;\n",
       "    }\n",
       "\n",
       "    .dataframe tbody tr th {\n",
       "        vertical-align: top;\n",
       "    }\n",
       "\n",
       "    .dataframe thead th {\n",
       "        text-align: right;\n",
       "    }\n",
       "</style>\n",
       "<table border=\"1\" class=\"dataframe\">\n",
       "  <thead>\n",
       "    <tr style=\"text-align: right;\">\n",
       "      <th></th>\n",
       "      <th>A</th>\n",
       "      <th>B</th>\n",
       "      <th>C</th>\n",
       "      <th>D</th>\n",
       "    </tr>\n",
       "  </thead>\n",
       "  <tbody>\n",
       "    <tr>\n",
       "      <th>3</th>\n",
       "      <td>1.560785</td>\n",
       "      <td>0.278674</td>\n",
       "      <td>0.786644</td>\n",
       "      <td>-0.37998</td>\n",
       "    </tr>\n",
       "    <tr>\n",
       "      <th>4</th>\n",
       "      <td>0.490676</td>\n",
       "      <td>-0.490781</td>\n",
       "      <td>-0.143141</td>\n",
       "      <td>-0.40822</td>\n",
       "    </tr>\n",
       "  </tbody>\n",
       "</table>\n",
       "</div>"
      ],
      "text/plain": [
       "          A         B         C        D\n",
       "3  1.560785  0.278674  0.786644 -0.37998\n",
       "4  0.490676 -0.490781 -0.143141 -0.40822"
      ]
     },
     "execution_count": 40,
     "metadata": {},
     "output_type": "execute_result"
    }
   ],
   "source": [
    "df[3:5]"
   ]
  },
  {
   "cell_type": "markdown",
   "metadata": {},
   "source": [
    "这里使用中括号里面嵌套中括号的语法，很常用，要留意。"
   ]
  },
  {
   "cell_type": "code",
   "execution_count": 41,
   "metadata": {},
   "outputs": [
    {
     "data": {
      "text/html": [
       "<div>\n",
       "<style scoped>\n",
       "    .dataframe tbody tr th:only-of-type {\n",
       "        vertical-align: middle;\n",
       "    }\n",
       "\n",
       "    .dataframe tbody tr th {\n",
       "        vertical-align: top;\n",
       "    }\n",
       "\n",
       "    .dataframe thead th {\n",
       "        text-align: right;\n",
       "    }\n",
       "</style>\n",
       "<table border=\"1\" class=\"dataframe\">\n",
       "  <thead>\n",
       "    <tr style=\"text-align: right;\">\n",
       "      <th></th>\n",
       "      <th>A</th>\n",
       "      <th>B</th>\n",
       "      <th>D</th>\n",
       "    </tr>\n",
       "  </thead>\n",
       "  <tbody>\n",
       "    <tr>\n",
       "      <th>0</th>\n",
       "      <td>0.254013</td>\n",
       "      <td>-0.620303</td>\n",
       "      <td>1.300437</td>\n",
       "    </tr>\n",
       "    <tr>\n",
       "      <th>1</th>\n",
       "      <td>-0.092307</td>\n",
       "      <td>0.961911</td>\n",
       "      <td>0.756098</td>\n",
       "    </tr>\n",
       "    <tr>\n",
       "      <th>2</th>\n",
       "      <td>-1.192324</td>\n",
       "      <td>1.607205</td>\n",
       "      <td>-1.835685</td>\n",
       "    </tr>\n",
       "    <tr>\n",
       "      <th>3</th>\n",
       "      <td>1.560785</td>\n",
       "      <td>0.278674</td>\n",
       "      <td>-0.379980</td>\n",
       "    </tr>\n",
       "    <tr>\n",
       "      <th>4</th>\n",
       "      <td>0.490676</td>\n",
       "      <td>-0.490781</td>\n",
       "      <td>-0.408220</td>\n",
       "    </tr>\n",
       "    <tr>\n",
       "      <th>5</th>\n",
       "      <td>0.507764</td>\n",
       "      <td>-0.365741</td>\n",
       "      <td>-0.122626</td>\n",
       "    </tr>\n",
       "  </tbody>\n",
       "</table>\n",
       "</div>"
      ],
      "text/plain": [
       "          A         B         D\n",
       "0  0.254013 -0.620303  1.300437\n",
       "1 -0.092307  0.961911  0.756098\n",
       "2 -1.192324  1.607205 -1.835685\n",
       "3  1.560785  0.278674 -0.379980\n",
       "4  0.490676 -0.490781 -0.408220\n",
       "5  0.507764 -0.365741 -0.122626"
      ]
     },
     "execution_count": 41,
     "metadata": {},
     "output_type": "execute_result"
    }
   ],
   "source": [
    "df[['A', 'B', 'D']]"
   ]
  },
  {
   "cell_type": "markdown",
   "metadata": {},
   "source": [
    "<b><font size='3' color='ff0000'>先索引了一行，再选取了一列，其实就是选择了单元格的一个数字。</font></b>"
   ]
  },
  {
   "cell_type": "code",
   "execution_count": 42,
   "metadata": {},
   "outputs": [
    {
     "data": {
      "text/plain": [
       "1.5607854004582509"
      ]
     },
     "execution_count": 42,
     "metadata": {},
     "output_type": "execute_result"
    }
   ],
   "source": [
    "df.loc[3, 'A']"
   ]
  },
  {
   "cell_type": "markdown",
   "metadata": {},
   "source": [
    "<b><font size='3' color='ff0000'>使用 iloc 就是都使用数字。</font></b>"
   ]
  },
  {
   "cell_type": "code",
   "execution_count": 43,
   "metadata": {},
   "outputs": [
    {
     "data": {
      "text/plain": [
       "1.5607854004582509"
      ]
     },
     "execution_count": 43,
     "metadata": {},
     "output_type": "execute_result"
    }
   ],
   "source": [
    "df.iloc[3, 0]"
   ]
  },
  {
   "cell_type": "code",
   "execution_count": 44,
   "metadata": {},
   "outputs": [
    {
     "data": {
      "text/html": [
       "<div>\n",
       "<style scoped>\n",
       "    .dataframe tbody tr th:only-of-type {\n",
       "        vertical-align: middle;\n",
       "    }\n",
       "\n",
       "    .dataframe tbody tr th {\n",
       "        vertical-align: top;\n",
       "    }\n",
       "\n",
       "    .dataframe thead th {\n",
       "        text-align: right;\n",
       "    }\n",
       "</style>\n",
       "<table border=\"1\" class=\"dataframe\">\n",
       "  <thead>\n",
       "    <tr style=\"text-align: right;\">\n",
       "      <th></th>\n",
       "      <th>A</th>\n",
       "      <th>B</th>\n",
       "    </tr>\n",
       "  </thead>\n",
       "  <tbody>\n",
       "    <tr>\n",
       "      <th>2</th>\n",
       "      <td>-1.192324</td>\n",
       "      <td>1.607205</td>\n",
       "    </tr>\n",
       "    <tr>\n",
       "      <th>3</th>\n",
       "      <td>1.560785</td>\n",
       "      <td>0.278674</td>\n",
       "    </tr>\n",
       "    <tr>\n",
       "      <th>4</th>\n",
       "      <td>0.490676</td>\n",
       "      <td>-0.490781</td>\n",
       "    </tr>\n",
       "  </tbody>\n",
       "</table>\n",
       "</div>"
      ],
      "text/plain": [
       "          A         B\n",
       "2 -1.192324  1.607205\n",
       "3  1.560785  0.278674\n",
       "4  0.490676 -0.490781"
      ]
     },
     "execution_count": 44,
     "metadata": {},
     "output_type": "execute_result"
    }
   ],
   "source": [
    "df.iloc[2:5, 0:2]"
   ]
  },
  {
   "cell_type": "code",
   "execution_count": 45,
   "metadata": {},
   "outputs": [
    {
     "data": {
      "text/html": [
       "<div>\n",
       "<style scoped>\n",
       "    .dataframe tbody tr th:only-of-type {\n",
       "        vertical-align: middle;\n",
       "    }\n",
       "\n",
       "    .dataframe tbody tr th {\n",
       "        vertical-align: top;\n",
       "    }\n",
       "\n",
       "    .dataframe thead th {\n",
       "        text-align: right;\n",
       "    }\n",
       "</style>\n",
       "<table border=\"1\" class=\"dataframe\">\n",
       "  <thead>\n",
       "    <tr style=\"text-align: right;\">\n",
       "      <th></th>\n",
       "      <th>A</th>\n",
       "      <th>B</th>\n",
       "      <th>C</th>\n",
       "      <th>D</th>\n",
       "    </tr>\n",
       "  </thead>\n",
       "  <tbody>\n",
       "    <tr>\n",
       "      <th>0</th>\n",
       "      <td>0.254013</td>\n",
       "      <td>-0.620303</td>\n",
       "      <td>0.082658</td>\n",
       "      <td>1.300437</td>\n",
       "    </tr>\n",
       "    <tr>\n",
       "      <th>1</th>\n",
       "      <td>-0.092307</td>\n",
       "      <td>0.961911</td>\n",
       "      <td>0.294819</td>\n",
       "      <td>0.756098</td>\n",
       "    </tr>\n",
       "    <tr>\n",
       "      <th>3</th>\n",
       "      <td>1.560785</td>\n",
       "      <td>0.278674</td>\n",
       "      <td>0.786644</td>\n",
       "      <td>-0.379980</td>\n",
       "    </tr>\n",
       "    <tr>\n",
       "      <th>5</th>\n",
       "      <td>0.507764</td>\n",
       "      <td>-0.365741</td>\n",
       "      <td>0.566505</td>\n",
       "      <td>-0.122626</td>\n",
       "    </tr>\n",
       "  </tbody>\n",
       "</table>\n",
       "</div>"
      ],
      "text/plain": [
       "          A         B         C         D\n",
       "0  0.254013 -0.620303  0.082658  1.300437\n",
       "1 -0.092307  0.961911  0.294819  0.756098\n",
       "3  1.560785  0.278674  0.786644 -0.379980\n",
       "5  0.507764 -0.365741  0.566505 -0.122626"
      ]
     },
     "execution_count": 45,
     "metadata": {},
     "output_type": "execute_result"
    }
   ],
   "source": [
    "df[df.C > 0]"
   ]
  },
  {
   "cell_type": "markdown",
   "metadata": {},
   "source": [
    "### 直接创建一列"
   ]
  },
  {
   "cell_type": "code",
   "execution_count": 46,
   "metadata": {},
   "outputs": [
    {
     "data": {
      "text/html": [
       "<div>\n",
       "<style scoped>\n",
       "    .dataframe tbody tr th:only-of-type {\n",
       "        vertical-align: middle;\n",
       "    }\n",
       "\n",
       "    .dataframe tbody tr th {\n",
       "        vertical-align: top;\n",
       "    }\n",
       "\n",
       "    .dataframe thead th {\n",
       "        text-align: right;\n",
       "    }\n",
       "</style>\n",
       "<table border=\"1\" class=\"dataframe\">\n",
       "  <thead>\n",
       "    <tr style=\"text-align: right;\">\n",
       "      <th></th>\n",
       "      <th>A</th>\n",
       "      <th>B</th>\n",
       "      <th>C</th>\n",
       "      <th>D</th>\n",
       "      <th>TAG</th>\n",
       "    </tr>\n",
       "  </thead>\n",
       "  <tbody>\n",
       "    <tr>\n",
       "      <th>0</th>\n",
       "      <td>0.254013</td>\n",
       "      <td>-0.620303</td>\n",
       "      <td>0.082658</td>\n",
       "      <td>1.300437</td>\n",
       "      <td>cat</td>\n",
       "    </tr>\n",
       "    <tr>\n",
       "      <th>1</th>\n",
       "      <td>-0.092307</td>\n",
       "      <td>0.961911</td>\n",
       "      <td>0.294819</td>\n",
       "      <td>0.756098</td>\n",
       "      <td>dog</td>\n",
       "    </tr>\n",
       "    <tr>\n",
       "      <th>2</th>\n",
       "      <td>-1.192324</td>\n",
       "      <td>1.607205</td>\n",
       "      <td>-0.096637</td>\n",
       "      <td>-1.835685</td>\n",
       "      <td>cat</td>\n",
       "    </tr>\n",
       "    <tr>\n",
       "      <th>3</th>\n",
       "      <td>1.560785</td>\n",
       "      <td>0.278674</td>\n",
       "      <td>0.786644</td>\n",
       "      <td>-0.379980</td>\n",
       "      <td>cat</td>\n",
       "    </tr>\n",
       "    <tr>\n",
       "      <th>4</th>\n",
       "      <td>0.490676</td>\n",
       "      <td>-0.490781</td>\n",
       "      <td>-0.143141</td>\n",
       "      <td>-0.408220</td>\n",
       "      <td>cat</td>\n",
       "    </tr>\n",
       "    <tr>\n",
       "      <th>5</th>\n",
       "      <td>0.507764</td>\n",
       "      <td>-0.365741</td>\n",
       "      <td>0.566505</td>\n",
       "      <td>-0.122626</td>\n",
       "      <td>dog</td>\n",
       "    </tr>\n",
       "  </tbody>\n",
       "</table>\n",
       "</div>"
      ],
      "text/plain": [
       "          A         B         C         D  TAG\n",
       "0  0.254013 -0.620303  0.082658  1.300437  cat\n",
       "1 -0.092307  0.961911  0.294819  0.756098  dog\n",
       "2 -1.192324  1.607205 -0.096637 -1.835685  cat\n",
       "3  1.560785  0.278674  0.786644 -0.379980  cat\n",
       "4  0.490676 -0.490781 -0.143141 -0.408220  cat\n",
       "5  0.507764 -0.365741  0.566505 -0.122626  dog"
      ]
     },
     "execution_count": 46,
     "metadata": {},
     "output_type": "execute_result"
    }
   ],
   "source": [
    "df[\"TAG\"] = [\"cat\", \"dog\", \"cat\", \"cat\", \"cat\", \"dog\"]\n",
    "df"
   ]
  },
  {
   "cell_type": "markdown",
   "metadata": {},
   "source": [
    "## 聚合函数\n",
    "\n",
    "<b><font size='3' color='ff0000'>groupby 后面跟的都是类别变量，只有少数类别的，不能跟连续型变量，如果是连续型变量毫无意义。</font></b>"
   ]
  },
  {
   "cell_type": "code",
   "execution_count": 47,
   "metadata": {},
   "outputs": [
    {
     "data": {
      "text/html": [
       "<div>\n",
       "<style scoped>\n",
       "    .dataframe tbody tr th:only-of-type {\n",
       "        vertical-align: middle;\n",
       "    }\n",
       "\n",
       "    .dataframe tbody tr th {\n",
       "        vertical-align: top;\n",
       "    }\n",
       "\n",
       "    .dataframe thead th {\n",
       "        text-align: right;\n",
       "    }\n",
       "</style>\n",
       "<table border=\"1\" class=\"dataframe\">\n",
       "  <thead>\n",
       "    <tr style=\"text-align: right;\">\n",
       "      <th></th>\n",
       "      <th>A</th>\n",
       "      <th>B</th>\n",
       "      <th>C</th>\n",
       "      <th>D</th>\n",
       "    </tr>\n",
       "    <tr>\n",
       "      <th>TAG</th>\n",
       "      <th></th>\n",
       "      <th></th>\n",
       "      <th></th>\n",
       "      <th></th>\n",
       "    </tr>\n",
       "  </thead>\n",
       "  <tbody>\n",
       "    <tr>\n",
       "      <th>cat</th>\n",
       "      <td>1.113151</td>\n",
       "      <td>0.774795</td>\n",
       "      <td>0.629524</td>\n",
       "      <td>-1.323448</td>\n",
       "    </tr>\n",
       "    <tr>\n",
       "      <th>dog</th>\n",
       "      <td>0.415457</td>\n",
       "      <td>0.596170</td>\n",
       "      <td>0.861324</td>\n",
       "      <td>0.633471</td>\n",
       "    </tr>\n",
       "  </tbody>\n",
       "</table>\n",
       "</div>"
      ],
      "text/plain": [
       "            A         B         C         D\n",
       "TAG                                        \n",
       "cat  1.113151  0.774795  0.629524 -1.323448\n",
       "dog  0.415457  0.596170  0.861324  0.633471"
      ]
     },
     "execution_count": 47,
     "metadata": {},
     "output_type": "execute_result"
    }
   ],
   "source": [
    "df.groupby('TAG').sum()"
   ]
  },
  {
   "cell_type": "markdown",
   "metadata": {},
   "source": [
    "## 时间序列\n",
    "\n",
    "<b><font size='3' color='ff0000'>搞这么复杂的名字，其实时间序列，就是索引是时间格式的 Series 和 DataFrame。</font></b>"
   ]
  },
  {
   "cell_type": "code",
   "execution_count": 48,
   "metadata": {},
   "outputs": [
    {
     "name": "stdout",
     "output_type": "stream",
     "text": [
      "(366,)\n"
     ]
    },
    {
     "data": {
      "text/plain": [
       "2000-01-01   -2.804770\n",
       "2000-01-02   -1.361080\n",
       "2000-01-03   -0.894256\n",
       "2000-01-04   -0.540553\n",
       "2000-01-05   -0.187660\n",
       "Freq: D, dtype: float64"
      ]
     },
     "execution_count": 48,
     "metadata": {},
     "output_type": "execute_result"
    }
   ],
   "source": [
    "n_items = 366\n",
    "ts = pd.Series(np.random.randn(n_items),\n",
    "               index=pd.date_range('20000101', periods=n_items))\n",
    "print(ts.shape)\n",
    "ts.head(5)"
   ]
  },
  {
   "cell_type": "markdown",
   "metadata": {},
   "source": [
    "## 时间重采样"
   ]
  },
  {
   "cell_type": "code",
   "execution_count": 50,
   "metadata": {},
   "outputs": [
    {
     "data": {
      "text/plain": [
       "2000-01-31   -7.669922\n",
       "2000-02-29   -0.143307\n",
       "2000-03-31   -8.484299\n",
       "2000-04-30    0.098964\n",
       "2000-05-31   -4.450546\n",
       "2000-06-30    5.074048\n",
       "2000-07-31    5.400591\n",
       "2000-08-31   -3.604514\n",
       "2000-09-30   -3.136944\n",
       "2000-10-31    0.108908\n",
       "2000-11-30   -0.160536\n",
       "2000-12-31   -6.890979\n",
       "Freq: M, dtype: float64"
      ]
     },
     "execution_count": 50,
     "metadata": {},
     "output_type": "execute_result"
    }
   ],
   "source": [
    "# 这是降采样，所以要用聚合函数\n",
    "ts.resample(\"1m\").sum()"
   ]
  },
  {
   "cell_type": "code",
   "execution_count": 52,
   "metadata": {},
   "outputs": [
    {
     "data": {
      "text/plain": [
       "<matplotlib.axes._subplots.AxesSubplot at 0x1211c6208>"
      ]
     },
     "execution_count": 52,
     "metadata": {},
     "output_type": "execute_result"
    },
    {
     "data": {
      "image/png": "[encoded data removed]",
      "text/plain": [
       "<Figure size 1000x600 with 1 Axes>"
      ]
     },
     "metadata": {
      "image/png": {
       "height": 514,
       "width": 835
      },
      "needs_background": "light"
     },
     "output_type": "display_data"
    }
   ],
   "source": [
    "plt.figure(figsize=(10, 6), dpi=100)\n",
    "cs = ts.cumsum()\n",
    "cs.plot()"
   ]
  },
  {
   "cell_type": "code",
   "execution_count": 54,
   "metadata": {},
   "outputs": [
    {
     "data": {
      "image/png": "[encoded data removed]",
      "text/plain": [
       "<Figure size 1000x600 with 1 Axes>"
      ]
     },
     "metadata": {
      "image/png": {
       "height": 633,
       "width": 826
      },
      "needs_background": "light"
     },
     "output_type": "display_data"
    }
   ],
   "source": [
    "plt.figure(figsize=(10, 6), dpi=100)\n",
    "ts.resample(\"1m\").sum().plot.bar()\n",
    "plt.show()"
   ]
  },
  {
   "cell_type": "markdown",
   "metadata": {},
   "source": [
    "## 文件读写"
   ]
  },
  {
   "cell_type": "code",
   "execution_count": 55,
   "metadata": {
    "collapsed": true
   },
   "outputs": [],
   "source": [
    "df = pd.DataFrame(np.random.randn(100, 4), columns=list('ABCD'))\n",
    "df.to_csv('data.csv')"
   ]
  },
  {
   "cell_type": "code",
   "execution_count": 59,
   "metadata": {},
   "outputs": [
    {
     "name": "stdout",
     "output_type": "stream",
     "text": [
      ",A,B,C,D\r\n",
      "0,-0.11623330521244596,0.2986608980986241,0.159419646259822,1.4813001445235647\r\n",
      "1,-0.39352572203056674,0.9539831455584568,-2.1196425465555238,1.4429895666111032\r\n",
      "2,0.05517109020752446,1.655804300404767,1.1429467994068336,0.04568713110147198\r\n",
      "3,-0.12369482008538515,-0.7170471251490386,0.5202770646160415,-0.06626349370628713\r\n",
      "4,-0.7490804397042707,1.0392555113153588,-0.5451625848645656,-1.2872560068481544\r\n",
      "5,0.029145754543070553,0.25250899851810216,-1.0281524289919197,0.9749274614552942\r\n",
      "6,-0.9493098108781156,-1.0980644719825041,0.27571982094104275,0.8283224342601891\r\n",
      "7,0.38134946387880975,0.0934700321925778,-0.40755019462722264,0.8722026886729326\r\n",
      "8,1.8335869620551133,-1.4500445990911914,-0.6178990658171977,-0.4012682505496615\r\n"
     ]
    }
   ],
   "source": [
    "# 可以看到，索引也被输出了\n",
    "!head data.csv"
   ]
  },
  {
   "cell_type": "markdown",
   "metadata": {},
   "source": [
    "<b><font size='3' color='ff0000'>上面，索引被输出成单独的一列，所以，读进来的时候，要设置哪一列是索引列。</font></b>"
   ]
  },
  {
   "cell_type": "code",
   "execution_count": 60,
   "metadata": {
    "scrolled": true
   },
   "outputs": [
    {
     "name": "stdout",
     "output_type": "stream",
     "text": [
      "(100, 4)\n"
     ]
    },
    {
     "data": {
      "text/html": [
       "<div>\n",
       "<style scoped>\n",
       "    .dataframe tbody tr th:only-of-type {\n",
       "        vertical-align: middle;\n",
       "    }\n",
       "\n",
       "    .dataframe tbody tr th {\n",
       "        vertical-align: top;\n",
       "    }\n",
       "\n",
       "    .dataframe thead th {\n",
       "        text-align: right;\n",
       "    }\n",
       "</style>\n",
       "<table border=\"1\" class=\"dataframe\">\n",
       "  <thead>\n",
       "    <tr style=\"text-align: right;\">\n",
       "      <th></th>\n",
       "      <th>A</th>\n",
       "      <th>B</th>\n",
       "      <th>C</th>\n",
       "      <th>D</th>\n",
       "    </tr>\n",
       "  </thead>\n",
       "  <tbody>\n",
       "    <tr>\n",
       "      <th>0</th>\n",
       "      <td>-0.116233</td>\n",
       "      <td>0.298661</td>\n",
       "      <td>0.159420</td>\n",
       "      <td>1.481300</td>\n",
       "    </tr>\n",
       "    <tr>\n",
       "      <th>1</th>\n",
       "      <td>-0.393526</td>\n",
       "      <td>0.953983</td>\n",
       "      <td>-2.119643</td>\n",
       "      <td>1.442990</td>\n",
       "    </tr>\n",
       "    <tr>\n",
       "      <th>2</th>\n",
       "      <td>0.055171</td>\n",
       "      <td>1.655804</td>\n",
       "      <td>1.142947</td>\n",
       "      <td>0.045687</td>\n",
       "    </tr>\n",
       "    <tr>\n",
       "      <th>3</th>\n",
       "      <td>-0.123695</td>\n",
       "      <td>-0.717047</td>\n",
       "      <td>0.520277</td>\n",
       "      <td>-0.066263</td>\n",
       "    </tr>\n",
       "    <tr>\n",
       "      <th>4</th>\n",
       "      <td>-0.749080</td>\n",
       "      <td>1.039256</td>\n",
       "      <td>-0.545163</td>\n",
       "      <td>-1.287256</td>\n",
       "    </tr>\n",
       "  </tbody>\n",
       "</table>\n",
       "</div>"
      ],
      "text/plain": [
       "          A         B         C         D\n",
       "0 -0.116233  0.298661  0.159420  1.481300\n",
       "1 -0.393526  0.953983 -2.119643  1.442990\n",
       "2  0.055171  1.655804  1.142947  0.045687\n",
       "3 -0.123695 -0.717047  0.520277 -0.066263\n",
       "4 -0.749080  1.039256 -0.545163 -1.287256"
      ]
     },
     "execution_count": 60,
     "metadata": {},
     "output_type": "execute_result"
    }
   ],
   "source": [
    "df = pd.read_csv('data.csv', index_col=0)\n",
    "print(df.shape)\n",
    "df.head(5)"
   ]
  },
  {
   "cell_type": "markdown",
   "metadata": {},
   "source": [
    "下面是 liwei 总结：\n",
    "\n",
    "其实 Pandas 读写和对数据的操作都比较死板，用多了，就熟悉了。要多查询，多用，用多了就觉得很简单了。"
   ]
  }
 ],
 "metadata": {
  "kernelspec": {
   "display_name": "Python 3",
   "language": "python",
   "name": "python3"
  },
  "language_info": {
   "codemirror_mode": {
    "name": "ipython",
    "version": 3
   },
   "file_extension": ".py",
   "mimetype": "text/x-python",
   "name": "python",
   "nbconvert_exporter": "python",
   "pygments_lexer": "ipython3",
   "version": "3.6.1"
  }
 },
 "nbformat": 4,
 "nbformat_minor": 2
}
