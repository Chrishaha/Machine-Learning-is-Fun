{
 "cells": [
  {
   "cell_type": "markdown",
   "metadata": {},
   "source": [
    "# 1、什么是 PCA"
   ]
  },
  {
   "cell_type": "markdown",
   "metadata": {},
   "source": [
    "## 什么是 PCA\n",
    "\n",
    "+ PCA 是一种无监督学习算法，可以达到降维的效果。"
   ]
  },
  {
   "cell_type": "markdown",
   "metadata": {},
   "source": [
    "## 降维的思路和好处\n",
    "\n",
    "+ 降维以后应该尽量保留原来的点的特征。找到一个轴，使得样本空间的所有点映射到这个轴后，方差最大。\n",
    "+ 降维的好处：帮助我们更清晰地认识数据，因为降维以后，我们可以进行可视化。另外，维度降低以后，计算的工作量也会减少，可以达到提速的效果（虽然，在降维的过程中我们会损失精度）。另外，降维还有消除噪声的功能，在后面的例子中，我们会看到，降维以后，我们的预测准确度反而提升了，因为，我们丢失了一定数据量的同时，也消除了噪音。"
   ]
  },
  {
   "cell_type": "markdown",
   "metadata": {},
   "source": [
    "## 如何压缩维度，用低维度数据表示高维度数据\n",
    "\n",
    "1、demean 去均值；\n",
    "\n",
    "2、找到一个方向，使得数据压缩到这个方向以后的方差最大，此时，问题就转化为找到一个单位向量，所有的点映射到这个单位向量以后，方差最大，这是第一主方向，方差第二大的方向是第二主方向。"
   ]
  },
  {
   "cell_type": "markdown",
   "metadata": {},
   "source": [
    "## 注意事项\n",
    "\n",
    "1、在主成分分析 PCA 中，我们对数据的预处理，只有去均值化，并没有将数据的标准差处理成 1，这是要注意的一点，即 PCA 的数据预处理只有 dmean；\n",
    "\n",
    "2、在我们的理论推导中，有一个假设是 $||w|| = 1$ ，在实现的过程中一定不要忘记这一点。\n"
   ]
  },
  {
   "cell_type": "markdown",
   "metadata": {},
   "source": [
    "## PCA 的目标函数和最优化方向"
   ]
  },
  {
   "cell_type": "markdown",
   "metadata": {},
   "source": [
    "目标函数：\n",
    "$$\n",
    "Var(X_{project}) = \\cfrac{1}{m} \\sum_{i=1}^{m} (X^{(i)} \\cdot w)^2\n",
    "$$\n",
    "\n",
    "求 $w$ 使得目标函数最大。"
   ]
  },
  {
   "cell_type": "markdown",
   "metadata": {},
   "source": [
    "+ $X^{(i)} \\cdot w$ 表示一个数据点在某个方向上的投影，平方是为了消除投影正负相抵消的影响。\n",
    "+ 最优化的方向是求函数的极大值点，这一点和我们定义损失函数求损失函数的最小值是相反的。\n",
    "+ 所以我们应该使用梯度上升法。"
   ]
  },
  {
   "cell_type": "markdown",
   "metadata": {},
   "source": [
    "# 使用“梯度上升法”求解 PCA 问题\n",
    "\n",
    "因为求使得目标函数取得最大值的问题（投影以后方差最大），所以使用梯度上升法。  \n",
    "要用纸笔算一算梯度的表达式。  \n",
    "$$\n",
    "\\nabla f = \\cfrac{2}{m} \\cdot X^{T}(Xw)\n",
    "$$"
   ]
  }
 ],
 "metadata": {
  "kernelspec": {
   "display_name": "Python 3",
   "language": "python",
   "name": "python3"
  },
  "language_info": {
   "codemirror_mode": {
    "name": "ipython",
    "version": 3
   },
   "file_extension": ".py",
   "mimetype": "text/x-python",
   "name": "python",
   "nbconvert_exporter": "python",
   "pygments_lexer": "ipython3",
   "version": "3.6.1"
  }
 },
 "nbformat": 4,
 "nbformat_minor": 2
}
