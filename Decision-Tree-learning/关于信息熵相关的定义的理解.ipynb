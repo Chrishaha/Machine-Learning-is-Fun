{
 "cells": [
  {
   "cell_type": "markdown",
   "metadata": {},
   "source": [
    "\n",
    "## 4、互信息\n",
    "+ 根据信息熵和条件熵的公式，马上可以计算出：\n",
    "$$\n",
    "\\begin{aligned}\n",
    "H(Y) - H(Y|X)&=-\\sum_{y \\in Y}p(y)\\log p(y) - \\sum_{x\\in X} p(x)H(Y|X=x)\\\\\n",
    "&=-\\sum_{y \\in Y}\\left( \\sum_{x \\in X} p(x,y) \\right)\\log p(y) + \\sum_{x\\in X} p(x)\\sum_{y\\in Y}p(y|x)\\log p(y|x)\\\\\n",
    "&=-\\sum_{y \\in Y}\\sum_{x \\in X} p(x,y) \\log p(y) + \\sum_{x\\in X} \\sum_{y\\in Y}p(y,x)\\log p(y|x)\\\\\n",
    "&=\\sum_{x\\in X} \\sum_{y\\in Y}p(x,y)\\log \\frac{p(y|x)}{p(y)}\\\\\n",
    "&=\\sum_{x\\in X} \\sum_{y\\in Y}p(x,y)\\log \\frac{p(x,y)}{p(x)p(y)}.\n",
    "\\end{aligned}\n",
    "$$\n",
    "同理，\n",
    "\n",
    "$$\n",
    "\\begin{aligned}\n",
    "H(X) - H(X|Y)&=-\\sum_{x \\in X}p(x)\\log p(x) - \\sum_{y\\in Y} p(y)H(X|Y=y)\\\\\n",
    "&=-\\sum_{x \\in X}\\left( \\sum_{y \\in Y} p(x,y) \\right)\\log p(x) + \\sum_{y\\in Y} p(y)\\sum_{x\\in X}p(x|y)\\log p(x|y)\\\\\n",
    "&=-\\sum_{x \\in X}\\sum_{y \\in Y} p(x,y) \\log p(x) + \\sum_{y\\in Y} \\sum_{x\\in X}p(x,y)\\log p(x|y)\\\\\n",
    "&=\\sum_{y\\in Y} \\sum_{x\\in X}p(x,y)\\log \\frac{p(x|y)}{p(x)}\\\\\n",
    "&=\\sum_{y\\in Y} \\sum_{x\\in X}p(x,y)\\log \\frac{p(x,y)}{p(x)p(y)}.\n",
    "\\end{aligned}\n",
    "$$\n",
    "\n",
    "因此：\n",
    "$$\n",
    "H(Y) - H(Y|X) = H(X) - H(X|Y).\n",
    "$$\n",
    "定义互信息：\n",
    "$$\n",
    "I(X,Y) = H(Y) - H(Y|X) = H(X) - H(X|Y).\n",
    "$$\n",
    "\n",
    "+ 因此，互信息就是信息增益。\n",
    "\n",
    "通过下图可以理解上面的数学推导表示的含义。\n",
    "\n",
    "![Jietu20180915-200815@2x.jpg](https://upload-images.jianshu.io/upload_images/414598-41c2ad52e7df4857.jpg?imageMogr2/auto-orient/strip%7CimageView2/2/w/1240)\n",
    "\n",
    "这一篇幅先写这么多，后面再写联合熵、相对熵、交叉熵，把这些概率理清楚。"
   ]
  },
  {
   "cell_type": "code",
   "execution_count": null,
   "metadata": {
    "collapsed": true
   },
   "outputs": [],
   "source": []
  }
 ],
 "metadata": {
  "kernelspec": {
   "display_name": "Python 3",
   "language": "python",
   "name": "python3"
  },
  "language_info": {
   "codemirror_mode": {
    "name": "ipython",
    "version": 3
   },
   "file_extension": ".py",
   "mimetype": "text/x-python",
   "name": "python",
   "nbconvert_exporter": "python",
   "pygments_lexer": "ipython3",
   "version": "3.6.1"
  }
 },
 "nbformat": 4,
 "nbformat_minor": 2
}
