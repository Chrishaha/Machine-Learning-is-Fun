{
 "cells": [
  {
   "cell_type": "markdown",
   "metadata": {},
   "source": [
    "# StratifiedKFold 与 KFold "
   ]
  },
  {
   "cell_type": "markdown",
   "metadata": {},
   "source": [
    "## StratifiedKFold"
   ]
  },
  {
   "cell_type": "markdown",
   "metadata": {},
   "source": [
    "`StratifiedKFold` 是分层 `KFold` 的意思。"
   ]
  },
  {
   "cell_type": "code",
   "execution_count": 1,
   "metadata": {
    "collapsed": true
   },
   "outputs": [],
   "source": [
    "import numpy as np\n",
    "\n",
    "from sklearn.model_selection import StratifiedKFold\n",
    "\n",
    "\n",
    "X = [[i] for i in range(100)]\n",
    "y = ['A'] * 30 + ['B'] * 30 + ['C'] * 30 + ['D'] * 10"
   ]
  },
  {
   "cell_type": "code",
   "execution_count": 4,
   "metadata": {},
   "outputs": [
    {
     "name": "stdout",
     "output_type": "stream",
     "text": [
      "{'A': 27, 'B': 27, 'C': 27, 'D': 9}\n",
      "{'A': 27, 'B': 27, 'C': 27, 'D': 9}\n",
      "{'A': 27, 'B': 27, 'C': 27, 'D': 9}\n",
      "{'A': 27, 'B': 27, 'C': 27, 'D': 9}\n",
      "{'A': 27, 'B': 27, 'C': 27, 'D': 9}\n",
      "{'A': 27, 'B': 27, 'C': 27, 'D': 9}\n",
      "{'A': 27, 'B': 27, 'C': 27, 'D': 9}\n",
      "{'A': 27, 'B': 27, 'C': 27, 'D': 9}\n",
      "{'A': 27, 'B': 27, 'C': 27, 'D': 9}\n",
      "{'A': 27, 'B': 27, 'C': 27, 'D': 9}\n"
     ]
    }
   ],
   "source": [
    "skf = StratifiedKFold(n_splits=10)\n",
    "for train_index, test_index in skf.split(X, y):\n",
    "    # print('train_index,', len(train_index), 'test_index,', len(test_index))\n",
    "    class_dict = {}\n",
    "    for index in train_index:\n",
    "        # 做一个计数\n",
    "        class_dict[y[index]] = class_dict.setdefault(y[index], 0) + 1\n",
    "    print(class_dict)"
   ]
  },
  {
   "cell_type": "markdown",
   "metadata": {},
   "source": [
    "可以看到，`StratifiedKFold` 分成 $10$ 折，每一折里面 A、B、C、D 的比例都是一样的。"
   ]
  },
  {
   "cell_type": "markdown",
   "metadata": {},
   "source": [
    "---"
   ]
  },
  {
   "cell_type": "markdown",
   "metadata": {},
   "source": [
    "# KFold"
   ]
  },
  {
   "cell_type": "code",
   "execution_count": 9,
   "metadata": {},
   "outputs": [
    {
     "name": "stdout",
     "output_type": "stream",
     "text": [
      "KFold(n_splits=10, random_state=None, shuffle=False)\n"
     ]
    }
   ],
   "source": [
    "from sklearn.model_selection import KFold\n",
    "\n",
    "kf = KFold(n_splits=10)\n",
    "print(kf)"
   ]
  },
  {
   "cell_type": "markdown",
   "metadata": {},
   "source": [
    "可以看到 `KFold` 就不保证分出来的每个类别的占比都一致。"
   ]
  },
  {
   "cell_type": "code",
   "execution_count": 10,
   "metadata": {},
   "outputs": [
    {
     "name": "stdout",
     "output_type": "stream",
     "text": [
      "{'A': 20, 'B': 30, 'C': 30, 'D': 10}\n",
      "{'A': 20, 'B': 30, 'C': 30, 'D': 10}\n",
      "{'A': 20, 'B': 30, 'C': 30, 'D': 10}\n",
      "{'A': 30, 'B': 20, 'C': 30, 'D': 10}\n",
      "{'A': 30, 'B': 20, 'C': 30, 'D': 10}\n",
      "{'A': 30, 'B': 20, 'C': 30, 'D': 10}\n",
      "{'A': 30, 'B': 30, 'C': 20, 'D': 10}\n",
      "{'A': 30, 'B': 30, 'C': 20, 'D': 10}\n",
      "{'A': 30, 'B': 30, 'C': 20, 'D': 10}\n",
      "{'A': 30, 'B': 30, 'C': 30}\n"
     ]
    }
   ],
   "source": [
    "for train_index, test_index in kf.split(X, y):\n",
    "    # print('train_index,', len(train_index), 'test_index,', len(test_index))\n",
    "    class_dict = {}\n",
    "    for index in train_index:\n",
    "        # 做一个计数\n",
    "        class_dict[y[index]] = class_dict.setdefault(y[index], 0) + 1\n",
    "    print(class_dict)"
   ]
  }
 ],
 "metadata": {
  "kernelspec": {
   "display_name": "Python 3",
   "language": "python",
   "name": "python3"
  },
  "language_info": {
   "codemirror_mode": {
    "name": "ipython",
    "version": 3
   },
   "file_extension": ".py",
   "mimetype": "text/x-python",
   "name": "python",
   "nbconvert_exporter": "python",
   "pygments_lexer": "ipython3",
   "version": "3.6.1"
  },
  "toc": {
   "nav_menu": {},
   "number_sections": true,
   "sideBar": true,
   "skip_h1_title": false,
   "toc_cell": false,
   "toc_position": {},
   "toc_section_display": "block",
   "toc_window_display": false
  }
 },
 "nbformat": 4,
 "nbformat_minor": 2
}
