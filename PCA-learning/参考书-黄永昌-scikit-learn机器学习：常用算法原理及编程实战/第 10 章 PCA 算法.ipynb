{
 "cells": [
  {
   "cell_type": "markdown",
   "metadata": {},
   "source": [
    "# 第 10 章 PCA 算法"
   ]
  },
  {
   "cell_type": "markdown",
   "metadata": {},
   "source": [
    "---"
   ]
  },
  {
   "cell_type": "code",
   "execution_count": 1,
   "metadata": {
    "collapsed": true
   },
   "outputs": [],
   "source": [
    "import numpy as np\n",
    "\n",
    "from sklearn.preprocessing import MinMaxScaler\n",
    "from sklearn.decomposition import PCA\n",
    "from sklearn.pipeline import Pipeline\n",
    "\n",
    "np.set_printoptions(suppress=True)\n",
    "\n",
    "A = np.array([[3, 2000],\n",
    "              [2, 3000],\n",
    "              [4, 5000],\n",
    "              [5, 8000],\n",
    "              [1, 2000]], dtype=float)"
   ]
  },
  {
   "cell_type": "markdown",
   "metadata": {},
   "source": [
    "## 手写 PCA"
   ]
  },
  {
   "cell_type": "code",
   "execution_count": 2,
   "metadata": {},
   "outputs": [
    {
     "name": "stdout",
     "output_type": "stream",
     "text": [
      "[0. 0.]\n",
      "奇异值: [26000007.53846226        2.46153775]\n"
     ]
    }
   ],
   "source": [
    "# 得到每一列的均值\n",
    "mean = A.mean(axis=0)\n",
    "# 去均值以后的矩阵\n",
    "norm = A - mean\n",
    "# 去均值以后，再计算均值，就是 0 了\n",
    "print(norm.mean(axis=0))\n",
    "U, S, V = np.linalg.svd(norm.T.dot(norm))\n",
    "print(\"奇异值:\",S)"
   ]
  },
  {
   "cell_type": "code",
   "execution_count": 7,
   "metadata": {},
   "outputs": [
    {
     "data": {
      "text/plain": [
       "array([[ 0.00053846,  0.99999986],\n",
       "       [ 0.99999986, -0.00053846]])"
      ]
     },
     "execution_count": 7,
     "metadata": {},
     "output_type": "execute_result"
    }
   ],
   "source": [
    "U1, S1, V1 = np.linalg.svd(norm)\n",
    "V1"
   ]
  },
  {
   "cell_type": "code",
   "execution_count": 3,
   "metadata": {},
   "outputs": [
    {
     "data": {
      "text/plain": [
       "array([[-0.00053846, -0.99999986],\n",
       "       [-0.99999986,  0.00053846]])"
      ]
     },
     "execution_count": 3,
     "metadata": {},
     "output_type": "execute_result"
    }
   ],
   "source": [
    "U"
   ]
  },
  {
   "cell_type": "code",
   "execution_count": 4,
   "metadata": {},
   "outputs": [
    {
     "data": {
      "text/plain": [
       "array([26000007.53846226,        2.46153775])"
      ]
     },
     "execution_count": 4,
     "metadata": {},
     "output_type": "execute_result"
    }
   ],
   "source": [
    "S"
   ]
  },
  {
   "cell_type": "code",
   "execution_count": 5,
   "metadata": {},
   "outputs": [
    {
     "data": {
      "text/plain": [
       "array([[-0.00053846, -0.99999986],\n",
       "       [-0.99999986,  0.00053846]])"
      ]
     },
     "execution_count": 5,
     "metadata": {},
     "output_type": "execute_result"
    }
   ],
   "source": [
    "V"
   ]
  },
  {
   "cell_type": "code",
   "execution_count": 27,
   "metadata": {},
   "outputs": [
    {
     "name": "stdout",
     "output_type": "stream",
     "text": [
      "第 1 主成分: [[-0.00053846]\n",
      " [-0.99999986]]\n",
      "X_reduce: [[ 1999.99971006]\n",
      " [ 1000.00039349]\n",
      " [-1000.00039349]\n",
      " [-4000.00049704]\n",
      " [ 2000.00078698]]\n"
     ]
    }
   ],
   "source": [
    "# 取第 1 列\n",
    "U_reduce = U[:, 0].reshape(-1, 1)\n",
    "print(\"第 1 主成分:\", U_reduce)\n",
    "X_reduce = norm.dot(U_reduce)\n",
    "X_reduce = X_reduce.reshape(-1, 1)\n",
    "\n",
    "print(\"X_reduce:\", X_reduce)"
   ]
  },
  {
   "cell_type": "code",
   "execution_count": 28,
   "metadata": {},
   "outputs": [
    {
     "name": "stdout",
     "output_type": "stream",
     "text": [
      "X_recover: [[   1.92307713 2000.00057988]\n",
      " [   2.46153828 2999.99975148]\n",
      " [   3.53846172 5000.00024852]\n",
      " [   5.15384631 7999.99991716]\n",
      " [   1.92307655 1999.99950296]]\n"
     ]
    }
   ],
   "source": [
    "# 恢复的数据\n",
    "X_recover = X_reduce.dot(U_reduce.T) + mean\n",
    "print(\"X_recover:\", X_recover)"
   ]
  },
  {
   "cell_type": "markdown",
   "metadata": {},
   "source": [
    "## 使用 scikit-learn 进行 PCA 降维"
   ]
  },
  {
   "cell_type": "code",
   "execution_count": 29,
   "metadata": {},
   "outputs": [
    {
     "name": "stdout",
     "output_type": "stream",
     "text": [
      "X_recover_sklearn: [[   1.92307713 2000.00057988]\n",
      " [   2.46153828 2999.99975148]\n",
      " [   3.53846172 5000.00024852]\n",
      " [   5.15384631 7999.99991716]\n",
      " [   1.92307655 1999.99950296]]\n"
     ]
    }
   ],
   "source": [
    "pca = PCA(n_components=1)\n",
    "\n",
    "pca.fit(A)\n",
    "X_reduce_sklearn = pca.transform(A)\n",
    "\n",
    "X_recover_sklearn = pca.inverse_transform(X_reduce_sklearn)\n",
    "print(\"X_recover_sklearn:\", X_recover_sklearn)\n"
   ]
  },
  {
   "cell_type": "code",
   "execution_count": 32,
   "metadata": {},
   "outputs": [
    {
     "data": {
      "text/plain": [
       "array([26000007.53846225])"
      ]
     },
     "execution_count": 32,
     "metadata": {},
     "output_type": "execute_result"
    }
   ],
   "source": [
    "pca.singular_values_**2"
   ]
  },
  {
   "cell_type": "code",
   "execution_count": 37,
   "metadata": {},
   "outputs": [
    {
     "data": {
      "text/plain": [
       "array([[0.00053846, 0.99999986]])"
      ]
     },
     "execution_count": 37,
     "metadata": {},
     "output_type": "execute_result"
    }
   ],
   "source": [
    "pca.components_"
   ]
  },
  {
   "cell_type": "code",
   "execution_count": 38,
   "metadata": {},
   "outputs": [
    {
     "data": {
      "text/plain": [
       "array([6500001.88461556])"
      ]
     },
     "execution_count": 38,
     "metadata": {},
     "output_type": "execute_result"
    }
   ],
   "source": [
    "pca.explained_variance_"
   ]
  },
  {
   "cell_type": "code",
   "execution_count": 39,
   "metadata": {},
   "outputs": [
    {
     "data": {
      "text/plain": [
       "array([0.99999991])"
      ]
     },
     "execution_count": 39,
     "metadata": {},
     "output_type": "execute_result"
    }
   ],
   "source": [
    "pca.explained_variance_ratio_"
   ]
  },
  {
   "cell_type": "code",
   "execution_count": 33,
   "metadata": {},
   "outputs": [
    {
     "data": {
      "text/plain": [
       "['__abstractmethods__',\n",
       " '__class__',\n",
       " '__delattr__',\n",
       " '__dict__',\n",
       " '__dir__',\n",
       " '__doc__',\n",
       " '__eq__',\n",
       " '__format__',\n",
       " '__ge__',\n",
       " '__getattribute__',\n",
       " '__getstate__',\n",
       " '__gt__',\n",
       " '__hash__',\n",
       " '__init__',\n",
       " '__init_subclass__',\n",
       " '__le__',\n",
       " '__lt__',\n",
       " '__module__',\n",
       " '__ne__',\n",
       " '__new__',\n",
       " '__reduce__',\n",
       " '__reduce_ex__',\n",
       " '__repr__',\n",
       " '__setattr__',\n",
       " '__setstate__',\n",
       " '__sizeof__',\n",
       " '__str__',\n",
       " '__subclasshook__',\n",
       " '__weakref__',\n",
       " '_abc_cache',\n",
       " '_abc_negative_cache',\n",
       " '_abc_negative_cache_version',\n",
       " '_abc_registry',\n",
       " '_fit',\n",
       " '_fit_full',\n",
       " '_fit_truncated',\n",
       " '_get_param_names',\n",
       " 'components_',\n",
       " 'copy',\n",
       " 'explained_variance_',\n",
       " 'explained_variance_ratio_',\n",
       " 'fit',\n",
       " 'fit_transform',\n",
       " 'get_covariance',\n",
       " 'get_params',\n",
       " 'get_precision',\n",
       " 'inverse_transform',\n",
       " 'iterated_power',\n",
       " 'mean_',\n",
       " 'n_components',\n",
       " 'n_components_',\n",
       " 'n_features_',\n",
       " 'n_samples_',\n",
       " 'noise_variance_',\n",
       " 'random_state',\n",
       " 'score',\n",
       " 'score_samples',\n",
       " 'set_params',\n",
       " 'singular_values_',\n",
       " 'svd_solver',\n",
       " 'tol',\n",
       " 'transform',\n",
       " 'whiten']"
      ]
     },
     "execution_count": 33,
     "metadata": {},
     "output_type": "execute_result"
    }
   ],
   "source": [
    "dir(pca)"
   ]
  },
  {
   "cell_type": "code",
   "execution_count": 7,
   "metadata": {},
   "outputs": [
    {
     "name": "stdout",
     "output_type": "stream",
     "text": [
      "0.19.2\n"
     ]
    }
   ],
   "source": [
    "import sklearn\n",
    "\n",
    "print(sklearn.__version__)"
   ]
  },
  {
   "cell_type": "markdown",
   "metadata": {},
   "source": [
    "一些帮助我回忆出 PCA 的数学原理的条目：\n",
    "\n",
    "1、待定系数法，AU = B ，其中 A 是在原始坐标系下的坐标，横的一行表示一条数据，竖的一行表示某个特征的所有数据。U 是新坐标系中的单位向量，它的方向表示了坐标轴的方向。\n",
    "\n",
    "其中 A 是 m 行 n 列，U 是 n 行 n 列，B 也是 m 行 n 列。\n",
    "\n",
    "（1）B 的要求：B 的列向量之间线性无关（只剩下了线性无关的向量），并且方差按照从大到小排序，即 (1/(m-1)) BTB 是对角矩阵。\n",
    "（2）最后我们发现，其实要找的 U 是这样的一个矩阵：使得(1/(m-1)) ATA 成为对角矩阵。\n",
    "\n",
    "2、要求的是 U，把 U 砍掉一些列向量，得到 U_reduce，再和 A 相乘，就得到了降维以后的坐标。\n",
    "\n"
   ]
  },
  {
   "cell_type": "markdown",
   "metadata": {},
   "source": [
    "## 特征归一化（这里没有标准化）"
   ]
  },
  {
   "cell_type": "code",
   "execution_count": 8,
   "metadata": {
    "collapsed": true
   },
   "outputs": [],
   "source": [
    "np.set_printoptions(suppress=True)\n",
    "\n",
    "A = np.array([[3, 2000],\n",
    "              [2, 3000],\n",
    "              [4, 5000],\n",
    "              [5, 8000],\n",
    "              [1, 2000]], dtype=float)\n",
    "\n",
    "mean = A.mean(axis=0)\n",
    "norm = A - mean\n",
    "scope = norm.max(axis=0) - norm.min(axis=0)\n",
    "scalar = norm / scope"
   ]
  },
  {
   "cell_type": "code",
   "execution_count": 9,
   "metadata": {},
   "outputs": [
    {
     "data": {
      "text/plain": [
       "array([[ 0.        , -0.33333333],\n",
       "       [-0.25      , -0.16666667],\n",
       "       [ 0.25      ,  0.16666667],\n",
       "       [ 0.5       ,  0.66666667],\n",
       "       [-0.5       , -0.33333333]])"
      ]
     },
     "execution_count": 9,
     "metadata": {},
     "output_type": "execute_result"
    }
   ],
   "source": [
    "scalar"
   ]
  },
  {
   "cell_type": "markdown",
   "metadata": {},
   "source": [
    "## 奇异值分解"
   ]
  },
  {
   "cell_type": "code",
   "execution_count": 10,
   "metadata": {},
   "outputs": [
    {
     "data": {
      "text/plain": [
       "array([[-0.67710949, -0.73588229],\n",
       "       [-0.73588229,  0.67710949]])"
      ]
     },
     "execution_count": 10,
     "metadata": {},
     "output_type": "execute_result"
    }
   ],
   "source": [
    "U, S, V = np.linalg.svd(scalar.T.dot(scalar))\n",
    "U"
   ]
  },
  {
   "cell_type": "code",
   "execution_count": 11,
   "metadata": {
    "collapsed": true
   },
   "outputs": [],
   "source": [
    "U_reduce = U[:, 0].reshape((2, 1))"
   ]
  },
  {
   "cell_type": "markdown",
   "metadata": {},
   "source": [
    "## 降维"
   ]
  },
  {
   "cell_type": "code",
   "execution_count": 12,
   "metadata": {},
   "outputs": [
    {
     "data": {
      "text/plain": [
       "array([[ 0.2452941 ],\n",
       "       [ 0.29192442],\n",
       "       [-0.29192442],\n",
       "       [-0.82914294],\n",
       "       [ 0.58384884]])"
      ]
     },
     "execution_count": 12,
     "metadata": {},
     "output_type": "execute_result"
    }
   ],
   "source": [
    "R = scalar.dot(U_reduce)\n",
    "R "
   ]
  },
  {
   "cell_type": "markdown",
   "metadata": {},
   "source": [
    "## 恢复"
   ]
  },
  {
   "cell_type": "code",
   "execution_count": 13,
   "metadata": {
    "collapsed": true
   },
   "outputs": [],
   "source": [
    "Z = np.dot(R, U_reduce.T)"
   ]
  },
  {
   "cell_type": "code",
   "execution_count": null,
   "metadata": {
    "collapsed": true
   },
   "outputs": [],
   "source": []
  },
  {
   "cell_type": "code",
   "execution_count": 14,
   "metadata": {},
   "outputs": [
    {
     "data": {
      "text/plain": [
       "array([[-0.16609096, -0.18050758],\n",
       "       [-0.19766479, -0.21482201],\n",
       "       [ 0.19766479,  0.21482201],\n",
       "       [ 0.56142055,  0.6101516 ],\n",
       "       [-0.39532959, -0.42964402]])"
      ]
     },
     "execution_count": 14,
     "metadata": {},
     "output_type": "execute_result"
    }
   ],
   "source": [
    "Z"
   ]
  },
  {
   "cell_type": "markdown",
   "metadata": {},
   "source": [
    "## 进一步还原出原始的数据"
   ]
  },
  {
   "cell_type": "code",
   "execution_count": 15,
   "metadata": {},
   "outputs": [
    {
     "data": {
      "text/plain": [
       "array([   4., 6000.])"
      ]
     },
     "execution_count": 15,
     "metadata": {},
     "output_type": "execute_result"
    }
   ],
   "source": [
    "scope"
   ]
  },
  {
   "cell_type": "code",
   "execution_count": 16,
   "metadata": {
    "collapsed": true
   },
   "outputs": [],
   "source": [
    "A_recover = np.multiply(Z, scope) + mean"
   ]
  },
  {
   "cell_type": "code",
   "execution_count": 17,
   "metadata": {},
   "outputs": [
    {
     "data": {
      "text/plain": [
       "array([[   2.33563616, 2916.95452015],\n",
       "       [   2.20934082, 2711.06794139],\n",
       "       [   3.79065918, 5288.93205861],\n",
       "       [   5.2456822 , 7660.90959707],\n",
       "       [   1.41868164, 1422.13588278]])"
      ]
     },
     "execution_count": 17,
     "metadata": {},
     "output_type": "execute_result"
    }
   ],
   "source": [
    "A_recover"
   ]
  },
  {
   "cell_type": "markdown",
   "metadata": {},
   "source": [
    "<br>\n",
    "<br>"
   ]
  },
  {
   "cell_type": "markdown",
   "metadata": {},
   "source": [
    "<br>\n",
    "<br>"
   ]
  },
  {
   "cell_type": "markdown",
   "metadata": {},
   "source": [
    "# scikit-learn 中使用 PCA"
   ]
  },
  {
   "cell_type": "code",
   "execution_count": 18,
   "metadata": {
    "collapsed": true
   },
   "outputs": [],
   "source": [
    "from sklearn.decomposition import PCA\n",
    "from sklearn.pipeline import Pipeline\n",
    "from sklearn.preprocessing import MinMaxScaler\n",
    "\n",
    "def std_PCA(**argv):\n",
    "    scaler = MinMaxScaler()\n",
    "    pca = PCA(**argv)\n",
    "    pipeline = Pipeline([('scaler', scaler), ('pca', pca)])\n",
    "    return pipeline\n"
   ]
  },
  {
   "cell_type": "code",
   "execution_count": 19,
   "metadata": {},
   "outputs": [
    {
     "data": {
      "text/plain": [
       "array([[   3., 2000.],\n",
       "       [   2., 3000.],\n",
       "       [   4., 5000.],\n",
       "       [   5., 8000.],\n",
       "       [   1., 2000.]])"
      ]
     },
     "execution_count": 19,
     "metadata": {},
     "output_type": "execute_result"
    }
   ],
   "source": [
    "A"
   ]
  },
  {
   "cell_type": "code",
   "execution_count": 20,
   "metadata": {
    "collapsed": true
   },
   "outputs": [],
   "source": [
    "pca = std_PCA(n_components=1)\n",
    "pca.fit(A)\n",
    "R2 = pca.transform(A)"
   ]
  },
  {
   "cell_type": "code",
   "execution_count": 21,
   "metadata": {},
   "outputs": [
    {
     "data": {
      "text/plain": [
       "array([[-0.2452941 ],\n",
       "       [-0.29192442],\n",
       "       [ 0.29192442],\n",
       "       [ 0.82914294],\n",
       "       [-0.58384884]])"
      ]
     },
     "execution_count": 21,
     "metadata": {},
     "output_type": "execute_result"
    }
   ],
   "source": [
    "R2"
   ]
  },
  {
   "cell_type": "code",
   "execution_count": 22,
   "metadata": {},
   "outputs": [
    {
     "data": {
      "text/plain": [
       "array([[   2.33563616, 2916.95452015],\n",
       "       [   2.20934082, 2711.06794139],\n",
       "       [   3.79065918, 5288.93205861],\n",
       "       [   5.2456822 , 7660.90959707],\n",
       "       [   1.41868164, 1422.13588278]])"
      ]
     },
     "execution_count": 22,
     "metadata": {},
     "output_type": "execute_result"
    }
   ],
   "source": [
    "# inverse_transform 的操作就是 pipeline 反过来做的\n",
    "A_recover2 = pca.inverse_transform(R2)\n",
    "A_recover2"
   ]
  },
  {
   "cell_type": "code",
   "execution_count": null,
   "metadata": {
    "collapsed": true
   },
   "outputs": [],
   "source": []
  }
 ],
 "metadata": {
  "kernelspec": {
   "display_name": "Python 3",
   "language": "python",
   "name": "python3"
  },
  "language_info": {
   "codemirror_mode": {
    "name": "ipython",
    "version": 3
   },
   "file_extension": ".py",
   "mimetype": "text/x-python",
   "name": "python",
   "nbconvert_exporter": "python",
   "pygments_lexer": "ipython3",
   "version": "3.6.1"
  }
 },
 "nbformat": 4,
 "nbformat_minor": 2
}
