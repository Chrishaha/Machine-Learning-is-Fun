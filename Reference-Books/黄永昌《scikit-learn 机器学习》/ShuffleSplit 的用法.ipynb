{
 "cells": [
  {
   "cell_type": "markdown",
   "metadata": {},
   "source": [
    "参考资料：\n",
    "https://scikit-learn.org/stable/modules/generated/sklearn.model_selection.ShuffleSplit.html"
   ]
  },
  {
   "cell_type": "markdown",
   "metadata": {},
   "source": [
    "> Note: contrary to other cross-validation strategies, random splits do not guarantee that all folds will be different, although this is still very likely for sizeable datasets.\n",
    "\n",
    "这种方式可能造成重复。`n_splits` 表示要进行多少次“训练数据集和测试数据集的划分”。"
   ]
  },
  {
   "cell_type": "code",
   "execution_count": 2,
   "metadata": {
    "collapsed": true
   },
   "outputs": [],
   "source": [
    "import numpy as np"
   ]
  },
  {
   "cell_type": "code",
   "execution_count": 3,
   "metadata": {
    "collapsed": true
   },
   "outputs": [],
   "source": [
    "from sklearn.model_selection import ShuffleSplit\n",
    "\n",
    "X = np.array([[1, 2], [3, 4], [5, 6], [7, 8], [3, 4], [5, 6]])\n",
    "y = np.array([1, 2, 1, 2, 1, 2])"
   ]
  },
  {
   "cell_type": "code",
   "execution_count": 10,
   "metadata": {},
   "outputs": [
    {
     "data": {
      "text/plain": [
       "(6, 6)"
      ]
     },
     "execution_count": 10,
     "metadata": {},
     "output_type": "execute_result"
    }
   ],
   "source": [
    "len(X), len(y)"
   ]
  },
  {
   "cell_type": "code",
   "execution_count": 5,
   "metadata": {},
   "outputs": [
    {
     "data": {
      "text/plain": [
       "100"
      ]
     },
     "execution_count": 5,
     "metadata": {},
     "output_type": "execute_result"
    }
   ],
   "source": [
    "rs = ShuffleSplit(n_splits=100, test_size=.25, random_state=0)\n",
    "rs.get_n_splits(X)"
   ]
  },
  {
   "cell_type": "markdown",
   "metadata": {},
   "source": [
    "可以很明显地看到，测试数据集会产生重复。"
   ]
  },
  {
   "cell_type": "code",
   "execution_count": 7,
   "metadata": {},
   "outputs": [
    {
     "name": "stdout",
     "output_type": "stream",
     "text": [
      "TRAIN: [1 3 0 4] TEST: [5 2]\n",
      "TRAIN: [4 0 2 5] TEST: [1 3]\n",
      "TRAIN: [1 2 4 0] TEST: [3 5]\n",
      "TRAIN: [3 4 1 0] TEST: [5 2]\n",
      "TRAIN: [3 5 1 0] TEST: [2 4]\n",
      "TRAIN: [4 2 0 5] TEST: [3 1]\n",
      "TRAIN: [2 4 5 3] TEST: [0 1]\n",
      "TRAIN: [3 4 1 0] TEST: [5 2]\n",
      "TRAIN: [4 5 2 0] TEST: [3 1]\n",
      "TRAIN: [0 5 4 2] TEST: [1 3]\n",
      "TRAIN: [1 5 0 4] TEST: [3 2]\n",
      "TRAIN: [3 2 1 4] TEST: [0 5]\n",
      "TRAIN: [3 4 1 0] TEST: [5 2]\n",
      "TRAIN: [4 2 5 3] TEST: [0 1]\n",
      "TRAIN: [5 1 3 0] TEST: [2 4]\n",
      "TRAIN: [0 3 4 2] TEST: [1 5]\n",
      "TRAIN: [0 3 5 4] TEST: [1 2]\n",
      "TRAIN: [5 2 0 4] TEST: [3 1]\n",
      "TRAIN: [3 1 0 2] TEST: [4 5]\n",
      "TRAIN: [1 5 0 3] TEST: [2 4]\n",
      "TRAIN: [5 2 1 0] TEST: [4 3]\n",
      "TRAIN: [4 2 3 0] TEST: [5 1]\n",
      "TRAIN: [5 3 1 0] TEST: [4 2]\n",
      "TRAIN: [4 5 3 2] TEST: [0 1]\n",
      "TRAIN: [4 5 3 2] TEST: [1 0]\n",
      "TRAIN: [2 1 4 3] TEST: [0 5]\n",
      "TRAIN: [0 5 2 1] TEST: [3 4]\n",
      "TRAIN: [2 5 0 3] TEST: [4 1]\n",
      "TRAIN: [4 2 5 0] TEST: [1 3]\n",
      "TRAIN: [0 5 2 3] TEST: [1 4]\n",
      "TRAIN: [2 1 5 0] TEST: [4 3]\n",
      "TRAIN: [0 1 3 2] TEST: [4 5]\n",
      "TRAIN: [5 4 3 0] TEST: [1 2]\n",
      "TRAIN: [3 4 0 2] TEST: [5 1]\n",
      "TRAIN: [1 3 4 0] TEST: [5 2]\n",
      "TRAIN: [0 5 1 4] TEST: [3 2]\n",
      "TRAIN: [3 5 1 0] TEST: [2 4]\n",
      "TRAIN: [0 1 3 5] TEST: [4 2]\n",
      "TRAIN: [1 5 3 4] TEST: [2 0]\n",
      "TRAIN: [1 4 0 5] TEST: [2 3]\n",
      "TRAIN: [1 2 3 0] TEST: [5 4]\n",
      "TRAIN: [5 0 4 1] TEST: [2 3]\n",
      "TRAIN: [4 5 2 3] TEST: [1 0]\n",
      "TRAIN: [4 0 5 3] TEST: [1 2]\n",
      "TRAIN: [4 1 3 2] TEST: [5 0]\n",
      "TRAIN: [1 3 2 0] TEST: [5 4]\n",
      "TRAIN: [0 2 3 5] TEST: [4 1]\n",
      "TRAIN: [1 4 3 5] TEST: [0 2]\n",
      "TRAIN: [4 2 3 1] TEST: [5 0]\n",
      "TRAIN: [1 5 3 4] TEST: [2 0]\n",
      "TRAIN: [2 0 1 3] TEST: [4 5]\n",
      "TRAIN: [5 4 1 0] TEST: [2 3]\n",
      "TRAIN: [2 3 0 4] TEST: [5 1]\n",
      "TRAIN: [4 2 0 5] TEST: [3 1]\n",
      "TRAIN: [3 0 5 1] TEST: [2 4]\n",
      "TRAIN: [3 5 4 0] TEST: [2 1]\n",
      "TRAIN: [2 5 4 3] TEST: [1 0]\n",
      "TRAIN: [2 4 1 5] TEST: [0 3]\n",
      "TRAIN: [2 1 4 5] TEST: [0 3]\n",
      "TRAIN: [1 0 4 5] TEST: [3 2]\n",
      "TRAIN: [5 1 3 2] TEST: [4 0]\n",
      "TRAIN: [5 0 2 1] TEST: [3 4]\n",
      "TRAIN: [2 4 1 5] TEST: [3 0]\n",
      "TRAIN: [4 0 1 3] TEST: [5 2]\n",
      "TRAIN: [4 5 0 2] TEST: [1 3]\n",
      "TRAIN: [3 5 0 4] TEST: [1 2]\n",
      "TRAIN: [0 2 5 3] TEST: [4 1]\n",
      "TRAIN: [5 1 2 0] TEST: [3 4]\n",
      "TRAIN: [4 5 3 0] TEST: [2 1]\n",
      "TRAIN: [3 4 2 0] TEST: [1 5]\n",
      "TRAIN: [5 0 2 4] TEST: [3 1]\n",
      "TRAIN: [0 4 3 2] TEST: [5 1]\n",
      "TRAIN: [1 4 0 5] TEST: [3 2]\n",
      "TRAIN: [2 1 5 4] TEST: [3 0]\n",
      "TRAIN: [5 3 1 4] TEST: [2 0]\n",
      "TRAIN: [4 3 2 5] TEST: [0 1]\n",
      "TRAIN: [0 4 3 2] TEST: [1 5]\n",
      "TRAIN: [3 5 1 2] TEST: [0 4]\n",
      "TRAIN: [2 5 3 0] TEST: [1 4]\n",
      "TRAIN: [4 1 2 3] TEST: [0 5]\n",
      "TRAIN: [3 2 1 4] TEST: [0 5]\n",
      "TRAIN: [4 3 5 0] TEST: [1 2]\n",
      "TRAIN: [2 5 1 0] TEST: [3 4]\n",
      "TRAIN: [0 2 1 4] TEST: [5 3]\n",
      "TRAIN: [5 1 2 0] TEST: [3 4]\n",
      "TRAIN: [2 1 5 4] TEST: [3 0]\n",
      "TRAIN: [3 5 4 1] TEST: [0 2]\n",
      "TRAIN: [4 5 1 3] TEST: [0 2]\n",
      "TRAIN: [5 4 1 3] TEST: [2 0]\n",
      "TRAIN: [4 5 3 0] TEST: [2 1]\n",
      "TRAIN: [2 3 0 4] TEST: [1 5]\n",
      "TRAIN: [3 0 4 1] TEST: [5 2]\n",
      "TRAIN: [5 1 2 0] TEST: [3 4]\n",
      "TRAIN: [0 4 5 3] TEST: [1 2]\n",
      "TRAIN: [0 3 4 1] TEST: [5 2]\n",
      "TRAIN: [5 4 2 1] TEST: [0 3]\n",
      "TRAIN: [2 0 4 3] TEST: [5 1]\n",
      "TRAIN: [4 3 0 1] TEST: [5 2]\n",
      "TRAIN: [2 1 3 4] TEST: [0 5]\n",
      "TRAIN: [3 0 1 2] TEST: [5 4]\n"
     ]
    }
   ],
   "source": [
    "for train_index, test_index in rs.split(X):\n",
    "    print(\"TRAIN:\", train_index, \"TEST:\", test_index)"
   ]
  },
  {
   "cell_type": "code",
   "execution_count": 8,
   "metadata": {},
   "outputs": [
    {
     "name": "stdout",
     "output_type": "stream",
     "text": [
      "TRAIN: [1 3 0] TEST: [5 2]\n",
      "TRAIN: [4 0 2] TEST: [1 3]\n",
      "TRAIN: [1 2 4] TEST: [3 5]\n",
      "TRAIN: [3 4 1] TEST: [5 2]\n",
      "TRAIN: [3 5 1] TEST: [2 4]\n"
     ]
    }
   ],
   "source": [
    "rs = ShuffleSplit(n_splits=5, train_size=0.5, test_size=.25, random_state=0)\n",
    "for train_index, test_index in rs.split(X):\n",
    "    print(\"TRAIN:\", train_index, \"TEST:\", test_index)"
   ]
  },
  {
   "cell_type": "code",
   "execution_count": null,
   "metadata": {
    "collapsed": true
   },
   "outputs": [],
   "source": []
  }
 ],
 "metadata": {
  "kernelspec": {
   "display_name": "Python 3",
   "language": "python",
   "name": "python3"
  },
  "language_info": {
   "codemirror_mode": {
    "name": "ipython",
    "version": 3
   },
   "file_extension": ".py",
   "mimetype": "text/x-python",
   "name": "python",
   "nbconvert_exporter": "python",
   "pygments_lexer": "ipython3",
   "version": "3.6.3"
  }
 },
 "nbformat": 4,
 "nbformat_minor": 2
}
