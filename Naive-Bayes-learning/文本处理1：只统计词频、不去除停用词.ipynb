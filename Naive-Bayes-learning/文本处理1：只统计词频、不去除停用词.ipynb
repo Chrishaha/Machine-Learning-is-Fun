{
 "cells": [
  {
   "cell_type": "code",
   "execution_count": 1,
   "metadata": {
    "collapsed": true
   },
   "outputs": [],
   "source": [
    "from sklearn.datasets import fetch_20newsgroups\n",
    "\n",
    "news = fetch_20newsgroups(subset='all')\n",
    "X = news.data # 是一个列表，列表的元素是字符串\n",
    "y = news.target"
   ]
  },
  {
   "cell_type": "code",
   "execution_count": 2,
   "metadata": {
    "collapsed": true
   },
   "outputs": [],
   "source": [
    "from sklearn.model_selection import train_test_split\n",
    "\n",
    "X_train, X_test, y_train, y_test = train_test_split(X, y, test_size=0.2, random_state=666)"
   ]
  },
  {
   "cell_type": "code",
   "execution_count": 3,
   "metadata": {
    "collapsed": true
   },
   "outputs": [],
   "source": [
    "# 只有词频统计\n",
    "from sklearn.feature_extraction.text import CountVectorizer\n",
    "\n",
    "count_vec = CountVectorizer()\n",
    "X_count_train = count_vec.fit_transform(X_train)\n",
    "X_count_test = count_vec.transform(X_test)"
   ]
  },
  {
   "cell_type": "code",
   "execution_count": 4,
   "metadata": {},
   "outputs": [
    {
     "name": "stdout",
     "output_type": "stream",
     "text": [
      "0.8403183023872679\n"
     ]
    }
   ],
   "source": [
    "# 朴素贝叶斯分类器\n",
    "from sklearn.naive_bayes import MultinomialNB\n",
    "\n",
    "mnb_count = MultinomialNB()\n",
    "mnb_count.fit(X_count_train, y_train)\n",
    "y_count_predict = mnb_count.predict(X_count_test)\n",
    "score = mnb_count.score(X_count_test, y_test)\n",
    "print(score)"
   ]
  },
  {
   "cell_type": "code",
   "execution_count": 5,
   "metadata": {},
   "outputs": [
    {
     "name": "stdout",
     "output_type": "stream",
     "text": [
      "                          precision    recall  f1-score   support\n",
      "\n",
      "             alt.atheism       0.89      0.86      0.87       180\n",
      "           comp.graphics       0.69      0.87      0.77       203\n",
      " comp.os.ms-windows.misc       1.00      0.09      0.16       196\n",
      "comp.sys.ibm.pc.hardware       0.63      0.84      0.72       182\n",
      "   comp.sys.mac.hardware       0.87      0.85      0.86       194\n",
      "          comp.windows.x       0.68      0.89      0.77       201\n",
      "            misc.forsale       0.89      0.72      0.79       176\n",
      "               rec.autos       0.93      0.91      0.92       217\n",
      "         rec.motorcycles       0.96      0.93      0.95       198\n",
      "      rec.sport.baseball       0.97      0.94      0.95       177\n",
      "        rec.sport.hockey       0.97      0.98      0.97       183\n",
      "               sci.crypt       0.87      0.98      0.92       209\n",
      "         sci.electronics       0.86      0.77      0.81       219\n",
      "                 sci.med       0.93      0.94      0.93       199\n",
      "               sci.space       0.87      0.94      0.90       211\n",
      "  soc.religion.christian       0.74      0.98      0.84       174\n",
      "      talk.politics.guns       0.86      0.93      0.89       192\n",
      "   talk.politics.mideast       0.89      0.98      0.94       177\n",
      "      talk.politics.misc       0.78      0.88      0.83       155\n",
      "      talk.religion.misc       0.93      0.44      0.60       127\n",
      "\n",
      "             avg / total       0.86      0.84      0.82      3770\n",
      "\n"
     ]
    }
   ],
   "source": [
    "from sklearn.metrics import classification_report\n",
    "\n",
    "print(classification_report(y_test, y_count_predict, target_names=news.target_names))"
   ]
  },
  {
   "cell_type": "code",
   "execution_count": null,
   "metadata": {
    "collapsed": true
   },
   "outputs": [],
   "source": []
  }
 ],
 "metadata": {
  "kernelspec": {
   "display_name": "Python 3",
   "language": "python",
   "name": "python3"
  },
  "language_info": {
   "codemirror_mode": {
    "name": "ipython",
    "version": 3
   },
   "file_extension": ".py",
   "mimetype": "text/x-python",
   "name": "python",
   "nbconvert_exporter": "python",
   "pygments_lexer": "ipython3",
   "version": "3.6.1"
  }
 },
 "nbformat": 4,
 "nbformat_minor": 2
}
