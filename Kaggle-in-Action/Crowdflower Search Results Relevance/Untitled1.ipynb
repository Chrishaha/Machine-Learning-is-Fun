{
 "cells": [
  {
   "cell_type": "markdown",
   "metadata": {},
   "source": [
    "参考资料：[sklearn: 利用TruncatedSVD做文本主题分析](https://blog.csdn.net/blmoistawinde/article/details/83446529)"
   ]
  },
  {
   "cell_type": "markdown",
   "metadata": {},
   "source": [
    "《Until the Day》作者：林俊杰"
   ]
  },
  {
   "cell_type": "code",
   "execution_count": 2,
   "metadata": {},
   "outputs": [
    {
     "name": "stdout",
     "output_type": "stream",
     "text": [
      "['against', 'all', 'and', 'another', 'beings', 'collide', 'fears', 'goodbyes', 'hopes', 'human', 'in', 'lie', 'middle', 'midst', 'night', 'of', 'our', 'the', 'when', 'where']\n"
     ]
    }
   ],
   "source": [
    "# namely LSA/LSI(即潜在语义分析)\n",
    "from sklearn.decomposition import TruncatedSVD\n",
    "from sklearn.feature_extraction.text import TfidfVectorizer\n",
    "import numpy as np\n",
    "\n",
    "# 《Until the Day》作者：林俊杰\n",
    "docs = [\"In the middle of the night\",\n",
    "        \"When our hopes and fears collide\",\n",
    "        \"In the midst of all goodbyes\",\n",
    "        \"Where all human beings lie\",\n",
    "        \"Against another lie\"]\n",
    "vectorizer = TfidfVectorizer()\n",
    "X = vectorizer.fit_transform(docs)\n",
    "terms = vectorizer.get_feature_names()\n",
    "print(terms)"
   ]
  },
  {
   "cell_type": "code",
   "execution_count": 7,
   "metadata": {},
   "outputs": [
    {
     "data": {
      "text/plain": [
       "20"
      ]
     },
     "execution_count": 7,
     "metadata": {},
     "output_type": "execute_result"
    }
   ],
   "source": [
    "len(terms)"
   ]
  },
  {
   "cell_type": "code",
   "execution_count": 6,
   "metadata": {},
   "outputs": [
    {
     "data": {
      "text/plain": [
       "array([[0.        , 0.        , 0.        , 0.        , 0.        ,\n",
       "        0.        , 0.        , 0.        , 0.        , 0.        ,\n",
       "        0.3319971 , 0.        , 0.41150185, 0.        , 0.41150185,\n",
       "        0.3319971 , 0.        , 0.6639942 , 0.        , 0.        ],\n",
       "       [0.        , 0.        , 0.40824829, 0.        , 0.        ,\n",
       "        0.40824829, 0.40824829, 0.        , 0.40824829, 0.        ,\n",
       "        0.        , 0.        , 0.        , 0.        , 0.        ,\n",
       "        0.        , 0.40824829, 0.        , 0.40824829, 0.        ],\n",
       "       [0.        , 0.37601977, 0.        , 0.        , 0.        ,\n",
       "        0.        , 0.        , 0.46606681, 0.        , 0.        ,\n",
       "        0.37601977, 0.        , 0.        , 0.46606681, 0.        ,\n",
       "        0.37601977, 0.        , 0.37601977, 0.        , 0.        ],\n",
       "       [0.        , 0.38898761, 0.        , 0.        , 0.48214012,\n",
       "        0.        , 0.        , 0.        , 0.        , 0.48214012,\n",
       "        0.        , 0.38898761, 0.        , 0.        , 0.        ,\n",
       "        0.        , 0.        , 0.        , 0.        , 0.48214012],\n",
       "       [0.61418897, 0.        , 0.        , 0.61418897, 0.        ,\n",
       "        0.        , 0.        , 0.        , 0.        , 0.        ,\n",
       "        0.        , 0.49552379, 0.        , 0.        , 0.        ,\n",
       "        0.        , 0.        , 0.        , 0.        , 0.        ]])"
      ]
     },
     "execution_count": 6,
     "metadata": {},
     "output_type": "execute_result"
    }
   ],
   "source": [
    "X.toarray()"
   ]
  },
  {
   "cell_type": "code",
   "execution_count": 5,
   "metadata": {},
   "outputs": [
    {
     "data": {
      "text/plain": [
       "(5, 20)"
      ]
     },
     "execution_count": 5,
     "metadata": {},
     "output_type": "execute_result"
    }
   ],
   "source": [
    "# 5 个数据，每个数据 20 个维度，每个维度是一个单词\n",
    "X.toarray().shape"
   ]
  },
  {
   "cell_type": "markdown",
   "metadata": {},
   "source": [
    "+ 使用 `TruncatedSVD` 把原先规模为（文本数，词汇数）的特征矩阵 `X` 化为规模为（文本数，主题数）的新特征矩阵 `X2`；\n",
    "+ 由于主题数一般比词汇数少，这一方法也可以用来降维，用以后续进行分类或聚类操作。"
   ]
  },
  {
   "cell_type": "code",
   "execution_count": 9,
   "metadata": {
    "collapsed": true
   },
   "outputs": [],
   "source": [
    "np.set_printoptions(suppress=True, precision=2)"
   ]
  },
  {
   "cell_type": "code",
   "execution_count": 10,
   "metadata": {},
   "outputs": [
    {
     "data": {
      "text/plain": [
       "array([[ 0.83, -0.25,  0.  ],\n",
       "       [-0.  , -0.  ,  1.  ],\n",
       "       [ 0.87, -0.09,  0.  ],\n",
       "       [ 0.28,  0.73,  0.  ],\n",
       "       [ 0.1 ,  0.76,  0.  ]])"
      ]
     },
     "execution_count": 10,
     "metadata": {},
     "output_type": "execute_result"
    }
   ],
   "source": [
    "n_pick_topics = 3            # 设定主题数为3\n",
    "lsa = TruncatedSVD(n_pick_topics)\n",
    "X2 = lsa.fit_transform(X)\n",
    "X2"
   ]
  },
  {
   "cell_type": "markdown",
   "metadata": {},
   "source": [
    "这个时候，列数就成为 3 ，表示 3 个主题，这就是降维。"
   ]
  },
  {
   "cell_type": "markdown",
   "metadata": {},
   "source": [
    "+ `X2[i,t]`为第 `i` 篇文档在第 `t` 个主题上的分布，所以该值越高的文档 `i`，可以认为在主题 `t` 上更有代表性，我们便以此筛选出最能代表该主题的文档。"
   ]
  },
  {
   "cell_type": "code",
   "execution_count": null,
   "metadata": {
    "collapsed": true
   },
   "outputs": [],
   "source": []
  }
 ],
 "metadata": {
  "kernelspec": {
   "display_name": "Python 3",
   "language": "python",
   "name": "python3"
  },
  "language_info": {
   "codemirror_mode": {
    "name": "ipython",
    "version": 3
   },
   "file_extension": ".py",
   "mimetype": "text/x-python",
   "name": "python",
   "nbconvert_exporter": "python",
   "pygments_lexer": "ipython3",
   "version": "3.6.1"
  }
 },
 "nbformat": 4,
 "nbformat_minor": 2
}
