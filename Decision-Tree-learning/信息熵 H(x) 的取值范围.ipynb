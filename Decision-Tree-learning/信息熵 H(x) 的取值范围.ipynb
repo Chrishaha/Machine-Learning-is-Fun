{
 "cells": [
  {
   "cell_type": "markdown",
   "metadata": {},
   "source": [
    "# 信息熵 $H(x)$ 的范围"
   ]
  },
  {
   "cell_type": "markdown",
   "metadata": {},
   "source": [
    "信息熵的定义如下：\n",
    "$$H(X) = -\\sum_{x \\in X} p(x)\\log p(x) $$"
   ]
  },
  {
   "cell_type": "markdown",
   "metadata": {},
   "source": [
    "+ 很显然，$\\log \\frac{1}{p(x)} \\in [0, \\infty]$，当随机变量 $X$ 的分布是确定的时候，信息熵 $H(X)$ 最小，此时 $H(X) = -1 \\cdot \\log_21 + 0 \\cdot \\log_20 \\cdots + 0 \\cdot \\log_20 = 0$；"
   ]
  },
  {
   "cell_type": "markdown",
   "metadata": {},
   "source": [
    "\n",
    "\n",
    "\n",
    "\n",
    "\n",
    "+ 求 $H(x)$ 的最大值要用到**拉格朗日乘子法**。下面是具体步骤：\n",
    "\n",
    "目标函数求的是最大值：\n",
    "$$\n",
    "\\max \\quad H(X) = -\\sum_{x \\in X} p(x)\\log p(x)\n",
    "$$\n",
    "\n",
    "我们写成拉格朗日乘子法的标准形式，前面加一个符号，就变成了求最小值：\n",
    "\n",
    "$$\n",
    "\\min \\quad -H(X) = \\sum_{x \\in X} p(x)\\log p(x)\n",
    "$$\n",
    "\n",
    "这个问题的约束条件就是：\n",
    "$$\n",
    "\\sum_{x \\in X} p(x) = 1\n",
    "$$\n",
    "引入拉格朗日函数：\n",
    "$$L(X,w) = \\sum_{x \\in X} p(x)\\log p(x) + w(\\sum_{x \\in X} p(x)-1)$$\n",
    "就变成了求解拉格朗日函数的无约束最优化问题，这个函数取极值的必要条件是它的偏导数向量为 0 向量，于是我们计算偏导数。\n",
    "\n",
    "假设随机变量 $X$ 是一个有 $n$ 个取值的随机变量，那么把上面的符号改一改：\n",
    "$$\n",
    "\\sum_{x \\in X} p(x) =\\sum_{i=1}^{n} p(x_i)=1 \n",
    "$$ \n",
    "\n",
    "$$\n",
    "L(X,w) = \\sum_{i=1}^{n} p(x_i)\\log p(x_i) + w(\\sum_{i=1}^{n}  p(x_i)-1)\n",
    "$$\n",
    "于是：\n",
    "$$\n",
    "\\frac{\\partial L(X,w)}{\\partial p(x_i)} = \\frac{\\partial [p(x_i)\\log p(x_i)]}{\\partial p(x_i)} + w=\\log p(x_i)+1+w\n",
    "$$\n",
    "\n",
    "令：\n",
    "$$\n",
    "\\frac{\\partial L(X,w)}{\\partial p(x_i)} =0\n",
    "$$\n",
    "得到：\n",
    "$$\n",
    "\\log p(x_i)+1+w = 0\n",
    "$$\n",
    "**这个式子对于 $x_1$、$x_2$ 直到 $x_n$ 都成立**，因此 $x_1=x_2=\\cdots=x_n$。\n",
    "又因为\n",
    "$$\n",
    "\\sum_{i=1}^{n} p(x_i)=1 \n",
    "$$ \n",
    "故 $x_1=x_2=\\cdots=x_n=\\frac{1}{n}$，代入\n",
    "$$\n",
    "H(X) = -\\sum_{i=1}^{n} p(x_i)\\log p(x_i) =  -\\sum_{i=1}^{n} \\frac{1}{n} \\log \\frac{1}{n} = \\log n\n",
    "$$\n",
    "故 $0 \\le H(x) \\le \\log n$。"
   ]
  }
 ],
 "metadata": {
  "kernelspec": {
   "display_name": "Python 3",
   "language": "python",
   "name": "python3"
  },
  "language_info": {
   "codemirror_mode": {
    "name": "ipython",
    "version": 3
   },
   "file_extension": ".py",
   "mimetype": "text/x-python",
   "name": "python",
   "nbconvert_exporter": "python",
   "pygments_lexer": "ipython3",
   "version": "3.6.1"
  }
 },
 "nbformat": 4,
 "nbformat_minor": 2
}
