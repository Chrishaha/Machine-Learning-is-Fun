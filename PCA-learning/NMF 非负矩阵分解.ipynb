{
 "cells": [
  {
   "cell_type": "markdown",
   "metadata": {},
   "source": [
    "NMF 非负矩阵分解(Non-negative Matrix Factorization)实践 - CSDN博客  https://blog.csdn.net/qq_26225295/article/details/51165858"
   ]
  },
  {
   "cell_type": "code",
   "execution_count": 5,
   "metadata": {
    "collapsed": true
   },
   "outputs": [],
   "source": [
    "import numpy as np\n",
    "from sklearn.decomposition import NMF\n"
   ]
  },
  {
   "cell_type": "code",
   "execution_count": 2,
   "metadata": {
    "collapsed": true
   },
   "outputs": [],
   "source": [
    "item = [\n",
    "    '希特勒回来了', '死侍', '房间', '龙虾', '大空头',\n",
    "    '极盗者', '裁缝', '八恶人', '实习生', '间谍之桥',\n",
    "]"
   ]
  },
  {
   "cell_type": "code",
   "execution_count": 8,
   "metadata": {},
   "outputs": [
    {
     "data": {
      "text/plain": [
       "10"
      ]
     },
     "execution_count": 8,
     "metadata": {},
     "output_type": "execute_result"
    }
   ],
   "source": [
    "len(item)"
   ]
  },
  {
   "cell_type": "code",
   "execution_count": 3,
   "metadata": {
    "collapsed": true
   },
   "outputs": [],
   "source": [
    "user = ['五柳君', '帕格尼六', '木村静香', 'WTF', 'airyyouth',\n",
    "        '橙子c', '秋月白', 'clavin_kong', 'olit', 'You_某人',\n",
    "        '凛冬将至', 'Rusty', '噢！你看！', 'Aron', 'ErDong Chen']"
   ]
  },
  {
   "cell_type": "code",
   "execution_count": 9,
   "metadata": {},
   "outputs": [
    {
     "data": {
      "text/plain": [
       "15"
      ]
     },
     "execution_count": 9,
     "metadata": {},
     "output_type": "execute_result"
    }
   ],
   "source": [
    "len(user)"
   ]
  },
  {
   "cell_type": "code",
   "execution_count": 6,
   "metadata": {},
   "outputs": [],
   "source": [
    "# 行：电影\n",
    "# 列：人名\n",
    "# 下面的矩阵表示人对电影的评分\n",
    "RATE_MATRIX = np.array(\n",
    "    [[5, 5, 3, 0, 5, 5, 4, 3, 2, 1, 4, 1, 3, 4, 5],\n",
    "     [5, 0, 4, 0, 4, 4, 3, 2, 1, 2, 4, 4, 3, 4, 0],\n",
    "     [0, 3, 0, 5, 4, 5, 0, 4, 4, 5, 3, 0, 0, 0, 0],\n",
    "     [5, 4, 3, 3, 5, 5, 0, 1, 1, 3, 4, 5, 0, 2, 4],\n",
    "     [5, 4, 3, 3, 5, 5, 3, 3, 3, 4, 5, 0, 5, 2, 4],\n",
    "     [5, 4, 2, 2, 0, 5, 3, 3, 3, 4, 4, 4, 5, 2, 5],\n",
    "     [5, 4, 3, 3, 2, 0, 0, 0, 0, 0, 0, 0, 2, 1, 0],\n",
    "     [5, 4, 3, 3, 2, 0, 0, 0, 0, 0, 0, 0, 1, 0, 1],\n",
    "     [5, 4, 3, 3, 1, 0, 0, 0, 0, 0, 0, 0, 0, 2, 2],\n",
    "     [5, 4, 3, 3, 1, 0, 0, 0, 0, 0, 0, 0, 0, 1, 1]]\n",
    ")"
   ]
  },
  {
   "cell_type": "code",
   "execution_count": 11,
   "metadata": {},
   "outputs": [
    {
     "data": {
      "text/plain": [
       "(10, 15)"
      ]
     },
     "execution_count": 11,
     "metadata": {},
     "output_type": "execute_result"
    }
   ],
   "source": [
    "RATE_MATRIX.shape"
   ]
  },
  {
   "cell_type": "code",
   "execution_count": 14,
   "metadata": {},
   "outputs": [],
   "source": [
    "# 设置主题为 2 \n",
    "nmf_mode = NMF(n_components=2)\n",
    "item_dis = nmf_mode.fit_transform(RATE_MATRIX)\n",
    "user_dis = nmf_mode.components_"
   ]
  },
  {
   "cell_type": "code",
   "execution_count": 23,
   "metadata": {
    "scrolled": true
   },
   "outputs": [
    {
     "name": "stdout",
     "output_type": "stream",
     "text": [
      "电影的主题分布：\n",
      "[[2.20401687 1.53852775]\n",
      " [1.9083879  0.83214869]\n",
      " [1.95596132 0.        ]\n",
      " [1.87637018 1.65573674]\n",
      " [2.48959328 1.41632377]\n",
      " [2.38108536 1.08460665]\n",
      " [0.         2.29342959]\n",
      " [0.         2.27353353]\n",
      " [0.         2.32513876]\n",
      " [0.         2.23196277]]\n",
      "用户的主题分布：\n",
      "[[0.81240799 0.71153396 0.47062388 0.43807017 1.39456425 2.24323719\n",
      "  1.02417204 1.25356481 1.10517661 1.47624595 1.84626347 0.97437242\n",
      "  1.14921406 0.8159644  1.14200028]\n",
      " [2.23910382 1.70186882 1.34300272 1.09192602 0.68045441 0.\n",
      "  0.0542231  0.         0.         0.         0.04426552 0.12260418\n",
      "  0.34109613 0.51642843 0.6157604 ]]\n",
      "电影数量 (10, 2)\n",
      "用户数量 (2, 15)\n"
     ]
    }
   ],
   "source": [
    "print('电影的主题分布：')\n",
    "print(item_dis)\n",
    "print('用户的主题分布：')\n",
    "print(user_dis)\n",
    "print('电影数量',item_dis.shape)\n",
    "print('用户数量',user_dis.shape)"
   ]
  },
  {
   "cell_type": "code",
   "execution_count": 32,
   "metadata": {},
   "outputs": [
    {
     "data": {
      "image/png": "[encoded data removed]",
      "text/plain": [
       "<matplotlib.figure.Figure at 0x1b895748a90>"
      ]
     },
     "metadata": {},
     "output_type": "display_data"
    },
    {
     "data": {
      "image/png": "[encoded data removed]",
      "text/plain": [
       "<matplotlib.figure.Figure at 0x1b895611358>"
      ]
     },
     "metadata": {},
     "output_type": "display_data"
    }
   ],
   "source": [
    "import matplotlib.pyplot as plt\n",
    "\n",
    "plt.rcParams['font.sans-serif'] = ['SimHei']\n",
    "plt.rcParams['axes.unicode_minus'] = False\n",
    "\n",
    "plt.figure(figsize=(10,8))\n",
    "plt.plot(item_dis[:,0],item_dis[:,1],'ro')\n",
    "plt.xlim((-1,3))\n",
    "plt.ylim((-1,3))\n",
    "plt.title('the distribution of items')\n",
    "\n",
    "\n",
    "count=1\n",
    "# 把电影的标题和电影的坐标关联在一起\n",
    "zip_item = zip(item,item_dis)\n",
    "\n",
    "for item in zip_item:\n",
    "    item_name = item[0]\n",
    "    data= item[1]\n",
    "    plt.text(data[0],data[1],item_name)\n",
    "    \n",
    "\n",
    "plt.show()"
   ]
  },
  {
   "cell_type": "code",
   "execution_count": 27,
   "metadata": {},
   "outputs": [
    {
     "data": {
      "text/plain": [
       "(10, 2)"
      ]
     },
     "execution_count": 27,
     "metadata": {},
     "output_type": "execute_result"
    }
   ],
   "source": [
    "item_dis.shape"
   ]
  },
  {
   "cell_type": "code",
   "execution_count": null,
   "metadata": {
    "collapsed": true
   },
   "outputs": [],
   "source": []
  },
  {
   "cell_type": "code",
   "execution_count": null,
   "metadata": {
    "collapsed": true
   },
   "outputs": [],
   "source": []
  },
  {
   "cell_type": "code",
   "execution_count": null,
   "metadata": {
    "collapsed": true
   },
   "outputs": [],
   "source": []
  }
 ],
 "metadata": {
  "kernelspec": {
   "display_name": "Python 3",
   "language": "python",
   "name": "python3"
  },
  "language_info": {
   "codemirror_mode": {
    "name": "ipython",
    "version": 3
   },
   "file_extension": ".py",
   "mimetype": "text/x-python",
   "name": "python",
   "nbconvert_exporter": "python",
   "pygments_lexer": "ipython3",
   "version": "3.6.1"
  }
 },
 "nbformat": 4,
 "nbformat_minor": 2
}
