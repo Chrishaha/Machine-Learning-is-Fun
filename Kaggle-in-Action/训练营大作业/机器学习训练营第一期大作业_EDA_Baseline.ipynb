{
 "cells": [
  {
   "cell_type": "markdown",
   "metadata": {},
   "source": [
    "# 机器学习训练营第一期大作业_EDA_Baseline #\n"
   ]
  },
  {
   "cell_type": "markdown",
   "metadata": {},
   "source": [
    "* 本来我们最后选的比赛是，\n",
    "https://www.kaggle.com/c/ga-customer-revenue-prediction\n",
    "\n",
    "\n",
    "* 由于主办方给的数据出了问题，导致了泄漏leak，即选手们可以通过非建模方式，得到真实的预测值。\n",
    "最近几天，主办方换了新的数据。\n",
    "但是郁闷的是，数据从原来的1GB，换成了30GB的数据。\n",
    "考虑到数据规模较大，很多同学可能无法正常操作，我们也在群里和同学们说明了情况，在此再次说明。\n",
    "\n",
    "\n",
    "* 本来最后的final project也是本着让大家学习的目的，故我们重新为大家选了另外一个比赛，\n",
    "    https://www.kaggle.com/c/instacart-market-basket-analysis\n",
    "     并给出了一个EDA探索性分析，特征工程，建模，完整的流程。\n",
    "\n",
    "\n",
    "* 进一步的学习和分析，可以参考下面链接。\n",
    "    * 代码以及部分说明来自我们的一个队友（已授权），我们针对大家以及课程内容进行了修改，更加详细的内容大家可以参考：\n",
    "    * https://github.com/dayeren/Kaggle_Competition_Treasure/tree/master/Recommendations/Instacart\n",
    "    * https://mp.weixin.qq.com/s/nzLb8anROaUcfwfYiiQhzg\n",
    "    \n",
    "* 关于这两个比赛，我们都会给出指导，大家可以随时在圈子里提问，祝大家学习快乐~\n"
   ]
  },
  {
   "cell_type": "markdown",
   "metadata": {},
   "source": [
    "# let's go"
   ]
  },
  {
   "cell_type": "markdown",
   "metadata": {},
   "source": [
    "内容按下面组织，比较长。可以一段一段看。整个流程跑通，需要2个小时～2个半小时左右。\n",
    "\n",
    "1  EDA（探索性分析）\n",
    "\n",
    " * 1.2.1  aisles数据集\n",
    " * 1.2.2  departments数据集\n",
    " * 1.2.3  products数据集\n",
    " * 1.2.4  oders数据集\n",
    " * 1.2.5  order_products_prior.csv数据集\n",
    " * 1.2.6  order_products_train.csv数据集\n",
    "\n",
    "2 特征工程\n",
    "\n",
    "* 用户特征\n",
    "* 基于产品的特征\n",
    "* 基于用户 + 产品的交叉特征\n",
    "\n",
    "3 模型\n",
    "\n",
    "* 构建训练集 & 测试集\n",
    "* 模型验证\n",
    "* 模型训练&提交"
   ]
  },
  {
   "cell_type": "code",
   "execution_count": null,
   "metadata": {},
   "outputs": [],
   "source": []
  },
  {
   "cell_type": "markdown",
   "metadata": {},
   "source": [
    "\n",
    "\n",
    "\n",
    "# 数据准备\n",
    "## 工具包 & 数据导入\n",
    "### 工具包导入"
   ]
  },
  {
   "cell_type": "code",
   "execution_count": 1,
   "metadata": {},
   "outputs": [],
   "source": [
    "import pandas as pd\n",
    "import numpy as np\n",
    "import matplotlib.pyplot as plt\n",
    "import seaborn as sns\n",
    "import lightgbm as lgb\n",
    "import gc\n",
    "%matplotlib inline "
   ]
  },
  {
   "cell_type": "code",
   "execution_count": 39,
   "metadata": {},
   "outputs": [],
   "source": [
    "import warnings\n",
    "warnings.filterwarnings(\"ignore\")\n"
   ]
  },
  {
   "cell_type": "markdown",
   "metadata": {},
   "source": [
    "### 数据导入\n",
    "- 训练集测试集的导入"
   ]
  },
  {
   "cell_type": "code",
   "execution_count": 2,
   "metadata": {},
   "outputs": [],
   "source": [
    "path = '/home/zhongrunxing/data/kaggle/market_basket/'\n",
    "aisles = pd.read_csv(path + 'aisles.csv')\n",
    "departments = pd.read_csv(path + 'departments.csv')\n",
    "products = pd.read_csv(path + 'products.csv')\n",
    "orders = pd.read_csv(path + 'orders.csv')\n",
    "order_products__train = pd.read_csv(path + 'order_products__train.csv')\n",
    "order_products__prior = pd.read_csv(path + 'order_products__prior.csv')"
   ]
  },
  {
   "cell_type": "code",
   "execution_count": 3,
   "metadata": {},
   "outputs": [
    {
     "name": "stdout",
     "output_type": "stream",
     "text": [
      "total memory = 1,275,384,968 Bytes\n"
     ]
    }
   ],
   "source": [
    "m1 = aisles.memory_usage().sum()\n",
    "m2 = departments.memory_usage().sum()\n",
    "m3 = products.memory_usage().sum()\n",
    "m4 = orders.memory_usage().sum()\n",
    "m5 = order_products__train.memory_usage().sum()\n",
    "m6 = order_products__prior.memory_usage().sum()\n",
    "print('total memory = {:,.0f} Bytes'.format(m1+m2+m3+m4+m5+m6))"
   ]
  },
  {
   "cell_type": "code",
   "execution_count": null,
   "metadata": {},
   "outputs": [],
   "source": []
  },
  {
   "cell_type": "markdown",
   "metadata": {},
   "source": [
    "# EDA"
   ]
  },
  {
   "cell_type": "code",
   "execution_count": 5,
   "metadata": {},
   "outputs": [],
   "source": [
    "# 1.2.1  aisles数据集\n",
    "# 我们先放一下重要的结论,有兴趣的可以自己往下看具体的分析.\n",
    "\n",
    "# aisles的大小为134\n",
    "\n",
    "# aisles中存在134个不一样的数据"
   ]
  },
  {
   "cell_type": "code",
   "execution_count": 6,
   "metadata": {},
   "outputs": [
    {
     "data": {
      "text/html": [
       "<div>\n",
       "<style scoped>\n",
       "    .dataframe tbody tr th:only-of-type {\n",
       "        vertical-align: middle;\n",
       "    }\n",
       "\n",
       "    .dataframe tbody tr th {\n",
       "        vertical-align: top;\n",
       "    }\n",
       "\n",
       "    .dataframe thead th {\n",
       "        text-align: right;\n",
       "    }\n",
       "</style>\n",
       "<table border=\"1\" class=\"dataframe\">\n",
       "  <thead>\n",
       "    <tr style=\"text-align: right;\">\n",
       "      <th></th>\n",
       "      <th>aisle_id</th>\n",
       "      <th>aisle</th>\n",
       "    </tr>\n",
       "  </thead>\n",
       "  <tbody>\n",
       "    <tr>\n",
       "      <th>0</th>\n",
       "      <td>1</td>\n",
       "      <td>prepared soups salads</td>\n",
       "    </tr>\n",
       "    <tr>\n",
       "      <th>1</th>\n",
       "      <td>2</td>\n",
       "      <td>specialty cheeses</td>\n",
       "    </tr>\n",
       "    <tr>\n",
       "      <th>2</th>\n",
       "      <td>3</td>\n",
       "      <td>energy granola bars</td>\n",
       "    </tr>\n",
       "    <tr>\n",
       "      <th>3</th>\n",
       "      <td>4</td>\n",
       "      <td>instant foods</td>\n",
       "    </tr>\n",
       "    <tr>\n",
       "      <th>4</th>\n",
       "      <td>5</td>\n",
       "      <td>marinades meat preparation</td>\n",
       "    </tr>\n",
       "  </tbody>\n",
       "</table>\n",
       "</div>"
      ],
      "text/plain": [
       "   aisle_id                       aisle\n",
       "0         1       prepared soups salads\n",
       "1         2           specialty cheeses\n",
       "2         3         energy granola bars\n",
       "3         4               instant foods\n",
       "4         5  marinades meat preparation"
      ]
     },
     "execution_count": 6,
     "metadata": {},
     "output_type": "execute_result"
    }
   ],
   "source": [
    "aisles.head()"
   ]
  },
  {
   "cell_type": "code",
   "execution_count": 7,
   "metadata": {},
   "outputs": [
    {
     "data": {
      "text/plain": [
       "(134, 2)"
      ]
     },
     "execution_count": 7,
     "metadata": {},
     "output_type": "execute_result"
    }
   ],
   "source": [
    "aisles.shape"
   ]
  },
  {
   "cell_type": "code",
   "execution_count": 8,
   "metadata": {},
   "outputs": [
    {
     "data": {
      "text/plain": [
       "aisle_id    134\n",
       "aisle       134\n",
       "dtype: int64"
      ]
     },
     "execution_count": 8,
     "metadata": {},
     "output_type": "execute_result"
    }
   ],
   "source": [
    "aisles.nunique()"
   ]
  },
  {
   "cell_type": "code",
   "execution_count": null,
   "metadata": {},
   "outputs": [],
   "source": []
  },
  {
   "cell_type": "code",
   "execution_count": 9,
   "metadata": {},
   "outputs": [],
   "source": [
    "# 1.2.2  departments数据集\n",
    "# 我们先放一下重要的结论,有兴趣的可以自己往下看具体的分析.\n",
    "\n",
    "# departments的大小为21\n",
    "\n",
    "# departments中存在21个不一样的数据"
   ]
  },
  {
   "cell_type": "code",
   "execution_count": 10,
   "metadata": {},
   "outputs": [
    {
     "data": {
      "text/html": [
       "<div>\n",
       "<style scoped>\n",
       "    .dataframe tbody tr th:only-of-type {\n",
       "        vertical-align: middle;\n",
       "    }\n",
       "\n",
       "    .dataframe tbody tr th {\n",
       "        vertical-align: top;\n",
       "    }\n",
       "\n",
       "    .dataframe thead th {\n",
       "        text-align: right;\n",
       "    }\n",
       "</style>\n",
       "<table border=\"1\" class=\"dataframe\">\n",
       "  <thead>\n",
       "    <tr style=\"text-align: right;\">\n",
       "      <th></th>\n",
       "      <th>department_id</th>\n",
       "      <th>department</th>\n",
       "    </tr>\n",
       "  </thead>\n",
       "  <tbody>\n",
       "    <tr>\n",
       "      <th>0</th>\n",
       "      <td>1</td>\n",
       "      <td>frozen</td>\n",
       "    </tr>\n",
       "    <tr>\n",
       "      <th>1</th>\n",
       "      <td>2</td>\n",
       "      <td>other</td>\n",
       "    </tr>\n",
       "    <tr>\n",
       "      <th>2</th>\n",
       "      <td>3</td>\n",
       "      <td>bakery</td>\n",
       "    </tr>\n",
       "    <tr>\n",
       "      <th>3</th>\n",
       "      <td>4</td>\n",
       "      <td>produce</td>\n",
       "    </tr>\n",
       "    <tr>\n",
       "      <th>4</th>\n",
       "      <td>5</td>\n",
       "      <td>alcohol</td>\n",
       "    </tr>\n",
       "  </tbody>\n",
       "</table>\n",
       "</div>"
      ],
      "text/plain": [
       "   department_id department\n",
       "0              1     frozen\n",
       "1              2      other\n",
       "2              3     bakery\n",
       "3              4    produce\n",
       "4              5    alcohol"
      ]
     },
     "execution_count": 10,
     "metadata": {},
     "output_type": "execute_result"
    }
   ],
   "source": [
    "departments.head()"
   ]
  },
  {
   "cell_type": "code",
   "execution_count": 11,
   "metadata": {},
   "outputs": [
    {
     "data": {
      "text/plain": [
       "(21, 2)"
      ]
     },
     "execution_count": 11,
     "metadata": {},
     "output_type": "execute_result"
    }
   ],
   "source": [
    "departments.shape"
   ]
  },
  {
   "cell_type": "code",
   "execution_count": 12,
   "metadata": {},
   "outputs": [
    {
     "data": {
      "text/plain": [
       "department_id    21\n",
       "department       21\n",
       "dtype: int64"
      ]
     },
     "execution_count": 12,
     "metadata": {},
     "output_type": "execute_result"
    }
   ],
   "source": [
    "departments.nunique()"
   ]
  },
  {
   "cell_type": "code",
   "execution_count": null,
   "metadata": {},
   "outputs": [],
   "source": []
  },
  {
   "cell_type": "code",
   "execution_count": 13,
   "metadata": {},
   "outputs": [],
   "source": [
    "# 我们先放一下重要的结论,有兴趣的可以自己往下看具体的分析.\n",
    "\n",
    "# products数据集共有49688个值\n",
    "\n",
    "# products中存在49688个不一样的数据"
   ]
  },
  {
   "cell_type": "code",
   "execution_count": 14,
   "metadata": {},
   "outputs": [
    {
     "data": {
      "text/html": [
       "<div>\n",
       "<style scoped>\n",
       "    .dataframe tbody tr th:only-of-type {\n",
       "        vertical-align: middle;\n",
       "    }\n",
       "\n",
       "    .dataframe tbody tr th {\n",
       "        vertical-align: top;\n",
       "    }\n",
       "\n",
       "    .dataframe thead th {\n",
       "        text-align: right;\n",
       "    }\n",
       "</style>\n",
       "<table border=\"1\" class=\"dataframe\">\n",
       "  <thead>\n",
       "    <tr style=\"text-align: right;\">\n",
       "      <th></th>\n",
       "      <th>product_id</th>\n",
       "      <th>product_name</th>\n",
       "      <th>aisle_id</th>\n",
       "      <th>department_id</th>\n",
       "    </tr>\n",
       "  </thead>\n",
       "  <tbody>\n",
       "    <tr>\n",
       "      <th>0</th>\n",
       "      <td>1</td>\n",
       "      <td>Chocolate Sandwich Cookies</td>\n",
       "      <td>61</td>\n",
       "      <td>19</td>\n",
       "    </tr>\n",
       "    <tr>\n",
       "      <th>1</th>\n",
       "      <td>2</td>\n",
       "      <td>All-Seasons Salt</td>\n",
       "      <td>104</td>\n",
       "      <td>13</td>\n",
       "    </tr>\n",
       "    <tr>\n",
       "      <th>2</th>\n",
       "      <td>3</td>\n",
       "      <td>Robust Golden Unsweetened Oolong Tea</td>\n",
       "      <td>94</td>\n",
       "      <td>7</td>\n",
       "    </tr>\n",
       "    <tr>\n",
       "      <th>3</th>\n",
       "      <td>4</td>\n",
       "      <td>Smart Ones Classic Favorites Mini Rigatoni Wit...</td>\n",
       "      <td>38</td>\n",
       "      <td>1</td>\n",
       "    </tr>\n",
       "    <tr>\n",
       "      <th>4</th>\n",
       "      <td>5</td>\n",
       "      <td>Green Chile Anytime Sauce</td>\n",
       "      <td>5</td>\n",
       "      <td>13</td>\n",
       "    </tr>\n",
       "  </tbody>\n",
       "</table>\n",
       "</div>"
      ],
      "text/plain": [
       "   product_id                                       product_name  aisle_id  \\\n",
       "0           1                         Chocolate Sandwich Cookies        61   \n",
       "1           2                                   All-Seasons Salt       104   \n",
       "2           3               Robust Golden Unsweetened Oolong Tea        94   \n",
       "3           4  Smart Ones Classic Favorites Mini Rigatoni Wit...        38   \n",
       "4           5                          Green Chile Anytime Sauce         5   \n",
       "\n",
       "   department_id  \n",
       "0             19  \n",
       "1             13  \n",
       "2              7  \n",
       "3              1  \n",
       "4             13  "
      ]
     },
     "execution_count": 14,
     "metadata": {},
     "output_type": "execute_result"
    }
   ],
   "source": [
    "products.head()"
   ]
  },
  {
   "cell_type": "code",
   "execution_count": 15,
   "metadata": {},
   "outputs": [
    {
     "data": {
      "text/plain": [
       "(49688, 4)"
      ]
     },
     "execution_count": 15,
     "metadata": {},
     "output_type": "execute_result"
    }
   ],
   "source": [
    "products.shape"
   ]
  },
  {
   "cell_type": "code",
   "execution_count": 16,
   "metadata": {},
   "outputs": [
    {
     "data": {
      "text/plain": [
       "product_id       49688\n",
       "product_name     49688\n",
       "aisle_id           134\n",
       "department_id       21\n",
       "dtype: int64"
      ]
     },
     "execution_count": 16,
     "metadata": {},
     "output_type": "execute_result"
    }
   ],
   "source": [
    "products.nunique()"
   ]
  },
  {
   "cell_type": "code",
   "execution_count": null,
   "metadata": {},
   "outputs": [],
   "source": []
  },
  {
   "cell_type": "code",
   "execution_count": 17,
   "metadata": {},
   "outputs": [],
   "source": [
    "# 1.2.4  oders数据集\n",
    "# 我们先写一下重要的结论,有兴趣的可以自己往下看具体的分析.\n",
    "\n",
    "# orders数据集共有3421083个样本，并且days_since_prior_order特征中出现了缺失值的情况。\n",
    "\n",
    "# 我们发现,正如我们所料,所有的days_since_prior_order = NAN中order_number都是1,也就是第一单。\n",
    "\n",
    "# order_number ==1的个数和用户个数是一样的,也就是说order_number是用户的购买顺序.每一次购买都会对应一个不同的订单号。\n",
    "\n",
    "# user_id有206209个不同的值,eval_set,是一个categorical值,有3个不同的值。\n",
    "\n",
    "# order_hour_of_day,order_hour_of_day属于正常值,一周7天,一天24小时。\n",
    "\n",
    "# 一个用户最多有100条记录,最少有4条记录。\n",
    "\n",
    "# 用户对应记录为4的次数最多,由4-100的次数逐次递减。\n",
    "\n",
    "# eval_set是用来区分训练集&测试集&先验的,其中需要预测的test有75000个,prior中的类多了很多,这个时候需要考虑如何将prior和train进行拼接提取特征。\n",
    "\n",
    "# 我们发现有75000个用户出现在了prior中,但是却未出现在train中。\n",
    "\n",
    "# 训练集合中出现的用户在测试集中都未出现,但是却全部出现在了prior中。\n",
    "\n",
    "# 所有的product_id都出现在训练集合中,所以不存在任何奇异值的情况。\n",
    "\n",
    "# order_number存在时序关系,因为测试集和训练集不存在交集,我们发现训练集和测试集中的数据是最新的,所以我们的任务是预测未来用户会购买哪些产品.(order_number_max的值都出现在了训练集&测试集中)"
   ]
  },
  {
   "cell_type": "code",
   "execution_count": 18,
   "metadata": {},
   "outputs": [
    {
     "data": {
      "text/html": [
       "<div>\n",
       "<style scoped>\n",
       "    .dataframe tbody tr th:only-of-type {\n",
       "        vertical-align: middle;\n",
       "    }\n",
       "\n",
       "    .dataframe tbody tr th {\n",
       "        vertical-align: top;\n",
       "    }\n",
       "\n",
       "    .dataframe thead th {\n",
       "        text-align: right;\n",
       "    }\n",
       "</style>\n",
       "<table border=\"1\" class=\"dataframe\">\n",
       "  <thead>\n",
       "    <tr style=\"text-align: right;\">\n",
       "      <th></th>\n",
       "      <th>order_id</th>\n",
       "      <th>user_id</th>\n",
       "      <th>eval_set</th>\n",
       "      <th>order_number</th>\n",
       "      <th>order_dow</th>\n",
       "      <th>order_hour_of_day</th>\n",
       "      <th>days_since_prior_order</th>\n",
       "    </tr>\n",
       "  </thead>\n",
       "  <tbody>\n",
       "    <tr>\n",
       "      <th>0</th>\n",
       "      <td>2539329</td>\n",
       "      <td>1</td>\n",
       "      <td>prior</td>\n",
       "      <td>1</td>\n",
       "      <td>2</td>\n",
       "      <td>8</td>\n",
       "      <td>NaN</td>\n",
       "    </tr>\n",
       "    <tr>\n",
       "      <th>1</th>\n",
       "      <td>2398795</td>\n",
       "      <td>1</td>\n",
       "      <td>prior</td>\n",
       "      <td>2</td>\n",
       "      <td>3</td>\n",
       "      <td>7</td>\n",
       "      <td>15.0</td>\n",
       "    </tr>\n",
       "    <tr>\n",
       "      <th>2</th>\n",
       "      <td>473747</td>\n",
       "      <td>1</td>\n",
       "      <td>prior</td>\n",
       "      <td>3</td>\n",
       "      <td>3</td>\n",
       "      <td>12</td>\n",
       "      <td>21.0</td>\n",
       "    </tr>\n",
       "    <tr>\n",
       "      <th>3</th>\n",
       "      <td>2254736</td>\n",
       "      <td>1</td>\n",
       "      <td>prior</td>\n",
       "      <td>4</td>\n",
       "      <td>4</td>\n",
       "      <td>7</td>\n",
       "      <td>29.0</td>\n",
       "    </tr>\n",
       "    <tr>\n",
       "      <th>4</th>\n",
       "      <td>431534</td>\n",
       "      <td>1</td>\n",
       "      <td>prior</td>\n",
       "      <td>5</td>\n",
       "      <td>4</td>\n",
       "      <td>15</td>\n",
       "      <td>28.0</td>\n",
       "    </tr>\n",
       "  </tbody>\n",
       "</table>\n",
       "</div>"
      ],
      "text/plain": [
       "   order_id  user_id eval_set  order_number  order_dow  order_hour_of_day  \\\n",
       "0   2539329        1    prior             1          2                  8   \n",
       "1   2398795        1    prior             2          3                  7   \n",
       "2    473747        1    prior             3          3                 12   \n",
       "3   2254736        1    prior             4          4                  7   \n",
       "4    431534        1    prior             5          4                 15   \n",
       "\n",
       "   days_since_prior_order  \n",
       "0                     NaN  \n",
       "1                    15.0  \n",
       "2                    21.0  \n",
       "3                    29.0  \n",
       "4                    28.0  "
      ]
     },
     "execution_count": 18,
     "metadata": {},
     "output_type": "execute_result"
    }
   ],
   "source": [
    "# 1.orders数据集共有3421083个样本，并且days_since_prior_order特征中出现了缺失值的情况.\n",
    "# (因为数据的特征是存在物理含义的,所以此时我们得看一下为什么存在缺失的情况,可能是因为第一个订单,所以在此之前是不存在订单的.)\n",
    "orders.head()"
   ]
  },
  {
   "cell_type": "code",
   "execution_count": 19,
   "metadata": {},
   "outputs": [
    {
     "data": {
      "text/plain": [
       "(3421083, 7)"
      ]
     },
     "execution_count": 19,
     "metadata": {},
     "output_type": "execute_result"
    }
   ],
   "source": [
    "orders.shape"
   ]
  },
  {
   "cell_type": "code",
   "execution_count": 20,
   "metadata": {},
   "outputs": [],
   "source": [
    "# 2.我们发现,正如我们所料,所有的days_since_prior_order = NAN中order_number都是1,\n",
    "# 也就是第一单,因而不存在上一单,这个时候我们如果我们采用树模型解决该问题,那么尽量不要将缺失值进行填充,\n",
    "# 或者填充为其他较大值为好.(因为填充-1等较小值,模型往往可能认为购买的时间较近)"
   ]
  },
  {
   "cell_type": "code",
   "execution_count": 21,
   "metadata": {},
   "outputs": [
    {
     "data": {
      "text/html": [
       "<div>\n",
       "<style scoped>\n",
       "    .dataframe tbody tr th:only-of-type {\n",
       "        vertical-align: middle;\n",
       "    }\n",
       "\n",
       "    .dataframe tbody tr th {\n",
       "        vertical-align: top;\n",
       "    }\n",
       "\n",
       "    .dataframe thead th {\n",
       "        text-align: right;\n",
       "    }\n",
       "</style>\n",
       "<table border=\"1\" class=\"dataframe\">\n",
       "  <thead>\n",
       "    <tr style=\"text-align: right;\">\n",
       "      <th></th>\n",
       "      <th>order_id</th>\n",
       "      <th>user_id</th>\n",
       "      <th>eval_set</th>\n",
       "      <th>order_number</th>\n",
       "      <th>order_dow</th>\n",
       "      <th>order_hour_of_day</th>\n",
       "      <th>days_since_prior_order</th>\n",
       "    </tr>\n",
       "  </thead>\n",
       "  <tbody>\n",
       "    <tr>\n",
       "      <th>0</th>\n",
       "      <td>2539329</td>\n",
       "      <td>1</td>\n",
       "      <td>prior</td>\n",
       "      <td>1</td>\n",
       "      <td>2</td>\n",
       "      <td>8</td>\n",
       "      <td>NaN</td>\n",
       "    </tr>\n",
       "    <tr>\n",
       "      <th>11</th>\n",
       "      <td>2168274</td>\n",
       "      <td>2</td>\n",
       "      <td>prior</td>\n",
       "      <td>1</td>\n",
       "      <td>2</td>\n",
       "      <td>11</td>\n",
       "      <td>NaN</td>\n",
       "    </tr>\n",
       "    <tr>\n",
       "      <th>26</th>\n",
       "      <td>1374495</td>\n",
       "      <td>3</td>\n",
       "      <td>prior</td>\n",
       "      <td>1</td>\n",
       "      <td>1</td>\n",
       "      <td>14</td>\n",
       "      <td>NaN</td>\n",
       "    </tr>\n",
       "    <tr>\n",
       "      <th>39</th>\n",
       "      <td>3343014</td>\n",
       "      <td>4</td>\n",
       "      <td>prior</td>\n",
       "      <td>1</td>\n",
       "      <td>6</td>\n",
       "      <td>11</td>\n",
       "      <td>NaN</td>\n",
       "    </tr>\n",
       "    <tr>\n",
       "      <th>45</th>\n",
       "      <td>2717275</td>\n",
       "      <td>5</td>\n",
       "      <td>prior</td>\n",
       "      <td>1</td>\n",
       "      <td>3</td>\n",
       "      <td>12</td>\n",
       "      <td>NaN</td>\n",
       "    </tr>\n",
       "    <tr>\n",
       "      <th>50</th>\n",
       "      <td>2086598</td>\n",
       "      <td>6</td>\n",
       "      <td>prior</td>\n",
       "      <td>1</td>\n",
       "      <td>5</td>\n",
       "      <td>18</td>\n",
       "      <td>NaN</td>\n",
       "    </tr>\n",
       "    <tr>\n",
       "      <th>54</th>\n",
       "      <td>2565571</td>\n",
       "      <td>7</td>\n",
       "      <td>prior</td>\n",
       "      <td>1</td>\n",
       "      <td>3</td>\n",
       "      <td>9</td>\n",
       "      <td>NaN</td>\n",
       "    </tr>\n",
       "    <tr>\n",
       "      <th>75</th>\n",
       "      <td>600894</td>\n",
       "      <td>8</td>\n",
       "      <td>prior</td>\n",
       "      <td>1</td>\n",
       "      <td>6</td>\n",
       "      <td>0</td>\n",
       "      <td>NaN</td>\n",
       "    </tr>\n",
       "    <tr>\n",
       "      <th>79</th>\n",
       "      <td>280530</td>\n",
       "      <td>9</td>\n",
       "      <td>prior</td>\n",
       "      <td>1</td>\n",
       "      <td>1</td>\n",
       "      <td>17</td>\n",
       "      <td>NaN</td>\n",
       "    </tr>\n",
       "    <tr>\n",
       "      <th>83</th>\n",
       "      <td>1224907</td>\n",
       "      <td>10</td>\n",
       "      <td>prior</td>\n",
       "      <td>1</td>\n",
       "      <td>2</td>\n",
       "      <td>14</td>\n",
       "      <td>NaN</td>\n",
       "    </tr>\n",
       "  </tbody>\n",
       "</table>\n",
       "</div>"
      ],
      "text/plain": [
       "    order_id  user_id eval_set  order_number  order_dow  order_hour_of_day  \\\n",
       "0    2539329        1    prior             1          2                  8   \n",
       "11   2168274        2    prior             1          2                 11   \n",
       "26   1374495        3    prior             1          1                 14   \n",
       "39   3343014        4    prior             1          6                 11   \n",
       "45   2717275        5    prior             1          3                 12   \n",
       "50   2086598        6    prior             1          5                 18   \n",
       "54   2565571        7    prior             1          3                  9   \n",
       "75    600894        8    prior             1          6                  0   \n",
       "79    280530        9    prior             1          1                 17   \n",
       "83   1224907       10    prior             1          2                 14   \n",
       "\n",
       "    days_since_prior_order  \n",
       "0                      NaN  \n",
       "11                     NaN  \n",
       "26                     NaN  \n",
       "39                     NaN  \n",
       "45                     NaN  \n",
       "50                     NaN  \n",
       "54                     NaN  \n",
       "75                     NaN  \n",
       "79                     NaN  \n",
       "83                     NaN  "
      ]
     },
     "execution_count": 21,
     "metadata": {},
     "output_type": "execute_result"
    }
   ],
   "source": [
    "orders.loc[orders.days_since_prior_order.isnull()].head(10)"
   ]
  },
  {
   "cell_type": "code",
   "execution_count": 22,
   "metadata": {},
   "outputs": [],
   "source": [
    "# 3.order_number ==1的个数和用户个数是一样的,也就是说order_number是用户的购买顺序.每一次购买都会对应一个不同的订单号。"
   ]
  },
  {
   "cell_type": "code",
   "execution_count": null,
   "metadata": {},
   "outputs": [],
   "source": [
    "# 4.user_id有206209个不同的值,eval_set,是一个categorical值,有3个不同的值。"
   ]
  },
  {
   "cell_type": "code",
   "execution_count": 23,
   "metadata": {},
   "outputs": [
    {
     "name": "stdout",
     "output_type": "stream",
     "text": [
      "There are  206209 samples with order_number=1 \n"
     ]
    }
   ],
   "source": [
    "print('There are  %d samples with order_number=1 ' % np.sum(orders['order_number'] == 1))"
   ]
  },
  {
   "cell_type": "code",
   "execution_count": 24,
   "metadata": {},
   "outputs": [
    {
     "data": {
      "text/plain": [
       "order_id                  3421083\n",
       "user_id                    206209\n",
       "eval_set                        3\n",
       "order_number                  100\n",
       "order_dow                       7\n",
       "order_hour_of_day              24\n",
       "days_since_prior_order         31\n",
       "dtype: int64"
      ]
     },
     "execution_count": 24,
     "metadata": {},
     "output_type": "execute_result"
    }
   ],
   "source": [
    "orders.nunique()"
   ]
  },
  {
   "cell_type": "code",
   "execution_count": 25,
   "metadata": {
    "scrolled": true
   },
   "outputs": [
    {
     "data": {
      "text/plain": [
       "user_id\n",
       "206209    1\n",
       "68732     1\n",
       "68742     1\n",
       "68741     1\n",
       "68740     1\n",
       "68739     1\n",
       "68738     1\n",
       "68737     1\n",
       "68736     1\n",
       "68735     1\n",
       "68734     1\n",
       "68733     1\n",
       "68731     1\n",
       "68769     1\n",
       "68730     1\n",
       "68729     1\n",
       "68728     1\n",
       "68727     1\n",
       "68726     1\n",
       "68725     1\n",
       "68724     1\n",
       "68723     1\n",
       "68722     1\n",
       "68721     1\n",
       "68743     1\n",
       "68744     1\n",
       "68745     1\n",
       "68746     1\n",
       "68767     1\n",
       "68766     1\n",
       "         ..\n",
       "137445    1\n",
       "137444    1\n",
       "137443    1\n",
       "137442    1\n",
       "137463    1\n",
       "137465    1\n",
       "137488    1\n",
       "137466    1\n",
       "137487    1\n",
       "137486    1\n",
       "137485    1\n",
       "137484    1\n",
       "137483    1\n",
       "137482    1\n",
       "137481    1\n",
       "137480    1\n",
       "137479    1\n",
       "137478    1\n",
       "137477    1\n",
       "137476    1\n",
       "137475    1\n",
       "137474    1\n",
       "137473    1\n",
       "137472    1\n",
       "137471    1\n",
       "137470    1\n",
       "137469    1\n",
       "137468    1\n",
       "137467    1\n",
       "1         1\n",
       "Name: order_number, Length: 206209, dtype: int64"
      ]
     },
     "execution_count": 25,
     "metadata": {},
     "output_type": "execute_result"
    }
   ],
   "source": [
    "orders.groupby('user_id')['order_number'].min().sort_values(ascending = False)"
   ]
  },
  {
   "cell_type": "code",
   "execution_count": 26,
   "metadata": {},
   "outputs": [],
   "source": [
    "# 基于上面的信息,我们再来看几个简单的类别特征,这里主要是为了获取一些基础的信息,同时查看是否存在一些奇异值。"
   ]
  },
  {
   "cell_type": "code",
   "execution_count": 27,
   "metadata": {},
   "outputs": [],
   "source": [
    "# 5.order_hour_of_day,order_hour_of_day属于正常值,一周7天,一天24小时"
   ]
  },
  {
   "cell_type": "code",
   "execution_count": 28,
   "metadata": {},
   "outputs": [
    {
     "data": {
      "text/html": [
       "<div>\n",
       "<style scoped>\n",
       "    .dataframe tbody tr th:only-of-type {\n",
       "        vertical-align: middle;\n",
       "    }\n",
       "\n",
       "    .dataframe tbody tr th {\n",
       "        vertical-align: top;\n",
       "    }\n",
       "\n",
       "    .dataframe thead th {\n",
       "        text-align: right;\n",
       "    }\n",
       "</style>\n",
       "<table border=\"1\" class=\"dataframe\">\n",
       "  <thead>\n",
       "    <tr style=\"text-align: right;\">\n",
       "      <th></th>\n",
       "      <th>order_dow</th>\n",
       "      <th>order_hour_of_day</th>\n",
       "    </tr>\n",
       "  </thead>\n",
       "  <tbody>\n",
       "    <tr>\n",
       "      <th>count</th>\n",
       "      <td>3.421083e+06</td>\n",
       "      <td>3.421083e+06</td>\n",
       "    </tr>\n",
       "    <tr>\n",
       "      <th>mean</th>\n",
       "      <td>2.776219e+00</td>\n",
       "      <td>1.345202e+01</td>\n",
       "    </tr>\n",
       "    <tr>\n",
       "      <th>std</th>\n",
       "      <td>2.046829e+00</td>\n",
       "      <td>4.226088e+00</td>\n",
       "    </tr>\n",
       "    <tr>\n",
       "      <th>min</th>\n",
       "      <td>0.000000e+00</td>\n",
       "      <td>0.000000e+00</td>\n",
       "    </tr>\n",
       "    <tr>\n",
       "      <th>25%</th>\n",
       "      <td>1.000000e+00</td>\n",
       "      <td>1.000000e+01</td>\n",
       "    </tr>\n",
       "    <tr>\n",
       "      <th>50%</th>\n",
       "      <td>3.000000e+00</td>\n",
       "      <td>1.300000e+01</td>\n",
       "    </tr>\n",
       "    <tr>\n",
       "      <th>75%</th>\n",
       "      <td>5.000000e+00</td>\n",
       "      <td>1.600000e+01</td>\n",
       "    </tr>\n",
       "    <tr>\n",
       "      <th>max</th>\n",
       "      <td>6.000000e+00</td>\n",
       "      <td>2.300000e+01</td>\n",
       "    </tr>\n",
       "  </tbody>\n",
       "</table>\n",
       "</div>"
      ],
      "text/plain": [
       "          order_dow  order_hour_of_day\n",
       "count  3.421083e+06       3.421083e+06\n",
       "mean   2.776219e+00       1.345202e+01\n",
       "std    2.046829e+00       4.226088e+00\n",
       "min    0.000000e+00       0.000000e+00\n",
       "25%    1.000000e+00       1.000000e+01\n",
       "50%    3.000000e+00       1.300000e+01\n",
       "75%    5.000000e+00       1.600000e+01\n",
       "max    6.000000e+00       2.300000e+01"
      ]
     },
     "execution_count": 28,
     "metadata": {},
     "output_type": "execute_result"
    }
   ],
   "source": [
    "orders[['order_dow','order_hour_of_day']].describe()"
   ]
  },
  {
   "cell_type": "code",
   "execution_count": 30,
   "metadata": {},
   "outputs": [],
   "source": [
    "# 6.一个用户最多有100条记录,最少有4条记录.\n",
    "# 因为value_counts默认是递减排序的,我们发现一个用户的订单个数最多是100,最少是4。"
   ]
  },
  {
   "cell_type": "code",
   "execution_count": 31,
   "metadata": {},
   "outputs": [
    {
     "data": {
      "text/plain": [
       "53684     100\n",
       "201623    100\n",
       "50817     100\n",
       "176951    100\n",
       "88911     100\n",
       "Name: user_id, dtype: int64"
      ]
     },
     "execution_count": 31,
     "metadata": {},
     "output_type": "execute_result"
    }
   ],
   "source": [
    "orders['user_id'].value_counts()[:5]"
   ]
  },
  {
   "cell_type": "code",
   "execution_count": 33,
   "metadata": {},
   "outputs": [
    {
     "data": {
      "text/plain": [
       "24224     4\n",
       "199509    4\n",
       "32420     4\n",
       "21310     4\n",
       "196830    4\n",
       "Name: user_id, dtype: int64"
      ]
     },
     "execution_count": 33,
     "metadata": {},
     "output_type": "execute_result"
    }
   ],
   "source": [
    "orders['user_id'].value_counts()[-5:]"
   ]
  },
  {
   "cell_type": "code",
   "execution_count": 34,
   "metadata": {},
   "outputs": [],
   "source": [
    "# 7.用户对应记录为4的次数最多,由4-100的次数逐次递减。"
   ]
  },
  {
   "cell_type": "code",
   "execution_count": null,
   "metadata": {},
   "outputs": [],
   "source": []
  },
  {
   "cell_type": "code",
   "execution_count": 40,
   "metadata": {},
   "outputs": [
    {
     "data": {
      "text/plain": [
       "<matplotlib.axes._subplots.AxesSubplot at 0x7f71084992d0>"
      ]
     },
     "execution_count": 40,
     "metadata": {},
     "output_type": "execute_result"
    },
    {
     "data": {
      "image/png": "[encoded data removed]",
      "text/plain": [
       "<Figure size 432x288 with 1 Axes>"
      ]
     },
     "metadata": {},
     "output_type": "display_data"
    }
   ],
   "source": [
    "tmp = pd.DataFrame(orders['user_id'].value_counts().values,\n",
    "                   columns = ['user_correspoding_samples'])\n",
    "tmp = tmp['user_correspoding_samples'].value_counts()\n",
    "sns.barplot(x =  tmp.index, y =tmp.values)"
   ]
  },
  {
   "cell_type": "code",
   "execution_count": 42,
   "metadata": {},
   "outputs": [],
   "source": [
    "# 8.eval_set是用来区分训练集&测试集&先验的,其中需要预测的test有75000个,\n",
    "# prior中的类多了很多,这个时候需要考虑如何将prior和train进行拼接提取特征。"
   ]
  },
  {
   "cell_type": "code",
   "execution_count": 43,
   "metadata": {},
   "outputs": [
    {
     "data": {
      "text/plain": [
       "prior    3214874\n",
       "train     131209\n",
       "test       75000\n",
       "Name: eval_set, dtype: int64"
      ]
     },
     "execution_count": 43,
     "metadata": {},
     "output_type": "execute_result"
    }
   ],
   "source": [
    "orders['eval_set'].value_counts()"
   ]
  },
  {
   "cell_type": "code",
   "execution_count": 44,
   "metadata": {},
   "outputs": [],
   "source": [
    "# 下面我看一下prior,train,test中用户的交叉情况,因为用户在所有的推荐问题中都将是一个极为重要的特征变量。"
   ]
  },
  {
   "cell_type": "code",
   "execution_count": 45,
   "metadata": {},
   "outputs": [],
   "source": [
    "# 9.我们发现有75000个用户出现在了prior中,但是却未出现在train中。"
   ]
  },
  {
   "cell_type": "code",
   "execution_count": 46,
   "metadata": {},
   "outputs": [
    {
     "data": {
      "text/plain": [
       "75000"
      ]
     },
     "execution_count": 46,
     "metadata": {},
     "output_type": "execute_result"
    }
   ],
   "source": [
    "len(set(orders.loc[orders['eval_set']=='prior','user_id']) - set(orders.loc[orders['eval_set']=='train','user_id']))"
   ]
  },
  {
   "cell_type": "code",
   "execution_count": 47,
   "metadata": {},
   "outputs": [
    {
     "data": {
      "text/plain": [
       "131209"
      ]
     },
     "execution_count": 47,
     "metadata": {},
     "output_type": "execute_result"
    }
   ],
   "source": [
    "len(set(orders.loc[orders['eval_set']=='train','user_id']))"
   ]
  },
  {
   "cell_type": "code",
   "execution_count": 48,
   "metadata": {},
   "outputs": [],
   "source": [
    "# 10.训练集合中出现的用户在测试集中都未出现,但是却全部出现在了prior中。\n",
    "# 这点很重要,这也意味着用户的id编码在模型预测时,可能并不能带来增益,可以考虑删除."
   ]
  },
  {
   "cell_type": "code",
   "execution_count": 49,
   "metadata": {},
   "outputs": [
    {
     "data": {
      "text/plain": [
       "131209"
      ]
     },
     "execution_count": 49,
     "metadata": {},
     "output_type": "execute_result"
    }
   ],
   "source": [
    "len(set(orders.loc[orders['eval_set']=='train','user_id']) - set(orders.loc[orders['eval_set']=='test','user_id']))"
   ]
  },
  {
   "cell_type": "code",
   "execution_count": 50,
   "metadata": {},
   "outputs": [
    {
     "data": {
      "text/plain": [
       "0"
      ]
     },
     "execution_count": 50,
     "metadata": {},
     "output_type": "execute_result"
    }
   ],
   "source": [
    "len(set(orders.loc[orders['eval_set']=='test','user_id']) - set(orders.loc[orders['eval_set']=='prior','user_id']))"
   ]
  },
  {
   "cell_type": "code",
   "execution_count": 51,
   "metadata": {},
   "outputs": [],
   "source": [
    "# 11.所有的product_id都出现在训练集合中,所以不存在任何奇异值的情况"
   ]
  },
  {
   "cell_type": "code",
   "execution_count": 52,
   "metadata": {},
   "outputs": [
    {
     "data": {
      "text/plain": [
       "set()"
      ]
     },
     "execution_count": 52,
     "metadata": {},
     "output_type": "execute_result"
    }
   ],
   "source": [
    "set(order_products__prior['product_id'].values) - set(products['product_id'].values)\n"
   ]
  },
  {
   "cell_type": "code",
   "execution_count": 53,
   "metadata": {},
   "outputs": [
    {
     "data": {
      "text/html": [
       "<div>\n",
       "<style scoped>\n",
       "    .dataframe tbody tr th:only-of-type {\n",
       "        vertical-align: middle;\n",
       "    }\n",
       "\n",
       "    .dataframe tbody tr th {\n",
       "        vertical-align: top;\n",
       "    }\n",
       "\n",
       "    .dataframe thead th {\n",
       "        text-align: right;\n",
       "    }\n",
       "</style>\n",
       "<table border=\"1\" class=\"dataframe\">\n",
       "  <thead>\n",
       "    <tr style=\"text-align: right;\">\n",
       "      <th></th>\n",
       "      <th>order_id</th>\n",
       "      <th>user_id</th>\n",
       "      <th>eval_set</th>\n",
       "      <th>order_number</th>\n",
       "      <th>order_dow</th>\n",
       "      <th>order_hour_of_day</th>\n",
       "      <th>days_since_prior_order</th>\n",
       "    </tr>\n",
       "  </thead>\n",
       "  <tbody>\n",
       "    <tr>\n",
       "      <th>0</th>\n",
       "      <td>2539329</td>\n",
       "      <td>1</td>\n",
       "      <td>prior</td>\n",
       "      <td>1</td>\n",
       "      <td>2</td>\n",
       "      <td>8</td>\n",
       "      <td>NaN</td>\n",
       "    </tr>\n",
       "    <tr>\n",
       "      <th>1</th>\n",
       "      <td>2398795</td>\n",
       "      <td>1</td>\n",
       "      <td>prior</td>\n",
       "      <td>2</td>\n",
       "      <td>3</td>\n",
       "      <td>7</td>\n",
       "      <td>15.0</td>\n",
       "    </tr>\n",
       "    <tr>\n",
       "      <th>2</th>\n",
       "      <td>473747</td>\n",
       "      <td>1</td>\n",
       "      <td>prior</td>\n",
       "      <td>3</td>\n",
       "      <td>3</td>\n",
       "      <td>12</td>\n",
       "      <td>21.0</td>\n",
       "    </tr>\n",
       "    <tr>\n",
       "      <th>3</th>\n",
       "      <td>2254736</td>\n",
       "      <td>1</td>\n",
       "      <td>prior</td>\n",
       "      <td>4</td>\n",
       "      <td>4</td>\n",
       "      <td>7</td>\n",
       "      <td>29.0</td>\n",
       "    </tr>\n",
       "    <tr>\n",
       "      <th>4</th>\n",
       "      <td>431534</td>\n",
       "      <td>1</td>\n",
       "      <td>prior</td>\n",
       "      <td>5</td>\n",
       "      <td>4</td>\n",
       "      <td>15</td>\n",
       "      <td>28.0</td>\n",
       "    </tr>\n",
       "  </tbody>\n",
       "</table>\n",
       "</div>"
      ],
      "text/plain": [
       "   order_id  user_id eval_set  order_number  order_dow  order_hour_of_day  \\\n",
       "0   2539329        1    prior             1          2                  8   \n",
       "1   2398795        1    prior             2          3                  7   \n",
       "2    473747        1    prior             3          3                 12   \n",
       "3   2254736        1    prior             4          4                  7   \n",
       "4    431534        1    prior             5          4                 15   \n",
       "\n",
       "   days_since_prior_order  \n",
       "0                     NaN  \n",
       "1                    15.0  \n",
       "2                    21.0  \n",
       "3                    29.0  \n",
       "4                    28.0  "
      ]
     },
     "execution_count": 53,
     "metadata": {},
     "output_type": "execute_result"
    }
   ],
   "source": [
    "orders.head()"
   ]
  },
  {
   "cell_type": "code",
   "execution_count": 54,
   "metadata": {},
   "outputs": [],
   "source": [
    "# 我们再看一下order_number与订单的关系，我们发现:\n",
    "\n",
    "# 12.order_number存在时序关系,因为测试集和训练集不存在交集,我们发现训练集和测试集中的数据是最新的,\n",
    "# 所以我们的任务是预测未来用户会购买哪些产品.(order_number_max的值都出现在了训练集&测试集中)"
   ]
  },
  {
   "cell_type": "code",
   "execution_count": 55,
   "metadata": {},
   "outputs": [
    {
     "data": {
      "text/plain": [
       "prior    3214874\n",
       "Name: eval_set, dtype: int64"
      ]
     },
     "execution_count": 55,
     "metadata": {},
     "output_type": "execute_result"
    }
   ],
   "source": [
    "orders['order_number_max'] = orders.groupby('user_id')['order_number'].transform('max').values\n",
    "orders.loc[orders.order_number!=orders.order_number_max,'eval_set'].value_counts()"
   ]
  },
  {
   "cell_type": "code",
   "execution_count": 56,
   "metadata": {},
   "outputs": [
    {
     "data": {
      "text/plain": [
       "train    131209\n",
       "test      75000\n",
       "Name: eval_set, dtype: int64"
      ]
     },
     "execution_count": 56,
     "metadata": {},
     "output_type": "execute_result"
    }
   ],
   "source": [
    "orders.loc[orders.order_number==orders.order_number_max,'eval_set'].value_counts()"
   ]
  },
  {
   "cell_type": "code",
   "execution_count": null,
   "metadata": {},
   "outputs": [],
   "source": []
  },
  {
   "cell_type": "code",
   "execution_count": 57,
   "metadata": {},
   "outputs": [],
   "source": [
    "# 1.2.5  order_products_prior.csv数据集\n",
    "# 下面我们再看一下order_products__prior数据集。\n",
    "\n",
    "# 一个order_id对应多个product_id,一个订单里面有很多产品,这很符合我们的购物经验。\n",
    "\n",
    "# order_products__prior数据集共有32434489个样本。\n",
    "\n",
    "# order_id有3214874个不同的,和之前的orders是一致的。\n",
    "\n",
    "# reordered的均值是0.58967,也就是说有大概42%的数据是没记录的,剩下的都是之前有买过的。\n",
    "\n",
    "# 添加到购物篮清单顺序,从1-145次数依次递减,符合实际情况,并无异常值,但是我们发现加入到篮子中的顺序越大,产品越少。和我们的直觉也是一样的。"
   ]
  },
  {
   "cell_type": "code",
   "execution_count": 59,
   "metadata": {},
   "outputs": [],
   "source": [
    "# 1.一个order_id对应多个product_id,一个订单里面有很多产品,这很符合我们的购物经验."
   ]
  },
  {
   "cell_type": "code",
   "execution_count": 60,
   "metadata": {},
   "outputs": [],
   "source": [
    "# 2.order_products__prior数据集共有32434489个样本"
   ]
  },
  {
   "cell_type": "code",
   "execution_count": 61,
   "metadata": {},
   "outputs": [
    {
     "data": {
      "text/html": [
       "<div>\n",
       "<style scoped>\n",
       "    .dataframe tbody tr th:only-of-type {\n",
       "        vertical-align: middle;\n",
       "    }\n",
       "\n",
       "    .dataframe tbody tr th {\n",
       "        vertical-align: top;\n",
       "    }\n",
       "\n",
       "    .dataframe thead th {\n",
       "        text-align: right;\n",
       "    }\n",
       "</style>\n",
       "<table border=\"1\" class=\"dataframe\">\n",
       "  <thead>\n",
       "    <tr style=\"text-align: right;\">\n",
       "      <th></th>\n",
       "      <th>order_id</th>\n",
       "      <th>product_id</th>\n",
       "      <th>add_to_cart_order</th>\n",
       "      <th>reordered</th>\n",
       "    </tr>\n",
       "  </thead>\n",
       "  <tbody>\n",
       "    <tr>\n",
       "      <th>0</th>\n",
       "      <td>2</td>\n",
       "      <td>33120</td>\n",
       "      <td>1</td>\n",
       "      <td>1</td>\n",
       "    </tr>\n",
       "    <tr>\n",
       "      <th>1</th>\n",
       "      <td>2</td>\n",
       "      <td>28985</td>\n",
       "      <td>2</td>\n",
       "      <td>1</td>\n",
       "    </tr>\n",
       "    <tr>\n",
       "      <th>2</th>\n",
       "      <td>2</td>\n",
       "      <td>9327</td>\n",
       "      <td>3</td>\n",
       "      <td>0</td>\n",
       "    </tr>\n",
       "    <tr>\n",
       "      <th>3</th>\n",
       "      <td>2</td>\n",
       "      <td>45918</td>\n",
       "      <td>4</td>\n",
       "      <td>1</td>\n",
       "    </tr>\n",
       "    <tr>\n",
       "      <th>4</th>\n",
       "      <td>2</td>\n",
       "      <td>30035</td>\n",
       "      <td>5</td>\n",
       "      <td>0</td>\n",
       "    </tr>\n",
       "  </tbody>\n",
       "</table>\n",
       "</div>"
      ],
      "text/plain": [
       "   order_id  product_id  add_to_cart_order  reordered\n",
       "0         2       33120                  1          1\n",
       "1         2       28985                  2          1\n",
       "2         2        9327                  3          0\n",
       "3         2       45918                  4          1\n",
       "4         2       30035                  5          0"
      ]
     },
     "execution_count": 61,
     "metadata": {},
     "output_type": "execute_result"
    }
   ],
   "source": [
    "order_products__prior.head()"
   ]
  },
  {
   "cell_type": "code",
   "execution_count": 62,
   "metadata": {},
   "outputs": [
    {
     "data": {
      "text/plain": [
       "(32434489, 4)"
      ]
     },
     "execution_count": 62,
     "metadata": {},
     "output_type": "execute_result"
    }
   ],
   "source": [
    "order_products__prior.shape"
   ]
  },
  {
   "cell_type": "code",
   "execution_count": null,
   "metadata": {},
   "outputs": [],
   "source": [
    "# 3.order_id有3214874个不同的,和之前的orders是一致的"
   ]
  },
  {
   "cell_type": "code",
   "execution_count": null,
   "metadata": {},
   "outputs": [],
   "source": [
    "# 4.reordered的均值是0.58967,也就是说有大概42%的数据是没记录的,剩下的都是之前有买过的."
   ]
  },
  {
   "cell_type": "code",
   "execution_count": 63,
   "metadata": {},
   "outputs": [
    {
     "data": {
      "text/plain": [
       "order_id             3214874\n",
       "product_id             49677\n",
       "add_to_cart_order        145\n",
       "reordered                  2\n",
       "dtype: int64"
      ]
     },
     "execution_count": 63,
     "metadata": {},
     "output_type": "execute_result"
    }
   ],
   "source": [
    "order_products__prior.nunique()"
   ]
  },
  {
   "cell_type": "code",
   "execution_count": 64,
   "metadata": {},
   "outputs": [
    {
     "data": {
      "text/plain": [
       "0.5896974667922161"
      ]
     },
     "execution_count": 64,
     "metadata": {},
     "output_type": "execute_result"
    }
   ],
   "source": [
    "order_products__prior['reordered'].mean()"
   ]
  },
  {
   "cell_type": "code",
   "execution_count": 65,
   "metadata": {},
   "outputs": [],
   "source": [
    "# 5.添加到购物篮清单顺序,从1-145次数依次递减,符合实际情况,并无异常值,\n",
    "# 但是我们发现加入到篮子中的顺序越大,产品越少。和我们的直觉也是一样的。"
   ]
  },
  {
   "cell_type": "code",
   "execution_count": 66,
   "metadata": {
    "scrolled": true
   },
   "outputs": [
    {
     "data": {
      "text/plain": [
       "1      3214874\n",
       "2      3058126\n",
       "3      2871133\n",
       "4      2664106\n",
       "5      2442025\n",
       "6      2213695\n",
       "7      1986020\n",
       "8      1766014\n",
       "9      1562640\n",
       "10     1378293\n",
       "11     1212743\n",
       "12     1065282\n",
       "13      933702\n",
       "14      816831\n",
       "15      713148\n",
       "16      621504\n",
       "17      540312\n",
       "18      468952\n",
       "19      406323\n",
       "20      351506\n",
       "21      303410\n",
       "22      261547\n",
       "23      225179\n",
       "24      193507\n",
       "25      166442\n",
       "26      142829\n",
       "27      122546\n",
       "28      105058\n",
       "29       89956\n",
       "30       76923\n",
       "        ...   \n",
       "116          5\n",
       "117          4\n",
       "118          4\n",
       "119          4\n",
       "120          4\n",
       "121          4\n",
       "124          3\n",
       "125          3\n",
       "127          3\n",
       "126          3\n",
       "123          3\n",
       "122          3\n",
       "128          2\n",
       "129          2\n",
       "130          2\n",
       "131          2\n",
       "132          2\n",
       "133          2\n",
       "134          2\n",
       "135          2\n",
       "136          2\n",
       "137          2\n",
       "143          1\n",
       "141          1\n",
       "142          1\n",
       "144          1\n",
       "140          1\n",
       "139          1\n",
       "138          1\n",
       "145          1\n",
       "Name: add_to_cart_order, Length: 145, dtype: int64"
      ]
     },
     "execution_count": 66,
     "metadata": {},
     "output_type": "execute_result"
    }
   ],
   "source": [
    "order_products__prior['add_to_cart_order'].value_counts()"
   ]
  },
  {
   "cell_type": "code",
   "execution_count": 67,
   "metadata": {},
   "outputs": [
    {
     "data": {
      "text/html": [
       "<div>\n",
       "<style scoped>\n",
       "    .dataframe tbody tr th:only-of-type {\n",
       "        vertical-align: middle;\n",
       "    }\n",
       "\n",
       "    .dataframe tbody tr th {\n",
       "        vertical-align: top;\n",
       "    }\n",
       "\n",
       "    .dataframe thead th {\n",
       "        text-align: right;\n",
       "    }\n",
       "</style>\n",
       "<table border=\"1\" class=\"dataframe\">\n",
       "  <thead>\n",
       "    <tr style=\"text-align: right;\">\n",
       "      <th></th>\n",
       "      <th>add_to_cart_order</th>\n",
       "    </tr>\n",
       "  </thead>\n",
       "  <tbody>\n",
       "    <tr>\n",
       "      <th>1</th>\n",
       "      <td>3214874</td>\n",
       "    </tr>\n",
       "    <tr>\n",
       "      <th>2</th>\n",
       "      <td>3058126</td>\n",
       "    </tr>\n",
       "    <tr>\n",
       "      <th>3</th>\n",
       "      <td>2871133</td>\n",
       "    </tr>\n",
       "    <tr>\n",
       "      <th>4</th>\n",
       "      <td>2664106</td>\n",
       "    </tr>\n",
       "    <tr>\n",
       "      <th>5</th>\n",
       "      <td>2442025</td>\n",
       "    </tr>\n",
       "  </tbody>\n",
       "</table>\n",
       "</div>"
      ],
      "text/plain": [
       "   add_to_cart_order\n",
       "1            3214874\n",
       "2            3058126\n",
       "3            2871133\n",
       "4            2664106\n",
       "5            2442025"
      ]
     },
     "execution_count": 67,
     "metadata": {},
     "output_type": "execute_result"
    }
   ],
   "source": [
    "tmp = pd.DataFrame(order_products__prior['add_to_cart_order'].value_counts().sort_index())\n",
    "tmp.head()"
   ]
  },
  {
   "cell_type": "code",
   "execution_count": 69,
   "metadata": {},
   "outputs": [
    {
     "data": {
      "text/plain": [
       "<matplotlib.axes._subplots.AxesSubplot at 0x7f710806e6d0>"
      ]
     },
     "execution_count": 69,
     "metadata": {},
     "output_type": "execute_result"
    },
    {
     "data": {
      "image/png": "[encoded data removed]",
      "text/plain": [
       "<Figure size 432x288 with 1 Axes>"
      ]
     },
     "metadata": {},
     "output_type": "display_data"
    }
   ],
   "source": [
    "sns.barplot(x =  tmp.index.values, y =tmp.values[:,0])"
   ]
  },
  {
   "cell_type": "code",
   "execution_count": null,
   "metadata": {},
   "outputs": [],
   "source": []
  },
  {
   "cell_type": "code",
   "execution_count": 71,
   "metadata": {},
   "outputs": [],
   "source": [
    "# 1.2.6  order_products_train.csv数据集\n",
    "# order_products__train共有1384617个样本\n",
    "\n",
    "# order_id有131209个不同的,都包含再之前的orders是一致的\n",
    "\n",
    "# reordered的均值是0.59859,也就是说有大概40%的数据是没记录的\n",
    "\n",
    "# 添加到购物篮清单顺序,从1-80次数依次递减,符合实际情况,并无异常值\n",
    "\n",
    "# 所有的product_id都出现在训练集合中,所以不存在任何奇异值的情况"
   ]
  },
  {
   "cell_type": "code",
   "execution_count": 72,
   "metadata": {},
   "outputs": [],
   "source": [
    "# 1.order_products__train共有1384617个样本"
   ]
  },
  {
   "cell_type": "code",
   "execution_count": 73,
   "metadata": {},
   "outputs": [
    {
     "data": {
      "text/html": [
       "<div>\n",
       "<style scoped>\n",
       "    .dataframe tbody tr th:only-of-type {\n",
       "        vertical-align: middle;\n",
       "    }\n",
       "\n",
       "    .dataframe tbody tr th {\n",
       "        vertical-align: top;\n",
       "    }\n",
       "\n",
       "    .dataframe thead th {\n",
       "        text-align: right;\n",
       "    }\n",
       "</style>\n",
       "<table border=\"1\" class=\"dataframe\">\n",
       "  <thead>\n",
       "    <tr style=\"text-align: right;\">\n",
       "      <th></th>\n",
       "      <th>order_id</th>\n",
       "      <th>product_id</th>\n",
       "      <th>add_to_cart_order</th>\n",
       "      <th>reordered</th>\n",
       "    </tr>\n",
       "  </thead>\n",
       "  <tbody>\n",
       "    <tr>\n",
       "      <th>0</th>\n",
       "      <td>1</td>\n",
       "      <td>49302</td>\n",
       "      <td>1</td>\n",
       "      <td>1</td>\n",
       "    </tr>\n",
       "    <tr>\n",
       "      <th>1</th>\n",
       "      <td>1</td>\n",
       "      <td>11109</td>\n",
       "      <td>2</td>\n",
       "      <td>1</td>\n",
       "    </tr>\n",
       "    <tr>\n",
       "      <th>2</th>\n",
       "      <td>1</td>\n",
       "      <td>10246</td>\n",
       "      <td>3</td>\n",
       "      <td>0</td>\n",
       "    </tr>\n",
       "    <tr>\n",
       "      <th>3</th>\n",
       "      <td>1</td>\n",
       "      <td>49683</td>\n",
       "      <td>4</td>\n",
       "      <td>0</td>\n",
       "    </tr>\n",
       "    <tr>\n",
       "      <th>4</th>\n",
       "      <td>1</td>\n",
       "      <td>43633</td>\n",
       "      <td>5</td>\n",
       "      <td>1</td>\n",
       "    </tr>\n",
       "  </tbody>\n",
       "</table>\n",
       "</div>"
      ],
      "text/plain": [
       "   order_id  product_id  add_to_cart_order  reordered\n",
       "0         1       49302                  1          1\n",
       "1         1       11109                  2          1\n",
       "2         1       10246                  3          0\n",
       "3         1       49683                  4          0\n",
       "4         1       43633                  5          1"
      ]
     },
     "execution_count": 73,
     "metadata": {},
     "output_type": "execute_result"
    }
   ],
   "source": [
    "order_products__train.head()"
   ]
  },
  {
   "cell_type": "code",
   "execution_count": 74,
   "metadata": {},
   "outputs": [
    {
     "data": {
      "text/plain": [
       "(1384617, 4)"
      ]
     },
     "execution_count": 74,
     "metadata": {},
     "output_type": "execute_result"
    }
   ],
   "source": [
    "order_products__train.shape"
   ]
  },
  {
   "cell_type": "code",
   "execution_count": 75,
   "metadata": {},
   "outputs": [],
   "source": [
    "# 2.order_id有131209个不同的,都包含再之前的orders是一致的"
   ]
  },
  {
   "cell_type": "code",
   "execution_count": 76,
   "metadata": {},
   "outputs": [],
   "source": [
    "# 3.reordered的均值是0.59859,也就是说有大概40%的数据是没记录的"
   ]
  },
  {
   "cell_type": "code",
   "execution_count": 77,
   "metadata": {},
   "outputs": [
    {
     "data": {
      "text/plain": [
       "order_id             131209\n",
       "product_id            39123\n",
       "add_to_cart_order        80\n",
       "reordered                 2\n",
       "dtype: int64"
      ]
     },
     "execution_count": 77,
     "metadata": {},
     "output_type": "execute_result"
    }
   ],
   "source": [
    "order_products__train.nunique()"
   ]
  },
  {
   "cell_type": "code",
   "execution_count": 78,
   "metadata": {},
   "outputs": [
    {
     "data": {
      "text/plain": [
       "0.5985944127509629"
      ]
     },
     "execution_count": 78,
     "metadata": {},
     "output_type": "execute_result"
    }
   ],
   "source": [
    "order_products__train['reordered'].mean()"
   ]
  },
  {
   "cell_type": "code",
   "execution_count": 79,
   "metadata": {},
   "outputs": [
    {
     "data": {
      "text/html": [
       "<div>\n",
       "<style scoped>\n",
       "    .dataframe tbody tr th:only-of-type {\n",
       "        vertical-align: middle;\n",
       "    }\n",
       "\n",
       "    .dataframe tbody tr th {\n",
       "        vertical-align: top;\n",
       "    }\n",
       "\n",
       "    .dataframe thead th {\n",
       "        text-align: right;\n",
       "    }\n",
       "</style>\n",
       "<table border=\"1\" class=\"dataframe\">\n",
       "  <thead>\n",
       "    <tr style=\"text-align: right;\">\n",
       "      <th></th>\n",
       "      <th>add_to_cart_order</th>\n",
       "    </tr>\n",
       "  </thead>\n",
       "  <tbody>\n",
       "    <tr>\n",
       "      <th>1</th>\n",
       "      <td>3214874</td>\n",
       "    </tr>\n",
       "    <tr>\n",
       "      <th>2</th>\n",
       "      <td>3058126</td>\n",
       "    </tr>\n",
       "    <tr>\n",
       "      <th>3</th>\n",
       "      <td>2871133</td>\n",
       "    </tr>\n",
       "    <tr>\n",
       "      <th>4</th>\n",
       "      <td>2664106</td>\n",
       "    </tr>\n",
       "    <tr>\n",
       "      <th>5</th>\n",
       "      <td>2442025</td>\n",
       "    </tr>\n",
       "  </tbody>\n",
       "</table>\n",
       "</div>"
      ],
      "text/plain": [
       "   add_to_cart_order\n",
       "1            3214874\n",
       "2            3058126\n",
       "3            2871133\n",
       "4            2664106\n",
       "5            2442025"
      ]
     },
     "execution_count": 79,
     "metadata": {},
     "output_type": "execute_result"
    }
   ],
   "source": [
    "tmp = pd.DataFrame(order_products__prior['add_to_cart_order'].value_counts().sort_index())\n",
    "tmp.head()"
   ]
  },
  {
   "cell_type": "code",
   "execution_count": 80,
   "metadata": {},
   "outputs": [],
   "source": [
    "# 4.添加到购物篮清单顺序,从1-80次数依次递减,符合实际情况,并无异常值"
   ]
  },
  {
   "cell_type": "code",
   "execution_count": 81,
   "metadata": {},
   "outputs": [
    {
     "data": {
      "text/plain": [
       "<matplotlib.axes._subplots.AxesSubplot at 0x7f7107c8a190>"
      ]
     },
     "execution_count": 81,
     "metadata": {},
     "output_type": "execute_result"
    },
    {
     "data": {
      "image/png": "[encoded data removed]",
      "text/plain": [
       "<Figure size 432x288 with 1 Axes>"
      ]
     },
     "metadata": {},
     "output_type": "display_data"
    }
   ],
   "source": [
    "sns.barplot(x =  tmp.index.values, y =tmp.values[:,0])"
   ]
  },
  {
   "cell_type": "code",
   "execution_count": 82,
   "metadata": {},
   "outputs": [],
   "source": [
    "# 5.所有的product_id都出现在训练集合中,所以不存在任何奇异值的情况"
   ]
  },
  {
   "cell_type": "code",
   "execution_count": 83,
   "metadata": {},
   "outputs": [
    {
     "data": {
      "text/plain": [
       "set()"
      ]
     },
     "execution_count": 83,
     "metadata": {},
     "output_type": "execute_result"
    }
   ],
   "source": [
    "set(order_products__train['product_id'].values) - set(products['product_id'].values)\n"
   ]
  },
  {
   "cell_type": "code",
   "execution_count": 84,
   "metadata": {},
   "outputs": [
    {
     "data": {
      "text/plain": [
       "131209"
      ]
     },
     "execution_count": 84,
     "metadata": {},
     "output_type": "execute_result"
    }
   ],
   "source": [
    "len(set(order_products__train['order_id'] ) -set(order_products__prior['order_id'] )  )\n"
   ]
  },
  {
   "cell_type": "code",
   "execution_count": null,
   "metadata": {},
   "outputs": [],
   "source": []
  },
  {
   "cell_type": "markdown",
   "metadata": {},
   "source": [
    "# end of EDA"
   ]
  },
  {
   "cell_type": "code",
   "execution_count": null,
   "metadata": {},
   "outputs": [],
   "source": []
  },
  {
   "cell_type": "code",
   "execution_count": null,
   "metadata": {},
   "outputs": [],
   "source": []
  },
  {
   "cell_type": "code",
   "execution_count": null,
   "metadata": {},
   "outputs": [],
   "source": []
  },
  {
   "cell_type": "code",
   "execution_count": null,
   "metadata": {},
   "outputs": [],
   "source": []
  },
  {
   "cell_type": "code",
   "execution_count": null,
   "metadata": {},
   "outputs": [],
   "source": []
  },
  {
   "cell_type": "markdown",
   "metadata": {},
   "source": [
    "# 特征工程\n",
    "\n",
    "目前很多比赛都还是特征为王的比赛，针对许多传统的比赛，因为存在很多封装好的工具包,例如XGBoost,LightGBM等工具包,所以很多做数据分析建模或者数据竞赛的人的任务往往就会相对简单，这个时候因为模型变化不大,那么我们的任务往往就会演变为两大模块,特征工程+集成，而特征工程又很难找到非常好的书籍进行系统的学习,所以很多时候网上也都将特征工程称之为艺术。\n",
    "\n",
    "闲话不多说,下面我们还是以推荐问题为例,介绍基本的推荐算法的特征工程。\n",
    "\n",
    "我们将该赛题的特征工程粗分为下面几个模块。\n",
    "\n",
    "1. 用户特征;\n",
    "2. 产品特征;\n",
    "3. 用户产品特征;\n"
   ]
  },
  {
   "cell_type": "markdown",
   "metadata": {},
   "source": [
    "## 用户特征 "
   ]
  },
  {
   "cell_type": "code",
   "execution_count": 85,
   "metadata": {
    "scrolled": true
   },
   "outputs": [
    {
     "data": {
      "text/html": [
       "<div>\n",
       "<style scoped>\n",
       "    .dataframe tbody tr th:only-of-type {\n",
       "        vertical-align: middle;\n",
       "    }\n",
       "\n",
       "    .dataframe tbody tr th {\n",
       "        vertical-align: top;\n",
       "    }\n",
       "\n",
       "    .dataframe thead th {\n",
       "        text-align: right;\n",
       "    }\n",
       "</style>\n",
       "<table border=\"1\" class=\"dataframe\">\n",
       "  <thead>\n",
       "    <tr style=\"text-align: right;\">\n",
       "      <th></th>\n",
       "      <th>order_id</th>\n",
       "      <th>user_id</th>\n",
       "      <th>eval_set</th>\n",
       "      <th>order_number</th>\n",
       "      <th>order_dow</th>\n",
       "      <th>order_hour_of_day</th>\n",
       "      <th>days_since_prior_order</th>\n",
       "      <th>order_number_max</th>\n",
       "    </tr>\n",
       "  </thead>\n",
       "  <tbody>\n",
       "    <tr>\n",
       "      <th>0</th>\n",
       "      <td>2539329</td>\n",
       "      <td>1</td>\n",
       "      <td>prior</td>\n",
       "      <td>1</td>\n",
       "      <td>2</td>\n",
       "      <td>8</td>\n",
       "      <td>NaN</td>\n",
       "      <td>11</td>\n",
       "    </tr>\n",
       "    <tr>\n",
       "      <th>1</th>\n",
       "      <td>2398795</td>\n",
       "      <td>1</td>\n",
       "      <td>prior</td>\n",
       "      <td>2</td>\n",
       "      <td>3</td>\n",
       "      <td>7</td>\n",
       "      <td>15.0</td>\n",
       "      <td>11</td>\n",
       "    </tr>\n",
       "    <tr>\n",
       "      <th>2</th>\n",
       "      <td>473747</td>\n",
       "      <td>1</td>\n",
       "      <td>prior</td>\n",
       "      <td>3</td>\n",
       "      <td>3</td>\n",
       "      <td>12</td>\n",
       "      <td>21.0</td>\n",
       "      <td>11</td>\n",
       "    </tr>\n",
       "    <tr>\n",
       "      <th>3</th>\n",
       "      <td>2254736</td>\n",
       "      <td>1</td>\n",
       "      <td>prior</td>\n",
       "      <td>4</td>\n",
       "      <td>4</td>\n",
       "      <td>7</td>\n",
       "      <td>29.0</td>\n",
       "      <td>11</td>\n",
       "    </tr>\n",
       "    <tr>\n",
       "      <th>4</th>\n",
       "      <td>431534</td>\n",
       "      <td>1</td>\n",
       "      <td>prior</td>\n",
       "      <td>5</td>\n",
       "      <td>4</td>\n",
       "      <td>15</td>\n",
       "      <td>28.0</td>\n",
       "      <td>11</td>\n",
       "    </tr>\n",
       "  </tbody>\n",
       "</table>\n",
       "</div>"
      ],
      "text/plain": [
       "   order_id  user_id eval_set  order_number  order_dow  order_hour_of_day  \\\n",
       "0   2539329        1    prior             1          2                  8   \n",
       "1   2398795        1    prior             2          3                  7   \n",
       "2    473747        1    prior             3          3                 12   \n",
       "3   2254736        1    prior             4          4                  7   \n",
       "4    431534        1    prior             5          4                 15   \n",
       "\n",
       "   days_since_prior_order  order_number_max  \n",
       "0                     NaN                11  \n",
       "1                    15.0                11  \n",
       "2                    21.0                11  \n",
       "3                    29.0                11  \n",
       "4                    28.0                11  "
      ]
     },
     "execution_count": 85,
     "metadata": {},
     "output_type": "execute_result"
    }
   ],
   "source": [
    "orders.head()"
   ]
  },
  {
   "cell_type": "markdown",
   "metadata": {},
   "source": [
    "### 用户购物的总次数"
   ]
  },
  {
   "cell_type": "code",
   "execution_count": 86,
   "metadata": {},
   "outputs": [],
   "source": [
    "user_fea = pd.DataFrame()\n",
    "user_fea['user_id'] = orders['user_id'].unique()\n",
    "user_fea = user_fea[['user_id']].sort_values('user_id')"
   ]
  },
  {
   "cell_type": "code",
   "execution_count": 87,
   "metadata": {
    "scrolled": true
   },
   "outputs": [],
   "source": [
    "user_fea['user_orderid_count'] = orders.groupby('user_id')['order_id'].count().values "
   ]
  },
  {
   "cell_type": "markdown",
   "metadata": {},
   "source": [
    "### 用户购物频繁度\n",
    "\n",
    "1. 如果用户平均相隔天数少,往往说明用户是爱频繁购物的，那么他很有可能会不断地去消费某些产品;\n",
    "2. 如果用户距离上次的购物最大天数都很小,那么往往说明客户是非常爱购物的,和均值特征是类似的一种.\n",
    "3. 如果用户距离上次购物的时间的方差较小,说明用户购物有较强的周期性.\n",
    "4. 同样的,用户距离上一次购买产品的众数也是此类特征之一."
   ]
  },
  {
   "cell_type": "code",
   "execution_count": 88,
   "metadata": {
    "scrolled": true
   },
   "outputs": [],
   "source": [
    "user_fea['user_days_since_prior_order_mean'] = orders.groupby('user_id')['days_since_prior_order'].mean().values\n",
    "user_fea['user_days_since_prior_order_max'] = orders.groupby('user_id')['days_since_prior_order'].max().values\n",
    "user_fea['user_days_since_prior_order_std'] = orders.groupby('user_id')['days_since_prior_order'].std().values"
   ]
  },
  {
   "cell_type": "code",
   "execution_count": 89,
   "metadata": {
    "scrolled": true
   },
   "outputs": [],
   "source": [
    "user_fea['user_days_since_prior_order_mode'] = orders.groupby('user_id')['days_since_prior_order'].apply(lambda x: x.mode()[0]).values"
   ]
  },
  {
   "cell_type": "markdown",
   "metadata": {},
   "source": [
    "### 用户时间喜好\n",
    "- 不同用户购物的时间往往不同,很多用户喜欢深夜购物,有的用户则往往喜欢周五购物,这些不同的时间点往往也是一个非常重要的选择,比如有些用户喜欢周五买香蕉什么的生活习惯,可以对预测带来非常大的帮助。有人则喜欢深夜购物等等。"
   ]
  },
  {
   "cell_type": "code",
   "execution_count": 90,
   "metadata": {},
   "outputs": [],
   "source": [
    "user_fea['user_order_dow_mode']         = orders.groupby('user_id')['order_dow'].apply(lambda x: x.mode()[0]).values\n",
    "user_fea['user_order_hour_of_day_mode'] = orders.groupby('user_id')['order_hour_of_day'].apply(lambda x: x.mode()[0]).values"
   ]
  },
  {
   "cell_type": "markdown",
   "metadata": {},
   "source": [
    "- 补充上一个二阶的用户时间喜好特征,用来表示用户喜欢在每周晚上几点开始购物."
   ]
  },
  {
   "cell_type": "code",
   "execution_count": 91,
   "metadata": {},
   "outputs": [],
   "source": [
    "orders['dow_hour'] = orders['order_dow'].values * 25 + orders['order_hour_of_day'].values\n",
    "user_fea['user_dow_hour_mode'] = orders.groupby('user_id')['dow_hour'].apply(lambda x: x.mode()[0]).values"
   ]
  },
  {
   "cell_type": "markdown",
   "metadata": {},
   "source": [
    "### 用户商品喜好特征\n",
    "- 注意此处我们以priors的数据集进行商品特征的提取,**可能很多人会认为为什么不结合train一起提取特征**,这样数据量更大,这主要是考虑到test中并无类似的特征,而且test中的用户又未出现在train中,所以这样提取的特征是有些问题的,因为训练集中的特征来源于priors & train,但是test却只能来源于prior,所以可能造成偏差。\n",
    "\n",
    "此处我们用如下的几类特征来表示用户商品的特征.\n",
    "1. 用户购买不同产品的数量\n",
    "2. 用户购买最多的三种产品,如果用户只购买了两类产品,那么最后一种产品我们用-1来表示.\n",
    "3. 用户购买所有产品的数量\n",
    "4. 用户平均每一单购买的产品数量"
   ]
  },
  {
   "cell_type": "code",
   "execution_count": 92,
   "metadata": {},
   "outputs": [],
   "source": [
    "order_products__prior_ = order_products__prior.merge(orders, on='order_id', how = 'left')"
   ]
  },
  {
   "cell_type": "code",
   "execution_count": 93,
   "metadata": {},
   "outputs": [],
   "source": [
    "user_fea['user_product_nunique'] = order_products__prior_.groupby('user_id')['product_id'].nunique().sort_index().values"
   ]
  },
  {
   "cell_type": "code",
   "execution_count": 94,
   "metadata": {},
   "outputs": [],
   "source": [
    "def mode_N(x,i):\n",
    "    m = x.value_counts().index\n",
    "    if len(m) > i: \n",
    "        return m[i] \n",
    "    return -1\n",
    "user_fea['user_product_mode'] = order_products__prior_.groupby('user_id')['product_id'].apply(lambda x: x.mode()[0]).sort_index().values\n",
    "user_fea['user_product_mode_1'] = order_products__prior_.groupby('user_id')['product_id'].apply(lambda x: mode_N(x,1)).sort_index().values \n",
    "user_fea['user_product_mode_2'] = order_products__prior_.groupby('user_id')['product_id'].apply(lambda x: mode_N(x,2)).sort_index().values"
   ]
  },
  {
   "cell_type": "code",
   "execution_count": 95,
   "metadata": {},
   "outputs": [],
   "source": [
    "user_fea['user_product_count'] = order_products__prior_.groupby('user_id')['product_id'].count().sort_index().values"
   ]
  },
  {
   "cell_type": "code",
   "execution_count": 96,
   "metadata": {
    "scrolled": true
   },
   "outputs": [],
   "source": [
    "user_fea['user_product_orderid_ratio'] = user_fea['user_product_count'] / user_fea['user_orderid_count']"
   ]
  },
  {
   "cell_type": "markdown",
   "metadata": {},
   "source": [
    "### 用户购物疯狂性特征\n",
    "1. 用户订单中的商品最多数\n",
    "2. 用户每次平均购买的商品量\n",
    "3. 用户购买商品的1/4,3/4位数"
   ]
  },
  {
   "cell_type": "code",
   "execution_count": 97,
   "metadata": {},
   "outputs": [],
   "source": [
    "tmp = order_products__prior_.groupby(['user_id','order_id'])['add_to_cart_order'].max().reset_index()"
   ]
  },
  {
   "cell_type": "code",
   "execution_count": 98,
   "metadata": {},
   "outputs": [],
   "source": [
    "user_fea['user_add_to_cart_order_max'] = tmp.groupby('user_id')['add_to_cart_order'].max().sort_index().values\n",
    "user_fea['user_add_to_cart_order_mean'] = tmp.groupby('user_id')['add_to_cart_order'].mean().sort_index().values\n",
    "user_fea['user_add_to_cart_order_quantile_25'] = tmp.groupby('user_id')['add_to_cart_order'].quantile().sort_index().values\n",
    "user_fea['user_add_to_cart_order_quantile_75'] = tmp.groupby('user_id')['add_to_cart_order'].quantile(0.75).sort_index().values"
   ]
  },
  {
   "cell_type": "code",
   "execution_count": 99,
   "metadata": {},
   "outputs": [
    {
     "data": {
      "text/plain": [
       "102"
      ]
     },
     "execution_count": 99,
     "metadata": {},
     "output_type": "execute_result"
    }
   ],
   "source": [
    "del tmp\n",
    "gc.collect()"
   ]
  },
  {
   "cell_type": "markdown",
   "metadata": {},
   "source": [
    "### 用户购买商品的重构率\n",
    "\n",
    "我们用用户购买的所有商品中的重新购买的和以及均值来表示"
   ]
  },
  {
   "cell_type": "code",
   "execution_count": 100,
   "metadata": {},
   "outputs": [],
   "source": [
    "user_fea['user_reordered_sum'] = order_products__prior_.groupby('user_id')['reordered'].sum().sort_index().values\n",
    "user_fea['user_reordered_mean'] = order_products__prior_.groupby('user_id')['reordered'].mean().sort_index().values"
   ]
  },
  {
   "cell_type": "markdown",
   "metadata": {},
   "source": [
    "## 基于产品的特征\n",
    "\n",
    "上面我们对用户特征进行了简单的提取,分别针对用户的购买时间偏好,用户对商品的喜好,重构的情况等等出发进行特征的构建。\n",
    "\n",
    "下面我们从商品的特征出发进行商品特征的构建。虽然下面的特征都可以认为是产品的热度&受欢迎度特征等,但我们还是尽可能将其分开解释。\n",
    "\n",
    "### 产品的热度\n",
    "1. 产品被买多少次\n",
    "2. 产品被多少不同用户所购买\n",
    "3. 产品被添加到篮子中的顺序的均值 & 标准差"
   ]
  },
  {
   "cell_type": "code",
   "execution_count": 101,
   "metadata": {},
   "outputs": [],
   "source": [
    "product_fea = pd.DataFrame()\n",
    "product_fea['product_id'] = order_products__prior_['product_id'].unique() \n",
    "product_fea= product_fea.sort_values('product_id')"
   ]
  },
  {
   "cell_type": "code",
   "execution_count": 102,
   "metadata": {
    "scrolled": true
   },
   "outputs": [],
   "source": [
    "product_fea['product_count'] = order_products__prior_.groupby('product_id')['user_id'].count().sort_index().values"
   ]
  },
  {
   "cell_type": "code",
   "execution_count": 103,
   "metadata": {},
   "outputs": [],
   "source": [
    "product_fea['product_order_nunqiue'] = order_products__prior_.groupby('product_id')['order_id'].nunique().sort_index().values\n",
    "product_fea['product_user_nunqiue']  = order_products__prior_.groupby('product_id')['user_id'].nunique().sort_index().values"
   ]
  },
  {
   "cell_type": "code",
   "execution_count": 104,
   "metadata": {},
   "outputs": [],
   "source": [
    "product_fea['product_add_to_cart_order_mean'] = order_products__prior_.groupby('product_id')['add_to_cart_order'].mean().sort_index().values \n",
    "product_fea['product_add_to_cart_order_std']  = order_products__prior_.groupby('product_id')['add_to_cart_order'].std().sort_index().values "
   ]
  },
  {
   "cell_type": "markdown",
   "metadata": {},
   "source": [
    "### 产品受欢迎的时间段\n",
    "1. 产品被购买最多的两天\n",
    "2. 产品被购买最多的两个小时段\n",
    "3. 产品被购买距离上次购买最多的两个时间段\n",
    "4. 产品距离上次被购买的均值以及均方差"
   ]
  },
  {
   "cell_type": "code",
   "execution_count": 105,
   "metadata": {},
   "outputs": [],
   "source": [
    "product_fea['product_dow_mode'] = order_products__prior_.groupby('product_id')['order_dow'].apply(lambda x: x.mode()[0]).sort_index().values\n",
    "product_fea['product_dow_mode_1'] = order_products__prior_.groupby('product_id')['order_dow'].apply(lambda x: mode_N(x,1)).sort_index().values"
   ]
  },
  {
   "cell_type": "code",
   "execution_count": 106,
   "metadata": {},
   "outputs": [],
   "source": [
    "product_fea['product_hour_of_day_mode'] = order_products__prior_.groupby('product_id')['order_hour_of_day'].apply(lambda x: x.mode()[0]).sort_index().values\n",
    "product_fea['product_hour_of_day_mode_1'] = order_products__prior_.groupby('product_id')['order_hour_of_day'].apply(lambda x: mode_N(x,1)).sort_index().values"
   ]
  },
  {
   "cell_type": "code",
   "execution_count": 107,
   "metadata": {
    "scrolled": true
   },
   "outputs": [],
   "source": [
    "product_fea['product_days_since_prior_order_mode'] = order_products__prior_.groupby('product_id')['days_since_prior_order'].apply(lambda x: mode_N(x,0)).sort_index().values\n",
    "product_fea['product_days_since_prior_order_mode_1'] = order_products__prior_.groupby('product_id')['days_since_prior_order'].apply(lambda x: mode_N(x,1)).sort_index().values"
   ]
  },
  {
   "cell_type": "code",
   "execution_count": 108,
   "metadata": {},
   "outputs": [],
   "source": [
    "product_fea['product_dow_hour_mode'] = order_products__prior_.groupby('product_id')['dow_hour'].apply(lambda x: mode_N(x,0)).sort_index().values\n",
    "product_fea['product_dow_hour_mode_1'] = order_products__prior_.groupby('product_id')['dow_hour'].apply(lambda x: mode_N(x,1)).sort_index().values"
   ]
  },
  {
   "cell_type": "code",
   "execution_count": 109,
   "metadata": {},
   "outputs": [],
   "source": [
    "product_fea['product_days_since_prior_order_mean'] = order_products__prior_.groupby('product_id')['days_since_prior_order'].mean().sort_index().values \n",
    "product_fea['product_days_since_prior_order_std'] = order_products__prior_.groupby('product_id')['days_since_prior_order'].std().sort_index().values "
   ]
  },
  {
   "cell_type": "markdown",
   "metadata": {},
   "source": [
    "### 产品的被重购率\n",
    "\n",
    "产品的重构率,标准差以及和。"
   ]
  },
  {
   "cell_type": "code",
   "execution_count": 110,
   "metadata": {},
   "outputs": [],
   "source": [
    "product_fea['product_reordered_mean'] = order_products__prior_.groupby('product_id')['reordered'].mean().sort_index().values \n",
    "product_fea['product_reordered_std'] = order_products__prior_.groupby('product_id')['reordered'].std().sort_index().values \n",
    "product_fea['product_reordered_sum'] = order_products__prior_.groupby('product_id')['reordered'].sum().sort_index().values "
   ]
  },
  {
   "cell_type": "markdown",
   "metadata": {},
   "source": [
    "## 基于用户 + 产品的交叉特征"
   ]
  },
  {
   "cell_type": "code",
   "execution_count": 111,
   "metadata": {},
   "outputs": [],
   "source": [
    "order_products__prior_['user_product'] = order_products__prior_['user_id'].values * 10**5 + order_products__prior_['product_id'].values"
   ]
  },
  {
   "cell_type": "code",
   "execution_count": 112,
   "metadata": {
    "scrolled": true
   },
   "outputs": [],
   "source": [
    "userXproduct_fea = pd.DataFrame()\n",
    "userXproduct_fea['user_product'] = order_products__prior_['user_product'].unique() \n",
    "userXproduct_fea = userXproduct_fea[['user_product']].sort_values('user_product')"
   ]
  },
  {
   "cell_type": "markdown",
   "metadata": {},
   "source": [
    "**此处的用户和产品的交叉特征,我们就用下面几个简单特征进行表述**:\n",
    "1. 同一用户对某一个产品的重构率;\n",
    "2. 同一用户对某一个产品的加入篮子的顺序的和以及均值;\n",
    "3. 同一用户购买某一个产品的次数"
   ]
  },
  {
   "cell_type": "code",
   "execution_count": 113,
   "metadata": {
    "scrolled": true
   },
   "outputs": [],
   "source": [
    "userXproduct_fea['user_product_reordered_sum'] = order_products__prior_.groupby('user_product')['reordered'].sum().sort_index().values "
   ]
  },
  {
   "cell_type": "code",
   "execution_count": 114,
   "metadata": {
    "scrolled": true
   },
   "outputs": [],
   "source": [
    "userXproduct_fea['user_product_add_to_cart_order_sum']   = order_products__prior_.groupby('user_product')['add_to_cart_order'].sum().sort_index().values \n",
    "userXproduct_fea['user_product_add_to_cart_order_mean']   = order_products__prior_.groupby('user_product')['add_to_cart_order'].mean().sort_index().values "
   ]
  },
  {
   "cell_type": "code",
   "execution_count": 115,
   "metadata": {},
   "outputs": [],
   "source": [
    "userXproduct_fea['user_product_order_nunique']   = order_products__prior_.groupby('user_product')['order_id'].nunique().sort_index().values "
   ]
  },
  {
   "cell_type": "code",
   "execution_count": 116,
   "metadata": {
    "scrolled": true
   },
   "outputs": [],
   "source": [
    "userXproduct_fea['user_product_last_order_num'] = order_products__prior_.groupby('user_product')['order_number'].max().sort_index().values "
   ]
  },
  {
   "cell_type": "code",
   "execution_count": 117,
   "metadata": {},
   "outputs": [
    {
     "data": {
      "text/html": [
       "<div>\n",
       "<style scoped>\n",
       "    .dataframe tbody tr th:only-of-type {\n",
       "        vertical-align: middle;\n",
       "    }\n",
       "\n",
       "    .dataframe tbody tr th {\n",
       "        vertical-align: top;\n",
       "    }\n",
       "\n",
       "    .dataframe thead th {\n",
       "        text-align: right;\n",
       "    }\n",
       "</style>\n",
       "<table border=\"1\" class=\"dataframe\">\n",
       "  <thead>\n",
       "    <tr style=\"text-align: right;\">\n",
       "      <th></th>\n",
       "      <th>user_product</th>\n",
       "      <th>user_product_reordered_sum</th>\n",
       "      <th>user_product_add_to_cart_order_sum</th>\n",
       "      <th>user_product_add_to_cart_order_mean</th>\n",
       "      <th>user_product_order_nunique</th>\n",
       "      <th>user_product_last_order_num</th>\n",
       "    </tr>\n",
       "  </thead>\n",
       "  <tbody>\n",
       "    <tr>\n",
       "      <th>3105781</th>\n",
       "      <td>100196</td>\n",
       "      <td>9</td>\n",
       "      <td>14</td>\n",
       "      <td>1.400000</td>\n",
       "      <td>10</td>\n",
       "      <td>10</td>\n",
       "    </tr>\n",
       "    <tr>\n",
       "      <th>3105783</th>\n",
       "      <td>110258</td>\n",
       "      <td>8</td>\n",
       "      <td>30</td>\n",
       "      <td>3.333333</td>\n",
       "      <td>9</td>\n",
       "      <td>10</td>\n",
       "    </tr>\n",
       "    <tr>\n",
       "      <th>3105785</th>\n",
       "      <td>110326</td>\n",
       "      <td>0</td>\n",
       "      <td>5</td>\n",
       "      <td>5.000000</td>\n",
       "      <td>1</td>\n",
       "      <td>5</td>\n",
       "    </tr>\n",
       "    <tr>\n",
       "      <th>3105782</th>\n",
       "      <td>112427</td>\n",
       "      <td>9</td>\n",
       "      <td>33</td>\n",
       "      <td>3.300000</td>\n",
       "      <td>10</td>\n",
       "      <td>10</td>\n",
       "    </tr>\n",
       "    <tr>\n",
       "      <th>3767345</th>\n",
       "      <td>113032</td>\n",
       "      <td>2</td>\n",
       "      <td>19</td>\n",
       "      <td>6.333333</td>\n",
       "      <td>3</td>\n",
       "      <td>10</td>\n",
       "    </tr>\n",
       "  </tbody>\n",
       "</table>\n",
       "</div>"
      ],
      "text/plain": [
       "         user_product  user_product_reordered_sum  \\\n",
       "3105781        100196                           9   \n",
       "3105783        110258                           8   \n",
       "3105785        110326                           0   \n",
       "3105782        112427                           9   \n",
       "3767345        113032                           2   \n",
       "\n",
       "         user_product_add_to_cart_order_sum  \\\n",
       "3105781                                  14   \n",
       "3105783                                  30   \n",
       "3105785                                   5   \n",
       "3105782                                  33   \n",
       "3767345                                  19   \n",
       "\n",
       "         user_product_add_to_cart_order_mean  user_product_order_nunique  \\\n",
       "3105781                             1.400000                          10   \n",
       "3105783                             3.333333                           9   \n",
       "3105785                             5.000000                           1   \n",
       "3105782                             3.300000                          10   \n",
       "3767345                             6.333333                           3   \n",
       "\n",
       "         user_product_last_order_num  \n",
       "3105781                           10  \n",
       "3105783                           10  \n",
       "3105785                            5  \n",
       "3105782                           10  \n",
       "3767345                           10  "
      ]
     },
     "execution_count": 117,
     "metadata": {},
     "output_type": "execute_result"
    }
   ],
   "source": [
    "userXproduct_fea.head()"
   ]
  },
  {
   "cell_type": "markdown",
   "metadata": {},
   "source": [
    "# 构建训练集 & 测试集\n",
    "具体的构建原理此处就不再阐述,具体的可以参见前一篇文章的内容:Instacart Market Basket Analysis：数据探索分析&Baseline(0.2428)"
   ]
  },
  {
   "cell_type": "code",
   "execution_count": 118,
   "metadata": {},
   "outputs": [],
   "source": [
    "orders_prior_data = orders.loc[orders.eval_set == 'prior']\n",
    "orders_train_data = orders.loc[orders.eval_set == 'train'] \n",
    "orders_test_data  = orders.loc[orders.eval_set == 'test' ] \n",
    "\n",
    "priors = order_products__prior.merge(orders_prior_data, on =['order_id'], how='left')\n",
    "trains = order_products__train.merge(orders_train_data, on =['order_id'], how='left')"
   ]
  },
  {
   "cell_type": "code",
   "execution_count": 119,
   "metadata": {
    "scrolled": true
   },
   "outputs": [],
   "source": [
    "user_product = order_products__prior_[['user_id','product_id']].copy()\n",
    "user_product['user_X_product'] = user_product['user_id'].values* 10**5  + user_product['product_id'].values\n",
    "train_user_X_product = trains['user_id'].values* 10**5 + trains['product_id'].values"
   ]
  },
  {
   "cell_type": "code",
   "execution_count": 120,
   "metadata": {},
   "outputs": [],
   "source": [
    "user_product = user_product.drop_duplicates(subset=['user_X_product'], keep = 'last') "
   ]
  },
  {
   "cell_type": "code",
   "execution_count": 121,
   "metadata": {},
   "outputs": [],
   "source": [
    "test_user  = orders_test_data['user_id']\n",
    "train_user = orders_train_data['user_id']"
   ]
  },
  {
   "cell_type": "code",
   "execution_count": 122,
   "metadata": {},
   "outputs": [],
   "source": [
    "user_product['label'] = 0\n",
    "train_data = user_product.loc[user_product.user_id.isin(train_user)]\n",
    "train_data.loc[train_data.user_X_product.isin(train_user_X_product), 'label'] = 1 "
   ]
  },
  {
   "cell_type": "code",
   "execution_count": 123,
   "metadata": {},
   "outputs": [
    {
     "data": {
      "text/plain": [
       "828824"
      ]
     },
     "execution_count": 123,
     "metadata": {},
     "output_type": "execute_result"
    }
   ],
   "source": [
    "train_data['label'].sum()"
   ]
  },
  {
   "cell_type": "code",
   "execution_count": 124,
   "metadata": {},
   "outputs": [
    {
     "data": {
      "text/plain": [
       "0.09780025419305857"
      ]
     },
     "execution_count": 124,
     "metadata": {},
     "output_type": "execute_result"
    }
   ],
   "source": [
    "train_data['label'].mean()"
   ]
  },
  {
   "cell_type": "code",
   "execution_count": 125,
   "metadata": {},
   "outputs": [],
   "source": [
    "train_data = train_data.merge(orders_train_data,on ='user_id', how='left')"
   ]
  },
  {
   "cell_type": "code",
   "execution_count": 126,
   "metadata": {},
   "outputs": [],
   "source": [
    "test_data  = user_product.loc[user_product.user_id.isin(test_user)]\n",
    "test_data = test_data.merge(orders_test_data,on ='user_id', how='left')"
   ]
  },
  {
   "cell_type": "markdown",
   "metadata": {},
   "source": [
    "## 特征拼接"
   ]
  },
  {
   "cell_type": "markdown",
   "metadata": {},
   "source": [
    "- orders的数据合并"
   ]
  },
  {
   "cell_type": "code",
   "execution_count": 127,
   "metadata": {},
   "outputs": [],
   "source": [
    "train_data = train_data.merge(user_fea, on='user_id', how='left')\n",
    "train_data = train_data.merge(product_fea, on='product_id', how='left')\n",
    "train_data = train_data.merge(userXproduct_fea, left_on='user_X_product', right_on='user_product', how='left')\n",
    "train_data = train_data.merge(products, on='product_id', how= 'left')"
   ]
  },
  {
   "cell_type": "code",
   "execution_count": 128,
   "metadata": {},
   "outputs": [
    {
     "data": {
      "text/html": [
       "<div>\n",
       "<style scoped>\n",
       "    .dataframe tbody tr th:only-of-type {\n",
       "        vertical-align: middle;\n",
       "    }\n",
       "\n",
       "    .dataframe tbody tr th {\n",
       "        vertical-align: top;\n",
       "    }\n",
       "\n",
       "    .dataframe thead th {\n",
       "        text-align: right;\n",
       "    }\n",
       "</style>\n",
       "<table border=\"1\" class=\"dataframe\">\n",
       "  <thead>\n",
       "    <tr style=\"text-align: right;\">\n",
       "      <th></th>\n",
       "      <th>user_id</th>\n",
       "      <th>product_id</th>\n",
       "      <th>user_X_product</th>\n",
       "      <th>label</th>\n",
       "      <th>order_id</th>\n",
       "      <th>eval_set</th>\n",
       "      <th>order_number</th>\n",
       "      <th>order_dow</th>\n",
       "      <th>order_hour_of_day</th>\n",
       "      <th>days_since_prior_order</th>\n",
       "      <th>order_number_max</th>\n",
       "      <th>dow_hour</th>\n",
       "      <th>user_orderid_count</th>\n",
       "      <th>user_days_since_prior_order_mean</th>\n",
       "      <th>user_days_since_prior_order_max</th>\n",
       "      <th>user_days_since_prior_order_std</th>\n",
       "      <th>user_days_since_prior_order_mode</th>\n",
       "      <th>user_order_dow_mode</th>\n",
       "      <th>user_order_hour_of_day_mode</th>\n",
       "      <th>user_dow_hour_mode</th>\n",
       "      <th>user_product_nunique</th>\n",
       "      <th>user_product_mode</th>\n",
       "      <th>user_product_mode_1</th>\n",
       "      <th>user_product_mode_2</th>\n",
       "      <th>user_product_count</th>\n",
       "      <th>...</th>\n",
       "      <th>product_user_nunqiue</th>\n",
       "      <th>product_add_to_cart_order_mean</th>\n",
       "      <th>product_add_to_cart_order_std</th>\n",
       "      <th>product_dow_mode</th>\n",
       "      <th>product_dow_mode_1</th>\n",
       "      <th>product_hour_of_day_mode</th>\n",
       "      <th>product_hour_of_day_mode_1</th>\n",
       "      <th>product_days_since_prior_order_mode</th>\n",
       "      <th>product_days_since_prior_order_mode_1</th>\n",
       "      <th>product_dow_hour_mode</th>\n",
       "      <th>product_dow_hour_mode_1</th>\n",
       "      <th>product_days_since_prior_order_mean</th>\n",
       "      <th>product_days_since_prior_order_std</th>\n",
       "      <th>product_reordered_mean</th>\n",
       "      <th>product_reordered_std</th>\n",
       "      <th>product_reordered_sum</th>\n",
       "      <th>user_product</th>\n",
       "      <th>user_product_reordered_sum</th>\n",
       "      <th>user_product_add_to_cart_order_sum</th>\n",
       "      <th>user_product_add_to_cart_order_mean</th>\n",
       "      <th>user_product_order_nunique</th>\n",
       "      <th>user_product_last_order_num</th>\n",
       "      <th>product_name</th>\n",
       "      <th>aisle_id</th>\n",
       "      <th>department_id</th>\n",
       "    </tr>\n",
       "  </thead>\n",
       "  <tbody>\n",
       "    <tr>\n",
       "      <th>0</th>\n",
       "      <td>202279</td>\n",
       "      <td>9327</td>\n",
       "      <td>20227909327</td>\n",
       "      <td>0</td>\n",
       "      <td>1050357</td>\n",
       "      <td>train</td>\n",
       "      <td>9</td>\n",
       "      <td>1</td>\n",
       "      <td>14</td>\n",
       "      <td>30.0</td>\n",
       "      <td>9</td>\n",
       "      <td>39</td>\n",
       "      <td>9</td>\n",
       "      <td>22.625000</td>\n",
       "      <td>30.0</td>\n",
       "      <td>9.455724</td>\n",
       "      <td>30.0</td>\n",
       "      <td>5</td>\n",
       "      <td>9</td>\n",
       "      <td>134</td>\n",
       "      <td>47</td>\n",
       "      <td>17794</td>\n",
       "      <td>1003</td>\n",
       "      <td>28985</td>\n",
       "      <td>90</td>\n",
       "      <td>...</td>\n",
       "      <td>5304</td>\n",
       "      <td>9.943166</td>\n",
       "      <td>7.853449</td>\n",
       "      <td>0</td>\n",
       "      <td>6</td>\n",
       "      <td>14</td>\n",
       "      <td>13</td>\n",
       "      <td>30.0</td>\n",
       "      <td>7.0</td>\n",
       "      <td>12</td>\n",
       "      <td>13</td>\n",
       "      <td>11.432298</td>\n",
       "      <td>9.184589</td>\n",
       "      <td>0.157962</td>\n",
       "      <td>0.364734</td>\n",
       "      <td>995</td>\n",
       "      <td>20227909327</td>\n",
       "      <td>0</td>\n",
       "      <td>3</td>\n",
       "      <td>3.0</td>\n",
       "      <td>1</td>\n",
       "      <td>3</td>\n",
       "      <td>Garlic Powder</td>\n",
       "      <td>104</td>\n",
       "      <td>13</td>\n",
       "    </tr>\n",
       "    <tr>\n",
       "      <th>1</th>\n",
       "      <td>156122</td>\n",
       "      <td>47209</td>\n",
       "      <td>15612247209</td>\n",
       "      <td>0</td>\n",
       "      <td>1277092</td>\n",
       "      <td>train</td>\n",
       "      <td>53</td>\n",
       "      <td>1</td>\n",
       "      <td>11</td>\n",
       "      <td>5.0</td>\n",
       "      <td>53</td>\n",
       "      <td>36</td>\n",
       "      <td>53</td>\n",
       "      <td>6.673077</td>\n",
       "      <td>18.0</td>\n",
       "      <td>2.874643</td>\n",
       "      <td>6.0</td>\n",
       "      <td>4</td>\n",
       "      <td>14</td>\n",
       "      <td>114</td>\n",
       "      <td>154</td>\n",
       "      <td>13176</td>\n",
       "      <td>13176</td>\n",
       "      <td>48370</td>\n",
       "      <td>967</td>\n",
       "      <td>...</td>\n",
       "      <td>43453</td>\n",
       "      <td>6.775011</td>\n",
       "      <td>5.813507</td>\n",
       "      <td>0</td>\n",
       "      <td>1</td>\n",
       "      <td>15</td>\n",
       "      <td>14</td>\n",
       "      <td>7.0</td>\n",
       "      <td>6.0</td>\n",
       "      <td>14</td>\n",
       "      <td>15</td>\n",
       "      <td>10.205608</td>\n",
       "      <td>8.319953</td>\n",
       "      <td>0.796553</td>\n",
       "      <td>0.402563</td>\n",
       "      <td>170131</td>\n",
       "      <td>15612247209</td>\n",
       "      <td>0</td>\n",
       "      <td>22</td>\n",
       "      <td>22.0</td>\n",
       "      <td>1</td>\n",
       "      <td>42</td>\n",
       "      <td>Organic Hass Avocado</td>\n",
       "      <td>24</td>\n",
       "      <td>4</td>\n",
       "    </tr>\n",
       "    <tr>\n",
       "      <th>2</th>\n",
       "      <td>156122</td>\n",
       "      <td>46522</td>\n",
       "      <td>15612246522</td>\n",
       "      <td>0</td>\n",
       "      <td>1277092</td>\n",
       "      <td>train</td>\n",
       "      <td>53</td>\n",
       "      <td>1</td>\n",
       "      <td>11</td>\n",
       "      <td>5.0</td>\n",
       "      <td>53</td>\n",
       "      <td>36</td>\n",
       "      <td>53</td>\n",
       "      <td>6.673077</td>\n",
       "      <td>18.0</td>\n",
       "      <td>2.874643</td>\n",
       "      <td>6.0</td>\n",
       "      <td>4</td>\n",
       "      <td>14</td>\n",
       "      <td>114</td>\n",
       "      <td>154</td>\n",
       "      <td>13176</td>\n",
       "      <td>13176</td>\n",
       "      <td>48370</td>\n",
       "      <td>967</td>\n",
       "      <td>...</td>\n",
       "      <td>4361</td>\n",
       "      <td>10.115824</td>\n",
       "      <td>7.885046</td>\n",
       "      <td>0</td>\n",
       "      <td>1</td>\n",
       "      <td>11</td>\n",
       "      <td>10</td>\n",
       "      <td>30.0</td>\n",
       "      <td>7.0</td>\n",
       "      <td>11</td>\n",
       "      <td>12</td>\n",
       "      <td>12.547652</td>\n",
       "      <td>9.160984</td>\n",
       "      <td>0.452754</td>\n",
       "      <td>0.497794</td>\n",
       "      <td>3608</td>\n",
       "      <td>15612246522</td>\n",
       "      <td>0</td>\n",
       "      <td>23</td>\n",
       "      <td>23.0</td>\n",
       "      <td>1</td>\n",
       "      <td>42</td>\n",
       "      <td>Spaghetti Pasta</td>\n",
       "      <td>131</td>\n",
       "      <td>9</td>\n",
       "    </tr>\n",
       "    <tr>\n",
       "      <th>3</th>\n",
       "      <td>156122</td>\n",
       "      <td>38693</td>\n",
       "      <td>15612238693</td>\n",
       "      <td>0</td>\n",
       "      <td>1277092</td>\n",
       "      <td>train</td>\n",
       "      <td>53</td>\n",
       "      <td>1</td>\n",
       "      <td>11</td>\n",
       "      <td>5.0</td>\n",
       "      <td>53</td>\n",
       "      <td>36</td>\n",
       "      <td>53</td>\n",
       "      <td>6.673077</td>\n",
       "      <td>18.0</td>\n",
       "      <td>2.874643</td>\n",
       "      <td>6.0</td>\n",
       "      <td>4</td>\n",
       "      <td>14</td>\n",
       "      <td>114</td>\n",
       "      <td>154</td>\n",
       "      <td>13176</td>\n",
       "      <td>13176</td>\n",
       "      <td>48370</td>\n",
       "      <td>967</td>\n",
       "      <td>...</td>\n",
       "      <td>2546</td>\n",
       "      <td>8.862221</td>\n",
       "      <td>6.974303</td>\n",
       "      <td>0</td>\n",
       "      <td>1</td>\n",
       "      <td>12</td>\n",
       "      <td>14</td>\n",
       "      <td>7.0</td>\n",
       "      <td>30.0</td>\n",
       "      <td>12</td>\n",
       "      <td>11</td>\n",
       "      <td>10.664021</td>\n",
       "      <td>8.701408</td>\n",
       "      <td>0.437845</td>\n",
       "      <td>0.496176</td>\n",
       "      <td>1983</td>\n",
       "      <td>15612238693</td>\n",
       "      <td>0</td>\n",
       "      <td>24</td>\n",
       "      <td>24.0</td>\n",
       "      <td>1</td>\n",
       "      <td>42</td>\n",
       "      <td>Meyer Lemon</td>\n",
       "      <td>24</td>\n",
       "      <td>4</td>\n",
       "    </tr>\n",
       "    <tr>\n",
       "      <th>4</th>\n",
       "      <td>156122</td>\n",
       "      <td>48825</td>\n",
       "      <td>15612248825</td>\n",
       "      <td>0</td>\n",
       "      <td>1277092</td>\n",
       "      <td>train</td>\n",
       "      <td>53</td>\n",
       "      <td>1</td>\n",
       "      <td>11</td>\n",
       "      <td>5.0</td>\n",
       "      <td>53</td>\n",
       "      <td>36</td>\n",
       "      <td>53</td>\n",
       "      <td>6.673077</td>\n",
       "      <td>18.0</td>\n",
       "      <td>2.874643</td>\n",
       "      <td>6.0</td>\n",
       "      <td>4</td>\n",
       "      <td>14</td>\n",
       "      <td>114</td>\n",
       "      <td>154</td>\n",
       "      <td>13176</td>\n",
       "      <td>13176</td>\n",
       "      <td>48370</td>\n",
       "      <td>967</td>\n",
       "      <td>...</td>\n",
       "      <td>959</td>\n",
       "      <td>9.408513</td>\n",
       "      <td>7.249891</td>\n",
       "      <td>0</td>\n",
       "      <td>6</td>\n",
       "      <td>12</td>\n",
       "      <td>13</td>\n",
       "      <td>7.0</td>\n",
       "      <td>4.0</td>\n",
       "      <td>11</td>\n",
       "      <td>12</td>\n",
       "      <td>9.690413</td>\n",
       "      <td>8.013440</td>\n",
       "      <td>0.390724</td>\n",
       "      <td>0.488068</td>\n",
       "      <td>615</td>\n",
       "      <td>15612248825</td>\n",
       "      <td>0</td>\n",
       "      <td>25</td>\n",
       "      <td>25.0</td>\n",
       "      <td>1</td>\n",
       "      <td>42</td>\n",
       "      <td>Bag of Organic Lemons</td>\n",
       "      <td>24</td>\n",
       "      <td>4</td>\n",
       "    </tr>\n",
       "  </tbody>\n",
       "</table>\n",
       "<p>5 rows × 59 columns</p>\n",
       "</div>"
      ],
      "text/plain": [
       "   user_id  product_id  user_X_product  label  order_id eval_set  \\\n",
       "0   202279        9327     20227909327      0   1050357    train   \n",
       "1   156122       47209     15612247209      0   1277092    train   \n",
       "2   156122       46522     15612246522      0   1277092    train   \n",
       "3   156122       38693     15612238693      0   1277092    train   \n",
       "4   156122       48825     15612248825      0   1277092    train   \n",
       "\n",
       "   order_number  order_dow  order_hour_of_day  days_since_prior_order  \\\n",
       "0             9          1                 14                    30.0   \n",
       "1            53          1                 11                     5.0   \n",
       "2            53          1                 11                     5.0   \n",
       "3            53          1                 11                     5.0   \n",
       "4            53          1                 11                     5.0   \n",
       "\n",
       "   order_number_max  dow_hour  user_orderid_count  \\\n",
       "0                 9        39                   9   \n",
       "1                53        36                  53   \n",
       "2                53        36                  53   \n",
       "3                53        36                  53   \n",
       "4                53        36                  53   \n",
       "\n",
       "   user_days_since_prior_order_mean  user_days_since_prior_order_max  \\\n",
       "0                         22.625000                             30.0   \n",
       "1                          6.673077                             18.0   \n",
       "2                          6.673077                             18.0   \n",
       "3                          6.673077                             18.0   \n",
       "4                          6.673077                             18.0   \n",
       "\n",
       "   user_days_since_prior_order_std  user_days_since_prior_order_mode  \\\n",
       "0                         9.455724                              30.0   \n",
       "1                         2.874643                               6.0   \n",
       "2                         2.874643                               6.0   \n",
       "3                         2.874643                               6.0   \n",
       "4                         2.874643                               6.0   \n",
       "\n",
       "   user_order_dow_mode  user_order_hour_of_day_mode  user_dow_hour_mode  \\\n",
       "0                    5                            9                 134   \n",
       "1                    4                           14                 114   \n",
       "2                    4                           14                 114   \n",
       "3                    4                           14                 114   \n",
       "4                    4                           14                 114   \n",
       "\n",
       "   user_product_nunique  user_product_mode  user_product_mode_1  \\\n",
       "0                    47              17794                 1003   \n",
       "1                   154              13176                13176   \n",
       "2                   154              13176                13176   \n",
       "3                   154              13176                13176   \n",
       "4                   154              13176                13176   \n",
       "\n",
       "   user_product_mode_2  user_product_count      ...        \\\n",
       "0                28985                  90      ...         \n",
       "1                48370                 967      ...         \n",
       "2                48370                 967      ...         \n",
       "3                48370                 967      ...         \n",
       "4                48370                 967      ...         \n",
       "\n",
       "   product_user_nunqiue  product_add_to_cart_order_mean  \\\n",
       "0                  5304                        9.943166   \n",
       "1                 43453                        6.775011   \n",
       "2                  4361                       10.115824   \n",
       "3                  2546                        8.862221   \n",
       "4                   959                        9.408513   \n",
       "\n",
       "   product_add_to_cart_order_std  product_dow_mode  product_dow_mode_1  \\\n",
       "0                       7.853449                 0                   6   \n",
       "1                       5.813507                 0                   1   \n",
       "2                       7.885046                 0                   1   \n",
       "3                       6.974303                 0                   1   \n",
       "4                       7.249891                 0                   6   \n",
       "\n",
       "   product_hour_of_day_mode  product_hour_of_day_mode_1  \\\n",
       "0                        14                          13   \n",
       "1                        15                          14   \n",
       "2                        11                          10   \n",
       "3                        12                          14   \n",
       "4                        12                          13   \n",
       "\n",
       "   product_days_since_prior_order_mode  product_days_since_prior_order_mode_1  \\\n",
       "0                                 30.0                                    7.0   \n",
       "1                                  7.0                                    6.0   \n",
       "2                                 30.0                                    7.0   \n",
       "3                                  7.0                                   30.0   \n",
       "4                                  7.0                                    4.0   \n",
       "\n",
       "   product_dow_hour_mode  product_dow_hour_mode_1  \\\n",
       "0                     12                       13   \n",
       "1                     14                       15   \n",
       "2                     11                       12   \n",
       "3                     12                       11   \n",
       "4                     11                       12   \n",
       "\n",
       "   product_days_since_prior_order_mean  product_days_since_prior_order_std  \\\n",
       "0                            11.432298                            9.184589   \n",
       "1                            10.205608                            8.319953   \n",
       "2                            12.547652                            9.160984   \n",
       "3                            10.664021                            8.701408   \n",
       "4                             9.690413                            8.013440   \n",
       "\n",
       "   product_reordered_mean  product_reordered_std  product_reordered_sum  \\\n",
       "0                0.157962               0.364734                    995   \n",
       "1                0.796553               0.402563                 170131   \n",
       "2                0.452754               0.497794                   3608   \n",
       "3                0.437845               0.496176                   1983   \n",
       "4                0.390724               0.488068                    615   \n",
       "\n",
       "   user_product  user_product_reordered_sum  \\\n",
       "0   20227909327                           0   \n",
       "1   15612247209                           0   \n",
       "2   15612246522                           0   \n",
       "3   15612238693                           0   \n",
       "4   15612248825                           0   \n",
       "\n",
       "   user_product_add_to_cart_order_sum  user_product_add_to_cart_order_mean  \\\n",
       "0                                   3                                  3.0   \n",
       "1                                  22                                 22.0   \n",
       "2                                  23                                 23.0   \n",
       "3                                  24                                 24.0   \n",
       "4                                  25                                 25.0   \n",
       "\n",
       "   user_product_order_nunique  user_product_last_order_num  \\\n",
       "0                           1                            3   \n",
       "1                           1                           42   \n",
       "2                           1                           42   \n",
       "3                           1                           42   \n",
       "4                           1                           42   \n",
       "\n",
       "            product_name  aisle_id  department_id  \n",
       "0          Garlic Powder       104             13  \n",
       "1   Organic Hass Avocado        24              4  \n",
       "2        Spaghetti Pasta       131              9  \n",
       "3            Meyer Lemon        24              4  \n",
       "4  Bag of Organic Lemons        24              4  \n",
       "\n",
       "[5 rows x 59 columns]"
      ]
     },
     "execution_count": 128,
     "metadata": {},
     "output_type": "execute_result"
    }
   ],
   "source": [
    "pd.set_option('display.max_columns',50)\n",
    "train_data.head()"
   ]
  },
  {
   "cell_type": "code",
   "execution_count": 129,
   "metadata": {},
   "outputs": [],
   "source": [
    "test_data = test_data.merge(user_fea, on='user_id', how='left')\n",
    "test_data = test_data.merge(product_fea, on='product_id', how='left')\n",
    "test_data = test_data.merge(userXproduct_fea, left_on='user_X_product', right_on='user_product', how='left')\n",
    "test_data  =  test_data.merge(products, on='product_id', how= 'left')"
   ]
  },
  {
   "cell_type": "code",
   "execution_count": 130,
   "metadata": {
    "scrolled": true
   },
   "outputs": [
    {
     "data": {
      "text/html": [
       "<div>\n",
       "<style scoped>\n",
       "    .dataframe tbody tr th:only-of-type {\n",
       "        vertical-align: middle;\n",
       "    }\n",
       "\n",
       "    .dataframe tbody tr th {\n",
       "        vertical-align: top;\n",
       "    }\n",
       "\n",
       "    .dataframe thead th {\n",
       "        text-align: right;\n",
       "    }\n",
       "</style>\n",
       "<table border=\"1\" class=\"dataframe\">\n",
       "  <thead>\n",
       "    <tr style=\"text-align: right;\">\n",
       "      <th></th>\n",
       "      <th>user_id</th>\n",
       "      <th>product_id</th>\n",
       "      <th>user_X_product</th>\n",
       "      <th>label</th>\n",
       "      <th>order_id</th>\n",
       "      <th>eval_set</th>\n",
       "      <th>order_number</th>\n",
       "      <th>order_dow</th>\n",
       "      <th>order_hour_of_day</th>\n",
       "      <th>days_since_prior_order</th>\n",
       "      <th>order_number_max</th>\n",
       "      <th>dow_hour</th>\n",
       "      <th>user_orderid_count</th>\n",
       "      <th>user_days_since_prior_order_mean</th>\n",
       "      <th>user_days_since_prior_order_max</th>\n",
       "      <th>user_days_since_prior_order_std</th>\n",
       "      <th>user_days_since_prior_order_mode</th>\n",
       "      <th>user_order_dow_mode</th>\n",
       "      <th>user_order_hour_of_day_mode</th>\n",
       "      <th>user_dow_hour_mode</th>\n",
       "      <th>user_product_nunique</th>\n",
       "      <th>user_product_mode</th>\n",
       "      <th>user_product_mode_1</th>\n",
       "      <th>user_product_mode_2</th>\n",
       "      <th>user_product_count</th>\n",
       "      <th>...</th>\n",
       "      <th>product_user_nunqiue</th>\n",
       "      <th>product_add_to_cart_order_mean</th>\n",
       "      <th>product_add_to_cart_order_std</th>\n",
       "      <th>product_dow_mode</th>\n",
       "      <th>product_dow_mode_1</th>\n",
       "      <th>product_hour_of_day_mode</th>\n",
       "      <th>product_hour_of_day_mode_1</th>\n",
       "      <th>product_days_since_prior_order_mode</th>\n",
       "      <th>product_days_since_prior_order_mode_1</th>\n",
       "      <th>product_dow_hour_mode</th>\n",
       "      <th>product_dow_hour_mode_1</th>\n",
       "      <th>product_days_since_prior_order_mean</th>\n",
       "      <th>product_days_since_prior_order_std</th>\n",
       "      <th>product_reordered_mean</th>\n",
       "      <th>product_reordered_std</th>\n",
       "      <th>product_reordered_sum</th>\n",
       "      <th>user_product</th>\n",
       "      <th>user_product_reordered_sum</th>\n",
       "      <th>user_product_add_to_cart_order_sum</th>\n",
       "      <th>user_product_add_to_cart_order_mean</th>\n",
       "      <th>user_product_order_nunique</th>\n",
       "      <th>user_product_last_order_num</th>\n",
       "      <th>product_name</th>\n",
       "      <th>aisle_id</th>\n",
       "      <th>department_id</th>\n",
       "    </tr>\n",
       "  </thead>\n",
       "  <tbody>\n",
       "    <tr>\n",
       "      <th>0</th>\n",
       "      <td>202279</td>\n",
       "      <td>9327</td>\n",
       "      <td>20227909327</td>\n",
       "      <td>0</td>\n",
       "      <td>1050357</td>\n",
       "      <td>train</td>\n",
       "      <td>9</td>\n",
       "      <td>1</td>\n",
       "      <td>14</td>\n",
       "      <td>30.0</td>\n",
       "      <td>9</td>\n",
       "      <td>39</td>\n",
       "      <td>9</td>\n",
       "      <td>22.625000</td>\n",
       "      <td>30.0</td>\n",
       "      <td>9.455724</td>\n",
       "      <td>30.0</td>\n",
       "      <td>5</td>\n",
       "      <td>9</td>\n",
       "      <td>134</td>\n",
       "      <td>47</td>\n",
       "      <td>17794</td>\n",
       "      <td>1003</td>\n",
       "      <td>28985</td>\n",
       "      <td>90</td>\n",
       "      <td>...</td>\n",
       "      <td>5304</td>\n",
       "      <td>9.943166</td>\n",
       "      <td>7.853449</td>\n",
       "      <td>0</td>\n",
       "      <td>6</td>\n",
       "      <td>14</td>\n",
       "      <td>13</td>\n",
       "      <td>30.0</td>\n",
       "      <td>7.0</td>\n",
       "      <td>12</td>\n",
       "      <td>13</td>\n",
       "      <td>11.432298</td>\n",
       "      <td>9.184589</td>\n",
       "      <td>0.157962</td>\n",
       "      <td>0.364734</td>\n",
       "      <td>995</td>\n",
       "      <td>20227909327</td>\n",
       "      <td>0</td>\n",
       "      <td>3</td>\n",
       "      <td>3.0</td>\n",
       "      <td>1</td>\n",
       "      <td>3</td>\n",
       "      <td>Garlic Powder</td>\n",
       "      <td>104</td>\n",
       "      <td>13</td>\n",
       "    </tr>\n",
       "    <tr>\n",
       "      <th>1</th>\n",
       "      <td>156122</td>\n",
       "      <td>47209</td>\n",
       "      <td>15612247209</td>\n",
       "      <td>0</td>\n",
       "      <td>1277092</td>\n",
       "      <td>train</td>\n",
       "      <td>53</td>\n",
       "      <td>1</td>\n",
       "      <td>11</td>\n",
       "      <td>5.0</td>\n",
       "      <td>53</td>\n",
       "      <td>36</td>\n",
       "      <td>53</td>\n",
       "      <td>6.673077</td>\n",
       "      <td>18.0</td>\n",
       "      <td>2.874643</td>\n",
       "      <td>6.0</td>\n",
       "      <td>4</td>\n",
       "      <td>14</td>\n",
       "      <td>114</td>\n",
       "      <td>154</td>\n",
       "      <td>13176</td>\n",
       "      <td>13176</td>\n",
       "      <td>48370</td>\n",
       "      <td>967</td>\n",
       "      <td>...</td>\n",
       "      <td>43453</td>\n",
       "      <td>6.775011</td>\n",
       "      <td>5.813507</td>\n",
       "      <td>0</td>\n",
       "      <td>1</td>\n",
       "      <td>15</td>\n",
       "      <td>14</td>\n",
       "      <td>7.0</td>\n",
       "      <td>6.0</td>\n",
       "      <td>14</td>\n",
       "      <td>15</td>\n",
       "      <td>10.205608</td>\n",
       "      <td>8.319953</td>\n",
       "      <td>0.796553</td>\n",
       "      <td>0.402563</td>\n",
       "      <td>170131</td>\n",
       "      <td>15612247209</td>\n",
       "      <td>0</td>\n",
       "      <td>22</td>\n",
       "      <td>22.0</td>\n",
       "      <td>1</td>\n",
       "      <td>42</td>\n",
       "      <td>Organic Hass Avocado</td>\n",
       "      <td>24</td>\n",
       "      <td>4</td>\n",
       "    </tr>\n",
       "    <tr>\n",
       "      <th>2</th>\n",
       "      <td>156122</td>\n",
       "      <td>46522</td>\n",
       "      <td>15612246522</td>\n",
       "      <td>0</td>\n",
       "      <td>1277092</td>\n",
       "      <td>train</td>\n",
       "      <td>53</td>\n",
       "      <td>1</td>\n",
       "      <td>11</td>\n",
       "      <td>5.0</td>\n",
       "      <td>53</td>\n",
       "      <td>36</td>\n",
       "      <td>53</td>\n",
       "      <td>6.673077</td>\n",
       "      <td>18.0</td>\n",
       "      <td>2.874643</td>\n",
       "      <td>6.0</td>\n",
       "      <td>4</td>\n",
       "      <td>14</td>\n",
       "      <td>114</td>\n",
       "      <td>154</td>\n",
       "      <td>13176</td>\n",
       "      <td>13176</td>\n",
       "      <td>48370</td>\n",
       "      <td>967</td>\n",
       "      <td>...</td>\n",
       "      <td>4361</td>\n",
       "      <td>10.115824</td>\n",
       "      <td>7.885046</td>\n",
       "      <td>0</td>\n",
       "      <td>1</td>\n",
       "      <td>11</td>\n",
       "      <td>10</td>\n",
       "      <td>30.0</td>\n",
       "      <td>7.0</td>\n",
       "      <td>11</td>\n",
       "      <td>12</td>\n",
       "      <td>12.547652</td>\n",
       "      <td>9.160984</td>\n",
       "      <td>0.452754</td>\n",
       "      <td>0.497794</td>\n",
       "      <td>3608</td>\n",
       "      <td>15612246522</td>\n",
       "      <td>0</td>\n",
       "      <td>23</td>\n",
       "      <td>23.0</td>\n",
       "      <td>1</td>\n",
       "      <td>42</td>\n",
       "      <td>Spaghetti Pasta</td>\n",
       "      <td>131</td>\n",
       "      <td>9</td>\n",
       "    </tr>\n",
       "    <tr>\n",
       "      <th>3</th>\n",
       "      <td>156122</td>\n",
       "      <td>38693</td>\n",
       "      <td>15612238693</td>\n",
       "      <td>0</td>\n",
       "      <td>1277092</td>\n",
       "      <td>train</td>\n",
       "      <td>53</td>\n",
       "      <td>1</td>\n",
       "      <td>11</td>\n",
       "      <td>5.0</td>\n",
       "      <td>53</td>\n",
       "      <td>36</td>\n",
       "      <td>53</td>\n",
       "      <td>6.673077</td>\n",
       "      <td>18.0</td>\n",
       "      <td>2.874643</td>\n",
       "      <td>6.0</td>\n",
       "      <td>4</td>\n",
       "      <td>14</td>\n",
       "      <td>114</td>\n",
       "      <td>154</td>\n",
       "      <td>13176</td>\n",
       "      <td>13176</td>\n",
       "      <td>48370</td>\n",
       "      <td>967</td>\n",
       "      <td>...</td>\n",
       "      <td>2546</td>\n",
       "      <td>8.862221</td>\n",
       "      <td>6.974303</td>\n",
       "      <td>0</td>\n",
       "      <td>1</td>\n",
       "      <td>12</td>\n",
       "      <td>14</td>\n",
       "      <td>7.0</td>\n",
       "      <td>30.0</td>\n",
       "      <td>12</td>\n",
       "      <td>11</td>\n",
       "      <td>10.664021</td>\n",
       "      <td>8.701408</td>\n",
       "      <td>0.437845</td>\n",
       "      <td>0.496176</td>\n",
       "      <td>1983</td>\n",
       "      <td>15612238693</td>\n",
       "      <td>0</td>\n",
       "      <td>24</td>\n",
       "      <td>24.0</td>\n",
       "      <td>1</td>\n",
       "      <td>42</td>\n",
       "      <td>Meyer Lemon</td>\n",
       "      <td>24</td>\n",
       "      <td>4</td>\n",
       "    </tr>\n",
       "    <tr>\n",
       "      <th>4</th>\n",
       "      <td>156122</td>\n",
       "      <td>48825</td>\n",
       "      <td>15612248825</td>\n",
       "      <td>0</td>\n",
       "      <td>1277092</td>\n",
       "      <td>train</td>\n",
       "      <td>53</td>\n",
       "      <td>1</td>\n",
       "      <td>11</td>\n",
       "      <td>5.0</td>\n",
       "      <td>53</td>\n",
       "      <td>36</td>\n",
       "      <td>53</td>\n",
       "      <td>6.673077</td>\n",
       "      <td>18.0</td>\n",
       "      <td>2.874643</td>\n",
       "      <td>6.0</td>\n",
       "      <td>4</td>\n",
       "      <td>14</td>\n",
       "      <td>114</td>\n",
       "      <td>154</td>\n",
       "      <td>13176</td>\n",
       "      <td>13176</td>\n",
       "      <td>48370</td>\n",
       "      <td>967</td>\n",
       "      <td>...</td>\n",
       "      <td>959</td>\n",
       "      <td>9.408513</td>\n",
       "      <td>7.249891</td>\n",
       "      <td>0</td>\n",
       "      <td>6</td>\n",
       "      <td>12</td>\n",
       "      <td>13</td>\n",
       "      <td>7.0</td>\n",
       "      <td>4.0</td>\n",
       "      <td>11</td>\n",
       "      <td>12</td>\n",
       "      <td>9.690413</td>\n",
       "      <td>8.013440</td>\n",
       "      <td>0.390724</td>\n",
       "      <td>0.488068</td>\n",
       "      <td>615</td>\n",
       "      <td>15612248825</td>\n",
       "      <td>0</td>\n",
       "      <td>25</td>\n",
       "      <td>25.0</td>\n",
       "      <td>1</td>\n",
       "      <td>42</td>\n",
       "      <td>Bag of Organic Lemons</td>\n",
       "      <td>24</td>\n",
       "      <td>4</td>\n",
       "    </tr>\n",
       "  </tbody>\n",
       "</table>\n",
       "<p>5 rows × 59 columns</p>\n",
       "</div>"
      ],
      "text/plain": [
       "   user_id  product_id  user_X_product  label  order_id eval_set  \\\n",
       "0   202279        9327     20227909327      0   1050357    train   \n",
       "1   156122       47209     15612247209      0   1277092    train   \n",
       "2   156122       46522     15612246522      0   1277092    train   \n",
       "3   156122       38693     15612238693      0   1277092    train   \n",
       "4   156122       48825     15612248825      0   1277092    train   \n",
       "\n",
       "   order_number  order_dow  order_hour_of_day  days_since_prior_order  \\\n",
       "0             9          1                 14                    30.0   \n",
       "1            53          1                 11                     5.0   \n",
       "2            53          1                 11                     5.0   \n",
       "3            53          1                 11                     5.0   \n",
       "4            53          1                 11                     5.0   \n",
       "\n",
       "   order_number_max  dow_hour  user_orderid_count  \\\n",
       "0                 9        39                   9   \n",
       "1                53        36                  53   \n",
       "2                53        36                  53   \n",
       "3                53        36                  53   \n",
       "4                53        36                  53   \n",
       "\n",
       "   user_days_since_prior_order_mean  user_days_since_prior_order_max  \\\n",
       "0                         22.625000                             30.0   \n",
       "1                          6.673077                             18.0   \n",
       "2                          6.673077                             18.0   \n",
       "3                          6.673077                             18.0   \n",
       "4                          6.673077                             18.0   \n",
       "\n",
       "   user_days_since_prior_order_std  user_days_since_prior_order_mode  \\\n",
       "0                         9.455724                              30.0   \n",
       "1                         2.874643                               6.0   \n",
       "2                         2.874643                               6.0   \n",
       "3                         2.874643                               6.0   \n",
       "4                         2.874643                               6.0   \n",
       "\n",
       "   user_order_dow_mode  user_order_hour_of_day_mode  user_dow_hour_mode  \\\n",
       "0                    5                            9                 134   \n",
       "1                    4                           14                 114   \n",
       "2                    4                           14                 114   \n",
       "3                    4                           14                 114   \n",
       "4                    4                           14                 114   \n",
       "\n",
       "   user_product_nunique  user_product_mode  user_product_mode_1  \\\n",
       "0                    47              17794                 1003   \n",
       "1                   154              13176                13176   \n",
       "2                   154              13176                13176   \n",
       "3                   154              13176                13176   \n",
       "4                   154              13176                13176   \n",
       "\n",
       "   user_product_mode_2  user_product_count      ...        \\\n",
       "0                28985                  90      ...         \n",
       "1                48370                 967      ...         \n",
       "2                48370                 967      ...         \n",
       "3                48370                 967      ...         \n",
       "4                48370                 967      ...         \n",
       "\n",
       "   product_user_nunqiue  product_add_to_cart_order_mean  \\\n",
       "0                  5304                        9.943166   \n",
       "1                 43453                        6.775011   \n",
       "2                  4361                       10.115824   \n",
       "3                  2546                        8.862221   \n",
       "4                   959                        9.408513   \n",
       "\n",
       "   product_add_to_cart_order_std  product_dow_mode  product_dow_mode_1  \\\n",
       "0                       7.853449                 0                   6   \n",
       "1                       5.813507                 0                   1   \n",
       "2                       7.885046                 0                   1   \n",
       "3                       6.974303                 0                   1   \n",
       "4                       7.249891                 0                   6   \n",
       "\n",
       "   product_hour_of_day_mode  product_hour_of_day_mode_1  \\\n",
       "0                        14                          13   \n",
       "1                        15                          14   \n",
       "2                        11                          10   \n",
       "3                        12                          14   \n",
       "4                        12                          13   \n",
       "\n",
       "   product_days_since_prior_order_mode  product_days_since_prior_order_mode_1  \\\n",
       "0                                 30.0                                    7.0   \n",
       "1                                  7.0                                    6.0   \n",
       "2                                 30.0                                    7.0   \n",
       "3                                  7.0                                   30.0   \n",
       "4                                  7.0                                    4.0   \n",
       "\n",
       "   product_dow_hour_mode  product_dow_hour_mode_1  \\\n",
       "0                     12                       13   \n",
       "1                     14                       15   \n",
       "2                     11                       12   \n",
       "3                     12                       11   \n",
       "4                     11                       12   \n",
       "\n",
       "   product_days_since_prior_order_mean  product_days_since_prior_order_std  \\\n",
       "0                            11.432298                            9.184589   \n",
       "1                            10.205608                            8.319953   \n",
       "2                            12.547652                            9.160984   \n",
       "3                            10.664021                            8.701408   \n",
       "4                             9.690413                            8.013440   \n",
       "\n",
       "   product_reordered_mean  product_reordered_std  product_reordered_sum  \\\n",
       "0                0.157962               0.364734                    995   \n",
       "1                0.796553               0.402563                 170131   \n",
       "2                0.452754               0.497794                   3608   \n",
       "3                0.437845               0.496176                   1983   \n",
       "4                0.390724               0.488068                    615   \n",
       "\n",
       "   user_product  user_product_reordered_sum  \\\n",
       "0   20227909327                           0   \n",
       "1   15612247209                           0   \n",
       "2   15612246522                           0   \n",
       "3   15612238693                           0   \n",
       "4   15612248825                           0   \n",
       "\n",
       "   user_product_add_to_cart_order_sum  user_product_add_to_cart_order_mean  \\\n",
       "0                                   3                                  3.0   \n",
       "1                                  22                                 22.0   \n",
       "2                                  23                                 23.0   \n",
       "3                                  24                                 24.0   \n",
       "4                                  25                                 25.0   \n",
       "\n",
       "   user_product_order_nunique  user_product_last_order_num  \\\n",
       "0                           1                            3   \n",
       "1                           1                           42   \n",
       "2                           1                           42   \n",
       "3                           1                           42   \n",
       "4                           1                           42   \n",
       "\n",
       "            product_name  aisle_id  department_id  \n",
       "0          Garlic Powder       104             13  \n",
       "1   Organic Hass Avocado        24              4  \n",
       "2        Spaghetti Pasta       131              9  \n",
       "3            Meyer Lemon        24              4  \n",
       "4  Bag of Organic Lemons        24              4  \n",
       "\n",
       "[5 rows x 59 columns]"
      ]
     },
     "execution_count": 130,
     "metadata": {},
     "output_type": "execute_result"
    }
   ],
   "source": [
    "train_data.head()"
   ]
  },
  {
   "cell_type": "code",
   "execution_count": 131,
   "metadata": {
    "scrolled": true
   },
   "outputs": [],
   "source": [
    "train_data['user_product_count_percent']  = train_data['user_product_order_nunique'] * 1.0 / train_data['user_orderid_count']\n",
    "train_data['user_product_last_to_now']   = train_data['user_orderid_count']    - train_data['user_product_last_order_num']\n",
    "\n",
    "test_data['user_product_count_percent']   = test_data['user_product_order_nunique'] * 1.0  / test_data['user_orderid_count']\n",
    "test_data['user_product_last_to_now']   = test_data['user_orderid_count']    - test_data['user_product_last_order_num']"
   ]
  },
  {
   "cell_type": "code",
   "execution_count": 132,
   "metadata": {},
   "outputs": [],
   "source": [
    "fea_not_need = ['user_id','user_X_product','order_id','eval_set','product_name','user_product_last_order_num','label']\n",
    "feature_cols = [col for col in train_data.columns if col not in fea_not_need]\n",
    "label_cols = 'label'"
   ]
  },
  {
   "cell_type": "code",
   "execution_count": 133,
   "metadata": {},
   "outputs": [],
   "source": [
    "def validation_sample(order_ids, frac = 0.2):\n",
    "    import random\n",
    "    sample_number = int(frac * len(order_ids))\n",
    "    sample_val_order = random.sample( order_ids , sample_number) \n",
    "    sample_train_order = list(set(order_ids) - set(sample_val_order))\n",
    "    return sample_train_order,sample_val_order\n",
    "sample_train_order,sample_val_order = validation_sample(list(train_data['order_id'].unique()))"
   ]
  },
  {
   "cell_type": "code",
   "execution_count": 134,
   "metadata": {},
   "outputs": [],
   "source": [
    "train = train_data.loc[train_data.order_id.isin(sample_train_order)]\n",
    "val   = train_data.loc[train_data.order_id.isin(sample_val_order)]"
   ]
  },
  {
   "cell_type": "markdown",
   "metadata": {},
   "source": [
    "## 模型验证\n",
    "### 近似的评价指标"
   ]
  },
  {
   "cell_type": "code",
   "execution_count": 135,
   "metadata": {},
   "outputs": [],
   "source": [
    "import lightgbm as lgb\n",
    "\n",
    "from sklearn.metrics import f1_score\n",
    "def lgb_f1_score(y_hat, data):\n",
    "    y_true = data.get_label() \n",
    "    y_hat = np.round(y_hat >= 0.2) # scikits f1 doesn't like probabilities \n",
    "    return 'f1', f1_score(y_true, y_hat), True"
   ]
  },
  {
   "cell_type": "markdown",
   "metadata": {},
   "source": [
    "### 模型验证 \n",
    "此处是近似的验证,我们仅仅作为参考(未加入None等),在测试集上应该会有波动(我们的训练集&测试集的比例和线上不是一致的,为了方便我们此处随机采样了20%)\n",
    "\n",
    "<font color=red>注意: 此处我们的F1并不是Mean F1 Score,具体的Mean F1 Score的函数我们会在下一次给出,所以这边的线下的F1 Score和线上的Mean F1 Score基本是不符的。 </font>"
   ]
  },
  {
   "cell_type": "code",
   "execution_count": null,
   "metadata": {
    "scrolled": true
   },
   "outputs": [
    {
     "name": "stdout",
     "output_type": "stream",
     "text": [
      "light GBM train :-)\n",
      "[10]\ttraining's binary_logloss: 0.247832\ttraining's f1: 0.434241\tvalid_1's binary_logloss: 0.246998\tvalid_1's f1: 0.436959\n",
      "[20]\ttraining's binary_logloss: 0.246181\ttraining's f1: 0.437529\tvalid_1's binary_logloss: 0.245752\tvalid_1's f1: 0.439032\n",
      "[30]\ttraining's binary_logloss: 0.245589\ttraining's f1: 0.438983\tvalid_1's binary_logloss: 0.245703\tvalid_1's f1: 0.439007\n",
      "[40]\ttraining's binary_logloss: 0.245098\ttraining's f1: 0.440448\tvalid_1's binary_logloss: 0.245814\tvalid_1's f1: 0.439486\n",
      "[50]\ttraining's binary_logloss: 0.245189\ttraining's f1: 0.440851\tvalid_1's binary_logloss: 0.246005\tvalid_1's f1: 0.439381\n",
      "[60]\ttraining's binary_logloss: 0.245325\ttraining's f1: 0.441283\tvalid_1's binary_logloss: 0.246394\tvalid_1's f1: 0.439533\n",
      "[70]\ttraining's binary_logloss: 0.245375\ttraining's f1: 0.441421\tvalid_1's binary_logloss: 0.247026\tvalid_1's f1: 0.439402\n",
      "[80]\ttraining's binary_logloss: 0.245356\ttraining's f1: 0.441851\tvalid_1's binary_logloss: 0.246999\tvalid_1's f1: 0.439118\n",
      "[90]\ttraining's binary_logloss: 0.245187\ttraining's f1: 0.441979\tvalid_1's binary_logloss: 0.246906\tvalid_1's f1: 0.43904\n",
      "[100]\ttraining's binary_logloss: 0.245081\ttraining's f1: 0.442063\tvalid_1's binary_logloss: 0.247144\tvalid_1's f1: 0.439055\n",
      "[110]\ttraining's binary_logloss: 0.245421\ttraining's f1: 0.442034\tvalid_1's binary_logloss: 0.247413\tvalid_1's f1: 0.43908\n",
      "[120]\ttraining's binary_logloss: 0.245303\ttraining's f1: 0.442135\tvalid_1's binary_logloss: 0.247129\tvalid_1's f1: 0.439088\n",
      "[130]\ttraining's binary_logloss: 0.246005\ttraining's f1: 0.442341\tvalid_1's binary_logloss: 0.249107\tvalid_1's f1: 0.438794\n",
      "[140]\ttraining's binary_logloss: 0.24563\ttraining's f1: 0.442658\tvalid_1's binary_logloss: 0.24827\tvalid_1's f1: 0.438716\n",
      "[150]\ttraining's binary_logloss: 0.245859\ttraining's f1: 0.442899\tvalid_1's binary_logloss: 0.24889\tvalid_1's f1: 0.438718\n",
      "[160]\ttraining's binary_logloss: 0.245601\ttraining's f1: 0.443239\tvalid_1's binary_logloss: 0.248219\tvalid_1's f1: 0.438882\n",
      "[170]\ttraining's binary_logloss: 0.245447\ttraining's f1: 0.443386\tvalid_1's binary_logloss: 0.24858\tvalid_1's f1: 0.438775\n",
      "[180]\ttraining's binary_logloss: 0.245557\ttraining's f1: 0.443441\tvalid_1's binary_logloss: 0.248869\tvalid_1's f1: 0.438749\n",
      "[190]\ttraining's binary_logloss: 0.24741\ttraining's f1: 0.443387\tvalid_1's binary_logloss: 0.250793\tvalid_1's f1: 0.438651\n",
      "[200]\ttraining's binary_logloss: 0.245721\ttraining's f1: 0.443554\tvalid_1's binary_logloss: 0.250102\tvalid_1's f1: 0.43865\n"
     ]
    }
   ],
   "source": [
    "d_train = lgb.Dataset(train[feature_cols], label=train[label_cols].values)   \n",
    "d_val   = lgb.Dataset(val[feature_cols], label=val[label_cols].values)    \n",
    "\n",
    "params = {\n",
    "    'task': 'train',\n",
    "    'boosting_type': 'gbdt',\n",
    "    'objective': 'binary',\n",
    "    'metric': {'binary_logloss'},\n",
    "    'num_leaves': 2 ** 5,\n",
    "    'max_depth': 10,\n",
    "    'learning_rate':0.5,\n",
    "    'feature_fraction': 0.9,\n",
    "    'bagging_fraction': 0.9,\n",
    "    'bagging_freq': 5\n",
    "}\n",
    "ROUNDS = 200 \n",
    "print('light GBM train :-)')\n",
    "bst = lgb.train(params, d_train, ROUNDS, valid_sets=[d_train,d_val], feval =lgb_f1_score,verbose_eval=10)\n",
    "del d_train "
   ]
  },
  {
   "cell_type": "markdown",
   "metadata": {},
   "source": [
    "## 模型训练&提交\n",
    "### 模型训练"
   ]
  },
  {
   "cell_type": "code",
   "execution_count": 143,
   "metadata": {
    "scrolled": true
   },
   "outputs": [
    {
     "name": "stdout",
     "output_type": "stream",
     "text": [
      "light GBM train :-)\n",
      "[10]\ttraining's binary_logloss: 0.34766\ttraining's f1: 0.257667\n",
      "[20]\ttraining's binary_logloss: 0.270916\ttraining's f1: 0.423864\n",
      "[30]\ttraining's binary_logloss: 0.251367\ttraining's f1: 0.436554\n",
      "[40]\ttraining's binary_logloss: 0.246249\ttraining's f1: 0.439846\n",
      "[50]\ttraining's binary_logloss: 0.244596\ttraining's f1: 0.441754\n",
      "[60]\ttraining's binary_logloss: 0.243688\ttraining's f1: 0.443481\n",
      "[70]\ttraining's binary_logloss: 0.243004\ttraining's f1: 0.444767\n",
      "[80]\ttraining's binary_logloss: 0.242379\ttraining's f1: 0.446067\n",
      "[90]\ttraining's binary_logloss: 0.241844\ttraining's f1: 0.447197\n",
      "[100]\ttraining's binary_logloss: 0.241316\ttraining's f1: 0.448474\n",
      "[110]\ttraining's binary_logloss: 0.240793\ttraining's f1: 0.449723\n",
      "[120]\ttraining's binary_logloss: 0.240314\ttraining's f1: 0.450864\n"
     ]
    }
   ],
   "source": [
    "import lightgbm as lgb\n",
    "d_train = lgb.Dataset(train_data[feature_cols], label=train_data[label_cols].values)    \n",
    "\n",
    "params = {\n",
    "    'task': 'train',\n",
    "    'boosting_type': 'gbdt',\n",
    "    'objective': 'binary',\n",
    "    'metric': {'binary_logloss'},\n",
    "    'num_leaves': 255,\n",
    "    'max_depth': 10,\n",
    "#     'feature_fraction': 0.9,\n",
    "#     'bagging_fraction': 0.95,\n",
    "    'bagging_freq': 5\n",
    "}\n",
    "ROUNDS = 120 \n",
    "print('light GBM train :-)')\n",
    "bst = lgb.train(params, d_train, ROUNDS, valid_sets=[d_train], feval =lgb_f1_score,verbose_eval=10)"
   ]
  },
  {
   "cell_type": "markdown",
   "metadata": {},
   "source": [
    " # final"
   ]
  },
  {
   "cell_type": "code",
   "execution_count": null,
   "metadata": {},
   "outputs": [],
   "source": [
    "test_data['product_id'] = test_data['product_id'].astype(np.int64)"
   ]
  },
  {
   "cell_type": "code",
   "execution_count": 152,
   "metadata": {},
   "outputs": [],
   "source": [
    "pred = bst.predict(test_data[feature_cols])\n",
    "test_data['pred'] = pred \n",
    "test_data['product_id'] = test_data['product_id'].astype(str)"
   ]
  },
  {
   "cell_type": "code",
   "execution_count": null,
   "metadata": {},
   "outputs": [],
   "source": [
    "order_product = {}\n",
    "for order_id, val, product_id in test_data[['order_id','pred','product_id']].values:\n",
    "    if order_id in order_product.keys():\n",
    "        if val >= 0.21:\n",
    "            if order_product[order_id] == '':\n",
    "                order_product[order_id] = str(product_id )\n",
    "            else:\n",
    "                order_product[order_id] += ' ' + str(product_id )\n",
    "    else:\n",
    "        order_product[order_id] = ''\n",
    "        if val >= 0.21:\n",
    "            order_product[order_id] = str(product_id ) \n",
    "\n",
    "sub = pd.DataFrame.from_dict(order_product, orient='index')\n",
    "sub.reset_index(inplace=True)\n",
    "sub.columns = ['order_id', 'products']\n",
    "sub.loc[sub.products =='', 'products'] = 'None'\n",
    "sub.to_csv('haha_gongxi.csv',index = None)"
   ]
  },
  {
   "cell_type": "code",
   "execution_count": null,
   "metadata": {},
   "outputs": [],
   "source": [
    "print('Congratulations on completing all the processes！')"
   ]
  },
  {
   "cell_type": "code",
   "execution_count": null,
   "metadata": {},
   "outputs": [],
   "source": [
    "# 2018/11/15"
   ]
  },
  {
   "cell_type": "code",
   "execution_count": null,
   "metadata": {},
   "outputs": [],
   "source": []
  }
 ],
 "metadata": {
  "kernelspec": {
   "display_name": "Python 2",
   "language": "python",
   "name": "python2"
  },
  "language_info": {
   "codemirror_mode": {
    "name": "ipython",
    "version": 2
   },
   "file_extension": ".py",
   "mimetype": "text/x-python",
   "name": "python",
   "nbconvert_exporter": "python",
   "pygments_lexer": "ipython2",
   "version": "2.7.12"
  },
  "toc": {
   "nav_menu": {},
   "number_sections": true,
   "sideBar": true,
   "skip_h1_title": false,
   "title_cell": "Table of Contents",
   "title_sidebar": "Contents",
   "toc_cell": false,
   "toc_position": {
    "height": "calc(100% - 180px)",
    "left": "10px",
    "top": "150px",
    "width": "384px"
   },
   "toc_section_display": true,
   "toc_window_display": true
  }
 },
 "nbformat": 4,
 "nbformat_minor": 2
}
