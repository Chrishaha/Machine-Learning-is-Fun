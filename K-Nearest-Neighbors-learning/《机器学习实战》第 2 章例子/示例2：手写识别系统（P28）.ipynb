{
 "cells": [
  {
   "cell_type": "markdown",
   "metadata": {},
   "source": [
    "## 示例2：手写识别系统（P28）"
   ]
  },
  {
   "cell_type": "code",
   "execution_count": 1,
   "metadata": {
    "collapsed": true
   },
   "outputs": [],
   "source": [
    "def img2vector(file_name):\n",
    "    data = np.zeros((1, 1024))\n",
    "    with open(file_name, 'r') as f:\n",
    "        for i in range(32):\n",
    "            line = f.readline()\n",
    "            for j in range(32):\n",
    "                data[0, i * 32 + j] = int(line[j])\n",
    "    return data"
   ]
  },
  {
   "cell_type": "code",
   "execution_count": 2,
   "metadata": {
    "collapsed": true
   },
   "outputs": [],
   "source": [
    "from os import listdir\n",
    "import os\n",
    "\n",
    "\n",
    "def read_data_from_dir(dir_name):\n",
    "    train_file_list = listdir(dir_name)\n",
    "\n",
    "    m = len(train_file_list)\n",
    "\n",
    "    X = np.empty((m, 1024), dtype=np.int32)\n",
    "    y = []\n",
    "\n",
    "    i = 0\n",
    "    for train_file_name in train_file_list:\n",
    "        full_filename = os.path.join(dir_name, train_file_name)\n",
    "        label = train_file_name.split(\"_\")[0]\n",
    "        img_vector = img2vector(full_filename)\n",
    "\n",
    "        X[i, :] = np.array(img_vector)\n",
    "        y.append(label)\n",
    "        i += 1\n",
    "    return X, y"
   ]
  },
  {
   "cell_type": "code",
   "execution_count": 3,
   "metadata": {},
   "outputs": [
    {
     "name": "stdout",
     "output_type": "stream",
     "text": [
      "(1934, 1024) 1934\n"
     ]
    }
   ],
   "source": [
    "train_dir_name = \"./datas/digits/trainingDigits/\"\n",
    "\n",
    "X_train, y_train = read_data_from_dir(train_dir_name)\n",
    "print(X_train.shape, len(y_train))\n",
    "\n",
    "test_dir_name = \"./datas/digits/testDigits/\"\n",
    "X_test, y_test = read_data_from_dir(test_dir_name)"
   ]
  },
  {
   "cell_type": "code",
   "execution_count": 4,
   "metadata": {},
   "outputs": [
    {
     "name": "stdout",
     "output_type": "stream",
     "text": [
      "790\n"
     ]
    },
    {
     "data": {
      "text/plain": [
       "<matplotlib.image.AxesImage at 0x125e1b5c0>"
      ]
     },
     "execution_count": 4,
     "metadata": {},
     "output_type": "execute_result"
    },
    {
     "name": "stderr",
     "output_type": "stream",
     "text": [
      "/Users/liwei/anaconda3/envs/ipykernel_py3/lib/python3.6/site-packages/matplotlib/font_manager.py:1241: UserWarning: findfont: Font family ['STHeiti'] not found. Falling back to DejaVu Sans.\n",
      "  (prop.get_family(), self.defaultFamily[fontext]))\n"
     ]
    },
    {
     "data": {
      "image/png": "[encoded data removed]",
      "text/plain": [
       "<Figure size 288x288 with 1 Axes>"
      ]
     },
     "metadata": {
      "image/png": {
       "height": 255,
       "width": 259
      },
      "needs_background": "light"
     },
     "output_type": "display_data"
    }
   ],
   "source": [
    "print(sum(X_train[0] == X_train[100]))\n",
    "plt.matshow(X_train[0].reshape((32, 32)))"
   ]
  },
  {
   "cell_type": "code",
   "execution_count": 5,
   "metadata": {
    "collapsed": true
   },
   "outputs": [],
   "source": [
    "from my_knn_clf.KNNClassifier import KNNClassifier\n",
    "\n",
    "knn_clf = KNNClassifier(k=3)\n",
    "knn_clf.fit(X_train, y_train)\n",
    "\n",
    "y_predict = knn_clf.predict(X_test)"
   ]
  },
  {
   "cell_type": "code",
   "execution_count": 6,
   "metadata": {},
   "outputs": [
    {
     "name": "stdout",
     "output_type": "stream",
     "text": [
      "使用自己编写的 kNN 分类器： 0.9883720930232558\n"
     ]
    }
   ],
   "source": [
    "from sklearn.metrics import accuracy_score\n",
    "\n",
    "print('使用自己编写的 kNN 分类器：', accuracy_score(y_test, y_predict))"
   ]
  },
  {
   "cell_type": "code",
   "execution_count": 7,
   "metadata": {
    "collapsed": true
   },
   "outputs": [],
   "source": [
    "from sklearn.neighbors import KNeighborsClassifier\n",
    "\n",
    "clf = KNeighborsClassifier(n_neighbors=3)\n",
    "clf.fit(X_train, y_train)\n",
    "\n",
    "y_predict = clf.predict(X_test)"
   ]
  },
  {
   "cell_type": "code",
   "execution_count": 8,
   "metadata": {},
   "outputs": [
    {
     "name": "stdout",
     "output_type": "stream",
     "text": [
      "使用 scikit-learn 的 kNN 分类器： 0.9894291754756871\n"
     ]
    }
   ],
   "source": [
    "from sklearn.metrics import accuracy_score\n",
    "\n",
    "print('使用 scikit-learn 的 kNN 分类器：', accuracy_score(y_test, y_predict))"
   ]
  }
 ],
 "metadata": {
  "kernelspec": {
   "display_name": "Python 3",
   "language": "python",
   "name": "python3"
  },
  "language_info": {
   "codemirror_mode": {
    "name": "ipython",
    "version": 3
   },
   "file_extension": ".py",
   "mimetype": "text/x-python",
   "name": "python",
   "nbconvert_exporter": "python",
   "pygments_lexer": "ipython3",
   "version": "3.6.1"
  }
 },
 "nbformat": 4,
 "nbformat_minor": 2
}
