{
 "cells": [
  {
   "cell_type": "code",
   "execution_count": 1,
   "metadata": {
    "collapsed": true
   },
   "outputs": [],
   "source": [
    "from sklearn.datasets import fetch_20newsgroups\n",
    "\n",
    "news = fetch_20newsgroups(subset='all')\n",
    "X = news.data # 是一个列表，列表的元素是字符串\n",
    "y = news.target"
   ]
  },
  {
   "cell_type": "code",
   "execution_count": 2,
   "metadata": {
    "collapsed": true
   },
   "outputs": [],
   "source": [
    "from sklearn.model_selection import train_test_split\n",
    "\n",
    "X_train, X_test, y_train, y_test = train_test_split(X, y, test_size=0.2, random_state=666)"
   ]
  },
  {
   "cell_type": "code",
   "execution_count": 3,
   "metadata": {
    "collapsed": true
   },
   "outputs": [],
   "source": [
    "# 只有词频统计\n",
    "from sklearn.feature_extraction.text import TfidfVectorizer\n",
    "\n",
    "tfidf = TfidfVectorizer()\n",
    "X_tfidf_train = tfidf.fit_transform(X_train)\n",
    "X_tfidf_test = tfidf.transform(X_test)"
   ]
  },
  {
   "cell_type": "code",
   "execution_count": 5,
   "metadata": {},
   "outputs": [
    {
     "name": "stdout",
     "output_type": "stream",
     "text": [
      "0.843236074270557\n"
     ]
    }
   ],
   "source": [
    "# 朴素贝叶斯分类器\n",
    "from sklearn.naive_bayes import MultinomialNB\n",
    "\n",
    "mnb_count = MultinomialNB()\n",
    "mnb_count.fit(X_tfidf_train, y_train)\n",
    "y_tfidf_predict = mnb_count.predict(X_tfidf_test)\n",
    "score = mnb_count.score(X_tfidf_test, y_test)\n",
    "print(score)"
   ]
  },
  {
   "cell_type": "code",
   "execution_count": 6,
   "metadata": {},
   "outputs": [
    {
     "name": "stdout",
     "output_type": "stream",
     "text": [
      "                          precision    recall  f1-score   support\n",
      "\n",
      "             alt.atheism       0.88      0.63      0.73       180\n",
      "           comp.graphics       0.88      0.75      0.81       203\n",
      " comp.os.ms-windows.misc       0.86      0.88      0.87       196\n",
      "comp.sys.ibm.pc.hardware       0.73      0.85      0.78       182\n",
      "   comp.sys.mac.hardware       0.92      0.84      0.87       194\n",
      "          comp.windows.x       0.93      0.84      0.88       201\n",
      "            misc.forsale       0.89      0.72      0.80       176\n",
      "               rec.autos       0.94      0.92      0.93       217\n",
      "         rec.motorcycles       0.93      0.96      0.94       198\n",
      "      rec.sport.baseball       0.93      0.97      0.95       177\n",
      "        rec.sport.hockey       0.94      0.99      0.97       183\n",
      "               sci.crypt       0.83      1.00      0.90       209\n",
      "         sci.electronics       0.89      0.73      0.80       219\n",
      "                 sci.med       0.92      0.91      0.92       199\n",
      "               sci.space       0.89      0.95      0.92       211\n",
      "  soc.religion.christian       0.46      0.99      0.63       174\n",
      "      talk.politics.guns       0.78      0.94      0.85       192\n",
      "   talk.politics.mideast       0.92      0.99      0.95       177\n",
      "      talk.politics.misc       0.98      0.54      0.70       155\n",
      "      talk.religion.misc       1.00      0.21      0.35       127\n",
      "\n",
      "             avg / total       0.87      0.84      0.84      3770\n",
      "\n"
     ]
    }
   ],
   "source": [
    "from sklearn.metrics import classification_report\n",
    "\n",
    "print(classification_report(y_test, y_tfidf_predict, target_names=news.target_names))"
   ]
  },
  {
   "cell_type": "code",
   "execution_count": null,
   "metadata": {
    "collapsed": true
   },
   "outputs": [],
   "source": []
  }
 ],
 "metadata": {
  "kernelspec": {
   "display_name": "Python 3",
   "language": "python",
   "name": "python3"
  },
  "language_info": {
   "codemirror_mode": {
    "name": "ipython",
    "version": 3
   },
   "file_extension": ".py",
   "mimetype": "text/x-python",
   "name": "python",
   "nbconvert_exporter": "python",
   "pygments_lexer": "ipython3",
   "version": "3.6.1"
  }
 },
 "nbformat": 4,
 "nbformat_minor": 2
}
