{
 "cells": [
  {
   "cell_type": "markdown",
   "metadata": {},
   "source": [
    "# 第 9 章-补充知识：多项分布（multinomial distribution）"
   ]
  },
  {
   "cell_type": "markdown",
   "metadata": {},
   "source": [
    "+ 多项分布是对二项分布的扩展，二项分布是单变量分布，而多项分布是多变量分布。\n",
    "+ 二项分布的典型例子是抛硬币，每次试验有正反两种对立的可能，多项分布的例子是扔骰子。\n",
    "+ 每次试验有多种可能，进行多次试验，多项分布描述的是每种可能发生次数的联合概率分布。 "
   ]
  },
  {
   "cell_type": "markdown",
   "metadata": {},
   "source": [
    "在单次试验中，假设一共有 $k$ 种可能情况，记这 $k$ 种可能发生的概率为 $\\mu = [\\mu_1, ..., \\mu_k]$，并且 \n",
    "$$\\sum_{i=1}^k \\mu_i =1.$$\n",
    "\n",
    "(假设投骰子，此时 $k=6$，每个 $\\mu_i=\\frac{1}{6}$。)"
   ]
  },
  {
   "cell_type": "markdown",
   "metadata": {},
   "source": [
    "记 $x = [x_1,...,x_k]$，其中 $x_i \\in \\{0,1\\}$（表示发生于与发生），并且 $\\sum_{i=1}^k x_i = 1$，即 $x_i$ 中只有一个为 $1$ ，其他均为 $0$ ，也就是每次试验只有一种可能发生，$x_i$ 取 $1$ 的概率为 $\\mu_i$ ，那么一次试验的概率为\n",
    "$$P(x|\\mu) = \\prod_{i=1}^k \\mu_i^{x_i}.$$"
   ]
  },
  {
   "cell_type": "markdown",
   "metadata": {},
   "source": [
    "将试验进行 $N$ 次，记第 $i$ 种可能发生的次数为 $m_i$，\n",
    "$$\\sum_{i=1}^{k} m_i = N.$$"
   ]
  },
  {
   "cell_type": "markdown",
   "metadata": {},
   "source": [
    "那么多项分布表示 $m_i$ 的联合概率分布\n",
    "$$\n",
    "P(m_1,...,m_k|N,\\mu) = Multi(m_1,...,m_k|N,\\mu) = \\dfrac{N!}{m_1!\\cdots m_k!} \\prod_{i=1}^d \\mu_i^{m_i}.\n",
    "$$"
   ]
  },
  {
   "cell_type": "markdown",
   "metadata": {},
   "source": [
    "（理解上面这个公式，我觉得用排列组合的角度比较容易。）"
   ]
  },
  {
   "cell_type": "markdown",
   "metadata": {},
   "source": [
    "详情请参考 wikipedia multinomial distribution. \n",
    "\n",
    "下面举一个从多项分布采样的例子，Python 的 Numpy 库中有多项分布的生成器，其三个参数分别为试验次数、每种可能发生的概率向量和采样次数，如下： \n",
    "\n",
    "```python\n",
    "import numpy \n",
    "a = numpy.random.multinomial(n=10, pvals=[0.2,0.4,0.4], size = 1) \n",
    "```\n",
    "生成 `a` 为一个三维向量，如 `[2,7,1]` ，向量的每个元素位于 0-10 之间，三个元素之和为 10。设置 size = 1000 ，就会得到 1000 个三维向量，这 1000 个向量的均值为 `[2.013,4.058,3.929]`，可见其均值的分布趋近于概率 `[0.2,0.4,0.4]`。"
   ]
  },
  {
   "cell_type": "code",
   "execution_count": 3,
   "metadata": {},
   "outputs": [
    {
     "data": {
      "text/plain": [
       "array([[4, 5, 1]])"
      ]
     },
     "execution_count": 3,
     "metadata": {},
     "output_type": "execute_result"
    }
   ],
   "source": [
    "import numpy\n",
    "a = numpy.random.multinomial(n=10, pvals=[0.2, 0.4, 0.4], size=1)\n",
    "a"
   ]
  },
  {
   "cell_type": "code",
   "execution_count": 4,
   "metadata": {},
   "outputs": [
    {
     "data": {
      "text/plain": [
       "array([[28, 36, 36]])"
      ]
     },
     "execution_count": 4,
     "metadata": {},
     "output_type": "execute_result"
    }
   ],
   "source": [
    "import numpy\n",
    "a = numpy.random.multinomial(n=100, pvals=[0.2, 0.4, 0.4], size=1)\n",
    "a"
   ]
  },
  {
   "cell_type": "markdown",
   "metadata": {},
   "source": [
    "## 参考资料\n",
    "\n",
    "https://blog.csdn.net/jteng/article/details/54632311"
   ]
  }
 ],
 "metadata": {
  "kernelspec": {
   "display_name": "Python 3",
   "language": "python",
   "name": "python3"
  },
  "language_info": {
   "codemirror_mode": {
    "name": "ipython",
    "version": 3
   },
   "file_extension": ".py",
   "mimetype": "text/x-python",
   "name": "python",
   "nbconvert_exporter": "python",
   "pygments_lexer": "ipython3",
   "version": "3.6.3"
  },
  "toc": {
   "nav_menu": {},
   "number_sections": true,
   "sideBar": true,
   "skip_h1_title": false,
   "toc_cell": false,
   "toc_position": {},
   "toc_section_display": "block",
   "toc_window_display": false
  }
 },
 "nbformat": 4,
 "nbformat_minor": 2
}
