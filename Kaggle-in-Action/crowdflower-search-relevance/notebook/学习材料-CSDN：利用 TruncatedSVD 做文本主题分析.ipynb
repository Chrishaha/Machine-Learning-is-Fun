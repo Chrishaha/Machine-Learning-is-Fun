{
 "cells": [
  {
   "cell_type": "markdown",
   "metadata": {},
   "source": [
    "参考资料：[sklearn: 利用TruncatedSVD做文本主题分析](https://blog.csdn.net/blmoistawinde/article/details/83446529)"
   ]
  },
  {
   "cell_type": "code",
   "execution_count": 1,
   "metadata": {
    "collapsed": true
   },
   "outputs": [],
   "source": [
    "# Until the Day 作者：林俊杰\n",
    "docs = [\"In the middle of the night\",\n",
    "        \"When our hopes and fears collide\",\n",
    "        \"In the midst of all goodbyes\",\n",
    "        \"Where all human beings lie\",\n",
    "        \"Against another lie\"]"
   ]
  },
  {
   "cell_type": "code",
   "execution_count": 2,
   "metadata": {
    "collapsed": true
   },
   "outputs": [],
   "source": [
    "from sklearn.feature_extraction.text import TfidfVectorizer\n",
    "\n",
    "vectorizer = TfidfVectorizer()\n",
    "X = vectorizer.fit_transform(docs)"
   ]
  },
  {
   "cell_type": "code",
   "execution_count": 4,
   "metadata": {
    "collapsed": true
   },
   "outputs": [],
   "source": [
    "terms = vectorizer.get_feature_names()\n",
    "# terms"
   ]
  },
  {
   "cell_type": "code",
   "execution_count": 5,
   "metadata": {},
   "outputs": [
    {
     "data": {
      "text/plain": [
       "20"
      ]
     },
     "execution_count": 5,
     "metadata": {},
     "output_type": "execute_result"
    }
   ],
   "source": [
    "len(terms)"
   ]
  },
  {
   "cell_type": "code",
   "execution_count": 9,
   "metadata": {},
   "outputs": [
    {
     "data": {
      "text/plain": [
       "array([[0.        , 0.        , 0.        , 0.        , 0.        ,\n",
       "        0.        , 0.        , 0.        , 0.        , 0.        ,\n",
       "        0.3319971 , 0.        , 0.41150185, 0.        , 0.41150185,\n",
       "        0.3319971 , 0.        , 0.6639942 , 0.        , 0.        ],\n",
       "       [0.        , 0.        , 0.40824829, 0.        , 0.        ,\n",
       "        0.40824829, 0.40824829, 0.        , 0.40824829, 0.        ,\n",
       "        0.        , 0.        , 0.        , 0.        , 0.        ,\n",
       "        0.        , 0.40824829, 0.        , 0.40824829, 0.        ],\n",
       "       [0.        , 0.37601977, 0.        , 0.        , 0.        ,\n",
       "        0.        , 0.        , 0.46606681, 0.        , 0.        ,\n",
       "        0.37601977, 0.        , 0.        , 0.46606681, 0.        ,\n",
       "        0.37601977, 0.        , 0.37601977, 0.        , 0.        ],\n",
       "       [0.        , 0.38898761, 0.        , 0.        , 0.48214012,\n",
       "        0.        , 0.        , 0.        , 0.        , 0.48214012,\n",
       "        0.        , 0.38898761, 0.        , 0.        , 0.        ,\n",
       "        0.        , 0.        , 0.        , 0.        , 0.48214012],\n",
       "       [0.61418897, 0.        , 0.        , 0.61418897, 0.        ,\n",
       "        0.        , 0.        , 0.        , 0.        , 0.        ,\n",
       "        0.        , 0.49552379, 0.        , 0.        , 0.        ,\n",
       "        0.        , 0.        , 0.        , 0.        , 0.        ]])"
      ]
     },
     "execution_count": 9,
     "metadata": {},
     "output_type": "execute_result"
    }
   ],
   "source": [
    "X.toarray()"
   ]
  },
  {
   "cell_type": "code",
   "execution_count": 8,
   "metadata": {},
   "outputs": [
    {
     "data": {
      "text/plain": [
       "(5, 20)"
      ]
     },
     "execution_count": 8,
     "metadata": {},
     "output_type": "execute_result"
    }
   ],
   "source": [
    "# 5 个数据，每个数据 20 个维度，每个维度是一个单词\n",
    "X.toarray().shape"
   ]
  },
  {
   "cell_type": "code",
   "execution_count": 11,
   "metadata": {
    "collapsed": true
   },
   "outputs": [],
   "source": [
    "# namely LSA/LSI 潜在语义分析\n",
    "from sklearn.decomposition import TruncatedSVD\n",
    "\n",
    "# 设定主题数为 3\n",
    "n_pick_topics = 3\n",
    "lsa = TruncatedSVD(n_pick_topics)"
   ]
  },
  {
   "cell_type": "code",
   "execution_count": 12,
   "metadata": {
    "collapsed": true
   },
   "outputs": [],
   "source": [
    "X2 = lsa.fit_transform(X)"
   ]
  },
  {
   "cell_type": "code",
   "execution_count": 14,
   "metadata": {
    "collapsed": true
   },
   "outputs": [],
   "source": [
    "import numpy as np\n",
    "\n",
    "np.set_printoptions(suppress=True, precision=4)"
   ]
  },
  {
   "cell_type": "code",
   "execution_count": 15,
   "metadata": {},
   "outputs": [
    {
     "data": {
      "text/plain": [
       "array([[ 0.8266, -0.2469,  0.    ],\n",
       "       [ 0.    , -0.    ,  1.    ],\n",
       "       [ 0.8667, -0.0909, -0.    ],\n",
       "       [ 0.2801,  0.7287, -0.    ],\n",
       "       [ 0.1031,  0.764 ,  0.    ]])"
      ]
     },
     "execution_count": 15,
     "metadata": {},
     "output_type": "execute_result"
    }
   ],
   "source": [
    "X2"
   ]
  },
  {
   "cell_type": "markdown",
   "metadata": {},
   "source": [
    "使用 `TruncatedSVD` 把原先规模为（文本数，词汇数）的特征矩阵 `X` 化为规模为（文本数，主题数）的新特征矩阵 `X2`；\n",
    "\n",
    "由于主题数一般比词汇数少，这一方法也可以用来降维，用以后续进行分类或聚类操作。\n",
    "\n",
    "这个时候，列数就成为 3 ，表示 3 个主题，这就是降维。\n",
    "\n",
    "`X2[i,t]`为第 `i` 篇文档在第 `t` 个主题上的分布，所以该值越高的文档 `i`，可以认为在主题 `t` 上更有代表性，我们便以此筛选出最能代表该主题的文档。"
   ]
  },
  {
   "cell_type": "markdown",
   "metadata": {},
   "source": [
    "https://blog.csdn.net/xiayangmian4130/article/details/86162972"
   ]
  },
  {
   "cell_type": "code",
   "execution_count": 18,
   "metadata": {
    "collapsed": true
   },
   "outputs": [],
   "source": [
    "from sklearn.feature_extraction.text import TfidfVectorizer\n",
    "\n",
    "# 文本格式要求,中文需要使用分词工具预处理\n",
    "document = ['我们 走 在 热闹 的 大街 上', \n",
    "            '当 我们 走到 街 中心 时', \n",
    "            '哪里 真是 人山人海', \n",
    "            '热闹非凡']"
   ]
  },
  {
   "cell_type": "code",
   "execution_count": 19,
   "metadata": {},
   "outputs": [
    {
     "name": "stdout",
     "output_type": "stream",
     "text": [
      "{'我们': 7, '走': 14, '在': 4, '热闹': 9, '的': 11, '大街': 5, '上': 0, '当': 6, '走到': 15, '街': 13, '中心': 1, '时': 8, '哪里': 3, '真是': 12, '人山人海': 2, '热闹非凡': 10}\n"
     ]
    }
   ],
   "source": [
    "tfidf_model = TfidfVectorizer(\n",
    "    token_pattern=r\"(?u)\\b\\w+\\b\", sublinear_tf=True,\n",
    "    use_idf=True).fit(document)\n",
    "# 得到的是一个类似于以三元组方式存储的稀疏矩阵,可以使用'.todense()'还原出原矩阵\n",
    "sparse_result = tfidf_model.transform(document)\n",
    "\n",
    "# 这一步可以得到一个词汇列表,可以使用索引还原出对应的词\n",
    "print(tfidf_model.vocabulary_)\n",
    "\n",
    "# 该方法可以得到所有的特征的名称列表\n",
    "terms = tfidf_model.get_feature_names()"
   ]
  },
  {
   "cell_type": "code",
   "execution_count": 23,
   "metadata": {},
   "outputs": [
    {
     "data": {
      "text/plain": [
       "{'上': 0,\n",
       " '中心': 1,\n",
       " '人山人海': 2,\n",
       " '哪里': 3,\n",
       " '在': 4,\n",
       " '大街': 5,\n",
       " '当': 6,\n",
       " '我们': 7,\n",
       " '时': 8,\n",
       " '热闹': 9,\n",
       " '热闹非凡': 10,\n",
       " '的': 11,\n",
       " '真是': 12,\n",
       " '街': 13,\n",
       " '走': 14,\n",
       " '走到': 15}"
      ]
     },
     "execution_count": 23,
     "metadata": {},
     "output_type": "execute_result"
    }
   ],
   "source": [
    "tfidf_model.vocabulary_"
   ]
  },
  {
   "cell_type": "code",
   "execution_count": 22,
   "metadata": {},
   "outputs": [
    {
     "data": {
      "text/plain": [
       "(4, 16)"
      ]
     },
     "execution_count": 22,
     "metadata": {},
     "output_type": "execute_result"
    }
   ],
   "source": [
    "sparse_result.toarray().shape"
   ]
  },
  {
   "cell_type": "code",
   "execution_count": 31,
   "metadata": {},
   "outputs": [
    {
     "data": {
      "text/plain": [
       "array([[ 0.7423,  0.    , -0.    ],\n",
       "       [ 0.7423,  0.    ,  0.    ],\n",
       "       [-0.    ,  0.4061,  0.9138],\n",
       "       [-0.    ,  0.9138, -0.4061]])"
      ]
     },
     "execution_count": 31,
     "metadata": {},
     "output_type": "execute_result"
    }
   ],
   "source": [
    "n_pick_topics = 3  # 设定主题数为3\n",
    "svd = TruncatedSVD(n_pick_topics)\n",
    "X = svd.fit_transform(sparse_result)\n",
    "X"
   ]
  },
  {
   "cell_type": "code",
   "execution_count": 32,
   "metadata": {},
   "outputs": [
    {
     "data": {
      "text/plain": [
       "[array([0, 1]), array([3, 2]), array([2, 1])]"
      ]
     },
     "execution_count": 32,
     "metadata": {},
     "output_type": "execute_result"
    }
   ],
   "source": [
    "n_pick_docs = 2\n",
    "topic_docs_id = [\n",
    "    X[:, t].argsort()[:-(n_pick_docs + 1):-1] for t in range(n_pick_topics)\n",
    "]\n",
    "topic_docs_id\n",
    "# 3 个主题"
   ]
  },
  {
   "cell_type": "code",
   "execution_count": 27,
   "metadata": {},
   "outputs": [
    {
     "data": {
      "text/plain": [
       "[array([ 7,  1, 15, 13]), array([10,  2, 12,  3]), array([ 2, 12,  3, 14])]"
      ]
     },
     "execution_count": 27,
     "metadata": {},
     "output_type": "execute_result"
    }
   ],
   "source": [
    "n_pick_keywords = 4\n",
    "topic_keywords_id = [svd.components_[t].argsort()[:-(n_pick_keywords+1):-1] for t in range(n_pick_topics)]\n",
    "topic_keywords_id\n",
    "\n",
    "# 3 个主题"
   ]
  },
  {
   "cell_type": "code",
   "execution_count": 41,
   "metadata": {},
   "outputs": [
    {
     "data": {
      "text/plain": [
       "{0: '上',\n",
       " 1: '中心',\n",
       " 2: '人山人海',\n",
       " 3: '哪里',\n",
       " 4: '在',\n",
       " 5: '大街',\n",
       " 6: '当',\n",
       " 7: '我们',\n",
       " 8: '时',\n",
       " 9: '热闹',\n",
       " 10: '热闹非凡',\n",
       " 11: '的',\n",
       " 12: '真是',\n",
       " 13: '街',\n",
       " 14: '走',\n",
       " 15: '走到'}"
      ]
     },
     "execution_count": 41,
     "metadata": {},
     "output_type": "execute_result"
    }
   ],
   "source": [
    "reverse_vocabulary = {\n",
    "    value: key\n",
    "    for key, value in tfidf_model.vocabulary_.items()\n",
    "}\n",
    "\n",
    "reverse_vocabulary"
   ]
  },
  {
   "cell_type": "code",
   "execution_count": 44,
   "metadata": {},
   "outputs": [
    {
     "name": "stdout",
     "output_type": "stream",
     "text": [
      "['我们', '中心', '走到', '街']\n",
      "['热闹非凡', '人山人海', '真是', '哪里']\n",
      "['人山人海', '真是', '哪里', '走']\n"
     ]
    }
   ],
   "source": [
    "for words in topic_keywords_id:\n",
    "    print([reverse_vocabulary[i] for i in words])"
   ]
  }
 ],
 "metadata": {
  "kernelspec": {
   "display_name": "Python 3",
   "language": "python",
   "name": "python3"
  },
  "language_info": {
   "codemirror_mode": {
    "name": "ipython",
    "version": 3
   },
   "file_extension": ".py",
   "mimetype": "text/x-python",
   "name": "python",
   "nbconvert_exporter": "python",
   "pygments_lexer": "ipython3",
   "version": "3.6.3"
  }
 },
 "nbformat": 4,
 "nbformat_minor": 2
}
