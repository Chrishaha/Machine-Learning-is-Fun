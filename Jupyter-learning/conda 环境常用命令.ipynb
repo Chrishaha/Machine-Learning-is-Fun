{
 "cells": [
  {
   "cell_type": "markdown",
   "metadata": {},
   "source": [
    "# conda 环境常用命令"
   ]
  },
  {
   "cell_type": "markdown",
   "metadata": {},
   "source": [
    "使用 conda 命令创建一个基于 python3.6 的环境：\n",
    "```\n",
    "conda create --name pytorch020 python=3.6\n",
    "```\n",
    "\n",
    "删除这个环境：\n",
    "```\n",
    "conda remove -n pytorch020 --all\n",
    "```\n",
    "\n",
    "查看当前有哪些环境：\n",
    "```\n",
    "conda info -e\n",
    "```\n",
    "\n",
    "激活这个环境\n",
    "```\n",
    "source activate pytorch020\n",
    "```\n",
    "\n",
    "指定安装的版本：\n",
    "\n",
    "```\n",
    "conda install pytorch=0.2.0 -c soumith\n",
    "```"
   ]
  },
  {
   "cell_type": "markdown",
   "metadata": {},
   "source": [
    "## 清华大学提供的 anaconda 镜像"
   ]
  },
  {
   "cell_type": "markdown",
   "metadata": {},
   "source": [
    "\n",
    "\n",
    "使用清华大学提供的 anaconda 镜像。\n",
    "\n",
    "地址：https://mirrors.tuna.tsinghua.edu.cn/help/anaconda/\n",
    "\n",
    "TUNA 还提供了 Anaconda 仓库的镜像，运行以下命令:\n",
    "\n",
    "```\n",
    "conda config --add channels https://mirrors.tuna.tsinghua.edu.cn/anaconda/pkgs/free/\n",
    "conda config --set show_channel_urls yes\n",
    "```\n",
    "\n",
    "即可添加 Anaconda Python 免费仓库。\n",
    "\n",
    "\n",
    "conda config --show\n",
    "\n",
    "移除镜像：\n",
    "\n",
    "conda config --remove channels https://mirrors.tuna.tsinghua.edu.cn/anaconda/pkgs/free/\n",
    "\n",
    "\n",
    "安装模块：\n",
    "\n",
    "conda install 模块名=版本号\n",
    "\n",
    "更新模块：\n",
    "\n",
    "conda update 模块名\n",
    "\n",
    "\n",
    "卸载模块：\n",
    "\n",
    "conda remove 模块名"
   ]
  },
  {
   "cell_type": "markdown",
   "metadata": {},
   "source": [
    "conda create --name xxx pthon=3\n",
    "创建一个基于 Python3 环境的，空的环境\n",
    "\n",
    "使用\n",
    "conda create --name xxx pthon=3 anaconda \n",
    "则创建了包含 anaconda 一些基础的用于科学计算的包。\n",
    "\n",
    "activate xxx\n",
    "激活环境\n",
    "\n",
    "deactivate xxx\n",
    "退出环境\n",
    "\n",
    "conda info -envs\n",
    "查看环境\n",
    "\n",
    "conda remove --name xxx --all"
   ]
  },
  {
   "cell_type": "code",
   "execution_count": null,
   "metadata": {
    "collapsed": true
   },
   "outputs": [],
   "source": []
  }
 ],
 "metadata": {
  "kernelspec": {
   "display_name": "Python 3",
   "language": "python",
   "name": "python3"
  },
  "language_info": {
   "codemirror_mode": {
    "name": "ipython",
    "version": 3
   },
   "file_extension": ".py",
   "mimetype": "text/x-python",
   "name": "python",
   "nbconvert_exporter": "python",
   "pygments_lexer": "ipython3",
   "version": "3.6.1"
  }
 },
 "nbformat": 4,
 "nbformat_minor": 2
}
