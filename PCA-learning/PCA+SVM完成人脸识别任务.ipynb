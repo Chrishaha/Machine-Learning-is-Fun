{
 "cells": [
  {
   "cell_type": "markdown",
   "metadata": {},
   "source": [
    "# 2. PCA+SVM完成人脸识别任务：使用PCA提取图像的主成分作为输入特征，使用SVM模型进行人脸识别，并尝试使用grid_search来优化调整SVM的参数。\n",
    "\n",
    "\n",
    "提示：数据集导入使用from sklearn.datasets import fetch_lfw_people\n",
    "\n",
    "\n"
   ]
  },
  {
   "cell_type": "markdown",
   "metadata": {},
   "source": [
    "基本上抄写了官方文档的例子：\n",
    "\n",
    "http://sklearn.apachecn.org/cn/0.19.0/auto_examples/applications/plot_face_recognition.html#sphx-glr-auto-examples-applications-plot-face-recognition-py"
   ]
  },
  {
   "cell_type": "markdown",
   "metadata": {},
   "source": [
    "+ 从网络上下载人脸检测数据集"
   ]
  },
  {
   "cell_type": "code",
   "execution_count": 37,
   "metadata": {
    "collapsed": true
   },
   "outputs": [],
   "source": [
    "from sklearn.datasets import fetch_lfw_people\n",
    "\n",
    "lfw_people = fetch_lfw_people(min_faces_per_person=70, resize=0.4)"
   ]
  },
  {
   "cell_type": "markdown",
   "metadata": {},
   "source": [
    "+ 通过 Python 的自省功能，看看 lfw_people 有哪些属性。"
   ]
  },
  {
   "cell_type": "code",
   "execution_count": 38,
   "metadata": {},
   "outputs": [
    {
     "data": {
      "text/plain": [
       "sklearn.utils.Bunch"
      ]
     },
     "execution_count": 38,
     "metadata": {},
     "output_type": "execute_result"
    }
   ],
   "source": [
    "type(lfw_people)"
   ]
  },
  {
   "cell_type": "code",
   "execution_count": 39,
   "metadata": {},
   "outputs": [
    {
     "data": {
      "text/plain": [
       "['DESCR', 'data', 'images', 'target', 'target_names']"
      ]
     },
     "execution_count": 39,
     "metadata": {},
     "output_type": "execute_result"
    }
   ],
   "source": [
    "dir(lfw_people)"
   ]
  },
  {
   "cell_type": "code",
   "execution_count": 6,
   "metadata": {},
   "outputs": [
    {
     "data": {
      "text/plain": [
       "(1288, 1850)"
      ]
     },
     "execution_count": 6,
     "metadata": {},
     "output_type": "execute_result"
    }
   ],
   "source": [
    "lfw_people.data.shape"
   ]
  },
  {
   "cell_type": "code",
   "execution_count": 7,
   "metadata": {},
   "outputs": [
    {
     "data": {
      "text/plain": [
       "(1288, 50, 37)"
      ]
     },
     "execution_count": 7,
     "metadata": {},
     "output_type": "execute_result"
    }
   ],
   "source": [
    "lfw_people.images.shape"
   ]
  },
  {
   "cell_type": "markdown",
   "metadata": {},
   "source": [
    "+ lfw_people 中，data 是图片数据展平到一个维度的结果，images 就是图像读到内存以后的像素矩阵。\n",
    "\n",
    "下面看一张图片。"
   ]
  },
  {
   "cell_type": "code",
   "execution_count": 40,
   "metadata": {},
   "outputs": [
    {
     "data": {
      "text/plain": [
       "<matplotlib.image.AxesImage at 0x125526b70>"
      ]
     },
     "execution_count": 40,
     "metadata": {},
     "output_type": "execute_result"
    },
    {
     "data": {
      "image/png": "[encoded data removed]",
      "text/plain": [
       "<Figure size 432x288 with 1 Axes>"
      ]
     },
     "metadata": {
      "image/png": {
       "height": 250,
       "width": 196
      },
      "needs_background": "light"
     },
     "output_type": "display_data"
    }
   ],
   "source": [
    "plt.imshow(lfw_people.data[0].reshape(50, 37))"
   ]
  },
  {
   "cell_type": "markdown",
   "metadata": {},
   "source": [
    "+ 将原始数据分离为训练数据集和测试数据集"
   ]
  },
  {
   "cell_type": "code",
   "execution_count": 14,
   "metadata": {
    "collapsed": true
   },
   "outputs": [],
   "source": [
    "X = lfw_people.data\n",
    "y = lfw_people.target"
   ]
  },
  {
   "cell_type": "code",
   "execution_count": 41,
   "metadata": {
    "collapsed": true
   },
   "outputs": [],
   "source": [
    "from sklearn.model_selection import train_test_split\n",
    "\n",
    "\n",
    "X_train, X_test, y_train, y_test = train_test_split(\n",
    "    X, y, test_size=0.25, random_state=42)"
   ]
  },
  {
   "cell_type": "code",
   "execution_count": 42,
   "metadata": {},
   "outputs": [
    {
     "data": {
      "text/plain": [
       "(1288, 1850)"
      ]
     },
     "execution_count": 42,
     "metadata": {},
     "output_type": "execute_result"
    }
   ],
   "source": [
    "lfw_people.data.shape"
   ]
  },
  {
   "cell_type": "markdown",
   "metadata": {},
   "source": [
    "+ 可以看到特征数量比训练数量还多，我们把每个像素都当做一个特征来对待，数据的噪声就很严重，因此我们要通过降维算法，抽取主要特征，送入分类算法。"
   ]
  },
  {
   "cell_type": "code",
   "execution_count": 44,
   "metadata": {},
   "outputs": [
    {
     "data": {
      "text/plain": [
       "PCA(copy=True, iterated_power='auto', n_components=150, random_state=None,\n",
       "  svd_solver='randomized', tol=0.0, whiten=True)"
      ]
     },
     "execution_count": 44,
     "metadata": {},
     "output_type": "execute_result"
    }
   ],
   "source": [
    "from sklearn.decomposition import PCA\n",
    "\n",
    "# 抽取 150 个特征\n",
    "n_components = 150\n",
    "\n",
    "pca = PCA(n_components=n_components, svd_solver='randomized',\n",
    "          whiten=True)\n",
    "pca.fit(X_train)"
   ]
  },
  {
   "cell_type": "code",
   "execution_count": 45,
   "metadata": {
    "collapsed": true
   },
   "outputs": [],
   "source": [
    "X_train_pca = pca.transform(X_train)\n",
    "X_test_pca = pca.transform(X_test)"
   ]
  },
  {
   "cell_type": "code",
   "execution_count": 46,
   "metadata": {},
   "outputs": [
    {
     "data": {
      "text/plain": [
       "0.9567459120880812"
      ]
     },
     "execution_count": 46,
     "metadata": {},
     "output_type": "execute_result"
    }
   ],
   "source": [
    "sum(pca.explained_variance_ratio_)"
   ]
  },
  {
   "cell_type": "markdown",
   "metadata": {},
   "source": [
    "+ 可以看到这 150 个特征包括了原始数据 95% 以上的信息。"
   ]
  },
  {
   "cell_type": "markdown",
   "metadata": {},
   "source": [
    "+ 下面使用网格搜索对 SVM 算法进行调参。"
   ]
  },
  {
   "cell_type": "code",
   "execution_count": 26,
   "metadata": {},
   "outputs": [
    {
     "name": "stdout",
     "output_type": "stream",
     "text": [
      "Fitting 3 folds for each of 30 candidates, totalling 90 fits\n",
      "[CV] C=1000.0, gamma=0.0001 ..........................................\n",
      "[CV] ................................. C=1000.0, gamma=0.0001 -   0.1s\n",
      "[CV] C=1000.0, gamma=0.0001 ..........................................\n"
     ]
    },
    {
     "name": "stderr",
     "output_type": "stream",
     "text": [
      "[Parallel(n_jobs=1)]: Done   1 out of   1 | elapsed:    0.1s remaining:    0.0s\n"
     ]
    },
    {
     "name": "stdout",
     "output_type": "stream",
     "text": [
      "[CV] ................................. C=1000.0, gamma=0.0001 -   0.1s\n",
      "[CV] C=1000.0, gamma=0.0001 ..........................................\n",
      "[CV] ................................. C=1000.0, gamma=0.0001 -   0.1s\n",
      "[CV] C=1000.0, gamma=0.0005 ..........................................\n",
      "[CV] ................................. C=1000.0, gamma=0.0005 -   0.1s\n",
      "[CV] C=1000.0, gamma=0.0005 ..........................................\n",
      "[CV] ................................. C=1000.0, gamma=0.0005 -   0.1s\n",
      "[CV] C=1000.0, gamma=0.0005 ..........................................\n",
      "[CV] ................................. C=1000.0, gamma=0.0005 -   0.1s\n",
      "[CV] C=1000.0, gamma=0.001 ...........................................\n",
      "[CV] .................................. C=1000.0, gamma=0.001 -   0.1s\n",
      "[CV] C=1000.0, gamma=0.001 ...........................................\n",
      "[CV] .................................. C=1000.0, gamma=0.001 -   0.1s\n",
      "[CV] C=1000.0, gamma=0.001 ...........................................\n",
      "[CV] .................................. C=1000.0, gamma=0.001 -   0.1s\n",
      "[CV] C=1000.0, gamma=0.005 ...........................................\n",
      "[CV] .................................. C=1000.0, gamma=0.005 -   0.2s\n",
      "[CV] C=1000.0, gamma=0.005 ...........................................\n",
      "[CV] .................................. C=1000.0, gamma=0.005 -   0.2s\n",
      "[CV] C=1000.0, gamma=0.005 ...........................................\n",
      "[CV] .................................. C=1000.0, gamma=0.005 -   0.2s\n",
      "[CV] C=1000.0, gamma=0.01 ............................................\n",
      "[CV] ................................... C=1000.0, gamma=0.01 -   0.2s\n",
      "[CV] C=1000.0, gamma=0.01 ............................................\n",
      "[CV] ................................... C=1000.0, gamma=0.01 -   0.2s\n",
      "[CV] C=1000.0, gamma=0.01 ............................................\n",
      "[CV] ................................... C=1000.0, gamma=0.01 -   0.2s\n",
      "[CV] C=1000.0, gamma=0.1 .............................................\n",
      "[CV] .................................... C=1000.0, gamma=0.1 -   0.2s\n",
      "[CV] C=1000.0, gamma=0.1 .............................................\n",
      "[CV] .................................... C=1000.0, gamma=0.1 -   0.2s\n",
      "[CV] C=1000.0, gamma=0.1 .............................................\n",
      "[CV] .................................... C=1000.0, gamma=0.1 -   0.2s\n",
      "[CV] C=5000.0, gamma=0.0001 ..........................................\n",
      "[CV] ................................. C=5000.0, gamma=0.0001 -   0.1s\n",
      "[CV] C=5000.0, gamma=0.0001 ..........................................\n",
      "[CV] ................................. C=5000.0, gamma=0.0001 -   0.1s\n",
      "[CV] C=5000.0, gamma=0.0001 ..........................................\n",
      "[CV] ................................. C=5000.0, gamma=0.0001 -   0.1s\n",
      "[CV] C=5000.0, gamma=0.0005 ..........................................\n",
      "[CV] ................................. C=5000.0, gamma=0.0005 -   0.1s\n",
      "[CV] C=5000.0, gamma=0.0005 ..........................................\n",
      "[CV] ................................. C=5000.0, gamma=0.0005 -   0.1s\n",
      "[CV] C=5000.0, gamma=0.0005 ..........................................\n",
      "[CV] ................................. C=5000.0, gamma=0.0005 -   0.1s\n",
      "[CV] C=5000.0, gamma=0.001 ...........................................\n",
      "[CV] .................................. C=5000.0, gamma=0.001 -   0.1s\n",
      "[CV] C=5000.0, gamma=0.001 ...........................................\n",
      "[CV] .................................. C=5000.0, gamma=0.001 -   0.1s\n",
      "[CV] C=5000.0, gamma=0.001 ...........................................\n",
      "[CV] .................................. C=5000.0, gamma=0.001 -   0.1s\n",
      "[CV] C=5000.0, gamma=0.005 ...........................................\n",
      "[CV] .................................. C=5000.0, gamma=0.005 -   0.2s\n",
      "[CV] C=5000.0, gamma=0.005 ...........................................\n",
      "[CV] .................................. C=5000.0, gamma=0.005 -   0.2s\n",
      "[CV] C=5000.0, gamma=0.005 ...........................................\n",
      "[CV] .................................. C=5000.0, gamma=0.005 -   0.2s\n",
      "[CV] C=5000.0, gamma=0.01 ............................................\n",
      "[CV] ................................... C=5000.0, gamma=0.01 -   0.2s\n",
      "[CV] C=5000.0, gamma=0.01 ............................................\n",
      "[CV] ................................... C=5000.0, gamma=0.01 -   0.2s\n",
      "[CV] C=5000.0, gamma=0.01 ............................................\n",
      "[CV] ................................... C=5000.0, gamma=0.01 -   0.2s\n",
      "[CV] C=5000.0, gamma=0.1 .............................................\n",
      "[CV] .................................... C=5000.0, gamma=0.1 -   0.2s\n",
      "[CV] C=5000.0, gamma=0.1 .............................................\n",
      "[CV] .................................... C=5000.0, gamma=0.1 -   0.2s\n",
      "[CV] C=5000.0, gamma=0.1 .............................................\n",
      "[CV] .................................... C=5000.0, gamma=0.1 -   0.2s\n",
      "[CV] C=10000.0, gamma=0.0001 .........................................\n",
      "[CV] ................................ C=10000.0, gamma=0.0001 -   0.1s\n",
      "[CV] C=10000.0, gamma=0.0001 .........................................\n",
      "[CV] ................................ C=10000.0, gamma=0.0001 -   0.1s\n",
      "[CV] C=10000.0, gamma=0.0001 .........................................\n",
      "[CV] ................................ C=10000.0, gamma=0.0001 -   0.1s\n",
      "[CV] C=10000.0, gamma=0.0005 .........................................\n",
      "[CV] ................................ C=10000.0, gamma=0.0005 -   0.1s\n",
      "[CV] C=10000.0, gamma=0.0005 .........................................\n",
      "[CV] ................................ C=10000.0, gamma=0.0005 -   0.1s\n",
      "[CV] C=10000.0, gamma=0.0005 .........................................\n",
      "[CV] ................................ C=10000.0, gamma=0.0005 -   0.1s\n",
      "[CV] C=10000.0, gamma=0.001 ..........................................\n",
      "[CV] ................................. C=10000.0, gamma=0.001 -   0.1s\n",
      "[CV] C=10000.0, gamma=0.001 ..........................................\n",
      "[CV] ................................. C=10000.0, gamma=0.001 -   0.1s\n",
      "[CV] C=10000.0, gamma=0.001 ..........................................\n",
      "[CV] ................................. C=10000.0, gamma=0.001 -   0.1s\n",
      "[CV] C=10000.0, gamma=0.005 ..........................................\n",
      "[CV] ................................. C=10000.0, gamma=0.005 -   0.2s\n",
      "[CV] C=10000.0, gamma=0.005 ..........................................\n",
      "[CV] ................................. C=10000.0, gamma=0.005 -   0.2s\n",
      "[CV] C=10000.0, gamma=0.005 ..........................................\n",
      "[CV] ................................. C=10000.0, gamma=0.005 -   0.2s\n",
      "[CV] C=10000.0, gamma=0.01 ...........................................\n",
      "[CV] .................................. C=10000.0, gamma=0.01 -   0.2s\n",
      "[CV] C=10000.0, gamma=0.01 ...........................................\n",
      "[CV] .................................. C=10000.0, gamma=0.01 -   0.2s\n",
      "[CV] C=10000.0, gamma=0.01 ...........................................\n",
      "[CV] .................................. C=10000.0, gamma=0.01 -   0.2s\n",
      "[CV] C=10000.0, gamma=0.1 ............................................\n",
      "[CV] ................................... C=10000.0, gamma=0.1 -   0.2s\n",
      "[CV] C=10000.0, gamma=0.1 ............................................\n",
      "[CV] ................................... C=10000.0, gamma=0.1 -   0.2s\n",
      "[CV] C=10000.0, gamma=0.1 ............................................\n",
      "[CV] ................................... C=10000.0, gamma=0.1 -   0.2s\n",
      "[CV] C=50000.0, gamma=0.0001 .........................................\n",
      "[CV] ................................ C=50000.0, gamma=0.0001 -   0.1s\n",
      "[CV] C=50000.0, gamma=0.0001 .........................................\n",
      "[CV] ................................ C=50000.0, gamma=0.0001 -   0.1s\n",
      "[CV] C=50000.0, gamma=0.0001 .........................................\n",
      "[CV] ................................ C=50000.0, gamma=0.0001 -   0.1s\n",
      "[CV] C=50000.0, gamma=0.0005 .........................................\n",
      "[CV] ................................ C=50000.0, gamma=0.0005 -   0.1s\n",
      "[CV] C=50000.0, gamma=0.0005 .........................................\n",
      "[CV] ................................ C=50000.0, gamma=0.0005 -   0.1s\n",
      "[CV] C=50000.0, gamma=0.0005 .........................................\n",
      "[CV] ................................ C=50000.0, gamma=0.0005 -   0.1s\n",
      "[CV] C=50000.0, gamma=0.001 ..........................................\n"
     ]
    },
    {
     "name": "stdout",
     "output_type": "stream",
     "text": [
      "[CV] ................................. C=50000.0, gamma=0.001 -   0.1s\n",
      "[CV] C=50000.0, gamma=0.001 ..........................................\n",
      "[CV] ................................. C=50000.0, gamma=0.001 -   0.1s\n",
      "[CV] C=50000.0, gamma=0.001 ..........................................\n",
      "[CV] ................................. C=50000.0, gamma=0.001 -   0.1s\n",
      "[CV] C=50000.0, gamma=0.005 ..........................................\n",
      "[CV] ................................. C=50000.0, gamma=0.005 -   0.2s\n",
      "[CV] C=50000.0, gamma=0.005 ..........................................\n",
      "[CV] ................................. C=50000.0, gamma=0.005 -   0.2s\n",
      "[CV] C=50000.0, gamma=0.005 ..........................................\n",
      "[CV] ................................. C=50000.0, gamma=0.005 -   0.2s\n",
      "[CV] C=50000.0, gamma=0.01 ...........................................\n",
      "[CV] .................................. C=50000.0, gamma=0.01 -   0.2s\n",
      "[CV] C=50000.0, gamma=0.01 ...........................................\n",
      "[CV] .................................. C=50000.0, gamma=0.01 -   0.2s\n",
      "[CV] C=50000.0, gamma=0.01 ...........................................\n",
      "[CV] .................................. C=50000.0, gamma=0.01 -   0.2s\n",
      "[CV] C=50000.0, gamma=0.1 ............................................\n",
      "[CV] ................................... C=50000.0, gamma=0.1 -   0.2s\n",
      "[CV] C=50000.0, gamma=0.1 ............................................\n",
      "[CV] ................................... C=50000.0, gamma=0.1 -   0.2s\n",
      "[CV] C=50000.0, gamma=0.1 ............................................\n",
      "[CV] ................................... C=50000.0, gamma=0.1 -   0.2s\n",
      "[CV] C=100000.0, gamma=0.0001 ........................................\n",
      "[CV] ............................... C=100000.0, gamma=0.0001 -   0.1s\n",
      "[CV] C=100000.0, gamma=0.0001 ........................................\n",
      "[CV] ............................... C=100000.0, gamma=0.0001 -   0.1s\n",
      "[CV] C=100000.0, gamma=0.0001 ........................................\n",
      "[CV] ............................... C=100000.0, gamma=0.0001 -   0.1s\n",
      "[CV] C=100000.0, gamma=0.0005 ........................................\n",
      "[CV] ............................... C=100000.0, gamma=0.0005 -   0.1s\n",
      "[CV] C=100000.0, gamma=0.0005 ........................................\n",
      "[CV] ............................... C=100000.0, gamma=0.0005 -   0.1s\n",
      "[CV] C=100000.0, gamma=0.0005 ........................................\n",
      "[CV] ............................... C=100000.0, gamma=0.0005 -   0.1s\n",
      "[CV] C=100000.0, gamma=0.001 .........................................\n",
      "[CV] ................................ C=100000.0, gamma=0.001 -   0.1s\n",
      "[CV] C=100000.0, gamma=0.001 .........................................\n",
      "[CV] ................................ C=100000.0, gamma=0.001 -   0.1s\n",
      "[CV] C=100000.0, gamma=0.001 .........................................\n",
      "[CV] ................................ C=100000.0, gamma=0.001 -   0.1s\n",
      "[CV] C=100000.0, gamma=0.005 .........................................\n",
      "[CV] ................................ C=100000.0, gamma=0.005 -   0.2s\n",
      "[CV] C=100000.0, gamma=0.005 .........................................\n",
      "[CV] ................................ C=100000.0, gamma=0.005 -   0.2s\n",
      "[CV] C=100000.0, gamma=0.005 .........................................\n",
      "[CV] ................................ C=100000.0, gamma=0.005 -   0.2s\n",
      "[CV] C=100000.0, gamma=0.01 ..........................................\n",
      "[CV] ................................. C=100000.0, gamma=0.01 -   0.2s\n",
      "[CV] C=100000.0, gamma=0.01 ..........................................\n",
      "[CV] ................................. C=100000.0, gamma=0.01 -   0.2s\n",
      "[CV] C=100000.0, gamma=0.01 ..........................................\n",
      "[CV] ................................. C=100000.0, gamma=0.01 -   0.2s\n",
      "[CV] C=100000.0, gamma=0.1 ...........................................\n",
      "[CV] .................................. C=100000.0, gamma=0.1 -   0.2s\n",
      "[CV] C=100000.0, gamma=0.1 ...........................................\n",
      "[CV] .................................. C=100000.0, gamma=0.1 -   0.2s\n",
      "[CV] C=100000.0, gamma=0.1 ...........................................\n",
      "[CV] .................................. C=100000.0, gamma=0.1 -   0.2s\n"
     ]
    },
    {
     "name": "stderr",
     "output_type": "stream",
     "text": [
      "[Parallel(n_jobs=1)]: Done  90 out of  90 | elapsed:   14.1s finished\n"
     ]
    }
   ],
   "source": [
    "from sklearn.grid_search import GridSearchCV\n",
    "from sklearn.svm import SVC\n",
    "\n",
    "param_grid = {'C': [1e3, 5e3, 1e4, 5e4, 1e5],\n",
    "              'gamma': [0.0001, 0.0005, 0.001, 0.005, 0.01, 0.1], }\n",
    "clf = GridSearchCV(SVC(kernel='rbf', class_weight='balanced'),\n",
    "                   param_grid, verbose=2)\n",
    "clf = clf.fit(X_train_pca, y_train)"
   ]
  },
  {
   "cell_type": "markdown",
   "metadata": {},
   "source": [
    "+ 看一下最佳的超参数。"
   ]
  },
  {
   "cell_type": "code",
   "execution_count": 27,
   "metadata": {},
   "outputs": [
    {
     "data": {
      "text/plain": [
       "{'C': 1000.0, 'gamma': 0.001}"
      ]
     },
     "execution_count": 27,
     "metadata": {},
     "output_type": "execute_result"
    }
   ],
   "source": [
    "clf.best_params_"
   ]
  },
  {
   "cell_type": "markdown",
   "metadata": {},
   "source": [
    "+ 使用网格搜索得到的最优的模型进行预测。"
   ]
  },
  {
   "cell_type": "code",
   "execution_count": 32,
   "metadata": {
    "collapsed": true
   },
   "outputs": [],
   "source": [
    "y_pred = clf.best_estimator_.predict(X_test_pca)"
   ]
  },
  {
   "cell_type": "markdown",
   "metadata": {},
   "source": [
    "+ 多分类问题可以看看精准率、召回率、混淆矩阵"
   ]
  },
  {
   "cell_type": "code",
   "execution_count": 35,
   "metadata": {},
   "outputs": [
    {
     "name": "stdout",
     "output_type": "stream",
     "text": [
      "                   precision    recall  f1-score   support\n",
      "\n",
      "     Ariel Sharon       0.56      0.69      0.62        13\n",
      "     Colin Powell       0.75      0.88      0.81        60\n",
      "  Donald Rumsfeld       0.70      0.70      0.70        27\n",
      "    George W Bush       0.93      0.88      0.91       146\n",
      "Gerhard Schroeder       0.81      0.84      0.82        25\n",
      "      Hugo Chavez       0.80      0.53      0.64        15\n",
      "       Tony Blair       0.85      0.78      0.81        36\n",
      "\n",
      "      avg / total       0.84      0.83      0.83       322\n",
      "\n"
     ]
    }
   ],
   "source": [
    "from sklearn.metrics import classification_report\n",
    "\n",
    "target_names = lfw_people.target_names\n",
    "\n",
    "print(classification_report(y_test, y_pred, target_names=target_names))"
   ]
  },
  {
   "cell_type": "code",
   "execution_count": 36,
   "metadata": {},
   "outputs": [
    {
     "name": "stdout",
     "output_type": "stream",
     "text": [
      "[[  9   0   3   1   0   0   0]\n",
      " [  1  53   2   2   0   1   1]\n",
      " [  5   1  19   1   0   1   0]\n",
      " [  1   9   1 129   3   0   3]\n",
      " [  0   2   0   1  21   0   1]\n",
      " [  0   3   0   2   2   8   0]\n",
      " [  0   3   2   3   0   0  28]]\n"
     ]
    }
   ],
   "source": [
    "from sklearn.metrics import confusion_matrix\n",
    "\n",
    "print(confusion_matrix(y_test, y_pred))"
   ]
  },
  {
   "cell_type": "markdown",
   "metadata": {},
   "source": [
    "+ 可以看到：f1-score 是 0.83，混淆矩阵主对角线上的数值很大，其它非主对角线上的元素要么为 0，要么是一个很小的整数，说明我们得到的 SVM 算法是有效的。"
   ]
  }
 ],
 "metadata": {
  "kernelspec": {
   "display_name": "Python 3",
   "language": "python",
   "name": "python3"
  },
  "language_info": {
   "codemirror_mode": {
    "name": "ipython",
    "version": 3
   },
   "file_extension": ".py",
   "mimetype": "text/x-python",
   "name": "python",
   "nbconvert_exporter": "python",
   "pygments_lexer": "ipython3",
   "version": "3.6.1"
  },
  "toc": {
   "nav_menu": {},
   "number_sections": true,
   "sideBar": true,
   "skip_h1_title": false,
   "toc_cell": false,
   "toc_position": {},
   "toc_section_display": "block",
   "toc_window_display": false
  }
 },
 "nbformat": 4,
 "nbformat_minor": 2
}
