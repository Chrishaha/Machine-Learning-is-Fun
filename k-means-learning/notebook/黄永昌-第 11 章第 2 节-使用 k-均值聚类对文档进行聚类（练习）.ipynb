{
 "cells": [
  {
   "cell_type": "code",
   "execution_count": 2,
   "metadata": {
    "collapsed": true
   },
   "outputs": [],
   "source": [
    "from sklearn.datasets import load_files\n",
    "\n",
    "docs = load_files('../input/clustering/')"
   ]
  },
  {
   "cell_type": "code",
   "execution_count": 4,
   "metadata": {},
   "outputs": [
    {
     "data": {
      "text/plain": [
       "sklearn.utils.Bunch"
      ]
     },
     "execution_count": 4,
     "metadata": {},
     "output_type": "execute_result"
    }
   ],
   "source": [
    "type(docs)"
   ]
  },
  {
   "cell_type": "markdown",
   "metadata": {},
   "source": [
    "+ max_df：如果一个单词在 40% 以上的文档中都出现过，就表示这是一个高频词，我们并不关心它，对文档聚类是没有帮助的\n",
    "+ min_df：如果一个单词的词频太低，不超过 2 个，则表示它不能表示足够多的信息，因此我们也不考虑它\n",
    "+ max_features：进一步过滤词典的大小，它会根据 TF-IDF 权重从高到低进行排序，然后取前面权重高的单词构成词典。"
   ]
  },
  {
   "cell_type": "code",
   "execution_count": 5,
   "metadata": {
    "collapsed": true
   },
   "outputs": [],
   "source": [
    "from sklearn.feature_extraction.text import TfidfVectorizer\n",
    "\n",
    "max_features = 20000\n",
    "vectorizer = TfidfVectorizer(\n",
    "    max_df=0.4, min_df=2, max_features=max_features, encoding='latin-1')\n",
    "X = vectorizer.fit_transform(docs.data)"
   ]
  },
  {
   "cell_type": "code",
   "execution_count": 8,
   "metadata": {},
   "outputs": [
    {
     "data": {
      "text/plain": [
       "scipy.sparse.csr.csr_matrix"
      ]
     },
     "execution_count": 8,
     "metadata": {},
     "output_type": "execute_result"
    }
   ],
   "source": [
    "type(X)"
   ]
  },
  {
   "cell_type": "code",
   "execution_count": 10,
   "metadata": {},
   "outputs": [
    {
     "data": {
      "text/plain": [
       "(3949, 20000)"
      ]
     },
     "execution_count": 10,
     "metadata": {},
     "output_type": "execute_result"
    }
   ],
   "source": [
    "X.shape"
   ]
  },
  {
   "cell_type": "code",
   "execution_count": 21,
   "metadata": {},
   "outputs": [
    {
     "data": {
      "text/plain": [
       "('./datasets/clustering/clustering/sci.electronics/11902-54322', 56)"
      ]
     },
     "execution_count": 21,
     "metadata": {},
     "output_type": "execute_result"
    }
   ],
   "source": [
    "docs.filenames[0], X[0].getnnz()"
   ]
  },
  {
   "cell_type": "markdown",
   "metadata": {},
   "source": [
    "从输出可以看出，这是一个稀疏矩阵，20000 个元素里面，只有 56 个非零元素。"
   ]
  },
  {
   "cell_type": "code",
   "execution_count": 22,
   "metadata": {},
   "outputs": [
    {
     "data": {
      "text/plain": [
       "(1, 20000)"
      ]
     },
     "execution_count": 22,
     "metadata": {},
     "output_type": "execute_result"
    }
   ],
   "source": [
    "X[0].shape"
   ]
  },
  {
   "cell_type": "markdown",
   "metadata": {},
   "source": [
    "+ tol = 0.01 表示中心点移动距离小于 0.01 的时候，我们就认为算法已经收敛\n",
    "+ verbose=1 输出迭代的过程信息\n",
    "+ **n_init=3 表示进行 3 次 k-均值运算后求平均值，k-均值聚类算法受初始点的影响很大，不同的初始点可能会导致不同的聚类结果，因此多次运算求平均值的方法可以提高算法的稳定性。**"
   ]
  },
  {
   "cell_type": "code",
   "execution_count": 24,
   "metadata": {},
   "outputs": [
    {
     "name": "stdout",
     "output_type": "stream",
     "text": [
      "文档聚类\n",
      "Initialization complete\n",
      "Iteration  0, inertia 7506.750\n",
      "Iteration  1, inertia 3848.901\n",
      "Iteration  2, inertia 3832.885\n",
      "Iteration  3, inertia 3827.446\n",
      "Iteration  4, inertia 3826.241\n",
      "Iteration  5, inertia 3825.734\n",
      "Iteration  6, inertia 3825.357\n",
      "Iteration  7, inertia 3825.091\n",
      "Iteration  8, inertia 3824.813\n",
      "Iteration  9, inertia 3824.488\n",
      "Iteration 10, inertia 3823.996\n",
      "Iteration 11, inertia 3822.582\n",
      "Iteration 12, inertia 3820.688\n",
      "Iteration 13, inertia 3819.748\n",
      "Iteration 14, inertia 3819.177\n",
      "Iteration 15, inertia 3818.908\n",
      "Iteration 16, inertia 3818.742\n",
      "Iteration 17, inertia 3818.616\n",
      "Iteration 18, inertia 3818.543\n",
      "Iteration 19, inertia 3818.499\n",
      "Iteration 20, inertia 3818.471\n",
      "Iteration 21, inertia 3818.459\n",
      "Iteration 22, inertia 3818.451\n",
      "Iteration 23, inertia 3818.449\n",
      "Iteration 24, inertia 3818.447\n",
      "Converged at iteration 24: center shift 0.000000e+00 within tolerance 4.896692e-07\n",
      "Initialization complete\n",
      "Iteration  0, inertia 7618.285\n",
      "Iteration  1, inertia 3851.557\n",
      "Iteration  2, inertia 3840.560\n",
      "Iteration  3, inertia 3835.531\n",
      "Iteration  4, inertia 3832.126\n",
      "Iteration  5, inertia 3830.441\n",
      "Iteration  6, inertia 3828.466\n",
      "Iteration  7, inertia 3827.791\n",
      "Iteration  8, inertia 3827.271\n",
      "Iteration  9, inertia 3826.761\n",
      "Iteration 10, inertia 3825.873\n",
      "Iteration 11, inertia 3824.043\n",
      "Iteration 12, inertia 3822.322\n",
      "Iteration 13, inertia 3821.383\n",
      "Iteration 14, inertia 3820.823\n",
      "Iteration 15, inertia 3820.448\n",
      "Iteration 16, inertia 3820.156\n",
      "Iteration 17, inertia 3819.895\n",
      "Iteration 18, inertia 3819.746\n",
      "Iteration 19, inertia 3819.654\n",
      "Iteration 20, inertia 3819.590\n",
      "Iteration 21, inertia 3819.507\n",
      "Iteration 22, inertia 3819.350\n",
      "Iteration 23, inertia 3819.015\n",
      "Iteration 24, inertia 3818.703\n",
      "Iteration 25, inertia 3818.541\n",
      "Iteration 26, inertia 3818.379\n",
      "Iteration 27, inertia 3818.201\n",
      "Iteration 28, inertia 3818.039\n",
      "Iteration 29, inertia 3817.922\n",
      "Iteration 30, inertia 3817.860\n",
      "Iteration 31, inertia 3817.835\n",
      "Iteration 32, inertia 3817.813\n",
      "Iteration 33, inertia 3817.792\n",
      "Iteration 34, inertia 3817.783\n",
      "Iteration 35, inertia 3817.774\n",
      "Iteration 36, inertia 3817.760\n",
      "Iteration 37, inertia 3817.752\n",
      "Iteration 38, inertia 3817.749\n",
      "Converged at iteration 38: center shift 0.000000e+00 within tolerance 4.896692e-07\n",
      "Initialization complete\n",
      "Iteration  0, inertia 7487.116\n",
      "Iteration  1, inertia 3840.162\n",
      "Iteration  2, inertia 3825.985\n",
      "Iteration  3, inertia 3821.178\n",
      "Iteration  4, inertia 3819.441\n",
      "Iteration  5, inertia 3818.819\n",
      "Iteration  6, inertia 3818.329\n",
      "Iteration  7, inertia 3818.069\n",
      "Iteration  8, inertia 3817.949\n",
      "Iteration  9, inertia 3817.879\n",
      "Iteration 10, inertia 3817.820\n",
      "Iteration 11, inertia 3817.783\n",
      "Iteration 12, inertia 3817.760\n",
      "Iteration 13, inertia 3817.736\n",
      "Iteration 14, inertia 3817.717\n",
      "Iteration 15, inertia 3817.701\n",
      "Iteration 16, inertia 3817.689\n",
      "Iteration 17, inertia 3817.687\n",
      "Iteration 18, inertia 3817.685\n",
      "Converged at iteration 18: center shift 0.000000e+00 within tolerance 4.896692e-07\n"
     ]
    },
    {
     "data": {
      "text/plain": [
       "KMeans(algorithm='auto', copy_x=True, init='k-means++', max_iter=100,\n",
       "    n_clusters=4, n_init=3, n_jobs=1, precompute_distances='auto',\n",
       "    random_state=None, tol=0.01, verbose=1)"
      ]
     },
     "execution_count": 24,
     "metadata": {},
     "output_type": "execute_result"
    }
   ],
   "source": [
    "from sklearn.cluster import KMeans\n",
    "\n",
    "print('文档聚类')\n",
    "n_clusters = 4\n",
    "kmean = KMeans(\n",
    "    n_clusters=n_clusters, max_iter=100, tol=0.01, verbose=1, n_init=3)\n",
    "kmean.fit(X)"
   ]
  },
  {
   "cell_type": "code",
   "execution_count": 26,
   "metadata": {},
   "outputs": [
    {
     "data": {
      "text/plain": [
       "(3949,)"
      ]
     },
     "execution_count": 26,
     "metadata": {},
     "output_type": "execute_result"
    }
   ],
   "source": [
    "kmean.labels_.shape"
   ]
  },
  {
   "cell_type": "code",
   "execution_count": 27,
   "metadata": {},
   "outputs": [
    {
     "data": {
      "text/plain": [
       "array([1, 1, 1, 3, 2, 3, 2, 1, 3, 3], dtype=int32)"
      ]
     },
     "execution_count": 27,
     "metadata": {},
     "output_type": "execute_result"
    }
   ],
   "source": [
    "kmean.labels_[1000:1010]"
   ]
  },
  {
   "cell_type": "code",
   "execution_count": 28,
   "metadata": {},
   "outputs": [
    {
     "data": {
      "text/plain": [
       "array(['./datasets/clustering/clustering/sci.crypt/10888-15289',\n",
       "       './datasets/clustering/clustering/sci.crypt/11490-15880',\n",
       "       './datasets/clustering/clustering/sci.crypt/11270-15346',\n",
       "       './datasets/clustering/clustering/sci.electronics/12383-53525',\n",
       "       './datasets/clustering/clustering/sci.space/13826-60862',\n",
       "       './datasets/clustering/clustering/sci.electronics/11631-54106',\n",
       "       './datasets/clustering/clustering/sci.space/14235-61437',\n",
       "       './datasets/clustering/clustering/sci.crypt/11508-15928',\n",
       "       './datasets/clustering/clustering/sci.space/13593-60824',\n",
       "       './datasets/clustering/clustering/sci.electronics/12304-52801'],\n",
       "      dtype='<U60')"
      ]
     },
     "execution_count": 28,
     "metadata": {},
     "output_type": "execute_result"
    }
   ],
   "source": [
    "docs.filenames[1000:1010]"
   ]
  },
  {
   "cell_type": "code",
   "execution_count": null,
   "metadata": {
    "collapsed": true
   },
   "outputs": [],
   "source": []
  }
 ],
 "metadata": {
  "kernelspec": {
   "display_name": "Python 3",
   "language": "python",
   "name": "python3"
  },
  "language_info": {
   "codemirror_mode": {
    "name": "ipython",
    "version": 3
   },
   "file_extension": ".py",
   "mimetype": "text/x-python",
   "name": "python",
   "nbconvert_exporter": "python",
   "pygments_lexer": "ipython3",
   "version": "3.6.1"
  },
  "toc": {
   "nav_menu": {},
   "number_sections": true,
   "sideBar": true,
   "skip_h1_title": false,
   "toc_cell": false,
   "toc_position": {},
   "toc_section_display": "block",
   "toc_window_display": false
  }
 },
 "nbformat": 4,
 "nbformat_minor": 2
}
