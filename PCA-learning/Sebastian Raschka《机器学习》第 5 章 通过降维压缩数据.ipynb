{
 "cells": [
  {
   "cell_type": "markdown",
   "metadata": {},
   "source": [
    "本文参考了 Sebastian Raschka 编写的《机器学习》。"
   ]
  },
  {
   "cell_type": "markdown",
   "metadata": {},
   "source": [
    "# 第 5 章 通过降维压缩数据\n",
    "\n",
    "训练数据要不要把方差归一化掉？"
   ]
  },
  {
   "cell_type": "code",
   "execution_count": 1,
   "metadata": {
    "collapsed": true
   },
   "outputs": [],
   "source": [
    "# 下载葡萄酒数据集\n",
    "import pandas as pd\n",
    "\n",
    "# df_wine = pd.read_csv('https://archive.ics.uci.edu/ml/machine-learning-databases/wine/wine.data', header=None)\n",
    "\n",
    "# df_wine.head(5)\n",
    "# # df_wine.to_csv('./df_wine.csv',index=None)"
   ]
  },
  {
   "cell_type": "code",
   "execution_count": 2,
   "metadata": {
    "collapsed": true
   },
   "outputs": [],
   "source": [
    "df_wine = pd.read_csv('./df_wine.csv')\n",
    "df_wine.columns = ['Class label', 'Alcohol', 'Malic acid', 'Ash',\n",
    "                   'Alcalinity of ash', 'Magnesium', 'Total phenols',\n",
    "                   'Flavanoids', 'Nonflavanoid phenols', 'Proanthocyanins',\n",
    "                   'Color intensity', 'Hue', 'OD280/OD315 of diluted wines', 'Proline']"
   ]
  },
  {
   "cell_type": "code",
   "execution_count": 3,
   "metadata": {},
   "outputs": [
    {
     "data": {
      "text/html": [
       "<div>\n",
       "<style scoped>\n",
       "    .dataframe tbody tr th:only-of-type {\n",
       "        vertical-align: middle;\n",
       "    }\n",
       "\n",
       "    .dataframe tbody tr th {\n",
       "        vertical-align: top;\n",
       "    }\n",
       "\n",
       "    .dataframe thead th {\n",
       "        text-align: right;\n",
       "    }\n",
       "</style>\n",
       "<table border=\"1\" class=\"dataframe\">\n",
       "  <thead>\n",
       "    <tr style=\"text-align: right;\">\n",
       "      <th></th>\n",
       "      <th>Class label</th>\n",
       "      <th>Alcohol</th>\n",
       "      <th>Malic acid</th>\n",
       "      <th>Ash</th>\n",
       "      <th>Alcalinity of ash</th>\n",
       "      <th>Magnesium</th>\n",
       "      <th>Total phenols</th>\n",
       "      <th>Flavanoids</th>\n",
       "      <th>Nonflavanoid phenols</th>\n",
       "      <th>Proanthocyanins</th>\n",
       "      <th>Color intensity</th>\n",
       "      <th>Hue</th>\n",
       "      <th>OD280/OD315 of diluted wines</th>\n",
       "      <th>Proline</th>\n",
       "    </tr>\n",
       "  </thead>\n",
       "  <tbody>\n",
       "    <tr>\n",
       "      <th>0</th>\n",
       "      <td>1</td>\n",
       "      <td>14.23</td>\n",
       "      <td>1.71</td>\n",
       "      <td>2.43</td>\n",
       "      <td>15.6</td>\n",
       "      <td>127</td>\n",
       "      <td>2.80</td>\n",
       "      <td>3.06</td>\n",
       "      <td>0.28</td>\n",
       "      <td>2.29</td>\n",
       "      <td>5.64</td>\n",
       "      <td>1.04</td>\n",
       "      <td>3.92</td>\n",
       "      <td>1065</td>\n",
       "    </tr>\n",
       "    <tr>\n",
       "      <th>1</th>\n",
       "      <td>1</td>\n",
       "      <td>13.20</td>\n",
       "      <td>1.78</td>\n",
       "      <td>2.14</td>\n",
       "      <td>11.2</td>\n",
       "      <td>100</td>\n",
       "      <td>2.65</td>\n",
       "      <td>2.76</td>\n",
       "      <td>0.26</td>\n",
       "      <td>1.28</td>\n",
       "      <td>4.38</td>\n",
       "      <td>1.05</td>\n",
       "      <td>3.40</td>\n",
       "      <td>1050</td>\n",
       "    </tr>\n",
       "    <tr>\n",
       "      <th>2</th>\n",
       "      <td>1</td>\n",
       "      <td>13.16</td>\n",
       "      <td>2.36</td>\n",
       "      <td>2.67</td>\n",
       "      <td>18.6</td>\n",
       "      <td>101</td>\n",
       "      <td>2.80</td>\n",
       "      <td>3.24</td>\n",
       "      <td>0.30</td>\n",
       "      <td>2.81</td>\n",
       "      <td>5.68</td>\n",
       "      <td>1.03</td>\n",
       "      <td>3.17</td>\n",
       "      <td>1185</td>\n",
       "    </tr>\n",
       "    <tr>\n",
       "      <th>3</th>\n",
       "      <td>1</td>\n",
       "      <td>14.37</td>\n",
       "      <td>1.95</td>\n",
       "      <td>2.50</td>\n",
       "      <td>16.8</td>\n",
       "      <td>113</td>\n",
       "      <td>3.85</td>\n",
       "      <td>3.49</td>\n",
       "      <td>0.24</td>\n",
       "      <td>2.18</td>\n",
       "      <td>7.80</td>\n",
       "      <td>0.86</td>\n",
       "      <td>3.45</td>\n",
       "      <td>1480</td>\n",
       "    </tr>\n",
       "    <tr>\n",
       "      <th>4</th>\n",
       "      <td>1</td>\n",
       "      <td>13.24</td>\n",
       "      <td>2.59</td>\n",
       "      <td>2.87</td>\n",
       "      <td>21.0</td>\n",
       "      <td>118</td>\n",
       "      <td>2.80</td>\n",
       "      <td>2.69</td>\n",
       "      <td>0.39</td>\n",
       "      <td>1.82</td>\n",
       "      <td>4.32</td>\n",
       "      <td>1.04</td>\n",
       "      <td>2.93</td>\n",
       "      <td>735</td>\n",
       "    </tr>\n",
       "  </tbody>\n",
       "</table>\n",
       "</div>"
      ],
      "text/plain": [
       "   Class label  Alcohol  Malic acid   Ash  Alcalinity of ash  Magnesium  \\\n",
       "0            1    14.23        1.71  2.43               15.6        127   \n",
       "1            1    13.20        1.78  2.14               11.2        100   \n",
       "2            1    13.16        2.36  2.67               18.6        101   \n",
       "3            1    14.37        1.95  2.50               16.8        113   \n",
       "4            1    13.24        2.59  2.87               21.0        118   \n",
       "\n",
       "   Total phenols  Flavanoids  Nonflavanoid phenols  Proanthocyanins  \\\n",
       "0           2.80        3.06                  0.28             2.29   \n",
       "1           2.65        2.76                  0.26             1.28   \n",
       "2           2.80        3.24                  0.30             2.81   \n",
       "3           3.85        3.49                  0.24             2.18   \n",
       "4           2.80        2.69                  0.39             1.82   \n",
       "\n",
       "   Color intensity   Hue  OD280/OD315 of diluted wines  Proline  \n",
       "0             5.64  1.04                          3.92     1065  \n",
       "1             4.38  1.05                          3.40     1050  \n",
       "2             5.68  1.03                          3.17     1185  \n",
       "3             7.80  0.86                          3.45     1480  \n",
       "4             4.32  1.04                          2.93      735  "
      ]
     },
     "execution_count": 3,
     "metadata": {},
     "output_type": "execute_result"
    }
   ],
   "source": [
    "df_wine.head(5)"
   ]
  },
  {
   "cell_type": "code",
   "execution_count": 4,
   "metadata": {},
   "outputs": [
    {
     "data": {
      "text/plain": [
       "array([1, 2, 3])"
      ]
     },
     "execution_count": 4,
     "metadata": {},
     "output_type": "execute_result"
    }
   ],
   "source": [
    "# 是一个三分类问题\n",
    "df_wine['Class label'].unique()"
   ]
  },
  {
   "cell_type": "markdown",
   "metadata": {},
   "source": [
    "+ 分割训练数据集与测试数据集"
   ]
  },
  {
   "cell_type": "code",
   "execution_count": 5,
   "metadata": {
    "collapsed": true
   },
   "outputs": [],
   "source": [
    "from sklearn.model_selection import train_test_split\n",
    "\n",
    "X = df_wine.iloc[:, 1:].values\n",
    "y = df_wine.iloc[:, 0].values\n",
    "X_train, X_test, y_train, y_test = train_test_split(\n",
    "    X, y, test_size=0.3, random_state=666)"
   ]
  },
  {
   "cell_type": "markdown",
   "metadata": {},
   "source": [
    "去掉均值。"
   ]
  },
  {
   "cell_type": "code",
   "execution_count": 6,
   "metadata": {
    "collapsed": true
   },
   "outputs": [],
   "source": [
    "# X_train_demean = X_train - X_train.mean(axis=0)\n",
    "# X_test_demean = X_test - X_test.mean(axis=0)"
   ]
  },
  {
   "cell_type": "code",
   "execution_count": 7,
   "metadata": {
    "collapsed": true
   },
   "outputs": [],
   "source": [
    "from sklearn.preprocessing import StandardScaler\n",
    "\n",
    "ss = StandardScaler()\n",
    "X_train_scaler = ss.fit_transform(X_train)\n",
    "X_test_scaler = ss.fit_transform(X_test)"
   ]
  },
  {
   "cell_type": "markdown",
   "metadata": {},
   "source": [
    "### 手动编写 PCA"
   ]
  },
  {
   "cell_type": "code",
   "execution_count": 8,
   "metadata": {
    "collapsed": true
   },
   "outputs": [],
   "source": [
    "# 得到协方差矩阵\n",
    "cov_mat = np.cov(X_train_scaler.T)\n",
    "# 得到特征值和特征向量\n",
    "eig_vals, eig_vectors = np.linalg.eig(cov_mat)"
   ]
  },
  {
   "cell_type": "code",
   "execution_count": 9,
   "metadata": {},
   "outputs": [
    {
     "data": {
      "text/plain": [
       "array([4.879144, 2.345023, 1.483711, 0.951998, 0.372254, 0.114802,\n",
       "       0.160976, 0.290882, 0.204841, 0.235287, 0.697113, 0.763333,\n",
       "       0.606326])"
      ]
     },
     "execution_count": 9,
     "metadata": {},
     "output_type": "execute_result"
    }
   ],
   "source": [
    "np.set_printoptions(precision=6)\n",
    "eig_vals"
   ]
  },
  {
   "cell_type": "code",
   "execution_count": 10,
   "metadata": {},
   "outputs": [
    {
     "data": {
      "text/plain": [
       "array([0.114802, 0.160976, 0.204841, 0.235287, 0.290882, 0.372254,\n",
       "       0.606326, 0.697113, 0.763333, 0.951998, 1.483711, 2.345023,\n",
       "       4.879144])"
      ]
     },
     "execution_count": 10,
     "metadata": {},
     "output_type": "execute_result"
    }
   ],
   "source": [
    "np.sort(eig_vals)"
   ]
  },
  {
   "cell_type": "code",
   "execution_count": 11,
   "metadata": {},
   "outputs": [
    {
     "data": {
      "text/plain": [
       "array([4.879144, 2.345023, 1.483711, 0.951998, 0.372254, 0.114802,\n",
       "       0.160976, 0.290882, 0.204841, 0.235287, 0.697113, 0.763333,\n",
       "       0.606326])"
      ]
     },
     "execution_count": 11,
     "metadata": {},
     "output_type": "execute_result"
    }
   ],
   "source": [
    "eig_vals"
   ]
  },
  {
   "cell_type": "code",
   "execution_count": 12,
   "metadata": {},
   "outputs": [
    {
     "data": {
      "text/plain": [
       "array([4.879144, 2.345023, 1.483711, 0.951998, 0.763333, 0.697113,\n",
       "       0.606326, 0.372254, 0.290882, 0.235287, 0.204841, 0.160976,\n",
       "       0.114802])"
      ]
     },
     "execution_count": 12,
     "metadata": {},
     "output_type": "execute_result"
    }
   ],
   "source": [
    "# 特征值降序排序\n",
    "eig_vals_idx = np.argsort(-eig_vals)\n",
    "eig_vals[eig_vals_idx]"
   ]
  },
  {
   "cell_type": "code",
   "execution_count": 13,
   "metadata": {
    "collapsed": true
   },
   "outputs": [],
   "source": [
    "import matplotlib.pyplot as plt\n",
    "plt.rcParams['font.family']=['STHeiti']\n",
    "#用来正常显示中文标签\n",
    "plt.rcParams['axes.unicode_minus']=False #用来正常显示负号"
   ]
  },
  {
   "cell_type": "code",
   "execution_count": 14,
   "metadata": {
    "collapsed": true
   },
   "outputs": [],
   "source": [
    "from matplotlib.font_manager import _rebuild\n",
    "\n",
    "_rebuild()"
   ]
  },
  {
   "cell_type": "code",
   "execution_count": 30,
   "metadata": {},
   "outputs": [
    {
     "data": {
      "image/png": "[encoded data removed]",
      "text/plain": [
       "<Figure size 432x288 with 1 Axes>"
      ]
     },
     "metadata": {
      "image/png": {
       "height": 261,
       "width": 383
      },
      "needs_background": "light"
     },
     "output_type": "display_data"
    }
   ],
   "source": [
    "import matplotlib.pyplot as plt\n",
    "# 在我的 notebook 里，要设置下面两行才能显示中文\n",
    "plt.rcParams['font.family'] = ['sans-serif']\n",
    "# 如果是在 PyCharm 里，只要下面一行，上面的一行可以删除\n",
    "plt.rcParams['font.sans-serif'] = ['SimHei']\n",
    "plt.rcParams['axes.unicode_minus'] = False  # 用来正常显示负号\n",
    "\n",
    "plt.bar(np.arange(1, len(eig_vals) + 1),\n",
    "        eig_vals[eig_vals_idx], label='单个方差贡献', alpha=0.5, align='center')\n",
    "plt.step(np.arange(1, len(eig_vals) + 1),\n",
    "         eig_vals[eig_vals_idx].cumsum(), where='mid', label='累计方差贡献')\n",
    "plt.xlabel('各个主成分方向')\n",
    "plt.ylabel('解释方差的比例')\n",
    "plt.legend()\n",
    "plt.show()"
   ]
  },
  {
   "cell_type": "markdown",
   "metadata": {},
   "source": [
    "### 主成分得到以后，就可以进行降维的工作了\n",
    "\n",
    "降到 2 维方便可视化。"
   ]
  },
  {
   "cell_type": "markdown",
   "metadata": {},
   "source": [
    "$$\n",
    "X'=XW\n",
    "$$"
   ]
  },
  {
   "cell_type": "code",
   "execution_count": 16,
   "metadata": {
    "collapsed": true
   },
   "outputs": [],
   "source": [
    "W = eig_vectors[:, :2]"
   ]
  },
  {
   "cell_type": "code",
   "execution_count": 17,
   "metadata": {
    "collapsed": true
   },
   "outputs": [],
   "source": [
    "X_train_pca = X_train_scaler.dot(W)"
   ]
  },
  {
   "cell_type": "code",
   "execution_count": 18,
   "metadata": {},
   "outputs": [
    {
     "data": {
      "text/plain": [
       "array([[-3.340092,  1.283737],\n",
       "       [ 0.541131, -2.61535 ],\n",
       "       [ 0.777039, -3.416635],\n",
       "       [ 1.694361, -1.888239],\n",
       "       [-0.672899,  0.033774],\n",
       "       [-0.680132, -1.537961],\n",
       "       [-2.42611 ,  1.196618],\n",
       "       [-2.53896 ,  1.057933],\n",
       "       [ 2.695688,  1.992724],\n",
       "       [ 2.231888, -0.675983],\n",
       "       [-1.735315, -0.116802],\n",
       "       [ 2.683239,  0.017636],\n",
       "       [-1.146151,  0.167146],\n",
       "       [-0.460536,  0.202732],\n",
       "       [-2.600074,  0.832822],\n",
       "       [-3.504933,  1.177368],\n",
       "       [-0.407674, -2.275883],\n",
       "       [-2.587835, -0.13983 ],\n",
       "       [-2.229907,  0.544571],\n",
       "       [ 2.338684,  2.016603],\n",
       "       [ 2.397506,  2.121268],\n",
       "       [ 0.319753, -2.315493],\n",
       "       [-1.177651, -0.092178],\n",
       "       [ 2.758624,  0.26642 ],\n",
       "       [-1.972029,  1.331578],\n",
       "       [ 2.899308,  0.214837],\n",
       "       [ 2.544649,  0.303632],\n",
       "       [ 2.170372,  0.090576],\n",
       "       [-2.079316, -0.200505],\n",
       "       [-1.759084, -1.486424],\n",
       "       [-1.079559, -2.699899],\n",
       "       [-1.914699,  1.45983 ],\n",
       "       [-3.613979,  1.140539],\n",
       "       [-1.361623, -1.050689],\n",
       "       [ 0.666936, -0.559402],\n",
       "       [ 2.941876,  1.8082  ],\n",
       "       [ 3.567149,  1.082661],\n",
       "       [ 0.495594, -2.386948],\n",
       "       [ 3.654733,  0.625825],\n",
       "       [-3.501046,  1.506834],\n",
       "       [ 3.369872,  1.059096],\n",
       "       [ 0.474874, -2.524484],\n",
       "       [-3.559787,  2.373791],\n",
       "       [-3.09834 ,  1.636255],\n",
       "       [ 2.178688,  1.873279],\n",
       "       [-2.185353,  0.54571 ],\n",
       "       [-1.017485,  0.69597 ],\n",
       "       [ 1.627169,  2.371819],\n",
       "       [ 0.512908, -2.813918],\n",
       "       [-1.00231 ,  0.734336],\n",
       "       [ 4.187903,  0.461993],\n",
       "       [ 0.489735, -2.041131],\n",
       "       [-1.487007, -2.211876],\n",
       "       [-0.760596, -2.419606],\n",
       "       [-1.080339,  0.110576],\n",
       "       [ 2.951016,  0.007099],\n",
       "       [-2.580662,  0.677522],\n",
       "       [-2.069567,  0.903097],\n",
       "       [-2.797164,  0.579522],\n",
       "       [-0.828825, -1.574101],\n",
       "       [-2.13744 ,  0.816429],\n",
       "       [-1.624095, -1.006148],\n",
       "       [-1.840529,  0.42817 ],\n",
       "       [ 1.550889, -1.507387],\n",
       "       [-1.670097, -0.705537],\n",
       "       [ 3.448458,  0.689269],\n",
       "       [ 1.05862 , -2.011244],\n",
       "       [-0.823976, -2.631913],\n",
       "       [ 3.873483,  0.42503 ],\n",
       "       [ 2.282735,  0.277858],\n",
       "       [ 2.674951,  0.153742],\n",
       "       [ 2.455508,  2.369754],\n",
       "       [-2.734371,  0.693678],\n",
       "       [ 2.371264,  0.106727],\n",
       "       [ 2.453793, -0.219957],\n",
       "       [-2.195499,  1.060499],\n",
       "       [-0.788712, -3.561532],\n",
       "       [ 2.918205,  1.05972 ],\n",
       "       [ 1.88622 ,  1.334581],\n",
       "       [-0.380312, -1.160221],\n",
       "       [ 3.143203,  0.562338],\n",
       "       [ 0.727919, -2.459912],\n",
       "       [-1.455835,  0.479733],\n",
       "       [-2.523821,  0.97446 ],\n",
       "       [ 0.012201, -1.312006],\n",
       "       [-1.573122, -0.989116],\n",
       "       [ 0.188836, -1.333395],\n",
       "       [-1.299867, -0.309212],\n",
       "       [ 2.649782,  1.836579],\n",
       "       [-1.129071,  1.598177],\n",
       "       [ 0.628866, -2.870004],\n",
       "       [-3.045648,  1.073775],\n",
       "       [-3.097105,  1.979529],\n",
       "       [-1.818702,  0.55006 ],\n",
       "       [ 1.388769, -1.715693],\n",
       "       [-2.195766,  2.157706],\n",
       "       [ 1.205572, -0.814748],\n",
       "       [-0.90987 , -2.419669],\n",
       "       [ 1.200601, -1.045429],\n",
       "       [-1.450622,  0.454281],\n",
       "       [ 2.792279,  1.401541],\n",
       "       [-1.77798 , -0.455111],\n",
       "       [ 2.327861,  0.0187  ],\n",
       "       [-3.114759,  0.631953],\n",
       "       [ 0.101423, -2.1525  ],\n",
       "       [ 2.13211 ,  0.881388],\n",
       "       [ 2.224582,  0.114928],\n",
       "       [-2.008937, -1.792954],\n",
       "       [-2.529426,  1.67539 ],\n",
       "       [-2.749771,  1.126235],\n",
       "       [ 2.221313,  0.852156],\n",
       "       [-1.990479, -1.999754],\n",
       "       [-4.392835,  2.060081],\n",
       "       [ 2.846511,  1.820685],\n",
       "       [ 1.35176 , -1.754845],\n",
       "       [-2.905095,  0.646977],\n",
       "       [ 1.484685, -2.051947],\n",
       "       [ 2.927829,  1.362619],\n",
       "       [ 2.672259,  2.484473],\n",
       "       [ 1.475585, -1.190918],\n",
       "       [-0.112651, -1.520819],\n",
       "       [ 1.092728,  3.520154],\n",
       "       [ 3.305462,  2.017962],\n",
       "       [ 1.286468, -0.167961]])"
      ]
     },
     "execution_count": 18,
     "metadata": {},
     "output_type": "execute_result"
    }
   ],
   "source": [
    "X_train_pca"
   ]
  },
  {
   "cell_type": "code",
   "execution_count": 19,
   "metadata": {},
   "outputs": [
    {
     "data": {
      "text/plain": [
       "array([1, 2, 3])"
      ]
     },
     "execution_count": 19,
     "metadata": {},
     "output_type": "execute_result"
    }
   ],
   "source": [
    "np.unique(y_train)"
   ]
  },
  {
   "cell_type": "code",
   "execution_count": 20,
   "metadata": {},
   "outputs": [
    {
     "data": {
      "image/png": "[encoded data removed]",
      "text/plain": [
       "<Figure size 432x288 with 1 Axes>"
      ]
     },
     "metadata": {
      "image/png": {
       "height": 263,
       "width": 381
      },
      "needs_background": "light"
     },
     "output_type": "display_data"
    }
   ],
   "source": [
    "colors = ['r', 'b', 'g']\n",
    "markers = ['s', 'x', 'o']\n",
    "\n",
    "for l, c, m in zip(np.unique(y_train), colors, markers):\n",
    "    plt.scatter(X_train_pca[y_train == l, 0],\n",
    "                X_train_pca[y_train == l, 1], c=c, marker=m, label=l)\n",
    "plt.xlabel('主成分 1 ')\n",
    "plt.ylabel('主成分 2 ')\n",
    "plt.show()"
   ]
  },
  {
   "cell_type": "code",
   "execution_count": 21,
   "metadata": {},
   "outputs": [
    {
     "data": {
      "text/plain": [
       "array([1, 2, 3])"
      ]
     },
     "execution_count": 21,
     "metadata": {},
     "output_type": "execute_result"
    }
   ],
   "source": [
    "np.unique(y_train)"
   ]
  },
  {
   "cell_type": "markdown",
   "metadata": {},
   "source": [
    "## 使用 scikit-learn 进行主成分分析\n",
    "\n",
    "是个分类问题，所以我们首选使用 Logistic 回归来做。"
   ]
  },
  {
   "cell_type": "code",
   "execution_count": 22,
   "metadata": {
    "collapsed": true
   },
   "outputs": [],
   "source": [
    "# 画出决策边界的函数\n",
    "from matplotlib.colors import ListedColormap\n",
    "\n",
    "def plot_decision_regions(X,y,classifier,resolutions=0.02):\n",
    "    # resolutions 网格间隔\n",
    "    markers = ('s','x','o','^','v')\n",
    "    colors = ('red','blue','lightgreen','gray','cyan')\n",
    "    cmap = ListedColormap(colors[:len(np.unique(y))])\n",
    "    \n",
    "    x1_min, x1_max = X[:,0].min()-1,X[:,1].max()+1\n",
    "    x2_min, x2_max = X[:,0].min()-1,X[:,1].max()+1\n",
    "    xx1,xx2 = np.meshgrid(np.arange(x1_min, x1_max,resolutions),\n",
    "                         np.arange(x2_min, x2_max,resolutions))\n",
    "    Z = classifier.predict(np.array([xx1.ravel(),xx2.ravel()]).T)\n",
    "    Z = Z.reshape(xx1.shape)\n",
    "    plt.contourf(xx1,xx2,Z,alpha=0.4,cmap=cmap)\n",
    "    plt.xlim(xx1.min(),xx1.max())\n",
    "    plt.ylim(xx2.min(),xx2.max())\n",
    "    # 描出训练数据集的点\n",
    "    for idx, cl in enumerate(np.unique(y)):\n",
    "        plt.scatter(X[y==cl,0],X[y==cl,1],alpha=0.8,c=cmap(idx),marker=markers[idx],label=cl)"
   ]
  },
  {
   "cell_type": "markdown",
   "metadata": {},
   "source": [
    "# 测试\n",
    "x1_min, x1_max = 3,5\n",
    "x2_min, x2_max = 4,6\n",
    "resolutions=0.2\n",
    "xx1, xx2 = np.meshgrid(np.arange(x1_min, x1_max,resolutions),np.arange(x2_min, x2_max,resolutions))\n",
    "np.array([xx1.ravel(),xx2.ravel()]).T"
   ]
  },
  {
   "cell_type": "code",
   "execution_count": 23,
   "metadata": {},
   "outputs": [
    {
     "name": "stderr",
     "output_type": "stream",
     "text": [
      "'c' argument looks like a single numeric RGB or RGBA sequence, which should be avoided as value-mapping will have precedence in case its length matches with 'x' & 'y'.  Please use a 2-D array with a single row if you really want to specify the same RGB or RGBA value for all points.\n",
      "'c' argument looks like a single numeric RGB or RGBA sequence, which should be avoided as value-mapping will have precedence in case its length matches with 'x' & 'y'.  Please use a 2-D array with a single row if you really want to specify the same RGB or RGBA value for all points.\n",
      "'c' argument looks like a single numeric RGB or RGBA sequence, which should be avoided as value-mapping will have precedence in case its length matches with 'x' & 'y'.  Please use a 2-D array with a single row if you really want to specify the same RGB or RGBA value for all points.\n",
      "/Users/liwei/anaconda3/envs/ipykernel_py3/lib/python3.6/site-packages/matplotlib/font_manager.py:1241: UserWarning: findfont: Font family ['STHeiti'] not found. Falling back to DejaVu Sans.\n",
      "  (prop.get_family(), self.defaultFamily[fontext]))\n"
     ]
    },
    {
     "data": {
      "image/png": "[encoded data removed]",
      "text/plain": [
       "<Figure size 432x288 with 1 Axes>"
      ]
     },
     "metadata": {
      "image/png": {
       "height": 291,
       "width": 422
      },
      "needs_background": "light"
     },
     "output_type": "display_data"
    }
   ],
   "source": [
    "from sklearn.linear_model import LogisticRegression\n",
    "from sklearn.decomposition import PCA\n",
    "\n",
    "pca = PCA(n_components=2)\n",
    "lr = LogisticRegression()\n",
    "\n",
    "X_train_pca_sklearn = pca.fit_transform(X_train_scaler)\n",
    "lr.fit(X_train_pca_sklearn,y_train)\n",
    "plot_decision_regions(X_train_pca_sklearn,y_train,lr)\n",
    "plt.xlabel('主成分方向1')\n",
    "plt.ylabel('主成分方向2')\n",
    "# 若标签重叠可使用 fig.tight_layout 自动调整标签的位置\n",
    "plt.tight_layout()\n",
    "plt.legend()\n",
    "plt.title('训练数据集画出决策边界')\n",
    "plt.show()"
   ]
  },
  {
   "cell_type": "code",
   "execution_count": 24,
   "metadata": {},
   "outputs": [
    {
     "name": "stderr",
     "output_type": "stream",
     "text": [
      "'c' argument looks like a single numeric RGB or RGBA sequence, which should be avoided as value-mapping will have precedence in case its length matches with 'x' & 'y'.  Please use a 2-D array with a single row if you really want to specify the same RGB or RGBA value for all points.\n",
      "'c' argument looks like a single numeric RGB or RGBA sequence, which should be avoided as value-mapping will have precedence in case its length matches with 'x' & 'y'.  Please use a 2-D array with a single row if you really want to specify the same RGB or RGBA value for all points.\n",
      "'c' argument looks like a single numeric RGB or RGBA sequence, which should be avoided as value-mapping will have precedence in case its length matches with 'x' & 'y'.  Please use a 2-D array with a single row if you really want to specify the same RGB or RGBA value for all points.\n"
     ]
    },
    {
     "data": {
      "image/png": "[encoded data removed]",
      "text/plain": [
       "<Figure size 432x288 with 1 Axes>"
      ]
     },
     "metadata": {
      "image/png": {
       "height": 250,
       "width": 367
      },
      "needs_background": "light"
     },
     "output_type": "display_data"
    }
   ],
   "source": [
    "X_test_pca_sklearn = pca.transform(X_test_scaler)\n",
    "plot_decision_regions(X_test_pca_sklearn,y_test,lr)"
   ]
  },
  {
   "cell_type": "code",
   "execution_count": 25,
   "metadata": {},
   "outputs": [
    {
     "data": {
      "text/plain": [
       "array([4.879144, 2.345023, 1.483711, 0.951998, 0.763333, 0.697113,\n",
       "       0.606326, 0.372254, 0.290882, 0.235287, 0.204841, 0.160976,\n",
       "       0.114802])"
      ]
     },
     "execution_count": 25,
     "metadata": {},
     "output_type": "execute_result"
    }
   ],
   "source": [
    "pca = PCA(n_components=None)\n",
    "X_train_pca = pca.fit(X_train_scaler)\n",
    "pca.explained_variance_"
   ]
  },
  {
   "cell_type": "code",
   "execution_count": 26,
   "metadata": {},
   "outputs": [
    {
     "data": {
      "text/plain": [
       "array([0.372292, 0.178932, 0.113211, 0.07264 , 0.058244, 0.053192,\n",
       "       0.046264, 0.028404, 0.022195, 0.017953, 0.01563 , 0.012283,\n",
       "       0.00876 ])"
      ]
     },
     "execution_count": 26,
     "metadata": {},
     "output_type": "execute_result"
    }
   ],
   "source": [
    "pca.explained_variance_ratio_"
   ]
  },
  {
   "cell_type": "code",
   "execution_count": 27,
   "metadata": {},
   "outputs": [
    {
     "data": {
      "text/plain": [
       "array([4.879144, 2.345023, 1.483711, 0.951998, 0.763333, 0.697113,\n",
       "       0.606326, 0.372254, 0.290882, 0.235287, 0.204841, 0.160976,\n",
       "       0.114802])"
      ]
     },
     "execution_count": 27,
     "metadata": {},
     "output_type": "execute_result"
    }
   ],
   "source": [
    "eig_vals[np.argsort(-eig_vals)]"
   ]
  },
  {
   "cell_type": "code",
   "execution_count": 28,
   "metadata": {},
   "outputs": [
    {
     "data": {
      "text/plain": [
       "3"
      ]
     },
     "execution_count": 28,
     "metadata": {},
     "output_type": "execute_result"
    }
   ],
   "source": [
    "1 + 2"
   ]
  }
 ],
 "metadata": {
  "kernelspec": {
   "display_name": "Python 3",
   "language": "python",
   "name": "python3"
  },
  "language_info": {
   "codemirror_mode": {
    "name": "ipython",
    "version": 3
   },
   "file_extension": ".py",
   "mimetype": "text/x-python",
   "name": "python",
   "nbconvert_exporter": "python",
   "pygments_lexer": "ipython3",
   "version": "3.6.1"
  },
  "toc": {
   "nav_menu": {},
   "number_sections": true,
   "sideBar": true,
   "skip_h1_title": false,
   "toc_cell": false,
   "toc_position": {},
   "toc_section_display": "block",
   "toc_window_display": false
  }
 },
 "nbformat": 4,
 "nbformat_minor": 2
}
