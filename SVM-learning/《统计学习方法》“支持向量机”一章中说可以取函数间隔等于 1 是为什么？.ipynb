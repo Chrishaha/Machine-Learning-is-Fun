{
 "cells": [
  {
   "cell_type": "markdown",
   "metadata": {},
   "source": [
    "# 《统计学习方法》“支持向量机”一章中说可以取函数间隔等于 1 是为什么？"
   ]
  },
  {
   "cell_type": "markdown",
   "metadata": {},
   "source": [
    "假设两条平行直线分别是\n",
    "\n",
    "$$\n",
    "Wx+A=0,\\tag{1}\n",
    "$$\n",
    "与\n",
    "$$\n",
    "Wx+B=0.\\tag{2}\n",
    "$$"
   ]
  },
  {
   "cell_type": "markdown",
   "metadata": {},
   "source": [
    "那么和这两条直线平行，且位于中间的那条直线就可以表示成：\n",
    "$$\n",
    "Wx + A + \\frac{B-A}{2} = 0.\n",
    "\\tag{3}\n",
    "$$"
   ]
  },
  {
   "cell_type": "markdown",
   "metadata": {},
   "source": [
    "令 $t=B-A$，则有 $B=t+A$。"
   ]
  },
  {
   "cell_type": "markdown",
   "metadata": {},
   "source": [
    "将 $t=B-A$ 代入（3），得到\n",
    "$$\n",
    "Wx+A+\\frac{t}{2}=0.\\tag{4}\n",
    "$$"
   ]
  },
  {
   "cell_type": "markdown",
   "metadata": {},
   "source": [
    "将 $B=t+A$ 代入（2），得到\n",
    "$$\n",
    "Wx+t+A=0.\\tag{5}\n",
    "$$"
   ]
  },
  {
   "cell_type": "markdown",
   "metadata": {},
   "source": [
    "整理一下，这三条直线现在可以写成\n",
    "$$\n",
    "Wx+A=0,\\tag{6}\n",
    "$$\n",
    "$$\n",
    "Wx+t+A=0,\\tag{7}\n",
    "$$\n",
    "$$\n",
    "Wx+A+\\frac{t}{2}=0.\\tag{8}\n",
    "$$"
   ]
  },
  {
   "cell_type": "markdown",
   "metadata": {},
   "source": [
    "下面给等式（6）左右都加上 $\\cfrac{t}{2}$，给等式（7）左右都减去 $\\cfrac{t}{2}$，得到\n",
    "\n",
    "$$\n",
    "Wx+A+\\frac{t}{2}=\\frac{t}{2},\\tag{9}\n",
    "$$\n",
    "与\n",
    "$$\n",
    "Wx+A+\\frac{t}{2}=-\\frac{t}{2}.\\tag{10}\n",
    "$$"
   ]
  },
  {
   "cell_type": "markdown",
   "metadata": {},
   "source": [
    "接下来将等式（8）、（9）、（10）的两边都乘以 $\\frac{2}{t}$，得\n",
    "$$\n",
    "\\cfrac{2}{t}Wx+\\cfrac{2}{t}(A+\\cfrac{t}{2})=0,\\tag{11}\n",
    "$$\n",
    "\n",
    "$$\n",
    "\\cfrac{2}{t}Wx+\\cfrac{2}{t}(A+\\cfrac{t}{2})=1,\\tag{12}\n",
    "$$\n",
    "\n",
    "$$\n",
    "\\cfrac{2}{t}Wx+\\cfrac{2}{t}(A+\\cfrac{t}{2})=-1.\\tag{13}\n",
    "$$"
   ]
  },
  {
   "cell_type": "markdown",
   "metadata": {},
   "source": [
    "令 $w=\\frac{2}{t}W$，$b=\\frac{2}{t}(A+\\frac{t}{2})$，则等式（11）、等式（12）、等式（13）又可以写成：\n",
    "\n",
    "$$\n",
    "wx+b=0,\\tag{14}\n",
    "$$\n",
    "\n",
    "$$\n",
    "wx+b=1,\\tag{15}\n",
    "$$\n",
    "\n",
    "$$\n",
    "wx+b=-1.\\tag{16}\n",
    "$$"
   ]
  },
  {
   "cell_type": "markdown",
   "metadata": {},
   "source": [
    "化简成这样的主要原因是，间隔（margin）的表达式最简单。\n",
    "可以假设向量 $x_1$ 在 $wx+b=1$ 上，向量 $x_2$ 在 $wx+b=-1$ 上，间隔（margin）的表达式为\n",
    "\n",
    "$$\n",
    "margin = d = |x_1-x_2|\\cdot \\cos \\theta.\\tag{17}\n",
    "$$\n",
    "\n",
    "其中 $\\theta$ 是 $向量 x_1-x_2$ 与平行直线的法向量 $w$ 的夹角。"
   ]
  },
  {
   "cell_type": "markdown",
   "metadata": {},
   "source": [
    "为了利用向量的工具，我们可以在等式（17）两边都乘以 $|w|$，则有\n",
    "\n",
    "$$\n",
    "d\\cdot |w| = |x_1-x_2| \\cdot |w| \\cdot \\cos \\theta = |w(x1-x2)| .\\tag{18}\n",
    "$$"
   ]
  },
  {
   "cell_type": "markdown",
   "metadata": {},
   "source": [
    "又因为向量 $x_1$ 在 $wx+b=1$ 上，向量 $x_2$ 在 $wx+b=-1$ 上，则\n",
    "$$wx_1+b=1,$$\n",
    "\n",
    "$$wx_2+b=-1.$$\n",
    "所以\n",
    "\n",
    "$$ \n",
    "|w(x1-x2)|=|wx_1-wx_2|=|1-b-(-1-b)|=2=d\\cdot |w|.\n",
    "$$\n",
    "\n",
    "所以\n",
    "$$\n",
    "d = \\frac{2}{|w|}.\n",
    "$$"
   ]
  }
 ],
 "metadata": {
  "kernelspec": {
   "display_name": "Python 3",
   "language": "python",
   "name": "python3"
  },
  "language_info": {
   "codemirror_mode": {
    "name": "ipython",
    "version": 3
   },
   "file_extension": ".py",
   "mimetype": "text/x-python",
   "name": "python",
   "nbconvert_exporter": "python",
   "pygments_lexer": "ipython3",
   "version": "3.6.1"
  }
 },
 "nbformat": 4,
 "nbformat_minor": 2
}
