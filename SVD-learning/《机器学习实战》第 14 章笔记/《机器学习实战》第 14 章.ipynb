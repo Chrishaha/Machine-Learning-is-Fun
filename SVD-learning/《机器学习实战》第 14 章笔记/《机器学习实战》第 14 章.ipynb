{
 "cells": [
  {
   "cell_type": "markdown",
   "metadata": {},
   "source": [
    "参考资料：\n",
    "\n",
    "https://blog.csdn.net/dark_scope/article/details/17228643"
   ]
  },
  {
   "cell_type": "code",
   "execution_count": 2,
   "metadata": {
    "collapsed": true
   },
   "outputs": [],
   "source": [
    "data = [[1, 1, 1, 0, 0],\n",
    "        [2, 2, 2, 0, 0],\n",
    "        [1, 1, 1, 0, 0],\n",
    "        [5, 5, 5, 0, 0],\n",
    "        [1, 1, 0, 2, 2],\n",
    "        [0, 0, 0, 3, 3],\n",
    "        [0, 0, 0, 1, 1]]"
   ]
  },
  {
   "cell_type": "code",
   "execution_count": 8,
   "metadata": {},
   "outputs": [
    {
     "data": {
      "text/plain": [
       "array([9.7214  , 5.293979, 0.684226, 0.      , 0.      ])"
      ]
     },
     "execution_count": 8,
     "metadata": {},
     "output_type": "execute_result"
    }
   ],
   "source": [
    "np.set_printoptions(suppress=True)\n",
    "np.set_printoptions(precision=6)\n",
    "\n",
    "# 可以看到，前 3 个数值比其它的值大了很多\n",
    "U, Sigma, VT = np.linalg.svd(data)\n",
    "Sigma"
   ]
  },
  {
   "cell_type": "markdown",
   "metadata": {},
   "source": [
    "<b><font size='3' color='ff0000'>可以把后两个奇异值砍掉，这就相当于，砍掉了 U 矩阵的后两列，和 V 矩阵的后两个。</font></b>"
   ]
  },
  {
   "cell_type": "markdown",
   "metadata": {},
   "source": [
    "![](./SVD 示意图.jpg)"
   ]
  },
  {
   "cell_type": "markdown",
   "metadata": {},
   "source": [
    "接下来重构原始矩阵。"
   ]
  },
  {
   "cell_type": "code",
   "execution_count": 10,
   "metadata": {},
   "outputs": [
    {
     "data": {
      "text/plain": [
       "array([[ 1.,  1.,  1., -0., -0.],\n",
       "       [ 2.,  2.,  2.,  0.,  0.],\n",
       "       [ 1.,  1.,  1.,  0.,  0.],\n",
       "       [ 5.,  5.,  5., -0., -0.],\n",
       "       [ 1.,  1., -0.,  2.,  2.],\n",
       "       [ 0.,  0., -0.,  3.,  3.],\n",
       "       [ 0.,  0., -0.,  1.,  1.]])"
      ]
     },
     "execution_count": 10,
     "metadata": {},
     "output_type": "execute_result"
    }
   ],
   "source": [
    "U[:, :3].dot(np.diag(Sigma[:3])).dot(VT[:3])"
   ]
  },
  {
   "cell_type": "markdown",
   "metadata": {},
   "source": [
    "再看看原始矩阵，几乎没有丢失任何信息。<b><font size='3' color='ff0000'>其实 PCA 去噪声和 SVD 用于降噪的方法是一样的，PCA 去掉了特征值比较小的那些特征向量，SVD 去掉了奇异值比较小的 U 和 V 矩阵中的对应向量。</font></b>"
   ]
  },
  {
   "cell_type": "code",
   "execution_count": 11,
   "metadata": {},
   "outputs": [
    {
     "data": {
      "text/plain": [
       "[[1, 1, 1, 0, 0],\n",
       " [2, 2, 2, 0, 0],\n",
       " [1, 1, 1, 0, 0],\n",
       " [5, 5, 5, 0, 0],\n",
       " [1, 1, 0, 2, 2],\n",
       " [0, 0, 0, 3, 3],\n",
       " [0, 0, 0, 1, 1]]"
      ]
     },
     "execution_count": 11,
     "metadata": {},
     "output_type": "execute_result"
    }
   ],
   "source": [
    "data"
   ]
  },
  {
   "cell_type": "markdown",
   "metadata": {},
   "source": [
    "## SVD 用于推荐引擎"
   ]
  },
  {
   "cell_type": "markdown",
   "metadata": {
    "collapsed": true
   },
   "source": [
    "# 基于物品的推荐\n",
    "\n",
    "\n",
    "![](https://img-blog.csdn.net/20131210170818343)\n",
    "\n",
    "我是这样理解的：\n",
    "\n",
    "1、用户至上，所以用户在第 1 维度，即每一行表示一个用户的数据；\n",
    "2、基于物品，物品是在列的角度，所以看列，比较的是列的相似度；\n",
    "3、具体的方法是这样的：<b><font size='3' color='ff0000'>在用户已经评价过的每一个商品里，都计算和这个待推荐的商品的相似度，只取同时非零的两列放在一起计算相似度，并且相似度和评分要进行加权求和，才是用户可能给这个商品的打分。</font></b>\n",
    "\n"
   ]
  },
  {
   "cell_type": "code",
   "execution_count": 37,
   "metadata": {
    "collapsed": true
   },
   "outputs": [],
   "source": [
    "import numpy as np"
   ]
  },
  {
   "cell_type": "code",
   "execution_count": 38,
   "metadata": {
    "collapsed": true
   },
   "outputs": [],
   "source": [
    "def eclud_sim(vec1, vec2):\n",
    "    \"\"\"\n",
    "    基于欧式距离计算相似度\n",
    "    :param vec1: 假定是列向量\n",
    "    :param vec2: 假定是列向量\n",
    "    :return:\n",
    "    \"\"\"\n",
    "    return 1.0 / (1.0 + np.linalg.norm(vec1 - vec2))\n",
    "\n",
    "\n",
    "def pears_sim(vec1, vec2):\n",
    "    \"\"\"\n",
    "    会检查是否存在 3 个或更多的点。\n",
    "    :param vec1:\n",
    "    :param vec2:\n",
    "    :return:\n",
    "    \"\"\"\n",
    "    # 如果不存在，该函数返回 1.0，此时两个向量完全相关。\n",
    "    if len(vec1) < 3:\n",
    "        return 1.0\n",
    "    # corrcoef 直接计算皮尔逊相关系数，范围 [-1, 1] ，归一化后 [0, 1]\n",
    "    return 0.5 + 0.5 * np.corrcoef(vec1, vec2, rowvar=False)[0][1]\n",
    "\n",
    "\n",
    "def cos_sim(vec1, vec2):\n",
    "    \"\"\"\n",
    "    # 计算余弦相似度，如果夹角为 90 度，相似度为 0；\n",
    "    # 如果两个向量的方向相同，相似度为 1.0\n",
    "    :param vec1:\n",
    "    :param vec2:\n",
    "    :return:\n",
    "    \"\"\"\n",
    "    num = float(vec1.T * vec2)\n",
    "    denom = np.linalg.norm(vec1) * np.linalg.norm(vec2)\n",
    "    return 0.5 + 0.5 * (num / denom)"
   ]
  },
  {
   "cell_type": "code",
   "execution_count": 39,
   "metadata": {
    "collapsed": true
   },
   "outputs": [],
   "source": [
    "def stand_est(data_mat, user_id, similar_calc_method, item_id):\n",
    "    \"\"\"\n",
    "    基于物品相似度的推荐引擎\n",
    "    计算某用户未评分物品中，以对该物品和其他物品评分的用户的物品相似度，然后进行综合评分\n",
    "    :param data_mat: 训练数据集\n",
    "    :param user_id: 单个用户的编号\n",
    "    :param similar_calc_method: 相似度计算方法\n",
    "    :param item_id: 未评分的物品编号\n",
    "    :return: 评分（0～5之间的值）\n",
    "    \"\"\"\n",
    "    # 得到数据集中的物品数目\n",
    "    n = np.shape(data_mat)[1]\n",
    "    # 初始化两个评分值\n",
    "    sim_total = 0.0\n",
    "    rat_sim_total = 0.0\n",
    "    # 遍历某一行中的每个物品（对用户评过分的物品进行遍历，并将它与其他物品进行比较）\n",
    "    for j in range(n):\n",
    "        # 单个用户对某个物品的评分\n",
    "        user_rating = data_mat[user_id, j]\n",
    "\n",
    "        if user_rating == 0:\n",
    "            # 用户评分为 0 ，表示用户没有评价这个商品，跳过\n",
    "            continue\n",
    "\n",
    "        # 【寻找两个用户都评级的物品】\n",
    "        # logical_and 计算 x1 和 x2 元素的真值，同时为 True，结果才为 True\n",
    "        # over_lap 表示两列中，即两个物品，都被评分的行索引编号\n",
    "        over_lap = np.nonzero(np.logical_and(\n",
    "            data_mat[:, item_id].A > 0, data_mat[:, j].A > 0))[0]\n",
    "        # 如果相似度为 0 ，则两着没有任何重合元素，终止本次循环\n",
    "        if len(over_lap) == 0:\n",
    "            similarity = 0\n",
    "        # 如果存在重合的物品，则基于这些重合物重新计算相似度。\n",
    "        else:\n",
    "            # dataMat[over_lap, item] 和 dataMat[over_lap, j] 是两个向量\n",
    "            # 两个向量才可以计算相似度\n",
    "            # 【都评分的两个向量，两个列，才计算相似度】\n",
    "            similarity = similar_calc_method(\n",
    "                data_mat[over_lap, item_id], data_mat[over_lap, j])\n",
    "\n",
    "        # 相似度会不断累加，每次计算时还考虑相似度和当前用户评分的乘积\n",
    "        # user_rating 用户已经评价过的商品有评分\n",
    "        sim_total += similarity\n",
    "        rat_sim_total += similarity * user_rating\n",
    "    if sim_total == 0:\n",
    "        return 0\n",
    "    else:\n",
    "        # 归一化\n",
    "        # 通过除以所有的评分总和，对上述相似度评分的乘积进行归一化，使得最后评分在 0~5 之间，\n",
    "        # 这些评分用来对预测值进行排序\n",
    "        return rat_sim_total / sim_total"
   ]
  },
  {
   "cell_type": "code",
   "execution_count": 40,
   "metadata": {},
   "outputs": [],
   "source": [
    "# 【推荐引擎】默认调用 stand_est()函数，产生了最高的 N 个推荐结果\n",
    "# 如果不指定 N 的大小，则默认值为3。该函数另外的参数还包括相似度计算方法和估计方法\n",
    "def recommend(data_mat, user_id, N=3, similar_calc_method=cos_sim, est_method=stand_est):\n",
    "    \"\"\"\n",
    "\n",
    "    :param data_mat: 训练数据集\n",
    "    :param user_id: 用户编号\n",
    "    :param N:\n",
    "    :param similar_calc_method: 相似度计算方法\n",
    "    :param est_method: 使用的推荐算法\n",
    "    :return: 返回最终 N 个推荐结果\n",
    "    \"\"\"\n",
    "\n",
    "    # 寻找未评级的物品\n",
    "    # 对给定的用户建立一个未评分的物品列表\n",
    "    print(user_id)\n",
    "\n",
    "    unrated_items = np.nonzero(data_mat[user_id, :].A == 0)[1]\n",
    "    # 如果不存在未评分物品，那么就退出函数\n",
    "    if len(unrated_items) == 0:\n",
    "        return 'you rated everything'\n",
    "    # 物品的编号和评分值\n",
    "    item_scores = []\n",
    "    # 对这个用户的所有的没有评分的商品进行预估评分\n",
    "    for item in unrated_items:\n",
    "        # 获取 item 该物品的评分\n",
    "        estimated_score = est_method(\n",
    "            data_mat, user_id, similar_calc_method, item)\n",
    "        item_scores.append((item, estimated_score))\n",
    "    # 按照评分得分 进行逆排序，获取前N个未评级物品进行推荐\n",
    "    return sorted(item_scores, key=lambda x: x[1], reverse=True)[: N]\n",
    "\n",
    "\n"
   ]
  },
  {
   "cell_type": "code",
   "execution_count": 34,
   "metadata": {
    "scrolled": false
   },
   "outputs": [
    {
     "name": "stdout",
     "output_type": "stream",
     "text": [
      "2\n"
     ]
    },
    {
     "data": {
      "text/plain": [
       "[(2, 2.5), (1, 2.0243290220056256)]"
      ]
     },
     "execution_count": 34,
     "metadata": {},
     "output_type": "execute_result"
    }
   ],
   "source": [
    "# 基于内容的推荐引擎示例矩阵\n",
    "item_bases_example = np.mat([[4, 4, 0, 2, 2],\n",
    "                             [4, 0, 0, 3, 3],\n",
    "                             [4, 0, 0, 1, 1],\n",
    "                             [1, 1, 1, 2, 0],\n",
    "                             [2, 2, 2, 0, 0],\n",
    "                             [1, 1, 1, 0, 0],\n",
    "                             [5, 5, 5, 0, 0]])\n",
    "\n"
   ]
  },
  {
   "cell_type": "code",
   "execution_count": 41,
   "metadata": {},
   "outputs": [
    {
     "name": "stdout",
     "output_type": "stream",
     "text": [
      "2\n"
     ]
    },
    {
     "data": {
      "text/plain": [
       "[(2, 2.5), (1, 2.0243290220056256)]"
      ]
     },
     "execution_count": 41,
     "metadata": {},
     "output_type": "execute_result"
    }
   ],
   "source": [
    "# 使用余弦相似度\n",
    "recommend(data_mat=item_bases_example, user_id=2)"
   ]
  },
  {
   "cell_type": "code",
   "execution_count": 43,
   "metadata": {},
   "outputs": [
    {
     "name": "stdout",
     "output_type": "stream",
     "text": [
      "2\n"
     ]
    },
    {
     "data": {
      "text/plain": [
       "[(2, 3.0), (1, 2.8266504712098603)]"
      ]
     },
     "execution_count": 43,
     "metadata": {},
     "output_type": "execute_result"
    }
   ],
   "source": [
    "# 使用欧氏距离\n",
    "recommend(data_mat=item_bases_example, user_id=2,\n",
    "          similar_calc_method=eclud_sim)"
   ]
  },
  {
   "cell_type": "code",
   "execution_count": 44,
   "metadata": {},
   "outputs": [
    {
     "name": "stdout",
     "output_type": "stream",
     "text": [
      "2\n"
     ]
    },
    {
     "data": {
      "text/plain": [
       "[(2, 2.5), (1, 2.0)]"
      ]
     },
     "execution_count": 44,
     "metadata": {},
     "output_type": "execute_result"
    }
   ],
   "source": [
    "# 使用皮尔逊相关系数\n",
    "recommend(data_mat=item_bases_example, user_id=2,\n",
    "          similar_calc_method=pears_sim)"
   ]
  },
  {
   "cell_type": "markdown",
   "metadata": {},
   "source": [
    "## 利用 SVD 提高推荐的效果"
   ]
  },
  {
   "cell_type": "code",
   "execution_count": 46,
   "metadata": {
    "collapsed": true
   },
   "outputs": [],
   "source": [
    "# 利用 SVD 提高推荐的效果，菜肴矩阵\n",
    "svd_mat = np.mat([[2, 0, 0, 4, 4, 0, 0, 0, 0, 0, 0],\n",
    "                  [0, 0, 0, 0, 0, 0, 0, 0, 0, 0, 5],\n",
    "                  [0, 0, 0, 0, 0, 0, 0, 1, 0, 4, 0],\n",
    "                  [3, 3, 4, 0, 3, 0, 0, 2, 2, 0, 0],\n",
    "                  [5, 5, 5, 0, 0, 0, 0, 0, 0, 0, 0],\n",
    "                  [0, 0, 0, 0, 0, 0, 5, 0, 0, 5, 0],\n",
    "                  [4, 0, 4, 0, 0, 0, 0, 0, 0, 0, 5],\n",
    "                  [0, 0, 0, 0, 0, 4, 0, 0, 0, 0, 4],\n",
    "                  [0, 0, 0, 0, 0, 0, 5, 0, 0, 5, 0],\n",
    "                  [0, 0, 0, 3, 0, 0, 0, 0, 4, 5, 0],\n",
    "                  [1, 1, 2, 1, 1, 2, 1, 0, 4, 5, 0]])"
   ]
  },
  {
   "cell_type": "code",
   "execution_count": 49,
   "metadata": {},
   "outputs": [
    {
     "data": {
      "text/plain": [
       "array([13.434282, 11.819083,  8.201761,  6.869125,  5.29063 ,  3.912136,\n",
       "        2.945625,  2.354861,  2.087021,  0.708716,  0.      ])"
      ]
     },
     "execution_count": 49,
     "metadata": {},
     "output_type": "execute_result"
    }
   ],
   "source": [
    "U, Sigma, VT = np.linalg.svd(svd_mat)\n",
    "Sigma"
   ]
  },
  {
   "cell_type": "code",
   "execution_count": 57,
   "metadata": {},
   "outputs": [
    {
     "data": {
      "text/plain": [
       "array([180.479931, 139.690727,  67.26888 ,  47.184876,  27.990768,\n",
       "        15.304805,   8.676707,   5.545372,   4.355656,   0.502278,\n",
       "         0.      ])"
      ]
     },
     "execution_count": 57,
     "metadata": {},
     "output_type": "execute_result"
    }
   ],
   "source": [
    "Sigma_power = Sigma**2\n",
    "Sigma_power"
   ]
  },
  {
   "cell_type": "code",
   "execution_count": 63,
   "metadata": {},
   "outputs": [
    {
     "data": {
      "text/plain": [
       "0.930815254585099"
      ]
     },
     "execution_count": 63,
     "metadata": {},
     "output_type": "execute_result"
    }
   ],
   "source": [
    "sum(Sigma_power[:5])/sum(Sigma_power)"
   ]
  },
  {
   "cell_type": "code",
   "execution_count": 64,
   "metadata": {
    "collapsed": true
   },
   "outputs": [],
   "source": [
    "import numpy as np\n",
    "\n",
    "\n",
    "def svd_est(data_mat, user_id, similar_calc_method, item_id):\n",
    "    \"\"\"\n",
    "    # 基于 SVD 的评分估计\n",
    "    # 基于内容的评分矩阵中，用户信息被压缩，去掉的是那些奇异值比较低的特征向量\n",
    "    # 这里用到的是左奇异矩阵\n",
    "    # 在 recommend() 中，这个函数用于替换对 stand_est() 的调用，该函数对给定用户给定物品构建了一个评分估计值\n",
    "\n",
    "    :param data_mat: 训练数据集\n",
    "    :param user_id: 用户编号\n",
    "    :param similar_calc_method: 相似度计算方法\n",
    "    :param item_id: 未评分的物品编号\n",
    "    :return: rat_sim_total/sim_total，评分（0～5之间的值）\n",
    "    \"\"\"\n",
    "    # 物品数目\n",
    "    n = np.shape(data_mat)[1]\n",
    "    # 对数据集进行 SVD 分解\n",
    "    sim_total = 0.0\n",
    "    rat_sim_total = 0.0\n",
    "    # 奇异值分解\n",
    "    # 在SVD分解之后，我们只利用包含了90%能量值的奇异值，这些奇异值会以NumPy数组的形式得以保存\n",
    "    U, Sigma, VT = np.linalg.svd(data_mat)\n",
    "\n",
    "    # # 分析 Sigma 的长度取值\n",
    "    # analyse_data(Sigma, 20)\n",
    "\n",
    "    # 如果要进行矩阵运算，就必须要用这些奇异值构建出一个对角矩阵\n",
    "    Sig4 = np.mat(np.eye(4) * Sigma[: 4])\n",
    "\n",
    "    # 利用 U 矩阵将物品转换到低维空间中，构建转换后的物品(物品+4个主要的特征)\n",
    "    xformed_items = data_mat.T * U[:, :4] * Sig4.I\n",
    "\n",
    "    # 对于给定的用户，for 循环在用户对应行的元素上进行遍历\n",
    "    # 这和 standEst() 函数中的for循环的目的一样，只不过这里的相似度计算时在低维空间下进行的。\n",
    "    for j in range(n):\n",
    "        user_rating = data_mat[user_id, j]\n",
    "        if user_rating == 0 or j == item_id:\n",
    "            continue\n",
    "        # 相似度的计算方法也会作为一个参数传递给该函数\n",
    "        similarity = similar_calc_method(xformed_items[item_id, :].T, xformed_items[j, :].T)\n",
    "        # for 循环中加入了一条print语句，以便了解相似度计算的进展情况。如果觉得累赘，可以去掉\n",
    "        print('the %d and %d similarity is: %f' % (item_id, j, similarity))\n",
    "        # 对相似度不断累加求和\n",
    "        sim_total += similarity\n",
    "        # 对相似度及对应评分值的乘积求和\n",
    "        rat_sim_total += similarity * user_rating\n",
    "    if sim_total == 0:\n",
    "        return 0\n",
    "    else:\n",
    "        # 计算估计评分\n",
    "        return rat_sim_total / sim_total\n"
   ]
  },
  {
   "cell_type": "code",
   "execution_count": 67,
   "metadata": {},
   "outputs": [
    {
     "name": "stdout",
     "output_type": "stream",
     "text": [
      "2\n",
      "the 1 and 0 similarity is: 0.498142\n",
      "the 1 and 3 similarity is: 0.498131\n",
      "the 1 and 4 similarity is: 0.509974\n",
      "the 2 and 0 similarity is: 0.552670\n",
      "the 2 and 3 similarity is: 0.552976\n",
      "the 2 and 4 similarity is: 0.217301\n"
     ]
    },
    {
     "data": {
      "text/plain": [
       "[(2, 2.253270755977714), (1, 1.9921514636756923)]"
      ]
     },
     "execution_count": 67,
     "metadata": {},
     "output_type": "execute_result"
    }
   ],
   "source": [
    "# 使用余弦相似度\n",
    "recommend(data_mat=item_bases_example, user_id=2, est_method=svd_est)"
   ]
  },
  {
   "cell_type": "code",
   "execution_count": 68,
   "metadata": {},
   "outputs": [
    {
     "name": "stdout",
     "output_type": "stream",
     "text": [
      "2\n",
      "the 1 and 0 similarity is: 0.626075\n",
      "the 1 and 3 similarity is: 0.672793\n",
      "the 1 and 4 similarity is: 0.614375\n",
      "the 2 and 0 similarity is: 0.429334\n",
      "the 2 and 3 similarity is: 0.387057\n",
      "the 2 and 4 similarity is: 0.043539\n"
     ]
    },
    {
     "data": {
      "text/plain": [
       "[(2, 2.497798373616035), (1, 1.9816972841840976)]"
      ]
     },
     "execution_count": 68,
     "metadata": {},
     "output_type": "execute_result"
    }
   ],
   "source": [
    "recommend(data_mat=item_bases_example, user_id=2,\n",
    "          est_method=svd_est, similar_calc_method=pears_sim)"
   ]
  },
  {
   "cell_type": "code",
   "execution_count": 69,
   "metadata": {
    "collapsed": true
   },
   "outputs": [],
   "source": [
    "def analyse_data(Sigma, loop_num=20):\n",
    "    \"\"\"\n",
    "    分析 Sigma 的长度取值\n",
    "    :param Sigma: Sigma 的值\n",
    "    :param loop_num: 循环次数\n",
    "    :return: \n",
    "    \"\"\"\n",
    "\n",
    "    # 总方差的集合（总能量值）\n",
    "    Sig2 = Sigma ** 2\n",
    "    SigmaSum = sum(Sig2)\n",
    "    for i in range(loop_num):\n",
    "        SigmaI = sum(Sig2[:i + 1])\n",
    "        # 根据自己的业务情况，就行处理，设置对应的 Singma 次数\n",
    "\n",
    "        # 通常保留矩阵 80% ～ 90% 的能量，就可以得到重要的特征并取出噪声。\n",
    "        print('主成分：%s, 方差占比：%s%%' % (format(i + 1, '2.0f'), format(SigmaI / SigmaSum * 100, '4.2f')))\n"
   ]
  },
  {
   "cell_type": "code",
   "execution_count": 76,
   "metadata": {},
   "outputs": [],
   "source": [
    "import numpy as np\n",
    "\n",
    "def img_load_data(filename):\n",
    "    \"\"\"\n",
    "    图像压缩函数，加载并转换数据\n",
    "    :param filename: \n",
    "    :return: \n",
    "    \"\"\"\n",
    "    myl = []\n",
    "    # 打开文本文件，并从文件以数组方式读入字符\n",
    "    for line in open(filename).readlines():\n",
    "        new_row = []\n",
    "        for i in range(32):\n",
    "            new_row.append(int(line[i]))\n",
    "        myl.append(new_row)\n",
    "    # 矩阵调入后，就可以在屏幕上输出该矩阵\n",
    "    my_mat= np.mat(myl)\n",
    "    return my_mat\n",
    "\n",
    "\n",
    "def print_mat(in_mat, thresh=0.8):\n",
    "    \"\"\"\n",
    "    打印矩阵\n",
    "    :param in_mat: \n",
    "    :param thresh: \n",
    "    :return: \n",
    "    \"\"\"\n",
    "    # 由于矩阵保护了浮点数，因此定义浅色和深色，遍历所有矩阵元素，当元素大于阀值时打印 1 ，否则打印0\n",
    "    for i in range(32):\n",
    "        for k in range(32):\n",
    "            if float(in_mat[i, k]) > thresh:\n",
    "                print(1,end='')\n",
    "            else:\n",
    "                print(0,end='')\n",
    "        print('')\n",
    "\n",
    "\n",
    "# 实现图像压缩，允许基于任意给定的奇异值数目来重构图像\n",
    "def img_compress(num_sv=3, thresh=0.8):\n",
    "    \"\"\"\n",
    "    \n",
    "    :param num_sv: Sigma 长度\n",
    "    :param thresh: 判断的阈值\n",
    "    :return: \n",
    "    \"\"\"\n",
    "    # 构建一个列表\n",
    "    my_mat = img_load_data('./0_5.txt')\n",
    "\n",
    "    print(\"****original matrix****\")\n",
    "    # 对原始图像进行SVD分解并重构图像e\n",
    "    print_mat(my_mat, thresh)\n",
    "\n",
    "    # 通过Sigma 重新构成SigRecom来实现\n",
    "    # Sigma是一个对角矩阵，因此需要建立一个全0矩阵，然后将前面的那些奇异值填充到对角线上。\n",
    "    U, Sigma, VT = np.linalg.svd(my_mat)\n",
    "    # sig_recon = mat(zeros((numSV, numSV)))\n",
    "    # for k in range(numSV):\n",
    "    #     sig_recon[k, k] = Sigma[k]\n",
    "\n",
    "    # 分析插入的 Sigma 长度\n",
    "    analyse_data(Sigma, 20)\n",
    "\n",
    "    sig_recon = np.mat(np.eye(num_sv) * Sigma[: num_sv])\n",
    "    reconMat = U[:, :num_sv] * sig_recon * VT[:num_sv, :]\n",
    "    print(\"****reconstructed matrix using %d singular values *****\" % num_sv)\n",
    "    print_mat(reconMat, thresh)"
   ]
  },
  {
   "cell_type": "code",
   "execution_count": 77,
   "metadata": {
    "collapsed": true
   },
   "outputs": [
    {
     "name": "stdout",
     "output_type": "stream",
     "text": [
      "****original matrix****\n",
      "00000000000000110000000000000000\n",
      "00000000000011111100000000000000\n",
      "00000000000111111110000000000000\n",
      "00000000001111111111000000000000\n",
      "00000000111111111111100000000000\n",
      "00000001111111111111110000000000\n",
      "00000000111111111111111000000000\n",
      "00000000111111100001111100000000\n",
      "00000001111111000001111100000000\n",
      "00000011111100000000111100000000\n",
      "00000011111100000000111110000000\n",
      "00000011111100000000011110000000\n",
      "00000011111100000000011110000000\n",
      "00000001111110000000001111000000\n",
      "00000011111110000000001111000000\n",
      "00000011111100000000001111000000\n",
      "00000001111100000000001111000000\n",
      "00000011111100000000001111000000\n",
      "00000001111100000000001111000000\n",
      "00000001111100000000011111000000\n",
      "00000000111110000000001111100000\n",
      "00000000111110000000001111100000\n",
      "00000000111110000000001111100000\n",
      "00000000111110000000011111000000\n",
      "00000000111110000000111111000000\n",
      "00000000111111000001111110000000\n",
      "00000000011111111111111110000000\n",
      "00000000001111111111111110000000\n",
      "00000000001111111111111110000000\n",
      "00000000000111111111111000000000\n",
      "00000000000011111111110000000000\n",
      "00000000000000111111000000000000\n",
      "主成分： 1, 方差占比：62.85%\n",
      "主成分： 2, 方差占比：84.81%\n",
      "主成分： 3, 方差占比：89.04%\n",
      "主成分： 4, 方差占比：92.23%\n",
      "主成分： 5, 方差占比：94.35%\n",
      "主成分： 6, 方差占比：95.24%\n",
      "主成分： 7, 方差占比：96.07%\n",
      "主成分： 8, 方差占比：96.85%\n",
      "主成分： 9, 方差占比：97.43%\n",
      "主成分：10, 方差占比：97.94%\n",
      "主成分：11, 方差占比：98.41%\n",
      "主成分：12, 方差占比：98.79%\n",
      "主成分：13, 方差占比：99.13%\n",
      "主成分：14, 方差占比：99.39%\n",
      "主成分：15, 方差占比：99.56%\n",
      "主成分：16, 方差占比：99.70%\n",
      "主成分：17, 方差占比：99.83%\n",
      "主成分：18, 方差占比：99.92%\n",
      "主成分：19, 方差占比：99.97%\n",
      "主成分：20, 方差占比：100.00%\n",
      "****reconstructed matrix using 2 singular values *****\n",
      "00000000000000000000000000000000\n",
      "00000000000000000000000000000000\n",
      "00000000000001111100000000000000\n",
      "00000000000011111111000000000000\n",
      "00000000000111111111100000000000\n",
      "00000000001111111111110000000000\n",
      "00000000001111111111110000000000\n",
      "00000000011110000000001000000000\n",
      "00000000111100000000001100000000\n",
      "00000000111100000000001110000000\n",
      "00000000111100000000001110000000\n",
      "00000000111100000000001110000000\n",
      "00000000111100000000001110000000\n",
      "00000000111100000000001110000000\n",
      "00000000111100000000001110000000\n",
      "00000000111100000000001110000000\n",
      "00000000111100000000001110000000\n",
      "00000000111100000000001110000000\n",
      "00000000111100000000001110000000\n",
      "00000000111100000000001110000000\n",
      "00000000111100000000001110000000\n",
      "00000000111100000000001110000000\n",
      "00000000111100000000001110000000\n",
      "00000000111100000000001110000000\n",
      "00000000111100000000001110000000\n",
      "00000000111100000000001100000000\n",
      "00000000001111111111111000000000\n",
      "00000000001111111111110000000000\n",
      "00000000001111111111110000000000\n",
      "00000000000011111111100000000000\n",
      "00000000000011111111000000000000\n",
      "00000000000000000000000000000000\n"
     ]
    }
   ],
   "source": [
    "# 压缩图片\n",
    "img_compress(2)"
   ]
  },
  {
   "cell_type": "code",
   "execution_count": null,
   "metadata": {
    "collapsed": true
   },
   "outputs": [],
   "source": []
  }
 ],
 "metadata": {
  "kernelspec": {
   "display_name": "Python 3",
   "language": "python",
   "name": "python3"
  },
  "language_info": {
   "codemirror_mode": {
    "name": "ipython",
    "version": 3
   },
   "file_extension": ".py",
   "mimetype": "text/x-python",
   "name": "python",
   "nbconvert_exporter": "python",
   "pygments_lexer": "ipython3",
   "version": "3.6.1"
  }
 },
 "nbformat": 4,
 "nbformat_minor": 2
}
