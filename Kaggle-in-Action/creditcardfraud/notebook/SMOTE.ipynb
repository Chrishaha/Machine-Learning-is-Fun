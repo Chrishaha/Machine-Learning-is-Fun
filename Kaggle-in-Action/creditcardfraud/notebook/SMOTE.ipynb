{
 "cells": [
  {
   "cell_type": "markdown",
   "metadata": {},
   "source": [
    "[参考](https://www.kaggle.com/varunsharma3/credit-card-fraud-detection-using-smote-0-99-auc)。"
   ]
  },
  {
   "cell_type": "markdown",
   "metadata": {},
   "source": [
    "# 信用卡欺诈检测\n",
    "\n",
    "探索如何使用 smote、集成技术、交叉评估、kfold和logistic回归来处理倾斜数据集。"
   ]
  },
  {
   "cell_type": "code",
   "execution_count": 1,
   "metadata": {
    "collapsed": true
   },
   "outputs": [],
   "source": [
    "import pandas as pd\n",
    "import matplotlib.pyplot as plt\n",
    "import numpy as np\n",
    "\n",
    "%matplotlib inline"
   ]
  },
  {
   "cell_type": "code",
   "execution_count": 2,
   "metadata": {
    "collapsed": true
   },
   "outputs": [],
   "source": [
    "data = pd.read_csv(\"../input/creditcard.csv\")"
   ]
  },
  {
   "cell_type": "code",
   "execution_count": 3,
   "metadata": {},
   "outputs": [
    {
     "data": {
      "text/plain": [
       "<matplotlib.axes._subplots.AxesSubplot at 0x119be60f0>"
      ]
     },
     "execution_count": 3,
     "metadata": {},
     "output_type": "execute_result"
    },
    {
     "data": {
      "image/png": "[encoded data removed]",
      "text/plain": [
       "<Figure size 432x288 with 1 Axes>"
      ]
     },
     "metadata": {
      "image/png": {
       "height": 259,
       "width": 399
      },
      "needs_background": "light"
     },
     "output_type": "display_data"
    }
   ],
   "source": [
    "import seaborn as sns\n",
    "\n",
    "sns.countplot(x='Class', data=data)"
   ]
  },
  {
   "cell_type": "markdown",
   "metadata": {},
   "source": [
    "不平衡的定义是不到10%的一类和90%的另一类。因此，我们的数据明显有偏差。\n",
    "\n",
    "\n",
    "\n",
    "规范化“金额”列并删除任何多余的列，即时间和金额。"
   ]
  },
  {
   "cell_type": "code",
   "execution_count": 5,
   "metadata": {
    "collapsed": true
   },
   "outputs": [],
   "source": [
    "from sklearn.preprocessing import StandardScaler\n",
    "data['normAmount'] = StandardScaler().fit_transform(data['Amount'].values.reshape(-1, 1))\n",
    "data = data.drop(['Time','Amount'],axis=1)"
   ]
  },
  {
   "cell_type": "markdown",
   "metadata": {},
   "source": [
    "正如我们前面提到的，有几种方法可以对倾斜数据重新取样。除了欠采样和过采样之外，还有一种非常流行的方法叫做“合成少数类过采样技术”，它是过采样和欠采样的结合，但过采样方法不是通过复制少数类，而是通过一种算法构造新的少数类数据实例。\n",
    "\n",
    "\n",
    "\n",
    "在本笔记本中，我们将使用传统的抽样方法。我可能会尝试在将来的代码版本中实现smote，但现在我将使用传统的欠采样。\n",
    "\n",
    "\n",
    "\n",
    "我们对数据集进行采样的方式是创建50/50的比率。这将通过从多数类中随机选择“x”数量的样本来实现，即“x”为少数类记录的总数。"
   ]
  },
  {
   "cell_type": "code",
   "execution_count": 6,
   "metadata": {
    "collapsed": true
   },
   "outputs": [],
   "source": [
    "X = data.loc[:, data.columns != 'Class']\n",
    "y = data.loc[:, data.columns == 'Class']"
   ]
  },
  {
   "cell_type": "markdown",
   "metadata": {},
   "source": [
    "使用多条线进行窒息练习：这里我们只使用一种imblearn方法进行练习，尝试使用imblearn包中的不同采样技术。"
   ]
  },
  {
   "cell_type": "code",
   "execution_count": 7,
   "metadata": {},
   "outputs": [
    {
     "name": "stdout",
     "output_type": "stream",
     "text": [
      "<class 'numpy.ndarray'>\n",
      "Total rows in original data:284807\n",
      "Percentage of fraud counts in original dataset:0.1727485630620034%\n",
      "Total rows from ensembled data :568630\n",
      "Percentage of fraud counts in the new data:50.0%\n"
     ]
    }
   ],
   "source": [
    "#Apply SMOTE to create synthetic observations from minority class\n",
    "#Source:https://github.com/scikit-learn-contrib/imbalanced-learn\n",
    "from imblearn.combine import SMOTETomek  #Over sampling\n",
    "ee = SMOTETomek()\n",
    "X_sampled, y_sampled = ee.fit_sample(X, y.values.ravel())\n",
    "print(type(X_sampled))\n",
    "\n",
    "#Number of records in original data\n",
    "print('Total rows in original data:{}'.format(X.shape[0]))\n",
    "\n",
    "#Percentage of fraudlent records in original data\n",
    "Source_data_no_fraud_count = len(data[data.Class == 0])\n",
    "Source_data_fraud_count = len(data[data.Class == 1])\n",
    "print('Percentage of fraud counts in original dataset:{}%'.format(\n",
    "    (Source_data_fraud_count * 100) /\n",
    "    (Source_data_no_fraud_count + Source_data_fraud_count)))\n",
    "\n",
    "#Number of records in original data\n",
    "print('Total rows from ensembled data :{}'.format(X_sampled.shape[0]))\n",
    "\n",
    "#Percentage of fraudlent records in sampled data\n",
    "Sampled_data_no_fraud_count = len(y_sampled[y_sampled == 0])\n",
    "Sampled_data_fraud_count = len(y_sampled[y_sampled == 1])\n",
    "print('Percentage of fraud counts in the new data:{}%'.format(\n",
    "    (Sampled_data_fraud_count * 100) /\n",
    "    (Sampled_data_no_fraud_count + Sampled_data_fraud_count)))"
   ]
  },
  {
   "cell_type": "markdown",
   "metadata": {},
   "source": [
    "交叉验证我们需要将培训数据分为培训集和测试集。我们的分类器将在训练集中学习其参数。30%的数据将从培训集中排除并保存在测试集中。"
   ]
  },
  {
   "cell_type": "code",
   "execution_count": 9,
   "metadata": {},
   "outputs": [
    {
     "name": "stdout",
     "output_type": "stream",
     "text": [
      "Number transactions train dataset:  398041\n",
      "Number transactions test dataset:  170589\n",
      "Total number of transactions:  568630\n",
      "\n",
      "Number transactions train in sampled dataset:  398041\n",
      "Number transactions test in sampled dataset:  170589\n",
      "Total number of transactions:  568630\n"
     ]
    }
   ],
   "source": [
    "from sklearn.model_selection import train_test_split\n",
    "\n",
    "# Whole dataset\n",
    "X_train, X_test, y_train, y_test = train_test_split(X_sampled,y_sampled,test_size = 0.3, random_state = 0)\n",
    "\n",
    "print(\"Number transactions train dataset: \", len(X_train))\n",
    "print(\"Number transactions test dataset: \", len(X_test))\n",
    "print(\"Total number of transactions: \", len(X_train)+len(X_test))\n",
    "\n",
    "# Undersampled dataset\n",
    "X_train_sampled, X_test_sampled, y_train_sampled, y_test_sampled = train_test_split(X_sampled,y_sampled,test_size = 0.3,random_state = 0)\n",
    "print(\"\")\n",
    "print(\"Number transactions train in sampled dataset: \", len(X_train_sampled))\n",
    "print(\"Number transactions test in sampled dataset: \", len(X_test_sampled))\n",
    "print(\"Total number of transactions: \", len(X_train_sampled)+len(X_test_sampled))\n",
    "\n",
    "X_train_sampled_df = pd.DataFrame(X_train_sampled)\n",
    "y_train_sampled_df = pd.DataFrame(y_train_sampled)\n",
    "X_test_sampled_df = pd.DataFrame(X_test_sampled)\n",
    "y_test_sampled_df = pd.DataFrame(y_test_sampled)"
   ]
  },
  {
   "cell_type": "markdown",
   "metadata": {},
   "source": [
    "逻辑回归分类器-欠采样数据\n",
    "\n",
    "我们对召回分数非常感兴趣，因为这是一个有助于我们尝试捕捉最欺诈交易的指标。如果您认为精确性、精确性和召回对混淆矩阵的作用，那么召回将是最有趣的：\n",
    "\n",
    "准确度=（tp+tn）/总计\n",
    "\n",
    "精度=tp/（tp+fp）\n",
    "\n",
    "召回=tp/（tp+fn）\n",
    "\n",
    "正如我们所知，由于数据的嵌入，许多观察结果可以被预测为假阴性，也就是说，我们预测一个正常的交易，但实际上这是一个欺诈的交易。回忆捕捉到了这一点。\n",
    "\n",
    "显然，试图增加回忆，往往伴随着精度的降低。然而，在我们的案例中，如果我们预测一笔交易是欺诈性的，而事实证明并非如此，那么与之相反，这并不是一个巨大的问题。\n",
    "\n",
    "我们甚至可以在对每种类型的错误使用不同权重的FN和FP时应用成本函数，但现在我们将其放在一边。"
   ]
  },
  {
   "cell_type": "markdown",
   "metadata": {},
   "source": [
    "我们将使用KFOLD来识别物流分类器的光学配置。\n",
    "\n",
    "\n",
    "\n",
    "将数据分为5层。定义要使用的不同参数值，即每个参数值的C_param_范围进行迭代。在每次迭代中，我们将用不同的数据范围进行5次迭代，并计算出它们的得分。对于每个迭代，我们将计算平均分数。一旦我们知道了每个迭代的得分，我们就可以确定5个迭代中的最大得分是多少。然后，我们使用相应的配置值作为最佳配置值。\n",
    "\n",
    "该值将用于在下一步中设置模型。"
   ]
  },
  {
   "cell_type": "code",
   "execution_count": 12,
   "metadata": {
    "collapsed": true
   },
   "outputs": [],
   "source": [
    "from sklearn.linear_model import LogisticRegression\n",
    "from sklearn.model_selection import KFold, cross_val_score\n",
    "from sklearn.metrics import confusion_matrix, precision_recall_curve, auc, roc_auc_score, roc_curve, recall_score, classification_report"
   ]
  },
  {
   "cell_type": "markdown",
   "metadata": {},
   "source": [
    "创建一个函数来绘制一个奇特的混淆矩阵。或者，在本地计算机上，您可以使用更简单的方法来使用具有API的python_ml包，以便轻松创建混淆矩阵。"
   ]
  },
  {
   "cell_type": "code",
   "execution_count": 13,
   "metadata": {
    "collapsed": true
   },
   "outputs": [],
   "source": [
    "import itertools\n",
    "\n",
    "def plot_confusion_matrix(cm, classes,\n",
    "                          normalize=False,\n",
    "                          title='Confusion matrix',\n",
    "                          cmap=plt.cm.Blues):\n",
    "    \"\"\"\n",
    "    This function prints and plots the confusion matrix.\n",
    "    Normalization can be applied by setting `normalize=True`.\n",
    "    \"\"\"\n",
    "    plt.imshow(cm, interpolation='nearest', cmap=cmap)\n",
    "    plt.title(title)\n",
    "    plt.colorbar()\n",
    "    tick_marks = np.arange(len(classes))\n",
    "    plt.xticks(tick_marks, classes, rotation=0)\n",
    "    plt.yticks(tick_marks, classes)\n",
    "\n",
    "    if normalize:\n",
    "        cm = cm.astype('float') / cm.sum(axis=1)[:, np.newaxis]\n",
    "        #print(\"Normalized confusion matrix\")\n",
    "    else:\n",
    "        1#print('Confusion matrix, without normalization')\n",
    "\n",
    "    #print(cm)\n",
    "\n",
    "    thresh = cm.max() / 2.\n",
    "    for i, j in itertools.product(range(cm.shape[0]), range(cm.shape[1])):\n",
    "        plt.text(j, i, cm[i, j],\n",
    "                 horizontalalignment=\"center\",\n",
    "                 color=\"white\" if cm[i, j] > thresh else \"black\")\n",
    "\n",
    "    plt.tight_layout()\n",
    "    plt.ylabel('True label')\n",
    "    plt.xlabel('Predicted label')"
   ]
  },
  {
   "cell_type": "markdown",
   "metadata": {},
   "source": [
    "测试集和绘图混淆矩阵的预测\n",
    "我们一直在讨论使用召回度量作为我们预测模型有效性的代理。尽管召回仍然是我们想要计算的召回，但请记住，欠采样数据没有对某个类产生偏差，这不会使召回度量成为关键。"
   ]
  },
  {
   "cell_type": "code",
   "execution_count": 15,
   "metadata": {},
   "outputs": [
    {
     "name": "stderr",
     "output_type": "stream",
     "text": [
      "/Users/liwei/.local/lib/python3.6/site-packages/sklearn/linear_model/logistic.py:433: FutureWarning: Default solver will be changed to 'lbfgs' in 0.22. Specify a solver to silence this warning.\n",
      "  FutureWarning)\n"
     ]
    },
    {
     "name": "stdout",
     "output_type": "stream",
     "text": [
      "Recall metric in the testing dataset: 91.62227659599377%\n"
     ]
    },
    {
     "data": {
      "image/png": "[encoded data removed]",
      "text/plain": [
       "<Figure size 432x288 with 2 Axes>"
      ]
     },
     "metadata": {
      "image/png": {
       "height": 290,
       "width": 338
      },
      "needs_background": "light"
     },
     "output_type": "display_data"
    }
   ],
   "source": [
    "# Use this C_parameter to build the final model with the whole training dataset and predict the classes in the test\n",
    "# dataset\n",
    "lr = LogisticRegression(C = 10.0, penalty = 'l1')\n",
    "lr.fit(X_train_sampled_df,y_train_sampled_df.values.ravel())\n",
    "y_pred_sample = lr.predict(X_test_sampled_df.values)\n",
    "\n",
    "# Compute confusion matrix\n",
    "cnf_matrix = confusion_matrix(y_test_sampled_df,y_pred_sample)\n",
    "np.set_printoptions(precision=2)\n",
    "\n",
    "print(\"Recall metric in the testing dataset: {}%\".format(100*cnf_matrix[1,1]/(cnf_matrix[1,0]+cnf_matrix[1,1])))\n",
    "\n",
    "# Plot non-normalized confusion matrix\n",
    "class_names = [0,1]\n",
    "plt.figure()\n",
    "plot_confusion_matrix(cnf_matrix , classes=class_names, title='Confusion matrix')\n",
    "plt.show()"
   ]
  },
  {
   "cell_type": "markdown",
   "metadata": {},
   "source": [
    "该模型对广义看不见的数据（测试集）提供了91.65％的召回准确率。第一次尝试的比例不错。但是，回想一下，在采样测试集上，这是一个91.65％的召回准确度度量。现在，让我们应用我们拟合的模型并在整个数据上进行测试。"
   ]
  },
  {
   "cell_type": "code",
   "execution_count": 16,
   "metadata": {},
   "outputs": [
    {
     "name": "stderr",
     "output_type": "stream",
     "text": [
      "/Users/liwei/.local/lib/python3.6/site-packages/sklearn/linear_model/logistic.py:433: FutureWarning: Default solver will be changed to 'lbfgs' in 0.22. Specify a solver to silence this warning.\n",
      "  FutureWarning)\n"
     ]
    },
    {
     "name": "stdout",
     "output_type": "stream",
     "text": [
      "Recall metric in the testing dataset:91.62227659599377% \n"
     ]
    },
    {
     "data": {
      "image/png": "[encoded data removed]",
      "text/plain": [
       "<Figure size 432x288 with 2 Axes>"
      ]
     },
     "metadata": {
      "image/png": {
       "height": 290,
       "width": 338
      },
      "needs_background": "light"
     },
     "output_type": "display_data"
    }
   ],
   "source": [
    "# Use this C_parameter to build the final model with the whole training dataset and predict the classes in the test\n",
    "# dataset\n",
    "lr = LogisticRegression(C = 10.0, penalty = 'l1')\n",
    "lr.fit(X_train,y_train)\n",
    "y_pred = lr.predict(X_test)\n",
    "\n",
    "# Compute confusion matrix\n",
    "cnf_matrix = confusion_matrix(y_test,y_pred)\n",
    "np.set_printoptions(precision=2)\n",
    "\n",
    "print(\"Recall metric in the testing dataset:{}% \".format(100*(cnf_matrix[1,1]/(cnf_matrix[1,0]+cnf_matrix[1,1]))))\n",
    "\n",
    "# Plot non-normalized confusion matrix\n",
    "class_names = [0,1]\n",
    "plt.figure()\n",
    "plot_confusion_matrix(cnf_matrix, classes=class_names, title='Confusion matrix')\n",
    "plt.show()"
   ]
  },
  {
   "cell_type": "markdown",
   "metadata": {},
   "source": [
    "将其应用于更大且偏斜的数据集时，仍然具有非常不错的回忆精度！\n",
    "我们可以开始对初始方法的工作方式感到满意。\n",
    "绘制ROC曲线和Precision-Recall曲线。\n",
    "在这种情况下，我发现精确回忆曲线更加方便，因为我们的问题依赖于“正”类比负类更有趣，但是由于我们已经计算了回忆精度，我不打算绘制精确回忆曲线。\n",
    "\n",
    "AUC和ROC曲线也很有趣，可以检查模型是否也正确地预测并且没有造成很多错误\n",
    "\n",
    "AUC（曲线下面积）得分越高越好。它量化了一个测量。"
   ]
  },
  {
   "cell_type": "code",
   "execution_count": 17,
   "metadata": {},
   "outputs": [
    {
     "name": "stderr",
     "output_type": "stream",
     "text": [
      "/Users/liwei/.local/lib/python3.6/site-packages/sklearn/linear_model/logistic.py:433: FutureWarning: Default solver will be changed to 'lbfgs' in 0.22. Specify a solver to silence this warning.\n",
      "  FutureWarning)\n"
     ]
    },
    {
     "data": {
      "image/png": "[encoded data removed]",
      "text/plain": [
       "<Figure size 432x288 with 1 Axes>"
      ]
     },
     "metadata": {
      "image/png": {
       "height": 271,
       "width": 390
      },
      "needs_background": "light"
     },
     "output_type": "display_data"
    }
   ],
   "source": [
    "# ROC CURVE\n",
    "lr = LogisticRegression(C = 10.0, penalty = 'l1')\n",
    "temp = lr.fit(X_train,y_train)\n",
    "\n",
    "y_pred_sampled_score= temp.decision_function(X_test)\n",
    "\n",
    "fpr, tpr, thresholds = roc_curve(y_test,y_pred_sampled_score)\n",
    "roc_auc = auc(fpr,tpr)\n",
    "\n",
    "# Plot ROC\n",
    "plt.title('Receiver Operating Characteristic')\n",
    "plt.plot(fpr, tpr, 'b',label='AUC = %0.2f'% roc_auc)\n",
    "plt.legend(loc='lower right')\n",
    "plt.plot([0,1],[0,1],'r--')\n",
    "plt.xlim([-0.1,1.0])\n",
    "plt.ylim([-0.1,1.01])\n",
    "plt.ylabel('True Positive Rate')\n",
    "plt.xlabel('False Positive Rate')\n",
    "plt.show()"
   ]
  },
  {
   "cell_type": "markdown",
   "metadata": {},
   "source": [
    "另一个有趣的注释是初始化多个欠采样数据集并在循环中重复该过程。请记住，为了创建欠采样数据，我们随机从大多数类中获取记录。虽然这是一种有效的技术，但并不代表真实的人口，因此用不同的欠采样配置重复该过程并检查先前选择的参数是否仍然是最有效的将是有趣的。最后，我们的想法是使用整个数据集的更广泛的随机表示，并依赖于平均的最佳参数。"
   ]
  },
  {
   "cell_type": "code",
   "execution_count": 18,
   "metadata": {},
   "outputs": [
    {
     "data": {
      "text/plain": [
       "0.9162227659599377"
      ]
     },
     "execution_count": 18,
     "metadata": {},
     "output_type": "execute_result"
    }
   ],
   "source": [
    "from sklearn.metrics import recall_score\n",
    "\n",
    "recall_score(y_test,y_pred)  "
   ]
  },
  {
   "cell_type": "code",
   "execution_count": 19,
   "metadata": {
    "collapsed": true
   },
   "outputs": [],
   "source": [
    "from sklearn.ensemble import RandomForestClassifier\n",
    "rf = RandomForestClassifier(n_estimators=100)\n",
    "rf.fit(X_train,y_train)\n",
    "predictions = rf.predict(X_test)"
   ]
  },
  {
   "cell_type": "code",
   "execution_count": 22,
   "metadata": {},
   "outputs": [
    {
     "data": {
      "text/html": [
       "<script>requirejs.config({paths: { 'plotly': ['https://cdn.plot.ly/plotly-latest.min']},});if(!window.Plotly) {{require(['plotly'],function(plotly) {window.Plotly=plotly;});}}</script>"
      ],
      "text/vnd.plotly.v1+html": [
       "<script>requirejs.config({paths: { 'plotly': ['https://cdn.plot.ly/plotly-latest.min']},});if(!window.Plotly) {{require(['plotly'],function(plotly) {window.Plotly=plotly;});}}</script>"
      ]
     },
     "metadata": {},
     "output_type": "display_data"
    },
    {
     "data": {
      "application/vnd.plotly.v1+json": {
       "data": [
        {
         "marker": {
          "color": [
           0.011682066089168885,
           0.029181989831600988,
           0.030749888710485847,
           0.16070888585003076,
           0.01495669183020308,
           0.011149783521193155,
           0.03094189896573146,
           0.015692925455598035,
           0.018750178526413114,
           0.13274192411250285,
           0.08346155217054832,
           0.08286884093825458,
           0.009180768232487346,
           0.162530881686754,
           0.006703179191706233,
           0.0354744063216713,
           0.07104951609122391,
           0.014338536213571456,
           0.01072032045609375,
           0.00810230010407652,
           0.00599840711736262,
           0.004799372138122749,
           0.006239369253745804,
           0.004730538669152473,
           0.005141575500802773,
           0.0077237905924104,
           0.008136228144676412,
           0.007301048036747511,
           0.008943136247663665
          ],
          "colorscale": "Portland",
          "showscale": true,
          "size": 13,
          "sizemode": "diameter",
          "sizeref": 1
         },
         "mode": "markers",
         "text": [
          "V1",
          "V2",
          "V3",
          "V4",
          "V5",
          "V6",
          "V7",
          "V8",
          "V9",
          "V10",
          "V11",
          "V12",
          "V13",
          "V14",
          "V15",
          "V16",
          "V17",
          "V18",
          "V19",
          "V20",
          "V21",
          "V22",
          "V23",
          "V24",
          "V25",
          "V26",
          "V27",
          "V28",
          "normAmount"
         ],
         "type": "scatter",
         "x": [
          "V1",
          "V2",
          "V3",
          "V4",
          "V5",
          "V6",
          "V7",
          "V8",
          "V9",
          "V10",
          "V11",
          "V12",
          "V13",
          "V14",
          "V15",
          "V16",
          "V17",
          "V18",
          "V19",
          "V20",
          "V21",
          "V22",
          "V23",
          "V24",
          "V25",
          "V26",
          "V27",
          "V28",
          "normAmount"
         ],
         "y": [
          0.011682066089168885,
          0.029181989831600988,
          0.030749888710485847,
          0.16070888585003076,
          0.01495669183020308,
          0.011149783521193155,
          0.03094189896573146,
          0.015692925455598035,
          0.018750178526413114,
          0.13274192411250285,
          0.08346155217054832,
          0.08286884093825458,
          0.009180768232487346,
          0.162530881686754,
          0.006703179191706233,
          0.0354744063216713,
          0.07104951609122391,
          0.014338536213571456,
          0.01072032045609375,
          0.00810230010407652,
          0.00599840711736262,
          0.004799372138122749,
          0.006239369253745804,
          0.004730538669152473,
          0.005141575500802773,
          0.0077237905924104,
          0.008136228144676412,
          0.007301048036747511,
          0.008943136247663665
         ]
        }
       ],
       "layout": {
        "autosize": true,
        "hovermode": "closest",
        "showlegend": false,
        "title": "Random Forest Feature Importance",
        "xaxis": {
         "showgrid": false,
         "showline": false,
         "ticklen": 5,
         "zeroline": false
        },
        "yaxis": {
         "gridwidth": 2,
         "showgrid": false,
         "ticklen": 5,
         "title": "Feature Importance",
         "zeroline": false
        }
       }
      },
      "text/html": [
       "<div id=\"8bb800ec-4eae-4580-8385-b65a5c4df636\" style=\"height: 525px; width: 100%;\" class=\"plotly-graph-div\"></div><script type=\"text/javascript\">require([\"plotly\"], function(Plotly) { window.PLOTLYENV=window.PLOTLYENV || {};window.PLOTLYENV.BASE_URL=\"https://plot.ly\";Plotly.newPlot(\"8bb800ec-4eae-4580-8385-b65a5c4df636\", [{\"type\": \"scatter\", \"y\": [0.011682066089168885, 0.029181989831600988, 0.030749888710485847, 0.16070888585003076, 0.01495669183020308, 0.011149783521193155, 0.03094189896573146, 0.015692925455598035, 0.018750178526413114, 0.13274192411250285, 0.08346155217054832, 0.08286884093825458, 0.009180768232487346, 0.162530881686754, 0.006703179191706233, 0.0354744063216713, 0.07104951609122391, 0.014338536213571456, 0.01072032045609375, 0.00810230010407652, 0.00599840711736262, 0.004799372138122749, 0.006239369253745804, 0.004730538669152473, 0.005141575500802773, 0.0077237905924104, 0.008136228144676412, 0.007301048036747511, 0.008943136247663665], \"x\": [\"V1\", \"V2\", \"V3\", \"V4\", \"V5\", \"V6\", \"V7\", \"V8\", \"V9\", \"V10\", \"V11\", \"V12\", \"V13\", \"V14\", \"V15\", \"V16\", \"V17\", \"V18\", \"V19\", \"V20\", \"V21\", \"V22\", \"V23\", \"V24\", \"V25\", \"V26\", \"V27\", \"V28\", \"normAmount\"], \"mode\": \"markers\", \"marker\": {\"sizemode\": \"diameter\", \"sizeref\": 1, \"size\": 13, \"color\": [0.011682066089168885, 0.029181989831600988, 0.030749888710485847, 0.16070888585003076, 0.01495669183020308, 0.011149783521193155, 0.03094189896573146, 0.015692925455598035, 0.018750178526413114, 0.13274192411250285, 0.08346155217054832, 0.08286884093825458, 0.009180768232487346, 0.162530881686754, 0.006703179191706233, 0.0354744063216713, 0.07104951609122391, 0.014338536213571456, 0.01072032045609375, 0.00810230010407652, 0.00599840711736262, 0.004799372138122749, 0.006239369253745804, 0.004730538669152473, 0.005141575500802773, 0.0077237905924104, 0.008136228144676412, 0.007301048036747511, 0.008943136247663665], \"colorscale\": \"Portland\", \"showscale\": true}, \"text\": [\"V1\", \"V2\", \"V3\", \"V4\", \"V5\", \"V6\", \"V7\", \"V8\", \"V9\", \"V10\", \"V11\", \"V12\", \"V13\", \"V14\", \"V15\", \"V16\", \"V17\", \"V18\", \"V19\", \"V20\", \"V21\", \"V22\", \"V23\", \"V24\", \"V25\", \"V26\", \"V27\", \"V28\", \"normAmount\"]}], {\"autosize\": true, \"title\": \"Random Forest Feature Importance\", \"hovermode\": \"closest\", \"xaxis\": {\"ticklen\": 5, \"showgrid\": false, \"zeroline\": false, \"showline\": false}, \"yaxis\": {\"title\": \"Feature Importance\", \"showgrid\": false, \"zeroline\": false, \"ticklen\": 5, \"gridwidth\": 2}, \"showlegend\": false}, {\"showLink\": true, \"linkText\": \"Export to plot.ly\"})});</script>"
      ],
      "text/vnd.plotly.v1+html": [
       "<div id=\"8bb800ec-4eae-4580-8385-b65a5c4df636\" style=\"height: 525px; width: 100%;\" class=\"plotly-graph-div\"></div><script type=\"text/javascript\">require([\"plotly\"], function(Plotly) { window.PLOTLYENV=window.PLOTLYENV || {};window.PLOTLYENV.BASE_URL=\"https://plot.ly\";Plotly.newPlot(\"8bb800ec-4eae-4580-8385-b65a5c4df636\", [{\"type\": \"scatter\", \"y\": [0.011682066089168885, 0.029181989831600988, 0.030749888710485847, 0.16070888585003076, 0.01495669183020308, 0.011149783521193155, 0.03094189896573146, 0.015692925455598035, 0.018750178526413114, 0.13274192411250285, 0.08346155217054832, 0.08286884093825458, 0.009180768232487346, 0.162530881686754, 0.006703179191706233, 0.0354744063216713, 0.07104951609122391, 0.014338536213571456, 0.01072032045609375, 0.00810230010407652, 0.00599840711736262, 0.004799372138122749, 0.006239369253745804, 0.004730538669152473, 0.005141575500802773, 0.0077237905924104, 0.008136228144676412, 0.007301048036747511, 0.008943136247663665], \"x\": [\"V1\", \"V2\", \"V3\", \"V4\", \"V5\", \"V6\", \"V7\", \"V8\", \"V9\", \"V10\", \"V11\", \"V12\", \"V13\", \"V14\", \"V15\", \"V16\", \"V17\", \"V18\", \"V19\", \"V20\", \"V21\", \"V22\", \"V23\", \"V24\", \"V25\", \"V26\", \"V27\", \"V28\", \"normAmount\"], \"mode\": \"markers\", \"marker\": {\"sizemode\": \"diameter\", \"sizeref\": 1, \"size\": 13, \"color\": [0.011682066089168885, 0.029181989831600988, 0.030749888710485847, 0.16070888585003076, 0.01495669183020308, 0.011149783521193155, 0.03094189896573146, 0.015692925455598035, 0.018750178526413114, 0.13274192411250285, 0.08346155217054832, 0.08286884093825458, 0.009180768232487346, 0.162530881686754, 0.006703179191706233, 0.0354744063216713, 0.07104951609122391, 0.014338536213571456, 0.01072032045609375, 0.00810230010407652, 0.00599840711736262, 0.004799372138122749, 0.006239369253745804, 0.004730538669152473, 0.005141575500802773, 0.0077237905924104, 0.008136228144676412, 0.007301048036747511, 0.008943136247663665], \"colorscale\": \"Portland\", \"showscale\": true}, \"text\": [\"V1\", \"V2\", \"V3\", \"V4\", \"V5\", \"V6\", \"V7\", \"V8\", \"V9\", \"V10\", \"V11\", \"V12\", \"V13\", \"V14\", \"V15\", \"V16\", \"V17\", \"V18\", \"V19\", \"V20\", \"V21\", \"V22\", \"V23\", \"V24\", \"V25\", \"V26\", \"V27\", \"V28\", \"normAmount\"]}], {\"autosize\": true, \"title\": \"Random Forest Feature Importance\", \"hovermode\": \"closest\", \"xaxis\": {\"ticklen\": 5, \"showgrid\": false, \"zeroline\": false, \"showline\": false}, \"yaxis\": {\"title\": \"Feature Importance\", \"showgrid\": false, \"zeroline\": false, \"ticklen\": 5, \"gridwidth\": 2}, \"showlegend\": false}, {\"showLink\": true, \"linkText\": \"Export to plot.ly\"})});</script>"
      ]
     },
     "metadata": {},
     "output_type": "display_data"
    }
   ],
   "source": [
    "# Import statements required for Plotly \n",
    "import plotly.offline as py\n",
    "py.init_notebook_mode(connected=True)\n",
    "import plotly.graph_objs as go\n",
    "import plotly.tools as tls\n",
    "# Scatter plot \n",
    "trace = go.Scatter(\n",
    "    y = rf.feature_importances_,\n",
    "    x = X.columns.values,\n",
    "    mode='markers',\n",
    "    marker=dict(\n",
    "        sizemode = 'diameter',\n",
    "        sizeref = 1,\n",
    "        size = 13,\n",
    "        #size= rf.feature_importances_,\n",
    "        #color = np.random.randn(500), #set color equal to a variable\n",
    "        color = rf.feature_importances_,\n",
    "        colorscale='Portland',\n",
    "        showscale=True\n",
    "    ),\n",
    "    text = X.columns.values\n",
    ")\n",
    "data = [trace]\n",
    "\n",
    "layout= go.Layout(\n",
    "    autosize= True,\n",
    "    title= 'Random Forest Feature Importance',\n",
    "    hovermode= 'closest',\n",
    "     xaxis= dict(\n",
    "         ticklen= 5,\n",
    "         showgrid=False,\n",
    "        zeroline=False,\n",
    "        showline=False\n",
    "     ),\n",
    "    yaxis=dict(\n",
    "        title= 'Feature Importance',\n",
    "        showgrid=False,\n",
    "        zeroline=False,\n",
    "        ticklen= 5,\n",
    "        gridwidth= 2\n",
    "    ),\n",
    "    showlegend= False\n",
    ")\n",
    "fig = go.Figure(data=data, layout=layout)\n",
    "py.iplot(fig,filename='scatter2010')"
   ]
  },
  {
   "cell_type": "code",
   "execution_count": 23,
   "metadata": {},
   "outputs": [
    {
     "data": {
      "text/html": [
       "<script>requirejs.config({paths: { 'plotly': ['https://cdn.plot.ly/plotly-latest.min']},});if(!window.Plotly) {{require(['plotly'],function(plotly) {window.Plotly=plotly;});}}</script>"
      ],
      "text/vnd.plotly.v1+html": [
       "<script>requirejs.config({paths: { 'plotly': ['https://cdn.plot.ly/plotly-latest.min']},});if(!window.Plotly) {{require(['plotly'],function(plotly) {window.Plotly=plotly;});}}</script>"
      ]
     },
     "metadata": {},
     "output_type": "display_data"
    },
    {
     "data": {
      "application/vnd.plotly.v1+json": {
       "data": [
        {
         "marker": {
          "color": [
           0.011682066089168885,
           0.029181989831600988,
           0.030749888710485847,
           0.16070888585003076,
           0.01495669183020308,
           0.011149783521193155,
           0.03094189896573146,
           0.015692925455598035,
           0.018750178526413114,
           0.13274192411250285,
           0.08346155217054832,
           0.08286884093825458,
           0.009180768232487346,
           0.162530881686754,
           0.006703179191706233,
           0.0354744063216713,
           0.07104951609122391,
           0.014338536213571456,
           0.01072032045609375,
           0.00810230010407652,
           0.00599840711736262,
           0.004799372138122749,
           0.006239369253745804,
           0.004730538669152473,
           0.005141575500802773,
           0.0077237905924104,
           0.008136228144676412,
           0.007301048036747511,
           0.008943136247663665
          ],
          "colorscale": "Portland",
          "showscale": true,
          "size": 13,
          "sizemode": "diameter",
          "sizeref": 1
         },
         "mode": "markers",
         "text": [
          "V1",
          "V2",
          "V3",
          "V4",
          "V5",
          "V6",
          "V7",
          "V8",
          "V9",
          "V10",
          "V11",
          "V12",
          "V13",
          "V14",
          "V15",
          "V16",
          "V17",
          "V18",
          "V19",
          "V20",
          "V21",
          "V22",
          "V23",
          "V24",
          "V25",
          "V26",
          "V27",
          "V28",
          "normAmount"
         ],
         "type": "scatter",
         "x": [
          "V1",
          "V2",
          "V3",
          "V4",
          "V5",
          "V6",
          "V7",
          "V8",
          "V9",
          "V10",
          "V11",
          "V12",
          "V13",
          "V14",
          "V15",
          "V16",
          "V17",
          "V18",
          "V19",
          "V20",
          "V21",
          "V22",
          "V23",
          "V24",
          "V25",
          "V26",
          "V27",
          "V28",
          "normAmount"
         ],
         "y": [
          0.011682066089168885,
          0.029181989831600988,
          0.030749888710485847,
          0.16070888585003076,
          0.01495669183020308,
          0.011149783521193155,
          0.03094189896573146,
          0.015692925455598035,
          0.018750178526413114,
          0.13274192411250285,
          0.08346155217054832,
          0.08286884093825458,
          0.009180768232487346,
          0.162530881686754,
          0.006703179191706233,
          0.0354744063216713,
          0.07104951609122391,
          0.014338536213571456,
          0.01072032045609375,
          0.00810230010407652,
          0.00599840711736262,
          0.004799372138122749,
          0.006239369253745804,
          0.004730538669152473,
          0.005141575500802773,
          0.0077237905924104,
          0.008136228144676412,
          0.007301048036747511,
          0.008943136247663665
         ]
        }
       ],
       "layout": {
        "autosize": true,
        "hovermode": "closest",
        "showlegend": false,
        "title": "Random Forest Feature Importance",
        "xaxis": {
         "showgrid": false,
         "showline": false,
         "ticklen": 5,
         "zeroline": false
        },
        "yaxis": {
         "gridwidth": 2,
         "showgrid": false,
         "ticklen": 5,
         "title": "Feature Importance",
         "zeroline": false
        }
       }
      },
      "text/html": [
       "<div id=\"7486edaf-707b-4e30-aa5d-b9da9898007d\" style=\"height: 525px; width: 100%;\" class=\"plotly-graph-div\"></div><script type=\"text/javascript\">require([\"plotly\"], function(Plotly) { window.PLOTLYENV=window.PLOTLYENV || {};window.PLOTLYENV.BASE_URL=\"https://plot.ly\";Plotly.newPlot(\"7486edaf-707b-4e30-aa5d-b9da9898007d\", [{\"type\": \"scatter\", \"y\": [0.011682066089168885, 0.029181989831600988, 0.030749888710485847, 0.16070888585003076, 0.01495669183020308, 0.011149783521193155, 0.03094189896573146, 0.015692925455598035, 0.018750178526413114, 0.13274192411250285, 0.08346155217054832, 0.08286884093825458, 0.009180768232487346, 0.162530881686754, 0.006703179191706233, 0.0354744063216713, 0.07104951609122391, 0.014338536213571456, 0.01072032045609375, 0.00810230010407652, 0.00599840711736262, 0.004799372138122749, 0.006239369253745804, 0.004730538669152473, 0.005141575500802773, 0.0077237905924104, 0.008136228144676412, 0.007301048036747511, 0.008943136247663665], \"x\": [\"V1\", \"V2\", \"V3\", \"V4\", \"V5\", \"V6\", \"V7\", \"V8\", \"V9\", \"V10\", \"V11\", \"V12\", \"V13\", \"V14\", \"V15\", \"V16\", \"V17\", \"V18\", \"V19\", \"V20\", \"V21\", \"V22\", \"V23\", \"V24\", \"V25\", \"V26\", \"V27\", \"V28\", \"normAmount\"], \"mode\": \"markers\", \"marker\": {\"sizemode\": \"diameter\", \"sizeref\": 1, \"size\": 13, \"color\": [0.011682066089168885, 0.029181989831600988, 0.030749888710485847, 0.16070888585003076, 0.01495669183020308, 0.011149783521193155, 0.03094189896573146, 0.015692925455598035, 0.018750178526413114, 0.13274192411250285, 0.08346155217054832, 0.08286884093825458, 0.009180768232487346, 0.162530881686754, 0.006703179191706233, 0.0354744063216713, 0.07104951609122391, 0.014338536213571456, 0.01072032045609375, 0.00810230010407652, 0.00599840711736262, 0.004799372138122749, 0.006239369253745804, 0.004730538669152473, 0.005141575500802773, 0.0077237905924104, 0.008136228144676412, 0.007301048036747511, 0.008943136247663665], \"colorscale\": \"Portland\", \"showscale\": true}, \"text\": [\"V1\", \"V2\", \"V3\", \"V4\", \"V5\", \"V6\", \"V7\", \"V8\", \"V9\", \"V10\", \"V11\", \"V12\", \"V13\", \"V14\", \"V15\", \"V16\", \"V17\", \"V18\", \"V19\", \"V20\", \"V21\", \"V22\", \"V23\", \"V24\", \"V25\", \"V26\", \"V27\", \"V28\", \"normAmount\"]}], {\"autosize\": true, \"title\": \"Random Forest Feature Importance\", \"hovermode\": \"closest\", \"xaxis\": {\"ticklen\": 5, \"showgrid\": false, \"zeroline\": false, \"showline\": false}, \"yaxis\": {\"title\": \"Feature Importance\", \"showgrid\": false, \"zeroline\": false, \"ticklen\": 5, \"gridwidth\": 2}, \"showlegend\": false}, {\"showLink\": true, \"linkText\": \"Export to plot.ly\"})});</script>"
      ],
      "text/vnd.plotly.v1+html": [
       "<div id=\"7486edaf-707b-4e30-aa5d-b9da9898007d\" style=\"height: 525px; width: 100%;\" class=\"plotly-graph-div\"></div><script type=\"text/javascript\">require([\"plotly\"], function(Plotly) { window.PLOTLYENV=window.PLOTLYENV || {};window.PLOTLYENV.BASE_URL=\"https://plot.ly\";Plotly.newPlot(\"7486edaf-707b-4e30-aa5d-b9da9898007d\", [{\"type\": \"scatter\", \"y\": [0.011682066089168885, 0.029181989831600988, 0.030749888710485847, 0.16070888585003076, 0.01495669183020308, 0.011149783521193155, 0.03094189896573146, 0.015692925455598035, 0.018750178526413114, 0.13274192411250285, 0.08346155217054832, 0.08286884093825458, 0.009180768232487346, 0.162530881686754, 0.006703179191706233, 0.0354744063216713, 0.07104951609122391, 0.014338536213571456, 0.01072032045609375, 0.00810230010407652, 0.00599840711736262, 0.004799372138122749, 0.006239369253745804, 0.004730538669152473, 0.005141575500802773, 0.0077237905924104, 0.008136228144676412, 0.007301048036747511, 0.008943136247663665], \"x\": [\"V1\", \"V2\", \"V3\", \"V4\", \"V5\", \"V6\", \"V7\", \"V8\", \"V9\", \"V10\", \"V11\", \"V12\", \"V13\", \"V14\", \"V15\", \"V16\", \"V17\", \"V18\", \"V19\", \"V20\", \"V21\", \"V22\", \"V23\", \"V24\", \"V25\", \"V26\", \"V27\", \"V28\", \"normAmount\"], \"mode\": \"markers\", \"marker\": {\"sizemode\": \"diameter\", \"sizeref\": 1, \"size\": 13, \"color\": [0.011682066089168885, 0.029181989831600988, 0.030749888710485847, 0.16070888585003076, 0.01495669183020308, 0.011149783521193155, 0.03094189896573146, 0.015692925455598035, 0.018750178526413114, 0.13274192411250285, 0.08346155217054832, 0.08286884093825458, 0.009180768232487346, 0.162530881686754, 0.006703179191706233, 0.0354744063216713, 0.07104951609122391, 0.014338536213571456, 0.01072032045609375, 0.00810230010407652, 0.00599840711736262, 0.004799372138122749, 0.006239369253745804, 0.004730538669152473, 0.005141575500802773, 0.0077237905924104, 0.008136228144676412, 0.007301048036747511, 0.008943136247663665], \"colorscale\": \"Portland\", \"showscale\": true}, \"text\": [\"V1\", \"V2\", \"V3\", \"V4\", \"V5\", \"V6\", \"V7\", \"V8\", \"V9\", \"V10\", \"V11\", \"V12\", \"V13\", \"V14\", \"V15\", \"V16\", \"V17\", \"V18\", \"V19\", \"V20\", \"V21\", \"V22\", \"V23\", \"V24\", \"V25\", \"V26\", \"V27\", \"V28\", \"normAmount\"]}], {\"autosize\": true, \"title\": \"Random Forest Feature Importance\", \"hovermode\": \"closest\", \"xaxis\": {\"ticklen\": 5, \"showgrid\": false, \"zeroline\": false, \"showline\": false}, \"yaxis\": {\"title\": \"Feature Importance\", \"showgrid\": false, \"zeroline\": false, \"ticklen\": 5, \"gridwidth\": 2}, \"showlegend\": false}, {\"showLink\": true, \"linkText\": \"Export to plot.ly\"})});</script>"
      ]
     },
     "metadata": {},
     "output_type": "display_data"
    }
   ],
   "source": [
    "import plotly.offline as py\n",
    "py.init_notebook_mode(connected=True)\n",
    "import plotly.graph_objs as go\n",
    "import plotly.tools as tls\n",
    "\n",
    "# Scatter plot \n",
    "trace = go.Scatter(\n",
    "    y = rf.feature_importances_,\n",
    "    x = X.columns.values,\n",
    "    mode='markers',\n",
    "    marker=dict(\n",
    "        sizemode = 'diameter',\n",
    "        sizeref = 1,\n",
    "        size = 13,\n",
    "        #size= rf.feature_importances_,\n",
    "        #color = np.random.randn(500), #set color equal to a variable\n",
    "        color = rf.feature_importances_,\n",
    "        colorscale='Portland',\n",
    "        showscale=True\n",
    "    ),\n",
    "    text = X.columns.values\n",
    ")\n",
    "data = [trace]\n",
    "layout= go.Layout(\n",
    "    autosize= True,\n",
    "    title= 'Random Forest Feature Importance',\n",
    "    hovermode= 'closest',\n",
    "     xaxis= dict(\n",
    "         ticklen= 5,\n",
    "         showgrid=False,\n",
    "        zeroline=False,\n",
    "        showline=False\n",
    "     ),\n",
    "    yaxis=dict(\n",
    "        title= 'Feature Importance',\n",
    "        showgrid=False,\n",
    "        zeroline=False,\n",
    "        ticklen= 5,\n",
    "        gridwidth= 2\n",
    "    ),\n",
    "    showlegend= False\n",
    ")\n",
    "fig = go.Figure(data=data, layout=layout)\n",
    "py.iplot(fig,filename='scatter2010')"
   ]
  },
  {
   "cell_type": "code",
   "execution_count": null,
   "metadata": {
    "collapsed": true
   },
   "outputs": [],
   "source": []
  }
 ],
 "metadata": {
  "kernelspec": {
   "display_name": "Python 3",
   "language": "python",
   "name": "python3"
  },
  "language_info": {
   "codemirror_mode": {
    "name": "ipython",
    "version": 3
   },
   "file_extension": ".py",
   "mimetype": "text/x-python",
   "name": "python",
   "nbconvert_exporter": "python",
   "pygments_lexer": "ipython3",
   "version": "3.6.3"
  }
 },
 "nbformat": 4,
 "nbformat_minor": 2
}
