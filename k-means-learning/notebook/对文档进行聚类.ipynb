{
 "cells": [
  {
   "cell_type": "markdown",
   "metadata": {},
   "source": [
    "# 对文档进行聚类"
   ]
  },
  {
   "cell_type": "markdown",
   "metadata": {},
   "source": [
    "load_files 函数文档：https://scikit-learn.org/stable/modules/generated/sklearn.datasets.load_files.html\n",
    "\n",
    "+ 加载带有类别的文本文件作为子文件夹名称。"
   ]
  },
  {
   "cell_type": "code",
   "execution_count": 2,
   "metadata": {},
   "outputs": [],
   "source": [
    "from sklearn.datasets import load_files\n",
    "\n",
    "docs = load_files('../input/clustering/')"
   ]
  },
  {
   "cell_type": "code",
   "execution_count": 3,
   "metadata": {
    "collapsed": true
   },
   "outputs": [],
   "source": [
    "from sklearn.feature_extraction.text import TfidfVectorizer\n",
    "\n",
    "max_features = 20000\n",
    "\n",
    "vectorizer = TfidfVectorizer(\n",
    "    max_df=0.4, min_df=2, max_features=max_features, encoding='latin-1')\n",
    "X = vectorizer.fit_transform(docs.data)"
   ]
  },
  {
   "cell_type": "code",
   "execution_count": 8,
   "metadata": {},
   "outputs": [
    {
     "data": {
      "text/plain": [
       "<3949x20000 sparse matrix of type '<class 'numpy.float64'>'\n",
       "\twith 461902 stored elements in Compressed Sparse Row format>"
      ]
     },
     "execution_count": 8,
     "metadata": {},
     "output_type": "execute_result"
    }
   ],
   "source": [
    "X"
   ]
  },
  {
   "cell_type": "markdown",
   "metadata": {},
   "source": [
    "\n",
    "`max_df`：`max_df=0.4` 表示如果一个单词在 $40\\%$ 的文档里面都出现过，那么这是一个高频率的词汇，对于文档聚类是没有帮助的，生成词典的时候，就会删掉这个词。\n",
    "\n",
    "`min_df`：`min_df=2` 如果一个单词的词频太低，只在两个以下（包含两个）以下的文档中出现，会把这个单词从字典里面剔除。\n",
    "\n",
    "`max_features`：`max_features` 进一步过滤了词典的大小，会根据 `TF-IDF` 的权重从高到低进行排序，然后取前面权重高的单词构成词典 "
   ]
  },
  {
   "cell_type": "code",
   "execution_count": 6,
   "metadata": {},
   "outputs": [
    {
     "data": {
      "text/plain": [
       "KMeans(algorithm='auto', copy_x=True, init='k-means++', max_iter=100,\n",
       "    n_clusters=4, n_init=3, n_jobs=1, precompute_distances='auto',\n",
       "    random_state=None, tol=0.01, verbose=1)"
      ]
     },
     "execution_count": 6,
     "metadata": {},
     "output_type": "execute_result"
    }
   ],
   "source": [
    "from sklearn.cluster import KMeans\n",
    "\n",
    "n_clusters = 4\n",
    "\n",
    "kmean = KMeans(n_clusters=n_clusters, max_iter=100, tol=0.01, verbose=1, n_init=3)\n",
    "kmean"
   ]
  },
  {
   "cell_type": "code",
   "execution_count": 7,
   "metadata": {},
   "outputs": [
    {
     "name": "stdout",
     "output_type": "stream",
     "text": [
      "Initialization complete\n",
      "Iteration  0, inertia 7429.981\n",
      "Iteration  1, inertia 3841.973\n",
      "Iteration  2, inertia 3829.550\n",
      "Iteration  3, inertia 3826.611\n",
      "Iteration  4, inertia 3825.621\n",
      "Iteration  5, inertia 3824.562\n",
      "Iteration  6, inertia 3822.343\n",
      "Iteration  7, inertia 3820.837\n",
      "Iteration  8, inertia 3820.296\n",
      "Iteration  9, inertia 3820.076\n",
      "Iteration 10, inertia 3819.992\n",
      "Iteration 11, inertia 3819.900\n",
      "Iteration 12, inertia 3819.805\n",
      "Iteration 13, inertia 3819.624\n",
      "Iteration 14, inertia 3819.381\n",
      "Iteration 15, inertia 3819.292\n",
      "Iteration 16, inertia 3819.260\n",
      "Iteration 17, inertia 3819.241\n",
      "Iteration 18, inertia 3819.217\n",
      "Iteration 19, inertia 3819.210\n",
      "Converged at iteration 19: center shift 0.000000e+00 within tolerance 4.896692e-07\n",
      "Initialization complete\n",
      "Iteration  0, inertia 7539.440\n",
      "Iteration  1, inertia 3842.001\n",
      "Iteration  2, inertia 3828.867\n",
      "Iteration  3, inertia 3822.184\n",
      "Iteration  4, inertia 3820.386\n",
      "Iteration  5, inertia 3819.674\n",
      "Iteration  6, inertia 3819.317\n",
      "Iteration  7, inertia 3819.155\n",
      "Iteration  8, inertia 3819.054\n",
      "Iteration  9, inertia 3819.001\n",
      "Iteration 10, inertia 3818.970\n",
      "Iteration 11, inertia 3818.944\n",
      "Iteration 12, inertia 3818.922\n",
      "Iteration 13, inertia 3818.907\n",
      "Iteration 14, inertia 3818.882\n",
      "Iteration 15, inertia 3818.857\n",
      "Iteration 16, inertia 3818.845\n",
      "Iteration 17, inertia 3818.827\n",
      "Iteration 18, inertia 3818.807\n",
      "Iteration 19, inertia 3818.792\n",
      "Iteration 20, inertia 3818.775\n",
      "Iteration 21, inertia 3818.744\n",
      "Iteration 22, inertia 3818.705\n",
      "Iteration 23, inertia 3818.682\n",
      "Iteration 24, inertia 3818.663\n",
      "Iteration 25, inertia 3818.629\n",
      "Iteration 26, inertia 3818.598\n",
      "Iteration 27, inertia 3818.571\n",
      "Iteration 28, inertia 3818.534\n",
      "Iteration 29, inertia 3818.494\n",
      "Iteration 30, inertia 3818.467\n",
      "Iteration 31, inertia 3818.440\n",
      "Iteration 32, inertia 3818.408\n",
      "Iteration 33, inertia 3818.378\n",
      "Iteration 34, inertia 3818.363\n",
      "Iteration 35, inertia 3818.352\n",
      "Iteration 36, inertia 3818.333\n",
      "Iteration 37, inertia 3818.329\n",
      "Converged at iteration 37: center shift 0.000000e+00 within tolerance 4.896692e-07\n",
      "Initialization complete\n",
      "Iteration  0, inertia 7445.990\n",
      "Iteration  1, inertia 3843.847\n",
      "Iteration  2, inertia 3831.843\n",
      "Iteration  3, inertia 3824.944\n",
      "Iteration  4, inertia 3821.785\n",
      "Iteration  5, inertia 3820.812\n",
      "Iteration  6, inertia 3820.259\n",
      "Iteration  7, inertia 3819.792\n",
      "Iteration  8, inertia 3819.454\n",
      "Iteration  9, inertia 3819.167\n",
      "Iteration 10, inertia 3818.998\n",
      "Iteration 11, inertia 3818.858\n",
      "Iteration 12, inertia 3818.663\n",
      "Iteration 13, inertia 3818.442\n",
      "Iteration 14, inertia 3818.285\n",
      "Iteration 15, inertia 3818.150\n",
      "Iteration 16, inertia 3818.046\n",
      "Iteration 17, inertia 3817.983\n",
      "Iteration 18, inertia 3817.967\n",
      "Iteration 19, inertia 3817.960\n",
      "Iteration 20, inertia 3817.949\n",
      "Iteration 21, inertia 3817.942\n",
      "Iteration 22, inertia 3817.927\n",
      "Iteration 23, inertia 3817.884\n",
      "Iteration 24, inertia 3817.841\n",
      "Iteration 25, inertia 3817.825\n",
      "Iteration 26, inertia 3817.803\n",
      "Iteration 27, inertia 3817.775\n",
      "Iteration 28, inertia 3817.764\n",
      "Iteration 29, inertia 3817.760\n",
      "Iteration 30, inertia 3817.752\n",
      "Iteration 31, inertia 3817.747\n",
      "Iteration 32, inertia 3817.742\n",
      "Converged at iteration 32: center shift 0.000000e+00 within tolerance 4.896692e-07\n"
     ]
    },
    {
     "data": {
      "text/plain": [
       "KMeans(algorithm='auto', copy_x=True, init='k-means++', max_iter=100,\n",
       "    n_clusters=4, n_init=3, n_jobs=1, precompute_distances='auto',\n",
       "    random_state=None, tol=0.01, verbose=1)"
      ]
     },
     "execution_count": 7,
     "metadata": {},
     "output_type": "execute_result"
    }
   ],
   "source": [
    "kmean.fit(X)"
   ]
  },
  {
   "cell_type": "code",
   "execution_count": 9,
   "metadata": {},
   "outputs": [
    {
     "data": {
      "text/plain": [
       "3817.742355730966"
      ]
     },
     "execution_count": 9,
     "metadata": {},
     "output_type": "execute_result"
    }
   ],
   "source": [
    "kmean.inertia_"
   ]
  },
  {
   "cell_type": "code",
   "execution_count": 10,
   "metadata": {},
   "outputs": [
    {
     "data": {
      "text/plain": [
       "array([1, 1, 1, 0, 2, 0, 2, 1, 0, 0], dtype=int32)"
      ]
     },
     "execution_count": 10,
     "metadata": {},
     "output_type": "execute_result"
    }
   ],
   "source": [
    "kmean.labels_[1000:1010]"
   ]
  },
  {
   "cell_type": "code",
   "execution_count": 11,
   "metadata": {},
   "outputs": [
    {
     "data": {
      "text/plain": [
       "array(['../input/clustering/sci.crypt/10888-15289',\n",
       "       '../input/clustering/sci.crypt/11490-15880',\n",
       "       '../input/clustering/sci.crypt/11270-15346',\n",
       "       '../input/clustering/sci.electronics/12383-53525',\n",
       "       '../input/clustering/sci.space/13826-60862',\n",
       "       '../input/clustering/sci.electronics/11631-54106',\n",
       "       '../input/clustering/sci.space/14235-61437',\n",
       "       '../input/clustering/sci.crypt/11508-15928',\n",
       "       '../input/clustering/sci.space/13593-60824',\n",
       "       '../input/clustering/sci.electronics/12304-52801'], dtype='<U47')"
      ]
     },
     "execution_count": 11,
     "metadata": {},
     "output_type": "execute_result"
    }
   ],
   "source": [
    "docs.filenames[1000:1010]"
   ]
  },
  {
   "cell_type": "code",
   "execution_count": 12,
   "metadata": {},
   "outputs": [
    {
     "data": {
      "text/plain": [
       "(4, 20000)"
      ]
     },
     "execution_count": 12,
     "metadata": {},
     "output_type": "execute_result"
    }
   ],
   "source": [
    "kmean.cluster_centers_.shape"
   ]
  },
  {
   "cell_type": "code",
   "execution_count": 13,
   "metadata": {
    "collapsed": true
   },
   "outputs": [],
   "source": [
    "order_centroids = kmean.cluster_centers_.argsort(axis=1)[:,::-1]"
   ]
  },
  {
   "cell_type": "code",
   "execution_count": 14,
   "metadata": {},
   "outputs": [
    {
     "data": {
      "text/plain": [
       "(4, 20000)"
      ]
     },
     "execution_count": 14,
     "metadata": {},
     "output_type": "execute_result"
    }
   ],
   "source": [
    "order_centroids.shape"
   ]
  },
  {
   "cell_type": "code",
   "execution_count": 15,
   "metadata": {},
   "outputs": [
    {
     "data": {
      "text/plain": [
       "array([[ 2337, 12398, 10635, ...,  4856,  4860,  4621],\n",
       "       [10522,  4415,  6936, ...,  8704,  8703, 19999],\n",
       "       [16848,  8962, 12463, ...,  6234,  6233, 19999],\n",
       "       [12398, 16356, 12313, ...,  7358,  7357, 19999]])"
      ]
     },
     "execution_count": 15,
     "metadata": {},
     "output_type": "execute_result"
    }
   ],
   "source": [
    "order_centroids"
   ]
  },
  {
   "cell_type": "code",
   "execution_count": 16,
   "metadata": {},
   "outputs": [
    {
     "name": "stdout",
     "output_type": "stream",
     "text": [
      "聚类中心 1 any  my  know  by  me  anyone  your  ca  like  thanks \n",
      "聚类中心 2 key  clipper  encryption  chip  government  will  keys  escrow  we  your \n",
      "聚类中心 3 space  henry  nasa  toronto  pat  shuttle  zoo  moon  we  gov \n",
      "聚类中心 4 my  she  msg  pitt  he  gordon  her  geb  banks  has \n"
     ]
    }
   ],
   "source": [
    "terms = vectorizer.get_feature_names()\n",
    "for i in range(n_clusters):\n",
    "    print('聚类中心',i+1,end='')\n",
    "    for index in order_centroids[i, :10]:\n",
    "        print(' %s ' % terms[index],end='')\n",
    "    print()"
   ]
  },
  {
   "cell_type": "code",
   "execution_count": 17,
   "metadata": {},
   "outputs": [
    {
     "data": {
      "text/plain": [
       "array([[1.83698178e-03, 1.69844030e-03, 3.78138188e-05, ...,\n",
       "        2.42740466e-04, 1.87546922e-04, 1.87546922e-04],\n",
       "       [2.70557485e-04, 1.35559431e-03, 0.00000000e+00, ...,\n",
       "        0.00000000e+00, 0.00000000e+00, 0.00000000e+00],\n",
       "       [2.17714595e-03, 3.20367668e-03, 3.15739811e-04, ...,\n",
       "        0.00000000e+00, 0.00000000e+00, 0.00000000e+00],\n",
       "       [1.48105028e-03, 1.99367990e-03, 0.00000000e+00, ...,\n",
       "        0.00000000e+00, 0.00000000e+00, 0.00000000e+00]])"
      ]
     },
     "execution_count": 17,
     "metadata": {},
     "output_type": "execute_result"
    }
   ],
   "source": [
    "kmean.cluster_centers_"
   ]
  },
  {
   "cell_type": "code",
   "execution_count": 18,
   "metadata": {},
   "outputs": [
    {
     "data": {
      "text/plain": [
       "array([[0, 1, 2, 3],\n",
       "       [3, 2, 1, 0]])"
      ]
     },
     "execution_count": 18,
     "metadata": {},
     "output_type": "execute_result"
    }
   ],
   "source": [
    "x = np.array([[0, 1, 2, 3], [4, 3, 2, 1]])\n",
    "x.argsort(axis=1)"
   ]
  },
  {
   "cell_type": "code",
   "execution_count": null,
   "metadata": {
    "collapsed": true
   },
   "outputs": [],
   "source": []
  }
 ],
 "metadata": {
  "kernelspec": {
   "display_name": "Python 3",
   "language": "python",
   "name": "python3"
  },
  "language_info": {
   "codemirror_mode": {
    "name": "ipython",
    "version": 3
   },
   "file_extension": ".py",
   "mimetype": "text/x-python",
   "name": "python",
   "nbconvert_exporter": "python",
   "pygments_lexer": "ipython3",
   "version": "3.6.1"
  },
  "toc": {
   "nav_menu": {},
   "number_sections": true,
   "sideBar": true,
   "skip_h1_title": false,
   "toc_cell": false,
   "toc_position": {},
   "toc_section_display": "block",
   "toc_window_display": false
  }
 },
 "nbformat": 4,
 "nbformat_minor": 2
}
