{
 "cells": [
  {
   "cell_type": "code",
   "execution_count": null,
   "metadata": {
    "collapsed": true
   },
   "outputs": [],
   "source": [
    "# import os \n",
    "# os.chdir(r\"D:\\Python_book\\5Preprocessing\")"
   ]
  },
  {
   "cell_type": "code",
   "execution_count": 2,
   "metadata": {},
   "outputs": [
    {
     "data": {
      "text/html": [
       "<div>\n",
       "<style scoped>\n",
       "    .dataframe tbody tr th:only-of-type {\n",
       "        vertical-align: middle;\n",
       "    }\n",
       "\n",
       "    .dataframe tbody tr th {\n",
       "        vertical-align: top;\n",
       "    }\n",
       "\n",
       "    .dataframe thead th {\n",
       "        text-align: right;\n",
       "    }\n",
       "</style>\n",
       "<table border=\"1\" class=\"dataframe\">\n",
       "  <thead>\n",
       "    <tr style=\"text-align: right;\">\n",
       "      <th></th>\n",
       "      <th>ID</th>\n",
       "      <th>Suc_flag</th>\n",
       "      <th>ARPU</th>\n",
       "      <th>PromCnt12</th>\n",
       "      <th>PromCnt36</th>\n",
       "      <th>PromCntMsg12</th>\n",
       "      <th>PromCntMsg36</th>\n",
       "      <th>Class</th>\n",
       "      <th>Age</th>\n",
       "      <th>Gender</th>\n",
       "      <th>HomeOwner</th>\n",
       "      <th>AvgARPU</th>\n",
       "      <th>AvgHomeValue</th>\n",
       "      <th>AvgIncome</th>\n",
       "    </tr>\n",
       "  </thead>\n",
       "  <tbody>\n",
       "    <tr>\n",
       "      <th>0</th>\n",
       "      <td>12</td>\n",
       "      <td>1</td>\n",
       "      <td>50.0</td>\n",
       "      <td>6</td>\n",
       "      <td>10</td>\n",
       "      <td>2</td>\n",
       "      <td>3</td>\n",
       "      <td>4</td>\n",
       "      <td>57.0</td>\n",
       "      <td>M</td>\n",
       "      <td>H</td>\n",
       "      <td>49.894904</td>\n",
       "      <td>33400</td>\n",
       "      <td>39460</td>\n",
       "    </tr>\n",
       "    <tr>\n",
       "      <th>1</th>\n",
       "      <td>53</td>\n",
       "      <td>0</td>\n",
       "      <td>NaN</td>\n",
       "      <td>5</td>\n",
       "      <td>9</td>\n",
       "      <td>1</td>\n",
       "      <td>4</td>\n",
       "      <td>3</td>\n",
       "      <td>55.0</td>\n",
       "      <td>M</td>\n",
       "      <td>H</td>\n",
       "      <td>48.574742</td>\n",
       "      <td>37600</td>\n",
       "      <td>33545</td>\n",
       "    </tr>\n",
       "    <tr>\n",
       "      <th>2</th>\n",
       "      <td>67</td>\n",
       "      <td>1</td>\n",
       "      <td>25.0</td>\n",
       "      <td>6</td>\n",
       "      <td>11</td>\n",
       "      <td>2</td>\n",
       "      <td>4</td>\n",
       "      <td>1</td>\n",
       "      <td>57.0</td>\n",
       "      <td>F</td>\n",
       "      <td>H</td>\n",
       "      <td>49.272646</td>\n",
       "      <td>100400</td>\n",
       "      <td>42091</td>\n",
       "    </tr>\n",
       "    <tr>\n",
       "      <th>3</th>\n",
       "      <td>71</td>\n",
       "      <td>1</td>\n",
       "      <td>80.0</td>\n",
       "      <td>7</td>\n",
       "      <td>10</td>\n",
       "      <td>2</td>\n",
       "      <td>4</td>\n",
       "      <td>1</td>\n",
       "      <td>52.0</td>\n",
       "      <td>F</td>\n",
       "      <td>H</td>\n",
       "      <td>47.334953</td>\n",
       "      <td>39900</td>\n",
       "      <td>39313</td>\n",
       "    </tr>\n",
       "    <tr>\n",
       "      <th>4</th>\n",
       "      <td>142</td>\n",
       "      <td>1</td>\n",
       "      <td>15.0</td>\n",
       "      <td>6</td>\n",
       "      <td>11</td>\n",
       "      <td>2</td>\n",
       "      <td>4</td>\n",
       "      <td>1</td>\n",
       "      <td>NaN</td>\n",
       "      <td>F</td>\n",
       "      <td>U</td>\n",
       "      <td>47.827404</td>\n",
       "      <td>47500</td>\n",
       "      <td>0</td>\n",
       "    </tr>\n",
       "  </tbody>\n",
       "</table>\n",
       "</div>"
      ],
      "text/plain": [
       "    ID  Suc_flag  ARPU  PromCnt12  PromCnt36  PromCntMsg12  PromCntMsg36  \\\n",
       "0   12         1  50.0          6         10             2             3   \n",
       "1   53         0   NaN          5          9             1             4   \n",
       "2   67         1  25.0          6         11             2             4   \n",
       "3   71         1  80.0          7         10             2             4   \n",
       "4  142         1  15.0          6         11             2             4   \n",
       "\n",
       "   Class   Age Gender HomeOwner    AvgARPU  AvgHomeValue  AvgIncome  \n",
       "0      4  57.0      M         H  49.894904         33400      39460  \n",
       "1      3  55.0      M         H  48.574742         37600      33545  \n",
       "2      1  57.0      F         H  49.272646        100400      42091  \n",
       "3      1  52.0      F         H  47.334953         39900      39313  \n",
       "4      1   NaN      F         U  47.827404         47500          0  "
      ]
     },
     "execution_count": 2,
     "metadata": {},
     "output_type": "execute_result"
    }
   ],
   "source": [
    "import pandas as pd\n",
    "\n",
    "# 发现数据问题类型\n",
    "camp = pd.read_csv('./teleco_camp_orig.csv')\n",
    "camp.head()"
   ]
  },
  {
   "cell_type": "code",
   "execution_count": 4,
   "metadata": {
    "scrolled": true
   },
   "outputs": [
    {
     "name": "stderr",
     "output_type": "stream",
     "text": [
      "/Users/liwei/anaconda3/envs/ipykernel_py3/lib/python3.6/site-packages/matplotlib/axes/_axes.py:6521: MatplotlibDeprecationWarning: \n",
      "The 'normed' kwarg was deprecated in Matplotlib 2.1 and will be removed in 3.1. Use 'density' instead.\n",
      "  alternative=\"'density'\", removal=\"3.1\")\n"
     ]
    },
    {
     "data": {
      "image/png": "[encoded data removed]",
      "text/plain": [
       "<Figure size 432x288 with 1 Axes>"
      ]
     },
     "metadata": {
      "image/png": {
       "height": 250,
       "width": 408
      },
      "needs_background": "light"
     },
     "output_type": "display_data"
    }
   ],
   "source": [
    "import matplotlib.pyplot as plt\n",
    "\n",
    "plt.hist(camp['AvgIncome'], bins=20, normed=True)  #查看分布情况\n",
    "plt.show()"
   ]
  },
  {
   "cell_type": "code",
   "execution_count": 5,
   "metadata": {},
   "outputs": [
    {
     "data": {
      "text/plain": [
       "count      9686.000000\n",
       "mean      40491.444249\n",
       "std       28707.494146\n",
       "min           0.000000\n",
       "25%       24464.000000\n",
       "50%       43100.000000\n",
       "75%       56876.000000\n",
       "max      200001.000000\n",
       "Name: AvgIncome, dtype: float64"
      ]
     },
     "execution_count": 5,
     "metadata": {},
     "output_type": "execute_result"
    }
   ],
   "source": [
    "camp['AvgIncome'].describe(include='all')"
   ]
  },
  {
   "cell_type": "code",
   "execution_count": 6,
   "metadata": {},
   "outputs": [
    {
     "name": "stderr",
     "output_type": "stream",
     "text": [
      "/Users/liwei/anaconda3/envs/ipykernel_py3/lib/python3.6/site-packages/matplotlib/axes/_axes.py:6521: MatplotlibDeprecationWarning: \n",
      "The 'normed' kwarg was deprecated in Matplotlib 2.1 and will be removed in 3.1. Use 'density' instead.\n",
      "  alternative=\"'density'\", removal=\"3.1\")\n"
     ]
    },
    {
     "data": {
      "text/plain": [
       "(array([1.41097116e-06, 9.76323216e-06, 8.81340767e-06, 4.28109299e-06,\n",
       "        2.32294033e-06, 1.53141992e-06, 1.11156996e-06, 1.01176956e-06,\n",
       "        6.29774933e-07, 4.43939707e-07, 3.75111845e-07, 4.19849955e-07,\n",
       "        2.30573336e-07, 1.92718012e-07, 1.44538509e-07, 1.23890151e-07,\n",
       "        1.03241792e-07, 8.94762200e-08, 1.06683185e-07, 2.27131943e-07]),\n",
       " array([     0.,  30000.,  60000.,  90000., 120000., 150000., 180000.,\n",
       "        210000., 240000., 270000., 300000., 330000., 360000., 390000.,\n",
       "        420000., 450000., 480000., 510000., 540000., 570000., 600000.]),\n",
       " <a list of 20 Patch objects>)"
      ]
     },
     "execution_count": 6,
     "metadata": {},
     "output_type": "execute_result"
    },
    {
     "data": {
      "image/png": "[encoded data removed]",
      "text/plain": [
       "<Figure size 432x288 with 1 Axes>"
      ]
     },
     "metadata": {
      "image/png": {
       "height": 250,
       "width": 408
      },
      "needs_background": "light"
     },
     "output_type": "display_data"
    }
   ],
   "source": [
    "# 脏数据或数据不正确\n",
    "plt.hist(camp['AvgHomeValue'], bins=20, normed=True)#查看分布情况"
   ]
  },
  {
   "cell_type": "code",
   "execution_count": 7,
   "metadata": {},
   "outputs": [
    {
     "data": {
      "text/plain": [
       "count      9686.000000\n",
       "mean     110986.299814\n",
       "std       98670.855450\n",
       "min           0.000000\n",
       "25%       52300.000000\n",
       "50%       76900.000000\n",
       "75%      128175.000000\n",
       "max      600000.000000\n",
       "Name: AvgHomeValue, dtype: float64"
      ]
     },
     "execution_count": 7,
     "metadata": {},
     "output_type": "execute_result"
    }
   ],
   "source": [
    "camp['AvgHomeValue'].describe(include='all')"
   ]
  },
  {
   "cell_type": "code",
   "execution_count": 8,
   "metadata": {
    "collapsed": true
   },
   "outputs": [],
   "source": [
    "# 这里的0值应该是缺失值\n",
    "camp['AvgIncome'] = camp['AvgIncome'].replace({0: np.NaN})"
   ]
  },
  {
   "cell_type": "code",
   "execution_count": 9,
   "metadata": {},
   "outputs": [
    {
     "name": "stderr",
     "output_type": "stream",
     "text": [
      "/Users/liwei/anaconda3/envs/ipykernel_py3/lib/python3.6/site-packages/matplotlib/axes/_axes.py:6521: MatplotlibDeprecationWarning: \n",
      "The 'normed' kwarg was deprecated in Matplotlib 2.1 and will be removed in 3.1. Use 'density' instead.\n",
      "  alternative=\"'density'\", removal=\"3.1\")\n",
      "/Users/liwei/anaconda3/envs/ipykernel_py3/lib/python3.6/site-packages/numpy/lib/histograms.py:746: RuntimeWarning: invalid value encountered in greater_equal\n",
      "  keep = (tmp_a >= first_edge)\n",
      "/Users/liwei/anaconda3/envs/ipykernel_py3/lib/python3.6/site-packages/numpy/lib/histograms.py:747: RuntimeWarning: invalid value encountered in less_equal\n",
      "  keep &= (tmp_a <= last_edge)\n"
     ]
    },
    {
     "data": {
      "text/plain": [
       "(array([1.38170006e-08, 4.00693017e-07, 6.30055227e-06, 2.41797510e-05,\n",
       "        2.78550732e-05, 1.62349757e-05, 1.16891825e-05, 6.32818627e-06,\n",
       "        3.56478615e-06, 1.58895507e-06, 1.50605306e-06, 4.28327018e-07,\n",
       "        4.55961019e-07, 2.48706011e-07, 6.90850029e-08, 1.79621008e-07,\n",
       "        9.67190041e-08, 9.67190041e-08, 0.00000000e+00, 2.76340012e-08]),\n",
       " array([  2499. ,  12374.1,  22249.2,  32124.3,  41999.4,  51874.5,\n",
       "         61749.6,  71624.7,  81499.8,  91374.9, 101250. , 111125.1,\n",
       "        121000.2, 130875.3, 140750.4, 150625.5, 160500.6, 170375.7,\n",
       "        180250.8, 190125.9, 200001. ]),\n",
       " <a list of 20 Patch objects>)"
      ]
     },
     "execution_count": 9,
     "metadata": {},
     "output_type": "execute_result"
    },
    {
     "data": {
      "image/png": "[encoded data removed]",
      "text/plain": [
       "<Figure size 432x288 with 1 Axes>"
      ]
     },
     "metadata": {
      "image/png": {
       "height": 250,
       "width": 408
      },
      "needs_background": "light"
     },
     "output_type": "display_data"
    }
   ],
   "source": [
    "# 像这种外部获取的数据要比较小心，经常出现意义不清晰或这错误值。AvgHomeValue也有这种情况\n",
    "plt.hist(\n",
    "    camp['AvgIncome'],\n",
    "    bins=20,\n",
    "    normed=True,\n",
    "    range=(camp.AvgIncome.min(), camp.AvgIncome.max()))  #由于数据中存在缺失值,需要指定绘图的值域"
   ]
  },
  {
   "cell_type": "code",
   "execution_count": 10,
   "metadata": {},
   "outputs": [
    {
     "data": {
      "text/plain": [
       "count      7329.000000\n",
       "mean      53513.457361\n",
       "std       19805.168339\n",
       "min        2499.000000\n",
       "25%       40389.000000\n",
       "50%       48699.000000\n",
       "75%       62385.000000\n",
       "max      200001.000000\n",
       "Name: AvgIncome, dtype: float64"
      ]
     },
     "execution_count": 10,
     "metadata": {},
     "output_type": "execute_result"
    }
   ],
   "source": [
    "camp['AvgIncome'].describe(include='all')"
   ]
  },
  {
   "cell_type": "code",
   "execution_count": 11,
   "metadata": {},
   "outputs": [
    {
     "name": "stderr",
     "output_type": "stream",
     "text": [
      "/Users/liwei/anaconda3/envs/ipykernel_py3/lib/python3.6/site-packages/matplotlib/axes/_axes.py:6521: MatplotlibDeprecationWarning: \n",
      "The 'normed' kwarg was deprecated in Matplotlib 2.1 and will be removed in 3.1. Use 'density' instead.\n",
      "  alternative=\"'density'\", removal=\"3.1\")\n",
      "/Users/liwei/anaconda3/envs/ipykernel_py3/lib/python3.6/site-packages/numpy/lib/histograms.py:746: RuntimeWarning: invalid value encountered in greater_equal\n",
      "  keep = (tmp_a >= first_edge)\n",
      "/Users/liwei/anaconda3/envs/ipykernel_py3/lib/python3.6/site-packages/numpy/lib/histograms.py:747: RuntimeWarning: invalid value encountered in less_equal\n",
      "  keep &= (tmp_a <= last_edge)\n"
     ]
    },
    {
     "data": {
      "text/plain": [
       "count      9583.000000\n",
       "mean     112179.202755\n",
       "std       98522.888583\n",
       "min        7500.000000\n",
       "25%       53200.000000\n",
       "50%       77700.000000\n",
       "75%      129350.000000\n",
       "max      600000.000000\n",
       "Name: AvgHomeValue, dtype: float64"
      ]
     },
     "execution_count": 11,
     "metadata": {},
     "output_type": "execute_result"
    },
    {
     "data": {
      "image/png": "[encoded data removed]",
      "text/plain": [
       "<Figure size 432x288 with 1 Axes>"
      ]
     },
     "metadata": {
      "image/png": {
       "height": 250,
       "width": 408
      },
      "needs_background": "light"
     },
     "output_type": "display_data"
    }
   ],
   "source": [
    "camp['AvgHomeValue'] = camp['AvgHomeValue'].replace({0: np.NaN})\n",
    "plt.hist(\n",
    "    camp['AvgHomeValue'],\n",
    "    bins=20,\n",
    "    normed=True,\n",
    "    range=(camp.AvgHomeValue.min(),\n",
    "           camp.AvgHomeValue.max()))  #由于数据中存在缺失值,需要指定绘图的值域\n",
    "camp['AvgHomeValue'].describe(include='all')"
   ]
  },
  {
   "cell_type": "code",
   "execution_count": 13,
   "metadata": {},
   "outputs": [
    {
     "data": {
      "text/plain": [
       "0    False\n",
       "1    False\n",
       "2    False\n",
       "3    False\n",
       "4    False\n",
       "Name: dup, dtype: bool"
      ]
     },
     "execution_count": 13,
     "metadata": {},
     "output_type": "execute_result"
    }
   ],
   "source": [
    "camp['dup'] = camp.duplicated() # 生成重复标识变量\n",
    "camp.dup.head()"
   ]
  },
  {
   "cell_type": "code",
   "execution_count": 14,
   "metadata": {},
   "outputs": [
    {
     "data": {
      "text/html": [
       "<div>\n",
       "<style scoped>\n",
       "    .dataframe tbody tr th:only-of-type {\n",
       "        vertical-align: middle;\n",
       "    }\n",
       "\n",
       "    .dataframe tbody tr th {\n",
       "        vertical-align: top;\n",
       "    }\n",
       "\n",
       "    .dataframe thead th {\n",
       "        text-align: right;\n",
       "    }\n",
       "</style>\n",
       "<table border=\"1\" class=\"dataframe\">\n",
       "  <thead>\n",
       "    <tr style=\"text-align: right;\">\n",
       "      <th></th>\n",
       "      <th>ID</th>\n",
       "      <th>Suc_flag</th>\n",
       "      <th>ARPU</th>\n",
       "      <th>PromCnt12</th>\n",
       "      <th>PromCnt36</th>\n",
       "      <th>PromCntMsg12</th>\n",
       "      <th>PromCntMsg36</th>\n",
       "      <th>Class</th>\n",
       "      <th>Age</th>\n",
       "      <th>Gender</th>\n",
       "      <th>HomeOwner</th>\n",
       "      <th>AvgARPU</th>\n",
       "      <th>AvgHomeValue</th>\n",
       "      <th>AvgIncome</th>\n",
       "      <th>dup</th>\n",
       "    </tr>\n",
       "  </thead>\n",
       "  <tbody>\n",
       "    <tr>\n",
       "      <th>0</th>\n",
       "      <td>12</td>\n",
       "      <td>1</td>\n",
       "      <td>50.0</td>\n",
       "      <td>6</td>\n",
       "      <td>10</td>\n",
       "      <td>2</td>\n",
       "      <td>3</td>\n",
       "      <td>4</td>\n",
       "      <td>57.0</td>\n",
       "      <td>M</td>\n",
       "      <td>H</td>\n",
       "      <td>49.894904</td>\n",
       "      <td>33400.0</td>\n",
       "      <td>39460.0</td>\n",
       "      <td>False</td>\n",
       "    </tr>\n",
       "    <tr>\n",
       "      <th>1</th>\n",
       "      <td>53</td>\n",
       "      <td>0</td>\n",
       "      <td>NaN</td>\n",
       "      <td>5</td>\n",
       "      <td>9</td>\n",
       "      <td>1</td>\n",
       "      <td>4</td>\n",
       "      <td>3</td>\n",
       "      <td>55.0</td>\n",
       "      <td>M</td>\n",
       "      <td>H</td>\n",
       "      <td>48.574742</td>\n",
       "      <td>37600.0</td>\n",
       "      <td>33545.0</td>\n",
       "      <td>False</td>\n",
       "    </tr>\n",
       "    <tr>\n",
       "      <th>2</th>\n",
       "      <td>67</td>\n",
       "      <td>1</td>\n",
       "      <td>25.0</td>\n",
       "      <td>6</td>\n",
       "      <td>11</td>\n",
       "      <td>2</td>\n",
       "      <td>4</td>\n",
       "      <td>1</td>\n",
       "      <td>57.0</td>\n",
       "      <td>F</td>\n",
       "      <td>H</td>\n",
       "      <td>49.272646</td>\n",
       "      <td>100400.0</td>\n",
       "      <td>42091.0</td>\n",
       "      <td>False</td>\n",
       "    </tr>\n",
       "    <tr>\n",
       "      <th>3</th>\n",
       "      <td>71</td>\n",
       "      <td>1</td>\n",
       "      <td>80.0</td>\n",
       "      <td>7</td>\n",
       "      <td>10</td>\n",
       "      <td>2</td>\n",
       "      <td>4</td>\n",
       "      <td>1</td>\n",
       "      <td>52.0</td>\n",
       "      <td>F</td>\n",
       "      <td>H</td>\n",
       "      <td>47.334953</td>\n",
       "      <td>39900.0</td>\n",
       "      <td>39313.0</td>\n",
       "      <td>False</td>\n",
       "    </tr>\n",
       "    <tr>\n",
       "      <th>4</th>\n",
       "      <td>142</td>\n",
       "      <td>1</td>\n",
       "      <td>15.0</td>\n",
       "      <td>6</td>\n",
       "      <td>11</td>\n",
       "      <td>2</td>\n",
       "      <td>4</td>\n",
       "      <td>1</td>\n",
       "      <td>NaN</td>\n",
       "      <td>F</td>\n",
       "      <td>U</td>\n",
       "      <td>47.827404</td>\n",
       "      <td>47500.0</td>\n",
       "      <td>NaN</td>\n",
       "      <td>False</td>\n",
       "    </tr>\n",
       "  </tbody>\n",
       "</table>\n",
       "</div>"
      ],
      "text/plain": [
       "    ID  Suc_flag  ARPU  PromCnt12  PromCnt36  PromCntMsg12  PromCntMsg36  \\\n",
       "0   12         1  50.0          6         10             2             3   \n",
       "1   53         0   NaN          5          9             1             4   \n",
       "2   67         1  25.0          6         11             2             4   \n",
       "3   71         1  80.0          7         10             2             4   \n",
       "4  142         1  15.0          6         11             2             4   \n",
       "\n",
       "   Class   Age Gender HomeOwner    AvgARPU  AvgHomeValue  AvgIncome    dup  \n",
       "0      4  57.0      M         H  49.894904       33400.0    39460.0  False  \n",
       "1      3  55.0      M         H  48.574742       37600.0    33545.0  False  \n",
       "2      1  57.0      F         H  49.272646      100400.0    42091.0  False  \n",
       "3      1  52.0      F         H  47.334953       39900.0    39313.0  False  \n",
       "4      1   NaN      F         U  47.827404       47500.0        NaN  False  "
      ]
     },
     "execution_count": 14,
     "metadata": {},
     "output_type": "execute_result"
    }
   ],
   "source": [
    "# 本数据没有重复记录，此处只是示例\n",
    "camp_dup = camp[camp['dup'] == True] # 把有重复的数据保存出来，以备核查\n",
    "camp_nodup = camp[camp['dup'] == False] # 注意与 camp.drop_duplicates()的区别\n",
    "camp_nodup.head()"
   ]
  },
  {
   "cell_type": "code",
   "execution_count": null,
   "metadata": {
    "collapsed": true
   },
   "outputs": [],
   "source": [
    "camp['dup1'] = camp['ID'].duplicated() # 按照主键进行重复记录标识\n",
    "# accepts['fico_score'].duplicated() # 没有实际意义"
   ]
  },
  {
   "cell_type": "markdown",
   "metadata": {},
   "source": [
    "### 如果 count 数量少于样本量，说明存在缺失"
   ]
  },
  {
   "cell_type": "code",
   "execution_count": 15,
   "metadata": {},
   "outputs": [
    {
     "data": {
      "text/html": [
       "<div>\n",
       "<style scoped>\n",
       "    .dataframe tbody tr th:only-of-type {\n",
       "        vertical-align: middle;\n",
       "    }\n",
       "\n",
       "    .dataframe tbody tr th {\n",
       "        vertical-align: top;\n",
       "    }\n",
       "\n",
       "    .dataframe thead th {\n",
       "        text-align: right;\n",
       "    }\n",
       "</style>\n",
       "<table border=\"1\" class=\"dataframe\">\n",
       "  <thead>\n",
       "    <tr style=\"text-align: right;\">\n",
       "      <th></th>\n",
       "      <th>ID</th>\n",
       "      <th>Suc_flag</th>\n",
       "      <th>ARPU</th>\n",
       "      <th>PromCnt12</th>\n",
       "      <th>PromCnt36</th>\n",
       "      <th>PromCntMsg12</th>\n",
       "      <th>PromCntMsg36</th>\n",
       "      <th>Class</th>\n",
       "      <th>Age</th>\n",
       "      <th>AvgARPU</th>\n",
       "      <th>AvgHomeValue</th>\n",
       "      <th>AvgIncome</th>\n",
       "    </tr>\n",
       "  </thead>\n",
       "  <tbody>\n",
       "    <tr>\n",
       "      <th>count</th>\n",
       "      <td>9686.000000</td>\n",
       "      <td>9686.000000</td>\n",
       "      <td>4843.000000</td>\n",
       "      <td>9686.000000</td>\n",
       "      <td>9686.000000</td>\n",
       "      <td>9686.000000</td>\n",
       "      <td>9686.000000</td>\n",
       "      <td>9686.000000</td>\n",
       "      <td>7279.000000</td>\n",
       "      <td>9686.000000</td>\n",
       "      <td>9583.000000</td>\n",
       "      <td>7329.000000</td>\n",
       "    </tr>\n",
       "    <tr>\n",
       "      <th>mean</th>\n",
       "      <td>97975.474086</td>\n",
       "      <td>0.500000</td>\n",
       "      <td>78.121722</td>\n",
       "      <td>3.495251</td>\n",
       "      <td>7.466963</td>\n",
       "      <td>1.034586</td>\n",
       "      <td>2.323044</td>\n",
       "      <td>2.424530</td>\n",
       "      <td>49.567386</td>\n",
       "      <td>52.905156</td>\n",
       "      <td>112179.202755</td>\n",
       "      <td>53513.457361</td>\n",
       "    </tr>\n",
       "    <tr>\n",
       "      <th>std</th>\n",
       "      <td>56550.171120</td>\n",
       "      <td>0.500026</td>\n",
       "      <td>62.225686</td>\n",
       "      <td>1.270258</td>\n",
       "      <td>1.977909</td>\n",
       "      <td>0.244171</td>\n",
       "      <td>0.904083</td>\n",
       "      <td>1.049047</td>\n",
       "      <td>6.991306</td>\n",
       "      <td>4.993775</td>\n",
       "      <td>98522.888583</td>\n",
       "      <td>19805.168339</td>\n",
       "    </tr>\n",
       "    <tr>\n",
       "      <th>min</th>\n",
       "      <td>12.000000</td>\n",
       "      <td>0.000000</td>\n",
       "      <td>5.000000</td>\n",
       "      <td>1.000000</td>\n",
       "      <td>1.000000</td>\n",
       "      <td>0.000000</td>\n",
       "      <td>0.000000</td>\n",
       "      <td>1.000000</td>\n",
       "      <td>16.000000</td>\n",
       "      <td>46.138968</td>\n",
       "      <td>7500.000000</td>\n",
       "      <td>2499.000000</td>\n",
       "    </tr>\n",
       "    <tr>\n",
       "      <th>25%</th>\n",
       "      <td>48835.500000</td>\n",
       "      <td>0.000000</td>\n",
       "      <td>50.000000</td>\n",
       "      <td>3.000000</td>\n",
       "      <td>6.000000</td>\n",
       "      <td>1.000000</td>\n",
       "      <td>1.000000</td>\n",
       "      <td>2.000000</td>\n",
       "      <td>45.000000</td>\n",
       "      <td>49.760116</td>\n",
       "      <td>53200.000000</td>\n",
       "      <td>40389.000000</td>\n",
       "    </tr>\n",
       "    <tr>\n",
       "      <th>50%</th>\n",
       "      <td>99106.000000</td>\n",
       "      <td>0.500000</td>\n",
       "      <td>65.000000</td>\n",
       "      <td>3.000000</td>\n",
       "      <td>8.000000</td>\n",
       "      <td>1.000000</td>\n",
       "      <td>3.000000</td>\n",
       "      <td>2.000000</td>\n",
       "      <td>50.000000</td>\n",
       "      <td>50.876672</td>\n",
       "      <td>77700.000000</td>\n",
       "      <td>48699.000000</td>\n",
       "    </tr>\n",
       "    <tr>\n",
       "      <th>75%</th>\n",
       "      <td>148538.750000</td>\n",
       "      <td>1.000000</td>\n",
       "      <td>100.000000</td>\n",
       "      <td>4.000000</td>\n",
       "      <td>8.000000</td>\n",
       "      <td>1.000000</td>\n",
       "      <td>3.000000</td>\n",
       "      <td>3.000000</td>\n",
       "      <td>55.000000</td>\n",
       "      <td>54.452822</td>\n",
       "      <td>129350.000000</td>\n",
       "      <td>62385.000000</td>\n",
       "    </tr>\n",
       "    <tr>\n",
       "      <th>max</th>\n",
       "      <td>191779.000000</td>\n",
       "      <td>1.000000</td>\n",
       "      <td>1000.000000</td>\n",
       "      <td>15.000000</td>\n",
       "      <td>20.000000</td>\n",
       "      <td>4.000000</td>\n",
       "      <td>6.000000</td>\n",
       "      <td>4.000000</td>\n",
       "      <td>60.000000</td>\n",
       "      <td>99.444787</td>\n",
       "      <td>600000.000000</td>\n",
       "      <td>200001.000000</td>\n",
       "    </tr>\n",
       "  </tbody>\n",
       "</table>\n",
       "</div>"
      ],
      "text/plain": [
       "                  ID     Suc_flag         ARPU    PromCnt12    PromCnt36  \\\n",
       "count    9686.000000  9686.000000  4843.000000  9686.000000  9686.000000   \n",
       "mean    97975.474086     0.500000    78.121722     3.495251     7.466963   \n",
       "std     56550.171120     0.500026    62.225686     1.270258     1.977909   \n",
       "min        12.000000     0.000000     5.000000     1.000000     1.000000   \n",
       "25%     48835.500000     0.000000    50.000000     3.000000     6.000000   \n",
       "50%     99106.000000     0.500000    65.000000     3.000000     8.000000   \n",
       "75%    148538.750000     1.000000   100.000000     4.000000     8.000000   \n",
       "max    191779.000000     1.000000  1000.000000    15.000000    20.000000   \n",
       "\n",
       "       PromCntMsg12  PromCntMsg36        Class          Age      AvgARPU  \\\n",
       "count   9686.000000   9686.000000  9686.000000  7279.000000  9686.000000   \n",
       "mean       1.034586      2.323044     2.424530    49.567386    52.905156   \n",
       "std        0.244171      0.904083     1.049047     6.991306     4.993775   \n",
       "min        0.000000      0.000000     1.000000    16.000000    46.138968   \n",
       "25%        1.000000      1.000000     2.000000    45.000000    49.760116   \n",
       "50%        1.000000      3.000000     2.000000    50.000000    50.876672   \n",
       "75%        1.000000      3.000000     3.000000    55.000000    54.452822   \n",
       "max        4.000000      6.000000     4.000000    60.000000    99.444787   \n",
       "\n",
       "        AvgHomeValue      AvgIncome  \n",
       "count    9583.000000    7329.000000  \n",
       "mean   112179.202755   53513.457361  \n",
       "std     98522.888583   19805.168339  \n",
       "min      7500.000000    2499.000000  \n",
       "25%     53200.000000   40389.000000  \n",
       "50%     77700.000000   48699.000000  \n",
       "75%    129350.000000   62385.000000  \n",
       "max    600000.000000  200001.000000  "
      ]
     },
     "execution_count": 15,
     "metadata": {},
     "output_type": "execute_result"
    }
   ],
   "source": [
    "# 缺失值处理\n",
    "\n",
    "\n",
    "camp.describe()"
   ]
  },
  {
   "cell_type": "markdown",
   "metadata": {},
   "source": [
    "可以看出，缺失最多的两个变量是 Age 和 AvgIncome，缺失了大概 $20\\%$。"
   ]
  },
  {
   "cell_type": "code",
   "execution_count": 16,
   "metadata": {},
   "outputs": [
    {
     "data": {
      "text/plain": [
       "count    9686.000000\n",
       "mean       49.567386\n",
       "std         6.060585\n",
       "min        16.000000\n",
       "25%        47.000000\n",
       "50%        49.567386\n",
       "75%        54.000000\n",
       "max        60.000000\n",
       "Name: Age, dtype: float64"
      ]
     },
     "execution_count": 16,
     "metadata": {},
     "output_type": "execute_result"
    }
   ],
   "source": [
    "import numpy as np\n",
    "\n",
    "vmean = camp['Age'].mean(axis=0, skipna=True)\n",
    "camp['Age_empflag'] = camp['Age'].isnull()\n",
    "camp['Age'] = camp['Age'].fillna(vmean)\n",
    "camp['Age'].describe()"
   ]
  },
  {
   "cell_type": "code",
   "execution_count": 17,
   "metadata": {},
   "outputs": [
    {
     "data": {
      "text/plain": [
       "count      9686.000000\n",
       "mean     112179.202755\n",
       "std       97997.592632\n",
       "min        7500.000000\n",
       "25%       53500.000000\n",
       "50%       78450.000000\n",
       "75%      128175.000000\n",
       "max      600000.000000\n",
       "Name: AvgHomeValue, dtype: float64"
      ]
     },
     "execution_count": 17,
     "metadata": {},
     "output_type": "execute_result"
    }
   ],
   "source": [
    "vmean = camp['AvgHomeValue'].mean(axis=0, skipna=True)\n",
    "camp['AvgHomeValue_empflag'] = camp['AvgHomeValue'].isnull()\n",
    "camp['AvgHomeValue'] = camp['AvgHomeValue'].fillna(vmean)\n",
    "camp['AvgHomeValue'].describe()"
   ]
  },
  {
   "cell_type": "code",
   "execution_count": 18,
   "metadata": {},
   "outputs": [
    {
     "data": {
      "text/plain": [
       "count      9686.000000\n",
       "mean      53513.457361\n",
       "std       17227.468161\n",
       "min        2499.000000\n",
       "25%       42775.000000\n",
       "50%       53513.457361\n",
       "75%       56876.000000\n",
       "max      200001.000000\n",
       "Name: AvgIncome, dtype: float64"
      ]
     },
     "execution_count": 18,
     "metadata": {},
     "output_type": "execute_result"
    }
   ],
   "source": [
    "vmean = camp['AvgIncome'].mean(axis=0, skipna=True)\n",
    "camp['AvgIncome_empflag'] = camp['AvgIncome'].isnull()\n",
    "camp['AvgIncome'] = camp['AvgIncome'].fillna(vmean)\n",
    "camp['AvgIncome'].describe()"
   ]
  },
  {
   "cell_type": "code",
   "execution_count": null,
   "metadata": {
    "collapsed": true
   },
   "outputs": [],
   "source": [
    "# - 其他有缺失变量请自行填补，找到一个有缺失的分类变量，使用众数进行填补\n",
    "# - 多重插补：sklearn.preprocessing.Imputer 仅可用于填补均值、中位数、众数，多重插补可考虑使用 Orange、impute、Theano 等包\n",
    "# - 多重插补的处理有两个要点：1、被解释变量有缺失值的观测不能填补，只能删除；2、只对放入模型的解释变量进行插补。\n",
    "\n",
    "# * 噪声值处理\n",
    "# - 盖帽法\n",
    "\n",
    "# In[ ]:\n",
    "\n",
    "def blk(floor, root): # 'blk' will return a function\n",
    "    def f(x):       \n",
    "        if x < floor:\n",
    "            x = floor\n",
    "        elif x > root:\n",
    "            x = root\n",
    "        return x\n",
    "    return f\n",
    "\n",
    "q1 = camp['Age'].quantile(0.01) # 计算百分位数\n",
    "q99 = camp['Age'].quantile(0.99)\n",
    "blk_tot = blk(floor=q1, root=q99) # 'blk_tot' is a function\n",
    "camp['Age']= camp['Age'].map(blk_tot)\n",
    "camp['Age'].describe()\n"
   ]
  },
  {
   "cell_type": "markdown",
   "metadata": {},
   "source": [
    "## 分箱（等深，等宽）\n",
    "\n",
    "分箱法：等宽分箱"
   ]
  },
  {
   "cell_type": "code",
   "execution_count": 19,
   "metadata": {},
   "outputs": [
    {
     "data": {
      "text/plain": [
       "0         (54.0, 60.0]\n",
       "1         (54.0, 60.0]\n",
       "2         (54.0, 60.0]\n",
       "3       (49.567, 54.0]\n",
       "4       (47.0, 49.567]\n",
       "5         (54.0, 60.0]\n",
       "6       (47.0, 49.567]\n",
       "7       (49.567, 54.0]\n",
       "8       (15.999, 47.0]\n",
       "9         (54.0, 60.0]\n",
       "10      (47.0, 49.567]\n",
       "11        (54.0, 60.0]\n",
       "12      (15.999, 47.0]\n",
       "13      (15.999, 47.0]\n",
       "14      (15.999, 47.0]\n",
       "15      (49.567, 54.0]\n",
       "16      (49.567, 54.0]\n",
       "17        (54.0, 60.0]\n",
       "18      (47.0, 49.567]\n",
       "19      (47.0, 49.567]\n",
       "20        (54.0, 60.0]\n",
       "21      (49.567, 54.0]\n",
       "22      (47.0, 49.567]\n",
       "23      (47.0, 49.567]\n",
       "24        (54.0, 60.0]\n",
       "25        (54.0, 60.0]\n",
       "26      (49.567, 54.0]\n",
       "27        (54.0, 60.0]\n",
       "28      (47.0, 49.567]\n",
       "29      (49.567, 54.0]\n",
       "             ...      \n",
       "9656    (15.999, 47.0]\n",
       "9657    (15.999, 47.0]\n",
       "9658      (54.0, 60.0]\n",
       "9659      (54.0, 60.0]\n",
       "9660    (49.567, 54.0]\n",
       "9661    (49.567, 54.0]\n",
       "9662    (47.0, 49.567]\n",
       "9663    (47.0, 49.567]\n",
       "9664      (54.0, 60.0]\n",
       "9665    (15.999, 47.0]\n",
       "9666      (54.0, 60.0]\n",
       "9667    (47.0, 49.567]\n",
       "9668    (47.0, 49.567]\n",
       "9669    (47.0, 49.567]\n",
       "9670    (47.0, 49.567]\n",
       "9671    (15.999, 47.0]\n",
       "9672    (15.999, 47.0]\n",
       "9673    (47.0, 49.567]\n",
       "9674      (54.0, 60.0]\n",
       "9675      (54.0, 60.0]\n",
       "9676      (54.0, 60.0]\n",
       "9677    (15.999, 47.0]\n",
       "9678    (47.0, 49.567]\n",
       "9679    (47.0, 49.567]\n",
       "9680    (49.567, 54.0]\n",
       "9681      (54.0, 60.0]\n",
       "9682      (54.0, 60.0]\n",
       "9683    (49.567, 54.0]\n",
       "9684      (54.0, 60.0]\n",
       "9685    (49.567, 54.0]\n",
       "Name: Age_group1, Length: 9686, dtype: category\n",
       "Categories (4, interval[float64]): [(15.999, 47.0] < (47.0, 49.567] < (49.567, 54.0] < (54.0, 60.0]]"
      ]
     },
     "execution_count": 19,
     "metadata": {},
     "output_type": "execute_result"
    }
   ],
   "source": [
    "camp['Age_group1'] = pd.qcut( camp['Age'], 4) # 这里 以age_oldest_tr 字段等宽分为 4 段\n",
    "camp['Age_group1']"
   ]
  },
  {
   "cell_type": "code",
   "execution_count": 20,
   "metadata": {},
   "outputs": [
    {
     "data": {
      "text/plain": [
       "0      (54.0, 60.0]\n",
       "1      (54.0, 60.0]\n",
       "2      (54.0, 60.0]\n",
       "3    (49.567, 54.0]\n",
       "4    (47.0, 49.567]\n",
       "Name: Age_group1, dtype: category\n",
       "Categories (4, interval[float64]): [(15.999, 47.0] < (47.0, 49.567] < (49.567, 54.0] < (54.0, 60.0]]"
      ]
     },
     "execution_count": 20,
     "metadata": {},
     "output_type": "execute_result"
    }
   ],
   "source": [
    "camp.Age_group1.head()"
   ]
  },
  {
   "cell_type": "markdown",
   "metadata": {},
   "source": [
    "## 分箱法——等深分箱"
   ]
  },
  {
   "cell_type": "code",
   "execution_count": 21,
   "metadata": {},
   "outputs": [
    {
     "data": {
      "text/plain": [
       "0    (49.0, 60.0]\n",
       "1    (49.0, 60.0]\n",
       "2    (49.0, 60.0]\n",
       "3    (49.0, 60.0]\n",
       "4    (49.0, 60.0]\n",
       "Name: Age_group2, dtype: category\n",
       "Categories (4, interval[float64]): [(15.956, 27.0] < (27.0, 38.0] < (38.0, 49.0] < (49.0, 60.0]]"
      ]
     },
     "execution_count": 21,
     "metadata": {},
     "output_type": "execute_result"
    }
   ],
   "source": [
    "camp['Age_group2'] = pd.cut( camp['Age'], 4) # 这里以 age_oldest_tr 字段等宽分为 4 段\n",
    "camp.Age_group2.head()"
   ]
  },
  {
   "cell_type": "code",
   "execution_count": null,
   "metadata": {
    "collapsed": true
   },
   "outputs": [],
   "source": [
    "# camp.to_csv('tele_camp_ok.csv')"
   ]
  }
 ],
 "metadata": {
  "kernelspec": {
   "display_name": "Python 3",
   "language": "python",
   "name": "python3"
  },
  "language_info": {
   "codemirror_mode": {
    "name": "ipython",
    "version": 3
   },
   "file_extension": ".py",
   "mimetype": "text/x-python",
   "name": "python",
   "nbconvert_exporter": "python",
   "pygments_lexer": "ipython3",
   "version": "3.6.1"
  },
  "toc": {
   "nav_menu": {},
   "number_sections": true,
   "sideBar": true,
   "skip_h1_title": false,
   "toc_cell": false,
   "toc_position": {},
   "toc_section_display": "block",
   "toc_window_display": false
  }
 },
 "nbformat": 4,
 "nbformat_minor": 2
}
