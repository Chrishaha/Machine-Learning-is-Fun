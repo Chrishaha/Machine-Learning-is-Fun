{
 "cells": [
  {
   "cell_type": "markdown",
   "metadata": {},
   "source": [
    "# 把字典列表转换成特征向量 DictVectorizer"
   ]
  },
  {
   "cell_type": "markdown",
   "metadata": {},
   "source": [
    "## 加载字典中的特征"
   ]
  },
  {
   "cell_type": "code",
   "execution_count": 5,
   "metadata": {
    "collapsed": true
   },
   "outputs": [],
   "source": [
    "measurements = [\n",
    "    {\n",
    "        'city': 'Dubai',\n",
    "        'temperature': 33.\n",
    "    },\n",
    "    {\n",
    "        'city': 'London',\n",
    "        'temperature': 12.\n",
    "    },\n",
    "    {\n",
    "        'city': 'San Fransisco',\n",
    "        'temperature': 18.\n",
    "    },\n",
    "]"
   ]
  },
  {
   "cell_type": "code",
   "execution_count": 6,
   "metadata": {},
   "outputs": [
    {
     "data": {
      "text/html": [
       "<div>\n",
       "<style scoped>\n",
       "    .dataframe tbody tr th:only-of-type {\n",
       "        vertical-align: middle;\n",
       "    }\n",
       "\n",
       "    .dataframe tbody tr th {\n",
       "        vertical-align: top;\n",
       "    }\n",
       "\n",
       "    .dataframe thead th {\n",
       "        text-align: right;\n",
       "    }\n",
       "</style>\n",
       "<table border=\"1\" class=\"dataframe\">\n",
       "  <thead>\n",
       "    <tr style=\"text-align: right;\">\n",
       "      <th></th>\n",
       "      <th>city</th>\n",
       "      <th>temperature</th>\n",
       "    </tr>\n",
       "  </thead>\n",
       "  <tbody>\n",
       "    <tr>\n",
       "      <th>0</th>\n",
       "      <td>Dubai</td>\n",
       "      <td>33.0</td>\n",
       "    </tr>\n",
       "    <tr>\n",
       "      <th>1</th>\n",
       "      <td>London</td>\n",
       "      <td>12.0</td>\n",
       "    </tr>\n",
       "    <tr>\n",
       "      <th>2</th>\n",
       "      <td>San Fransisco</td>\n",
       "      <td>18.0</td>\n",
       "    </tr>\n",
       "  </tbody>\n",
       "</table>\n",
       "</div>"
      ],
      "text/plain": [
       "            city  temperature\n",
       "0          Dubai         33.0\n",
       "1         London         12.0\n",
       "2  San Fransisco         18.0"
      ]
     },
     "execution_count": 6,
     "metadata": {},
     "output_type": "execute_result"
    }
   ],
   "source": [
    "pd.DataFrame(measurements)"
   ]
  },
  {
   "cell_type": "markdown",
   "metadata": {},
   "source": [
    "### 直接把字典对象传给 DictVectorizer 就可以"
   ]
  },
  {
   "cell_type": "code",
   "execution_count": 8,
   "metadata": {
    "collapsed": true
   },
   "outputs": [],
   "source": [
    "from sklearn.feature_extraction import DictVectorizer\n",
    "\n",
    "vec = DictVectorizer()"
   ]
  },
  {
   "cell_type": "code",
   "execution_count": 9,
   "metadata": {},
   "outputs": [
    {
     "data": {
      "text/plain": [
       "array([[ 1.,  0.,  0., 33.],\n",
       "       [ 0.,  1.,  0., 12.],\n",
       "       [ 0.,  0.,  1., 18.]])"
      ]
     },
     "execution_count": 9,
     "metadata": {},
     "output_type": "execute_result"
    }
   ],
   "source": [
    "vec.fit_transform(measurements).toarray()"
   ]
  },
  {
   "cell_type": "code",
   "execution_count": 10,
   "metadata": {},
   "outputs": [
    {
     "data": {
      "text/plain": [
       "['city=Dubai', 'city=London', 'city=San Fransisco', 'temperature']"
      ]
     },
     "execution_count": 10,
     "metadata": {},
     "output_type": "execute_result"
    }
   ],
   "source": [
    "vec.get_feature_names()"
   ]
  },
  {
   "cell_type": "code",
   "execution_count": 11,
   "metadata": {
    "collapsed": true
   },
   "outputs": [],
   "source": [
    "from sklearn.feature_extraction import DictVectorizer\n",
    "\n",
    "# sparse=False 的意思是不产生稀疏矩阵\n",
    "vec = DictVectorizer(sparse=False)\n",
    "X = vec.fit_transform(measurements)"
   ]
  },
  {
   "cell_type": "code",
   "execution_count": 12,
   "metadata": {},
   "outputs": [
    {
     "data": {
      "text/plain": [
       "[[1.0, 0.0, 0.0, 33.0], [0.0, 1.0, 0.0, 12.0], [0.0, 0.0, 1.0, 18.0]]"
      ]
     },
     "execution_count": 12,
     "metadata": {},
     "output_type": "execute_result"
    }
   ],
   "source": [
    "X.tolist()"
   ]
  },
  {
   "cell_type": "code",
   "execution_count": 13,
   "metadata": {},
   "outputs": [
    {
     "data": {
      "text/plain": [
       "['city=Dubai', 'city=London', 'city=San Fransisco', 'temperature']"
      ]
     },
     "execution_count": 13,
     "metadata": {},
     "output_type": "execute_result"
    }
   ],
   "source": [
    "vec.get_feature_names()"
   ]
  },
  {
   "cell_type": "markdown",
   "metadata": {},
   "source": [
    "### 把向量恢复成原始的字典列表"
   ]
  },
  {
   "cell_type": "code",
   "execution_count": 14,
   "metadata": {},
   "outputs": [
    {
     "data": {
      "text/plain": [
       "[{'city=Dubai': 1.0, 'temperature': 33.0},\n",
       " {'city=London': 1.0, 'temperature': 12.0},\n",
       " {'city=San Fransisco': 1.0, 'temperature': 18.0}]"
      ]
     },
     "execution_count": 14,
     "metadata": {},
     "output_type": "execute_result"
    }
   ],
   "source": [
    "vec.inverse_transform(X)"
   ]
  },
  {
   "cell_type": "code",
   "execution_count": 15,
   "metadata": {},
   "outputs": [
    {
     "data": {
      "text/plain": [
       "{'dtype': numpy.float64, 'separator': '=', 'sort': True, 'sparse': False}"
      ]
     },
     "execution_count": 15,
     "metadata": {},
     "output_type": "execute_result"
    }
   ],
   "source": [
    "vec.get_params(deep=True)"
   ]
  },
  {
   "cell_type": "markdown",
   "metadata": {},
   "source": [
    "## 案例：20 类新闻文本分类"
   ]
  },
  {
   "cell_type": "markdown",
   "metadata": {},
   "source": [
    "### 例1：使用词频统计，没有去掉停用词"
   ]
  },
  {
   "cell_type": "code",
   "execution_count": 16,
   "metadata": {
    "collapsed": true
   },
   "outputs": [],
   "source": [
    "from sklearn.datasets import fetch_20newsgroups\n",
    "\n",
    "news = fetch_20newsgroups(subset='all')\n",
    "X = news.data # 是一个列表，列表的元素是字符串\n",
    "y = news.target"
   ]
  },
  {
   "cell_type": "code",
   "execution_count": 19,
   "metadata": {},
   "outputs": [
    {
     "data": {
      "text/plain": [
       "list"
      ]
     },
     "execution_count": 19,
     "metadata": {},
     "output_type": "execute_result"
    }
   ],
   "source": [
    "type(X)"
   ]
  },
  {
   "cell_type": "code",
   "execution_count": 20,
   "metadata": {},
   "outputs": [
    {
     "data": {
      "text/plain": [
       "str"
      ]
     },
     "execution_count": 20,
     "metadata": {},
     "output_type": "execute_result"
    }
   ],
   "source": [
    "type(X[0])"
   ]
  },
  {
   "cell_type": "code",
   "execution_count": 17,
   "metadata": {
    "collapsed": true
   },
   "outputs": [],
   "source": [
    "from sklearn.model_selection import train_test_split\n",
    "\n",
    "X_train, X_test, y_train, y_test = train_test_split(\n",
    "    X, y, test_size=0.2, random_state=666)"
   ]
  },
  {
   "cell_type": "markdown",
   "metadata": {},
   "source": [
    "### 只有词频统计"
   ]
  },
  {
   "cell_type": "code",
   "execution_count": 21,
   "metadata": {
    "collapsed": true
   },
   "outputs": [],
   "source": [
    "from sklearn.feature_extraction.text import CountVectorizer\n",
    "\n",
    "count_vec = CountVectorizer()\n",
    "X_count_train = count_vec.fit_transform(X_train)\n",
    "X_count_test = count_vec.transform(X_test)"
   ]
  },
  {
   "cell_type": "markdown",
   "metadata": {},
   "source": [
    "## 使用逻辑回归，训练效果还不错"
   ]
  },
  {
   "cell_type": "code",
   "execution_count": 25,
   "metadata": {},
   "outputs": [
    {
     "data": {
      "text/plain": [
       "0.8976127320954908"
      ]
     },
     "execution_count": 25,
     "metadata": {},
     "output_type": "execute_result"
    }
   ],
   "source": [
    "from sklearn.linear_model import LogisticRegression\n",
    "\n",
    "lr = LogisticRegression()\n",
    "lr.fit(X_count_train, y_train)\n",
    "y_count_predict_lr = lr.predict(X_count_test)\n",
    "lr.score(X_count_test, y_test)"
   ]
  },
  {
   "cell_type": "markdown",
   "metadata": {},
   "source": [
    "### 朴素贝叶斯分类器"
   ]
  },
  {
   "cell_type": "code",
   "execution_count": 23,
   "metadata": {},
   "outputs": [
    {
     "name": "stdout",
     "output_type": "stream",
     "text": [
      "0.8403183023872679\n"
     ]
    }
   ],
   "source": [
    "from sklearn.naive_bayes import MultinomialNB\n",
    "\n",
    "mnb_count = MultinomialNB()\n",
    "mnb_count.fit(X_count_train, y_train)\n",
    "y_count_predict = mnb_count.predict(X_count_test)\n",
    "score = mnb_count.score(X_count_test, y_test)\n",
    "print(score)"
   ]
  },
  {
   "cell_type": "markdown",
   "metadata": {},
   "source": [
    "### 查看更详细的分类报告"
   ]
  },
  {
   "cell_type": "code",
   "execution_count": 24,
   "metadata": {},
   "outputs": [
    {
     "name": "stdout",
     "output_type": "stream",
     "text": [
      "                          precision    recall  f1-score   support\n",
      "\n",
      "             alt.atheism       0.89      0.86      0.87       180\n",
      "           comp.graphics       0.69      0.87      0.77       203\n",
      " comp.os.ms-windows.misc       1.00      0.09      0.16       196\n",
      "comp.sys.ibm.pc.hardware       0.63      0.84      0.72       182\n",
      "   comp.sys.mac.hardware       0.87      0.85      0.86       194\n",
      "          comp.windows.x       0.68      0.89      0.77       201\n",
      "            misc.forsale       0.89      0.72      0.79       176\n",
      "               rec.autos       0.93      0.91      0.92       217\n",
      "         rec.motorcycles       0.96      0.93      0.95       198\n",
      "      rec.sport.baseball       0.97      0.94      0.95       177\n",
      "        rec.sport.hockey       0.97      0.98      0.97       183\n",
      "               sci.crypt       0.87      0.98      0.92       209\n",
      "         sci.electronics       0.86      0.77      0.81       219\n",
      "                 sci.med       0.93      0.94      0.93       199\n",
      "               sci.space       0.87      0.94      0.90       211\n",
      "  soc.religion.christian       0.74      0.98      0.84       174\n",
      "      talk.politics.guns       0.86      0.93      0.89       192\n",
      "   talk.politics.mideast       0.89      0.98      0.94       177\n",
      "      talk.politics.misc       0.78      0.88      0.83       155\n",
      "      talk.religion.misc       0.93      0.44      0.60       127\n",
      "\n",
      "             avg / total       0.86      0.84      0.82      3770\n",
      "\n"
     ]
    }
   ],
   "source": [
    "from sklearn.metrics import classification_report\n",
    "\n",
    "print(classification_report(y_test, y_count_predict, target_names=news.target_names))"
   ]
  },
  {
   "cell_type": "markdown",
   "metadata": {},
   "source": [
    "## 例2：使用 tfidf 统计，没有去掉停用词"
   ]
  },
  {
   "cell_type": "code",
   "execution_count": 93,
   "metadata": {},
   "outputs": [
    {
     "name": "stdout",
     "output_type": "stream",
     "text": [
      "                          precision    recall  f1-score   support\n",
      "\n",
      "             alt.atheism       0.88      0.63      0.73       180\n",
      "           comp.graphics       0.88      0.75      0.81       203\n",
      " comp.os.ms-windows.misc       0.86      0.88      0.87       196\n",
      "comp.sys.ibm.pc.hardware       0.73      0.85      0.78       182\n",
      "   comp.sys.mac.hardware       0.92      0.84      0.87       194\n",
      "          comp.windows.x       0.93      0.84      0.88       201\n",
      "            misc.forsale       0.89      0.72      0.80       176\n",
      "               rec.autos       0.94      0.92      0.93       217\n",
      "         rec.motorcycles       0.93      0.96      0.94       198\n",
      "      rec.sport.baseball       0.93      0.97      0.95       177\n",
      "        rec.sport.hockey       0.94      0.99      0.97       183\n",
      "               sci.crypt       0.83      1.00      0.90       209\n",
      "         sci.electronics       0.89      0.73      0.80       219\n",
      "                 sci.med       0.92      0.91      0.92       199\n",
      "               sci.space       0.89      0.95      0.92       211\n",
      "  soc.religion.christian       0.46      0.99      0.63       174\n",
      "      talk.politics.guns       0.78      0.94      0.85       192\n",
      "   talk.politics.mideast       0.92      0.99      0.95       177\n",
      "      talk.politics.misc       0.98      0.54      0.70       155\n",
      "      talk.religion.misc       1.00      0.21      0.35       127\n",
      "\n",
      "             avg / total       0.87      0.84      0.84      3770\n",
      "\n"
     ]
    }
   ],
   "source": [
    "from sklearn.datasets import fetch_20newsgroups\n",
    "from sklearn.model_selection import train_test_split\n",
    "from sklearn.feature_extraction.text import TfidfVectorizer\n",
    "from sklearn.naive_bayes import MultinomialNB\n",
    "from sklearn.metrics import classification_report\n",
    "\n",
    "news = fetch_20newsgroups(subset='all')\n",
    "\n",
    "X = news.data\n",
    "y = news.target\n",
    "\n",
    "X_train, X_test, y_train, y_test = train_test_split(X, y, test_size=.2, random_state=666)\n",
    "\n",
    "tfidf = TfidfVectorizer()\n",
    "X_tfidf_train = tfidf.fit_transform(X_train)\n",
    "X_tfidf_test = tfidf.transform(X_test)\n",
    "\n",
    "mnb_clf = MultinomialNB()\n",
    "mnb_clf.fit(X_tfidf_train, y_train)\n",
    "y_tfidf_predict = mnb_clf.predict(X_tfidf_test)\n",
    "\n",
    "print(classification_report(y_test, y_tfidf_predict, target_names=news.target_names))"
   ]
  },
  {
   "cell_type": "code",
   "execution_count": 95,
   "metadata": {},
   "outputs": [
    {
     "data": {
      "text/plain": [
       "0.843236074270557"
      ]
     },
     "execution_count": 95,
     "metadata": {},
     "output_type": "execute_result"
    }
   ],
   "source": [
    "mnb_clf.score(X_tfidf_test, y_test)"
   ]
  },
  {
   "cell_type": "markdown",
   "metadata": {},
   "source": [
    "from sklearn.feature_extraction.text import CountVectorizer\n",
    "\n",
    "from sklearn.datasets import fetch_20newsgroups\n",
    "from sklearn.model_selection import train_test_split\n",
    "\n",
    "news = fetch_20newsgroups(subset='all')\n",
    "\n",
    "X = news.data\n",
    "y = news.target\n",
    "\n",
    "X_train, X_test, y_train, y_test = train_test_split(X, y, test_size=.2, random_state=666)"
   ]
  },
  {
   "cell_type": "code",
   "execution_count": 21,
   "metadata": {
    "collapsed": true
   },
   "outputs": [],
   "source": [
    "from sklearn.feature_extraction.text import CountVectorizer\n",
    "\n",
    "from sklearn.datasets import fetch_20newsgroups\n",
    "from sklearn.model_selection import train_test_split\n",
    "\n",
    "news = fetch_20newsgroups(subset='all')\n",
    "\n",
    "X = news.data\n",
    "y = news.target\n",
    "\n",
    "X_train, X_test, y_train, y_test = train_test_split(X, y, test_size=.2, random_state=666)"
   ]
  },
  {
   "cell_type": "code",
   "execution_count": 22,
   "metadata": {},
   "outputs": [
    {
     "name": "stdout",
     "output_type": "stream",
     "text": [
      "0.8655172413793103\n"
     ]
    }
   ],
   "source": [
    "count_filter_vec = CountVectorizer(analyzer='word', stop_words='english')\n",
    "\n",
    "X_count_train = count_filter_vec.fit_transform(X_train)\n",
    "X_count_test = count_filter_vec.transform(X_test)\n",
    "\n",
    "\n",
    "from sklearn.naive_bayes import MultinomialNB\n",
    "mnb_count_clf = MultinomialNB()\n",
    "\n",
    "mnb_count_clf.fit(X_count_train, y_train)\n",
    "y_count_predict = mnb_count_clf.predict(X_count_test)\n",
    "\n",
    "score = mnb_count_clf.score(X_count_test, y_test)\n",
    "print(score)"
   ]
  },
  {
   "cell_type": "code",
   "execution_count": 99,
   "metadata": {},
   "outputs": [
    {
     "name": "stdout",
     "output_type": "stream",
     "text": [
      "                          precision    recall  f1-score   support\n",
      "\n",
      "             alt.atheism       0.90      0.93      0.92       180\n",
      "           comp.graphics       0.71      0.87      0.78       203\n",
      " comp.os.ms-windows.misc       1.00      0.20      0.33       196\n",
      "comp.sys.ibm.pc.hardware       0.65      0.83      0.73       182\n",
      "   comp.sys.mac.hardware       0.83      0.86      0.84       194\n",
      "          comp.windows.x       0.70      0.90      0.79       201\n",
      "            misc.forsale       0.86      0.77      0.81       176\n",
      "               rec.autos       0.94      0.91      0.92       217\n",
      "         rec.motorcycles       0.95      0.96      0.96       198\n",
      "      rec.sport.baseball       0.97      0.95      0.96       177\n",
      "        rec.sport.hockey       0.96      0.98      0.97       183\n",
      "               sci.crypt       0.91      0.98      0.94       209\n",
      "         sci.electronics       0.89      0.84      0.87       219\n",
      "                 sci.med       0.94      0.96      0.95       199\n",
      "               sci.space       0.91      0.96      0.93       211\n",
      "  soc.religion.christian       0.86      0.97      0.91       174\n",
      "      talk.politics.guns       0.85      0.95      0.90       192\n",
      "   talk.politics.mideast       0.94      0.98      0.96       177\n",
      "      talk.politics.misc       0.88      0.86      0.87       155\n",
      "      talk.religion.misc       0.93      0.54      0.69       127\n",
      "\n",
      "             avg / total       0.88      0.87      0.85      3770\n",
      "\n"
     ]
    }
   ],
   "source": [
    "from sklearn.metrics import classification_report\n",
    "\n",
    "print(classification_report(y_test, y_count_predict, target_names=news.target_names))"
   ]
  },
  {
   "cell_type": "markdown",
   "metadata": {},
   "source": [
    "## 例4：使用 tfidf 统计，去掉停用词"
   ]
  },
  {
   "cell_type": "code",
   "execution_count": 100,
   "metadata": {
    "collapsed": true
   },
   "outputs": [],
   "source": [
    "from sklearn.feature_extraction.text import CountVectorizer\n",
    "\n",
    "from sklearn.datasets import fetch_20newsgroups\n",
    "from sklearn.model_selection import train_test_split\n",
    "\n",
    "news = fetch_20newsgroups(subset='all')\n",
    "\n",
    "X = news.data\n",
    "y = news.target\n",
    "\n",
    "X_train, X_test, y_train, y_test = train_test_split(X, y, test_size=.2, random_state=666)"
   ]
  },
  {
   "cell_type": "code",
   "execution_count": 101,
   "metadata": {},
   "outputs": [
    {
     "name": "stdout",
     "output_type": "stream",
     "text": [
      "                          precision    recall  f1-score   support\n",
      "\n",
      "             alt.atheism       0.90      0.79      0.84       180\n",
      "           comp.graphics       0.85      0.82      0.84       203\n",
      " comp.os.ms-windows.misc       0.87      0.90      0.89       196\n",
      "comp.sys.ibm.pc.hardware       0.77      0.85      0.81       182\n",
      "   comp.sys.mac.hardware       0.91      0.85      0.88       194\n",
      "          comp.windows.x       0.92      0.88      0.90       201\n",
      "            misc.forsale       0.84      0.81      0.82       176\n",
      "               rec.autos       0.94      0.92      0.93       217\n",
      "         rec.motorcycles       0.92      0.97      0.95       198\n",
      "      rec.sport.baseball       0.95      0.97      0.96       177\n",
      "        rec.sport.hockey       0.95      0.99      0.97       183\n",
      "               sci.crypt       0.91      0.99      0.95       209\n",
      "         sci.electronics       0.92      0.79      0.85       219\n",
      "                 sci.med       0.93      0.94      0.93       199\n",
      "               sci.space       0.90      0.96      0.93       211\n",
      "  soc.religion.christian       0.65      0.98      0.78       174\n",
      "      talk.politics.guns       0.80      0.96      0.87       192\n",
      "   talk.politics.mideast       0.94      0.99      0.96       177\n",
      "      talk.politics.misc       0.95      0.72      0.82       155\n",
      "      talk.religion.misc       1.00      0.30      0.46       127\n",
      "\n",
      "             avg / total       0.89      0.88      0.88      3770\n",
      "\n"
     ]
    }
   ],
   "source": [
    "from sklearn.feature_extraction.text import TfidfVectorizer\n",
    "\n",
    "tfidf_filter_vec = TfidfVectorizer(analyzer='word', stop_words='english')\n",
    "\n",
    "X_tfidf_train = tfidf_filter_vec.fit_transform(X_train)\n",
    "X_tfidf_test = tfidf_filter_vec.transform(X_test)\n",
    "\n",
    "mnb_tfidf_clf = MultinomialNB()\n",
    "mnb_tfidf_clf.fit(X_tfidf_train, y_train)\n",
    "y_tfidf_predict = mnb_tfidf_clf.predict(X_tfidf_test)\n",
    "\n",
    "score = mnb_tfidf_clf.score(X_tfidf_test, y_test)\n",
    "print(classification_report(y_test,y_tfidf_predict,target_names=news.target_names))"
   ]
  },
  {
   "cell_type": "code",
   "execution_count": 102,
   "metadata": {},
   "outputs": [
    {
     "data": {
      "text/plain": [
       "0.880106100795756"
      ]
     },
     "execution_count": 102,
     "metadata": {},
     "output_type": "execute_result"
    }
   ],
   "source": [
    "score"
   ]
  },
  {
   "cell_type": "markdown",
   "metadata": {},
   "source": [
    "---"
   ]
  },
  {
   "cell_type": "markdown",
   "metadata": {},
   "source": [
    "## 卡方检验"
   ]
  },
  {
   "cell_type": "code",
   "execution_count": 22,
   "metadata": {
    "collapsed": true
   },
   "outputs": [],
   "source": [
    "X = np.array([[19, 24], \n",
    "              [34, 10]])"
   ]
  },
  {
   "cell_type": "code",
   "execution_count": 23,
   "metadata": {},
   "outputs": [
    {
     "data": {
      "text/plain": [
       "array([[19, 24],\n",
       "       [34, 10]])"
      ]
     },
     "execution_count": 23,
     "metadata": {},
     "output_type": "execute_result"
    }
   ],
   "source": [
    "X"
   ]
  },
  {
   "cell_type": "code",
   "execution_count": 35,
   "metadata": {},
   "outputs": [
    {
     "name": "stdout",
     "output_type": "stream",
     "text": [
      "属于娱乐的比例： 0.6091954022988506\n",
      "不属于娱乐的比例： 0.39080459770114945\n"
     ]
    }
   ],
   "source": [
    "rate = X.sum(axis=0)/sum(X.sum(axis=0))\n",
    "print('属于娱乐的比例：', rate[0])\n",
    "print('不属于娱乐的比例：', rate[1])"
   ]
  },
  {
   "cell_type": "code",
   "execution_count": 41,
   "metadata": {},
   "outputs": [
    {
     "name": "stdout",
     "output_type": "stream",
     "text": [
      "不包含吴亦凡的新闻总数： 43\n",
      "包含吴亦凡的新闻总数： 44\n"
     ]
    }
   ],
   "source": [
    "content = X.sum(axis=1)\n",
    "print('不包含吴亦凡的新闻总数：',content[0])\n",
    "print('包含吴亦凡的新闻总数：',content[1])"
   ]
  },
  {
   "cell_type": "code",
   "execution_count": 46,
   "metadata": {},
   "outputs": [
    {
     "data": {
      "text/plain": [
       "[[26.195402298850578, 16.804597701149426],\n",
       " [26.804597701149426, 17.195402298850574]]"
      ]
     },
     "execution_count": 46,
     "metadata": {},
     "output_type": "execute_result"
    }
   ],
   "source": [
    "# 理论值矩阵\n",
    "T = [[content[0]*rate[0],content[0]*rate[1]],\n",
    " [content[1]*rate[0],content[1]*rate[1]]\n",
    "]\n",
    "T"
   ]
  },
  {
   "cell_type": "code",
   "execution_count": 48,
   "metadata": {},
   "outputs": [
    {
     "data": {
      "text/plain": [
       "array([[-7.1954023,  7.1954023],\n",
       "       [ 7.1954023, -7.1954023]])"
      ]
     },
     "execution_count": 48,
     "metadata": {},
     "output_type": "execute_result"
    }
   ],
   "source": [
    "X-T"
   ]
  },
  {
   "cell_type": "code",
   "execution_count": 51,
   "metadata": {},
   "outputs": [
    {
     "data": {
      "text/plain": [
       "array([[51.77381424, 51.77381424],\n",
       "       [51.77381424, 51.77381424]])"
      ]
     },
     "execution_count": 51,
     "metadata": {},
     "output_type": "execute_result"
    }
   ],
   "source": [
    "import math\n",
    "np.power(X-T,2)"
   ]
  },
  {
   "cell_type": "code",
   "execution_count": null,
   "metadata": {
    "collapsed": true
   },
   "outputs": [],
   "source": []
  },
  {
   "cell_type": "code",
   "execution_count": null,
   "metadata": {
    "collapsed": true
   },
   "outputs": [],
   "source": []
  },
  {
   "cell_type": "code",
   "execution_count": 88,
   "metadata": {
    "collapsed": true
   },
   "outputs": [],
   "source": [
    "from sklearn.feature_extraction.text import TfidfVectorizer\n",
    "\n",
    "tfidf_vec = TfidfVectorizer()\n",
    "\n",
    "X_tfidf_train = tfidf_vec.fit_transform(X_train)\n",
    "X_tfidf_test = tfidf_vec.transform(X_test)"
   ]
  },
  {
   "cell_type": "code",
   "execution_count": 90,
   "metadata": {
    "collapsed": true
   },
   "outputs": [],
   "source": [
    "mnb_tfidf = MultinomialNB()\n",
    "mnb_tfidf.fit(X_tfidf_train, y_train)\n",
    "y_tfidf_predict = mnb_tfidf.predict(X_tfidf_test)"
   ]
  },
  {
   "cell_type": "code",
   "execution_count": 91,
   "metadata": {},
   "outputs": [
    {
     "name": "stdout",
     "output_type": "stream",
     "text": [
      "                          precision    recall  f1-score   support\n",
      "\n",
      "             alt.atheism       0.88      0.63      0.73       180\n",
      "           comp.graphics       0.88      0.75      0.81       203\n",
      " comp.os.ms-windows.misc       0.86      0.88      0.87       196\n",
      "comp.sys.ibm.pc.hardware       0.73      0.85      0.78       182\n",
      "   comp.sys.mac.hardware       0.92      0.84      0.87       194\n",
      "          comp.windows.x       0.93      0.84      0.88       201\n",
      "            misc.forsale       0.89      0.72      0.80       176\n",
      "               rec.autos       0.94      0.92      0.93       217\n",
      "         rec.motorcycles       0.93      0.96      0.94       198\n",
      "      rec.sport.baseball       0.93      0.97      0.95       177\n",
      "        rec.sport.hockey       0.94      0.99      0.97       183\n",
      "               sci.crypt       0.83      1.00      0.90       209\n",
      "         sci.electronics       0.89      0.73      0.80       219\n",
      "                 sci.med       0.92      0.91      0.92       199\n",
      "               sci.space       0.89      0.95      0.92       211\n",
      "  soc.religion.christian       0.46      0.99      0.63       174\n",
      "      talk.politics.guns       0.78      0.94      0.85       192\n",
      "   talk.politics.mideast       0.92      0.99      0.95       177\n",
      "      talk.politics.misc       0.98      0.54      0.70       155\n",
      "      talk.religion.misc       1.00      0.21      0.35       127\n",
      "\n",
      "             avg / total       0.87      0.84      0.84      3770\n",
      "\n"
     ]
    }
   ],
   "source": [
    "print(classification_report(y_test, y_tfidf_predict,target_names=news.target_names))"
   ]
  },
  {
   "cell_type": "code",
   "execution_count": null,
   "metadata": {
    "collapsed": true
   },
   "outputs": [],
   "source": []
  },
  {
   "cell_type": "code",
   "execution_count": 103,
   "metadata": {},
   "outputs": [
    {
     "name": "stdout",
     "output_type": "stream",
     "text": [
      "  (0, 8)\t0.4387767428592343\n",
      "  (0, 3)\t0.4387767428592343\n",
      "  (0, 6)\t0.35872873824808993\n",
      "  (0, 2)\t0.5419765697264572\n",
      "  (0, 1)\t0.4387767428592343\n",
      "  (1, 8)\t0.27230146752334033\n",
      "  (1, 3)\t0.27230146752334033\n",
      "  (1, 6)\t0.2226242923251039\n",
      "  (1, 1)\t0.27230146752334033\n",
      "  (1, 5)\t0.8532257361452784\n",
      "  (2, 6)\t0.2884767487500274\n",
      "  (2, 0)\t0.5528053199908667\n",
      "  (2, 7)\t0.5528053199908667\n",
      "  (2, 4)\t0.5528053199908667\n",
      "  (3, 8)\t0.4387767428592343\n",
      "  (3, 3)\t0.4387767428592343\n",
      "  (3, 6)\t0.35872873824808993\n",
      "  (3, 2)\t0.5419765697264572\n",
      "  (3, 1)\t0.4387767428592343\n"
     ]
    }
   ],
   "source": [
    "from sklearn.feature_extraction.text import TfidfTransformer \n",
    "from sklearn.feature_extraction.text import CountVectorizer \n",
    " \n",
    "corpus = ['This is the first document.', 'This is the second second document.', 'And the third one.', 'Is this the first document?']\n",
    "\n",
    "vectorizer = CountVectorizer()\n",
    "\n",
    "transformer = TfidfTransformer()\n",
    "tfidf = transformer.fit_transform(vectorizer.fit_transform(corpus)) \n",
    "print (tfidf)\n"
   ]
  },
  {
   "cell_type": "code",
   "execution_count": null,
   "metadata": {
    "collapsed": true
   },
   "outputs": [],
   "source": []
  },
  {
   "cell_type": "code",
   "execution_count": null,
   "metadata": {
    "collapsed": true
   },
   "outputs": [],
   "source": []
  },
  {
   "cell_type": "code",
   "execution_count": null,
   "metadata": {
    "collapsed": true
   },
   "outputs": [],
   "source": []
  },
  {
   "cell_type": "code",
   "execution_count": null,
   "metadata": {
    "collapsed": true
   },
   "outputs": [],
   "source": []
  }
 ],
 "metadata": {
  "kernelspec": {
   "display_name": "Python 3",
   "language": "python",
   "name": "python3"
  },
  "language_info": {
   "codemirror_mode": {
    "name": "ipython",
    "version": 3
   },
   "file_extension": ".py",
   "mimetype": "text/x-python",
   "name": "python",
   "nbconvert_exporter": "python",
   "pygments_lexer": "ipython3",
   "version": "3.6.1"
  },
  "toc": {
   "nav_menu": {},
   "number_sections": true,
   "sideBar": true,
   "skip_h1_title": false,
   "toc_cell": false,
   "toc_position": {},
   "toc_section_display": "block",
   "toc_window_display": false
  }
 },
 "nbformat": 4,
 "nbformat_minor": 2
}
