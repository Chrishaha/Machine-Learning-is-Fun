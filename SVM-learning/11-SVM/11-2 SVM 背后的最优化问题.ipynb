{
 "cells": [
  {
   "cell_type": "markdown",
   "metadata": {},
   "source": [
    "# 11-2 SVM 背后的最优化问题\n",
    "\n",
    "\n",
    "我们假设欲求的的最优超平面的表达式是：\n",
    "\n",
    "$$\n",
    "w^Tx + b = 0\n",
    "$$\n",
    "\n",
    "我们定义两个类别的标记分别为 1 和 -1。\n",
    "\n",
    "最大化 margin，即是最大化 d。\n",
    "\n",
    "\n",
    "点到超平面的距离公式为：\n",
    "\n",
    "$$\n",
    "d = \\cfrac{|w^Tx + b|}{||w||}\n",
    "$$\n",
    "\n",
    "我们假设对于在超平面 $w^Tx + b = 0$ 其中一侧的点，它们的标记是 $y=1$ ，并且 $ w^Tx + b \\geq 0$，即\n",
    "$\\cfrac{|w^Tx + b|}{||w||} = \\cfrac{w^Tx^{(i)} + b}{||w||} \\geq d $。  \n",
    "对于在超平面 $w^Tx + b = 0$ 另一侧的点，它们的标记是 $y=-1$ ，并且 $ w^Tx + b \\leq 0$，即\n",
    "$\\cfrac{|w^Tx + b|}{||w||} = -\\cfrac{w^Tx^{(i)} + b}{||w||} \\geq d $，即 $\\cfrac{w^Tx^{(i)} + b}{||w||} \\leq -d $。"
   ]
  },
  {
   "cell_type": "markdown",
   "metadata": {},
   "source": [
    "整理一下，我们得到：\n",
    "\n",
    "$$\n",
    "\\begin{equation}\n",
    "\\begin{cases}\n",
    "\\cfrac{w^Tx^{(i)} + b}{||w||} \\geq d, & \\forall y^{(i)} = 1\\\\\n",
    "\\cfrac{w^Tx^{(i)} + b}{||w||} \\leq -d.& \\forall y^{(i)} = -1\n",
    "\\end{cases}\n",
    "\\end{equation}\n",
    "$$"
   ]
  },
  {
   "cell_type": "markdown",
   "metadata": {},
   "source": [
    "变形得到：\n",
    "\n",
    "$$\n",
    "\\begin{equation}\n",
    "\\begin{cases}\n",
    "\\cfrac{w^Tx^{(i)} + b}{||w||d} \\geq 1, & \\forall y^{(i)} = 1\\\\\n",
    "\\cfrac{w^Tx^{(i)} + b}{||w||d} \\leq -1.& \\forall y^{(i)} = -1\n",
    "\\end{cases}\n",
    "\\end{equation}\n",
    "$$"
   ]
  },
  {
   "cell_type": "markdown",
   "metadata": {},
   "source": [
    "分析到这里，我们应该知道，距离最优超平面最近的点，一定满足等号，于是满足等号的超平面，就是 $\\cfrac{w^Tx + b}{||w||d} = 1$ 与 $\\cfrac{w^Tx + b}{||w||d} = -1$，我们令：\n",
    "\n",
    "$$\n",
    "\\begin{equation}\n",
    "\\begin{cases}\n",
    "w_d = \\cfrac{w^T}{||w||d},\\\\\n",
    "b_d = \\cfrac{b}{||w||d}\n",
    "\\end{cases}\n",
    "\\end{equation}\n",
    "$$"
   ]
  },
  {
   "cell_type": "markdown",
   "metadata": {},
   "source": [
    "于是，上面的两条直线又可以写成：\n",
    "$w_d^Tx + b_d = 1$ 与 $w_d^Tx + b_d = -1$。\n",
    "\n",
    "此时，我们再看看欲求的最优超平面：\n",
    "\n",
    "$$\n",
    "w^Tx + b = 0\n",
    "$$\n",
    "\n",
    "将这个超平面的两边同时除以 $||w||d$ 得到 $w_d^Tx + b_d = 0$，于是三个超平面的形式就很统一了。\n",
    "\n",
    "两个间隔边界分别是：\n",
    "+ $w_d^Tx + b_d = 1$ \n",
    "+ $w_d^Tx + b_d = -1$\n",
    "\n",
    "最优超平面是：\n",
    "\n",
    "+ $w_d^Tx + b_d = 0$"
   ]
  },
  {
   "cell_type": "markdown",
   "metadata": {},
   "source": [
    "为了方便后续书写，我们干脆去掉脚标 b。\n",
    "\n",
    "两个间隔边界分别是：\n",
    "+ $w^Tx + b = 1$ \n",
    "+ $w^Tx + b = -1$\n",
    "\n",
    "最优超平面是：\n",
    "\n",
    "+ $w^Tx + b = 0$"
   ]
  },
  {
   "cell_type": "markdown",
   "metadata": {},
   "source": [
    "于是，不等关系可以表示为：\n",
    "\n",
    "$$\n",
    "\\begin{equation}\n",
    "\\begin{cases}\n",
    "w^Tx^{(i)} + b \\geq 1, & \\forall y^{(i)} = 1\\\\\n",
    "w^Tx^{(i)} + b \\leq -1.& \\forall y^{(i)} = -1\n",
    "\\end{cases}\n",
    "\\end{equation}\n",
    "$$"
   ]
  },
  {
   "cell_type": "markdown",
   "metadata": {},
   "source": [
    "我们再分析一下目标函数，支撑向量到最优超平面的距离为 \n",
    "\n",
    "$$\n",
    "d = \\cfrac{|w^Tx + b|}{||w||}\n",
    "$$\n",
    "\n",
    "最大化它，即 \n",
    "\n",
    "$$\n",
    "{\\rm max} \\cfrac{|w^Tx + b|}{||w||}\n",
    "$$\n",
    "\n",
    "基于以上的分析，$|w^Tx + b| = 1$，于是最优化问题变为\n",
    "\n",
    "$$\n",
    "{\\rm max} \\cfrac{1}{||w||}\n",
    "$$\n",
    "\n",
    "其又等价于 \n",
    "\n",
    "$$\n",
    "{\\rm min} ||w||\n",
    "$$\n",
    "\n",
    "其又等价于 \n",
    "$$\n",
    "{\\rm min} \\frac{1}{2}||w||^2\n",
    "$$"
   ]
  },
  {
   "cell_type": "markdown",
   "metadata": {},
   "source": [
    "这是一个有约束的最优化问题。"
   ]
  },
  {
   "cell_type": "code",
   "execution_count": null,
   "metadata": {
    "collapsed": true
   },
   "outputs": [],
   "source": []
  }
 ],
 "metadata": {
  "kernelspec": {
   "display_name": "Python 3",
   "language": "python",
   "name": "python3"
  },
  "language_info": {
   "codemirror_mode": {
    "name": "ipython",
    "version": 3
   },
   "file_extension": ".py",
   "mimetype": "text/x-python",
   "name": "python",
   "nbconvert_exporter": "python",
   "pygments_lexer": "ipython3",
   "version": "3.6.1"
  }
 },
 "nbformat": 4,
 "nbformat_minor": 2
}
