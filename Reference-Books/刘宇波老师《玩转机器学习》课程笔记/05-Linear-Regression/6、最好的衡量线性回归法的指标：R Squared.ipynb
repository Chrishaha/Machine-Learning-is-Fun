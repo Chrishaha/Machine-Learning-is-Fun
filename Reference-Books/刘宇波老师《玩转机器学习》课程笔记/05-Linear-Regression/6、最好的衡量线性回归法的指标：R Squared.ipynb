{
 "cells": [
  {
   "cell_type": "markdown",
   "metadata": {},
   "source": [
    "# 6、最好的衡量“线性回归”法的指标：R Squared"
   ]
  },
  {
   "cell_type": "markdown",
   "metadata": {},
   "source": [
    "之前介绍的不管是 MSE 、 RMSE 、MAE 只能纵向比较，不能横向比较，没有基准。这一节介绍的 R Squared 使用了 y 的平均值作为基准，来衡量模型的好坏，更科学。\n",
    "\n",
    "\n",
    "$$\n",
    "\\begin{aligned} \n",
    "R^2 &= 1 - \\cfrac{\\sum_i(\\hat y^{(i)} - y^{(i)})^2}{\\sum_i(\\bar y^{(i)} - y^{(i)})^2}\\\\\n",
    "R^2 &= 1 - \\cfrac{\\sum_i(\\hat y^{(i)} - y^{(i)})^2/m}{\\sum_i(\\bar y^{(i)} - y^{(i)})^2/m} = 1 - \\frac{MSE(\\hat y,y)}{Var(y)} \n",
    "\\end{aligned} \n",
    "$$\n",
    "\n",
    "+ $R^2$ 越靠近 1 越好"
   ]
  },
  {
   "cell_type": "markdown",
   "metadata": {},
   "source": [
    "也叫做 R 方，是回归算法中一个非常重要的评测指标。\n",
    "\n",
    "$$\n",
    "R^2 = 1 - \\cfrac{\\sum_{i}(\\hat y^{(i)}-y^{(i)})^2}{\\sum_i(\\overline{y}-y^{(i)})} = 1 - \\cfrac{\\cfrac{\\sum_{i}(\\hat y^{(i)}-y^{(i)})^2}{m}}{\\cfrac{\\sum_i(\\overline{y}-y^{(i)})}{m}} = 1 - \\cfrac{MSE(\\hat y,y)}{Var(y)}\n",
    "$$"
   ]
  },
  {
   "cell_type": "markdown",
   "metadata": {},
   "source": [
    "对于 $R^2$ 的理解：\n",
    "\n",
    "-  $R^2 \\le 1$；\n",
    "- $R^2$ 越大越好。当我们的模型不犯任何错误的时候，$R^2$ 得到最大值，当我们的模型等于基准模型的时候，$R^2 = 0$；\n",
    "- **当 $R^2 <0$ 这种情况出现的时候，说明我们学习到的模型还不如基准的模型。此时，很可能我们的数据不存在任何的线性关系**。"
   ]
  },
  {
   "cell_type": "markdown",
   "metadata": {},
   "source": [
    "## 记结论的时候记住下面这个更好记\n",
    "$$\n",
    "R^2 = 1 - \\frac{MSE(\\hat y,y)}{Var(y)} \n",
    "$$"
   ]
  },
  {
   "cell_type": "code",
   "execution_count": 1,
   "metadata": {
    "collapsed": true
   },
   "outputs": [],
   "source": [
    "import numpy as np\n",
    "import matplotlib.pyplot as plt\n",
    "from sklearn import datasets\n",
    "from playML.model_selection import train_test_split\n",
    "from playML.SimpleLinearRegression import SimpleLinearRegression\n",
    "\n",
    "boston = datasets.load_boston()\n",
    "x = boston.data[:, 5]  # 只使用房间数量这个特征\n",
    "y = boston.target\n",
    "\n",
    "x = x[y < 50.0]\n",
    "y = y[y < 50.0]\n",
    "\n",
    "x_train, x_test, y_train, y_test = train_test_split(x, y, seed=666)\n",
    "\n",
    "reg = SimpleLinearRegression()\n",
    "reg.fit(x_train, y_train)\n",
    "y_predict = reg.predict(x_test)"
   ]
  },
  {
   "cell_type": "markdown",
   "metadata": {},
   "source": [
    "## R Squared"
   ]
  },
  {
   "cell_type": "code",
   "execution_count": 2,
   "metadata": {},
   "outputs": [
    {
     "data": {
      "text/plain": [
       "0.61293168039373236"
      ]
     },
     "execution_count": 2,
     "metadata": {},
     "output_type": "execute_result"
    }
   ],
   "source": [
    "from playML.metrics import mean_squared_error\n",
    "\n",
    "1 - mean_squared_error(y_test, y_predict) / np.var(y_test)"
   ]
  },
  {
   "cell_type": "code",
   "execution_count": 3,
   "metadata": {},
   "outputs": [
    {
     "data": {
      "text/plain": [
       "0.61293168039373236"
      ]
     },
     "execution_count": 3,
     "metadata": {},
     "output_type": "execute_result"
    }
   ],
   "source": [
    "from playML.metrics import r2_score\n",
    "\n",
    "r2_score(y_test, y_predict)"
   ]
  },
  {
   "cell_type": "markdown",
   "metadata": {},
   "source": [
    "## 在 scikit-learn 中使用 r2_score"
   ]
  },
  {
   "cell_type": "code",
   "execution_count": 4,
   "metadata": {},
   "outputs": [
    {
     "data": {
      "text/plain": [
       "0.61293168039373247"
      ]
     },
     "execution_count": 4,
     "metadata": {},
     "output_type": "execute_result"
    }
   ],
   "source": [
    "from sklearn.metrics import r2_score\n",
    "\n",
    "r2_score(y_test, y_predict)"
   ]
  },
  {
   "cell_type": "code",
   "execution_count": 5,
   "metadata": {},
   "outputs": [
    {
     "data": {
      "text/plain": [
       "0.61293168039373236"
      ]
     },
     "execution_count": 5,
     "metadata": {},
     "output_type": "execute_result"
    }
   ],
   "source": [
    "# 我们自己写的 SimpleLinearRegression2.py 下的评分方法\n",
    "# 先得到预测数据，然后再评分\n",
    "reg.score(x_test, y_test)"
   ]
  }
 ],
 "metadata": {
  "kernelspec": {
   "display_name": "Python 3",
   "language": "python",
   "name": "python3"
  },
  "language_info": {
   "codemirror_mode": {
    "name": "ipython",
    "version": 3
   },
   "file_extension": ".py",
   "mimetype": "text/x-python",
   "name": "python",
   "nbconvert_exporter": "python",
   "pygments_lexer": "ipython3",
   "version": "3.6.1"
  }
 },
 "nbformat": 4,
 "nbformat_minor": 2
}
