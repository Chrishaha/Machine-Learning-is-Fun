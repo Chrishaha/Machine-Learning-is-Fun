{
 "cells": [
  {
   "cell_type": "markdown",
   "metadata": {},
   "source": [
    "+ Use Google's Word2Vec for movie reviews（电影评论）\n",
    "\n",
    "https://www.kaggle.com/c/word2vec-nlp-tutorial"
   ]
  },
  {
   "cell_type": "code",
   "execution_count": 1,
   "metadata": {
    "collapsed": true
   },
   "outputs": [],
   "source": [
    "import pandas as pd\n",
    "\n",
    "train = pd.read_csv('../input/labeledTrainData.tsv', delimiter='\\t')\n",
    "test = pd.read_csv('../input/testData.tsv', delimiter='\\t')"
   ]
  },
  {
   "cell_type": "code",
   "execution_count": 2,
   "metadata": {},
   "outputs": [
    {
     "data": {
      "text/html": [
       "<div>\n",
       "<style scoped>\n",
       "    .dataframe tbody tr th:only-of-type {\n",
       "        vertical-align: middle;\n",
       "    }\n",
       "\n",
       "    .dataframe tbody tr th {\n",
       "        vertical-align: top;\n",
       "    }\n",
       "\n",
       "    .dataframe thead th {\n",
       "        text-align: right;\n",
       "    }\n",
       "</style>\n",
       "<table border=\"1\" class=\"dataframe\">\n",
       "  <thead>\n",
       "    <tr style=\"text-align: right;\">\n",
       "      <th></th>\n",
       "      <th>id</th>\n",
       "      <th>sentiment</th>\n",
       "      <th>review</th>\n",
       "    </tr>\n",
       "  </thead>\n",
       "  <tbody>\n",
       "    <tr>\n",
       "      <th>0</th>\n",
       "      <td>5814_8</td>\n",
       "      <td>1</td>\n",
       "      <td>With all this stuff going down at the moment w...</td>\n",
       "    </tr>\n",
       "    <tr>\n",
       "      <th>1</th>\n",
       "      <td>2381_9</td>\n",
       "      <td>1</td>\n",
       "      <td>\\The Classic War of the Worlds\\\" by Timothy Hi...</td>\n",
       "    </tr>\n",
       "    <tr>\n",
       "      <th>2</th>\n",
       "      <td>7759_3</td>\n",
       "      <td>0</td>\n",
       "      <td>The film starts with a manager (Nicholas Bell)...</td>\n",
       "    </tr>\n",
       "    <tr>\n",
       "      <th>3</th>\n",
       "      <td>3630_4</td>\n",
       "      <td>0</td>\n",
       "      <td>It must be assumed that those who praised this...</td>\n",
       "    </tr>\n",
       "    <tr>\n",
       "      <th>4</th>\n",
       "      <td>9495_8</td>\n",
       "      <td>1</td>\n",
       "      <td>Superbly trashy and wondrously unpretentious 8...</td>\n",
       "    </tr>\n",
       "  </tbody>\n",
       "</table>\n",
       "</div>"
      ],
      "text/plain": [
       "       id  sentiment                                             review\n",
       "0  5814_8          1  With all this stuff going down at the moment w...\n",
       "1  2381_9          1  \\The Classic War of the Worlds\\\" by Timothy Hi...\n",
       "2  7759_3          0  The film starts with a manager (Nicholas Bell)...\n",
       "3  3630_4          0  It must be assumed that those who praised this...\n",
       "4  9495_8          1  Superbly trashy and wondrously unpretentious 8..."
      ]
     },
     "execution_count": 2,
     "metadata": {},
     "output_type": "execute_result"
    }
   ],
   "source": [
    "train.head()"
   ]
  },
  {
   "cell_type": "code",
   "execution_count": 3,
   "metadata": {
    "collapsed": true,
    "scrolled": true
   },
   "outputs": [],
   "source": [
    "from bs4 import BeautifulSoup\n",
    "import re\n",
    "\n",
    "from nltk.corpus import stopwords\n",
    "\n",
    "\n",
    "def review_to_text(review, remove_stopwords):\n",
    "    raw_text = BeautifulSoup(review, 'lxml').get_text()\n",
    "    # 去掉非字母的字符，这些特殊的符号，应该被替换成空格\n",
    "    letters = re.sub('[^a-zA-z]', ' ', raw_text)\n",
    "    words = letters.lower().split()\n",
    "    if remove_stopwords:\n",
    "        stop_words = set(stopwords.words('english'))\n",
    "        words = [w for w in words if w not in stop_words]\n",
    "    return words"
   ]
  },
  {
   "cell_type": "code",
   "execution_count": 4,
   "metadata": {
    "collapsed": true
   },
   "outputs": [],
   "source": [
    "X_train = []\n",
    "\n",
    "for review in train['review']:\n",
    "    X_train.append(' '.join(review_to_text(review, True)))\n",
    "\n",
    "X_test = []\n",
    "\n",
    "for review in test['review']:\n",
    "    X_test.append(' '.join(review_to_text(review, True)))\n",
    "\n",
    "y_train = train['sentiment']"
   ]
  },
  {
   "cell_type": "code",
   "execution_count": 6,
   "metadata": {},
   "outputs": [
    {
     "data": {
      "text/plain": [
       "25000"
      ]
     },
     "execution_count": 6,
     "metadata": {},
     "output_type": "execute_result"
    }
   ],
   "source": [
    "len(X_train)"
   ]
  },
  {
   "cell_type": "code",
   "execution_count": 7,
   "metadata": {},
   "outputs": [
    {
     "data": {
      "text/plain": [
       "'stuff going moment mj started listening music watching odd documentary watched wiz watched moonwalker maybe want get certain insight guy thought really cool eighties maybe make mind whether guilty innocent moonwalker part biography part feature film remember going see cinema originally released subtle messages mj feeling towards press also obvious message drugs bad kay visually impressive course michael jackson unless remotely like mj anyway going hate find boring may call mj egotist consenting making movie mj fans would say made fans true really nice actual feature film bit finally starts minutes excluding smooth criminal sequence joe pesci convincing psychopathic powerful drug lord wants mj dead bad beyond mj overheard plans nah joe pesci character ranted wanted people know supplying drugs etc dunno maybe hates mj music lots cool things like mj turning car robot whole speed demon sequence also director must patience saint came filming kiddy bad sequence usually directors hate working one kid let alone whole bunch performing complex dance scene bottom line movie people like mj one level another think people stay away try give wholesome message ironically mj bestest buddy movie girl michael jackson truly one talented people ever grace planet guilty well attention gave subject hmmm well know people different behind closed doors know fact either extremely nice stupid guy one sickest liars hope latter'"
      ]
     },
     "execution_count": 7,
     "metadata": {},
     "output_type": "execute_result"
    }
   ],
   "source": [
    "X_train[0]"
   ]
  },
  {
   "cell_type": "markdown",
   "metadata": {},
   "source": [
    "## 分别使用 CountVectorizer 和 TfidfVectorizer 对文本特征进行抽取"
   ]
  },
  {
   "cell_type": "code",
   "execution_count": 9,
   "metadata": {},
   "outputs": [],
   "source": [
    "from sklearn.pipeline import Pipeline\n",
    "from sklearn.feature_extraction.text import CountVectorizer\n",
    "from sklearn.naive_bayes import MultinomialNB\n",
    "\n",
    "pipeline_count = Pipeline([('count_vec', CountVectorizer(analyzer='word')),\n",
    "                           ('mnb', MultinomialNB())])"
   ]
  },
  {
   "cell_type": "code",
   "execution_count": 11,
   "metadata": {
    "collapsed": true
   },
   "outputs": [],
   "source": [
    "params_count = {\n",
    "    'count_vec__binary': [True, False],\n",
    "    'count_vec__ngram_range': [(1, 1), (1, 2)],\n",
    "    'mnb__alpha': [0.1, 1.0, 10.0]\n",
    "}"
   ]
  },
  {
   "cell_type": "code",
   "execution_count": 14,
   "metadata": {},
   "outputs": [
    {
     "name": "stdout",
     "output_type": "stream",
     "text": [
      "Fitting 4 folds for each of 12 candidates, totalling 48 fits\n"
     ]
    },
    {
     "name": "stderr",
     "output_type": "stream",
     "text": [
      "[Parallel(n_jobs=-1)]: Using backend LokyBackend with 8 concurrent workers.\n",
      "/Users/liwei/.local/lib/python3.6/site-packages/sklearn/externals/joblib/externals/loky/process_executor.py:706: UserWarning: A worker stopped while some jobs were given to the executor. This can be caused by a too short worker timeout or by a memory leak.\n",
      "  \"timeout or by a memory leak.\", UserWarning\n",
      "[Parallel(n_jobs=-1)]: Done  48 out of  48 | elapsed:  2.5min finished\n"
     ]
    },
    {
     "data": {
      "text/plain": [
       "GridSearchCV(cv=4, error_score='raise-deprecating',\n",
       "       estimator=Pipeline(memory=None,\n",
       "     steps=[('count_vec', CountVectorizer(analyzer='word', binary=False, decode_error='strict',\n",
       "        dtype=<class 'numpy.int64'>, encoding='utf-8', input='content',\n",
       "        lowercase=True, max_df=1.0, max_features=None, min_df=1,\n",
       "        ngram_range=(1, 1), preproc...nizer=None, vocabulary=None)), ('mnb', MultinomialNB(alpha=1.0, class_prior=None, fit_prior=True))]),\n",
       "       fit_params=None, iid='warn', n_jobs=-1,\n",
       "       param_grid={'count_vec__binary': [True, False], 'count_vec__ngram_range': [(1, 1), (1, 2)], 'mnb__alpha': [0.1, 1.0, 10.0]},\n",
       "       pre_dispatch='2*n_jobs', refit=True, return_train_score='warn',\n",
       "       scoring=None, verbose=1)"
      ]
     },
     "execution_count": 14,
     "metadata": {},
     "output_type": "execute_result"
    }
   ],
   "source": [
    "from sklearn.model_selection import GridSearchCV\n",
    "\n",
    "gs_count = GridSearchCV(\n",
    "    pipeline_count, params_count, cv=4, n_jobs=-1, verbose=1)\n",
    "gs_count.fit(X_train, y_train)"
   ]
  },
  {
   "cell_type": "code",
   "execution_count": 15,
   "metadata": {},
   "outputs": [
    {
     "name": "stdout",
     "output_type": "stream",
     "text": [
      "0.88204\n",
      "{'count_vec__binary': True, 'count_vec__ngram_range': (1, 2), 'mnb__alpha': 1.0}\n"
     ]
    }
   ],
   "source": [
    "# 输出交叉验证中最佳的准确性得分以及超参数组合\n",
    "print(gs_count.best_score_)\n",
    "print(gs_count.best_params_)"
   ]
  },
  {
   "cell_type": "code",
   "execution_count": 16,
   "metadata": {},
   "outputs": [
    {
     "data": {
      "text/plain": [
       "array([1, 0, 1, ..., 0, 1, 0])"
      ]
     },
     "execution_count": 16,
     "metadata": {},
     "output_type": "execute_result"
    }
   ],
   "source": [
    "count_y_predict = gs_count.predict(X_test)\n",
    "count_y_predict"
   ]
  },
  {
   "cell_type": "code",
   "execution_count": 17,
   "metadata": {
    "collapsed": true
   },
   "outputs": [],
   "source": [
    "# 输出\n",
    "count_df = pd.DataFrame({'id': test['id'], 'sentiment': count_y_predict})\n",
    "count_df.to_csv('../output/submission_count.csv', index=None)"
   ]
  },
  {
   "cell_type": "markdown",
   "metadata": {},
   "source": [
    "---"
   ]
  },
  {
   "cell_type": "code",
   "execution_count": 18,
   "metadata": {
    "collapsed": true
   },
   "outputs": [],
   "source": [
    "from sklearn.feature_extraction.text import TfidfVectorizer\n",
    "\n",
    "pipeline_tfidf = Pipeline([('tfidf_vec', TfidfVectorizer(analyzer='word')),\n",
    "                           ('mnb', MultinomialNB())])"
   ]
  },
  {
   "cell_type": "code",
   "execution_count": 19,
   "metadata": {
    "collapsed": true
   },
   "outputs": [],
   "source": [
    "# 分别用于配置用于模型超参数搜索的组合\n",
    "\n",
    "params_tfidf = {\n",
    "    'tfidf_vec__binary': [True, False],\n",
    "    'tfidf_vec__ngram_range': [(1, 1), (1, 2)],\n",
    "    'mnb__alpha': [0.1, 1.0, 10.0]\n",
    "}"
   ]
  },
  {
   "cell_type": "code",
   "execution_count": 20,
   "metadata": {},
   "outputs": [
    {
     "name": "stdout",
     "output_type": "stream",
     "text": [
      "Fitting 4 folds for each of 12 candidates, totalling 48 fits\n"
     ]
    },
    {
     "name": "stderr",
     "output_type": "stream",
     "text": [
      "[Parallel(n_jobs=-1)]: Using backend LokyBackend with 8 concurrent workers.\n",
      "/Users/liwei/.local/lib/python3.6/site-packages/sklearn/externals/joblib/externals/loky/process_executor.py:706: UserWarning: A worker stopped while some jobs were given to the executor. This can be caused by a too short worker timeout or by a memory leak.\n",
      "  \"timeout or by a memory leak.\", UserWarning\n",
      "[Parallel(n_jobs=-1)]: Done  48 out of  48 | elapsed:  2.5min finished\n"
     ]
    },
    {
     "data": {
      "text/plain": [
       "array([1, 0, 1, ..., 0, 1, 0])"
      ]
     },
     "execution_count": 20,
     "metadata": {},
     "output_type": "execute_result"
    }
   ],
   "source": [
    "gs_tfidf = GridSearchCV(\n",
    "    pipeline_tfidf, params_tfidf, cv=4, n_jobs=-1, verbose=1)\n",
    "gs_tfidf.fit(X_train, y_train)\n",
    "tfidf_y_predict = gs_tfidf.predict(X_test)\n",
    "tfidf_y_predict"
   ]
  },
  {
   "cell_type": "code",
   "execution_count": 21,
   "metadata": {
    "collapsed": true
   },
   "outputs": [],
   "source": [
    "tfidf_df = pd.DataFrame({'id': test['id'], 'sentiment': tfidf_y_predict})\n",
    "tfidf_df.to_csv('../output/submission_tfidf.csv', index=None)"
   ]
  },
  {
   "cell_type": "markdown",
   "metadata": {},
   "source": [
    "# 从本地导入未标记的数据\n",
    "\n"
   ]
  },
  {
   "cell_type": "code",
   "execution_count": 22,
   "metadata": {},
   "outputs": [
    {
     "data": {
      "text/html": [
       "<div>\n",
       "<style scoped>\n",
       "    .dataframe tbody tr th:only-of-type {\n",
       "        vertical-align: middle;\n",
       "    }\n",
       "\n",
       "    .dataframe tbody tr th {\n",
       "        vertical-align: top;\n",
       "    }\n",
       "\n",
       "    .dataframe thead th {\n",
       "        text-align: right;\n",
       "    }\n",
       "</style>\n",
       "<table border=\"1\" class=\"dataframe\">\n",
       "  <thead>\n",
       "    <tr style=\"text-align: right;\">\n",
       "      <th></th>\n",
       "      <th>id</th>\n",
       "      <th>review</th>\n",
       "    </tr>\n",
       "  </thead>\n",
       "  <tbody>\n",
       "    <tr>\n",
       "      <th>0</th>\n",
       "      <td>\"9999_0\"</td>\n",
       "      <td>\"Watching Time Chasers, it obvious that it was...</td>\n",
       "    </tr>\n",
       "    <tr>\n",
       "      <th>1</th>\n",
       "      <td>\"45057_0\"</td>\n",
       "      <td>\"I saw this film about 20 years ago and rememb...</td>\n",
       "    </tr>\n",
       "    <tr>\n",
       "      <th>2</th>\n",
       "      <td>\"15561_0\"</td>\n",
       "      <td>\"Minor Spoilers&lt;br /&gt;&lt;br /&gt;In New York, Joan B...</td>\n",
       "    </tr>\n",
       "    <tr>\n",
       "      <th>3</th>\n",
       "      <td>\"7161_0\"</td>\n",
       "      <td>\"I went to see this film with a great deal of ...</td>\n",
       "    </tr>\n",
       "    <tr>\n",
       "      <th>4</th>\n",
       "      <td>\"43971_0\"</td>\n",
       "      <td>\"Yes, I agree with everyone on this site this ...</td>\n",
       "    </tr>\n",
       "    <tr>\n",
       "      <th>5</th>\n",
       "      <td>\"36495_0\"</td>\n",
       "      <td>\"Jennifer Ehle was sparkling in \\\"Pride and Pr...</td>\n",
       "    </tr>\n",
       "    <tr>\n",
       "      <th>6</th>\n",
       "      <td>\"49472_0\"</td>\n",
       "      <td>\"Amy Poehler is a terrific comedian on Saturda...</td>\n",
       "    </tr>\n",
       "    <tr>\n",
       "      <th>7</th>\n",
       "      <td>\"36693_0\"</td>\n",
       "      <td>\"A plane carrying employees of a large biotech...</td>\n",
       "    </tr>\n",
       "    <tr>\n",
       "      <th>8</th>\n",
       "      <td>\"316_0\"</td>\n",
       "      <td>\"A well made, gritty science fiction movie, it...</td>\n",
       "    </tr>\n",
       "    <tr>\n",
       "      <th>9</th>\n",
       "      <td>\"32454_0\"</td>\n",
       "      <td>\"Incredibly dumb and utterly predictable story...</td>\n",
       "    </tr>\n",
       "    <tr>\n",
       "      <th>10</th>\n",
       "      <td>\"37128_0\"</td>\n",
       "      <td>\"After reading the comments for this movie, I ...</td>\n",
       "    </tr>\n",
       "    <tr>\n",
       "      <th>11</th>\n",
       "      <td>\"19439_0\"</td>\n",
       "      <td>\"It's hard to describe Elfen Lied to someone w...</td>\n",
       "    </tr>\n",
       "    <tr>\n",
       "      <th>12</th>\n",
       "      <td>\"10760_0\"</td>\n",
       "      <td>\"Of all the bile-inducing vomitoriums to squee...</td>\n",
       "    </tr>\n",
       "    <tr>\n",
       "      <th>13</th>\n",
       "      <td>\"15073_0\"</td>\n",
       "      <td>\"This is quite an underrated Hitchcock movie. ...</td>\n",
       "    </tr>\n",
       "    <tr>\n",
       "      <th>14</th>\n",
       "      <td>\"33119_0\"</td>\n",
       "      <td>\"Being a huge Gary Oldman fan, I had high hope...</td>\n",
       "    </tr>\n",
       "    <tr>\n",
       "      <th>15</th>\n",
       "      <td>\"38735_0\"</td>\n",
       "      <td>\"For the most part the acting was poorly done ...</td>\n",
       "    </tr>\n",
       "    <tr>\n",
       "      <th>16</th>\n",
       "      <td>\"12041_0\"</td>\n",
       "      <td>\"Ram Gopal Varma does it again yet another mov...</td>\n",
       "    </tr>\n",
       "    <tr>\n",
       "      <th>17</th>\n",
       "      <td>\"41565_0\"</td>\n",
       "      <td>\"I gave it 2 for some attempt at historical de...</td>\n",
       "    </tr>\n",
       "    <tr>\n",
       "      <th>18</th>\n",
       "      <td>\"48612_0\"</td>\n",
       "      <td>\"I wanted to watch this one sense I am a fan o...</td>\n",
       "    </tr>\n",
       "    <tr>\n",
       "      <th>19</th>\n",
       "      <td>\"17525_0\"</td>\n",
       "      <td>\"Che is a good film for chronicling the events...</td>\n",
       "    </tr>\n",
       "    <tr>\n",
       "      <th>20</th>\n",
       "      <td>\"32062_0\"</td>\n",
       "      <td>\"This film is very disturbing. It reminded me ...</td>\n",
       "    </tr>\n",
       "    <tr>\n",
       "      <th>21</th>\n",
       "      <td>\"48625_0\"</td>\n",
       "      <td>\"Let me put it this way. I love bad movies. I ...</td>\n",
       "    </tr>\n",
       "    <tr>\n",
       "      <th>22</th>\n",
       "      <td>\"48176_0\"</td>\n",
       "      <td>\"From the combined ministries of Jack and Rexe...</td>\n",
       "    </tr>\n",
       "    <tr>\n",
       "      <th>23</th>\n",
       "      <td>\"16232_0\"</td>\n",
       "      <td>\"Ghost World is one of the better teen or comm...</td>\n",
       "    </tr>\n",
       "    <tr>\n",
       "      <th>24</th>\n",
       "      <td>\"12528_0\"</td>\n",
       "      <td>\"Outstanding film dealing with a 16 year old w...</td>\n",
       "    </tr>\n",
       "    <tr>\n",
       "      <th>25</th>\n",
       "      <td>\"39976_0\"</td>\n",
       "      <td>\"This movie did play like a dream or maybe eve...</td>\n",
       "    </tr>\n",
       "    <tr>\n",
       "      <th>26</th>\n",
       "      <td>\"25857_0\"</td>\n",
       "      <td>\"This film is supposedly based on the true acc...</td>\n",
       "    </tr>\n",
       "    <tr>\n",
       "      <th>27</th>\n",
       "      <td>\"10552_0\"</td>\n",
       "      <td>\"I know that cartoons aimed towards adults gen...</td>\n",
       "    </tr>\n",
       "    <tr>\n",
       "      <th>28</th>\n",
       "      <td>\"26437_0\"</td>\n",
       "      <td>\"...but what a disappointment. The acting was ...</td>\n",
       "    </tr>\n",
       "    <tr>\n",
       "      <th>29</th>\n",
       "      <td>\"16262_0\"</td>\n",
       "      <td>\"As a long-time Holmes fan, and particularly o...</td>\n",
       "    </tr>\n",
       "    <tr>\n",
       "      <th>...</th>\n",
       "      <td>...</td>\n",
       "      <td>...</td>\n",
       "    </tr>\n",
       "    <tr>\n",
       "      <th>49970</th>\n",
       "      <td>\"25941_0\"</td>\n",
       "      <td>\"Wouldn't suit all tastes, but if you like it ...</td>\n",
       "    </tr>\n",
       "    <tr>\n",
       "      <th>49971</th>\n",
       "      <td>\"36778_0\"</td>\n",
       "      <td>\"As a great fan of Dwight Yoakam's music as we...</td>\n",
       "    </tr>\n",
       "    <tr>\n",
       "      <th>49972</th>\n",
       "      <td>\"37114_0\"</td>\n",
       "      <td>\"I'm a huge fan of Whoopi and have seen all of...</td>\n",
       "    </tr>\n",
       "    <tr>\n",
       "      <th>49973</th>\n",
       "      <td>\"11962_0\"</td>\n",
       "      <td>\"It not very often that I go to the same movie...</td>\n",
       "    </tr>\n",
       "    <tr>\n",
       "      <th>49974</th>\n",
       "      <td>\"32293_0\"</td>\n",
       "      <td>\"I, like most, worried that it would degrade \\...</td>\n",
       "    </tr>\n",
       "    <tr>\n",
       "      <th>49975</th>\n",
       "      <td>\"7005_0\"</td>\n",
       "      <td>\"This movie makes no bones about what it is an...</td>\n",
       "    </tr>\n",
       "    <tr>\n",
       "      <th>49976</th>\n",
       "      <td>\"112_0\"</td>\n",
       "      <td>\"The eyebrow-wagging Lionel Q. Deveraux (Grouc...</td>\n",
       "    </tr>\n",
       "    <tr>\n",
       "      <th>49977</th>\n",
       "      <td>\"46123_0\"</td>\n",
       "      <td>\"There maybe spoilers in the following; if you...</td>\n",
       "    </tr>\n",
       "    <tr>\n",
       "      <th>49978</th>\n",
       "      <td>\"10628_0\"</td>\n",
       "      <td>\"This is one of my favorite films. &lt;br /&gt;&lt;br /...</td>\n",
       "    </tr>\n",
       "    <tr>\n",
       "      <th>49979</th>\n",
       "      <td>\"22572_0\"</td>\n",
       "      <td>\"A novelist who could find a funny side of a d...</td>\n",
       "    </tr>\n",
       "    <tr>\n",
       "      <th>49980</th>\n",
       "      <td>\"40601_0\"</td>\n",
       "      <td>\"This is the worst drivel I've ever seen come ...</td>\n",
       "    </tr>\n",
       "    <tr>\n",
       "      <th>49981</th>\n",
       "      <td>\"31509_0\"</td>\n",
       "      <td>\"\\\"Jaguar Lives\\\" is very slow and plodding en...</td>\n",
       "    </tr>\n",
       "    <tr>\n",
       "      <th>49982</th>\n",
       "      <td>\"33703_0\"</td>\n",
       "      <td>\"This should have been better, much better. A ...</td>\n",
       "    </tr>\n",
       "    <tr>\n",
       "      <th>49983</th>\n",
       "      <td>\"7379_0\"</td>\n",
       "      <td>\"Look at the number of film festival awards \\\"...</td>\n",
       "    </tr>\n",
       "    <tr>\n",
       "      <th>49984</th>\n",
       "      <td>\"29370_0\"</td>\n",
       "      <td>\"This movie is one of the best of all time.Fir...</td>\n",
       "    </tr>\n",
       "    <tr>\n",
       "      <th>49985</th>\n",
       "      <td>\"27604_0\"</td>\n",
       "      <td>\"The earliest episodes with John Amos as the c...</td>\n",
       "    </tr>\n",
       "    <tr>\n",
       "      <th>49986</th>\n",
       "      <td>\"9197_0\"</td>\n",
       "      <td>\"I've been looking for this movie since I beca...</td>\n",
       "    </tr>\n",
       "    <tr>\n",
       "      <th>49987</th>\n",
       "      <td>\"34018_0\"</td>\n",
       "      <td>\"OK, this isn't a good film by any stretch of ...</td>\n",
       "    </tr>\n",
       "    <tr>\n",
       "      <th>49988</th>\n",
       "      <td>\"15625_0\"</td>\n",
       "      <td>\"It is arguably the most boring film I've ever...</td>\n",
       "    </tr>\n",
       "    <tr>\n",
       "      <th>49989</th>\n",
       "      <td>\"35740_0\"</td>\n",
       "      <td>\"Oh joy,, another foreign torture/bloody movie...</td>\n",
       "    </tr>\n",
       "    <tr>\n",
       "      <th>49990</th>\n",
       "      <td>\"20947_0\"</td>\n",
       "      <td>\"In 1994, a year that gave us Forrest Gump, Pu...</td>\n",
       "    </tr>\n",
       "    <tr>\n",
       "      <th>49991</th>\n",
       "      <td>\"7432_0\"</td>\n",
       "      <td>\"http://eattheblinds.blogspot.com/&lt;br /&gt;&lt;br /&gt;...</td>\n",
       "    </tr>\n",
       "    <tr>\n",
       "      <th>49992</th>\n",
       "      <td>\"35236_0\"</td>\n",
       "      <td>\"Taste the Blood of Dracula marks a first for ...</td>\n",
       "    </tr>\n",
       "    <tr>\n",
       "      <th>49993</th>\n",
       "      <td>\"12075_0\"</td>\n",
       "      <td>\"There were some aspects of this movie I reall...</td>\n",
       "    </tr>\n",
       "    <tr>\n",
       "      <th>49994</th>\n",
       "      <td>\"23455_0\"</td>\n",
       "      <td>\"Look, I don't know what people have against E...</td>\n",
       "    </tr>\n",
       "    <tr>\n",
       "      <th>49995</th>\n",
       "      <td>\"18984_0\"</td>\n",
       "      <td>\"The original Man Eater by Joe D'Amato is some...</td>\n",
       "    </tr>\n",
       "    <tr>\n",
       "      <th>49996</th>\n",
       "      <td>\"16433_0\"</td>\n",
       "      <td>\"When Home Box Office was in it's early days m...</td>\n",
       "    </tr>\n",
       "    <tr>\n",
       "      <th>49997</th>\n",
       "      <td>\"16006_0\"</td>\n",
       "      <td>\"Griffin Dunne was born into a cultural family...</td>\n",
       "    </tr>\n",
       "    <tr>\n",
       "      <th>49998</th>\n",
       "      <td>\"40155_0\"</td>\n",
       "      <td>\"Not a bad story, but the low budget rears its...</td>\n",
       "    </tr>\n",
       "    <tr>\n",
       "      <th>49999</th>\n",
       "      <td>\"35270_0\"</td>\n",
       "      <td>\"This not-very-good mummy-alien flick does fea...</td>\n",
       "    </tr>\n",
       "  </tbody>\n",
       "</table>\n",
       "<p>50000 rows × 2 columns</p>\n",
       "</div>"
      ],
      "text/plain": [
       "              id                                             review\n",
       "0       \"9999_0\"  \"Watching Time Chasers, it obvious that it was...\n",
       "1      \"45057_0\"  \"I saw this film about 20 years ago and rememb...\n",
       "2      \"15561_0\"  \"Minor Spoilers<br /><br />In New York, Joan B...\n",
       "3       \"7161_0\"  \"I went to see this film with a great deal of ...\n",
       "4      \"43971_0\"  \"Yes, I agree with everyone on this site this ...\n",
       "5      \"36495_0\"  \"Jennifer Ehle was sparkling in \\\"Pride and Pr...\n",
       "6      \"49472_0\"  \"Amy Poehler is a terrific comedian on Saturda...\n",
       "7      \"36693_0\"  \"A plane carrying employees of a large biotech...\n",
       "8        \"316_0\"  \"A well made, gritty science fiction movie, it...\n",
       "9      \"32454_0\"  \"Incredibly dumb and utterly predictable story...\n",
       "10     \"37128_0\"  \"After reading the comments for this movie, I ...\n",
       "11     \"19439_0\"  \"It's hard to describe Elfen Lied to someone w...\n",
       "12     \"10760_0\"  \"Of all the bile-inducing vomitoriums to squee...\n",
       "13     \"15073_0\"  \"This is quite an underrated Hitchcock movie. ...\n",
       "14     \"33119_0\"  \"Being a huge Gary Oldman fan, I had high hope...\n",
       "15     \"38735_0\"  \"For the most part the acting was poorly done ...\n",
       "16     \"12041_0\"  \"Ram Gopal Varma does it again yet another mov...\n",
       "17     \"41565_0\"  \"I gave it 2 for some attempt at historical de...\n",
       "18     \"48612_0\"  \"I wanted to watch this one sense I am a fan o...\n",
       "19     \"17525_0\"  \"Che is a good film for chronicling the events...\n",
       "20     \"32062_0\"  \"This film is very disturbing. It reminded me ...\n",
       "21     \"48625_0\"  \"Let me put it this way. I love bad movies. I ...\n",
       "22     \"48176_0\"  \"From the combined ministries of Jack and Rexe...\n",
       "23     \"16232_0\"  \"Ghost World is one of the better teen or comm...\n",
       "24     \"12528_0\"  \"Outstanding film dealing with a 16 year old w...\n",
       "25     \"39976_0\"  \"This movie did play like a dream or maybe eve...\n",
       "26     \"25857_0\"  \"This film is supposedly based on the true acc...\n",
       "27     \"10552_0\"  \"I know that cartoons aimed towards adults gen...\n",
       "28     \"26437_0\"  \"...but what a disappointment. The acting was ...\n",
       "29     \"16262_0\"  \"As a long-time Holmes fan, and particularly o...\n",
       "...          ...                                                ...\n",
       "49970  \"25941_0\"  \"Wouldn't suit all tastes, but if you like it ...\n",
       "49971  \"36778_0\"  \"As a great fan of Dwight Yoakam's music as we...\n",
       "49972  \"37114_0\"  \"I'm a huge fan of Whoopi and have seen all of...\n",
       "49973  \"11962_0\"  \"It not very often that I go to the same movie...\n",
       "49974  \"32293_0\"  \"I, like most, worried that it would degrade \\...\n",
       "49975   \"7005_0\"  \"This movie makes no bones about what it is an...\n",
       "49976    \"112_0\"  \"The eyebrow-wagging Lionel Q. Deveraux (Grouc...\n",
       "49977  \"46123_0\"  \"There maybe spoilers in the following; if you...\n",
       "49978  \"10628_0\"  \"This is one of my favorite films. <br /><br /...\n",
       "49979  \"22572_0\"  \"A novelist who could find a funny side of a d...\n",
       "49980  \"40601_0\"  \"This is the worst drivel I've ever seen come ...\n",
       "49981  \"31509_0\"  \"\\\"Jaguar Lives\\\" is very slow and plodding en...\n",
       "49982  \"33703_0\"  \"This should have been better, much better. A ...\n",
       "49983   \"7379_0\"  \"Look at the number of film festival awards \\\"...\n",
       "49984  \"29370_0\"  \"This movie is one of the best of all time.Fir...\n",
       "49985  \"27604_0\"  \"The earliest episodes with John Amos as the c...\n",
       "49986   \"9197_0\"  \"I've been looking for this movie since I beca...\n",
       "49987  \"34018_0\"  \"OK, this isn't a good film by any stretch of ...\n",
       "49988  \"15625_0\"  \"It is arguably the most boring film I've ever...\n",
       "49989  \"35740_0\"  \"Oh joy,, another foreign torture/bloody movie...\n",
       "49990  \"20947_0\"  \"In 1994, a year that gave us Forrest Gump, Pu...\n",
       "49991   \"7432_0\"  \"http://eattheblinds.blogspot.com/<br /><br />...\n",
       "49992  \"35236_0\"  \"Taste the Blood of Dracula marks a first for ...\n",
       "49993  \"12075_0\"  \"There were some aspects of this movie I reall...\n",
       "49994  \"23455_0\"  \"Look, I don't know what people have against E...\n",
       "49995  \"18984_0\"  \"The original Man Eater by Joe D'Amato is some...\n",
       "49996  \"16433_0\"  \"When Home Box Office was in it's early days m...\n",
       "49997  \"16006_0\"  \"Griffin Dunne was born into a cultural family...\n",
       "49998  \"40155_0\"  \"Not a bad story, but the low budget rears its...\n",
       "49999  \"35270_0\"  \"This not-very-good mummy-alien flick does fea...\n",
       "\n",
       "[50000 rows x 2 columns]"
      ]
     },
     "execution_count": 22,
     "metadata": {},
     "output_type": "execute_result"
    }
   ],
   "source": [
    "unlabeled_train = pd.read_csv('../input/unlabeledTrainData.tsv',delimiter='\\t',quoting=3)\n",
    "unlabeled_train"
   ]
  },
  {
   "cell_type": "code",
   "execution_count": null,
   "metadata": {
    "collapsed": true
   },
   "outputs": [],
   "source": []
  }
 ],
 "metadata": {
  "kernelspec": {
   "display_name": "Python 3",
   "language": "python",
   "name": "python3"
  },
  "language_info": {
   "codemirror_mode": {
    "name": "ipython",
    "version": 3
   },
   "file_extension": ".py",
   "mimetype": "text/x-python",
   "name": "python",
   "nbconvert_exporter": "python",
   "pygments_lexer": "ipython3",
   "version": "3.6.3"
  }
 },
 "nbformat": 4,
 "nbformat_minor": 2
}
